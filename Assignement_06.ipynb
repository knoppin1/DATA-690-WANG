{
  "nbformat": 4,
  "nbformat_minor": 0,
  "metadata": {
    "colab": {
      "name": "Assignement_06.ipynb",
      "provenance": [],
      "authorship_tag": "ABX9TyNye+8+ULKoJTXEzGZxY1Bb",
      "include_colab_link": true
    },
    "kernelspec": {
      "name": "python3",
      "display_name": "Python 3"
    }
  },
  "cells": [
    {
      "cell_type": "markdown",
      "metadata": {
        "id": "view-in-github",
        "colab_type": "text"
      },
      "source": [
        "<a href=\"https://colab.research.google.com/github/knoppin1/DATA-690-WANG/blob/master/Assignement_06.ipynb\" target=\"_parent\"><img src=\"https://colab.research.google.com/assets/colab-badge.svg\" alt=\"Open In Colab\"/></a>"
      ]
    },
    {
      "cell_type": "markdown",
      "metadata": {
        "id": "KiAB9bwaTY5G"
      },
      "source": [
        "# Assignment 06 - Using Pandas\n",
        "### Ken Noppinger (knoppin1@umbc.edu)\n",
        "## Instructions\n",
        "- This assignment is a re-do of assignment 04. Use Pandas and functions instead.\n",
        "- Use the simple and convenient read_html() from Pandas to extract **HTML tables** from web pages. \n",
        "- Sample solution is here:\n",
        "- https://github.com/wcj365/python-stats-dataviz/blob/master/pandas_apply.ipynb\n",
        "- Make sure you user **Markdown cells** to document the process and its steps.\n",
        "## Requirements\n",
        "1. Use Pandas read_html() function to retrive the HTML tables as dataframes from the web page: https://www.genealogybranches.com/censuscosts.html\n",
        "2. Find out how many HTML tables Pandas retrieves from the web page. Find out which dataframe contain the data and use it for further processing.\n",
        "3. Display and explore the data (rows, columns, etc.) and determine the data quality (bad rows, bad columns, bad elements, null values, etc.)\n",
        "4. Document the data quality issues using a Markdown cell so the reader understands what the problems are.\n",
        "5. Write a function named cleanse_year() that takes a string as input and removes any asterisks in the string and return the cleansed string. Test the function by using test strings (for example, \"1989*\", \"20*10\")\n",
        "6. Cleanse the column \"Census Year\" using the function cleanse_year() and Pandas's apply() function.\n",
        "7. Repeat this process for column \"Total Population\", \t\"Census Cost\", \t\"Average Cost Per Person\". (define, test, and apply the function)\n",
        "8. After all columns are cleansed, save the clenased dataframe to a file named \"census_cost_cleansed.csv\" using CSV format.\n",
        "9. Use Pandas to read the saved cleansed file and explore to make sure it is clean. \n",
        "10. Updload both the Jupyter notebook and the cleanse data file to GitHub and submit the GitHub link in BlackBoard.\n",
        "\n",
        "\n",
        "1. Write code to open the text file [census_cost.txt](census_cost.txt) and read all lines into a list named **\"line_list\"**. Print line_list.\n",
        "2. Extract the first two lines and put them in a different list named \"top2_list\". You will need to use them later. Print the top2_list.\n",
        "3. Put the rest of the lines (containing useful data elements) in a new list named \"data_list\". Print data_list.\n",
        "4. Extract the column **\"Census Year\"** from data_list and assign them to a list named **year_list**. Remove the asterisk character from the last element \"2010*\". Print the cleansed year_list.\n",
        "5. Extract the **\"Total Population\"** column from the data_list and assign them to a list named **\"pop_list\"**. Remove the \",\" from the numbers since Python doesn't recognize them. Print the cleansed \"pop_list\".\n",
        "6. Extract the **\"Census Cost\"** column from the data_list and assign them to a list named **\"cost_list\"**. Remove the \",\", and \"\\$\", and \"Billion\".\n",
        "Make sure to add the \"0\"s to the numbers from which you removed \"Billion\". Print the cleansed cost_list.  \n",
        "7. Extract the **\"Average Cost per Person\"** column from the data_list and assign them to a list named **\"avg_list\"**. Remove the \"cents\", and \"$\".\n",
        "Make sure to divide the numbers in cents by 100 so that all numbers are measured in dollar. Print the cleansed avg_list.\n",
        "8. Coalesce the cleansed data and save them to a text file named **\"census_cost.csv\"**. The new file should look similar to the original source file except that it is in comma-delimited format and the numbers have been cleansed. The top two lines from the original file should be retained in the new file.\n",
        "\n",
        "---"
      ]
    },
    {
      "cell_type": "code",
      "metadata": {
        "id": "F1mYkiS9TuUq"
      },
      "source": [
        "import pandas as pd"
      ],
      "execution_count": 1,
      "outputs": []
    },
    {
      "cell_type": "markdown",
      "metadata": {
        "id": "zbbq_AWmVQbi"
      },
      "source": [
        "## **1 -  Read HTML tables**\n",
        "- Use Pandas read_html() function to retrive the HTML tables as dataframes from the web page: https://www.genealogybranches.com/censuscosts.html\n",
        "-  Read all HTML tables into a list named **census_cost_data**. \n",
        "\n"
      ]
    },
    {
      "cell_type": "code",
      "metadata": {
        "id": "lK2alBJvOgT9",
        "outputId": "d75e9c36-ef65-43b8-f978-271bdcd187e2",
        "colab": {
          "base_uri": "https://localhost:8080/",
          "height": 34
        }
      },
      "source": [
        "census_cost_data = pd.read_html(\"https://www.genealogybranches.com/censuscosts.html\")\n",
        "type(census_cost_data)"
      ],
      "execution_count": 2,
      "outputs": [
        {
          "output_type": "execute_result",
          "data": {
            "text/plain": [
              "list"
            ]
          },
          "metadata": {
            "tags": []
          },
          "execution_count": 2
        }
      ]
    },
    {
      "cell_type": "markdown",
      "metadata": {
        "id": "DoS8lf6vPJ-p"
      },
      "source": [
        "## **2 - Determine # of HTML tables Pandas retrieves from the web page.**"
      ]
    },
    {
      "cell_type": "code",
      "metadata": {
        "id": "qsnwWKdUSaJ0",
        "outputId": "a967d6a1-d6c1-4dba-ac1d-83b5f761d7a7",
        "colab": {
          "base_uri": "https://localhost:8080/",
          "height": 34
        }
      },
      "source": [
        "len(census_cost_data)"
      ],
      "execution_count": 3,
      "outputs": [
        {
          "output_type": "execute_result",
          "data": {
            "text/plain": [
              "2"
            ]
          },
          "metadata": {
            "tags": []
          },
          "execution_count": 3
        }
      ]
    },
    {
      "cell_type": "code",
      "metadata": {
        "id": "QQdH9DXgO7NR",
        "outputId": "fddce1bf-1606-4c50-fdc7-6b343b172e0e",
        "colab": {
          "base_uri": "https://localhost:8080/",
          "height": 476
        }
      },
      "source": [
        "census_cost_data"
      ],
      "execution_count": 4,
      "outputs": [
        {
          "output_type": "execute_result",
          "data": {
            "text/plain": [
              "[              0                 1               2                        3\n",
              " 0   Census Year  Total Population     Census Cost  Average Cost Per Person\n",
              " 1          1790           3929214         $44,377               1.13 cents\n",
              " 2          1800           5308483         $66,109               1.24 cents\n",
              " 3          1810           7239881        $178,445               2.46 cents\n",
              " 4          1820           9633822        $208,526               2.16 cents\n",
              " 5          1830          12866020        $378,545               2.94 cents\n",
              " 6          1840          17069458        $833,371               4.88 cents\n",
              " 7          1850          23191876      $1,423,351               6.14 cents\n",
              " 8          1860          31443321      $1,969,377               6.26 cents\n",
              " 9          1870          38558371      $3,421,198               8.87 cents\n",
              " 10         1880          50155783      $5,790,678              11.54 cents\n",
              " 11         1890          62979766     $11,547,127              18.33 cents\n",
              " 12         1900          76303387     $11,854,000              15.54 cents\n",
              " 13         1910          91972266     $15,968,000              17.07 cents\n",
              " 14         1920         105710620     $25,117,000              23.76 cents\n",
              " 15         1930         122775046     $40,156,000              32.71 cents\n",
              " 16         1940         131669275     $67,527,000              51.29 cents\n",
              " 17         1950         151325798     $91,462,000              60.44 cents\n",
              " 18         1960         179323175    $127,934,000              71.34 cents\n",
              " 19         1970         203302031    $247,653,000                    $1.22\n",
              " 20         1980         226542199  $1,078,488,000                    $4.76\n",
              " 21         1990         248718301  $2,492,830,000                   $10.02\n",
              " 22         2000         281421906    $4.5 Billion                   $15.99\n",
              " 23        2010*         308745538     $13 Billion                   $42.11,\n",
              "                                                    0\n",
              " 0  The U.S. population reached 300,000,000 on 17 ...]"
            ]
          },
          "metadata": {
            "tags": []
          },
          "execution_count": 4
        }
      ]
    },
    {
      "cell_type": "markdown",
      "metadata": {
        "id": "I3bAZoFcUy-l"
      },
      "source": [
        "The census data is a list containing two dataframes.  The census data of interest is in the first datframe, so save that as **census_df**"
      ]
    },
    {
      "cell_type": "code",
      "metadata": {
        "id": "atze_6NvU-Sk",
        "outputId": "24d8c4f5-2b45-431a-de78-67b0e87bb422",
        "colab": {
          "base_uri": "https://localhost:8080/",
          "height": 204
        }
      },
      "source": [
        "census_df = census_cost_data[0]\n",
        "census_df.head(5)"
      ],
      "execution_count": 5,
      "outputs": [
        {
          "output_type": "execute_result",
          "data": {
            "text/html": [
              "<div>\n",
              "<style scoped>\n",
              "    .dataframe tbody tr th:only-of-type {\n",
              "        vertical-align: middle;\n",
              "    }\n",
              "\n",
              "    .dataframe tbody tr th {\n",
              "        vertical-align: top;\n",
              "    }\n",
              "\n",
              "    .dataframe thead th {\n",
              "        text-align: right;\n",
              "    }\n",
              "</style>\n",
              "<table border=\"1\" class=\"dataframe\">\n",
              "  <thead>\n",
              "    <tr style=\"text-align: right;\">\n",
              "      <th></th>\n",
              "      <th>0</th>\n",
              "      <th>1</th>\n",
              "      <th>2</th>\n",
              "      <th>3</th>\n",
              "    </tr>\n",
              "  </thead>\n",
              "  <tbody>\n",
              "    <tr>\n",
              "      <th>0</th>\n",
              "      <td>Census Year</td>\n",
              "      <td>Total Population</td>\n",
              "      <td>Census Cost</td>\n",
              "      <td>Average Cost Per Person</td>\n",
              "    </tr>\n",
              "    <tr>\n",
              "      <th>1</th>\n",
              "      <td>1790</td>\n",
              "      <td>3929214</td>\n",
              "      <td>$44,377</td>\n",
              "      <td>1.13 cents</td>\n",
              "    </tr>\n",
              "    <tr>\n",
              "      <th>2</th>\n",
              "      <td>1800</td>\n",
              "      <td>5308483</td>\n",
              "      <td>$66,109</td>\n",
              "      <td>1.24 cents</td>\n",
              "    </tr>\n",
              "    <tr>\n",
              "      <th>3</th>\n",
              "      <td>1810</td>\n",
              "      <td>7239881</td>\n",
              "      <td>$178,445</td>\n",
              "      <td>2.46 cents</td>\n",
              "    </tr>\n",
              "    <tr>\n",
              "      <th>4</th>\n",
              "      <td>1820</td>\n",
              "      <td>9633822</td>\n",
              "      <td>$208,526</td>\n",
              "      <td>2.16 cents</td>\n",
              "    </tr>\n",
              "  </tbody>\n",
              "</table>\n",
              "</div>"
            ],
            "text/plain": [
              "             0                 1            2                        3\n",
              "0  Census Year  Total Population  Census Cost  Average Cost Per Person\n",
              "1         1790           3929214      $44,377               1.13 cents\n",
              "2         1800           5308483      $66,109               1.24 cents\n",
              "3         1810           7239881     $178,445               2.46 cents\n",
              "4         1820           9633822     $208,526               2.16 cents"
            ]
          },
          "metadata": {
            "tags": []
          },
          "execution_count": 5
        }
      ]
    },
    {
      "cell_type": "markdown",
      "metadata": {
        "id": "BxBWjSM_Rgv7"
      },
      "source": [
        "First row contains column headers, so make that row the header for the dataframe"
      ]
    },
    {
      "cell_type": "code",
      "metadata": {
        "id": "XnlmDf-VVCvn",
        "outputId": "2f03ebba-0588-4f5a-c368-9bee3bb90bcc",
        "colab": {
          "base_uri": "https://localhost:8080/",
          "height": 204
        }
      },
      "source": [
        "census_df.columns = census_df.iloc[0]\n",
        "census_df.drop([0], inplace=True)\n",
        "census_df.reset_index(drop=True, inplace=True)\n",
        "census_df.head(5)"
      ],
      "execution_count": 6,
      "outputs": [
        {
          "output_type": "execute_result",
          "data": {
            "text/html": [
              "<div>\n",
              "<style scoped>\n",
              "    .dataframe tbody tr th:only-of-type {\n",
              "        vertical-align: middle;\n",
              "    }\n",
              "\n",
              "    .dataframe tbody tr th {\n",
              "        vertical-align: top;\n",
              "    }\n",
              "\n",
              "    .dataframe thead th {\n",
              "        text-align: right;\n",
              "    }\n",
              "</style>\n",
              "<table border=\"1\" class=\"dataframe\">\n",
              "  <thead>\n",
              "    <tr style=\"text-align: right;\">\n",
              "      <th></th>\n",
              "      <th>Census Year</th>\n",
              "      <th>Total Population</th>\n",
              "      <th>Census Cost</th>\n",
              "      <th>Average Cost Per Person</th>\n",
              "    </tr>\n",
              "  </thead>\n",
              "  <tbody>\n",
              "    <tr>\n",
              "      <th>0</th>\n",
              "      <td>1790</td>\n",
              "      <td>3929214</td>\n",
              "      <td>$44,377</td>\n",
              "      <td>1.13 cents</td>\n",
              "    </tr>\n",
              "    <tr>\n",
              "      <th>1</th>\n",
              "      <td>1800</td>\n",
              "      <td>5308483</td>\n",
              "      <td>$66,109</td>\n",
              "      <td>1.24 cents</td>\n",
              "    </tr>\n",
              "    <tr>\n",
              "      <th>2</th>\n",
              "      <td>1810</td>\n",
              "      <td>7239881</td>\n",
              "      <td>$178,445</td>\n",
              "      <td>2.46 cents</td>\n",
              "    </tr>\n",
              "    <tr>\n",
              "      <th>3</th>\n",
              "      <td>1820</td>\n",
              "      <td>9633822</td>\n",
              "      <td>$208,526</td>\n",
              "      <td>2.16 cents</td>\n",
              "    </tr>\n",
              "    <tr>\n",
              "      <th>4</th>\n",
              "      <td>1830</td>\n",
              "      <td>12866020</td>\n",
              "      <td>$378,545</td>\n",
              "      <td>2.94 cents</td>\n",
              "    </tr>\n",
              "  </tbody>\n",
              "</table>\n",
              "</div>"
            ],
            "text/plain": [
              "0 Census Year Total Population Census Cost Average Cost Per Person\n",
              "0        1790          3929214     $44,377              1.13 cents\n",
              "1        1800          5308483     $66,109              1.24 cents\n",
              "2        1810          7239881    $178,445              2.46 cents\n",
              "3        1820          9633822    $208,526              2.16 cents\n",
              "4        1830         12866020    $378,545              2.94 cents"
            ]
          },
          "metadata": {
            "tags": []
          },
          "execution_count": 6
        }
      ]
    },
    {
      "cell_type": "markdown",
      "metadata": {
        "id": "alfQPZORW1sM"
      },
      "source": [
        "## **3 - Explore the data** "
      ]
    },
    {
      "cell_type": "markdown",
      "metadata": {
        "id": "Q15GcnU1XRUW"
      },
      "source": [
        "### Number of rows and columns"
      ]
    },
    {
      "cell_type": "code",
      "metadata": {
        "id": "t9T2X6NTVWKu",
        "outputId": "18d1270f-a0cc-48b0-aef3-90e206b82947",
        "colab": {
          "base_uri": "https://localhost:8080/",
          "height": 34
        }
      },
      "source": [
        "census_df.shape"
      ],
      "execution_count": 7,
      "outputs": [
        {
          "output_type": "execute_result",
          "data": {
            "text/plain": [
              "(23, 4)"
            ]
          },
          "metadata": {
            "tags": []
          },
          "execution_count": 7
        }
      ]
    },
    {
      "cell_type": "markdown",
      "metadata": {
        "id": "lCJpx-FKXbM-"
      },
      "source": [
        "23 rows and 4 columns"
      ]
    },
    {
      "cell_type": "markdown",
      "metadata": {
        "id": "vqtjPJfJdNYD"
      },
      "source": [
        "### Check dataframe for nulls\n",
        "\n",
        "Reference - https://stackoverflow.com/questions/29530232/how-to-check-if-any-value-is-nan-in-a-pandas-dataframe"
      ]
    },
    {
      "cell_type": "code",
      "metadata": {
        "id": "TOFiDMCbYNpV",
        "outputId": "73926622-9d04-419e-8232-f5d6588e6526",
        "colab": {
          "base_uri": "https://localhost:8080/",
          "height": 34
        }
      },
      "source": [
        "census_df.isnull().values.any()"
      ],
      "execution_count": 8,
      "outputs": [
        {
          "output_type": "execute_result",
          "data": {
            "text/plain": [
              "False"
            ]
          },
          "metadata": {
            "tags": []
          },
          "execution_count": 8
        }
      ]
    },
    {
      "cell_type": "markdown",
      "metadata": {
        "id": "1ZUEdCHSfmuO"
      },
      "source": [
        "Dataframe doesn't contain any nulls requiring cleanup."
      ]
    },
    {
      "cell_type": "markdown",
      "metadata": {
        "id": "DaLxOrLWcw1B"
      },
      "source": [
        "### Check dataframe columns and rows for bad data"
      ]
    },
    {
      "cell_type": "code",
      "metadata": {
        "id": "qhBgJa5PXt-O",
        "outputId": "1196f5da-e672-4a22-f58d-8bc363c05b2d",
        "colab": {
          "base_uri": "https://localhost:8080/",
          "height": 119
        }
      },
      "source": [
        "census_df.dtypes"
      ],
      "execution_count": 9,
      "outputs": [
        {
          "output_type": "execute_result",
          "data": {
            "text/plain": [
              "0\n",
              "Census Year                object\n",
              "Total Population           object\n",
              "Census Cost                object\n",
              "Average Cost Per Person    object\n",
              "dtype: object"
            ]
          },
          "metadata": {
            "tags": []
          },
          "execution_count": 9
        }
      ]
    },
    {
      "cell_type": "markdown",
      "metadata": {
        "id": "l8p6MilTcLMB"
      },
      "source": [
        "Note the columns are all objects.  They will need to be cleaned up and cast to proper data dtypes."
      ]
    },
    {
      "cell_type": "code",
      "metadata": {
        "id": "8f886iKdXY9I",
        "outputId": "ed996275-7b6b-4d57-bf38-154a5eeac70d",
        "colab": {
          "base_uri": "https://localhost:8080/",
          "height": 173
        }
      },
      "source": [
        "census_df.describe()"
      ],
      "execution_count": 10,
      "outputs": [
        {
          "output_type": "execute_result",
          "data": {
            "text/html": [
              "<div>\n",
              "<style scoped>\n",
              "    .dataframe tbody tr th:only-of-type {\n",
              "        vertical-align: middle;\n",
              "    }\n",
              "\n",
              "    .dataframe tbody tr th {\n",
              "        vertical-align: top;\n",
              "    }\n",
              "\n",
              "    .dataframe thead th {\n",
              "        text-align: right;\n",
              "    }\n",
              "</style>\n",
              "<table border=\"1\" class=\"dataframe\">\n",
              "  <thead>\n",
              "    <tr style=\"text-align: right;\">\n",
              "      <th></th>\n",
              "      <th>Census Year</th>\n",
              "      <th>Total Population</th>\n",
              "      <th>Census Cost</th>\n",
              "      <th>Average Cost Per Person</th>\n",
              "    </tr>\n",
              "  </thead>\n",
              "  <tbody>\n",
              "    <tr>\n",
              "      <th>count</th>\n",
              "      <td>23</td>\n",
              "      <td>23</td>\n",
              "      <td>23</td>\n",
              "      <td>23</td>\n",
              "    </tr>\n",
              "    <tr>\n",
              "      <th>unique</th>\n",
              "      <td>23</td>\n",
              "      <td>23</td>\n",
              "      <td>23</td>\n",
              "      <td>23</td>\n",
              "    </tr>\n",
              "    <tr>\n",
              "      <th>top</th>\n",
              "      <td>1900</td>\n",
              "      <td>7239881</td>\n",
              "      <td>$3,421,198</td>\n",
              "      <td>60.44 cents</td>\n",
              "    </tr>\n",
              "    <tr>\n",
              "      <th>freq</th>\n",
              "      <td>1</td>\n",
              "      <td>1</td>\n",
              "      <td>1</td>\n",
              "      <td>1</td>\n",
              "    </tr>\n",
              "  </tbody>\n",
              "</table>\n",
              "</div>"
            ],
            "text/plain": [
              "0      Census Year Total Population Census Cost Average Cost Per Person\n",
              "count           23               23          23                      23\n",
              "unique          23               23          23                      23\n",
              "top           1900          7239881  $3,421,198             60.44 cents\n",
              "freq             1                1           1                       1"
            ]
          },
          "metadata": {
            "tags": []
          },
          "execution_count": 10
        }
      ]
    },
    {
      "cell_type": "markdown",
      "metadata": {
        "id": "6z6gkQicfxHs"
      },
      "source": [
        ""
      ]
    },
    {
      "cell_type": "markdown",
      "metadata": {
        "id": "ji5da5nHXigW"
      },
      "source": [
        "### Bad rows"
      ]
    },
    {
      "cell_type": "code",
      "metadata": {
        "id": "JvctzbznX4lD"
      },
      "source": [
        ""
      ],
      "execution_count": 10,
      "outputs": []
    }
  ]
}