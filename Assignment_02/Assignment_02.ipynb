{
  "nbformat": 4,
  "nbformat_minor": 0,
  "metadata": {
    "kernelspec": {
      "display_name": "Python 3",
      "language": "python",
      "name": "python3"
    },
    "language_info": {
      "codemirror_mode": {
        "name": "ipython",
        "version": 3
      },
      "file_extension": ".py",
      "mimetype": "text/x-python",
      "name": "python",
      "nbconvert_exporter": "python",
      "pygments_lexer": "ipython3",
      "version": "3.8.1"
    },
    "colab": {
      "name": "Assignment_02.ipynb",
      "provenance": [],
      "include_colab_link": true
    }
  },
  "cells": [
    {
      "cell_type": "markdown",
      "metadata": {
        "id": "view-in-github",
        "colab_type": "text"
      },
      "source": [
        "<a href=\"https://colab.research.google.com/github/knoppin1/DATA-690-WANG/blob/master/Assignment_02/Assignment_02.ipynb\" target=\"_parent\"><img src=\"https://colab.research.google.com/assets/colab-badge.svg\" alt=\"Open In Colab\"/></a>"
      ]
    },
    {
      "cell_type": "markdown",
      "metadata": {
        "id": "VfZYfHHd-Rqt",
        "colab_type": "text"
      },
      "source": [
        "# DATA-609: Assignment 02\n",
        "\n",
        "### Ken Noppinger (knoppin1@umbc.edu)\n",
        "\n",
        "## Requirements\n",
        "\n",
        "Prompt a user to enter 10 integers. If the user enters anything other than integers, remind her that only integers are allowed and let her retry. Don't allow the user to enter more than 10 or less than 10 integers. Display the 10 integers back to the user at the end. Calculate the following statistics from the 10 integers entered:\n",
        "\n",
        "- Minimum\n",
        "- Maximum\n",
        "- Range\n",
        "- Mean\n",
        "- Variance\n",
        "- Standard Deviation\n",
        "\n",
        "Note:\n",
        "\n",
        "Use the basic Python concepts and methods. Special Python libraries such as statistics, scipy, or numpy are not allowed. You may need to use:\n",
        "\n",
        "- loops (finite and/or infinite loop)\n",
        "- break/continue\n",
        "- try/except\n",
        "- input() function\n",
        "- int() function\n",
        "\n",
        "Implement the solution in the following two different formats:\n",
        "\n",
        "- A Jupyter Notebook (.ipynb)\n",
        "- A Python script (.py)\n",
        "\n",
        "Your source code should be well formatted and easy to read and understand.\n",
        "\n",
        "Provide good comments/documentations:\n",
        "\n",
        "Use both Markdown and comments in the Jupyter Notebook.\n",
        "Use comments in the Python script.\n",
        "Your user prompts, use inputs and output displays should be nicely formatted when users run your program.\n",
        "\n",
        "Create a subfolder named \"Assignment-02\" in your GitHub repository (WANG-690-FALL-2020) and upload the two files to the subfolder.\n",
        "\n",
        "Copy your GitHub repository URL to your assignment submission in Blackboard. No files should be uploaded to the BB.\n",
        "\n",
        "-------"
      ]
    },
    {
      "cell_type": "markdown",
      "metadata": {
        "id": "IpVLwHXX-Rqu",
        "colab_type": "text"
      },
      "source": [
        "### Reference Used\n",
        "\n",
        "https://stackabuse.com/calculating-variance-and-standard-deviation-in-python/"
      ]
    },
    {
      "cell_type": "markdown",
      "metadata": {
        "id": "92DIFfrW-Rqv",
        "colab_type": "text"
      },
      "source": [
        "## Function: get_input_list\n",
        "\n",
        "Prompts user for a list of integers\n",
        "- Inputs: Number of integers to specify in the input\n",
        "- Returns: Raw unvalidated list of inputs"
      ]
    },
    {
      "cell_type": "code",
      "metadata": {
        "id": "JxyZX4VF-Rqw",
        "colab_type": "code",
        "colab": {}
      },
      "source": [
        "def get_input_list(num_elements=10):\n",
        "    input_string = input(f\"Enter {num_elements} integers:\")\n",
        "    return input_string.split()"
      ],
      "execution_count": null,
      "outputs": []
    },
    {
      "cell_type": "markdown",
      "metadata": {
        "id": "wkaqC-TE-Rq1",
        "colab_type": "text"
      },
      "source": [
        "## Function: validate_integers\n",
        "Verifies if all inputs are integers\n",
        "- Inputs: List of raw unvalidated user inputs\n",
        "- Returns: True if all use inputs are integers; False, otherwise"
      ]
    },
    {
      "cell_type": "code",
      "metadata": {
        "id": "gBjJv1yv-Rq2",
        "colab_type": "code",
        "colab": {}
      },
      "source": [
        "def validate_integers(input_list):\n",
        "    valid_status = False\n",
        "    try:\n",
        "        for item in input_list:\n",
        "            item_int = int(item)\n",
        "        valid_status = True\n",
        "    except:\n",
        "        print(\"Invalid input: Only integers are allowed in the list\\n\")\n",
        "    return valid_status    "
      ],
      "execution_count": null,
      "outputs": []
    },
    {
      "cell_type": "markdown",
      "metadata": {
        "id": "ReJPvW33-Rq5",
        "colab_type": "text"
      },
      "source": [
        "## Function: validate_list_length\n",
        "Verifies the length of input list\n",
        "- Inputs: List of raw unvalidated user inputs and expected length of the list\n",
        "- Returns: True if length of list matches expectation; False, otherwise"
      ]
    },
    {
      "cell_type": "code",
      "metadata": {
        "id": "WqMC_fOP-Rq6",
        "colab_type": "code",
        "colab": {}
      },
      "source": [
        "def validate_list_length(input_list, target_length):\n",
        "    valid_status = False\n",
        "    if len(input_list)==target_length:\n",
        "        valid_status = True\n",
        "    else:\n",
        "        print(f\"Invalid input: {target_length} integers are required in the list\\n\")\n",
        "    return valid_status"
      ],
      "execution_count": null,
      "outputs": []
    },
    {
      "cell_type": "markdown",
      "metadata": {
        "id": "wIsZ-Zrj-Rq-",
        "colab_type": "text"
      },
      "source": [
        "## Collect and validate inputs"
      ]
    },
    {
      "cell_type": "code",
      "metadata": {
        "id": "QJSdfuo0-Rq-",
        "colab_type": "code",
        "colab": {},
        "outputId": "2b6ca085-cfdb-4f12-886a-cf0c66722a15"
      },
      "source": [
        "valid_inputs = False\n",
        "num_integers = 10\n",
        "while not valid_inputs:\n",
        "    inputs = get_input_list(num_integers)\n",
        "    if validate_integers(inputs) and validate_list_length(inputs,num_integers):\n",
        "        print(\"Input validation check successful\")\n",
        "        valid_inputs = True\n",
        "validated_inputs = inputs"
      ],
      "execution_count": null,
      "outputs": [
        {
          "output_type": "stream",
          "text": [
            "Enter 10 integers: The cow jumped over the moon\n"
          ],
          "name": "stdin"
        },
        {
          "output_type": "stream",
          "text": [
            "Invalid input: Only integers are allowed in the list\n",
            "\n"
          ],
          "name": "stdout"
        },
        {
          "output_type": "stream",
          "text": [
            "Enter 10 integers: 1 2 3 \n"
          ],
          "name": "stdin"
        },
        {
          "output_type": "stream",
          "text": [
            "Invalid input: 10 integers are required in the list\n",
            "\n"
          ],
          "name": "stdout"
        },
        {
          "output_type": "stream",
          "text": [
            "Enter 10 integers: 77 2 44 66 47 91 3 80 75 7\n"
          ],
          "name": "stdin"
        },
        {
          "output_type": "stream",
          "text": [
            "Input validation check successful\n"
          ],
          "name": "stdout"
        }
      ]
    },
    {
      "cell_type": "markdown",
      "metadata": {
        "id": "73pOZElk-RrD",
        "colab_type": "text"
      },
      "source": [
        "## Function: convert_to_integers\n",
        "\n",
        "Converts a list of raw inputs to integer list.\n",
        "- Inputs: A validated list of inputs\n",
        "- Returns: A list of the inputs converted to integers"
      ]
    },
    {
      "cell_type": "code",
      "metadata": {
        "id": "TJl8akYE-RrE",
        "colab_type": "code",
        "colab": {}
      },
      "source": [
        "def convert_to_integers(valid_list):\n",
        "    int_list = []\n",
        "    for num in valid_list:\n",
        "        int_list.append(int(num))\n",
        "    return int_list"
      ],
      "execution_count": null,
      "outputs": []
    },
    {
      "cell_type": "code",
      "metadata": {
        "id": "YGs3i-uq-RrI",
        "colab_type": "code",
        "colab": {},
        "outputId": "560161da-15db-4871-e7e7-ecbcba8ac27b"
      },
      "source": [
        "valid_integers_list = convert_to_integers(validated_inputs)\n",
        "valid_integers_list"
      ],
      "execution_count": null,
      "outputs": [
        {
          "output_type": "execute_result",
          "data": {
            "text/plain": [
              "[77, 2, 44, 66, 47, 91, 3, 80, 75, 7]"
            ]
          },
          "metadata": {
            "tags": []
          },
          "execution_count": 6
        }
      ]
    },
    {
      "cell_type": "code",
      "metadata": {
        "id": "FI1btHWq-RrM",
        "colab_type": "code",
        "colab": {},
        "outputId": "6478723d-6fc4-45f9-8db3-d7e523aeadab"
      },
      "source": [
        "type(valid_integers_list)"
      ],
      "execution_count": null,
      "outputs": [
        {
          "output_type": "execute_result",
          "data": {
            "text/plain": [
              "list"
            ]
          },
          "metadata": {
            "tags": []
          },
          "execution_count": 7
        }
      ]
    },
    {
      "cell_type": "markdown",
      "metadata": {
        "id": "lVZ8d6eV-RrQ",
        "colab_type": "text"
      },
      "source": [
        "## Function: minimum \n",
        "\n",
        "Returns the minimum value in a given integer list\n"
      ]
    },
    {
      "cell_type": "code",
      "metadata": {
        "id": "W7xBugG6-RrR",
        "colab_type": "code",
        "colab": {}
      },
      "source": [
        "def minimum(data):\n",
        "    min_integer = data[0]\n",
        "    for num in data:\n",
        "        if num < min_integer:\n",
        "            min_integer = num\n",
        "    return min_integer    "
      ],
      "execution_count": null,
      "outputs": []
    },
    {
      "cell_type": "markdown",
      "metadata": {
        "id": "kJEARTr4-RrV",
        "colab_type": "text"
      },
      "source": [
        "## Function: maximum \n",
        "\n",
        "Returns the maximum value in a given integer list\n"
      ]
    },
    {
      "cell_type": "code",
      "metadata": {
        "id": "9xdtnQEy-RrW",
        "colab_type": "code",
        "colab": {}
      },
      "source": [
        "def maximum(data):\n",
        "    max_integer = data[0]\n",
        "    for num in data:\n",
        "        if num > max_integer:\n",
        "            max_integer = num\n",
        "    return max_integer    "
      ],
      "execution_count": null,
      "outputs": []
    },
    {
      "cell_type": "markdown",
      "metadata": {
        "id": "LGryOp2e-RrY",
        "colab_type": "text"
      },
      "source": [
        "## Function: integer_range \n",
        "\n",
        "Returns a tuple with the minimum and maximums values in a given integer list"
      ]
    },
    {
      "cell_type": "code",
      "metadata": {
        "id": "DtDyaK0q-RrZ",
        "colab_type": "code",
        "colab": {}
      },
      "source": [
        "def integer_range(data):\n",
        "    \n",
        "    return minimum(data), maximum(data) "
      ],
      "execution_count": null,
      "outputs": []
    },
    {
      "cell_type": "markdown",
      "metadata": {
        "id": "K8zSotBJ-Rrd",
        "colab_type": "text"
      },
      "source": [
        "## Display minimum, maximum, and range of the integers list"
      ]
    },
    {
      "cell_type": "code",
      "metadata": {
        "id": "1zupg4L_-Rre",
        "colab_type": "code",
        "colab": {},
        "outputId": "1cdb6484-5916-41ef-d899-1821e18771ba"
      },
      "source": [
        "print(f\"Minimum: {minimum(valid_integers_list)}\") \n",
        "print(f\"Maximum: {max(valid_integers_list)}\") \n",
        "print(f\"Range: {integer_range(valid_integers_list)}\") "
      ],
      "execution_count": null,
      "outputs": [
        {
          "output_type": "stream",
          "text": [
            "Minimum: 2\n",
            "Maximum: 91\n",
            "Range: (2, 91)\n"
          ],
          "name": "stdout"
        }
      ]
    },
    {
      "cell_type": "markdown",
      "metadata": {
        "id": "-0A2HDzX-Rrh",
        "colab_type": "text"
      },
      "source": [
        "## Function: total\n",
        "\n",
        "Return the sum for a given list of values."
      ]
    },
    {
      "cell_type": "code",
      "metadata": {
        "id": "qgtkrtNe-Rri",
        "colab_type": "code",
        "colab": {}
      },
      "source": [
        "def total(data):\n",
        "    total = 0\n",
        "    for num in data:\n",
        "        total += num\n",
        "    return total"
      ],
      "execution_count": null,
      "outputs": []
    },
    {
      "cell_type": "markdown",
      "metadata": {
        "id": "j8mD0FKj-Rrl",
        "colab_type": "text"
      },
      "source": [
        "## Function: mean\n",
        "\n",
        "Return the mean of a given list of values."
      ]
    },
    {
      "cell_type": "code",
      "metadata": {
        "id": "hru5QOn1-Rrl",
        "colab_type": "code",
        "colab": {}
      },
      "source": [
        "def mean(data):\n",
        "    mean = total(data) / len(data)\n",
        "    return mean"
      ],
      "execution_count": null,
      "outputs": []
    },
    {
      "cell_type": "code",
      "metadata": {
        "id": "qq8SmzPY-Rro",
        "colab_type": "code",
        "colab": {},
        "outputId": "96418e7e-ef93-4285-bd2a-308651ac7ed0"
      },
      "source": [
        "print(f\"Mean: {mean(valid_integers_list)}\") "
      ],
      "execution_count": null,
      "outputs": [
        {
          "output_type": "stream",
          "text": [
            "Mean: 49.2\n"
          ],
          "name": "stdout"
        }
      ]
    },
    {
      "cell_type": "markdown",
      "metadata": {
        "id": "cfB4aRPY-Rrr",
        "colab_type": "text"
      },
      "source": [
        "## Function: variance\n",
        "\n",
        "Return the variance (assumed population variance) of given values."
      ]
    },
    {
      "cell_type": "code",
      "metadata": {
        "id": "hV_o7qoF-Rrs",
        "colab_type": "code",
        "colab": {}
      },
      "source": [
        "def variance(data):\n",
        "    \n",
        "    # Number of elements\n",
        "    n = len(data)\n",
        "    \n",
        "    # Mean of the data\n",
        "    m = mean(data)\n",
        "\n",
        "    # Square deviations\n",
        "    deviations = [(x - m) ** 2 for x in data]\n",
        "    \n",
        "    # Variance - total the deviations and divide by number of elements in the list\n",
        "    variance = total(deviations) / n\n",
        "    \n",
        "    return variance"
      ],
      "execution_count": null,
      "outputs": []
    },
    {
      "cell_type": "code",
      "metadata": {
        "id": "6yU882m3-Rrv",
        "colab_type": "code",
        "colab": {},
        "outputId": "d04cc2b7-9b15-42bb-a1e9-6acc21317bca"
      },
      "source": [
        "print(f\"Variance: {variance(valid_integers_list)}\")"
      ],
      "execution_count": null,
      "outputs": [
        {
          "output_type": "stream",
          "text": [
            "Variance: 1059.1599999999999\n"
          ],
          "name": "stdout"
        }
      ]
    },
    {
      "cell_type": "markdown",
      "metadata": {
        "id": "f7IrKcbr-Rry",
        "colab_type": "text"
      },
      "source": [
        "## Function: std_deviation\n",
        "\n",
        "Return the standard deviation of given values."
      ]
    },
    {
      "cell_type": "code",
      "metadata": {
        "id": "C8qzLVw8-Rrz",
        "colab_type": "code",
        "colab": {}
      },
      "source": [
        "def std_deviation(data):\n",
        "    \n",
        "    # Square root of variance\n",
        "    std_dev = variance(data) ** .5\n",
        "    \n",
        "    return std_dev"
      ],
      "execution_count": null,
      "outputs": []
    },
    {
      "cell_type": "code",
      "metadata": {
        "id": "DmNZ6Z40-Rr2",
        "colab_type": "code",
        "colab": {},
        "outputId": "1e4d6d8a-53b3-48b3-a2fa-22e0ab02ebbf"
      },
      "source": [
        "print(f\"Standard Deviation: {std_deviation(valid_integers_list)}\") "
      ],
      "execution_count": null,
      "outputs": [
        {
          "output_type": "stream",
          "text": [
            "Standard Deviation: 32.544738438033264\n"
          ],
          "name": "stdout"
        }
      ]
    },
    {
      "cell_type": "markdown",
      "metadata": {
        "id": "CPvw4E_u-Rr6",
        "colab_type": "text"
      },
      "source": [
        "## Report\n",
        "\n",
        "Print the minimum, maximum, range, mean, variance, standard deviation, and the input list of integers."
      ]
    },
    {
      "cell_type": "code",
      "metadata": {
        "id": "WVDSE5Ds-Rr6",
        "colab_type": "code",
        "colab": {},
        "outputId": "5efc0575-fb05-4bb7-e361-ba5424363459"
      },
      "source": [
        "print(f\"Minimum\\t\\t: {minimum(valid_integers_list)}\") \n",
        "print(f\"Maximum\\t\\t: {maximum(valid_integers_list)}\") \n",
        "print(f\"Range\\t\\t: {integer_range(valid_integers_list)}\") \n",
        "print(f\"Mean\\t\\t: {mean(valid_integers_list)}\") \n",
        "print(f\"Variance\\t: {variance(valid_integers_list)}\")\n",
        "print(f\"Std Deviation\\t: {std_deviation(valid_integers_list)}\") \n",
        "print(f\"Integer List\\t: {valid_integers_list}\")"
      ],
      "execution_count": null,
      "outputs": [
        {
          "output_type": "stream",
          "text": [
            "Minimum\t\t: 2\n",
            "Maximum\t\t: 91\n",
            "Range\t\t: (2, 91)\n",
            "Mean\t\t: 49.2\n",
            "Variance\t: 1059.1599999999999\n",
            "Std Deviation\t: 32.544738438033264\n",
            "Integer List\t: [77, 2, 44, 66, 47, 91, 3, 80, 75, 7]\n"
          ],
          "name": "stdout"
        }
      ]
    },
    {
      "cell_type": "markdown",
      "metadata": {
        "id": "ZR5oXcEu-Rr9",
        "colab_type": "text"
      },
      "source": [
        "# Complete"
      ]
    }
  ]
}