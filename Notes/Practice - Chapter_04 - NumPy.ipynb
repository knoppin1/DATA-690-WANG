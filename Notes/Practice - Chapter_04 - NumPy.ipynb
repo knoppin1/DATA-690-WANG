{
  "nbformat": 4,
  "nbformat_minor": 0,
  "metadata": {
    "kernelspec": {
      "display_name": "Python 3",
      "language": "python",
      "name": "python3"
    },
    "language_info": {
      "codemirror_mode": {
        "name": "ipython",
        "version": 3
      },
      "file_extension": ".py",
      "mimetype": "text/x-python",
      "name": "python",
      "nbconvert_exporter": "python",
      "pygments_lexer": "ipython3",
      "version": "3.8.1"
    },
    "colab": {
      "name": "Practice - Python for Data Analysis Chapter 04 - NumPy.ipynb",
      "provenance": [],
      "include_colab_link": true
    }
  },
  "cells": [
    {
      "cell_type": "markdown",
      "metadata": {
        "id": "view-in-github",
        "colab_type": "text"
      },
      "source": [
        "<a href=\"https://colab.research.google.com/github/knoppin1/DATA-690-WANG/blob/master/Notes/Practice_Python_for_Data_Analysis_Chapter_04_NumPy.ipynb\" target=\"_parent\"><img src=\"https://colab.research.google.com/assets/colab-badge.svg\" alt=\"Open In Colab\"/></a>"
      ]
    },
    {
      "cell_type": "markdown",
      "metadata": {
        "id": "f2P5lbtEywkI",
        "colab_type": "text"
      },
      "source": [
        "# Practice examples \n",
        "- Python for Data Analysis Chapter 3\n",
        "- DATA-609: Ken Noppinger\n",
        "---"
      ]
    },
    {
      "cell_type": "markdown",
      "metadata": {
        "id": "OVV_hs2KywkJ",
        "colab_type": "text"
      },
      "source": [
        "## NumPy Basics: Arrays and Vectorized Computation"
      ]
    },
    {
      "cell_type": "markdown",
      "metadata": {
        "id": "nqz2BPQ3ywkK",
        "colab_type": "text"
      },
      "source": [
        "NumPy-based algorithms are generally 10 to 100 times faster (or more) than their pure Python counterparts and use significantly less memory"
      ]
    },
    {
      "cell_type": "code",
      "metadata": {
        "id": "EAf3ERf7ywkL",
        "colab_type": "code",
        "colab": {}
      },
      "source": [
        "import numpy as np"
      ],
      "execution_count": 1,
      "outputs": []
    },
    {
      "cell_type": "code",
      "metadata": {
        "id": "_Vbt-eRfywkQ",
        "colab_type": "code",
        "colab": {}
      },
      "source": [
        "# NumPy array\n",
        "my_arr = np.arange(1000000)"
      ],
      "execution_count": 2,
      "outputs": []
    },
    {
      "cell_type": "code",
      "metadata": {
        "id": "4xsf8kG6ywkU",
        "colab_type": "code",
        "colab": {}
      },
      "source": [
        "# Python List\n",
        "my_list = list(range(1000000))"
      ],
      "execution_count": 3,
      "outputs": []
    },
    {
      "cell_type": "markdown",
      "metadata": {
        "id": "RE-K20juywkX",
        "colab_type": "text"
      },
      "source": [
        "Multiply each sequence by 2:"
      ]
    },
    {
      "cell_type": "code",
      "metadata": {
        "id": "wv7hUygvywkY",
        "colab_type": "code",
        "colab": {
          "base_uri": "https://localhost:8080/",
          "height": 52
        },
        "outputId": "0b6eb8f0-6ef4-499e-8559-f04952cd0afd"
      },
      "source": [
        "%time for _ in range(20): my_arr2 = my_arr * 2"
      ],
      "execution_count": 4,
      "outputs": [
        {
          "output_type": "stream",
          "text": [
            "CPU times: user 37.3 ms, sys: 5.86 ms, total: 43.2 ms\n",
            "Wall time: 48.8 ms\n"
          ],
          "name": "stdout"
        }
      ]
    },
    {
      "cell_type": "code",
      "metadata": {
        "id": "A7v7VuTOywkd",
        "colab_type": "code",
        "colab": {
          "base_uri": "https://localhost:8080/",
          "height": 52
        },
        "outputId": "8e063dd9-1de7-43c4-cb48-1f4fd3ed4cf1"
      },
      "source": [
        "%time for _ in range(20): my_list2 = [x * 2 for x in my_list]"
      ],
      "execution_count": 5,
      "outputs": [
        {
          "output_type": "stream",
          "text": [
            "CPU times: user 1.33 s, sys: 274 ms, total: 1.6 s\n",
            "Wall time: 1.61 s\n"
          ],
          "name": "stdout"
        }
      ]
    },
    {
      "cell_type": "markdown",
      "metadata": {
        "id": "Zm2lUU9Hywkg",
        "colab_type": "text"
      },
      "source": [
        "### The NumPy ndarray: A Multidimensional Array Object"
      ]
    },
    {
      "cell_type": "markdown",
      "metadata": {
        "id": "Piim-aVcywkh",
        "colab_type": "text"
      },
      "source": [
        "```ndarray``` is a fast, flexible container for large datasets in Python. \n",
        "\n",
        "Arrays perform mathematical operations on whole blocks of data using similar syntax to the equivalent operations between scalar elements."
      ]
    },
    {
      "cell_type": "code",
      "metadata": {
        "id": "K_BytsIJywki",
        "colab_type": "code",
        "colab": {
          "base_uri": "https://localhost:8080/",
          "height": 52
        },
        "outputId": "14db4494-14fd-48f7-8d6b-85afecbaa8d0"
      },
      "source": [
        "# Generate some random data\n",
        "data = np.random.randn(2, 3)\n",
        "data"
      ],
      "execution_count": 6,
      "outputs": [
        {
          "output_type": "execute_result",
          "data": {
            "text/plain": [
              "array([[-2.36850785,  0.88272888,  0.33810248],\n",
              "       [-0.57837654,  1.03915484,  0.85633711]])"
            ]
          },
          "metadata": {
            "tags": []
          },
          "execution_count": 6
        }
      ]
    },
    {
      "cell_type": "code",
      "metadata": {
        "id": "wGmUm4Jdywkn",
        "colab_type": "code",
        "colab": {
          "base_uri": "https://localhost:8080/",
          "height": 52
        },
        "outputId": "64de1aa1-0731-49f8-d73e-2c2f8701adce"
      },
      "source": [
        "# Multiply elements by 10\n",
        "data * 10"
      ],
      "execution_count": 7,
      "outputs": [
        {
          "output_type": "execute_result",
          "data": {
            "text/plain": [
              "array([[-23.68507851,   8.82728881,   3.38102476],\n",
              "       [ -5.78376541,  10.3915484 ,   8.56337111]])"
            ]
          },
          "metadata": {
            "tags": []
          },
          "execution_count": 7
        }
      ]
    },
    {
      "cell_type": "code",
      "metadata": {
        "id": "YJQyYul0ywkr",
        "colab_type": "code",
        "colab": {
          "base_uri": "https://localhost:8080/",
          "height": 52
        },
        "outputId": "8a6086be-379d-483a-9058-0c97e47db343"
      },
      "source": [
        "# Add corresponding values in each “cell” in the array to each other\n",
        "data + data"
      ],
      "execution_count": 8,
      "outputs": [
        {
          "output_type": "execute_result",
          "data": {
            "text/plain": [
              "array([[-4.7370157 ,  1.76545776,  0.67620495],\n",
              "       [-1.15675308,  2.07830968,  1.71267422]])"
            ]
          },
          "metadata": {
            "tags": []
          },
          "execution_count": 8
        }
      ]
    },
    {
      "cell_type": "markdown",
      "metadata": {
        "id": "V0FGKncOywku",
        "colab_type": "text"
      },
      "source": [
        "```ndarray``` is a generic multidimensional container for homogeneous data (i.e., all of the elements must be the same type).\n",
        "\n",
        "Every array has:\n",
        "- a shape, which is a tuple indicating the size of each dimension\n",
        "- a dtype, which is an object describing the data type of the array"
      ]
    },
    {
      "cell_type": "code",
      "metadata": {
        "id": "tA5Z_KZaywkv",
        "colab_type": "code",
        "colab": {
          "base_uri": "https://localhost:8080/",
          "height": 34
        },
        "outputId": "5746539f-6561-49c6-afc4-e42511598f9b"
      },
      "source": [
        "data.shape"
      ],
      "execution_count": 9,
      "outputs": [
        {
          "output_type": "execute_result",
          "data": {
            "text/plain": [
              "(2, 3)"
            ]
          },
          "metadata": {
            "tags": []
          },
          "execution_count": 9
        }
      ]
    },
    {
      "cell_type": "code",
      "metadata": {
        "id": "Xx9N7wycywky",
        "colab_type": "code",
        "colab": {
          "base_uri": "https://localhost:8080/",
          "height": 34
        },
        "outputId": "87aa1836-05a1-4fba-8deb-e5e281861b34"
      },
      "source": [
        "data.dtype"
      ],
      "execution_count": 10,
      "outputs": [
        {
          "output_type": "execute_result",
          "data": {
            "text/plain": [
              "dtype('float64')"
            ]
          },
          "metadata": {
            "tags": []
          },
          "execution_count": 10
        }
      ]
    },
    {
      "cell_type": "markdown",
      "metadata": {
        "id": "bocEBEFyywk1",
        "colab_type": "text"
      },
      "source": [
        "#### Creating ndarrays"
      ]
    },
    {
      "cell_type": "markdown",
      "metadata": {
        "id": "ZZVbFvs8ywk2",
        "colab_type": "text"
      },
      "source": [
        "Create an array using the ```array``` function.  Provide it with a sequence-like object."
      ]
    },
    {
      "cell_type": "code",
      "metadata": {
        "id": "6uwcRpGaywk2",
        "colab_type": "code",
        "colab": {
          "base_uri": "https://localhost:8080/",
          "height": 34
        },
        "outputId": "440dbf55-fc61-4396-8200-7c1209d07d28"
      },
      "source": [
        "# Python list\n",
        "data1 = [6, 7.5, 8, 0, 1]\n",
        "data1"
      ],
      "execution_count": 11,
      "outputs": [
        {
          "output_type": "execute_result",
          "data": {
            "text/plain": [
              "[6, 7.5, 8, 0, 1]"
            ]
          },
          "metadata": {
            "tags": []
          },
          "execution_count": 11
        }
      ]
    },
    {
      "cell_type": "code",
      "metadata": {
        "id": "BpTZxyufywk5",
        "colab_type": "code",
        "colab": {
          "base_uri": "https://localhost:8080/",
          "height": 34
        },
        "outputId": "7be36c86-1464-42fc-83f9-4d6ab523edc2"
      },
      "source": [
        "# NumPy array\n",
        "arr1 = np.array(data1)\n",
        "arr1"
      ],
      "execution_count": 12,
      "outputs": [
        {
          "output_type": "execute_result",
          "data": {
            "text/plain": [
              "array([6. , 7.5, 8. , 0. , 1. ])"
            ]
          },
          "metadata": {
            "tags": []
          },
          "execution_count": 12
        }
      ]
    },
    {
      "cell_type": "markdown",
      "metadata": {
        "id": "RLC5qsWSywk8",
        "colab_type": "text"
      },
      "source": [
        "Nested sequences, like a list of equal-length lists, will be converted into a multidimensional array"
      ]
    },
    {
      "cell_type": "code",
      "metadata": {
        "id": "32IVZdKTywk9",
        "colab_type": "code",
        "colab": {
          "base_uri": "https://localhost:8080/",
          "height": 34
        },
        "outputId": "0adf1fc9-6d8b-4185-c601-a457d2bb7472"
      },
      "source": [
        "# Python 2d list\n",
        "data2 = [[1, 2, 3, 4], [5, 6, 7, 8]]\n",
        "data2"
      ],
      "execution_count": 13,
      "outputs": [
        {
          "output_type": "execute_result",
          "data": {
            "text/plain": [
              "[[1, 2, 3, 4], [5, 6, 7, 8]]"
            ]
          },
          "metadata": {
            "tags": []
          },
          "execution_count": 13
        }
      ]
    },
    {
      "cell_type": "code",
      "metadata": {
        "id": "05zl1GPFywlA",
        "colab_type": "code",
        "colab": {
          "base_uri": "https://localhost:8080/",
          "height": 52
        },
        "outputId": "1337d86b-eb22-4e8b-c9c9-1c6129e182f0"
      },
      "source": [
        "# NumPy 2d array\n",
        "arr2 = np.array(data2)\n",
        "arr2"
      ],
      "execution_count": 14,
      "outputs": [
        {
          "output_type": "execute_result",
          "data": {
            "text/plain": [
              "array([[1, 2, 3, 4],\n",
              "       [5, 6, 7, 8]])"
            ]
          },
          "metadata": {
            "tags": []
          },
          "execution_count": 14
        }
      ]
    },
    {
      "cell_type": "code",
      "metadata": {
        "id": "SaVh6oZCywlD",
        "colab_type": "code",
        "colab": {
          "base_uri": "https://localhost:8080/",
          "height": 34
        },
        "outputId": "fc902d1a-1e0b-4998-e912-322a5e63559c"
      },
      "source": [
        "# Check dimensions of the array\n",
        "arr2.ndim"
      ],
      "execution_count": 15,
      "outputs": [
        {
          "output_type": "execute_result",
          "data": {
            "text/plain": [
              "2"
            ]
          },
          "metadata": {
            "tags": []
          },
          "execution_count": 15
        }
      ]
    },
    {
      "cell_type": "code",
      "metadata": {
        "id": "3WaAXNZ_ywlG",
        "colab_type": "code",
        "colab": {
          "base_uri": "https://localhost:8080/",
          "height": 34
        },
        "outputId": "0c78d496-c5d0-4981-9cf4-f6f5dfa86deb"
      },
      "source": [
        "arr2.shape"
      ],
      "execution_count": 16,
      "outputs": [
        {
          "output_type": "execute_result",
          "data": {
            "text/plain": [
              "(2, 4)"
            ]
          },
          "metadata": {
            "tags": []
          },
          "execution_count": 16
        }
      ]
    },
    {
      "cell_type": "markdown",
      "metadata": {
        "id": "I79YqSHjywlJ",
        "colab_type": "text"
      },
      "source": [
        "**```np.array```** tries to infer a good data type for the array that it creates. \n",
        "\n",
        "The data type is stored in a special ```dtype``` metadata object."
      ]
    },
    {
      "cell_type": "code",
      "metadata": {
        "id": "71j6eMO2ywlK",
        "colab_type": "code",
        "colab": {
          "base_uri": "https://localhost:8080/",
          "height": 34
        },
        "outputId": "2fd9d380-47cc-42c7-d4d0-03231d056d4d"
      },
      "source": [
        "arr1.dtype"
      ],
      "execution_count": 17,
      "outputs": [
        {
          "output_type": "execute_result",
          "data": {
            "text/plain": [
              "dtype('float64')"
            ]
          },
          "metadata": {
            "tags": []
          },
          "execution_count": 17
        }
      ]
    },
    {
      "cell_type": "code",
      "metadata": {
        "id": "9eFWHBBtywlO",
        "colab_type": "code",
        "colab": {
          "base_uri": "https://localhost:8080/",
          "height": 34
        },
        "outputId": "ddfce3b6-ebdf-4e9b-847a-e552894f690c"
      },
      "source": [
        "arr2.dtype"
      ],
      "execution_count": 18,
      "outputs": [
        {
          "output_type": "execute_result",
          "data": {
            "text/plain": [
              "dtype('int64')"
            ]
          },
          "metadata": {
            "tags": []
          },
          "execution_count": 18
        }
      ]
    },
    {
      "cell_type": "markdown",
      "metadata": {
        "id": "Qs2Hnl7yywlR",
        "colab_type": "text"
      },
      "source": [
        "**```zeros```** and **```ones```** create arrays of 0s or 1s, respectively."
      ]
    },
    {
      "cell_type": "code",
      "metadata": {
        "id": "aDpYl7XAywlS",
        "colab_type": "code",
        "colab": {
          "base_uri": "https://localhost:8080/",
          "height": 34
        },
        "outputId": "e0c21936-2a51-4f85-fcbe-e28493e631bd"
      },
      "source": [
        "np.zeros(10)"
      ],
      "execution_count": 19,
      "outputs": [
        {
          "output_type": "execute_result",
          "data": {
            "text/plain": [
              "array([0., 0., 0., 0., 0., 0., 0., 0., 0., 0.])"
            ]
          },
          "metadata": {
            "tags": []
          },
          "execution_count": 19
        }
      ]
    },
    {
      "cell_type": "code",
      "metadata": {
        "id": "sRaWU5goywlV",
        "colab_type": "code",
        "colab": {
          "base_uri": "https://localhost:8080/",
          "height": 105
        },
        "outputId": "e43792e4-fc47-4de4-86e4-3ba1a99724e2"
      },
      "source": [
        "np.ones((5,15))"
      ],
      "execution_count": 20,
      "outputs": [
        {
          "output_type": "execute_result",
          "data": {
            "text/plain": [
              "array([[1., 1., 1., 1., 1., 1., 1., 1., 1., 1., 1., 1., 1., 1., 1.],\n",
              "       [1., 1., 1., 1., 1., 1., 1., 1., 1., 1., 1., 1., 1., 1., 1.],\n",
              "       [1., 1., 1., 1., 1., 1., 1., 1., 1., 1., 1., 1., 1., 1., 1.],\n",
              "       [1., 1., 1., 1., 1., 1., 1., 1., 1., 1., 1., 1., 1., 1., 1.],\n",
              "       [1., 1., 1., 1., 1., 1., 1., 1., 1., 1., 1., 1., 1., 1., 1.]])"
            ]
          },
          "metadata": {
            "tags": []
          },
          "execution_count": 20
        }
      ]
    },
    {
      "cell_type": "markdown",
      "metadata": {
        "id": "35G78wVCywlY",
        "colab_type": "text"
      },
      "source": [
        "**```empty```** creates an array without initializing its values to any particular value."
      ]
    },
    {
      "cell_type": "code",
      "metadata": {
        "id": "8-J62vHjywlY",
        "colab_type": "code",
        "colab": {
          "base_uri": "https://localhost:8080/",
          "height": 176
        },
        "outputId": "3e92daad-f029-415a-8896-a7a5c6e0175e"
      },
      "source": [
        "np.empty((2, 4, 3))"
      ],
      "execution_count": 21,
      "outputs": [
        {
          "output_type": "execute_result",
          "data": {
            "text/plain": [
              "array([[[1.0986597e-316, 0.0000000e+000, 0.0000000e+000],\n",
              "        [0.0000000e+000, 0.0000000e+000, 0.0000000e+000],\n",
              "        [0.0000000e+000, 0.0000000e+000, 0.0000000e+000],\n",
              "        [0.0000000e+000, 0.0000000e+000, 0.0000000e+000]],\n",
              "\n",
              "       [[0.0000000e+000, 0.0000000e+000, 0.0000000e+000],\n",
              "        [0.0000000e+000, 0.0000000e+000, 0.0000000e+000],\n",
              "        [0.0000000e+000, 0.0000000e+000, 0.0000000e+000],\n",
              "        [0.0000000e+000, 0.0000000e+000, 0.0000000e+000]]])"
            ]
          },
          "metadata": {
            "tags": []
          },
          "execution_count": 21
        }
      ]
    },
    {
      "cell_type": "markdown",
      "metadata": {
        "id": "7F_z2eSxywlc",
        "colab_type": "text"
      },
      "source": [
        "**```full```** creates an array of the given shape and dtype with all values set to the indicated “fill value”"
      ]
    },
    {
      "cell_type": "code",
      "metadata": {
        "id": "MaS2T4Vjywlc",
        "colab_type": "code",
        "colab": {
          "base_uri": "https://localhost:8080/",
          "height": 52
        },
        "outputId": "f4282725-f3af-409e-80a7-065fe3bd9075"
      },
      "source": [
        "np.full((2,3), 10)"
      ],
      "execution_count": 22,
      "outputs": [
        {
          "output_type": "execute_result",
          "data": {
            "text/plain": [
              "array([[10, 10, 10],\n",
              "       [10, 10, 10]])"
            ]
          },
          "metadata": {
            "tags": []
          },
          "execution_count": 22
        }
      ]
    },
    {
      "cell_type": "markdown",
      "metadata": {
        "id": "umuSqlyDywlf",
        "colab_type": "text"
      },
      "source": [
        "**```identity```** or **```eye```** creates a square N × N identity matrix (1s on the diagonal and 0s elsewhere)"
      ]
    },
    {
      "cell_type": "code",
      "metadata": {
        "id": "k2DVwoRgywlg",
        "colab_type": "code",
        "colab": {
          "base_uri": "https://localhost:8080/",
          "height": 70
        },
        "outputId": "38b84373-518a-4831-f475-268dea8bb947"
      },
      "source": [
        "np.identity(3)"
      ],
      "execution_count": 23,
      "outputs": [
        {
          "output_type": "execute_result",
          "data": {
            "text/plain": [
              "array([[1., 0., 0.],\n",
              "       [0., 1., 0.],\n",
              "       [0., 0., 1.]])"
            ]
          },
          "metadata": {
            "tags": []
          },
          "execution_count": 23
        }
      ]
    },
    {
      "cell_type": "code",
      "metadata": {
        "id": "i0xaizs-ywlk",
        "colab_type": "code",
        "colab": {
          "base_uri": "https://localhost:8080/",
          "height": 70
        },
        "outputId": "82c471f4-f1a2-488a-bef7-05eb33a6798f"
      },
      "source": [
        "np.eye(3)"
      ],
      "execution_count": 24,
      "outputs": [
        {
          "output_type": "execute_result",
          "data": {
            "text/plain": [
              "array([[1., 0., 0.],\n",
              "       [0., 1., 0.],\n",
              "       [0., 0., 1.]])"
            ]
          },
          "metadata": {
            "tags": []
          },
          "execution_count": 24
        }
      ]
    },
    {
      "cell_type": "markdown",
      "metadata": {
        "id": "ZYA8dFzjywln",
        "colab_type": "text"
      },
      "source": [
        "**```arange```** is an array-valued version of the built-in Python ```range``` function."
      ]
    },
    {
      "cell_type": "code",
      "metadata": {
        "id": "HrNFixguywlo",
        "colab_type": "code",
        "colab": {
          "base_uri": "https://localhost:8080/",
          "height": 34
        },
        "outputId": "8ed86bad-0482-4a46-f87f-bea457025780"
      },
      "source": [
        "np.arange(15)"
      ],
      "execution_count": 25,
      "outputs": [
        {
          "output_type": "execute_result",
          "data": {
            "text/plain": [
              "array([ 0,  1,  2,  3,  4,  5,  6,  7,  8,  9, 10, 11, 12, 13, 14])"
            ]
          },
          "metadata": {
            "tags": []
          },
          "execution_count": 25
        }
      ]
    },
    {
      "cell_type": "markdown",
      "metadata": {
        "id": "k6QEAFaqywlq",
        "colab_type": "text"
      },
      "source": [
        "#### Data Types for ndarrays"
      ]
    },
    {
      "cell_type": "markdown",
      "metadata": {
        "id": "9lQvpFcfywlr",
        "colab_type": "text"
      },
      "source": [
        "**```dtype```** is a special object containing the metadata the ndarray needs to interpret a chunk of memory as a particular type of data"
      ]
    },
    {
      "cell_type": "code",
      "metadata": {
        "id": "pevgO7dYywlr",
        "colab_type": "code",
        "colab": {}
      },
      "source": [
        "arr1 = np.array([1, 2, 3], dtype=np.float64)\n",
        "arr2 = np.array([1, 2, 3], dtype=np.int32)"
      ],
      "execution_count": 26,
      "outputs": []
    },
    {
      "cell_type": "code",
      "metadata": {
        "id": "b1ejJ6umywlu",
        "colab_type": "code",
        "colab": {
          "base_uri": "https://localhost:8080/",
          "height": 34
        },
        "outputId": "173d2930-9ad4-49e0-f7d4-54be7d374070"
      },
      "source": [
        "arr1.dtype"
      ],
      "execution_count": 27,
      "outputs": [
        {
          "output_type": "execute_result",
          "data": {
            "text/plain": [
              "dtype('float64')"
            ]
          },
          "metadata": {
            "tags": []
          },
          "execution_count": 27
        }
      ]
    },
    {
      "cell_type": "code",
      "metadata": {
        "id": "2eKK9HcAywlx",
        "colab_type": "code",
        "colab": {
          "base_uri": "https://localhost:8080/",
          "height": 34
        },
        "outputId": "1642fb27-d04b-45ca-a883-feee44ac5f7b"
      },
      "source": [
        "arr2.dtype"
      ],
      "execution_count": 28,
      "outputs": [
        {
          "output_type": "execute_result",
          "data": {
            "text/plain": [
              "dtype('int32')"
            ]
          },
          "metadata": {
            "tags": []
          },
          "execution_count": 28
        }
      ]
    },
    {
      "cell_type": "markdown",
      "metadata": {
        "id": "nnPbAmEiywl0",
        "colab_type": "text"
      },
      "source": [
        "The decimal part is truncated when casting floating-point numbers to be of integer dtype."
      ]
    },
    {
      "cell_type": "code",
      "metadata": {
        "id": "csOscfQAywl0",
        "colab_type": "code",
        "colab": {
          "base_uri": "https://localhost:8080/",
          "height": 34
        },
        "outputId": "d57e5bce-f0fc-4725-df91-76ab881614b7"
      },
      "source": [
        "arr = np.array([3.7, -1.2, -2.6, 0.5, 12.9, 10.1])\n",
        "arr"
      ],
      "execution_count": 29,
      "outputs": [
        {
          "output_type": "execute_result",
          "data": {
            "text/plain": [
              "array([ 3.7, -1.2, -2.6,  0.5, 12.9, 10.1])"
            ]
          },
          "metadata": {
            "tags": []
          },
          "execution_count": 29
        }
      ]
    },
    {
      "cell_type": "code",
      "metadata": {
        "id": "o8LIhKXVywl3",
        "colab_type": "code",
        "colab": {
          "base_uri": "https://localhost:8080/",
          "height": 34
        },
        "outputId": "8dbe9d47-4b2c-4684-a776-fbca442deef4"
      },
      "source": [
        "arr.astype(np.int32)"
      ],
      "execution_count": 30,
      "outputs": [
        {
          "output_type": "execute_result",
          "data": {
            "text/plain": [
              "array([ 3, -1, -2,  0, 12, 10], dtype=int32)"
            ]
          },
          "metadata": {
            "tags": []
          },
          "execution_count": 30
        }
      ]
    },
    {
      "cell_type": "markdown",
      "metadata": {
        "id": "8_XMi_sjywl6",
        "colab_type": "text"
      },
      "source": [
        "If you have an array of strings representing numbers, you can use astype to convert them to numeric form."
      ]
    },
    {
      "cell_type": "code",
      "metadata": {
        "id": "ulu2VxR_ywl6",
        "colab_type": "code",
        "colab": {
          "base_uri": "https://localhost:8080/",
          "height": 34
        },
        "outputId": "9fa89e4a-41d6-4682-e0b2-4aa6fc3857ea"
      },
      "source": [
        "numeric_strings = np.array(['1.25', '-9.6', '42'], dtype=np.string_)\n",
        "numeric_strings"
      ],
      "execution_count": 31,
      "outputs": [
        {
          "output_type": "execute_result",
          "data": {
            "text/plain": [
              "array([b'1.25', b'-9.6', b'42'], dtype='|S4')"
            ]
          },
          "metadata": {
            "tags": []
          },
          "execution_count": 31
        }
      ]
    },
    {
      "cell_type": "code",
      "metadata": {
        "id": "Ukhab6Xnywl9",
        "colab_type": "code",
        "colab": {
          "base_uri": "https://localhost:8080/",
          "height": 34
        },
        "outputId": "c45f79cb-f8a2-4e64-b98e-98d7233ad4d5"
      },
      "source": [
        "numeric_strings.astype(float)"
      ],
      "execution_count": 32,
      "outputs": [
        {
          "output_type": "execute_result",
          "data": {
            "text/plain": [
              "array([ 1.25, -9.6 , 42.  ])"
            ]
          },
          "metadata": {
            "tags": []
          },
          "execution_count": 32
        }
      ]
    },
    {
      "cell_type": "markdown",
      "metadata": {
        "id": "gBEWGk4Hywl_",
        "colab_type": "text"
      },
      "source": [
        "Cast to another array’s dtype attribute."
      ]
    },
    {
      "cell_type": "code",
      "metadata": {
        "id": "-IJJ6vweywmA",
        "colab_type": "code",
        "colab": {}
      },
      "source": [
        "int_array = np.arange(10)"
      ],
      "execution_count": 33,
      "outputs": []
    },
    {
      "cell_type": "code",
      "metadata": {
        "id": "tswW3ZyEywmD",
        "colab_type": "code",
        "colab": {}
      },
      "source": [
        "float64_array = np.array([.22, .270, .357, .380, .44, .50], dtype=np.float64)"
      ],
      "execution_count": 34,
      "outputs": []
    },
    {
      "cell_type": "code",
      "metadata": {
        "id": "hrUFkgKcywmH",
        "colab_type": "code",
        "colab": {
          "base_uri": "https://localhost:8080/",
          "height": 34
        },
        "outputId": "4c7aa8bf-cb92-4a42-906a-2b436e1a3f03"
      },
      "source": [
        "int_array.astype(float64_array.dtype)"
      ],
      "execution_count": 35,
      "outputs": [
        {
          "output_type": "execute_result",
          "data": {
            "text/plain": [
              "array([0., 1., 2., 3., 4., 5., 6., 7., 8., 9.])"
            ]
          },
          "metadata": {
            "tags": []
          },
          "execution_count": 35
        }
      ]
    },
    {
      "cell_type": "markdown",
      "metadata": {
        "id": "aOQOI6QMywmJ",
        "colab_type": "text"
      },
      "source": [
        "Shorthand type code strings can be used to refer to a dtype."
      ]
    },
    {
      "cell_type": "code",
      "metadata": {
        "id": "_zOL8tHDywmK",
        "colab_type": "code",
        "colab": {
          "base_uri": "https://localhost:8080/",
          "height": 52
        },
        "outputId": "62b5ae10-20da-49c9-ac94-27b197a63f09"
      },
      "source": [
        "empty_uint32 = np.empty(8, dtype='u4')\n",
        "empty_uint32"
      ],
      "execution_count": 36,
      "outputs": [
        {
          "output_type": "execute_result",
          "data": {
            "text/plain": [
              "array([         0, 1075314688,          0, 1075707904,          0,\n",
              "       1075838976,          0, 1072693248], dtype=uint32)"
            ]
          },
          "metadata": {
            "tags": []
          },
          "execution_count": 36
        }
      ]
    },
    {
      "cell_type": "markdown",
      "metadata": {
        "id": "swYG9HH7ywmM",
        "colab_type": "text"
      },
      "source": [
        "#### Arithmetic with NumPy Arrays"
      ]
    },
    {
      "cell_type": "markdown",
      "metadata": {
        "id": "35ptlzW9ywmN",
        "colab_type": "text"
      },
      "source": [
        "Arrays enable expressing batch operations on data without writing any for loops. \n",
        "- NumPy users call this vectorization. \n",
        "- Any arithmetic operations between equal-size arrays applies the operation element-wise."
      ]
    },
    {
      "cell_type": "code",
      "metadata": {
        "id": "lmn5ABEcywmO",
        "colab_type": "code",
        "colab": {
          "base_uri": "https://localhost:8080/",
          "height": 52
        },
        "outputId": "dbcf417e-7534-49c4-a7f1-850b9f14ff1e"
      },
      "source": [
        "arr = np.array([[1., 2., 3.], [4., 5., 6.]])\n",
        "arr"
      ],
      "execution_count": 37,
      "outputs": [
        {
          "output_type": "execute_result",
          "data": {
            "text/plain": [
              "array([[1., 2., 3.],\n",
              "       [4., 5., 6.]])"
            ]
          },
          "metadata": {
            "tags": []
          },
          "execution_count": 37
        }
      ]
    },
    {
      "cell_type": "code",
      "metadata": {
        "id": "T7sqOInVywmS",
        "colab_type": "code",
        "colab": {
          "base_uri": "https://localhost:8080/",
          "height": 52
        },
        "outputId": "bfc1440b-3d6e-4f49-8b11-0e93ef2a1477"
      },
      "source": [
        "# Multiply\n",
        "arr * arr"
      ],
      "execution_count": 38,
      "outputs": [
        {
          "output_type": "execute_result",
          "data": {
            "text/plain": [
              "array([[ 1.,  4.,  9.],\n",
              "       [16., 25., 36.]])"
            ]
          },
          "metadata": {
            "tags": []
          },
          "execution_count": 38
        }
      ]
    },
    {
      "cell_type": "code",
      "metadata": {
        "id": "4BW1ZF2uywmV",
        "colab_type": "code",
        "colab": {
          "base_uri": "https://localhost:8080/",
          "height": 52
        },
        "outputId": "5f27e442-1629-4c22-d472-d53c101e31a8"
      },
      "source": [
        "# Subtract\n",
        "arr -arr"
      ],
      "execution_count": 39,
      "outputs": [
        {
          "output_type": "execute_result",
          "data": {
            "text/plain": [
              "array([[0., 0., 0.],\n",
              "       [0., 0., 0.]])"
            ]
          },
          "metadata": {
            "tags": []
          },
          "execution_count": 39
        }
      ]
    },
    {
      "cell_type": "code",
      "metadata": {
        "id": "kbn050-zywmb",
        "colab_type": "code",
        "colab": {
          "base_uri": "https://localhost:8080/",
          "height": 52
        },
        "outputId": "8f4826d2-bec2-4d8f-f406-971754207b67"
      },
      "source": [
        "# Scalar propagation\n",
        "1 / arr"
      ],
      "execution_count": 40,
      "outputs": [
        {
          "output_type": "execute_result",
          "data": {
            "text/plain": [
              "array([[1.        , 0.5       , 0.33333333],\n",
              "       [0.25      , 0.2       , 0.16666667]])"
            ]
          },
          "metadata": {
            "tags": []
          },
          "execution_count": 40
        }
      ]
    },
    {
      "cell_type": "code",
      "metadata": {
        "id": "y_x-04xuywmg",
        "colab_type": "code",
        "colab": {
          "base_uri": "https://localhost:8080/",
          "height": 52
        },
        "outputId": "ed484a3d-a3d8-420a-a8bd-d3c903f4bea8"
      },
      "source": [
        "# Square root\n",
        "arr ** 0.5"
      ],
      "execution_count": 41,
      "outputs": [
        {
          "output_type": "execute_result",
          "data": {
            "text/plain": [
              "array([[1.        , 1.41421356, 1.73205081],\n",
              "       [2.        , 2.23606798, 2.44948974]])"
            ]
          },
          "metadata": {
            "tags": []
          },
          "execution_count": 41
        }
      ]
    },
    {
      "cell_type": "markdown",
      "metadata": {
        "id": "Kpfx-zWzywml",
        "colab_type": "text"
      },
      "source": [
        "Comparisons between arrays of the same size yield boolean arrays"
      ]
    },
    {
      "cell_type": "code",
      "metadata": {
        "id": "7q76SXqeywmm",
        "colab_type": "code",
        "colab": {
          "base_uri": "https://localhost:8080/",
          "height": 52
        },
        "outputId": "fd74491c-4676-4710-af9c-0ee6b73e6149"
      },
      "source": [
        "arr2 = np.array([[0., 4., 1.], [7., 2., 12.]])\n",
        "arr2"
      ],
      "execution_count": 42,
      "outputs": [
        {
          "output_type": "execute_result",
          "data": {
            "text/plain": [
              "array([[ 0.,  4.,  1.],\n",
              "       [ 7.,  2., 12.]])"
            ]
          },
          "metadata": {
            "tags": []
          },
          "execution_count": 42
        }
      ]
    },
    {
      "cell_type": "code",
      "metadata": {
        "id": "hIV_EX8zywmr",
        "colab_type": "code",
        "colab": {
          "base_uri": "https://localhost:8080/",
          "height": 52
        },
        "outputId": "6c998231-3bfa-446f-b175-406aba16cf38"
      },
      "source": [
        "arr2 > arr"
      ],
      "execution_count": 43,
      "outputs": [
        {
          "output_type": "execute_result",
          "data": {
            "text/plain": [
              "array([[False,  True, False],\n",
              "       [ True, False,  True]])"
            ]
          },
          "metadata": {
            "tags": []
          },
          "execution_count": 43
        }
      ]
    },
    {
      "cell_type": "markdown",
      "metadata": {
        "id": "-zZh7OcLywmu",
        "colab_type": "text"
      },
      "source": [
        "#### Basic Indexing and Slicing"
      ]
    },
    {
      "cell_type": "code",
      "metadata": {
        "id": "vt-DH8H0ywmu",
        "colab_type": "code",
        "colab": {
          "base_uri": "https://localhost:8080/",
          "height": 34
        },
        "outputId": "21cc3565-7161-4a1e-8b1b-2ec3c5e3da69"
      },
      "source": [
        "arr = np.arange(10)\n",
        "arr"
      ],
      "execution_count": 44,
      "outputs": [
        {
          "output_type": "execute_result",
          "data": {
            "text/plain": [
              "array([0, 1, 2, 3, 4, 5, 6, 7, 8, 9])"
            ]
          },
          "metadata": {
            "tags": []
          },
          "execution_count": 44
        }
      ]
    },
    {
      "cell_type": "code",
      "metadata": {
        "id": "8FjogMOkywmx",
        "colab_type": "code",
        "colab": {
          "base_uri": "https://localhost:8080/",
          "height": 34
        },
        "outputId": "57a81d3e-c109-4273-86ac-8d2a2ead0b77"
      },
      "source": [
        "# Index\n",
        "arr[5]"
      ],
      "execution_count": 45,
      "outputs": [
        {
          "output_type": "execute_result",
          "data": {
            "text/plain": [
              "5"
            ]
          },
          "metadata": {
            "tags": []
          },
          "execution_count": 45
        }
      ]
    },
    {
      "cell_type": "code",
      "metadata": {
        "id": "zd-P_0Ciywm1",
        "colab_type": "code",
        "colab": {
          "base_uri": "https://localhost:8080/",
          "height": 34
        },
        "outputId": "452748c8-6340-42df-8ee7-f186699a65f5"
      },
      "source": [
        "# Slice\n",
        "arr[5:8]"
      ],
      "execution_count": 46,
      "outputs": [
        {
          "output_type": "execute_result",
          "data": {
            "text/plain": [
              "array([5, 6, 7])"
            ]
          },
          "metadata": {
            "tags": []
          },
          "execution_count": 46
        }
      ]
    },
    {
      "cell_type": "code",
      "metadata": {
        "id": "QZfstpPhywm4",
        "colab_type": "code",
        "colab": {
          "base_uri": "https://localhost:8080/",
          "height": 34
        },
        "outputId": "30d3bab8-d0a7-473f-b4fc-e20113307b4d"
      },
      "source": [
        "# Slice assignment\n",
        "arr[5:8] = 12\n",
        "arr"
      ],
      "execution_count": 47,
      "outputs": [
        {
          "output_type": "execute_result",
          "data": {
            "text/plain": [
              "array([ 0,  1,  2,  3,  4, 12, 12, 12,  8,  9])"
            ]
          },
          "metadata": {
            "tags": []
          },
          "execution_count": 47
        }
      ]
    },
    {
      "cell_type": "markdown",
      "metadata": {
        "id": "rzw4nZEfywm6",
        "colab_type": "text"
      },
      "source": [
        "An important distinction from Python’s built-in lists is that array slices are views on the original array.\n",
        "\n",
        "This means that the data is not copied, and any modifications to the view will be reflected in the source array."
      ]
    },
    {
      "cell_type": "code",
      "metadata": {
        "id": "EEUnC8Auywm8",
        "colab_type": "code",
        "colab": {
          "base_uri": "https://localhost:8080/",
          "height": 34
        },
        "outputId": "c622d12b-1830-4202-a402-7c2059b1d7e3"
      },
      "source": [
        "arr_slice = arr[5:8]\n",
        "arr_slice"
      ],
      "execution_count": 48,
      "outputs": [
        {
          "output_type": "execute_result",
          "data": {
            "text/plain": [
              "array([12, 12, 12])"
            ]
          },
          "metadata": {
            "tags": []
          },
          "execution_count": 48
        }
      ]
    },
    {
      "cell_type": "code",
      "metadata": {
        "id": "4BDR9JP7ywnA",
        "colab_type": "code",
        "colab": {
          "base_uri": "https://localhost:8080/",
          "height": 34
        },
        "outputId": "2d021b4c-4d6c-47f1-ed18-2674f6f4b45b"
      },
      "source": [
        "arr_slice[1] = 1234\n",
        "arr"
      ],
      "execution_count": 49,
      "outputs": [
        {
          "output_type": "execute_result",
          "data": {
            "text/plain": [
              "array([   0,    1,    2,    3,    4,   12, 1234,   12,    8,    9])"
            ]
          },
          "metadata": {
            "tags": []
          },
          "execution_count": 49
        }
      ]
    },
    {
      "cell_type": "markdown",
      "metadata": {
        "id": "HIy_3GKoywnC",
        "colab_type": "text"
      },
      "source": [
        "The \"bare” slice [:] will assign to all values in an array"
      ]
    },
    {
      "cell_type": "code",
      "metadata": {
        "id": "VlSxzftTywnD",
        "colab_type": "code",
        "colab": {
          "base_uri": "https://localhost:8080/",
          "height": 34
        },
        "outputId": "f489698c-2cea-484a-b39e-827c6a967f44"
      },
      "source": [
        "arr_slice[:] = 64\n",
        "arr"
      ],
      "execution_count": 50,
      "outputs": [
        {
          "output_type": "execute_result",
          "data": {
            "text/plain": [
              "array([ 0,  1,  2,  3,  4, 64, 64, 64,  8,  9])"
            ]
          },
          "metadata": {
            "tags": []
          },
          "execution_count": 50
        }
      ]
    },
    {
      "cell_type": "markdown",
      "metadata": {
        "id": "Mh3wRmNRywnF",
        "colab_type": "text"
      },
      "source": [
        "In a two-dimensional array, the elements at each index are no longer scalars but rather one-dimensional arrays."
      ]
    },
    {
      "cell_type": "code",
      "metadata": {
        "id": "htJy19UTywnF",
        "colab_type": "code",
        "colab": {}
      },
      "source": [
        "arr2d = np.array([[1, 2, 3], [4, 5, 6], [7, 8, 9]])"
      ],
      "execution_count": 51,
      "outputs": []
    },
    {
      "cell_type": "code",
      "metadata": {
        "id": "BbxTidUeywnK",
        "colab_type": "code",
        "colab": {
          "base_uri": "https://localhost:8080/",
          "height": 34
        },
        "outputId": "316ed704-c208-4319-d899-fc6ad74fd58a"
      },
      "source": [
        "# Access third one-dimensional array\n",
        "arr2d[2]"
      ],
      "execution_count": 52,
      "outputs": [
        {
          "output_type": "execute_result",
          "data": {
            "text/plain": [
              "array([7, 8, 9])"
            ]
          },
          "metadata": {
            "tags": []
          },
          "execution_count": 52
        }
      ]
    },
    {
      "cell_type": "code",
      "metadata": {
        "id": "Hvor91HsywnN",
        "colab_type": "code",
        "colab": {
          "base_uri": "https://localhost:8080/",
          "height": 34
        },
        "outputId": "039387a6-3d44-4323-fabc-f905d0b4e817"
      },
      "source": [
        "# Access third element of first on-dimensional array\n",
        "arr2d[0][2]"
      ],
      "execution_count": 53,
      "outputs": [
        {
          "output_type": "execute_result",
          "data": {
            "text/plain": [
              "3"
            ]
          },
          "metadata": {
            "tags": []
          },
          "execution_count": 53
        }
      ]
    },
    {
      "cell_type": "code",
      "metadata": {
        "id": "viAJLW63ywnR",
        "colab_type": "code",
        "colab": {
          "base_uri": "https://localhost:8080/",
          "height": 34
        },
        "outputId": "38d4b79f-a87b-44fb-fe57-b1c8e5e65f97"
      },
      "source": [
        "# Alternative for accessing third element of first on-dimensional array\n",
        "arr2d[0, 2]"
      ],
      "execution_count": 54,
      "outputs": [
        {
          "output_type": "execute_result",
          "data": {
            "text/plain": [
              "3"
            ]
          },
          "metadata": {
            "tags": []
          },
          "execution_count": 54
        }
      ]
    },
    {
      "cell_type": "markdown",
      "metadata": {
        "id": "e7odvo_SywnU",
        "colab_type": "text"
      },
      "source": [
        "In multidimensional arrays, if you omit later indices, the returned object will be a lower dimensional ndarray consisting of all the data along the higher dimensions."
      ]
    },
    {
      "cell_type": "code",
      "metadata": {
        "id": "iktQIkNjywnU",
        "colab_type": "code",
        "colab": {
          "base_uri": "https://localhost:8080/",
          "height": 105
        },
        "outputId": "be1ba0b5-d15a-4f76-caec-69afbb5b92b7"
      },
      "source": [
        "# Create a 2 × 2 × 3 array \n",
        "arr3d = np.array([[[1, 2, 3], [4, 5, 6]], [[7, 8, 9], [10, 11, 12]]])\n",
        "arr3d"
      ],
      "execution_count": 55,
      "outputs": [
        {
          "output_type": "execute_result",
          "data": {
            "text/plain": [
              "array([[[ 1,  2,  3],\n",
              "        [ 4,  5,  6]],\n",
              "\n",
              "       [[ 7,  8,  9],\n",
              "        [10, 11, 12]]])"
            ]
          },
          "metadata": {
            "tags": []
          },
          "execution_count": 55
        }
      ]
    },
    {
      "cell_type": "code",
      "metadata": {
        "id": "RLVPAJeHywnX",
        "colab_type": "code",
        "colab": {
          "base_uri": "https://localhost:8080/",
          "height": 52
        },
        "outputId": "364c7b9b-c459-4c06-cd21-c0354fba7133"
      },
      "source": [
        "# arr3d[0] is a 2 × 3 array\n",
        "arr3d[0]"
      ],
      "execution_count": 56,
      "outputs": [
        {
          "output_type": "execute_result",
          "data": {
            "text/plain": [
              "array([[1, 2, 3],\n",
              "       [4, 5, 6]])"
            ]
          },
          "metadata": {
            "tags": []
          },
          "execution_count": 56
        }
      ]
    },
    {
      "cell_type": "markdown",
      "metadata": {
        "id": "Lo4JNISAywnZ",
        "colab_type": "text"
      },
      "source": [
        "Both scalar values and arrays can be assigned to arr3d[0]"
      ]
    },
    {
      "cell_type": "code",
      "metadata": {
        "id": "nIE7z1v5ywna",
        "colab_type": "code",
        "colab": {
          "base_uri": "https://localhost:8080/",
          "height": 105
        },
        "outputId": "eb049d24-6331-4561-a7dd-5d4272fafb80"
      },
      "source": [
        "old_values = arr3d[0].copy()\n",
        "arr3d[0] = 42\n",
        "arr3d"
      ],
      "execution_count": 57,
      "outputs": [
        {
          "output_type": "execute_result",
          "data": {
            "text/plain": [
              "array([[[42, 42, 42],\n",
              "        [42, 42, 42]],\n",
              "\n",
              "       [[ 7,  8,  9],\n",
              "        [10, 11, 12]]])"
            ]
          },
          "metadata": {
            "tags": []
          },
          "execution_count": 57
        }
      ]
    },
    {
      "cell_type": "code",
      "metadata": {
        "id": "sPS9e1rMywnd",
        "colab_type": "code",
        "colab": {
          "base_uri": "https://localhost:8080/",
          "height": 105
        },
        "outputId": "8a223060-5838-440d-9ef3-364b6e72f8bb"
      },
      "source": [
        "arr3d[0] = old_values\n",
        "arr3d"
      ],
      "execution_count": 58,
      "outputs": [
        {
          "output_type": "execute_result",
          "data": {
            "text/plain": [
              "array([[[ 1,  2,  3],\n",
              "        [ 4,  5,  6]],\n",
              "\n",
              "       [[ 7,  8,  9],\n",
              "        [10, 11, 12]]])"
            ]
          },
          "metadata": {
            "tags": []
          },
          "execution_count": 58
        }
      ]
    },
    {
      "cell_type": "markdown",
      "metadata": {
        "id": "-H2EftgMywng",
        "colab_type": "text"
      },
      "source": [
        "arr3d[1, 0] returns all of the values whose indices start with (1, 0), forming a 1-dimensional array."
      ]
    },
    {
      "cell_type": "code",
      "metadata": {
        "id": "5vxBtIi-ywng",
        "colab_type": "code",
        "colab": {
          "base_uri": "https://localhost:8080/",
          "height": 34
        },
        "outputId": "dd571b77-b885-4780-82ba-6dee18ea692e"
      },
      "source": [
        "arr3d[1, 0]"
      ],
      "execution_count": 59,
      "outputs": [
        {
          "output_type": "execute_result",
          "data": {
            "text/plain": [
              "array([7, 8, 9])"
            ]
          },
          "metadata": {
            "tags": []
          },
          "execution_count": 59
        }
      ]
    },
    {
      "cell_type": "markdown",
      "metadata": {
        "id": "Uj-l-q_lywnj",
        "colab_type": "text"
      },
      "source": [
        "This expression avoids indexing in two steps."
      ]
    },
    {
      "cell_type": "code",
      "metadata": {
        "id": "d79zB2mKywnk",
        "colab_type": "code",
        "colab": {
          "base_uri": "https://localhost:8080/",
          "height": 52
        },
        "outputId": "0defd532-e946-44fc-bd0a-bf8b933eccda"
      },
      "source": [
        "x = arr3d[1]\n",
        "x"
      ],
      "execution_count": 60,
      "outputs": [
        {
          "output_type": "execute_result",
          "data": {
            "text/plain": [
              "array([[ 7,  8,  9],\n",
              "       [10, 11, 12]])"
            ]
          },
          "metadata": {
            "tags": []
          },
          "execution_count": 60
        }
      ]
    },
    {
      "cell_type": "code",
      "metadata": {
        "id": "uWEx5m0Jywnm",
        "colab_type": "code",
        "colab": {
          "base_uri": "https://localhost:8080/",
          "height": 34
        },
        "outputId": "a1feaeba-c985-4dd0-ac50-79481e8d723d"
      },
      "source": [
        "x[0]"
      ],
      "execution_count": 61,
      "outputs": [
        {
          "output_type": "execute_result",
          "data": {
            "text/plain": [
              "array([7, 8, 9])"
            ]
          },
          "metadata": {
            "tags": []
          },
          "execution_count": 61
        }
      ]
    },
    {
      "cell_type": "markdown",
      "metadata": {
        "id": "eSZo33DVywno",
        "colab_type": "text"
      },
      "source": [
        "#### Indexing with slices"
      ]
    },
    {
      "cell_type": "markdown",
      "metadata": {
        "id": "9aBw6Sosywno",
        "colab_type": "text"
      },
      "source": [
        "```ndarrays``` can be sliced similar to one-dimensional arrays"
      ]
    },
    {
      "cell_type": "code",
      "metadata": {
        "id": "AetxHB9lywno",
        "colab_type": "code",
        "colab": {
          "base_uri": "https://localhost:8080/",
          "height": 34
        },
        "outputId": "c29750fb-5bc8-4113-d801-273186079e7c"
      },
      "source": [
        "arr"
      ],
      "execution_count": 62,
      "outputs": [
        {
          "output_type": "execute_result",
          "data": {
            "text/plain": [
              "array([ 0,  1,  2,  3,  4, 64, 64, 64,  8,  9])"
            ]
          },
          "metadata": {
            "tags": []
          },
          "execution_count": 62
        }
      ]
    },
    {
      "cell_type": "code",
      "metadata": {
        "id": "p4cTbgexywnr",
        "colab_type": "code",
        "colab": {
          "base_uri": "https://localhost:8080/",
          "height": 34
        },
        "outputId": "da42aace-0664-4832-866d-0deca6561b09"
      },
      "source": [
        "#  Slice elements\n",
        "arr[1:6]"
      ],
      "execution_count": 63,
      "outputs": [
        {
          "output_type": "execute_result",
          "data": {
            "text/plain": [
              "array([ 1,  2,  3,  4, 64])"
            ]
          },
          "metadata": {
            "tags": []
          },
          "execution_count": 63
        }
      ]
    },
    {
      "cell_type": "code",
      "metadata": {
        "id": "mEk-Q5caywnt",
        "colab_type": "code",
        "colab": {
          "base_uri": "https://localhost:8080/",
          "height": 70
        },
        "outputId": "06cefddc-2b81-4c21-c113-15bc7df17583"
      },
      "source": [
        "arr2d"
      ],
      "execution_count": 64,
      "outputs": [
        {
          "output_type": "execute_result",
          "data": {
            "text/plain": [
              "array([[1, 2, 3],\n",
              "       [4, 5, 6],\n",
              "       [7, 8, 9]])"
            ]
          },
          "metadata": {
            "tags": []
          },
          "execution_count": 64
        }
      ]
    },
    {
      "cell_type": "code",
      "metadata": {
        "id": "SbUFN7w0ywny",
        "colab_type": "code",
        "colab": {
          "base_uri": "https://localhost:8080/",
          "height": 52
        },
        "outputId": "0ad0a0d1-df30-488f-e698-457fe3c68810"
      },
      "source": [
        "# Select last two rows\n",
        "arr2d[1:]"
      ],
      "execution_count": 65,
      "outputs": [
        {
          "output_type": "execute_result",
          "data": {
            "text/plain": [
              "array([[4, 5, 6],\n",
              "       [7, 8, 9]])"
            ]
          },
          "metadata": {
            "tags": []
          },
          "execution_count": 65
        }
      ]
    },
    {
      "cell_type": "code",
      "metadata": {
        "id": "9_FpX_SMywn0",
        "colab_type": "code",
        "colab": {
          "base_uri": "https://localhost:8080/",
          "height": 34
        },
        "outputId": "1cae2415-1a33-4521-e29c-baef53d6092e"
      },
      "source": [
        "# Select first two elements of second row\n",
        "arr2d[1, :2]"
      ],
      "execution_count": 66,
      "outputs": [
        {
          "output_type": "execute_result",
          "data": {
            "text/plain": [
              "array([4, 5])"
            ]
          },
          "metadata": {
            "tags": []
          },
          "execution_count": 66
        }
      ]
    },
    {
      "cell_type": "code",
      "metadata": {
        "id": "s7U30x8Uywn2",
        "colab_type": "code",
        "colab": {
          "base_uri": "https://localhost:8080/",
          "height": 34
        },
        "outputId": "c9dfa4fe-61de-461f-fca3-d0a775e15999"
      },
      "source": [
        "# Select the third column but only the first two rows\n",
        "arr2d[:2, 2]"
      ],
      "execution_count": 67,
      "outputs": [
        {
          "output_type": "execute_result",
          "data": {
            "text/plain": [
              "array([3, 6])"
            ]
          },
          "metadata": {
            "tags": []
          },
          "execution_count": 67
        }
      ]
    },
    {
      "cell_type": "code",
      "metadata": {
        "id": "u2wvmgLCywn6",
        "colab_type": "code",
        "colab": {
          "base_uri": "https://localhost:8080/",
          "height": 70
        },
        "outputId": "1495c5d3-971b-44be-ac5b-b887b779506d"
      },
      "source": [
        "# A colon by itself means to take the entire axis\n",
        "arr2d[:, :1]"
      ],
      "execution_count": 68,
      "outputs": [
        {
          "output_type": "execute_result",
          "data": {
            "text/plain": [
              "array([[1],\n",
              "       [4],\n",
              "       [7]])"
            ]
          },
          "metadata": {
            "tags": []
          },
          "execution_count": 68
        }
      ]
    },
    {
      "cell_type": "code",
      "metadata": {
        "id": "8xmEn0lmywn9",
        "colab_type": "code",
        "colab": {
          "base_uri": "https://localhost:8080/",
          "height": 70
        },
        "outputId": "eebbf69e-2ed8-41c5-d3a2-76e0833b6222"
      },
      "source": [
        "# Assigning to a slice expression assigns to the whole selection\n",
        "arr2d[:2, 1:] = 0\n",
        "arr2d"
      ],
      "execution_count": 69,
      "outputs": [
        {
          "output_type": "execute_result",
          "data": {
            "text/plain": [
              "array([[1, 0, 0],\n",
              "       [4, 0, 0],\n",
              "       [7, 8, 9]])"
            ]
          },
          "metadata": {
            "tags": []
          },
          "execution_count": 69
        }
      ]
    },
    {
      "cell_type": "markdown",
      "metadata": {
        "id": "Bj0rt92tywn_",
        "colab_type": "text"
      },
      "source": [
        "#### Boolean Indexing"
      ]
    },
    {
      "cell_type": "code",
      "metadata": {
        "id": "1zyJaOXGywoA",
        "colab_type": "code",
        "colab": {
          "base_uri": "https://localhost:8080/",
          "height": 34
        },
        "outputId": "99d78529-303a-4222-e4a9-7d005bdda1ad"
      },
      "source": [
        "names = np.array(['Bob', 'Joe', 'Will', 'Bob', 'Will', 'Joe', 'Joe'])\n",
        "names"
      ],
      "execution_count": 70,
      "outputs": [
        {
          "output_type": "execute_result",
          "data": {
            "text/plain": [
              "array(['Bob', 'Joe', 'Will', 'Bob', 'Will', 'Joe', 'Joe'], dtype='<U4')"
            ]
          },
          "metadata": {
            "tags": []
          },
          "execution_count": 70
        }
      ]
    },
    {
      "cell_type": "code",
      "metadata": {
        "id": "dKvjmON1ywoD",
        "colab_type": "code",
        "colab": {
          "base_uri": "https://localhost:8080/",
          "height": 141
        },
        "outputId": "4e931299-a0ce-490b-ba43-20e998cfdedd"
      },
      "source": [
        "data = np.random.randn(7, 4)\n",
        "data"
      ],
      "execution_count": 71,
      "outputs": [
        {
          "output_type": "execute_result",
          "data": {
            "text/plain": [
              "array([[-0.55003964,  1.92091034,  1.13158098,  0.0137763 ],\n",
              "       [ 0.48633734, -1.03234274, -0.31357142, -1.93970497],\n",
              "       [ 1.35935923,  1.02897455, -0.07490067, -2.15890456],\n",
              "       [-0.45094467, -0.63506049,  0.90258933, -0.66269041],\n",
              "       [-2.30497846, -0.4474379 , -0.69080456, -1.6769151 ],\n",
              "       [ 0.59516473,  0.19559767, -1.26777942,  0.84088743],\n",
              "       [-0.63375097,  0.67280492,  0.69395748, -0.23713751]])"
            ]
          },
          "metadata": {
            "tags": []
          },
          "execution_count": 71
        }
      ]
    },
    {
      "cell_type": "code",
      "metadata": {
        "id": "l3RS9nr-ywoF",
        "colab_type": "code",
        "colab": {
          "base_uri": "https://localhost:8080/",
          "height": 34
        },
        "outputId": "7ef84f5e-07ab-4b98-8da3-0a643802ef9b"
      },
      "source": [
        "data[names == 'Bob', 3]"
      ],
      "execution_count": 72,
      "outputs": [
        {
          "output_type": "execute_result",
          "data": {
            "text/plain": [
              "array([ 0.0137763 , -0.66269041])"
            ]
          },
          "metadata": {
            "tags": []
          },
          "execution_count": 72
        }
      ]
    },
    {
      "cell_type": "code",
      "metadata": {
        "id": "TDFzrz3OywoI",
        "colab_type": "code",
        "colab": {
          "base_uri": "https://localhost:8080/",
          "height": 34
        },
        "outputId": "e22ada37-9a91-40a0-d1f9-5b2140611b0b"
      },
      "source": [
        "names != 'Bob'"
      ],
      "execution_count": 73,
      "outputs": [
        {
          "output_type": "execute_result",
          "data": {
            "text/plain": [
              "array([False,  True,  True, False,  True,  True,  True])"
            ]
          },
          "metadata": {
            "tags": []
          },
          "execution_count": 73
        }
      ]
    },
    {
      "cell_type": "code",
      "metadata": {
        "id": "-YY8Elz5ywoK",
        "colab_type": "code",
        "colab": {
          "base_uri": "https://localhost:8080/",
          "height": 105
        },
        "outputId": "b1a16486-e9ae-4230-b221-c1cdfef3c041"
      },
      "source": [
        "data[~(names == 'Bob')]"
      ],
      "execution_count": 74,
      "outputs": [
        {
          "output_type": "execute_result",
          "data": {
            "text/plain": [
              "array([[ 0.48633734, -1.03234274, -0.31357142, -1.93970497],\n",
              "       [ 1.35935923,  1.02897455, -0.07490067, -2.15890456],\n",
              "       [-2.30497846, -0.4474379 , -0.69080456, -1.6769151 ],\n",
              "       [ 0.59516473,  0.19559767, -1.26777942,  0.84088743],\n",
              "       [-0.63375097,  0.67280492,  0.69395748, -0.23713751]])"
            ]
          },
          "metadata": {
            "tags": []
          },
          "execution_count": 74
        }
      ]
    },
    {
      "cell_type": "code",
      "metadata": {
        "id": "tQj2VwWaywoM",
        "colab_type": "code",
        "colab": {
          "base_uri": "https://localhost:8080/",
          "height": 105
        },
        "outputId": "871b4dd2-ebdb-4d66-98aa-8fa8314daee2"
      },
      "source": [
        "cond = names == 'Bob'\n",
        "data[~cond]"
      ],
      "execution_count": 75,
      "outputs": [
        {
          "output_type": "execute_result",
          "data": {
            "text/plain": [
              "array([[ 0.48633734, -1.03234274, -0.31357142, -1.93970497],\n",
              "       [ 1.35935923,  1.02897455, -0.07490067, -2.15890456],\n",
              "       [-2.30497846, -0.4474379 , -0.69080456, -1.6769151 ],\n",
              "       [ 0.59516473,  0.19559767, -1.26777942,  0.84088743],\n",
              "       [-0.63375097,  0.67280492,  0.69395748, -0.23713751]])"
            ]
          },
          "metadata": {
            "tags": []
          },
          "execution_count": 75
        }
      ]
    },
    {
      "cell_type": "code",
      "metadata": {
        "id": "0CgD6XXUywoO",
        "colab_type": "code",
        "colab": {
          "base_uri": "https://localhost:8080/",
          "height": 34
        },
        "outputId": "964e7e05-9c21-4727-a3b9-1c6d5f8ef29d"
      },
      "source": [
        "mask = (names == 'Bob') | (names == 'Will')\n",
        "mask"
      ],
      "execution_count": 76,
      "outputs": [
        {
          "output_type": "execute_result",
          "data": {
            "text/plain": [
              "array([ True, False,  True,  True,  True, False, False])"
            ]
          },
          "metadata": {
            "tags": []
          },
          "execution_count": 76
        }
      ]
    },
    {
      "cell_type": "code",
      "metadata": {
        "id": "DE_gYuIrywoU",
        "colab_type": "code",
        "colab": {
          "base_uri": "https://localhost:8080/",
          "height": 87
        },
        "outputId": "730f1764-9d4a-4763-e588-2aec51b80024"
      },
      "source": [
        "data[mask]"
      ],
      "execution_count": 77,
      "outputs": [
        {
          "output_type": "execute_result",
          "data": {
            "text/plain": [
              "array([[-0.55003964,  1.92091034,  1.13158098,  0.0137763 ],\n",
              "       [ 1.35935923,  1.02897455, -0.07490067, -2.15890456],\n",
              "       [-0.45094467, -0.63506049,  0.90258933, -0.66269041],\n",
              "       [-2.30497846, -0.4474379 , -0.69080456, -1.6769151 ]])"
            ]
          },
          "metadata": {
            "tags": []
          },
          "execution_count": 77
        }
      ]
    },
    {
      "cell_type": "code",
      "metadata": {
        "id": "swTyBA5rywoW",
        "colab_type": "code",
        "colab": {
          "base_uri": "https://localhost:8080/",
          "height": 141
        },
        "outputId": "d916316c-a813-445d-dafc-fd82ef218352"
      },
      "source": [
        "data[data < 0] = 0\n",
        "data"
      ],
      "execution_count": 78,
      "outputs": [
        {
          "output_type": "execute_result",
          "data": {
            "text/plain": [
              "array([[0.        , 1.92091034, 1.13158098, 0.0137763 ],\n",
              "       [0.48633734, 0.        , 0.        , 0.        ],\n",
              "       [1.35935923, 1.02897455, 0.        , 0.        ],\n",
              "       [0.        , 0.        , 0.90258933, 0.        ],\n",
              "       [0.        , 0.        , 0.        , 0.        ],\n",
              "       [0.59516473, 0.19559767, 0.        , 0.84088743],\n",
              "       [0.        , 0.67280492, 0.69395748, 0.        ]])"
            ]
          },
          "metadata": {
            "tags": []
          },
          "execution_count": 78
        }
      ]
    },
    {
      "cell_type": "code",
      "metadata": {
        "id": "cW7BE6AKywoZ",
        "colab_type": "code",
        "colab": {
          "base_uri": "https://localhost:8080/",
          "height": 141
        },
        "outputId": "da189e6e-9fb6-496e-f383-4dbbdd2334ac"
      },
      "source": [
        "data[names != 'Joe'] = 7\n",
        "data"
      ],
      "execution_count": 79,
      "outputs": [
        {
          "output_type": "execute_result",
          "data": {
            "text/plain": [
              "array([[7.        , 7.        , 7.        , 7.        ],\n",
              "       [0.48633734, 0.        , 0.        , 0.        ],\n",
              "       [7.        , 7.        , 7.        , 7.        ],\n",
              "       [7.        , 7.        , 7.        , 7.        ],\n",
              "       [7.        , 7.        , 7.        , 7.        ],\n",
              "       [0.59516473, 0.19559767, 0.        , 0.84088743],\n",
              "       [0.        , 0.67280492, 0.69395748, 0.        ]])"
            ]
          },
          "metadata": {
            "tags": []
          },
          "execution_count": 79
        }
      ]
    },
    {
      "cell_type": "markdown",
      "metadata": {
        "id": "phYsqo3qywob",
        "colab_type": "text"
      },
      "source": [
        "#### Fancy Indexing"
      ]
    },
    {
      "cell_type": "code",
      "metadata": {
        "id": "td3zavjNywoc",
        "colab_type": "code",
        "colab": {
          "base_uri": "https://localhost:8080/",
          "height": 158
        },
        "outputId": "0eb12bb3-7db5-4531-a4bf-e94a6a965601"
      },
      "source": [
        "arr = np.empty((8, 4))\n",
        "for i in range(8):\n",
        "    arr[i] = i\n",
        "arr"
      ],
      "execution_count": 80,
      "outputs": [
        {
          "output_type": "execute_result",
          "data": {
            "text/plain": [
              "array([[0., 0., 0., 0.],\n",
              "       [1., 1., 1., 1.],\n",
              "       [2., 2., 2., 2.],\n",
              "       [3., 3., 3., 3.],\n",
              "       [4., 4., 4., 4.],\n",
              "       [5., 5., 5., 5.],\n",
              "       [6., 6., 6., 6.],\n",
              "       [7., 7., 7., 7.]])"
            ]
          },
          "metadata": {
            "tags": []
          },
          "execution_count": 80
        }
      ]
    },
    {
      "cell_type": "code",
      "metadata": {
        "id": "ZY-ujaZpywoe",
        "colab_type": "code",
        "colab": {
          "base_uri": "https://localhost:8080/",
          "height": 87
        },
        "outputId": "7406606b-65f5-462a-a248-94bcef89cd5b"
      },
      "source": [
        "arr[[4, 3, 0, 6]]"
      ],
      "execution_count": 81,
      "outputs": [
        {
          "output_type": "execute_result",
          "data": {
            "text/plain": [
              "array([[4., 4., 4., 4.],\n",
              "       [3., 3., 3., 3.],\n",
              "       [0., 0., 0., 0.],\n",
              "       [6., 6., 6., 6.]])"
            ]
          },
          "metadata": {
            "tags": []
          },
          "execution_count": 81
        }
      ]
    },
    {
      "cell_type": "code",
      "metadata": {
        "id": "YjMpXBquywog",
        "colab_type": "code",
        "colab": {
          "base_uri": "https://localhost:8080/",
          "height": 70
        },
        "outputId": "2021316e-cd44-4def-de36-60be9147369a"
      },
      "source": [
        "arr[[-3, -5, -7]]"
      ],
      "execution_count": 82,
      "outputs": [
        {
          "output_type": "execute_result",
          "data": {
            "text/plain": [
              "array([[5., 5., 5., 5.],\n",
              "       [3., 3., 3., 3.],\n",
              "       [1., 1., 1., 1.]])"
            ]
          },
          "metadata": {
            "tags": []
          },
          "execution_count": 82
        }
      ]
    },
    {
      "cell_type": "code",
      "metadata": {
        "id": "xUdmYmnYywoh",
        "colab_type": "code",
        "colab": {
          "base_uri": "https://localhost:8080/",
          "height": 158
        },
        "outputId": "f2e17e82-3a75-4859-d936-ce6f96f3bb10"
      },
      "source": [
        "arr = np.arange(32).reshape((8, 4))\n",
        "arr"
      ],
      "execution_count": 83,
      "outputs": [
        {
          "output_type": "execute_result",
          "data": {
            "text/plain": [
              "array([[ 0,  1,  2,  3],\n",
              "       [ 4,  5,  6,  7],\n",
              "       [ 8,  9, 10, 11],\n",
              "       [12, 13, 14, 15],\n",
              "       [16, 17, 18, 19],\n",
              "       [20, 21, 22, 23],\n",
              "       [24, 25, 26, 27],\n",
              "       [28, 29, 30, 31]])"
            ]
          },
          "metadata": {
            "tags": []
          },
          "execution_count": 83
        }
      ]
    },
    {
      "cell_type": "code",
      "metadata": {
        "id": "ANHp7UCiywoj",
        "colab_type": "code",
        "colab": {
          "base_uri": "https://localhost:8080/",
          "height": 34
        },
        "outputId": "8b46c39e-8cea-42a5-c192-c60bb4580fc2"
      },
      "source": [
        "# First list indexes row / second list indexes column\n",
        "arr[[1, 5, 7, 2], [0, 3, 1, 2]]"
      ],
      "execution_count": 84,
      "outputs": [
        {
          "output_type": "execute_result",
          "data": {
            "text/plain": [
              "array([ 4, 23, 29, 10])"
            ]
          },
          "metadata": {
            "tags": []
          },
          "execution_count": 84
        }
      ]
    },
    {
      "cell_type": "code",
      "metadata": {
        "id": "otmIfhT3ywol",
        "colab_type": "code",
        "colab": {
          "base_uri": "https://localhost:8080/",
          "height": 87
        },
        "outputId": "ce04e510-bd1f-49b3-a6d3-6438b0ace038"
      },
      "source": [
        "arr[[1, 5, 7, 2]][:, [0, 3, 1, 2]]"
      ],
      "execution_count": 85,
      "outputs": [
        {
          "output_type": "execute_result",
          "data": {
            "text/plain": [
              "array([[ 4,  7,  5,  6],\n",
              "       [20, 23, 21, 22],\n",
              "       [28, 31, 29, 30],\n",
              "       [ 8, 11,  9, 10]])"
            ]
          },
          "metadata": {
            "tags": []
          },
          "execution_count": 85
        }
      ]
    },
    {
      "cell_type": "code",
      "metadata": {
        "id": "ufgagCaYywon",
        "colab_type": "code",
        "colab": {
          "base_uri": "https://localhost:8080/",
          "height": 194
        },
        "outputId": "8b5c0908-8d39-475f-a4ab-107acc9f1997"
      },
      "source": [
        "matrix = np.random.randint(0,9,100).reshape((10,10))\n",
        "matrix"
      ],
      "execution_count": 86,
      "outputs": [
        {
          "output_type": "execute_result",
          "data": {
            "text/plain": [
              "array([[8, 5, 5, 3, 6, 1, 6, 8, 7, 6],\n",
              "       [1, 3, 2, 7, 0, 5, 7, 0, 7, 2],\n",
              "       [3, 1, 3, 4, 7, 1, 6, 5, 1, 4],\n",
              "       [0, 3, 2, 8, 8, 1, 8, 4, 3, 3],\n",
              "       [5, 2, 1, 7, 8, 4, 0, 0, 6, 1],\n",
              "       [3, 1, 2, 2, 7, 1, 1, 7, 8, 7],\n",
              "       [0, 2, 2, 1, 7, 1, 0, 4, 8, 8],\n",
              "       [0, 8, 8, 1, 0, 0, 0, 1, 0, 8],\n",
              "       [5, 0, 8, 5, 2, 4, 0, 4, 0, 1],\n",
              "       [5, 3, 3, 1, 2, 0, 2, 6, 1, 6]])"
            ]
          },
          "metadata": {
            "tags": []
          },
          "execution_count": 86
        }
      ]
    },
    {
      "cell_type": "code",
      "metadata": {
        "id": "EqRV-zFjywop",
        "colab_type": "code",
        "colab": {
          "base_uri": "https://localhost:8080/",
          "height": 230
        },
        "outputId": "5a6b9439-e8aa-493c-d0a7-3315d234aa25"
      },
      "source": [
        "[print('*', end=\"\") for i in range(0, matrix.shape[1]*2+2)]\n",
        "print('*', end=\"\\n\")\n",
        "for row in range(0,matrix.shape[0]):\n",
        "    print('* ', end=\"\")\n",
        "    [print(i, end=\" \") for i in matrix[row]]\n",
        "    print('*', end=\"\\n\")\n",
        "[print('*', end=\"\") for i in range(0, matrix.shape[1]*2+2)]\n",
        "print('*', end=\"\\n\")"
      ],
      "execution_count": 87,
      "outputs": [
        {
          "output_type": "stream",
          "text": [
            "***********************\n",
            "* 8 5 5 3 6 1 6 8 7 6 *\n",
            "* 1 3 2 7 0 5 7 0 7 2 *\n",
            "* 3 1 3 4 7 1 6 5 1 4 *\n",
            "* 0 3 2 8 8 1 8 4 3 3 *\n",
            "* 5 2 1 7 8 4 0 0 6 1 *\n",
            "* 3 1 2 2 7 1 1 7 8 7 *\n",
            "* 0 2 2 1 7 1 0 4 8 8 *\n",
            "* 0 8 8 1 0 0 0 1 0 8 *\n",
            "* 5 0 8 5 2 4 0 4 0 1 *\n",
            "* 5 3 3 1 2 0 2 6 1 6 *\n",
            "***********************\n"
          ],
          "name": "stdout"
        }
      ]
    },
    {
      "cell_type": "markdown",
      "metadata": {
        "id": "ehRVuQlrywos",
        "colab_type": "text"
      },
      "source": [
        "#### Transposing Arrays and Swapping Axes"
      ]
    },
    {
      "cell_type": "code",
      "metadata": {
        "id": "h31ZX602ywos",
        "colab_type": "code",
        "colab": {
          "base_uri": "https://localhost:8080/",
          "height": 70
        },
        "outputId": "58df9ade-d74d-4fbf-c088-45cec9cc8803"
      },
      "source": [
        "arr = np.arange(15).reshape((3, 5))\n",
        "arr"
      ],
      "execution_count": 88,
      "outputs": [
        {
          "output_type": "execute_result",
          "data": {
            "text/plain": [
              "array([[ 0,  1,  2,  3,  4],\n",
              "       [ 5,  6,  7,  8,  9],\n",
              "       [10, 11, 12, 13, 14]])"
            ]
          },
          "metadata": {
            "tags": []
          },
          "execution_count": 88
        }
      ]
    },
    {
      "cell_type": "code",
      "metadata": {
        "id": "C3Nh9kkaywou",
        "colab_type": "code",
        "colab": {
          "base_uri": "https://localhost:8080/",
          "height": 105
        },
        "outputId": "6abfca84-c2b7-42a1-807b-d4c33133bdee"
      },
      "source": [
        "arr.T"
      ],
      "execution_count": 89,
      "outputs": [
        {
          "output_type": "execute_result",
          "data": {
            "text/plain": [
              "array([[ 0,  5, 10],\n",
              "       [ 1,  6, 11],\n",
              "       [ 2,  7, 12],\n",
              "       [ 3,  8, 13],\n",
              "       [ 4,  9, 14]])"
            ]
          },
          "metadata": {
            "tags": []
          },
          "execution_count": 89
        }
      ]
    },
    {
      "cell_type": "markdown",
      "metadata": {
        "id": "p9e_OSOTywov",
        "colab_type": "text"
      },
      "source": [
        "When doing matrix computations, compute the inner matrix product using ```np.dot```.\n",
        "\n",
        "Note: An easy way to determine the shape of a resulting matrix is to take number of rows from first one and number of columns from second one."
      ]
    },
    {
      "cell_type": "code",
      "metadata": {
        "id": "HFQFoJAPywov",
        "colab_type": "code",
        "colab": {
          "base_uri": "https://localhost:8080/",
          "height": 70
        },
        "outputId": "59dd50f9-2c55-444f-f5a3-d6cce01fd006"
      },
      "source": [
        "arr = np.random.randint(5, size=(3, 2))\n",
        "arr"
      ],
      "execution_count": 90,
      "outputs": [
        {
          "output_type": "execute_result",
          "data": {
            "text/plain": [
              "array([[3, 4],\n",
              "       [0, 4],\n",
              "       [4, 1]])"
            ]
          },
          "metadata": {
            "tags": []
          },
          "execution_count": 90
        }
      ]
    },
    {
      "cell_type": "code",
      "metadata": {
        "id": "2rtMYw8Oywoz",
        "colab_type": "code",
        "colab": {
          "base_uri": "https://localhost:8080/",
          "height": 52
        },
        "outputId": "5f2787cc-c71c-4ce5-b716-124274b300fe"
      },
      "source": [
        "arr.T"
      ],
      "execution_count": 91,
      "outputs": [
        {
          "output_type": "execute_result",
          "data": {
            "text/plain": [
              "array([[3, 0, 4],\n",
              "       [4, 4, 1]])"
            ]
          },
          "metadata": {
            "tags": []
          },
          "execution_count": 91
        }
      ]
    },
    {
      "cell_type": "code",
      "metadata": {
        "id": "pfHsAaFNywo2",
        "colab_type": "code",
        "colab": {
          "base_uri": "https://localhost:8080/",
          "height": 52
        },
        "outputId": "537e7c99-8ec5-4472-a306-95a156ea7764"
      },
      "source": [
        "# Multiply (2,3) by (3,2) will yield a (2, 2) matrix\n",
        "np.dot(arr.T, arr)"
      ],
      "execution_count": 92,
      "outputs": [
        {
          "output_type": "execute_result",
          "data": {
            "text/plain": [
              "array([[25, 16],\n",
              "       [16, 33]])"
            ]
          },
          "metadata": {
            "tags": []
          },
          "execution_count": 92
        }
      ]
    },
    {
      "cell_type": "code",
      "metadata": {
        "id": "g54Yjqkaywo4",
        "colab_type": "code",
        "colab": {
          "base_uri": "https://localhost:8080/",
          "height": 70
        },
        "outputId": "b8529716-88ee-4428-a501-e2fcd9cb68f2"
      },
      "source": [
        "# Multiply (3,2) by (2,3) will yield a (3,3) matrix\n",
        "np.dot(arr, arr.T)"
      ],
      "execution_count": 93,
      "outputs": [
        {
          "output_type": "execute_result",
          "data": {
            "text/plain": [
              "array([[25, 16, 16],\n",
              "       [16, 16,  4],\n",
              "       [16,  4, 17]])"
            ]
          },
          "metadata": {
            "tags": []
          },
          "execution_count": 93
        }
      ]
    },
    {
      "cell_type": "code",
      "metadata": {
        "id": "b3sF7GOqywo7",
        "colab_type": "code",
        "colab": {
          "base_uri": "https://localhost:8080/",
          "height": 52
        },
        "outputId": "7ed1540a-eb19-4573-f0df-ff2b330d6a1b"
      },
      "source": [
        "# Multiple (3,2) by (2,5) will yield a (3,5) matrix\n",
        "arr2 = np.random.randint(5, size=(2, 5))\n",
        "arr2"
      ],
      "execution_count": 94,
      "outputs": [
        {
          "output_type": "execute_result",
          "data": {
            "text/plain": [
              "array([[0, 3, 0, 1, 0],\n",
              "       [3, 3, 3, 2, 4]])"
            ]
          },
          "metadata": {
            "tags": []
          },
          "execution_count": 94
        }
      ]
    },
    {
      "cell_type": "code",
      "metadata": {
        "id": "MurGlVLeywo9",
        "colab_type": "code",
        "colab": {
          "base_uri": "https://localhost:8080/",
          "height": 70
        },
        "outputId": "e274e5a4-8b04-42ad-d1a0-c777c7740b34"
      },
      "source": [
        "np.dot(arr, arr2)"
      ],
      "execution_count": 95,
      "outputs": [
        {
          "output_type": "execute_result",
          "data": {
            "text/plain": [
              "array([[12, 21, 12, 11, 16],\n",
              "       [12, 12, 12,  8, 16],\n",
              "       [ 3, 15,  3,  6,  4]])"
            ]
          },
          "metadata": {
            "tags": []
          },
          "execution_count": 95
        }
      ]
    },
    {
      "cell_type": "code",
      "metadata": {
        "id": "0n1Y7JTGywo_",
        "colab_type": "code",
        "colab": {
          "base_uri": "https://localhost:8080/",
          "height": 105
        },
        "outputId": "3aa0d155-474b-4f0d-b48e-9bfc6748f2f6"
      },
      "source": [
        "arr3 = np.arange(16).reshape((2, 2, 4))\n",
        "arr3"
      ],
      "execution_count": 96,
      "outputs": [
        {
          "output_type": "execute_result",
          "data": {
            "text/plain": [
              "array([[[ 0,  1,  2,  3],\n",
              "        [ 4,  5,  6,  7]],\n",
              "\n",
              "       [[ 8,  9, 10, 11],\n",
              "        [12, 13, 14, 15]]])"
            ]
          },
          "metadata": {
            "tags": []
          },
          "execution_count": 96
        }
      ]
    },
    {
      "cell_type": "markdown",
      "metadata": {
        "id": "X3NEztJ2ywpA",
        "colab_type": "text"
      },
      "source": [
        "Reorder axes with the second axis first, the first axis second, and the last axis unchanged"
      ]
    },
    {
      "cell_type": "code",
      "metadata": {
        "id": "gacsKTwHywpB",
        "colab_type": "code",
        "colab": {
          "base_uri": "https://localhost:8080/",
          "height": 105
        },
        "outputId": "c606a064-3478-44f5-fda1-1cd2ff0d3568"
      },
      "source": [
        "arr3.transpose((1, 0 , 2))"
      ],
      "execution_count": 97,
      "outputs": [
        {
          "output_type": "execute_result",
          "data": {
            "text/plain": [
              "array([[[ 0,  1,  2,  3],\n",
              "        [ 8,  9, 10, 11]],\n",
              "\n",
              "       [[ 4,  5,  6,  7],\n",
              "        [12, 13, 14, 15]]])"
            ]
          },
          "metadata": {
            "tags": []
          },
          "execution_count": 97
        }
      ]
    },
    {
      "cell_type": "markdown",
      "metadata": {
        "id": "MQPlIC_eywpC",
        "colab_type": "text"
      },
      "source": [
        "```ndarray``` has the method ```swapaxes```, which takes a pair of axis numbers and switches the indicated axes to rearrange\n",
        "the data"
      ]
    },
    {
      "cell_type": "code",
      "metadata": {
        "id": "Bc8_UAYTywpD",
        "colab_type": "code",
        "colab": {
          "base_uri": "https://localhost:8080/",
          "height": 176
        },
        "outputId": "c0354bf8-d020-4628-a3ba-f186c82244d6"
      },
      "source": [
        "arr3.swapaxes(1, 2)"
      ],
      "execution_count": 98,
      "outputs": [
        {
          "output_type": "execute_result",
          "data": {
            "text/plain": [
              "array([[[ 0,  4],\n",
              "        [ 1,  5],\n",
              "        [ 2,  6],\n",
              "        [ 3,  7]],\n",
              "\n",
              "       [[ 8, 12],\n",
              "        [ 9, 13],\n",
              "        [10, 14],\n",
              "        [11, 15]]])"
            ]
          },
          "metadata": {
            "tags": []
          },
          "execution_count": 98
        }
      ]
    },
    {
      "cell_type": "markdown",
      "metadata": {
        "id": "Cbjkj-IaywpE",
        "colab_type": "text"
      },
      "source": [
        "### Universal Functions: Fast Element-Wise Array Functions"
      ]
    },
    {
      "cell_type": "markdown",
      "metadata": {
        "id": "fDOZU2ybywpF",
        "colab_type": "text"
      },
      "source": [
        "A universal function, or ```ufunc```, is a function that performs element-wise operations on data in ndarrays. \n",
        "\n",
        "Consider them fast vectorized wrappers for simple functions that take one or more scalar values and produce one or more scalar results."
      ]
    },
    {
      "cell_type": "markdown",
      "metadata": {
        "id": "p72Q4gN3ywpF",
        "colab_type": "text"
      },
      "source": [
        "***Unary*** ufuncs - Take a single array and return a single array as result"
      ]
    },
    {
      "cell_type": "code",
      "metadata": {
        "id": "Fat-ktsZywpG",
        "colab_type": "code",
        "colab": {
          "base_uri": "https://localhost:8080/",
          "height": 34
        },
        "outputId": "3da82b7e-24be-459d-ef91-5a12bad40471"
      },
      "source": [
        "arr = np.arange(10)\n",
        "arr"
      ],
      "execution_count": 99,
      "outputs": [
        {
          "output_type": "execute_result",
          "data": {
            "text/plain": [
              "array([0, 1, 2, 3, 4, 5, 6, 7, 8, 9])"
            ]
          },
          "metadata": {
            "tags": []
          },
          "execution_count": 99
        }
      ]
    },
    {
      "cell_type": "code",
      "metadata": {
        "id": "PRkbrlNVywpH",
        "colab_type": "code",
        "colab": {
          "base_uri": "https://localhost:8080/",
          "height": 52
        },
        "outputId": "77d53add-6005-405c-9f55-6f9696802e96"
      },
      "source": [
        "# Element-wise transformation for square root\n",
        "np.sqrt(arr)"
      ],
      "execution_count": 100,
      "outputs": [
        {
          "output_type": "execute_result",
          "data": {
            "text/plain": [
              "array([0.        , 1.        , 1.41421356, 1.73205081, 2.        ,\n",
              "       2.23606798, 2.44948974, 2.64575131, 2.82842712, 3.        ])"
            ]
          },
          "metadata": {
            "tags": []
          },
          "execution_count": 100
        }
      ]
    },
    {
      "cell_type": "code",
      "metadata": {
        "id": "NjYBpWuHywpJ",
        "colab_type": "code",
        "colab": {
          "base_uri": "https://localhost:8080/",
          "height": 70
        },
        "outputId": "e2a03ef5-f7fd-4c48-e1b8-33a9138893ba"
      },
      "source": [
        "# Element-wise transformation for exponential in base e\n",
        "np.exp(arr)"
      ],
      "execution_count": 101,
      "outputs": [
        {
          "output_type": "execute_result",
          "data": {
            "text/plain": [
              "array([1.00000000e+00, 2.71828183e+00, 7.38905610e+00, 2.00855369e+01,\n",
              "       5.45981500e+01, 1.48413159e+02, 4.03428793e+02, 1.09663316e+03,\n",
              "       2.98095799e+03, 8.10308393e+03])"
            ]
          },
          "metadata": {
            "tags": []
          },
          "execution_count": 101
        }
      ]
    },
    {
      "cell_type": "markdown",
      "metadata": {
        "id": "JvxuLH8dywpL",
        "colab_type": "text"
      },
      "source": [
        "***Binary*** ufuncs - Take two arrays and return a single array as the result"
      ]
    },
    {
      "cell_type": "code",
      "metadata": {
        "id": "Ew9MHxngywpL",
        "colab_type": "code",
        "colab": {}
      },
      "source": [
        "# Binary ufunc - \n",
        "x = np.random.randn(8)\n",
        "y = np.random.randn(8)"
      ],
      "execution_count": 102,
      "outputs": []
    },
    {
      "cell_type": "code",
      "metadata": {
        "id": "Wx5hQxoKywpP",
        "colab_type": "code",
        "colab": {
          "base_uri": "https://localhost:8080/",
          "height": 52
        },
        "outputId": "72a49fd7-a3c3-4263-f5a4-e1935b6d24e1"
      },
      "source": [
        "x"
      ],
      "execution_count": 103,
      "outputs": [
        {
          "output_type": "execute_result",
          "data": {
            "text/plain": [
              "array([-0.0061784 , -0.80087176, -1.12400514,  0.89364357,  1.37517976,\n",
              "       -2.07149582,  1.35132292,  0.88594588])"
            ]
          },
          "metadata": {
            "tags": []
          },
          "execution_count": 103
        }
      ]
    },
    {
      "cell_type": "code",
      "metadata": {
        "id": "k-Zm-FAuywpR",
        "colab_type": "code",
        "colab": {
          "base_uri": "https://localhost:8080/",
          "height": 52
        },
        "outputId": "0e1d13f4-6017-4e85-a698-57dc5f3364aa"
      },
      "source": [
        "y"
      ],
      "execution_count": 104,
      "outputs": [
        {
          "output_type": "execute_result",
          "data": {
            "text/plain": [
              "array([ 0.40587008, -0.61520089, -0.39457368,  0.8053153 , -0.78209745,\n",
              "       -1.48347834, -0.15603903,  1.24316516])"
            ]
          },
          "metadata": {
            "tags": []
          },
          "execution_count": 104
        }
      ]
    },
    {
      "cell_type": "code",
      "metadata": {
        "id": "7UPZVBD4ywpW",
        "colab_type": "code",
        "colab": {
          "base_uri": "https://localhost:8080/",
          "height": 52
        },
        "outputId": "ebb2a04b-d6cf-44a9-f092-28fe21b31baa"
      },
      "source": [
        "# Element-wise comparison for maximum\n",
        "np.maximum(x, y)"
      ],
      "execution_count": 105,
      "outputs": [
        {
          "output_type": "execute_result",
          "data": {
            "text/plain": [
              "array([ 0.40587008, -0.61520089, -0.39457368,  0.89364357,  1.37517976,\n",
              "       -1.48347834,  1.35132292,  1.24316516])"
            ]
          },
          "metadata": {
            "tags": []
          },
          "execution_count": 105
        }
      ]
    },
    {
      "cell_type": "code",
      "metadata": {
        "id": "6p9b7nJKywpY",
        "colab_type": "code",
        "colab": {
          "base_uri": "https://localhost:8080/",
          "height": 52
        },
        "outputId": "8c34adc0-a790-43a9-97b8-606bd0353536"
      },
      "source": [
        "# Element-wise additon\n",
        "np.add(x, y)"
      ],
      "execution_count": 106,
      "outputs": [
        {
          "output_type": "execute_result",
          "data": {
            "text/plain": [
              "array([ 0.39969168, -1.41607264, -1.51857883,  1.69895887,  0.59308231,\n",
              "       -3.55497416,  1.19528389,  2.12911104])"
            ]
          },
          "metadata": {
            "tags": []
          },
          "execution_count": 106
        }
      ]
    },
    {
      "cell_type": "markdown",
      "metadata": {
        "id": "YX2pL9lnywpa",
        "colab_type": "text"
      },
      "source": [
        "***Multiple array*** ufunc \n",
        "\n",
        "```modf``` \n",
        "- a vectorized version of the built-in Python ```divmod```\n",
        "- returns the fractional and integral parts of a floating-point array:"
      ]
    },
    {
      "cell_type": "code",
      "metadata": {
        "id": "X42L-Necywpb",
        "colab_type": "code",
        "colab": {
          "base_uri": "https://localhost:8080/",
          "height": 52
        },
        "outputId": "658bbef4-3e1c-4e38-c356-216408d8d758"
      },
      "source": [
        "arr = np.random.randn(7) * 5\n",
        "arr"
      ],
      "execution_count": 107,
      "outputs": [
        {
          "output_type": "execute_result",
          "data": {
            "text/plain": [
              "array([ 0.83138429,  1.19261046,  1.75736193, -2.1128747 ,  4.5421768 ,\n",
              "       -8.13981825, -6.094737  ])"
            ]
          },
          "metadata": {
            "tags": []
          },
          "execution_count": 107
        }
      ]
    },
    {
      "cell_type": "code",
      "metadata": {
        "id": "KkUzmWhiywpc",
        "colab_type": "code",
        "colab": {}
      },
      "source": [
        "remainder, whole_part = np.modf(arr)"
      ],
      "execution_count": 108,
      "outputs": []
    },
    {
      "cell_type": "code",
      "metadata": {
        "id": "Ad79XlFSywpe",
        "colab_type": "code",
        "colab": {
          "base_uri": "https://localhost:8080/",
          "height": 52
        },
        "outputId": "615d6f1c-568f-488c-a1e8-5ea082d3edaa"
      },
      "source": [
        "remainder"
      ],
      "execution_count": 109,
      "outputs": [
        {
          "output_type": "execute_result",
          "data": {
            "text/plain": [
              "array([ 0.83138429,  0.19261046,  0.75736193, -0.1128747 ,  0.5421768 ,\n",
              "       -0.13981825, -0.094737  ])"
            ]
          },
          "metadata": {
            "tags": []
          },
          "execution_count": 109
        }
      ]
    },
    {
      "cell_type": "code",
      "metadata": {
        "id": "N61oYLmyywpg",
        "colab_type": "code",
        "colab": {
          "base_uri": "https://localhost:8080/",
          "height": 34
        },
        "outputId": "f72aa37e-8952-49d1-9f18-b5c34227e59f"
      },
      "source": [
        "whole_part"
      ],
      "execution_count": 110,
      "outputs": [
        {
          "output_type": "execute_result",
          "data": {
            "text/plain": [
              "array([ 0.,  1.,  1., -2.,  4., -8., -6.])"
            ]
          },
          "metadata": {
            "tags": []
          },
          "execution_count": 110
        }
      ]
    },
    {
      "cell_type": "markdown",
      "metadata": {
        "id": "b7pufAceywpi",
        "colab_type": "text"
      },
      "source": [
        "Ufuncs accept an optional out argument that allows them to operate in-place on arrays"
      ]
    },
    {
      "cell_type": "code",
      "metadata": {
        "id": "VNvznQiYywpi",
        "colab_type": "code",
        "colab": {
          "base_uri": "https://localhost:8080/",
          "height": 34
        },
        "outputId": "038046a4-4d47-4990-e0df-c833e4f34132"
      },
      "source": [
        "arr = np.random.randn(5)+5\n",
        "arr"
      ],
      "execution_count": 111,
      "outputs": [
        {
          "output_type": "execute_result",
          "data": {
            "text/plain": [
              "array([6.0283925 , 4.46503141, 4.81914008, 6.65227114, 3.1582784 ])"
            ]
          },
          "metadata": {
            "tags": []
          },
          "execution_count": 111
        }
      ]
    },
    {
      "cell_type": "code",
      "metadata": {
        "id": "bUCazAGfywpj",
        "colab_type": "code",
        "colab": {
          "base_uri": "https://localhost:8080/",
          "height": 34
        },
        "outputId": "b17170dd-2cff-4498-a3ca-876d7bd4dfe9"
      },
      "source": [
        "# Copy returned\n",
        "np.sqrt(arr)"
      ],
      "execution_count": 112,
      "outputs": [
        {
          "output_type": "execute_result",
          "data": {
            "text/plain": [
              "array([2.4552785 , 2.11306209, 2.19525399, 2.57919971, 1.77715458])"
            ]
          },
          "metadata": {
            "tags": []
          },
          "execution_count": 112
        }
      ]
    },
    {
      "cell_type": "code",
      "metadata": {
        "id": "HCU5D93Cywpl",
        "colab_type": "code",
        "colab": {
          "base_uri": "https://localhost:8080/",
          "height": 34
        },
        "outputId": "714f1262-e94f-44ae-ae46-4fbe82636e79"
      },
      "source": [
        "# In-place operation\n",
        "np.sqrt(arr ,arr)"
      ],
      "execution_count": 113,
      "outputs": [
        {
          "output_type": "execute_result",
          "data": {
            "text/plain": [
              "array([2.4552785 , 2.11306209, 2.19525399, 2.57919971, 1.77715458])"
            ]
          },
          "metadata": {
            "tags": []
          },
          "execution_count": 113
        }
      ]
    },
    {
      "cell_type": "code",
      "metadata": {
        "id": "TEeKpfVlywpm",
        "colab_type": "code",
        "colab": {
          "base_uri": "https://localhost:8080/",
          "height": 34
        },
        "outputId": "21f53d8b-3ec5-47b2-8d0f-717863dffcb4"
      },
      "source": [
        "# Original array has been replaced\n",
        "arr"
      ],
      "execution_count": 114,
      "outputs": [
        {
          "output_type": "execute_result",
          "data": {
            "text/plain": [
              "array([2.4552785 , 2.11306209, 2.19525399, 2.57919971, 1.77715458])"
            ]
          },
          "metadata": {
            "tags": []
          },
          "execution_count": 114
        }
      ]
    },
    {
      "cell_type": "markdown",
      "metadata": {
        "id": "lHubxa8Pywpo",
        "colab_type": "text"
      },
      "source": [
        "Round elements to the nearest integer, preserving the dtype"
      ]
    },
    {
      "cell_type": "code",
      "metadata": {
        "id": "xaJfXrC_ywpo",
        "colab_type": "code",
        "colab": {
          "base_uri": "https://localhost:8080/",
          "height": 34
        },
        "outputId": "7ee0e97d-b23f-4da8-99dd-e5257f936e09"
      },
      "source": [
        "arr = np.random.randn(5)*5\n",
        "arr"
      ],
      "execution_count": 115,
      "outputs": [
        {
          "output_type": "execute_result",
          "data": {
            "text/plain": [
              "array([ 3.27553367,  2.10599517, -5.59083307,  3.60991963, -1.04158682])"
            ]
          },
          "metadata": {
            "tags": []
          },
          "execution_count": 115
        }
      ]
    },
    {
      "cell_type": "code",
      "metadata": {
        "id": "lOCEK85Rywpq",
        "colab_type": "code",
        "colab": {
          "base_uri": "https://localhost:8080/",
          "height": 34
        },
        "outputId": "b38fdccd-cca5-4890-fbf6-3d84e38940cb"
      },
      "source": [
        "np.rint(arr)"
      ],
      "execution_count": 116,
      "outputs": [
        {
          "output_type": "execute_result",
          "data": {
            "text/plain": [
              "array([ 3.,  2., -6.,  4., -1.])"
            ]
          },
          "metadata": {
            "tags": []
          },
          "execution_count": 116
        }
      ]
    },
    {
      "cell_type": "markdown",
      "metadata": {
        "id": "1J17OyNSywpr",
        "colab_type": "text"
      },
      "source": [
        "Return boolean array indicating whether each value is NaN (Not a Number)"
      ]
    },
    {
      "cell_type": "code",
      "metadata": {
        "id": "CTnpB8tgywps",
        "colab_type": "code",
        "colab": {
          "base_uri": "https://localhost:8080/",
          "height": 70
        },
        "outputId": "cdd5e01d-eb56-48c0-b205-aa8bbfa81a04"
      },
      "source": [
        "np.isnan(np.sqrt(arr))"
      ],
      "execution_count": 117,
      "outputs": [
        {
          "output_type": "stream",
          "text": [
            "/usr/local/lib/python3.6/dist-packages/ipykernel_launcher.py:1: RuntimeWarning: invalid value encountered in sqrt\n",
            "  \"\"\"Entry point for launching an IPython kernel.\n"
          ],
          "name": "stderr"
        },
        {
          "output_type": "execute_result",
          "data": {
            "text/plain": [
              "array([False, False,  True, False,  True])"
            ]
          },
          "metadata": {
            "tags": []
          },
          "execution_count": 117
        }
      ]
    },
    {
      "cell_type": "markdown",
      "metadata": {
        "id": "kAPBBIFHywpv",
        "colab_type": "text"
      },
      "source": [
        "Element-wise modulus (remainder of division)"
      ]
    },
    {
      "cell_type": "code",
      "metadata": {
        "id": "bRlRx3wtywpv",
        "colab_type": "code",
        "colab": {}
      },
      "source": [
        "x = np.random.randint(100, size=(2,4))\n",
        "y = np.random.randint(5, size=(2,4))+1"
      ],
      "execution_count": 118,
      "outputs": []
    },
    {
      "cell_type": "code",
      "metadata": {
        "id": "ZsfMvTdaywpx",
        "colab_type": "code",
        "colab": {
          "base_uri": "https://localhost:8080/",
          "height": 52
        },
        "outputId": "12a6230c-632b-40c6-a281-1cb16b2bc064"
      },
      "source": [
        "x"
      ],
      "execution_count": 119,
      "outputs": [
        {
          "output_type": "execute_result",
          "data": {
            "text/plain": [
              "array([[33, 16, 36,  0],\n",
              "       [71, 88, 62, 51]])"
            ]
          },
          "metadata": {
            "tags": []
          },
          "execution_count": 119
        }
      ]
    },
    {
      "cell_type": "code",
      "metadata": {
        "id": "rO8-MlVEywp1",
        "colab_type": "code",
        "colab": {
          "base_uri": "https://localhost:8080/",
          "height": 52
        },
        "outputId": "b1c84795-e903-404b-f81c-2a841e9e4c65"
      },
      "source": [
        "y"
      ],
      "execution_count": 120,
      "outputs": [
        {
          "output_type": "execute_result",
          "data": {
            "text/plain": [
              "array([[2, 2, 5, 1],\n",
              "       [5, 3, 5, 2]])"
            ]
          },
          "metadata": {
            "tags": []
          },
          "execution_count": 120
        }
      ]
    },
    {
      "cell_type": "code",
      "metadata": {
        "id": "6Hxwfm8aywp3",
        "colab_type": "code",
        "colab": {
          "base_uri": "https://localhost:8080/",
          "height": 52
        },
        "outputId": "79be39fe-a18a-4cee-c015-d9e42645b1da"
      },
      "source": [
        "np.mod(x,y)"
      ],
      "execution_count": 121,
      "outputs": [
        {
          "output_type": "execute_result",
          "data": {
            "text/plain": [
              "array([[1, 0, 1, 0],\n",
              "       [1, 1, 2, 1]])"
            ]
          },
          "metadata": {
            "tags": []
          },
          "execution_count": 121
        }
      ]
    },
    {
      "cell_type": "markdown",
      "metadata": {
        "id": "UTQ1J-L_ywp4",
        "colab_type": "text"
      },
      "source": [
        "### Array-Oriented Programming with Arrays"
      ]
    },
    {
      "cell_type": "markdown",
      "metadata": {
        "id": "EKaEEvfkywp4",
        "colab_type": "text"
      },
      "source": [
        "**Vectorization** - replacing explicit loops with array expressions"
      ]
    },
    {
      "cell_type": "markdown",
      "metadata": {
        "id": "lwLyqlOTywp5",
        "colab_type": "text"
      },
      "source": [
        "Example - Evaluate the function sqrt(x^2 + y^2)"
      ]
    },
    {
      "cell_type": "code",
      "metadata": {
        "id": "0kvtBDjMywp5",
        "colab_type": "code",
        "colab": {
          "base_uri": "https://localhost:8080/",
          "height": 0
        },
        "outputId": "b3cc6df7-783c-40cb-8bc7-9ec9c8680b0a"
      },
      "source": [
        "points = np.arange(-5, 5, 0.1) # 100 equally spaced points\n",
        "points.shape"
      ],
      "execution_count": 122,
      "outputs": [
        {
          "output_type": "execute_result",
          "data": {
            "text/plain": [
              "(100,)"
            ]
          },
          "metadata": {
            "tags": []
          },
          "execution_count": 122
        }
      ]
    },
    {
      "cell_type": "markdown",
      "metadata": {
        "id": "VFIIY7KSywp7",
        "colab_type": "text"
      },
      "source": [
        "```np.meshgrid``` function takes two 1D arrays and produces two 2D matrices corresponding to all pairs of (x, y) in the two arrays"
      ]
    },
    {
      "cell_type": "code",
      "metadata": {
        "id": "dVeydaDqywp7",
        "colab_type": "code",
        "colab": {}
      },
      "source": [
        "xs, ys = np.meshgrid(points, points)"
      ],
      "execution_count": 123,
      "outputs": []
    },
    {
      "cell_type": "code",
      "metadata": {
        "id": "nI0G8Krkywp_",
        "colab_type": "code",
        "colab": {
          "base_uri": "https://localhost:8080/",
          "height": 0
        },
        "outputId": "b6f21070-c089-40b9-8e8e-4763a33092ef"
      },
      "source": [
        "xs.shape"
      ],
      "execution_count": 124,
      "outputs": [
        {
          "output_type": "execute_result",
          "data": {
            "text/plain": [
              "(100, 100)"
            ]
          },
          "metadata": {
            "tags": []
          },
          "execution_count": 124
        }
      ]
    },
    {
      "cell_type": "code",
      "metadata": {
        "id": "uKFHMG30ywqB",
        "colab_type": "code",
        "colab": {
          "base_uri": "https://localhost:8080/",
          "height": 0
        },
        "outputId": "7235dd23-7314-4e56-9354-d5288043aec3"
      },
      "source": [
        "xs"
      ],
      "execution_count": 125,
      "outputs": [
        {
          "output_type": "execute_result",
          "data": {
            "text/plain": [
              "array([[-5. , -4.9, -4.8, ...,  4.7,  4.8,  4.9],\n",
              "       [-5. , -4.9, -4.8, ...,  4.7,  4.8,  4.9],\n",
              "       [-5. , -4.9, -4.8, ...,  4.7,  4.8,  4.9],\n",
              "       ...,\n",
              "       [-5. , -4.9, -4.8, ...,  4.7,  4.8,  4.9],\n",
              "       [-5. , -4.9, -4.8, ...,  4.7,  4.8,  4.9],\n",
              "       [-5. , -4.9, -4.8, ...,  4.7,  4.8,  4.9]])"
            ]
          },
          "metadata": {
            "tags": []
          },
          "execution_count": 125
        }
      ]
    },
    {
      "cell_type": "code",
      "metadata": {
        "id": "qbtPCOSnywqD",
        "colab_type": "code",
        "colab": {
          "base_uri": "https://localhost:8080/",
          "height": 0
        },
        "outputId": "6fdf0b05-da33-445b-8a59-1d765637000a"
      },
      "source": [
        "ys.shape"
      ],
      "execution_count": 126,
      "outputs": [
        {
          "output_type": "execute_result",
          "data": {
            "text/plain": [
              "(100, 100)"
            ]
          },
          "metadata": {
            "tags": []
          },
          "execution_count": 126
        }
      ]
    },
    {
      "cell_type": "code",
      "metadata": {
        "id": "wS8cXeTVywqG",
        "colab_type": "code",
        "colab": {
          "base_uri": "https://localhost:8080/",
          "height": 0
        },
        "outputId": "6c3a3128-ee57-44ee-9fef-61112baa72d1"
      },
      "source": [
        "ys"
      ],
      "execution_count": 127,
      "outputs": [
        {
          "output_type": "execute_result",
          "data": {
            "text/plain": [
              "array([[-5. , -5. , -5. , ..., -5. , -5. , -5. ],\n",
              "       [-4.9, -4.9, -4.9, ..., -4.9, -4.9, -4.9],\n",
              "       [-4.8, -4.8, -4.8, ..., -4.8, -4.8, -4.8],\n",
              "       ...,\n",
              "       [ 4.7,  4.7,  4.7, ...,  4.7,  4.7,  4.7],\n",
              "       [ 4.8,  4.8,  4.8, ...,  4.8,  4.8,  4.8],\n",
              "       [ 4.9,  4.9,  4.9, ...,  4.9,  4.9,  4.9]])"
            ]
          },
          "metadata": {
            "tags": []
          },
          "execution_count": 127
        }
      ]
    },
    {
      "cell_type": "markdown",
      "metadata": {
        "id": "sI707X7FywqH",
        "colab_type": "text"
      },
      "source": [
        "Evaluating the function is a matter of writing the same expression used for two points"
      ]
    },
    {
      "cell_type": "code",
      "metadata": {
        "id": "9ClCfvVXywqH",
        "colab_type": "code",
        "colab": {
          "base_uri": "https://localhost:8080/",
          "height": 0
        },
        "outputId": "652db41f-2acd-478d-ac71-d551344d1e8a"
      },
      "source": [
        "z = np.sqrt(xs ** 2 + ys ** 2)\n",
        "z"
      ],
      "execution_count": 128,
      "outputs": [
        {
          "output_type": "execute_result",
          "data": {
            "text/plain": [
              "array([[7.07106781, 7.00071425, 6.93108938, ..., 6.86221539, 6.93108938,\n",
              "        7.00071425],\n",
              "       [7.00071425, 6.92964646, 6.85930026, ..., 6.78969808, 6.85930026,\n",
              "        6.92964646],\n",
              "       [6.93108938, 6.85930026, 6.7882251 , ..., 6.71788657, 6.7882251 ,\n",
              "        6.85930026],\n",
              "       ...,\n",
              "       [6.86221539, 6.78969808, 6.71788657, ..., 6.64680374, 6.71788657,\n",
              "        6.78969808],\n",
              "       [6.93108938, 6.85930026, 6.7882251 , ..., 6.71788657, 6.7882251 ,\n",
              "        6.85930026],\n",
              "       [7.00071425, 6.92964646, 6.85930026, ..., 6.78969808, 6.85930026,\n",
              "        6.92964646]])"
            ]
          },
          "metadata": {
            "tags": []
          },
          "execution_count": 128
        }
      ]
    },
    {
      "cell_type": "markdown",
      "metadata": {
        "id": "eSYgSTgvywqK",
        "colab_type": "text"
      },
      "source": [
        "Use ```matplotlib``` to create a visualization of this two dimensional array"
      ]
    },
    {
      "cell_type": "code",
      "metadata": {
        "id": "VrO75mMxywqM",
        "colab_type": "code",
        "colab": {
          "base_uri": "https://localhost:8080/",
          "height": 0
        },
        "outputId": "4c96a623-2c81-4074-a613-3dd309900ecc"
      },
      "source": [
        "import matplotlib.pyplot as plt\n",
        "plt.imshow(z, cmap=plt.cm.gray); plt.colorbar()\n",
        "plt.title(\"Image plot of $\\sqrt{x^2 + y^2}$ for a grid of values\")"
      ],
      "execution_count": 129,
      "outputs": [
        {
          "output_type": "execute_result",
          "data": {
            "text/plain": [
              "Text(0.5, 1.0, 'Image plot of $\\\\sqrt{x^2 + y^2}$ for a grid of values')"
            ]
          },
          "metadata": {
            "tags": []
          },
          "execution_count": 129
        },
        {
          "output_type": "display_data",
          "data": {
            "image/png": "[encoded data removed]",
            "text/plain": [
              "<Figure size 432x288 with 2 Axes>"
            ]
          },
          "metadata": {
            "tags": [],
            "needs_background": "light"
          }
        }
      ]
    },
    {
      "cell_type": "markdown",
      "metadata": {
        "id": "P3f5tlWFywqP",
        "colab_type": "text"
      },
      "source": [
        "#### Expressing Conditional Logic as Array Operations"
      ]
    },
    {
      "cell_type": "markdown",
      "metadata": {
        "id": "14Ex0PrbywqP",
        "colab_type": "text"
      },
      "source": [
        "```numpy.where``` function - vectorized version of ternary expression ```x if condition else y```. \n",
        "\n",
        "Example: \n",
        "- boolean array and two arrays of values\n",
        "- take value from xarr whenever the corresponding value in cond is True, and otherwise take the value from yarr"
      ]
    },
    {
      "cell_type": "code",
      "metadata": {
        "id": "VExw9IrdywqP",
        "colab_type": "code",
        "colab": {}
      },
      "source": [
        "xarr = np.array([1.1, 1.2, 1.3, 1.4, 1.5])\n",
        "yarr = np.array([2.1, 2.2, 2.3, 2.4, 2.5])\n",
        "cond = np.array([True, False, True, True, False])"
      ],
      "execution_count": 130,
      "outputs": []
    },
    {
      "cell_type": "code",
      "metadata": {
        "id": "PGY2_nbxywqR",
        "colab_type": "code",
        "colab": {
          "base_uri": "https://localhost:8080/",
          "height": 0
        },
        "outputId": "0ca68c0a-165c-477a-8bf4-d5a096dbcd53"
      },
      "source": [
        "# List comprehension approach.  Note: This approach is slower for larger arrays and won't work for multi-dimensional arrays.\n",
        "result = [(x if c else y) for x, y, c in zip(xarr, yarr, cond)]\n",
        "result"
      ],
      "execution_count": 131,
      "outputs": [
        {
          "output_type": "execute_result",
          "data": {
            "text/plain": [
              "[1.1, 2.2, 1.3, 1.4, 2.5]"
            ]
          },
          "metadata": {
            "tags": []
          },
          "execution_count": 131
        }
      ]
    },
    {
      "cell_type": "code",
      "metadata": {
        "id": "5_GSIXCsywqT",
        "colab_type": "code",
        "colab": {
          "base_uri": "https://localhost:8080/",
          "height": 0
        },
        "outputId": "f614d675-fc0e-4654-d1dc-925e119ad545"
      },
      "source": [
        "# where appoach\n",
        "result = np.where(cond, xarr, yarr)\n",
        "result"
      ],
      "execution_count": 132,
      "outputs": [
        {
          "output_type": "execute_result",
          "data": {
            "text/plain": [
              "array([1.1, 2.2, 1.3, 1.4, 2.5])"
            ]
          },
          "metadata": {
            "tags": []
          },
          "execution_count": 132
        }
      ]
    },
    {
      "cell_type": "markdown",
      "metadata": {
        "id": "eTGSTzsAywqU",
        "colab_type": "text"
      },
      "source": [
        "The second and third arguments to ```np.where``` do not need to be arrays; one or both of them can be scalars. \n",
        "\n",
        "A typical use of where in data analysis is to produce a new array of values based on another array. "
      ]
    },
    {
      "cell_type": "markdown",
      "metadata": {
        "id": "eqSJLeQjywqU",
        "colab_type": "text"
      },
      "source": [
        "Example: \n",
        "- matrix of randomly generated data \n",
        "- replace all positive values with 2 and all negative values with -2. "
      ]
    },
    {
      "cell_type": "code",
      "metadata": {
        "id": "MFOHS1vmywqU",
        "colab_type": "code",
        "colab": {
          "base_uri": "https://localhost:8080/",
          "height": 0
        },
        "outputId": "f0219596-59c9-4c12-cfaa-baab05f84e6c"
      },
      "source": [
        "arr = np.random.randn(4, 4)\n",
        "arr"
      ],
      "execution_count": 133,
      "outputs": [
        {
          "output_type": "execute_result",
          "data": {
            "text/plain": [
              "array([[ 1.21422264,  2.0856022 ,  0.95022762,  0.41571013],\n",
              "       [ 0.70566025, -0.45434572,  0.64130336,  1.66317591],\n",
              "       [ 0.21877702,  0.06549197,  0.3717776 ,  0.1160641 ],\n",
              "       [ 0.29945075,  1.21789385, -1.43721544,  1.40308519]])"
            ]
          },
          "metadata": {
            "tags": []
          },
          "execution_count": 133
        }
      ]
    },
    {
      "cell_type": "code",
      "metadata": {
        "id": "d15tcglbywqY",
        "colab_type": "code",
        "colab": {
          "base_uri": "https://localhost:8080/",
          "height": 0
        },
        "outputId": "da752e5f-e1f6-436c-ecb7-6911eef0dcba"
      },
      "source": [
        "arr > 0"
      ],
      "execution_count": 134,
      "outputs": [
        {
          "output_type": "execute_result",
          "data": {
            "text/plain": [
              "array([[ True,  True,  True,  True],\n",
              "       [ True, False,  True,  True],\n",
              "       [ True,  True,  True,  True],\n",
              "       [ True,  True, False,  True]])"
            ]
          },
          "metadata": {
            "tags": []
          },
          "execution_count": 134
        }
      ]
    },
    {
      "cell_type": "code",
      "metadata": {
        "id": "ccifCZwTywqa",
        "colab_type": "code",
        "colab": {
          "base_uri": "https://localhost:8080/",
          "height": 0
        },
        "outputId": "abfe9c93-e03d-44c0-9c98-b88b7966afb2"
      },
      "source": [
        "np.where(arr > 0, 2, -2)"
      ],
      "execution_count": 135,
      "outputs": [
        {
          "output_type": "execute_result",
          "data": {
            "text/plain": [
              "array([[ 2,  2,  2,  2],\n",
              "       [ 2, -2,  2,  2],\n",
              "       [ 2,  2,  2,  2],\n",
              "       [ 2,  2, -2,  2]])"
            ]
          },
          "metadata": {
            "tags": []
          },
          "execution_count": 135
        }
      ]
    },
    {
      "cell_type": "markdown",
      "metadata": {
        "id": "OL-sHutgywqc",
        "colab_type": "text"
      },
      "source": [
        "Replace all negative values in arr with the constant 0"
      ]
    },
    {
      "cell_type": "code",
      "metadata": {
        "id": "twNx7km_ywqc",
        "colab_type": "code",
        "colab": {
          "base_uri": "https://localhost:8080/",
          "height": 0
        },
        "outputId": "88d62e88-e7dd-4f8c-fd28-3f6dea68741a"
      },
      "source": [
        "np.where(arr < 0, 0, arr)"
      ],
      "execution_count": 136,
      "outputs": [
        {
          "output_type": "execute_result",
          "data": {
            "text/plain": [
              "array([[1.21422264, 2.0856022 , 0.95022762, 0.41571013],\n",
              "       [0.70566025, 0.        , 0.64130336, 1.66317591],\n",
              "       [0.21877702, 0.06549197, 0.3717776 , 0.1160641 ],\n",
              "       [0.29945075, 1.21789385, 0.        , 1.40308519]])"
            ]
          },
          "metadata": {
            "tags": []
          },
          "execution_count": 136
        }
      ]
    },
    {
      "cell_type": "markdown",
      "metadata": {
        "id": "uExj30SSywqe",
        "colab_type": "text"
      },
      "source": [
        "#### Mathematical and Statistical Methods"
      ]
    },
    {
      "cell_type": "markdown",
      "metadata": {
        "id": "ou7EcU7Rywqe",
        "colab_type": "text"
      },
      "source": [
        "A set of mathematical functions that compute statistics about an entire array or data along an axis are accessible as methods of the array class. \n",
        "\n",
        "Use Aggregations (i.e., reductions) like sum, mean, and std (standard deviation) either by calling the array instance method or using the top-level NumPy function"
      ]
    },
    {
      "cell_type": "code",
      "metadata": {
        "id": "I885HYYvywqe",
        "colab_type": "code",
        "colab": {
          "base_uri": "https://localhost:8080/",
          "height": 0
        },
        "outputId": "1c87205a-a6e4-49f6-e204-a99aa22d6846"
      },
      "source": [
        "arr = np.random.randn(5, 4)\n",
        "arr"
      ],
      "execution_count": 137,
      "outputs": [
        {
          "output_type": "execute_result",
          "data": {
            "text/plain": [
              "array([[-0.80599571, -1.53582179, -1.3266026 , -0.45842952],\n",
              "       [-2.15852001, -0.19569961,  1.55542014,  0.49991188],\n",
              "       [-1.6749485 ,  1.47363712, -0.57434709, -1.07453919],\n",
              "       [ 1.58389723,  1.95607621, -0.05382894, -0.31347986],\n",
              "       [-0.57696052,  1.72383058, -0.85346751,  0.33340859]])"
            ]
          },
          "metadata": {
            "tags": []
          },
          "execution_count": 137
        }
      ]
    },
    {
      "cell_type": "code",
      "metadata": {
        "id": "dRBYGhXYywqg",
        "colab_type": "code",
        "colab": {
          "base_uri": "https://localhost:8080/",
          "height": 0
        },
        "outputId": "323f6966-d2ea-49a6-e049-1b5663d6a325"
      },
      "source": [
        "# Compute mean using method of array class\n",
        "arr.mean()"
      ],
      "execution_count": 138,
      "outputs": [
        {
          "output_type": "execute_result",
          "data": {
            "text/plain": [
              "-0.12382295564711013"
            ]
          },
          "metadata": {
            "tags": []
          },
          "execution_count": 138
        }
      ]
    },
    {
      "cell_type": "code",
      "metadata": {
        "id": "Nz56kA8oywqj",
        "colab_type": "code",
        "colab": {
          "base_uri": "https://localhost:8080/",
          "height": 0
        },
        "outputId": "3f077155-b3e2-4187-c2ac-dea6f49d636c"
      },
      "source": [
        "# Compute mean using top-level NumPy function\n",
        "np.mean(arr)"
      ],
      "execution_count": 139,
      "outputs": [
        {
          "output_type": "execute_result",
          "data": {
            "text/plain": [
              "-0.12382295564711013"
            ]
          },
          "metadata": {
            "tags": []
          },
          "execution_count": 139
        }
      ]
    },
    {
      "cell_type": "markdown",
      "metadata": {
        "id": "XvQcFzfxywqm",
        "colab_type": "text"
      },
      "source": [
        "Functions like ```mean``` and ```sum``` take an optional axis argument that computes the statistic over the given axis.\n",
        "\n",
        "This results in an array with one fewer dimension."
      ]
    },
    {
      "cell_type": "code",
      "metadata": {
        "id": "CuPki0QRywqm",
        "colab_type": "code",
        "colab": {
          "base_uri": "https://localhost:8080/",
          "height": 0
        },
        "outputId": "e6ee2f5f-2f04-4132-e207-4d6189c54bdb"
      },
      "source": [
        "# Compute mean across the columns\n",
        "arr.mean(axis=1)"
      ],
      "execution_count": 140,
      "outputs": [
        {
          "output_type": "execute_result",
          "data": {
            "text/plain": [
              "array([-1.03171241, -0.0747219 , -0.46254942,  0.79316616,  0.15670278])"
            ]
          },
          "metadata": {
            "tags": []
          },
          "execution_count": 140
        }
      ]
    },
    {
      "cell_type": "code",
      "metadata": {
        "id": "mRJ73VkLywqo",
        "colab_type": "code",
        "colab": {
          "base_uri": "https://localhost:8080/",
          "height": 0
        },
        "outputId": "accdbee1-dca9-47ed-ab2c-b9c858bbbfed"
      },
      "source": [
        "# Compute sum down the rows\n",
        "arr.sum(axis=0)"
      ],
      "execution_count": 141,
      "outputs": [
        {
          "output_type": "execute_result",
          "data": {
            "text/plain": [
              "array([-3.63252751,  3.42202251, -1.25282601, -1.0131281 ])"
            ]
          },
          "metadata": {
            "tags": []
          },
          "execution_count": 141
        }
      ]
    },
    {
      "cell_type": "markdown",
      "metadata": {
        "id": "SC8RGEYGywqt",
        "colab_type": "text"
      },
      "source": [
        "Other methods like ```cumsum``` and ```cumprod``` do not aggregate, instead producing an array of the intermediate results"
      ]
    },
    {
      "cell_type": "code",
      "metadata": {
        "id": "APufhvZuywqt",
        "colab_type": "code",
        "colab": {
          "base_uri": "https://localhost:8080/",
          "height": 0
        },
        "outputId": "7ee69487-af6d-4744-cc7e-d844fb669f3c"
      },
      "source": [
        "arr = np.array([1, 2, 3, 4, 5, 6, 7])\n",
        "arr"
      ],
      "execution_count": 142,
      "outputs": [
        {
          "output_type": "execute_result",
          "data": {
            "text/plain": [
              "array([1, 2, 3, 4, 5, 6, 7])"
            ]
          },
          "metadata": {
            "tags": []
          },
          "execution_count": 142
        }
      ]
    },
    {
      "cell_type": "code",
      "metadata": {
        "id": "usNo8oz4ywqw",
        "colab_type": "code",
        "colab": {
          "base_uri": "https://localhost:8080/",
          "height": 0
        },
        "outputId": "dfb8298b-78b6-4880-cdbe-86b672084105"
      },
      "source": [
        "arr.cumsum()"
      ],
      "execution_count": 143,
      "outputs": [
        {
          "output_type": "execute_result",
          "data": {
            "text/plain": [
              "array([ 1,  3,  6, 10, 15, 21, 28])"
            ]
          },
          "metadata": {
            "tags": []
          },
          "execution_count": 143
        }
      ]
    },
    {
      "cell_type": "code",
      "metadata": {
        "id": "JiwrWShgywqy",
        "colab_type": "code",
        "colab": {
          "base_uri": "https://localhost:8080/",
          "height": 0
        },
        "outputId": "9d354a21-9af8-4bda-f2f3-ab460ac2659a"
      },
      "source": [
        "arr.cumprod()"
      ],
      "execution_count": 144,
      "outputs": [
        {
          "output_type": "execute_result",
          "data": {
            "text/plain": [
              "array([   1,    2,    6,   24,  120,  720, 5040])"
            ]
          },
          "metadata": {
            "tags": []
          },
          "execution_count": 144
        }
      ]
    },
    {
      "cell_type": "markdown",
      "metadata": {
        "id": "GaMOAT6Jywq2",
        "colab_type": "text"
      },
      "source": [
        "In multidimensional arrays, accumulation functions like ```cumsum``` return an array of the same size, but with the partial aggregates computed along the indicated axis according to each lower dimensional slice"
      ]
    },
    {
      "cell_type": "code",
      "metadata": {
        "id": "Mdpn5aZ2ywq2",
        "colab_type": "code",
        "colab": {
          "base_uri": "https://localhost:8080/",
          "height": 0
        },
        "outputId": "c135075e-af16-4e19-8397-ffc98e83ac07"
      },
      "source": [
        "arr = np.array([[0, 1, 2], [3, 4, 5], [6, 7, 8]])\n",
        "arr"
      ],
      "execution_count": 145,
      "outputs": [
        {
          "output_type": "execute_result",
          "data": {
            "text/plain": [
              "array([[0, 1, 2],\n",
              "       [3, 4, 5],\n",
              "       [6, 7, 8]])"
            ]
          },
          "metadata": {
            "tags": []
          },
          "execution_count": 145
        }
      ]
    },
    {
      "cell_type": "code",
      "metadata": {
        "id": "SXDDIcvjywq4",
        "colab_type": "code",
        "colab": {
          "base_uri": "https://localhost:8080/",
          "height": 0
        },
        "outputId": "fddb5d15-1603-4645-cbb0-966630c1c097"
      },
      "source": [
        "arr.cumsum(axis=0)"
      ],
      "execution_count": 146,
      "outputs": [
        {
          "output_type": "execute_result",
          "data": {
            "text/plain": [
              "array([[ 0,  1,  2],\n",
              "       [ 3,  5,  7],\n",
              "       [ 9, 12, 15]])"
            ]
          },
          "metadata": {
            "tags": []
          },
          "execution_count": 146
        }
      ]
    },
    {
      "cell_type": "code",
      "metadata": {
        "id": "OT81jjbgywq5",
        "colab_type": "code",
        "colab": {
          "base_uri": "https://localhost:8080/",
          "height": 0
        },
        "outputId": "b641b2f7-4664-4f14-8e5f-ed71da651ac4"
      },
      "source": [
        "arr.cumprod(axis=1)"
      ],
      "execution_count": 147,
      "outputs": [
        {
          "output_type": "execute_result",
          "data": {
            "text/plain": [
              "array([[  0,   0,   0],\n",
              "       [  3,  12,  60],\n",
              "       [  6,  42, 336]])"
            ]
          },
          "metadata": {
            "tags": []
          },
          "execution_count": 147
        }
      ]
    },
    {
      "cell_type": "markdown",
      "metadata": {
        "id": "lFELO-wZywq6",
        "colab_type": "text"
      },
      "source": [
        "#### Methods for Boolean Arrays"
      ]
    },
    {
      "cell_type": "markdown",
      "metadata": {
        "id": "jYS6YZchywq6",
        "colab_type": "text"
      },
      "source": [
        "Boolean values are coerced to 1 (True) and 0 (False) in the preceding methods. \n",
        "\n",
        "Thus, sum is often used as a means of counting True values in a boolean array."
      ]
    },
    {
      "cell_type": "code",
      "metadata": {
        "id": "DAagTYfgywq7",
        "colab_type": "code",
        "colab": {
          "base_uri": "https://localhost:8080/",
          "height": 0
        },
        "outputId": "3b357178-ad82-4ffb-ebb5-82d2fd50ebd2"
      },
      "source": [
        "arr = np.random.randn(10)\n",
        "arr"
      ],
      "execution_count": 148,
      "outputs": [
        {
          "output_type": "execute_result",
          "data": {
            "text/plain": [
              "array([-0.07492317, -0.1279258 ,  0.44005755,  0.09728653, -0.48073949,\n",
              "        3.36747731,  0.07893678,  1.14799882, -0.44347415, -0.91382062])"
            ]
          },
          "metadata": {
            "tags": []
          },
          "execution_count": 148
        }
      ]
    },
    {
      "cell_type": "code",
      "metadata": {
        "id": "sqaaYS8tywq8",
        "colab_type": "code",
        "colab": {
          "base_uri": "https://localhost:8080/",
          "height": 0
        },
        "outputId": "a80c4409-8064-4ab1-ead6-c45b1ee031de"
      },
      "source": [
        "(arr > 0).sum() # Number of positive values"
      ],
      "execution_count": 149,
      "outputs": [
        {
          "output_type": "execute_result",
          "data": {
            "text/plain": [
              "5"
            ]
          },
          "metadata": {
            "tags": []
          },
          "execution_count": 149
        }
      ]
    },
    {
      "cell_type": "markdown",
      "metadata": {
        "id": "3QXzel31ywq-",
        "colab_type": "text"
      },
      "source": [
        "Get count of NaNs in an array"
      ]
    },
    {
      "cell_type": "code",
      "metadata": {
        "id": "mBRVsWQGywq-",
        "colab_type": "code",
        "colab": {
          "base_uri": "https://localhost:8080/",
          "height": 0
        },
        "outputId": "08ebeade-6a96-497d-8182-98b2899e7467"
      },
      "source": [
        "sqrt_array = np.sqrt(arr)\n",
        "sqrt_array"
      ],
      "execution_count": 150,
      "outputs": [
        {
          "output_type": "stream",
          "text": [
            "/usr/local/lib/python3.6/dist-packages/ipykernel_launcher.py:1: RuntimeWarning: invalid value encountered in sqrt\n",
            "  \"\"\"Entry point for launching an IPython kernel.\n"
          ],
          "name": "stderr"
        },
        {
          "output_type": "execute_result",
          "data": {
            "text/plain": [
              "array([       nan,        nan, 0.66336834, 0.31190788,        nan,\n",
              "       1.83506875, 0.28095691, 1.07144707,        nan,        nan])"
            ]
          },
          "metadata": {
            "tags": []
          },
          "execution_count": 150
        }
      ]
    },
    {
      "cell_type": "code",
      "metadata": {
        "id": "4sszIKAMywq_",
        "colab_type": "code",
        "colab": {
          "base_uri": "https://localhost:8080/",
          "height": 0
        },
        "outputId": "5bcd03ad-c776-4589-f3f8-184b94acf22a"
      },
      "source": [
        "nans = (np.isnan(sqrt_array)).sum()\n",
        "nans"
      ],
      "execution_count": 151,
      "outputs": [
        {
          "output_type": "execute_result",
          "data": {
            "text/plain": [
              "5"
            ]
          },
          "metadata": {
            "tags": []
          },
          "execution_count": 151
        }
      ]
    },
    {
      "cell_type": "markdown",
      "metadata": {
        "id": "-9yu573eywrB",
        "colab_type": "text"
      },
      "source": [
        "Get count of NaNs in each row of a 2-dimension array"
      ]
    },
    {
      "cell_type": "code",
      "metadata": {
        "id": "Voo7GNyeywrB",
        "colab_type": "code",
        "colab": {
          "base_uri": "https://localhost:8080/",
          "height": 0
        },
        "outputId": "1af6b747-1f4b-40fa-9767-431333b33753"
      },
      "source": [
        "arr2d = np.random.randn(2,5)*5\n",
        "arr2d"
      ],
      "execution_count": 152,
      "outputs": [
        {
          "output_type": "execute_result",
          "data": {
            "text/plain": [
              "array([[  7.70581427,  -0.42369597,   3.86029884,  10.37487058,\n",
              "         -2.03599128],\n",
              "       [ -1.15605196,  -2.21181548,   8.30211064, -12.48984783,\n",
              "         -2.22523634]])"
            ]
          },
          "metadata": {
            "tags": []
          },
          "execution_count": 152
        }
      ]
    },
    {
      "cell_type": "code",
      "metadata": {
        "id": "swuW9CgCywrC",
        "colab_type": "code",
        "colab": {
          "base_uri": "https://localhost:8080/",
          "height": 0
        },
        "outputId": "252efe9e-b0f4-4312-d06c-9dc06a515d32"
      },
      "source": [
        "sqrt_arr2d = np.sqrt(arr2d)\n",
        "sqrt_arr2d"
      ],
      "execution_count": 153,
      "outputs": [
        {
          "output_type": "stream",
          "text": [
            "/usr/local/lib/python3.6/dist-packages/ipykernel_launcher.py:1: RuntimeWarning: invalid value encountered in sqrt\n",
            "  \"\"\"Entry point for launching an IPython kernel.\n"
          ],
          "name": "stderr"
        },
        {
          "output_type": "execute_result",
          "data": {
            "text/plain": [
              "array([[2.77593485,        nan, 1.96476432, 3.22100459,        nan],\n",
              "       [       nan,        nan, 2.88133834,        nan,        nan]])"
            ]
          },
          "metadata": {
            "tags": []
          },
          "execution_count": 153
        }
      ]
    },
    {
      "cell_type": "code",
      "metadata": {
        "id": "kL9I0oPCywrF",
        "colab_type": "code",
        "colab": {
          "base_uri": "https://localhost:8080/",
          "height": 0
        },
        "outputId": "68759ac5-370e-4cfe-8486-31af363e96ad"
      },
      "source": [
        "nans = (np.isnan(sqrt_arr2d)).sum(1)\n",
        "print('1st row NaNs =',nans[0], '\\n2nd row NaNs =',nans[1])"
      ],
      "execution_count": 154,
      "outputs": [
        {
          "output_type": "stream",
          "text": [
            "1st row NaNs = 2 \n",
            "2nd row NaNs = 4\n"
          ],
          "name": "stdout"
        }
      ]
    },
    {
      "cell_type": "markdown",
      "metadata": {
        "id": "-vo-AN3zywrI",
        "colab_type": "text"
      },
      "source": [
        "```any``` tests whether one or more values in an array is True"
      ]
    },
    {
      "cell_type": "code",
      "metadata": {
        "id": "yR6FN7WjywrI",
        "colab_type": "code",
        "colab": {}
      },
      "source": [
        "bools = np.array([False, False, True, False])"
      ],
      "execution_count": 155,
      "outputs": []
    },
    {
      "cell_type": "code",
      "metadata": {
        "id": "rC2iKyMiywrJ",
        "colab_type": "code",
        "colab": {
          "base_uri": "https://localhost:8080/",
          "height": 0
        },
        "outputId": "24e1adad-e4c7-47da-8d56-5983c3e30e79"
      },
      "source": [
        "bools.any()"
      ],
      "execution_count": 156,
      "outputs": [
        {
          "output_type": "execute_result",
          "data": {
            "text/plain": [
              "True"
            ]
          },
          "metadata": {
            "tags": []
          },
          "execution_count": 156
        }
      ]
    },
    {
      "cell_type": "markdown",
      "metadata": {
        "id": "vUBoBRxRywrL",
        "colab_type": "text"
      },
      "source": [
        "```all``` checks if every value is True"
      ]
    },
    {
      "cell_type": "code",
      "metadata": {
        "id": "Wt2zRDdZywrL",
        "colab_type": "code",
        "colab": {
          "base_uri": "https://localhost:8080/",
          "height": 0
        },
        "outputId": "e01a850a-40b1-4543-d4a7-c73ef7e42381"
      },
      "source": [
        "bools.all()"
      ],
      "execution_count": 157,
      "outputs": [
        {
          "output_type": "execute_result",
          "data": {
            "text/plain": [
              "False"
            ]
          },
          "metadata": {
            "tags": []
          },
          "execution_count": 157
        }
      ]
    },
    {
      "cell_type": "markdown",
      "metadata": {
        "id": "GV_TzElAywrN",
        "colab_type": "text"
      },
      "source": [
        "#### Sorting"
      ]
    },
    {
      "cell_type": "code",
      "metadata": {
        "id": "rHZDJSX_ywrO",
        "colab_type": "code",
        "colab": {
          "base_uri": "https://localhost:8080/",
          "height": 0
        },
        "outputId": "079efd28-af75-46f7-cd9a-51ba0f3b3388"
      },
      "source": [
        "arr = np.random.randn(5)*2\n",
        "arr"
      ],
      "execution_count": 158,
      "outputs": [
        {
          "output_type": "execute_result",
          "data": {
            "text/plain": [
              "array([-3.72238473, -2.63192679,  2.03931057,  1.90311307, -2.69290773])"
            ]
          },
          "metadata": {
            "tags": []
          },
          "execution_count": 158
        }
      ]
    },
    {
      "cell_type": "markdown",
      "metadata": {
        "id": "cIVbNqu0ywrR",
        "colab_type": "text"
      },
      "source": [
        "In-place sort"
      ]
    },
    {
      "cell_type": "code",
      "metadata": {
        "id": "n-ilOa3XywrR",
        "colab_type": "code",
        "colab": {
          "base_uri": "https://localhost:8080/",
          "height": 0
        },
        "outputId": "38e8d57e-f0ef-43df-ba3b-ebb1246799b8"
      },
      "source": [
        "arr.sort()\n",
        "arr"
      ],
      "execution_count": 159,
      "outputs": [
        {
          "output_type": "execute_result",
          "data": {
            "text/plain": [
              "array([-3.72238473, -2.69290773, -2.63192679,  1.90311307,  2.03931057])"
            ]
          },
          "metadata": {
            "tags": []
          },
          "execution_count": 159
        }
      ]
    },
    {
      "cell_type": "markdown",
      "metadata": {
        "id": "MRdHND2GywrT",
        "colab_type": "text"
      },
      "source": [
        "Sort each one-dimensional section of values in a multidimensional array in-place along an axis by passing the axis number to sort"
      ]
    },
    {
      "cell_type": "code",
      "metadata": {
        "id": "BsDW27WeywrT",
        "colab_type": "code",
        "colab": {
          "base_uri": "https://localhost:8080/",
          "height": 0
        },
        "outputId": "00e2fb8e-5525-412a-8519-6a95b107cb44"
      },
      "source": [
        "arr = np.random.randn(5, 3)\n",
        "arr"
      ],
      "execution_count": 160,
      "outputs": [
        {
          "output_type": "execute_result",
          "data": {
            "text/plain": [
              "array([[-0.07462453, -1.58899262, -0.01716106],\n",
              "       [-0.2895685 , -0.23734964,  0.12574394],\n",
              "       [ 0.24776946, -0.12386418,  0.54640305],\n",
              "       [-0.10449077,  0.4138439 ,  0.10385359],\n",
              "       [-0.01724748, -1.45836858,  0.90453011]])"
            ]
          },
          "metadata": {
            "tags": []
          },
          "execution_count": 160
        }
      ]
    },
    {
      "cell_type": "code",
      "metadata": {
        "id": "cppN7ux-ywrV",
        "colab_type": "code",
        "colab": {
          "base_uri": "https://localhost:8080/",
          "height": 0
        },
        "outputId": "31a08aa3-5c09-479e-f7fb-46e8946b9d10"
      },
      "source": [
        "arr.sort(0)\n",
        "arr"
      ],
      "execution_count": 161,
      "outputs": [
        {
          "output_type": "execute_result",
          "data": {
            "text/plain": [
              "array([[-0.2895685 , -1.58899262, -0.01716106],\n",
              "       [-0.10449077, -1.45836858,  0.10385359],\n",
              "       [-0.07462453, -0.23734964,  0.12574394],\n",
              "       [-0.01724748, -0.12386418,  0.54640305],\n",
              "       [ 0.24776946,  0.4138439 ,  0.90453011]])"
            ]
          },
          "metadata": {
            "tags": []
          },
          "execution_count": 161
        }
      ]
    },
    {
      "cell_type": "code",
      "metadata": {
        "id": "owmW_lQFywrW",
        "colab_type": "code",
        "colab": {
          "base_uri": "https://localhost:8080/",
          "height": 0
        },
        "outputId": "fd4e082d-272c-4228-8250-d6b98d9e15e9"
      },
      "source": [
        "arr.sort(1)\n",
        "arr"
      ],
      "execution_count": 162,
      "outputs": [
        {
          "output_type": "execute_result",
          "data": {
            "text/plain": [
              "array([[-1.58899262, -0.2895685 , -0.01716106],\n",
              "       [-1.45836858, -0.10449077,  0.10385359],\n",
              "       [-0.23734964, -0.07462453,  0.12574394],\n",
              "       [-0.12386418, -0.01724748,  0.54640305],\n",
              "       [ 0.24776946,  0.4138439 ,  0.90453011]])"
            ]
          },
          "metadata": {
            "tags": []
          },
          "execution_count": 162
        }
      ]
    },
    {
      "cell_type": "markdown",
      "metadata": {
        "id": "_-LAU5myywrX",
        "colab_type": "text"
      },
      "source": [
        "#### Unique and Other Set Logic"
      ]
    },
    {
      "cell_type": "markdown",
      "metadata": {
        "id": "LFXLwjLXywrX",
        "colab_type": "text"
      },
      "source": [
        "```np.unique``` - returns the sorted unique values in an array"
      ]
    },
    {
      "cell_type": "code",
      "metadata": {
        "id": "tOss7ehWywrY",
        "colab_type": "code",
        "colab": {
          "base_uri": "https://localhost:8080/",
          "height": 0
        },
        "outputId": "f5a482c0-b207-4b84-d0db-d8adae93c8e9"
      },
      "source": [
        "names = np.array(['Alex', 'Sumir', 'Wanda', 'Juan', 'Wanda', 'Sumir', 'Juan', 'Alex', 'Sumir', 'Juan'])\n",
        "np.unique(names)"
      ],
      "execution_count": 163,
      "outputs": [
        {
          "output_type": "execute_result",
          "data": {
            "text/plain": [
              "array(['Alex', 'Juan', 'Sumir', 'Wanda'], dtype='<U5')"
            ]
          },
          "metadata": {
            "tags": []
          },
          "execution_count": 163
        }
      ]
    },
    {
      "cell_type": "code",
      "metadata": {
        "id": "bQ4Bbs51ywrb",
        "colab_type": "code",
        "colab": {
          "base_uri": "https://localhost:8080/",
          "height": 0
        },
        "outputId": "7ec8efd5-79bc-4222-9100-8eeae9522465"
      },
      "source": [
        "ints = np.array([3, 3, 3, 2, 2, 1, 1, 4, 4])\n",
        "np.unique(ints)"
      ],
      "execution_count": 164,
      "outputs": [
        {
          "output_type": "execute_result",
          "data": {
            "text/plain": [
              "array([1, 2, 3, 4])"
            ]
          },
          "metadata": {
            "tags": []
          },
          "execution_count": 164
        }
      ]
    },
    {
      "cell_type": "markdown",
      "metadata": {
        "id": "IoBD42P0ywrd",
        "colab_type": "text"
      },
      "source": [
        "Contrast np.unique with the pure Python alternative"
      ]
    },
    {
      "cell_type": "code",
      "metadata": {
        "id": "i4ME8oyFywrd",
        "colab_type": "code",
        "colab": {
          "base_uri": "https://localhost:8080/",
          "height": 0
        },
        "outputId": "250387bc-6443-421c-caf4-44c0d8f4404b"
      },
      "source": [
        "sorted(set(names))"
      ],
      "execution_count": 165,
      "outputs": [
        {
          "output_type": "execute_result",
          "data": {
            "text/plain": [
              "['Alex', 'Juan', 'Sumir', 'Wanda']"
            ]
          },
          "metadata": {
            "tags": []
          },
          "execution_count": 165
        }
      ]
    },
    {
      "cell_type": "code",
      "metadata": {
        "id": "T1s33O6Gywrg",
        "colab_type": "code",
        "colab": {
          "base_uri": "https://localhost:8080/",
          "height": 0
        },
        "outputId": "93c4b335-b112-4c70-919a-8403d66a50f8"
      },
      "source": [
        "sorted(set(ints))"
      ],
      "execution_count": 166,
      "outputs": [
        {
          "output_type": "execute_result",
          "data": {
            "text/plain": [
              "[1, 2, 3, 4]"
            ]
          },
          "metadata": {
            "tags": []
          },
          "execution_count": 166
        }
      ]
    },
    {
      "cell_type": "markdown",
      "metadata": {
        "id": "hspmx5C9ywrm",
        "colab_type": "text"
      },
      "source": [
        "```np.in1d``` - tests membership of the values in one array in another, returning a boolean array"
      ]
    },
    {
      "cell_type": "code",
      "metadata": {
        "id": "6GEudwA-ywrm",
        "colab_type": "code",
        "colab": {
          "base_uri": "https://localhost:8080/",
          "height": 0
        },
        "outputId": "10af4b44-fcb2-480b-9927-b8ba379bfc2a"
      },
      "source": [
        "values = np.array([6, 0, 0, 3, 2, 5, 6])\n",
        "targets = np.array([2, 3, 6])\n",
        "np.in1d(values, targets)"
      ],
      "execution_count": 167,
      "outputs": [
        {
          "output_type": "execute_result",
          "data": {
            "text/plain": [
              "array([ True, False, False,  True,  True, False,  True])"
            ]
          },
          "metadata": {
            "tags": []
          },
          "execution_count": 167
        }
      ]
    },
    {
      "cell_type": "markdown",
      "metadata": {
        "id": "FMqL5mN5ywro",
        "colab_type": "text"
      },
      "source": [
        "### File Input and Output with Arrays"
      ]
    },
    {
      "cell_type": "markdown",
      "metadata": {
        "id": "T_tgoOLrywrp",
        "colab_type": "text"
      },
      "source": [
        "NumPy is able to save and load data to and from disk either in text or binary format."
      ]
    },
    {
      "cell_type": "markdown",
      "metadata": {
        "id": "72U3U56Gywrp",
        "colab_type": "text"
      },
      "source": [
        "```np.save``` and ```np.load``` - efficient functions for saving and loading array data on disk. \n",
        "\n",
        "Arrays are saved by default in an uncompressed raw binary format with file extension .npy"
      ]
    },
    {
      "cell_type": "code",
      "metadata": {
        "id": "zRnC0agEywrp",
        "colab_type": "code",
        "colab": {
          "base_uri": "https://localhost:8080/",
          "height": 0
        },
        "outputId": "8a34ed89-0aa6-44d3-928e-fb55dff153cf"
      },
      "source": [
        "arr = np.arange(10)\n",
        "arr"
      ],
      "execution_count": 168,
      "outputs": [
        {
          "output_type": "execute_result",
          "data": {
            "text/plain": [
              "array([0, 1, 2, 3, 4, 5, 6, 7, 8, 9])"
            ]
          },
          "metadata": {
            "tags": []
          },
          "execution_count": 168
        }
      ]
    },
    {
      "cell_type": "code",
      "metadata": {
        "id": "Ggma6OaAywrt",
        "colab_type": "code",
        "colab": {}
      },
      "source": [
        "# Save array to disk\n",
        "np.save('some_array', arr)"
      ],
      "execution_count": 169,
      "outputs": []
    },
    {
      "cell_type": "code",
      "metadata": {
        "id": "Y3DYYaxOywrx",
        "colab_type": "code",
        "colab": {
          "base_uri": "https://localhost:8080/",
          "height": 0
        },
        "outputId": "d52d59b2-0b24-4427-f859-f0e90eb48d92"
      },
      "source": [
        "# Read array from disk\n",
        "arr = np.load('some_array.npy')\n",
        "arr"
      ],
      "execution_count": 170,
      "outputs": [
        {
          "output_type": "execute_result",
          "data": {
            "text/plain": [
              "array([0, 1, 2, 3, 4, 5, 6, 7, 8, 9])"
            ]
          },
          "metadata": {
            "tags": []
          },
          "execution_count": 170
        }
      ]
    },
    {
      "cell_type": "markdown",
      "metadata": {
        "id": "qpI6vtocywr1",
        "colab_type": "text"
      },
      "source": [
        "```np.savez``` - save multiple arrays in an uncompressed archive "
      ]
    },
    {
      "cell_type": "code",
      "metadata": {
        "id": "h1xbaaLGywr1",
        "colab_type": "code",
        "colab": {}
      },
      "source": [
        "# Save arrays to an archive on disk\n",
        "np.savez('array_archive.npz', a=arr, b=arr*2, c=arr*3)"
      ],
      "execution_count": 171,
      "outputs": []
    },
    {
      "cell_type": "code",
      "metadata": {
        "id": "BFTu0rVRywr3",
        "colab_type": "code",
        "colab": {
          "base_uri": "https://localhost:8080/",
          "height": 0
        },
        "outputId": "380b9b2e-3caa-448b-b09e-89a1f2825479"
      },
      "source": [
        "# Read archive from disk\n",
        "arch = np.load('array_archive.npz')\n",
        "arch['b']"
      ],
      "execution_count": 172,
      "outputs": [
        {
          "output_type": "execute_result",
          "data": {
            "text/plain": [
              "array([ 0,  2,  4,  6,  8, 10, 12, 14, 16, 18])"
            ]
          },
          "metadata": {
            "tags": []
          },
          "execution_count": 172
        }
      ]
    },
    {
      "cell_type": "code",
      "metadata": {
        "id": "FVmyNaFhywr5",
        "colab_type": "code",
        "colab": {
          "base_uri": "https://localhost:8080/",
          "height": 0
        },
        "outputId": "9e830853-6651-4963-d151-d600e25fca34"
      },
      "source": [
        "arch['c']"
      ],
      "execution_count": 173,
      "outputs": [
        {
          "output_type": "execute_result",
          "data": {
            "text/plain": [
              "array([ 0,  3,  6,  9, 12, 15, 18, 21, 24, 27])"
            ]
          },
          "metadata": {
            "tags": []
          },
          "execution_count": 173
        }
      ]
    },
    {
      "cell_type": "markdown",
      "metadata": {
        "id": "2cTbb1Vhywr6",
        "colab_type": "text"
      },
      "source": [
        "```np.savez_compressed``` - compresses the archive"
      ]
    },
    {
      "cell_type": "code",
      "metadata": {
        "id": "MXreOqJ8ywr6",
        "colab_type": "code",
        "colab": {}
      },
      "source": [
        "np.savez_compressed('arrays_compressed.npz', a=arr, b=arr*2, c=arr*3)"
      ],
      "execution_count": 174,
      "outputs": []
    },
    {
      "cell_type": "code",
      "metadata": {
        "id": "WJJ5ssqfywr7",
        "colab_type": "code",
        "colab": {
          "base_uri": "https://localhost:8080/",
          "height": 0
        },
        "outputId": "78ff3fa1-270d-492e-ec65-198fba4e444c"
      },
      "source": [
        "# File size savings\n",
        "from pathlib import Path\n",
        "print('array_archive_size =', Path('array_archive.npz').stat().st_size)\n",
        "print('arrays_compressed_size =', Path('arrays_compressed.npz').stat().st_size)\n",
        "print('savings =', Path('array_archive.npz').stat().st_size - Path('arrays_compressed.npz').stat().st_size)"
      ],
      "execution_count": 175,
      "outputs": [
        {
          "output_type": "stream",
          "text": [
            "array_archive_size = 964\n",
            "arrays_compressed_size = 625\n",
            "savings = 339\n"
          ],
          "name": "stdout"
        }
      ]
    },
    {
      "cell_type": "markdown",
      "metadata": {
        "id": "jpe3zh4nywr-",
        "colab_type": "text"
      },
      "source": [
        "---\n",
        "### Linear Algebra"
      ]
    },
    {
      "cell_type": "markdown",
      "metadata": {
        "id": "3ca0qXeBywr-",
        "colab_type": "text"
      },
      "source": [
        "Linear algebra is an important part of any array library.  \n",
        "- matrix multiplication\n",
        "- decompositions\n",
        "- determinants\n",
        "- other square matrix math \n",
        "\n",
        "Unlike some languages like MATLAB, multiplying two two-dimensional arrays with **'*'** is an element-wise product instead of a matrix dot product. \n",
        "\n",
        "Thus, there is a function ```dot```, both an array method and a function in the numpy namespace, for matrix multiplication."
      ]
    },
    {
      "cell_type": "code",
      "metadata": {
        "id": "B_Vox5Z0ywsA",
        "colab_type": "code",
        "colab": {
          "base_uri": "https://localhost:8080/",
          "height": 0
        },
        "outputId": "1ca111c8-5ca3-4733-e289-e3e7af66150d"
      },
      "source": [
        "x = np.array([[1., 2., 3.], [4., 5., 6.]])\n",
        "x"
      ],
      "execution_count": 176,
      "outputs": [
        {
          "output_type": "execute_result",
          "data": {
            "text/plain": [
              "array([[1., 2., 3.],\n",
              "       [4., 5., 6.]])"
            ]
          },
          "metadata": {
            "tags": []
          },
          "execution_count": 176
        }
      ]
    },
    {
      "cell_type": "code",
      "metadata": {
        "id": "r8PGKEQAywsC",
        "colab_type": "code",
        "colab": {
          "base_uri": "https://localhost:8080/",
          "height": 0
        },
        "outputId": "879b3893-9dbe-4f27-bd8b-431cc8670e33"
      },
      "source": [
        "y = np.array([[6., 23.], [-1, 7], [8, 9]])\n",
        "y"
      ],
      "execution_count": 177,
      "outputs": [
        {
          "output_type": "execute_result",
          "data": {
            "text/plain": [
              "array([[ 6., 23.],\n",
              "       [-1.,  7.],\n",
              "       [ 8.,  9.]])"
            ]
          },
          "metadata": {
            "tags": []
          },
          "execution_count": 177
        }
      ]
    },
    {
      "cell_type": "code",
      "metadata": {
        "id": "BqUjIX3VywsD",
        "colab_type": "code",
        "colab": {
          "base_uri": "https://localhost:8080/",
          "height": 0
        },
        "outputId": "bddff109-664a-4e5b-b68e-05b72dca9fc0"
      },
      "source": [
        "# x (2,3) dot y (3,2) yields a (2,2) matrix \n",
        "x.dot(y)"
      ],
      "execution_count": 178,
      "outputs": [
        {
          "output_type": "execute_result",
          "data": {
            "text/plain": [
              "array([[ 28.,  64.],\n",
              "       [ 67., 181.]])"
            ]
          },
          "metadata": {
            "tags": []
          },
          "execution_count": 178
        }
      ]
    },
    {
      "cell_type": "code",
      "metadata": {
        "id": "G6J7rRaXywsE",
        "colab_type": "code",
        "colab": {
          "base_uri": "https://localhost:8080/",
          "height": 0
        },
        "outputId": "709f1fd0-13fa-4874-833d-77153a7eb219"
      },
      "source": [
        "np.dot(x, y)"
      ],
      "execution_count": 179,
      "outputs": [
        {
          "output_type": "execute_result",
          "data": {
            "text/plain": [
              "array([[ 28.,  64.],\n",
              "       [ 67., 181.]])"
            ]
          },
          "metadata": {
            "tags": []
          },
          "execution_count": 179
        }
      ]
    },
    {
      "cell_type": "markdown",
      "metadata": {
        "id": "viKj-g1cywsF",
        "colab_type": "text"
      },
      "source": [
        "A matrix product between a two-dimensional array and a suitably sized one dimensional array results in a one-dimensional array"
      ]
    },
    {
      "cell_type": "code",
      "metadata": {
        "id": "-K8wLfouywsH",
        "colab_type": "code",
        "colab": {
          "base_uri": "https://localhost:8080/",
          "height": 0
        },
        "outputId": "8a325d70-89f0-4ef6-f1fc-8238566c761b"
      },
      "source": [
        "np.dot(x, np.ones(3))"
      ],
      "execution_count": 180,
      "outputs": [
        {
          "output_type": "execute_result",
          "data": {
            "text/plain": [
              "array([ 6., 15.])"
            ]
          },
          "metadata": {
            "tags": []
          },
          "execution_count": 180
        }
      ]
    },
    {
      "cell_type": "markdown",
      "metadata": {
        "id": "-7Vpw5zTywsJ",
        "colab_type": "text"
      },
      "source": [
        "The @ symbol (as of Python 3.5) also works as an infix operator that performs matrix multiplication"
      ]
    },
    {
      "cell_type": "code",
      "metadata": {
        "id": "oBzftPKkywsJ",
        "colab_type": "code",
        "colab": {
          "base_uri": "https://localhost:8080/",
          "height": 0
        },
        "outputId": "387e87e4-315b-48d5-c958-789902fb930b"
      },
      "source": [
        "x @ np.ones(3)"
      ],
      "execution_count": 181,
      "outputs": [
        {
          "output_type": "execute_result",
          "data": {
            "text/plain": [
              "array([ 6., 15.])"
            ]
          },
          "metadata": {
            "tags": []
          },
          "execution_count": 181
        }
      ]
    },
    {
      "cell_type": "code",
      "metadata": {
        "id": "wCEgP0XzywsK",
        "colab_type": "code",
        "colab": {
          "base_uri": "https://localhost:8080/",
          "height": 0
        },
        "outputId": "a911cbad-5bac-41ec-85b9-b14f0c53c7b7"
      },
      "source": [
        "x @ y"
      ],
      "execution_count": 182,
      "outputs": [
        {
          "output_type": "execute_result",
          "data": {
            "text/plain": [
              "array([[ 28.,  64.],\n",
              "       [ 67., 181.]])"
            ]
          },
          "metadata": {
            "tags": []
          },
          "execution_count": 182
        }
      ]
    },
    {
      "cell_type": "markdown",
      "metadata": {
        "id": "8xJIbCf7ywsN",
        "colab_type": "text"
      },
      "source": [
        "---\n",
        "```numpy.linalg``` \n",
        "\n",
        "Standard set of matrix decompositions and things like inverse and determinant. \n",
        "\n",
        "These are implemented under the hood via the same industry standard linear algebra libraries used in other languages like MATLAB and R, such as BLAS, LAPACK, or possibly (depending on your NumPy build) the proprietary Intel MKL (Math Kernel Library)"
      ]
    },
    {
      "cell_type": "code",
      "metadata": {
        "id": "DkRc6TRVywsO",
        "colab_type": "code",
        "colab": {}
      },
      "source": [
        "from numpy.linalg import inv, qr"
      ],
      "execution_count": 183,
      "outputs": []
    },
    {
      "cell_type": "code",
      "metadata": {
        "id": "Sl4r-i9PywsP",
        "colab_type": "code",
        "colab": {
          "base_uri": "https://localhost:8080/",
          "height": 0
        },
        "outputId": "dc31e23a-8e87-40e8-d443-3e413ed79760"
      },
      "source": [
        "X = np.random.randn(4, 4)*5\n",
        "X"
      ],
      "execution_count": 184,
      "outputs": [
        {
          "output_type": "execute_result",
          "data": {
            "text/plain": [
              "array([[ 5.01119533,  0.79609739,  6.33378903,  7.57136472],\n",
              "       [ 3.72147352,  2.4745236 , -0.83789264,  6.65075305],\n",
              "       [ 0.37149645,  8.08695706, -7.1374099 ,  9.43156497],\n",
              "       [-3.37758509, -8.97452419, -4.93584148, -2.06311131]])"
            ]
          },
          "metadata": {
            "tags": []
          },
          "execution_count": 184
        }
      ]
    },
    {
      "cell_type": "code",
      "metadata": {
        "id": "rH1WUecDywsQ",
        "colab_type": "code",
        "colab": {
          "base_uri": "https://localhost:8080/",
          "height": 0
        },
        "outputId": "6351965c-a4b0-4141-c0dc-4b61dab5143f"
      },
      "source": [
        "# Compute the dot product of X with its transpose X.T\n",
        "mat = X.T.dot(X)\n",
        "mat"
      ],
      "execution_count": 185,
      "outputs": [
        {
          "output_type": "execute_result",
          "data": {
            "text/plain": [
              "array([[ 50.50753442,  46.51476851,  42.6413609 ,  73.16431575],\n",
              "       [ 46.51476851, 152.69799711, -10.45417088, 117.27309238],\n",
              "       [ 42.6413609 , -10.45417088, 116.12409882, -14.75094507],\n",
              "       [ 73.16431575, 117.27309238, -14.75094507, 194.76892598]])"
            ]
          },
          "metadata": {
            "tags": []
          },
          "execution_count": 185
        }
      ]
    },
    {
      "cell_type": "code",
      "metadata": {
        "id": "xdeY_Tv4ywsR",
        "colab_type": "code",
        "colab": {
          "base_uri": "https://localhost:8080/",
          "height": 0
        },
        "outputId": "e49789e6-6de4-45c8-f3bf-a595af186c89"
      },
      "source": [
        "# Inverse\n",
        "inv(mat)"
      ],
      "execution_count": 186,
      "outputs": [
        {
          "output_type": "execute_result",
          "data": {
            "text/plain": [
              "array([[ 0.36781643, -0.01398519, -0.15428904, -0.14143355],\n",
              "       [-0.01398519,  0.01271725,  0.00603301, -0.00194683],\n",
              "       [-0.15428904,  0.00603301,  0.07341748,  0.05988593],\n",
              "       [-0.14143355, -0.00194683,  0.05988593,  0.06397105]])"
            ]
          },
          "metadata": {
            "tags": []
          },
          "execution_count": 186
        }
      ]
    },
    {
      "cell_type": "code",
      "metadata": {
        "id": "3kVEKXcuywsS",
        "colab_type": "code",
        "colab": {
          "base_uri": "https://localhost:8080/",
          "height": 0
        },
        "outputId": "ea1991fc-5bd3-4ba8-eb59-3bc92b477e69"
      },
      "source": [
        "mat.dot(inv(mat))"
      ],
      "execution_count": 187,
      "outputs": [
        {
          "output_type": "execute_result",
          "data": {
            "text/plain": [
              "array([[ 1.00000000e+00,  1.83825408e-17,  4.54096352e-16,\n",
              "         3.58576735e-16],\n",
              "       [ 1.88091666e-16,  1.00000000e+00,  2.82585127e-16,\n",
              "         3.37965253e-16],\n",
              "       [-5.14426072e-15,  1.42462767e-17,  1.00000000e+00,\n",
              "         2.25511278e-15],\n",
              "       [-5.26941664e-15, -1.89454504e-17,  4.21872063e-16,\n",
              "         1.00000000e+00]])"
            ]
          },
          "metadata": {
            "tags": []
          },
          "execution_count": 187
        }
      ]
    },
    {
      "cell_type": "code",
      "metadata": {
        "id": "TJIa62ABywsT",
        "colab_type": "code",
        "colab": {}
      },
      "source": [
        "# Compute the QR decomposition\n",
        "q, r = qr(mat)"
      ],
      "execution_count": 188,
      "outputs": []
    },
    {
      "cell_type": "code",
      "metadata": {
        "id": "oxFAVxugywsU",
        "colab_type": "code",
        "colab": {
          "base_uri": "https://localhost:8080/",
          "height": 0
        },
        "outputId": "cebf9d15-8966-4e9d-d3b5-faafc08231a8"
      },
      "source": [
        "q"
      ],
      "execution_count": 189,
      "outputs": [
        {
          "output_type": "execute_result",
          "data": {
            "text/plain": [
              "array([[-0.46327562,  0.24446934,  0.05563671, -0.85000882],\n",
              "       [-0.42665235, -0.72669651, -0.53827785, -0.01170034],\n",
              "       [-0.39112388,  0.63721348, -0.55807234,  0.35991158],\n",
              "       [-0.67109282, -0.07814019,  0.62906023,  0.38446296]])"
            ]
          },
          "metadata": {
            "tags": []
          },
          "execution_count": 189
        }
      ]
    },
    {
      "cell_type": "code",
      "metadata": {
        "id": "aRHDStqUywsV",
        "colab_type": "code",
        "colab": {
          "base_uri": "https://localhost:8080/",
          "height": 0
        },
        "outputId": "c1bef809-a246-484f-b3ab-84f45a87c57c"
      },
      "source": [
        "r"
      ],
      "execution_count": 190,
      "outputs": [
        {
          "output_type": "execute_result",
          "data": {
            "text/plain": [
              "array([[-109.02264664, -161.31037255,  -50.81406147, -208.86866599],\n",
              "       [   0.        , -115.4189482 ,   93.16999846,  -91.95429799],\n",
              "       [   0.        ,    0.        ,  -66.0852071 ,   71.69859223],\n",
              "       [   0.        ,    0.        ,    0.        ,    6.00995197]])"
            ]
          },
          "metadata": {
            "tags": []
          },
          "execution_count": 190
        }
      ]
    },
    {
      "cell_type": "markdown",
      "metadata": {
        "id": "wt-phGGUywsW",
        "colab_type": "text"
      },
      "source": [
        "---\n",
        "### Pseudorandom Number Generation"
      ]
    },
    {
      "cell_type": "code",
      "metadata": {
        "id": "TG_SpeOGywsW",
        "colab_type": "code",
        "colab": {
          "base_uri": "https://localhost:8080/",
          "height": 0
        },
        "outputId": "b9af7774-c14e-4ec5-8402-0f41ef56687f"
      },
      "source": [
        "# get a 4 × 4 array of samples from the standard normal distribution using normal\n",
        "samples = np.random.normal(size=(4, 4))\n",
        "samples"
      ],
      "execution_count": 191,
      "outputs": [
        {
          "output_type": "execute_result",
          "data": {
            "text/plain": [
              "array([[ 1.27626575, -0.81320142, -0.63742683,  2.89187791],\n",
              "       [ 0.0123981 ,  0.28873156,  1.42280448, -0.49646248],\n",
              "       [-0.19791342,  1.50491423, -0.63694756, -0.04271083],\n",
              "       [ 0.78939665,  0.58043686,  0.08392134, -1.27632482]])"
            ]
          },
          "metadata": {
            "tags": []
          },
          "execution_count": 191
        }
      ]
    },
    {
      "cell_type": "markdown",
      "metadata": {
        "id": "I_OUrqFtywsX",
        "colab_type": "text"
      },
      "source": [
        "Python’s built-in random module, by contrast, only samples one value at a time.  \n",
        "\n",
        "Use ```np.random``` as it is more than an order of magnitude faster."
      ]
    },
    {
      "cell_type": "code",
      "metadata": {
        "id": "pXYMSBSgywsY",
        "colab_type": "code",
        "colab": {
          "base_uri": "https://localhost:8080/",
          "height": 0
        },
        "outputId": "56aa0a6f-e240-4cf6-90d9-a6627221d83b"
      },
      "source": [
        "from random import normalvariate\n",
        "N = 1000000\n",
        "%timeit samples = [normalvariate(0, 1) for _ in range(N)]"
      ],
      "execution_count": 192,
      "outputs": [
        {
          "output_type": "stream",
          "text": [
            "1 loop, best of 3: 670 ms per loop\n"
          ],
          "name": "stdout"
        }
      ]
    },
    {
      "cell_type": "code",
      "metadata": {
        "id": "889QcAVoywsZ",
        "colab_type": "code",
        "colab": {
          "base_uri": "https://localhost:8080/",
          "height": 0
        },
        "outputId": "325e47bd-7089-4362-c7bd-ca6c0353f1d5"
      },
      "source": [
        "%timeit np.random.normal(size=N)"
      ],
      "execution_count": 193,
      "outputs": [
        {
          "output_type": "stream",
          "text": [
            "10 loops, best of 3: 43.4 ms per loop\n"
          ],
          "name": "stdout"
        }
      ]
    },
    {
      "cell_type": "code",
      "metadata": {
        "id": "7r8mqf9Wywsa",
        "colab_type": "code",
        "colab": {}
      },
      "source": [
        "# Change NumPy’s random number generation seed\n",
        "np.random.seed(1234)"
      ],
      "execution_count": 194,
      "outputs": []
    },
    {
      "cell_type": "markdown",
      "metadata": {
        "id": "Nc8A0g8Aywsb",
        "colab_type": "text"
      },
      "source": [
        "To avoid global state, use ```numpy.random.RandomState``` to create a random number generator isolated from others"
      ]
    },
    {
      "cell_type": "code",
      "metadata": {
        "id": "VisjztsPywsb",
        "colab_type": "code",
        "colab": {}
      },
      "source": [
        "my_random_num_generator = np.random.RandomState(11234)"
      ],
      "execution_count": 195,
      "outputs": []
    },
    {
      "cell_type": "code",
      "metadata": {
        "id": "hDfDoap6ywsc",
        "colab_type": "code",
        "colab": {
          "base_uri": "https://localhost:8080/",
          "height": 0
        },
        "outputId": "67e969c4-3cef-44cd-d737-d5b712022996"
      },
      "source": [
        "my_random_num_generator.randn(10)"
      ],
      "execution_count": 196,
      "outputs": [
        {
          "output_type": "execute_result",
          "data": {
            "text/plain": [
              "array([-1.46208215,  0.11011903,  0.53344869, -0.28994171,  0.75870416,\n",
              "       -1.28504604,  0.81067   , -1.36113276,  1.99535121, -0.20030905])"
            ]
          },
          "metadata": {
            "tags": []
          },
          "execution_count": 196
        }
      ]
    },
    {
      "cell_type": "code",
      "metadata": {
        "id": "k4bHBr-0ywsg",
        "colab_type": "code",
        "colab": {}
      },
      "source": [
        ""
      ],
      "execution_count": 196,
      "outputs": []
    }
  ]
}
