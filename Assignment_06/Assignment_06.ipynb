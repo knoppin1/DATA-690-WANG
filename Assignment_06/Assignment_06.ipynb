{
  "nbformat": 4,
  "nbformat_minor": 0,
  "metadata": {
    "colab": {
      "name": "Assignment_04.ipynb",
      "provenance": [],
      "toc_visible": true,
      "authorship_tag": "ABX9TyMie3vIq3OggprzloIDj5J8",
      "include_colab_link": true
    },
    "kernelspec": {
      "name": "python3",
      "display_name": "Python 3"
    }
  },
  "cells": [
    {
      "cell_type": "markdown",
      "metadata": {
        "id": "view-in-github",
        "colab_type": "text"
      },
      "source": [
        "<a href=\"https://colab.research.google.com/github/knoppin1/DATA-690-WANG/blob/master/Assignment_06/Assignment_06.ipynb\" target=\"_parent\"><img src=\"https://colab.research.google.com/assets/colab-badge.svg\" alt=\"Open In Colab\"/></a>"
      ]
    },
    {
      "cell_type": "markdown",
      "metadata": {
        "id": "qnwPwzqTSoIr"
      },
      "source": [
        "# Assignment 06 - Using Pandas\n",
        "### Ken Noppinger (knoppin1@umbc.edu)\n",
        "## Instructions\n",
        "- This assignment is a re-do of assignment 04. Use Pandas and functions instead.\n",
        "- Use the simple and convenient read_html() from Pandas to extract **HTML tables** from web pages. \n",
        "- Sample solution is here:\n",
        "- https://github.com/wcj365/python-stats-dataviz/blob/master/pandas_apply.ipynb\n",
        "- Make sure you user **Markdown cells** to document the process and its steps.\n",
        "## Requirements\n",
        "1. Use Pandas read_html() function to retrive the HTML tables as dataframes from the web page: https://www.genealogybranches.com/censuscosts.html\n",
        "2. Find out how many HTML tables Pandas retrieves from the web page. Find out which dataframe contain the data and use it for further processing.\n",
        "3. Display and explore the data (rows, columns, etc.) and determine the data quality (bad rows, bad columns, bad elements, null values, etc.)\n",
        "4. Document the data quality issues using a Markdown cell so the reader understands what the problems are.\n",
        "5. Write a function named cleanse_year() that takes a string as input and removes any asterisks in the string and return the cleansed string. Test the function by using test strings (for example, \"1989*\", \"20*10\")\n",
        "6. Cleanse the column \"Census Year\" using the function cleanse_year() and Pandas's apply() function.\n",
        "7. Repeat this process for column \"Total Population\", \t\"Census Cost\", \t\"Average Cost Per Person\". (define, test, and apply the function)\n",
        "8. After all columns are cleansed, save the clenased dataframe to a file named \"census_cost_cleansed.csv\" using CSV format.\n",
        "9. Use Pandas to read the saved cleansed file and explore to make sure it is clean. \n",
        "10. Updload both the Jupyter notebook and the cleanse data file to GitHub and submit the GitHub link in BlackBoard.\n",
        "\n",
        "\n",
        "1. Write code to open the text file [census_cost.txt](census_cost.txt) and read all lines into a list named **\"line_list\"**. Print line_list.\n",
        "2. Extract the first two lines and put them in a different list named \"top2_list\". You will need to use them later. Print the top2_list.\n",
        "3. Put the rest of the lines (containing useful data elements) in a new list named \"data_list\". Print data_list.\n",
        "4. Extract the column **\"Census Year\"** from data_list and assign them to a list named **year_list**. Remove the asterisk character from the last element \"2010*\". Print the cleansed year_list.\n",
        "5. Extract the **\"Total Population\"** column from the data_list and assign them to a list named **\"pop_list\"**. Remove the \",\" from the numbers since Python doesn't recognize them. Print the cleansed \"pop_list\".\n",
        "6. Extract the **\"Census Cost\"** column from the data_list and assign them to a list named **\"cost_list\"**. Remove the \",\", and \"\\$\", and \"Billion\".\n",
        "Make sure to add the \"0\"s to the numbers from which you removed \"Billion\". Print the cleansed cost_list.  \n",
        "7. Extract the **\"Average Cost per Person\"** column from the data_list and assign them to a list named **\"avg_list\"**. Remove the \"cents\", and \"$\".\n",
        "Make sure to divide the numbers in cents by 100 so that all numbers are measured in dollar. Print the cleansed avg_list.\n",
        "8. Coalesce the cleansed data and save them to a text file named **\"census_cost.csv\"**. The new file should look similar to the original source file except that it is in comma-delimited format and the numbers have been cleansed. The top two lines from the original file should be retained in the new file.\n",
        "\n",
        "---"
      ]
    },
    {
      "cell_type": "code",
      "metadata": {
        "id": "UEFFjCyjS0y9"
      },
      "source": [
        "import pandas as pd"
      ],
      "execution_count": 1,
      "outputs": []
    },
    {
      "cell_type": "markdown",
      "metadata": {
        "id": "zbbq_AWmVQbi"
      },
      "source": [
        "**1 -  Read HTML tables**\n",
        "- Use Pandas read_html() function to retrive the HTML tables as dataframes from the web page: https://www.genealogybranches.com/censuscosts.html\n",
        "-  Read all HTML tables into a list named **census_cost_list**. \n",
        "- Print line_list\n",
        "\n"
      ]
    },
    {
      "cell_type": "code",
      "metadata": {
        "id": "lK2alBJvOgT9",
        "outputId": "33e1edf2-db52-4066-9852-1f7c167976f5",
        "colab": {
          "base_uri": "https://localhost:8080/",
          "height": 34
        }
      },
      "source": [
        "census_cost_data = pd.read_html(\"https://www.genealogybranches.com/censuscosts.html\")\n",
        "type(census_cost_data)"
      ],
      "execution_count": 9,
      "outputs": [
        {
          "output_type": "execute_result",
          "data": {
            "text/plain": [
              "list"
            ]
          },
          "metadata": {
            "tags": []
          },
          "execution_count": 9
        }
      ]
    },
    {
      "cell_type": "markdown",
      "metadata": {
        "id": "DoS8lf6vPJ-p"
      },
      "source": [
        "2 - Determine # of HTML tables Pandas retrieves from the web page. "
      ]
    },
    {
      "cell_type": "code",
      "metadata": {
        "id": "qsnwWKdUSaJ0",
        "outputId": "dfae8767-641e-4e7f-ab0b-78bebd8f9d77",
        "colab": {
          "base_uri": "https://localhost:8080/",
          "height": 34
        }
      },
      "source": [
        "len(census_cost_data)"
      ],
      "execution_count": 15,
      "outputs": [
        {
          "output_type": "execute_result",
          "data": {
            "text/plain": [
              "2"
            ]
          },
          "metadata": {
            "tags": []
          },
          "execution_count": 15
        }
      ]
    },
    {
      "cell_type": "code",
      "metadata": {
        "id": "QQdH9DXgO7NR",
        "outputId": "15cda3c0-59ea-4ae5-8ec6-97d28576eefa",
        "colab": {
          "base_uri": "https://localhost:8080/",
          "height": 476
        }
      },
      "source": [
        "census_cost_data"
      ],
      "execution_count": 16,
      "outputs": [
        {
          "output_type": "execute_result",
          "data": {
            "text/plain": [
              "[              0                 1               2                        3\n",
              " 0   Census Year  Total Population     Census Cost  Average Cost Per Person\n",
              " 1          1790           3929214         $44,377               1.13 cents\n",
              " 2          1800           5308483         $66,109               1.24 cents\n",
              " 3          1810           7239881        $178,445               2.46 cents\n",
              " 4          1820           9633822        $208,526               2.16 cents\n",
              " 5          1830          12866020        $378,545               2.94 cents\n",
              " 6          1840          17069458        $833,371               4.88 cents\n",
              " 7          1850          23191876      $1,423,351               6.14 cents\n",
              " 8          1860          31443321      $1,969,377               6.26 cents\n",
              " 9          1870          38558371      $3,421,198               8.87 cents\n",
              " 10         1880          50155783      $5,790,678              11.54 cents\n",
              " 11         1890          62979766     $11,547,127              18.33 cents\n",
              " 12         1900          76303387     $11,854,000              15.54 cents\n",
              " 13         1910          91972266     $15,968,000              17.07 cents\n",
              " 14         1920         105710620     $25,117,000              23.76 cents\n",
              " 15         1930         122775046     $40,156,000              32.71 cents\n",
              " 16         1940         131669275     $67,527,000              51.29 cents\n",
              " 17         1950         151325798     $91,462,000              60.44 cents\n",
              " 18         1960         179323175    $127,934,000              71.34 cents\n",
              " 19         1970         203302031    $247,653,000                    $1.22\n",
              " 20         1980         226542199  $1,078,488,000                    $4.76\n",
              " 21         1990         248718301  $2,492,830,000                   $10.02\n",
              " 22         2000         281421906    $4.5 Billion                   $15.99\n",
              " 23        2010*         308745538     $13 Billion                   $42.11,\n",
              "                                                    0\n",
              " 0  The U.S. population reached 300,000,000 on 17 ...]"
            ]
          },
          "metadata": {
            "tags": []
          },
          "execution_count": 16
        }
      ]
    },
    {
      "cell_type": "markdown",
      "metadata": {
        "id": "I3bAZoFcUy-l"
      },
      "source": [
        "The census data is a list containing two dataframes.  The census data of interest is in the first datframe, so save that as **cost_df**"
      ]
    },
    {
      "cell_type": "code",
      "metadata": {
        "id": "atze_6NvU-Sk",
        "outputId": "44e28425-4932-4ef6-e6a3-9215f93661c9",
        "colab": {
          "base_uri": "https://localhost:8080/",
          "height": 793
        }
      },
      "source": [
        "line_df = census_cost_data[0]\n",
        "line_df"
      ],
      "execution_count": 13,
      "outputs": [
        {
          "output_type": "execute_result",
          "data": {
            "text/html": [
              "<div>\n",
              "<style scoped>\n",
              "    .dataframe tbody tr th:only-of-type {\n",
              "        vertical-align: middle;\n",
              "    }\n",
              "\n",
              "    .dataframe tbody tr th {\n",
              "        vertical-align: top;\n",
              "    }\n",
              "\n",
              "    .dataframe thead th {\n",
              "        text-align: right;\n",
              "    }\n",
              "</style>\n",
              "<table border=\"1\" class=\"dataframe\">\n",
              "  <thead>\n",
              "    <tr style=\"text-align: right;\">\n",
              "      <th></th>\n",
              "      <th>0</th>\n",
              "      <th>1</th>\n",
              "      <th>2</th>\n",
              "      <th>3</th>\n",
              "    </tr>\n",
              "  </thead>\n",
              "  <tbody>\n",
              "    <tr>\n",
              "      <th>0</th>\n",
              "      <td>Census Year</td>\n",
              "      <td>Total Population</td>\n",
              "      <td>Census Cost</td>\n",
              "      <td>Average Cost Per Person</td>\n",
              "    </tr>\n",
              "    <tr>\n",
              "      <th>1</th>\n",
              "      <td>1790</td>\n",
              "      <td>3929214</td>\n",
              "      <td>$44,377</td>\n",
              "      <td>1.13 cents</td>\n",
              "    </tr>\n",
              "    <tr>\n",
              "      <th>2</th>\n",
              "      <td>1800</td>\n",
              "      <td>5308483</td>\n",
              "      <td>$66,109</td>\n",
              "      <td>1.24 cents</td>\n",
              "    </tr>\n",
              "    <tr>\n",
              "      <th>3</th>\n",
              "      <td>1810</td>\n",
              "      <td>7239881</td>\n",
              "      <td>$178,445</td>\n",
              "      <td>2.46 cents</td>\n",
              "    </tr>\n",
              "    <tr>\n",
              "      <th>4</th>\n",
              "      <td>1820</td>\n",
              "      <td>9633822</td>\n",
              "      <td>$208,526</td>\n",
              "      <td>2.16 cents</td>\n",
              "    </tr>\n",
              "    <tr>\n",
              "      <th>5</th>\n",
              "      <td>1830</td>\n",
              "      <td>12866020</td>\n",
              "      <td>$378,545</td>\n",
              "      <td>2.94 cents</td>\n",
              "    </tr>\n",
              "    <tr>\n",
              "      <th>6</th>\n",
              "      <td>1840</td>\n",
              "      <td>17069458</td>\n",
              "      <td>$833,371</td>\n",
              "      <td>4.88 cents</td>\n",
              "    </tr>\n",
              "    <tr>\n",
              "      <th>7</th>\n",
              "      <td>1850</td>\n",
              "      <td>23191876</td>\n",
              "      <td>$1,423,351</td>\n",
              "      <td>6.14 cents</td>\n",
              "    </tr>\n",
              "    <tr>\n",
              "      <th>8</th>\n",
              "      <td>1860</td>\n",
              "      <td>31443321</td>\n",
              "      <td>$1,969,377</td>\n",
              "      <td>6.26 cents</td>\n",
              "    </tr>\n",
              "    <tr>\n",
              "      <th>9</th>\n",
              "      <td>1870</td>\n",
              "      <td>38558371</td>\n",
              "      <td>$3,421,198</td>\n",
              "      <td>8.87 cents</td>\n",
              "    </tr>\n",
              "    <tr>\n",
              "      <th>10</th>\n",
              "      <td>1880</td>\n",
              "      <td>50155783</td>\n",
              "      <td>$5,790,678</td>\n",
              "      <td>11.54 cents</td>\n",
              "    </tr>\n",
              "    <tr>\n",
              "      <th>11</th>\n",
              "      <td>1890</td>\n",
              "      <td>62979766</td>\n",
              "      <td>$11,547,127</td>\n",
              "      <td>18.33 cents</td>\n",
              "    </tr>\n",
              "    <tr>\n",
              "      <th>12</th>\n",
              "      <td>1900</td>\n",
              "      <td>76303387</td>\n",
              "      <td>$11,854,000</td>\n",
              "      <td>15.54 cents</td>\n",
              "    </tr>\n",
              "    <tr>\n",
              "      <th>13</th>\n",
              "      <td>1910</td>\n",
              "      <td>91972266</td>\n",
              "      <td>$15,968,000</td>\n",
              "      <td>17.07 cents</td>\n",
              "    </tr>\n",
              "    <tr>\n",
              "      <th>14</th>\n",
              "      <td>1920</td>\n",
              "      <td>105710620</td>\n",
              "      <td>$25,117,000</td>\n",
              "      <td>23.76 cents</td>\n",
              "    </tr>\n",
              "    <tr>\n",
              "      <th>15</th>\n",
              "      <td>1930</td>\n",
              "      <td>122775046</td>\n",
              "      <td>$40,156,000</td>\n",
              "      <td>32.71 cents</td>\n",
              "    </tr>\n",
              "    <tr>\n",
              "      <th>16</th>\n",
              "      <td>1940</td>\n",
              "      <td>131669275</td>\n",
              "      <td>$67,527,000</td>\n",
              "      <td>51.29 cents</td>\n",
              "    </tr>\n",
              "    <tr>\n",
              "      <th>17</th>\n",
              "      <td>1950</td>\n",
              "      <td>151325798</td>\n",
              "      <td>$91,462,000</td>\n",
              "      <td>60.44 cents</td>\n",
              "    </tr>\n",
              "    <tr>\n",
              "      <th>18</th>\n",
              "      <td>1960</td>\n",
              "      <td>179323175</td>\n",
              "      <td>$127,934,000</td>\n",
              "      <td>71.34 cents</td>\n",
              "    </tr>\n",
              "    <tr>\n",
              "      <th>19</th>\n",
              "      <td>1970</td>\n",
              "      <td>203302031</td>\n",
              "      <td>$247,653,000</td>\n",
              "      <td>$1.22</td>\n",
              "    </tr>\n",
              "    <tr>\n",
              "      <th>20</th>\n",
              "      <td>1980</td>\n",
              "      <td>226542199</td>\n",
              "      <td>$1,078,488,000</td>\n",
              "      <td>$4.76</td>\n",
              "    </tr>\n",
              "    <tr>\n",
              "      <th>21</th>\n",
              "      <td>1990</td>\n",
              "      <td>248718301</td>\n",
              "      <td>$2,492,830,000</td>\n",
              "      <td>$10.02</td>\n",
              "    </tr>\n",
              "    <tr>\n",
              "      <th>22</th>\n",
              "      <td>2000</td>\n",
              "      <td>281421906</td>\n",
              "      <td>$4.5 Billion</td>\n",
              "      <td>$15.99</td>\n",
              "    </tr>\n",
              "    <tr>\n",
              "      <th>23</th>\n",
              "      <td>2010*</td>\n",
              "      <td>308745538</td>\n",
              "      <td>$13 Billion</td>\n",
              "      <td>$42.11</td>\n",
              "    </tr>\n",
              "  </tbody>\n",
              "</table>\n",
              "</div>"
            ],
            "text/plain": [
              "              0                 1               2                        3\n",
              "0   Census Year  Total Population     Census Cost  Average Cost Per Person\n",
              "1          1790           3929214         $44,377               1.13 cents\n",
              "2          1800           5308483         $66,109               1.24 cents\n",
              "3          1810           7239881        $178,445               2.46 cents\n",
              "4          1820           9633822        $208,526               2.16 cents\n",
              "5          1830          12866020        $378,545               2.94 cents\n",
              "6          1840          17069458        $833,371               4.88 cents\n",
              "7          1850          23191876      $1,423,351               6.14 cents\n",
              "8          1860          31443321      $1,969,377               6.26 cents\n",
              "9          1870          38558371      $3,421,198               8.87 cents\n",
              "10         1880          50155783      $5,790,678              11.54 cents\n",
              "11         1890          62979766     $11,547,127              18.33 cents\n",
              "12         1900          76303387     $11,854,000              15.54 cents\n",
              "13         1910          91972266     $15,968,000              17.07 cents\n",
              "14         1920         105710620     $25,117,000              23.76 cents\n",
              "15         1930         122775046     $40,156,000              32.71 cents\n",
              "16         1940         131669275     $67,527,000              51.29 cents\n",
              "17         1950         151325798     $91,462,000              60.44 cents\n",
              "18         1960         179323175    $127,934,000              71.34 cents\n",
              "19         1970         203302031    $247,653,000                    $1.22\n",
              "20         1980         226542199  $1,078,488,000                    $4.76\n",
              "21         1990         248718301  $2,492,830,000                   $10.02\n",
              "22         2000         281421906    $4.5 Billion                   $15.99\n",
              "23        2010*         308745538     $13 Billion                   $42.11"
            ]
          },
          "metadata": {
            "tags": []
          },
          "execution_count": 13
        }
      ]
    },
    {
      "cell_type": "markdown",
      "metadata": {
        "id": "BxBWjSM_Rgv7"
      },
      "source": [
        "First row contains column headers, so make that row the header for the dataframe"
      ]
    },
    {
      "cell_type": "code",
      "metadata": {
        "id": "XnlmDf-VVCvn",
        "outputId": "46c6f7da-27cc-44fc-877c-c06cfd5afb77",
        "colab": {
          "base_uri": "https://localhost:8080/",
          "height": 129
        }
      },
      "source": [
        "line_list.columns = line_list.iloc[0]\n",
        "line_list.drop(line_list.index=0)\n",
        "line_list"
      ],
      "execution_count": 14,
      "outputs": [
        {
          "output_type": "error",
          "ename": "SyntaxError",
          "evalue": "ignored",
          "traceback": [
            "\u001b[0;36m  File \u001b[0;32m\"<ipython-input-14-c9ee8d4c4d25>\"\u001b[0;36m, line \u001b[0;32m2\u001b[0m\n\u001b[0;31m    line_list.drop(line_list.index=0)\u001b[0m\n\u001b[0m                  ^\u001b[0m\n\u001b[0;31mSyntaxError\u001b[0m\u001b[0;31m:\u001b[0m keyword can't be an expression\n"
          ]
        }
      ]
    },
    {
      "cell_type": "code",
      "metadata": {
        "id": "hBh6jaF2XQpO",
        "outputId": "91567438-705c-4e62-c300-f77a8b3b67b1",
        "colab": {
          "base_uri": "https://localhost:8080/",
          "height": 887
        }
      },
      "source": [
        "for line in line_list:\n",
        "    print(line)"
      ],
      "execution_count": null,
      "outputs": [
        {
          "output_type": "stream",
          "text": [
            "Source: https://www.genealogybranches.com/censuscosts.html\n",
            "\n",
            "Census Year\tTotal Population\tCensus Cost\tAverage Cost Per Person\n",
            "\n",
            "1790\t3,929,214\t$44,377\t1.13 cents\n",
            "\n",
            "1800\t5,308,483\t$66,109\t1.24 cents\n",
            "\n",
            "1810\t7,239,881\t$178,445\t2.46 cents\n",
            "\n",
            "1820\t9,633,822\t$208,526\t2.16 cents\n",
            "\n",
            "1830\t12,866,020\t$378,545\t2.94 cents\n",
            "\n",
            "1840\t17,069,458\t$833,371\t4.88 cents\n",
            "\n",
            "1850\t23,191,876\t$1,423,351\t6.14 cents\n",
            "\n",
            "1860\t31,443,321\t$1,969,377\t6.26 cents\n",
            "\n",
            "1870\t38,558,371\t$3,421,198\t8.87 cents\n",
            "\n",
            "1880\t50,155,783\t$5,790,678\t11.54 cents\n",
            "\n",
            "1890\t62,979,766\t$11,547,127\t18.33 cents\n",
            "\n",
            "1900\t76,303,387\t$11,854,000\t15.54 cents\n",
            "\n",
            "1910\t91,972,266\t$15,968,000\t17.07 cents\n",
            "\n",
            "1920\t105,710,620\t$25,117,000\t23.76 cents\n",
            "\n",
            "1930\t122,775,046\t$40,156,000\t32.71 cents\n",
            "\n",
            "1940\t131,669,275\t$67,527,000\t51.29 cents\n",
            "\n",
            "1950\t151,325,798\t$91,462,000\t60.44 cents\n",
            "\n",
            "1960\t179,323,175\t$127,934,000\t71.34 cents\n",
            "\n",
            "1970\t203,302,031\t$247,653,000\t$1.22\n",
            "\n",
            "1980\t226,542,199\t$1,078,488,000\t$4.76\n",
            "\n",
            "1990\t248,718,301\t$2,492,830,000\t$10.02\n",
            "\n",
            "2000\t281,421,906\t$4.5 Billion\t$15.99\n",
            "\n",
            "2010*\t308,745,538\t$13 Billion\t$42.11\n"
          ],
          "name": "stdout"
        }
      ]
    },
    {
      "cell_type": "markdown",
      "metadata": {
        "id": "xXh9KmnkVkBr"
      },
      "source": [
        "---\n",
        "**2 - Top2 List**\n",
        "- Extract the first two lines and put them in a different list named **top2_list**. \n",
        "- Print the top2_list."
      ]
    },
    {
      "cell_type": "code",
      "metadata": {
        "id": "JI3HY-TaVE78"
      },
      "source": [
        "top2_list = line_list[:2]"
      ],
      "execution_count": null,
      "outputs": []
    },
    {
      "cell_type": "code",
      "metadata": {
        "id": "AofCUOmYVzV7",
        "outputId": "4bee9a23-3de9-4998-883b-c779165c0da6",
        "colab": {
          "base_uri": "https://localhost:8080/",
          "height": 87
        }
      },
      "source": [
        "for line in top2_list:\n",
        "    print(line)"
      ],
      "execution_count": null,
      "outputs": [
        {
          "output_type": "stream",
          "text": [
            "Source: https://www.genealogybranches.com/censuscosts.html\n",
            "\n",
            "Census Year\tTotal Population\tCensus Cost\tAverage Cost Per Person\n",
            "\n"
          ],
          "name": "stdout"
        }
      ]
    },
    {
      "cell_type": "markdown",
      "metadata": {
        "id": "y_omEIADWHAg"
      },
      "source": [
        "---\n",
        "**3 - Data List**\n",
        "- Put the rest of the lines (containing useful data elements) in a new list named **data_list**. \n",
        "- Print data_list."
      ]
    },
    {
      "cell_type": "code",
      "metadata": {
        "id": "EkWGDiquV0uJ"
      },
      "source": [
        "data_list = line_list[2:]"
      ],
      "execution_count": null,
      "outputs": []
    },
    {
      "cell_type": "code",
      "metadata": {
        "id": "mJ0BSxOYWRi3",
        "outputId": "9718c71d-6347-4756-f64c-2e02abaa360d",
        "colab": {
          "base_uri": "https://localhost:8080/",
          "height": 816
        }
      },
      "source": [
        "for line in data_list:\n",
        "    print(line)"
      ],
      "execution_count": null,
      "outputs": [
        {
          "output_type": "stream",
          "text": [
            "1790\t3,929,214\t$44,377\t1.13 cents\n",
            "\n",
            "1800\t5,308,483\t$66,109\t1.24 cents\n",
            "\n",
            "1810\t7,239,881\t$178,445\t2.46 cents\n",
            "\n",
            "1820\t9,633,822\t$208,526\t2.16 cents\n",
            "\n",
            "1830\t12,866,020\t$378,545\t2.94 cents\n",
            "\n",
            "1840\t17,069,458\t$833,371\t4.88 cents\n",
            "\n",
            "1850\t23,191,876\t$1,423,351\t6.14 cents\n",
            "\n",
            "1860\t31,443,321\t$1,969,377\t6.26 cents\n",
            "\n",
            "1870\t38,558,371\t$3,421,198\t8.87 cents\n",
            "\n",
            "1880\t50,155,783\t$5,790,678\t11.54 cents\n",
            "\n",
            "1890\t62,979,766\t$11,547,127\t18.33 cents\n",
            "\n",
            "1900\t76,303,387\t$11,854,000\t15.54 cents\n",
            "\n",
            "1910\t91,972,266\t$15,968,000\t17.07 cents\n",
            "\n",
            "1920\t105,710,620\t$25,117,000\t23.76 cents\n",
            "\n",
            "1930\t122,775,046\t$40,156,000\t32.71 cents\n",
            "\n",
            "1940\t131,669,275\t$67,527,000\t51.29 cents\n",
            "\n",
            "1950\t151,325,798\t$91,462,000\t60.44 cents\n",
            "\n",
            "1960\t179,323,175\t$127,934,000\t71.34 cents\n",
            "\n",
            "1970\t203,302,031\t$247,653,000\t$1.22\n",
            "\n",
            "1980\t226,542,199\t$1,078,488,000\t$4.76\n",
            "\n",
            "1990\t248,718,301\t$2,492,830,000\t$10.02\n",
            "\n",
            "2000\t281,421,906\t$4.5 Billion\t$15.99\n",
            "\n",
            "2010*\t308,745,538\t$13 Billion\t$42.11\n"
          ],
          "name": "stdout"
        }
      ]
    },
    {
      "cell_type": "markdown",
      "metadata": {
        "id": "Z2vHEDDjWcQo"
      },
      "source": [
        "---\n",
        "**4 - Census Year**\n",
        "- Extract the column **\"Census Year\"** from data_list and assign them to a list named **year_list**. \n",
        "- Remove the \"*\" from the last element \"2010*\". \n",
        "- Print the cleansed year_list."
      ]
    },
    {
      "cell_type": "code",
      "metadata": {
        "id": "NGGrGlydWSOH",
        "outputId": "512f5e6c-b019-4496-a003-971108680b25",
        "colab": {
          "base_uri": "https://localhost:8080/",
          "height": 425
        }
      },
      "source": [
        "year_list = []\n",
        "for line in data_list:\n",
        "    # Census Year is the first field in each line\n",
        "    year_list.append(line.strip(\"\\n\").split('\\t')[0].strip('*'))\n",
        "year_list"
      ],
      "execution_count": null,
      "outputs": [
        {
          "output_type": "execute_result",
          "data": {
            "text/plain": [
              "['1790',\n",
              " '1800',\n",
              " '1810',\n",
              " '1820',\n",
              " '1830',\n",
              " '1840',\n",
              " '1850',\n",
              " '1860',\n",
              " '1870',\n",
              " '1880',\n",
              " '1890',\n",
              " '1900',\n",
              " '1910',\n",
              " '1920',\n",
              " '1930',\n",
              " '1940',\n",
              " '1950',\n",
              " '1960',\n",
              " '1970',\n",
              " '1980',\n",
              " '1990',\n",
              " '2000',\n",
              " '2010']"
            ]
          },
          "metadata": {
            "tags": []
          },
          "execution_count": 10
        }
      ]
    },
    {
      "cell_type": "code",
      "metadata": {
        "id": "ro0GgprRewfa",
        "outputId": "e36a0756-e05e-4b72-e4c6-7d0f33c3f274",
        "colab": {
          "base_uri": "https://localhost:8080/",
          "height": 425
        }
      },
      "source": [
        "for year in year_list:\n",
        "    print(year)"
      ],
      "execution_count": null,
      "outputs": [
        {
          "output_type": "stream",
          "text": [
            "1790\n",
            "1800\n",
            "1810\n",
            "1820\n",
            "1830\n",
            "1840\n",
            "1850\n",
            "1860\n",
            "1870\n",
            "1880\n",
            "1890\n",
            "1900\n",
            "1910\n",
            "1920\n",
            "1930\n",
            "1940\n",
            "1950\n",
            "1960\n",
            "1970\n",
            "1980\n",
            "1990\n",
            "2000\n",
            "2010\n"
          ],
          "name": "stdout"
        }
      ]
    },
    {
      "cell_type": "markdown",
      "metadata": {
        "id": "x3FvrmT3Z2n1"
      },
      "source": [
        "---\n",
        "**5 - Total Population**\n",
        "- Extract the **\"Total Population\"** column from the data_list and assign them to a list named **pop_list**. \n",
        "- Remove the \",\" from the numbers since Python doesn't recognize them.\n",
        "- Print the cleansed \"pop_list\"."
      ]
    },
    {
      "cell_type": "code",
      "metadata": {
        "id": "EKKTgQOpYdZU",
        "outputId": "6c3fed9d-1e70-4097-acce-a5475e309ee1",
        "colab": {
          "base_uri": "https://localhost:8080/",
          "height": 425
        }
      },
      "source": [
        "pop_list = []\n",
        "for line in data_list:\n",
        "    # Total population is the second field in each line\n",
        "    pop_list.append(line.strip(\"\\n\").split('\\t')[1].replace(\",\",\"\"))\n",
        "pop_list"
      ],
      "execution_count": null,
      "outputs": [
        {
          "output_type": "execute_result",
          "data": {
            "text/plain": [
              "['3929214',\n",
              " '5308483',\n",
              " '7239881',\n",
              " '9633822',\n",
              " '12866020',\n",
              " '17069458',\n",
              " '23191876',\n",
              " '31443321',\n",
              " '38558371',\n",
              " '50155783',\n",
              " '62979766',\n",
              " '76303387',\n",
              " '91972266',\n",
              " '105710620',\n",
              " '122775046',\n",
              " '131669275',\n",
              " '151325798',\n",
              " '179323175',\n",
              " '203302031',\n",
              " '226542199',\n",
              " '248718301',\n",
              " '281421906',\n",
              " '308745538']"
            ]
          },
          "metadata": {
            "tags": []
          },
          "execution_count": 12
        }
      ]
    },
    {
      "cell_type": "code",
      "metadata": {
        "id": "L8pzWLH6fvu7",
        "outputId": "4051ab6f-5955-4030-adde-df4759f8ebb6",
        "colab": {
          "base_uri": "https://localhost:8080/",
          "height": 425
        }
      },
      "source": [
        "for pop in pop_list:\n",
        "    print(pop)"
      ],
      "execution_count": null,
      "outputs": [
        {
          "output_type": "stream",
          "text": [
            "3929214\n",
            "5308483\n",
            "7239881\n",
            "9633822\n",
            "12866020\n",
            "17069458\n",
            "23191876\n",
            "31443321\n",
            "38558371\n",
            "50155783\n",
            "62979766\n",
            "76303387\n",
            "91972266\n",
            "105710620\n",
            "122775046\n",
            "131669275\n",
            "151325798\n",
            "179323175\n",
            "203302031\n",
            "226542199\n",
            "248718301\n",
            "281421906\n",
            "308745538\n"
          ],
          "name": "stdout"
        }
      ]
    },
    {
      "cell_type": "markdown",
      "metadata": {
        "id": "tkeOiwcuf3a_"
      },
      "source": [
        "---\n",
        "**6 - Cost List**\n",
        "- Extract the **\"Census Cost\"** column from the data_list and assign them to a list named **cost_list**. \n",
        "- Remove the \",\", \"\\$\", and \"Billion\".\n",
        "Make sure to add the \"0\"s to the numbers where \"Billion\" is removed.\n",
        "- Print the cleansed cost_list. "
      ]
    },
    {
      "cell_type": "code",
      "metadata": {
        "id": "_8i-F9LTi1Zh"
      },
      "source": [
        "def replace_billion(cost_string):\n",
        "\n",
        "    # Remove blanks\n",
        "    clean_cost = cost_string\n",
        "\n",
        "    # Replace \"Billion\" with appropriate zeros\n",
        "    if \"Billion\" in clean_cost.split():\n",
        "        clean_cost = clean_cost.replace(\"Billion\",\"\")\n",
        "        clean_cost = str(int(float(clean_cost)*1000000000))\n",
        "\n",
        "    return clean_cost"
      ],
      "execution_count": null,
      "outputs": []
    },
    {
      "cell_type": "code",
      "metadata": {
        "id": "0ReR7oCGaa1C",
        "outputId": "567ccb79-a4da-4a54-a8db-4a04ee77caa6",
        "colab": {
          "base_uri": "https://localhost:8080/",
          "height": 425
        }
      },
      "source": [
        "cost_list = []\n",
        "for line in data_list:\n",
        "\n",
        "    # Census Cost is the third field in each line\n",
        "    cost_list.append(line.strip(\"\\n\").split('\\t')[2].replace(\",\",\"\").replace(\"$\",\"\"))\n",
        "    \n",
        "# Replace cost values containing \"Billion\"\n",
        "cost_list = [replace_billion(cost) for cost in cost_list]\n",
        "cost_list"
      ],
      "execution_count": null,
      "outputs": [
        {
          "output_type": "execute_result",
          "data": {
            "text/plain": [
              "['44377',\n",
              " '66109',\n",
              " '178445',\n",
              " '208526',\n",
              " '378545',\n",
              " '833371',\n",
              " '1423351',\n",
              " '1969377',\n",
              " '3421198',\n",
              " '5790678',\n",
              " '11547127',\n",
              " '11854000',\n",
              " '15968000',\n",
              " '25117000',\n",
              " '40156000',\n",
              " '67527000',\n",
              " '91462000',\n",
              " '127934000',\n",
              " '247653000',\n",
              " '1078488000',\n",
              " '2492830000',\n",
              " '4500000000',\n",
              " '13000000000']"
            ]
          },
          "metadata": {
            "tags": []
          },
          "execution_count": 15
        }
      ]
    },
    {
      "cell_type": "code",
      "metadata": {
        "id": "QBRsY33khY07",
        "outputId": "f6b9aa96-7d94-4d69-c0f2-d4847254db10",
        "colab": {
          "base_uri": "https://localhost:8080/",
          "height": 425
        }
      },
      "source": [
        "for cost in cost_list:\n",
        "    print(cost)"
      ],
      "execution_count": null,
      "outputs": [
        {
          "output_type": "stream",
          "text": [
            "44377\n",
            "66109\n",
            "178445\n",
            "208526\n",
            "378545\n",
            "833371\n",
            "1423351\n",
            "1969377\n",
            "3421198\n",
            "5790678\n",
            "11547127\n",
            "11854000\n",
            "15968000\n",
            "25117000\n",
            "40156000\n",
            "67527000\n",
            "91462000\n",
            "127934000\n",
            "247653000\n",
            "1078488000\n",
            "2492830000\n",
            "4500000000\n",
            "13000000000\n"
          ],
          "name": "stdout"
        }
      ]
    },
    {
      "cell_type": "markdown",
      "metadata": {
        "id": "3KYzqmBllI2y"
      },
      "source": [
        "---\n",
        "**7 - Avg List**\n",
        "- Extract the **\"Average Cost per Person\"** column from the data_list and assign them to a list named **avg_list**. \n",
        "- Remove the \"cents\", and \"$\". Make sure to divide the numbers in cents by 100 so that all numbers are measured in dollar. \n",
        "- Print the cleansed avg_list."
      ]
    },
    {
      "cell_type": "code",
      "metadata": {
        "id": "YRV_DpbimGV3"
      },
      "source": [
        "def replace_cents(cost_string):\n",
        "\n",
        "    clean_cost = cost_string\n",
        "\n",
        "    # Replace \"cents\" by removing the word and dividing cost by 100\n",
        "    if \"cents\" in clean_cost.split():\n",
        "        clean_cost = clean_cost.replace(\"cents\",\"\")\n",
        "        clean_cost = str(\"{:.4f}\".format(float(clean_cost)/100))\n",
        "\n",
        "    return clean_cost"
      ],
      "execution_count": null,
      "outputs": []
    },
    {
      "cell_type": "code",
      "metadata": {
        "id": "s3C6l2R0hxMm",
        "outputId": "ae8a3895-ebf7-49e9-bac4-287297ddc9f0",
        "colab": {
          "base_uri": "https://localhost:8080/",
          "height": 425
        }
      },
      "source": [
        "avg_list = []\n",
        "for line in data_list:\n",
        "\n",
        "    # Average Cost Per Person is the fourth field in each line\n",
        "    avg_list.append(line.strip(\"\\n\").split('\\t')[3].replace(\"$\",\"\"))\n",
        "    \n",
        "# Replace cost values containing \"Billion\"\n",
        "avg_list = [replace_cents(cost) for cost in avg_list]\n",
        "avg_list"
      ],
      "execution_count": null,
      "outputs": [
        {
          "output_type": "execute_result",
          "data": {
            "text/plain": [
              "['0.0113',\n",
              " '0.0124',\n",
              " '0.0246',\n",
              " '0.0216',\n",
              " '0.0294',\n",
              " '0.0488',\n",
              " '0.0614',\n",
              " '0.0626',\n",
              " '0.0887',\n",
              " '0.1154',\n",
              " '0.1833',\n",
              " '0.1554',\n",
              " '0.1707',\n",
              " '0.2376',\n",
              " '0.3271',\n",
              " '0.5129',\n",
              " '0.6044',\n",
              " '0.7134',\n",
              " '1.22',\n",
              " '4.76',\n",
              " '10.02',\n",
              " '15.99',\n",
              " '42.11']"
            ]
          },
          "metadata": {
            "tags": []
          },
          "execution_count": 18
        }
      ]
    },
    {
      "cell_type": "code",
      "metadata": {
        "id": "DL76gQAcm2Qo",
        "outputId": "718dd972-aa67-45b0-a7d5-070f03452777",
        "colab": {
          "base_uri": "https://localhost:8080/",
          "height": 425
        }
      },
      "source": [
        "for avg_cost in avg_list:\n",
        "    print(avg_cost)"
      ],
      "execution_count": null,
      "outputs": [
        {
          "output_type": "stream",
          "text": [
            "0.0113\n",
            "0.0124\n",
            "0.0246\n",
            "0.0216\n",
            "0.0294\n",
            "0.0488\n",
            "0.0614\n",
            "0.0626\n",
            "0.0887\n",
            "0.1154\n",
            "0.1833\n",
            "0.1554\n",
            "0.1707\n",
            "0.2376\n",
            "0.3271\n",
            "0.5129\n",
            "0.6044\n",
            "0.7134\n",
            "1.22\n",
            "4.76\n",
            "10.02\n",
            "15.99\n",
            "42.11\n"
          ],
          "name": "stdout"
        }
      ]
    },
    {
      "cell_type": "markdown",
      "metadata": {
        "id": "h6y_dYwJq272"
      },
      "source": [
        "---\n",
        "**8 - CSV File**\n",
        "- Coalesce the cleansed data and save them to a text file named **census_cost.csv**.\n",
        "- The new file should look similar to the original source file except that it is in comma-delimited format and the numbers have been cleansed. \n",
        "- The top two lines from the original file should be retained in the new file."
      ]
    },
    {
      "cell_type": "code",
      "metadata": {
        "id": "MTgYNaROqrv1"
      },
      "source": [
        "# Write the cleansed data to a CSV file\n",
        "COMMA = ','\n",
        "with open(\"census_cost.csv\", \"w\") as csv_file:\n",
        "\n",
        "    # Print top 2 lines\n",
        "    for line in top2_list:\n",
        "\n",
        "        # Replace tabs with commas\n",
        "        csv_file.write(line.replace('\\t',COMMA))\n",
        "\n",
        "    # Print each line of the cleansed data list in CSV format\n",
        "    for i in range(0,len(data_list)):\n",
        "        csv_line = year_list[i] + COMMA + pop_list[i] + COMMA + cost_list[i] + COMMA + avg_list[i] + '\\n'\n",
        "        csv_file.write(csv_line)"
      ],
      "execution_count": null,
      "outputs": []
    },
    {
      "cell_type": "markdown",
      "metadata": {
        "id": "zbwFZy2GwDbe"
      },
      "source": [
        "# COMPLETE"
      ]
    }
  ]
}