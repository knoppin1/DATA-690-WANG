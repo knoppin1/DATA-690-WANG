{
  "nbformat": 4,
  "nbformat_minor": 0,
  "metadata": {
    "kernelspec": {
      "display_name": "Python 3",
      "language": "python",
      "name": "python3"
    },
    "language_info": {
      "codemirror_mode": {
        "name": "ipython",
        "version": 3
      },
      "file_extension": ".py",
      "mimetype": "text/x-python",
      "name": "python",
      "nbconvert_exporter": "python",
      "pygments_lexer": "ipython3",
      "version": "3.7.4"
    },
    "colab": {
      "name": "Assignment-08",
      "provenance": [],
      "collapsed_sections": [],
      "include_colab_link": true
    }
  },
  "cells": [
    {
      "cell_type": "markdown",
      "metadata": {
        "id": "view-in-github",
        "colab_type": "text"
      },
      "source": [
        "<a href=\"https://colab.research.google.com/github/knoppin1/DATA-690-WANG/blob/master/Assignment_08/Assignment_08.ipynb\" target=\"_parent\"><img src=\"https://colab.research.google.com/assets/colab-badge.svg\" alt=\"Open In Colab\"/></a>"
      ]
    },
    {
      "cell_type": "markdown",
      "metadata": {
        "id": "-2fQAV7J6oI1"
      },
      "source": [
        "### Assignment 8\n",
        "For this assignment , we will use the college scorecard dataset. \n",
        "<pre>\n",
        "From the 22 individual school year data files, randomly (using Python) select one file. \n",
        "Only read the column \"TUITIONFEE_IN\" frm this file into a data frame.\n",
        "Find out how many observations this data frame has.\n",
        "Find out how many observations that have missing value. Drop those observations.\n",
        "Find out how many observations that have value of zero. Drop those observations.\n",
        "Calculate the mean of the tuition.\n",
        "Randomly select one observation, find out the tuition of that observation.\n",
        "Calculate the different between the tuition of this observation and the average tuition (mean) off all observations above.\n",
        "Randomly select another observation and repeat the above.\n",
        "Randomly select another observation and repeat the above.\n",
        "Randomly select 5 observations, display the tuition of these observation.\n",
        "Calculate the average of these 5 observations\n",
        "Calculate the different between the average tuition of thes 5 observations and the average tuition (mean) off all observations above.\n",
        "Randomly select another 5 observations and repeat the above.\n",
        "Randomly select another 5 observation and repeat the above.\n",
        "\n",
        "Randomly select 10 observations, display the tuition of these observation.\n",
        "Calculate the average of these 10 observations\n",
        "Calculate the different between the average tuition of thes 10 observations and the average tuition (mean) off all observations above.\n",
        "Randomly select another 10 observations and repeat the above.\n",
        "Randomly select another 10 observation and repeat the above.\n",
        "\n",
        "\n",
        "Randomly select 20 observations, display the tuition of these observation.\n",
        "Calculate the average of these 20 observations\n",
        "Calculate the different between the average tuition of thes 10 observations and the average tuition (mean) off all observations above.\n",
        "Randomly select another 20 observations and repeat the above.\n",
        "Randomly select another 20 observation and repeat the above.\n",
        "\n",
        "Randomly select 30 observations, display the tuition of these observation.\n",
        "Calculate the average of these 30 observations\n",
        "Calculate the different between the average tuition of thes 10 observations and the average tuition (mean) off all observations above.\n",
        "Randomly select another 30 observations and repeat the above.\n",
        "Randomly select another 30 observation and repeat the above.\n",
        "\n",
        "Write a function that take an input x (number of observations). \n",
        "The function will perform the following:\n",
        "\n",
        "Randomly select x observations, display the tuition of these observations.\n",
        "Calculate the average of these x observations\n",
        "Calculate the different between the average tuition of these x observations and the average tuition (mean) off all observations above.\n",
        "Display the difference.\n",
        "<pre>\n"
      ]
    },
    {
      "cell_type": "code",
      "metadata": {
        "id": "HpZckaJR6oI8"
      },
      "source": [
        "# 1 - Import necessary libraries\n"
      ],
      "execution_count": null,
      "outputs": []
    },
    {
      "cell_type": "code",
      "metadata": {
        "id": "6qafjqpb6oJC"
      },
      "source": [
        "# 2 - Retrieve the names of the 22 files and assign them to a List variable\n",
        "# You would need to filter out other files\n",
        "# Display the names of these 22 files\n",
        "\n"
      ],
      "execution_count": null,
      "outputs": []
    },
    {
      "cell_type": "code",
      "metadata": {
        "id": "ft9Rn1lp6oJG"
      },
      "source": [
        "# 3 - Write code to randomly select one file name out of the 22 files names. \n",
        "# Hint: generate a random integer between 0 and 21 first\n",
        "# Display the file name\n",
        "\n"
      ],
      "execution_count": null,
      "outputs": []
    },
    {
      "cell_type": "code",
      "metadata": {
        "id": "DJy1hmWM6oJN"
      },
      "source": [
        "# 4 - Only read the two columns: college name (INSTNM) and in state tution (\"TUITIONFEE_IN\")\n",
        "# from this file into a data frame aand display use info() function to display a summary information\n"
      ],
      "execution_count": null,
      "outputs": []
    },
    {
      "cell_type": "code",
      "metadata": {
        "id": "wU5Ozu106oJR"
      },
      "source": [
        "# 5 - Find out how many observations have missing value.\n"
      ],
      "execution_count": null,
      "outputs": []
    },
    {
      "cell_type": "code",
      "metadata": {
        "id": "V0MTbBwv6oJW"
      },
      "source": [
        "# 6 - Drop those observations with missing value\n",
        "# Disaply the number of observations afterward\n"
      ],
      "execution_count": null,
      "outputs": []
    },
    {
      "cell_type": "code",
      "metadata": {
        "id": "A-pfpASe6oJb"
      },
      "source": [
        "# 7 - Find out how many observations have 0 tution. \n"
      ],
      "execution_count": null,
      "outputs": []
    },
    {
      "cell_type": "code",
      "metadata": {
        "id": "UUp2iUlM6oJk"
      },
      "source": [
        "# 8 - Drop those observations with 0 tuition\n",
        "# Disaply the number of observations afterward"
      ],
      "execution_count": null,
      "outputs": []
    },
    {
      "cell_type": "code",
      "metadata": {
        "id": "vXjrc9Km6oJq"
      },
      "source": [
        "# 9 - Calculate and display the mean (average) of the tuitions of all the remaining observations \n"
      ],
      "execution_count": null,
      "outputs": []
    },
    {
      "cell_type": "code",
      "metadata": {
        "id": "Yyk1Kx456oJv"
      },
      "source": [
        "# 10 - Randomly select just 1 observation from the data frame.\n",
        "# Display the tuition of that observation. \n"
      ],
      "execution_count": null,
      "outputs": []
    },
    {
      "cell_type": "code",
      "metadata": {
        "id": "2Jio5eDc6oJ0"
      },
      "source": [
        "# 11 - Calculate the different between the tuition of this observation and \n",
        "# the mean tuition off all observations calculated earlier.\n",
        "# Display the difference\n"
      ],
      "execution_count": null,
      "outputs": []
    },
    {
      "cell_type": "code",
      "metadata": {
        "id": "E7RIjD8E6oJ5"
      },
      "source": [
        "# 12 - Repeat 10 to 11 several times get the feel of the size of the difference in means"
      ],
      "execution_count": null,
      "outputs": []
    },
    {
      "cell_type": "code",
      "metadata": {
        "id": "X7P4DGbi6oJ-"
      },
      "source": [
        "# 13 - Randomly select 20 observations, display the tuition of these observation. \n"
      ],
      "execution_count": null,
      "outputs": []
    },
    {
      "cell_type": "code",
      "metadata": {
        "id": "2kvz1whj6oKA"
      },
      "source": [
        "# 14 - Calculate and displat the mean tuition of these 20 observations\n"
      ],
      "execution_count": null,
      "outputs": []
    },
    {
      "cell_type": "code",
      "metadata": {
        "id": "7qZe_Xn-6oKE"
      },
      "source": [
        "# 15 - Calculate  the different between the average tuition of these 20 observations \n",
        "# and the mean tuition off all observations calculated earlier.\n",
        "# Display the difference\n"
      ],
      "execution_count": null,
      "outputs": []
    },
    {
      "cell_type": "code",
      "metadata": {
        "id": "V7xgI6GU6oKH"
      },
      "source": [
        "# 16 - Repeat 13 to 15 several times and get the feel of the size of the difference in means \n",
        "# Compare these differences with the differences calculated earlier with just 1 observation\n",
        "# Describe your hunch/conclusion"
      ],
      "execution_count": null,
      "outputs": []
    },
    {
      "cell_type": "markdown",
      "metadata": {
        "id": "0i4lLySc6oKK"
      },
      "source": [
        "Write a function that take two input parameters:\n",
        "- x (number of observations) \n",
        "- y (the name of the dataframe). \n",
        "\n",
        "The function will perform the following: \n",
        "- Randomly select x observations from y\n",
        "- Calculate the mean of these x observations \n",
        "- Calculate the mean of all observations\n",
        "- Calculate the difference between the two means \n",
        "- Return the difference"
      ]
    },
    {
      "cell_type": "code",
      "metadata": {
        "id": "ZblkuSq46oKL"
      },
      "source": [
        "# 17 - write function Code here\n"
      ],
      "execution_count": null,
      "outputs": []
    },
    {
      "cell_type": "code",
      "metadata": {
        "id": "rCtsaGCy6oKN"
      },
      "source": [
        "# 18 - test the function by passing a sample size and the name of the dataframe\n",
        "# Dsplay the return of the function\n"
      ],
      "execution_count": null,
      "outputs": []
    },
    {
      "cell_type": "code",
      "metadata": {
        "id": "0I58wyGH6oKP"
      },
      "source": [
        "# 19 - Create a list of sequence numbers from 1 to 50, name it \"sample_sizes\";\n",
        "# display it to make sure its members are from 1 to 50\n"
      ],
      "execution_count": null,
      "outputs": []
    },
    {
      "cell_type": "code",
      "metadata": {
        "id": "sBWwbejh6oKR"
      },
      "source": [
        "# 20 - Create an empty list and name it \"means_diff\" for differences of population mean and sample means;\n",
        "# Loop through the list sample_sizes:\n",
        "# For each element in the sample size list, obtain a random sample of that size from the data frame;\n",
        "# Calculate the sample mean \n",
        "# Calculate the difference between the population mean and the sample mean\n",
        "# Append the difference to the list \"means_diff\"\n",
        "# Display the list \"means_diff\" after the loop is completed\n",
        "\n"
      ],
      "execution_count": null,
      "outputs": []
    },
    {
      "cell_type": "code",
      "metadata": {
        "id": "CZxUYK6b6oKU"
      },
      "source": [
        "# 21 - Make a scatter plot with sample size on the x-axs and  mean difference on the y-axis\n",
        "# Observe as the sample size increases, the sample means converge to the population mean.\n",
        "# Make sure you make the plot large enough \n"
      ],
      "execution_count": null,
      "outputs": []
    },
    {
      "cell_type": "code",
      "metadata": {
        "id": "tD8z_VyB6oKW"
      },
      "source": [
        "# 22 - repeat 18 to 21 by replacing 50 with a larger number. For example, 300, or even 1000.\n",
        "# and see how the plot looks."
      ],
      "execution_count": null,
      "outputs": []
    },
    {
      "cell_type": "code",
      "metadata": {
        "id": "MjqbewGC6oKZ"
      },
      "source": [
        "# The end - Give yourself a pat on the back!"
      ],
      "execution_count": null,
      "outputs": []
    }
  ]
}