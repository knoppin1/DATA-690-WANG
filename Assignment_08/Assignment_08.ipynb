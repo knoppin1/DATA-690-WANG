{
  "nbformat": 4,
  "nbformat_minor": 0,
  "metadata": {
    "kernelspec": {
      "display_name": "Python 3",
      "language": "python",
      "name": "python3"
    },
    "language_info": {
      "codemirror_mode": {
        "name": "ipython",
        "version": 3
      },
      "file_extension": ".py",
      "mimetype": "text/x-python",
      "name": "python",
      "nbconvert_exporter": "python",
      "pygments_lexer": "ipython3",
      "version": "3.7.4"
    },
    "colab": {
      "name": "Assignment-08",
      "provenance": [],
      "collapsed_sections": [],
      "toc_visible": true,
      "include_colab_link": true
    }
  },
  "cells": [
    {
      "cell_type": "markdown",
      "metadata": {
        "id": "view-in-github",
        "colab_type": "text"
      },
      "source": [
        "<a href=\"https://colab.research.google.com/github/knoppin1/DATA-690-WANG/blob/master/Assignment_08/Assignment_08.ipynb\" target=\"_parent\"><img src=\"https://colab.research.google.com/assets/colab-badge.svg\" alt=\"Open In Colab\"/></a>"
      ]
    },
    {
      "cell_type": "markdown",
      "metadata": {
        "id": "-2fQAV7J6oI1"
      },
      "source": [
        "# Assignment 8\n",
        "\n",
        "## Ken Noppinger (knoppin1@umbc.edu)\n",
        "\n",
        "Instructions\n",
        "\n",
        "For this assignment , we will use the college scorecard dataset. \n",
        "<pre>\n",
        "From the 22 individual school year data files, randomly (using Python) select one file. \n",
        "Only read the column \"TUITIONFEE_IN\" frm this file into a data frame.\n",
        "Find out how many observations this data frame has.\n",
        "Find out how many observations that have missing value. Drop those observations.\n",
        "Find out how many observations that have value of zero. Drop those observations.\n",
        "Calculate the mean of the tuition.\n",
        "Randomly select one observation, find out the tuition of that observation.\n",
        "Calculate the different between the tuition of this observation and the average tuition (mean) off all observations above.\n",
        "Randomly select another observation and repeat the above.\n",
        "Randomly select another observation and repeat the above.\n",
        "Randomly select 5 observations, display the tuition of these observation.\n",
        "Calculate the average of these 5 observations\n",
        "Calculate the different between the average tuition of thes 5 observations and the average tuition (mean) off all observations above.\n",
        "Randomly select another 5 observations and repeat the above.\n",
        "Randomly select another 5 observation and repeat the above.\n",
        "\n",
        "Randomly select 10 observations, display the tuition of these observation.\n",
        "Calculate the average of these 10 observations\n",
        "Calculate the different between the average tuition of thes 10 observations and the average tuition (mean) off all observations above.\n",
        "Randomly select another 10 observations and repeat the above.\n",
        "Randomly select another 10 observation and repeat the above.\n",
        "\n",
        "\n",
        "Randomly select 20 observations, display the tuition of these observation.\n",
        "Calculate the average of these 20 observations\n",
        "Calculate the different between the average tuition of thes 10 observations and the average tuition (mean) off all observations above.\n",
        "Randomly select another 20 observations and repeat the above.\n",
        "Randomly select another 20 observation and repeat the above.\n",
        "\n",
        "Randomly select 30 observations, display the tuition of these observation.\n",
        "Calculate the average of these 30 observations\n",
        "Calculate the different between the average tuition of thes 10 observations and the average tuition (mean) off all observations above.\n",
        "Randomly select another 30 observations and repeat the above.\n",
        "Randomly select another 30 observation and repeat the above.\n",
        "\n",
        "Write a function that take an input x (number of observations). \n",
        "The function will perform the following:\n",
        "\n",
        "Randomly select x observations, display the tuition of these observations.\n",
        "Calculate the average of these x observations\n",
        "Calculate the different between the average tuition of these x observations and the average tuition (mean) off all observations above.\n",
        "Display the difference.\n",
        "<pre>\n"
      ]
    },
    {
      "cell_type": "markdown",
      "metadata": {
        "id": "CrIJm_rEzmbi"
      },
      "source": [
        "# 1 - Import necessary libraries"
      ]
    },
    {
      "cell_type": "code",
      "metadata": {
        "id": "HpZckaJR6oI8"
      },
      "source": [
        "import os\n",
        "from random import *\n",
        "import pandas as pd\n",
        "import matplotlib.pyplot as plt\n",
        "\n",
        "# Libraries below are used in retrieving the zip file\n",
        "from io import BytesIO\n",
        "from urllib.request import urlopen\n",
        "from zipfile import ZipFile"
      ],
      "execution_count": 1,
      "outputs": []
    },
    {
      "cell_type": "markdown",
      "metadata": {
        "id": "UNbzGbHOzdaj"
      },
      "source": [
        "# 2 - Retrieve List of 22 files with Yearly College Data\n",
        "- Get zip file with College Data\n",
        "- Unzip the file\n",
        "- Filter out other files\n",
        "- Display the names of these 22 files"
      ]
    },
    {
      "cell_type": "markdown",
      "metadata": {
        "id": "7ihx9x7AzZYO"
      },
      "source": [
        "### Programmatic unzip \n",
        "- Retrieve the zip file from it's URL instead of download, manual unzip, and upload.\n",
        "- Unzip the \"CollegeScorecard_Raw_data.zip\" file.\n",
        "- Reference: https://svaderia.github.io/articles/downloading-and-unzipping-a-zipfile/\n",
        "ZIP_URL = 'https://ed-public-download.app.cloud.gov/downloads/CollegeScorecard_Raw_Data.zip'"
      ]
    },
    {
      "cell_type": "code",
      "metadata": {
        "id": "6qafjqpb6oJC"
      },
      "source": [
        "ZIP_URL = 'https://ed-public-download.app.cloud.gov/downloads/CollegeScorecard_Raw_Data.zip'\n",
        "with urlopen(ZIP_URL) as zip_response:\n",
        "    with ZipFile(BytesIO(zip_response.read())) as zip_file:\n",
        "        zip_file.extractall()"
      ],
      "execution_count": 2,
      "outputs": []
    },
    {
      "cell_type": "markdown",
      "metadata": {
        "id": "hm2m1ssfz-2i"
      },
      "source": [
        "### Directory Listing"
      ]
    },
    {
      "cell_type": "code",
      "metadata": {
        "id": "AIV29ZDj0E5R",
        "outputId": "a38d78eb-1a40-4cc6-96f6-0fc9a44ac6fd",
        "colab": {
          "base_uri": "https://localhost:8080/"
        }
      },
      "source": [
        "contents = os.listdir()\n",
        "WORKING_DIRECTORY = os.getcwd()\n",
        "UNZIPPED_DIRECTORY = \"CollegeScorecard_Raw_Data\"\n",
        "if UNZIPPED_DIRECTORY in contents:\n",
        "    directory_path = WORKING_DIRECTORY + '/' + UNZIPPED_DIRECTORY\n",
        "    unzipped_contents = os.listdir(path=directory_path)\n",
        "unzipped_contents"
      ],
      "execution_count": 3,
      "outputs": [
        {
          "output_type": "execute_result",
          "data": {
            "text/plain": [
              "['MERGED2015_16_PP.csv',\n",
              " 'MERGED2016_17_PP.csv',\n",
              " 'MERGED2001_02_PP.csv',\n",
              " 'MERGED2007_08_PP.csv',\n",
              " 'MERGED2012_13_PP.csv',\n",
              " 'data.yaml',\n",
              " 'MERGED2006_07_PP.csv',\n",
              " 'MERGED2011_12_PP.csv',\n",
              " 'Crosswalks.zip',\n",
              " 'MERGED2000_01_PP.csv',\n",
              " 'MERGED2005_06_PP.csv',\n",
              " 'MERGED2004_05_PP.csv',\n",
              " 'FieldOfStudyData1516_1617_PP.csv',\n",
              " 'MERGED2002_03_PP.csv',\n",
              " 'MERGED2008_09_PP.csv',\n",
              " 'FieldOfStudyData1415_1516_PP.csv',\n",
              " 'MERGED2014_15_PP.csv',\n",
              " 'MERGED2003_04_PP.csv',\n",
              " 'MERGED1997_98_PP.csv',\n",
              " 'MERGED2017_18_PP.csv',\n",
              " '.DS_Store',\n",
              " 'MERGED1998_99_PP.csv',\n",
              " 'MERGED1996_97_PP.csv',\n",
              " 'MERGED2013_14_PP.csv',\n",
              " 'MERGED2010_11_PP.csv',\n",
              " 'MERGED1999_00_PP.csv',\n",
              " 'MERGED2009_10_PP.csv',\n",
              " 'MERGED2018_19_PP.csv']"
            ]
          },
          "metadata": {
            "tags": []
          },
          "execution_count": 3
        }
      ]
    },
    {
      "cell_type": "markdown",
      "metadata": {
        "id": "7-Bv0s561Xnv"
      },
      "source": [
        "### Filter \n",
        "- Filter out non-yearly data files \n",
        "- Display the 22 yearly data file names"
      ]
    },
    {
      "cell_type": "code",
      "metadata": {
        "id": "pkuCDiZ91zfG",
        "outputId": "41944d0b-c2e4-4865-c76e-97feb544c73f",
        "colab": {
          "base_uri": "https://localhost:8080/"
        }
      },
      "source": [
        "MERGED_SUBSTRING = \"MERGED\"\n",
        "yearly_data_files = [file_name for file_name in unzipped_contents if MERGED_SUBSTRING in file_name]\n",
        "yearly_data_files"
      ],
      "execution_count": 4,
      "outputs": [
        {
          "output_type": "execute_result",
          "data": {
            "text/plain": [
              "['MERGED2015_16_PP.csv',\n",
              " 'MERGED2016_17_PP.csv',\n",
              " 'MERGED2001_02_PP.csv',\n",
              " 'MERGED2007_08_PP.csv',\n",
              " 'MERGED2012_13_PP.csv',\n",
              " 'MERGED2006_07_PP.csv',\n",
              " 'MERGED2011_12_PP.csv',\n",
              " 'MERGED2000_01_PP.csv',\n",
              " 'MERGED2005_06_PP.csv',\n",
              " 'MERGED2004_05_PP.csv',\n",
              " 'MERGED2002_03_PP.csv',\n",
              " 'MERGED2008_09_PP.csv',\n",
              " 'MERGED2014_15_PP.csv',\n",
              " 'MERGED2003_04_PP.csv',\n",
              " 'MERGED1997_98_PP.csv',\n",
              " 'MERGED2017_18_PP.csv',\n",
              " 'MERGED1998_99_PP.csv',\n",
              " 'MERGED1996_97_PP.csv',\n",
              " 'MERGED2013_14_PP.csv',\n",
              " 'MERGED2010_11_PP.csv',\n",
              " 'MERGED1999_00_PP.csv',\n",
              " 'MERGED2009_10_PP.csv',\n",
              " 'MERGED2018_19_PP.csv']"
            ]
          },
          "metadata": {
            "tags": []
          },
          "execution_count": 4
        }
      ]
    },
    {
      "cell_type": "markdown",
      "metadata": {
        "id": "BVizS18c2rTt"
      },
      "source": [
        "# 3 - Randomly select one yearly data file"
      ]
    },
    {
      "cell_type": "code",
      "metadata": {
        "id": "ft9Rn1lp6oJG",
        "outputId": "76328bbc-ce17-4ed3-cb47-148abfeca2be",
        "colab": {
          "base_uri": "https://localhost:8080/"
        }
      },
      "source": [
        "# Random index\n",
        "index = randint(0, len(yearly_data_files))\n",
        "index"
      ],
      "execution_count": 5,
      "outputs": [
        {
          "output_type": "execute_result",
          "data": {
            "text/plain": [
              "23"
            ]
          },
          "metadata": {
            "tags": []
          },
          "execution_count": 5
        }
      ]
    },
    {
      "cell_type": "code",
      "metadata": {
        "id": "6hK94pdI3v3f",
        "outputId": "8426a219-a659-4582-afb9-4551917c23c9",
        "colab": {
          "base_uri": "https://localhost:8080/",
          "height": 34
        }
      },
      "source": [
        "# Display the file name\n",
        "yearly_data_file = yearly_data_files[21]\n",
        "yearly_data_file"
      ],
      "execution_count": 6,
      "outputs": [
        {
          "output_type": "execute_result",
          "data": {
            "application/vnd.google.colaboratory.intrinsic+json": {
              "type": "string"
            },
            "text/plain": [
              "'MERGED2009_10_PP.csv'"
            ]
          },
          "metadata": {
            "tags": []
          },
          "execution_count": 6
        }
      ]
    },
    {
      "cell_type": "markdown",
      "metadata": {
        "id": "G7FdFo-Q4-Cv"
      },
      "source": [
        "# 4 - Read Yearly Data File\n",
        "\n",
        "Only read two columns from file\n",
        "- college name (INSTNM) \n",
        "- in state tuition (\"TUITIONFEE_IN\")"
      ]
    },
    {
      "cell_type": "code",
      "metadata": {
        "id": "ZlZqsMMo50Rs",
        "outputId": "dfed7b89-e9df-4038-cb26-82ec5fe13e46",
        "colab": {
          "base_uri": "https://localhost:8080/"
        }
      },
      "source": [
        "# Set columns\n",
        "columns_of_interest = [\"INSTNM\", \"TUITIONFEE_IN\"]\n",
        "\n",
        "# Set file path\n",
        "file = directory_path + '/' + yearly_data_file\n",
        "\n",
        "# Read CSV into dataframe\n",
        "df = pd.read_csv(file, header = 0, usecols = columns_of_interest) \n",
        "df.shape"
      ],
      "execution_count": 7,
      "outputs": [
        {
          "output_type": "execute_result",
          "data": {
            "text/plain": [
              "(7217, 2)"
            ]
          },
          "metadata": {
            "tags": []
          },
          "execution_count": 7
        }
      ]
    },
    {
      "cell_type": "code",
      "metadata": {
        "id": "4VBVvlGT-3r3",
        "outputId": "8139a175-afda-42a6-f756-407d8514a296",
        "colab": {
          "base_uri": "https://localhost:8080/",
          "height": 202
        }
      },
      "source": [
        "# Show some rows\n",
        "df.head()"
      ],
      "execution_count": 8,
      "outputs": [
        {
          "output_type": "execute_result",
          "data": {
            "text/html": [
              "<div>\n",
              "<style scoped>\n",
              "    .dataframe tbody tr th:only-of-type {\n",
              "        vertical-align: middle;\n",
              "    }\n",
              "\n",
              "    .dataframe tbody tr th {\n",
              "        vertical-align: top;\n",
              "    }\n",
              "\n",
              "    .dataframe thead th {\n",
              "        text-align: right;\n",
              "    }\n",
              "</style>\n",
              "<table border=\"1\" class=\"dataframe\">\n",
              "  <thead>\n",
              "    <tr style=\"text-align: right;\">\n",
              "      <th></th>\n",
              "      <th>INSTNM</th>\n",
              "      <th>TUITIONFEE_IN</th>\n",
              "    </tr>\n",
              "  </thead>\n",
              "  <tbody>\n",
              "    <tr>\n",
              "      <th>0</th>\n",
              "      <td>Community College of the Air Force</td>\n",
              "      <td>NaN</td>\n",
              "    </tr>\n",
              "    <tr>\n",
              "      <th>1</th>\n",
              "      <td>Alabama A &amp; M University</td>\n",
              "      <td>4692.0</td>\n",
              "    </tr>\n",
              "    <tr>\n",
              "      <th>2</th>\n",
              "      <td>University of Alabama at Birmingham</td>\n",
              "      <td>5096.0</td>\n",
              "    </tr>\n",
              "    <tr>\n",
              "      <th>3</th>\n",
              "      <td>Amridge University</td>\n",
              "      <td>8000.0</td>\n",
              "    </tr>\n",
              "    <tr>\n",
              "      <th>4</th>\n",
              "      <td>University of Alabama in Huntsville</td>\n",
              "      <td>6510.0</td>\n",
              "    </tr>\n",
              "  </tbody>\n",
              "</table>\n",
              "</div>"
            ],
            "text/plain": [
              "                                INSTNM  TUITIONFEE_IN\n",
              "0   Community College of the Air Force            NaN\n",
              "1             Alabama A & M University         4692.0\n",
              "2  University of Alabama at Birmingham         5096.0\n",
              "3                   Amridge University         8000.0\n",
              "4  University of Alabama in Huntsville         6510.0"
            ]
          },
          "metadata": {
            "tags": []
          },
          "execution_count": 8
        }
      ]
    },
    {
      "cell_type": "code",
      "metadata": {
        "id": "XUfdMZBS7Bv3",
        "outputId": "1f386268-f431-433f-8f1b-0bbcee1b65af",
        "colab": {
          "base_uri": "https://localhost:8080/"
        }
      },
      "source": [
        "# Display summary information\n",
        "df.info()"
      ],
      "execution_count": 9,
      "outputs": [
        {
          "output_type": "stream",
          "text": [
            "<class 'pandas.core.frame.DataFrame'>\n",
            "RangeIndex: 7217 entries, 0 to 7216\n",
            "Data columns (total 2 columns):\n",
            " #   Column         Non-Null Count  Dtype  \n",
            "---  ------         --------------  -----  \n",
            " 0   INSTNM         7217 non-null   object \n",
            " 1   TUITIONFEE_IN  4289 non-null   float64\n",
            "dtypes: float64(1), object(1)\n",
            "memory usage: 112.9+ KB\n"
          ],
          "name": "stdout"
        }
      ]
    },
    {
      "cell_type": "markdown",
      "metadata": {
        "id": "9sMkS9d_7mVR"
      },
      "source": [
        "# 5 - Find Observations with Missing Values"
      ]
    },
    {
      "cell_type": "code",
      "metadata": {
        "id": "wU5Ozu106oJR",
        "outputId": "963d7d9b-16ea-4b16-d44b-e6f7e8f1cc1c",
        "colab": {
          "base_uri": "https://localhost:8080/"
        }
      },
      "source": [
        "# Find out how many observations have missing value.\n",
        "df.isnull().sum()"
      ],
      "execution_count": 10,
      "outputs": [
        {
          "output_type": "execute_result",
          "data": {
            "text/plain": [
              "INSTNM              0\n",
              "TUITIONFEE_IN    2928\n",
              "dtype: int64"
            ]
          },
          "metadata": {
            "tags": []
          },
          "execution_count": 10
        }
      ]
    },
    {
      "cell_type": "markdown",
      "metadata": {
        "id": "DERrFnVr8xqt"
      },
      "source": [
        "# 6 - Drop Observations with Missing Values"
      ]
    },
    {
      "cell_type": "code",
      "metadata": {
        "id": "V0MTbBwv6oJW",
        "outputId": "29b4deba-fd47-4212-80a6-8a5064166e18",
        "colab": {
          "base_uri": "https://localhost:8080/"
        }
      },
      "source": [
        "# Drop those observations with missing value\n",
        "df = df.dropna()\n",
        "\n",
        "# Display the number of observations afterward\n",
        "df.isnull().sum()"
      ],
      "execution_count": 11,
      "outputs": [
        {
          "output_type": "execute_result",
          "data": {
            "text/plain": [
              "INSTNM           0\n",
              "TUITIONFEE_IN    0\n",
              "dtype: int64"
            ]
          },
          "metadata": {
            "tags": []
          },
          "execution_count": 11
        }
      ]
    },
    {
      "cell_type": "markdown",
      "metadata": {
        "id": "EgO7qLG498q6"
      },
      "source": [
        "# 7 - Find Observations with No Tuition. "
      ]
    },
    {
      "cell_type": "code",
      "metadata": {
        "id": "8mZVlqrg-I5n",
        "outputId": "41581ba3-5269-441e-f3c8-0edf5be22385",
        "colab": {
          "base_uri": "https://localhost:8080/",
          "height": 202
        }
      },
      "source": [
        "# Show observations with no tuition\n",
        "df.query('TUITIONFEE_IN == 0.0')"
      ],
      "execution_count": 12,
      "outputs": [
        {
          "output_type": "execute_result",
          "data": {
            "text/html": [
              "<div>\n",
              "<style scoped>\n",
              "    .dataframe tbody tr th:only-of-type {\n",
              "        vertical-align: middle;\n",
              "    }\n",
              "\n",
              "    .dataframe tbody tr th {\n",
              "        vertical-align: top;\n",
              "    }\n",
              "\n",
              "    .dataframe thead th {\n",
              "        text-align: right;\n",
              "    }\n",
              "</style>\n",
              "<table border=\"1\" class=\"dataframe\">\n",
              "  <thead>\n",
              "    <tr style=\"text-align: right;\">\n",
              "      <th></th>\n",
              "      <th>INSTNM</th>\n",
              "      <th>TUITIONFEE_IN</th>\n",
              "    </tr>\n",
              "  </thead>\n",
              "  <tbody>\n",
              "    <tr>\n",
              "      <th>664</th>\n",
              "      <td>United States Air Force Academy</td>\n",
              "      <td>0.0</td>\n",
              "    </tr>\n",
              "    <tr>\n",
              "      <th>1770</th>\n",
              "      <td>United States Naval Academy</td>\n",
              "      <td>0.0</td>\n",
              "    </tr>\n",
              "    <tr>\n",
              "      <th>2851</th>\n",
              "      <td>United States Merchant Marine Academy</td>\n",
              "      <td>0.0</td>\n",
              "    </tr>\n",
              "    <tr>\n",
              "      <th>2852</th>\n",
              "      <td>United States Military Academy</td>\n",
              "      <td>0.0</td>\n",
              "    </tr>\n",
              "    <tr>\n",
              "      <th>2859</th>\n",
              "      <td>Webb Institute</td>\n",
              "      <td>0.0</td>\n",
              "    </tr>\n",
              "  </tbody>\n",
              "</table>\n",
              "</div>"
            ],
            "text/plain": [
              "                                     INSTNM  TUITIONFEE_IN\n",
              "664         United States Air Force Academy            0.0\n",
              "1770            United States Naval Academy            0.0\n",
              "2851  United States Merchant Marine Academy            0.0\n",
              "2852         United States Military Academy            0.0\n",
              "2859                         Webb Institute            0.0"
            ]
          },
          "metadata": {
            "tags": []
          },
          "execution_count": 12
        }
      ]
    },
    {
      "cell_type": "code",
      "metadata": {
        "id": "xjBc6cR9__a2",
        "outputId": "0784c181-878c-4402-d9f8-24705c0fec3a",
        "colab": {
          "base_uri": "https://localhost:8080/"
        }
      },
      "source": [
        "# Show count\n",
        "df.query('TUITIONFEE_IN == 0.0').shape[0]"
      ],
      "execution_count": 13,
      "outputs": [
        {
          "output_type": "execute_result",
          "data": {
            "text/plain": [
              "5"
            ]
          },
          "metadata": {
            "tags": []
          },
          "execution_count": 13
        }
      ]
    },
    {
      "cell_type": "markdown",
      "metadata": {
        "id": "zeYGdjPUAdnT"
      },
      "source": [
        "# 8 - Drop Observations with No Tuition"
      ]
    },
    {
      "cell_type": "code",
      "metadata": {
        "id": "UUp2iUlM6oJk",
        "outputId": "8e5af25c-cd25-4850-a7bd-cda0d90427a8",
        "colab": {
          "base_uri": "https://localhost:8080/"
        }
      },
      "source": [
        "# Drop observations with no tuition\n",
        "df = df[df.TUITIONFEE_IN != 0.0]\n",
        "\n",
        "# Display the number of observations afterward\n",
        "df.query('TUITIONFEE_IN == 0.0').shape[0]"
      ],
      "execution_count": 14,
      "outputs": [
        {
          "output_type": "execute_result",
          "data": {
            "text/plain": [
              "0"
            ]
          },
          "metadata": {
            "tags": []
          },
          "execution_count": 14
        }
      ]
    },
    {
      "cell_type": "markdown",
      "metadata": {
        "id": "UeaZ5WwzBfFi"
      },
      "source": [
        "# 9 - Calculate and Display Mean Tuition"
      ]
    },
    {
      "cell_type": "code",
      "metadata": {
        "id": "d-8kEZhxIgkY",
        "outputId": "bf712f33-5fa1-4208-b850-712a51ebb4ac",
        "colab": {
          "base_uri": "https://localhost:8080/",
          "height": 34
        }
      },
      "source": [
        "# Create function for displaying numbers as currency\n",
        "def num_to_currency(num):\n",
        "    return '${:0,.2f}'.format(num).replace('$-','-$')\n",
        "\n",
        "# Test it\n",
        "num_to_currency(555.54)    "
      ],
      "execution_count": 15,
      "outputs": [
        {
          "output_type": "execute_result",
          "data": {
            "application/vnd.google.colaboratory.intrinsic+json": {
              "type": "string"
            },
            "text/plain": [
              "'$555.54'"
            ]
          },
          "metadata": {
            "tags": []
          },
          "execution_count": 15
        }
      ]
    },
    {
      "cell_type": "code",
      "metadata": {
        "id": "vXjrc9Km6oJq",
        "outputId": "00c80460-214d-4945-eca7-c83a390a7027",
        "colab": {
          "base_uri": "https://localhost:8080/",
          "height": 34
        }
      },
      "source": [
        "# Mean (average) of the tuitions of all the remaining observations \n",
        "mean_tuition = round(df.TUITIONFEE_IN.mean(),2)\n",
        "\n",
        "# Display Mean Tuition\n",
        "num_to_currency(mean_tuition)"
      ],
      "execution_count": 16,
      "outputs": [
        {
          "output_type": "execute_result",
          "data": {
            "application/vnd.google.colaboratory.intrinsic+json": {
              "type": "string"
            },
            "text/plain": [
              "'$12,067.69'"
            ]
          },
          "metadata": {
            "tags": []
          },
          "execution_count": 16
        }
      ]
    },
    {
      "cell_type": "markdown",
      "metadata": {
        "id": "7G92fr_-CBHx"
      },
      "source": [
        "# 10 - Randomly Select an Observation from the Dataframe"
      ]
    },
    {
      "cell_type": "code",
      "metadata": {
        "id": "Yyk1Kx456oJv",
        "outputId": "9b1f7bfe-b105-4f2d-97a5-beb95b75abaa",
        "colab": {
          "base_uri": "https://localhost:8080/",
          "height": 34
        }
      },
      "source": [
        "# Display the tuition of a random observation. \n",
        "single_sample_tuition = df.sample(1).iloc[0]['TUITIONFEE_IN']\n",
        "num_to_currency(single_sample_tuition)"
      ],
      "execution_count": 17,
      "outputs": [
        {
          "output_type": "execute_result",
          "data": {
            "application/vnd.google.colaboratory.intrinsic+json": {
              "type": "string"
            },
            "text/plain": [
              "'$19,000.00'"
            ]
          },
          "metadata": {
            "tags": []
          },
          "execution_count": 17
        }
      ]
    },
    {
      "cell_type": "markdown",
      "metadata": {
        "id": "Wfpc73cJEosa"
      },
      "source": [
        "# 11 - Calculate Sample Difference from Mean"
      ]
    },
    {
      "cell_type": "code",
      "metadata": {
        "id": "2Jio5eDc6oJ0",
        "outputId": "7edd5a9a-93f4-43fd-d108-23356938d1ff",
        "colab": {
          "base_uri": "https://localhost:8080/",
          "height": 34
        }
      },
      "source": [
        "# Calculate the difference between the tuition of this observation and \n",
        "# the mean tuition off all observations calculated earlier.\n",
        "single_sample_diff = single_sample_tuition - mean_tuition\n",
        "\n",
        "# Display the difference\n",
        "num_to_currency(single_sample_diff)"
      ],
      "execution_count": 18,
      "outputs": [
        {
          "output_type": "execute_result",
          "data": {
            "application/vnd.google.colaboratory.intrinsic+json": {
              "type": "string"
            },
            "text/plain": [
              "'$6,932.31'"
            ]
          },
          "metadata": {
            "tags": []
          },
          "execution_count": 18
        }
      ]
    },
    {
      "cell_type": "markdown",
      "metadata": {
        "id": "g-qEyDzQFrlg"
      },
      "source": [
        "# 12 - Repeat Sampling and Difference from Mean Calculation Several Times"
      ]
    },
    {
      "cell_type": "code",
      "metadata": {
        "id": "E7RIjD8E6oJ5",
        "outputId": "1c65b651-568a-41ea-bb90-95face6519f6",
        "colab": {
          "base_uri": "https://localhost:8080/"
        }
      },
      "source": [
        "# Repeat 10 to 11 several times get the feel of the size of the difference in means\n",
        "print('Mean:\\t', num_to_currency(mean_tuition))\n",
        "for i in range(0,10):\n",
        "    sample_tuition = round(df.sample(1).iloc[0]['TUITIONFEE_IN'],2)\n",
        "    diff = sample_tuition - mean_tuition\n",
        "    print('Sample:\\t', num_to_currency(sample_tuition), '\\tDiff:\\t', num_to_currency(diff))"
      ],
      "execution_count": 19,
      "outputs": [
        {
          "output_type": "stream",
          "text": [
            "Mean:\t $12,067.69\n",
            "Sample:\t $21,876.00 \tDiff:\t $9,808.31\n",
            "Sample:\t $17,148.00 \tDiff:\t $5,080.31\n",
            "Sample:\t $14,150.00 \tDiff:\t $2,082.31\n",
            "Sample:\t $13,275.00 \tDiff:\t $1,207.31\n",
            "Sample:\t $10,105.00 \tDiff:\t -$1,962.69\n",
            "Sample:\t $38,267.00 \tDiff:\t $26,199.31\n",
            "Sample:\t $25,450.00 \tDiff:\t $13,382.31\n",
            "Sample:\t $1,680.00 \tDiff:\t -$10,387.69\n",
            "Sample:\t $12,550.00 \tDiff:\t $482.31\n",
            "Sample:\t $16,075.00 \tDiff:\t $4,007.31\n"
          ],
          "name": "stdout"
        }
      ]
    },
    {
      "cell_type": "markdown",
      "metadata": {
        "id": "aROrmXGcJW6O"
      },
      "source": [
        "# 13 - Randomly Select and Display Tuition for 20 Observations"
      ]
    },
    {
      "cell_type": "code",
      "metadata": {
        "id": "X7P4DGbi6oJ-",
        "outputId": "71dba51f-4fe3-45fa-f67f-14ff49d7b301",
        "colab": {
          "base_uri": "https://localhost:8080/",
          "height": 662
        }
      },
      "source": [
        "# Randomly select 20 observations\n",
        "samples = df.sample(20)\n",
        "samples"
      ],
      "execution_count": 20,
      "outputs": [
        {
          "output_type": "execute_result",
          "data": {
            "text/html": [
              "<div>\n",
              "<style scoped>\n",
              "    .dataframe tbody tr th:only-of-type {\n",
              "        vertical-align: middle;\n",
              "    }\n",
              "\n",
              "    .dataframe tbody tr th {\n",
              "        vertical-align: top;\n",
              "    }\n",
              "\n",
              "    .dataframe thead th {\n",
              "        text-align: right;\n",
              "    }\n",
              "</style>\n",
              "<table border=\"1\" class=\"dataframe\">\n",
              "  <thead>\n",
              "    <tr style=\"text-align: right;\">\n",
              "      <th></th>\n",
              "      <th>INSTNM</th>\n",
              "      <th>TUITIONFEE_IN</th>\n",
              "    </tr>\n",
              "  </thead>\n",
              "  <tbody>\n",
              "    <tr>\n",
              "      <th>7170</th>\n",
              "      <td>Harrisburg Area Community College-Lebanon</td>\n",
              "      <td>3480.0</td>\n",
              "    </tr>\n",
              "    <tr>\n",
              "      <th>3816</th>\n",
              "      <td>Freed-Hardeman University</td>\n",
              "      <td>14998.0</td>\n",
              "    </tr>\n",
              "    <tr>\n",
              "      <th>6760</th>\n",
              "      <td>Broadview University-Orem</td>\n",
              "      <td>14400.0</td>\n",
              "    </tr>\n",
              "    <tr>\n",
              "      <th>7086</th>\n",
              "      <td>Strayer University-Salt Lake Campus</td>\n",
              "      <td>13065.0</td>\n",
              "    </tr>\n",
              "    <tr>\n",
              "      <th>6414</th>\n",
              "      <td>University of Phoenix-South Carolina</td>\n",
              "      <td>8568.0</td>\n",
              "    </tr>\n",
              "    <tr>\n",
              "      <th>3231</th>\n",
              "      <td>Lincoln College of Technology-Dayton</td>\n",
              "      <td>10500.0</td>\n",
              "    </tr>\n",
              "    <tr>\n",
              "      <th>1189</th>\n",
              "      <td>Northeastern Illinois University</td>\n",
              "      <td>7082.0</td>\n",
              "    </tr>\n",
              "    <tr>\n",
              "      <th>5016</th>\n",
              "      <td>King's College</td>\n",
              "      <td>12920.0</td>\n",
              "    </tr>\n",
              "    <tr>\n",
              "      <th>5021</th>\n",
              "      <td>Southwest Collegiate Institute for the Deaf</td>\n",
              "      <td>1712.0</td>\n",
              "    </tr>\n",
              "    <tr>\n",
              "      <th>4514</th>\n",
              "      <td>Inter American University of Puerto Rico-Bayamon</td>\n",
              "      <td>4428.0</td>\n",
              "    </tr>\n",
              "    <tr>\n",
              "      <th>4195</th>\n",
              "      <td>University of Lynchburg</td>\n",
              "      <td>28925.0</td>\n",
              "    </tr>\n",
              "    <tr>\n",
              "      <th>1603</th>\n",
              "      <td>Acadiana Technical College-Gulf Area Campus</td>\n",
              "      <td>974.0</td>\n",
              "    </tr>\n",
              "    <tr>\n",
              "      <th>2329</th>\n",
              "      <td>Bellevue University</td>\n",
              "      <td>5670.0</td>\n",
              "    </tr>\n",
              "    <tr>\n",
              "      <th>4609</th>\n",
              "      <td>Collin County Community College District</td>\n",
              "      <td>1069.0</td>\n",
              "    </tr>\n",
              "    <tr>\n",
              "      <th>7065</th>\n",
              "      <td>Strayer University-Birmingham Campus</td>\n",
              "      <td>13065.0</td>\n",
              "    </tr>\n",
              "    <tr>\n",
              "      <th>3228</th>\n",
              "      <td>Lincoln College of Technology-Franklin LCT</td>\n",
              "      <td>10600.0</td>\n",
              "    </tr>\n",
              "    <tr>\n",
              "      <th>7183</th>\n",
              "      <td>University of the Virgin Islands-Albert A. Sheen</td>\n",
              "      <td>4100.0</td>\n",
              "    </tr>\n",
              "    <tr>\n",
              "      <th>1830</th>\n",
              "      <td>Greenfield Community College</td>\n",
              "      <td>3878.0</td>\n",
              "    </tr>\n",
              "    <tr>\n",
              "      <th>4326</th>\n",
              "      <td>Washington State University</td>\n",
              "      <td>8489.0</td>\n",
              "    </tr>\n",
              "    <tr>\n",
              "      <th>2166</th>\n",
              "      <td>Rust College</td>\n",
              "      <td>7870.0</td>\n",
              "    </tr>\n",
              "  </tbody>\n",
              "</table>\n",
              "</div>"
            ],
            "text/plain": [
              "                                                INSTNM  TUITIONFEE_IN\n",
              "7170         Harrisburg Area Community College-Lebanon         3480.0\n",
              "3816                         Freed-Hardeman University        14998.0\n",
              "6760                         Broadview University-Orem        14400.0\n",
              "7086               Strayer University-Salt Lake Campus        13065.0\n",
              "6414              University of Phoenix-South Carolina         8568.0\n",
              "3231              Lincoln College of Technology-Dayton        10500.0\n",
              "1189                  Northeastern Illinois University         7082.0\n",
              "5016                                    King's College        12920.0\n",
              "5021       Southwest Collegiate Institute for the Deaf         1712.0\n",
              "4514  Inter American University of Puerto Rico-Bayamon         4428.0\n",
              "4195                           University of Lynchburg        28925.0\n",
              "1603       Acadiana Technical College-Gulf Area Campus          974.0\n",
              "2329                               Bellevue University         5670.0\n",
              "4609          Collin County Community College District         1069.0\n",
              "7065              Strayer University-Birmingham Campus        13065.0\n",
              "3228        Lincoln College of Technology-Franklin LCT        10600.0\n",
              "7183  University of the Virgin Islands-Albert A. Sheen         4100.0\n",
              "1830                      Greenfield Community College         3878.0\n",
              "4326                       Washington State University         8489.0\n",
              "2166                                      Rust College         7870.0"
            ]
          },
          "metadata": {
            "tags": []
          },
          "execution_count": 20
        }
      ]
    },
    {
      "cell_type": "code",
      "metadata": {
        "id": "vcvu80k4Juui",
        "outputId": "785b35a9-209d-4555-b4fa-3c543b5b37ba",
        "colab": {
          "base_uri": "https://localhost:8080/"
        }
      },
      "source": [
        "# Display the tuition of these observations. \n",
        "for tuition in [num_to_currency(tuition) for tuition in samples['TUITIONFEE_IN']]:\n",
        "    print(tuition)"
      ],
      "execution_count": 21,
      "outputs": [
        {
          "output_type": "stream",
          "text": [
            "$3,480.00\n",
            "$14,998.00\n",
            "$14,400.00\n",
            "$13,065.00\n",
            "$8,568.00\n",
            "$10,500.00\n",
            "$7,082.00\n",
            "$12,920.00\n",
            "$1,712.00\n",
            "$4,428.00\n",
            "$28,925.00\n",
            "$974.00\n",
            "$5,670.00\n",
            "$1,069.00\n",
            "$13,065.00\n",
            "$10,600.00\n",
            "$4,100.00\n",
            "$3,878.00\n",
            "$8,489.00\n",
            "$7,870.00\n"
          ],
          "name": "stdout"
        }
      ]
    },
    {
      "cell_type": "markdown",
      "metadata": {
        "id": "DZ3wtvcPLEta"
      },
      "source": [
        "# 14 - Calculate and Display Mean Tuition of the 20 Observations"
      ]
    },
    {
      "cell_type": "code",
      "metadata": {
        "id": "2kvz1whj6oKA",
        "outputId": "2d68407c-2c01-4bd1-a0d4-7fcb42b1c4cf",
        "colab": {
          "base_uri": "https://localhost:8080/",
          "height": 34
        }
      },
      "source": [
        "# Calculate the mean tuition of these 20 observations\n",
        "sample_mean_tuition = samples['TUITIONFEE_IN'].mean()\n",
        "\n",
        "# Display it.\n",
        "num_to_currency(sample_mean_tuition)"
      ],
      "execution_count": 22,
      "outputs": [
        {
          "output_type": "execute_result",
          "data": {
            "application/vnd.google.colaboratory.intrinsic+json": {
              "type": "string"
            },
            "text/plain": [
              "'$8,789.65'"
            ]
          },
          "metadata": {
            "tags": []
          },
          "execution_count": 22
        }
      ]
    },
    {
      "cell_type": "markdown",
      "metadata": {
        "id": "ULyPwPcFMDHn"
      },
      "source": [
        "# 15 - Calculate Difference Between Sample and Population Tuition Averages"
      ]
    },
    {
      "cell_type": "code",
      "metadata": {
        "id": "7qZe_Xn-6oKE",
        "outputId": "4c202842-63d5-40a6-ce42-658bf2a31a20",
        "colab": {
          "base_uri": "https://localhost:8080/"
        }
      },
      "source": [
        "# Calculate the difference between the average tuition of these 20 observations \n",
        "# and the mean tuition off all observations calculated earlier.\n",
        "diff = sample_mean_tuition - mean_tuition\n",
        "\n",
        "# Display the difference\n",
        "print('Overall Mean Tuition:', '\\t', num_to_currency(mean_tuition))\n",
        "print('Sample Mean Tuition:', '\\t', num_to_currency(sample_mean_tuition))\n",
        "print('Difference:', '\\t', '\\t', num_to_currency(diff))"
      ],
      "execution_count": 23,
      "outputs": [
        {
          "output_type": "stream",
          "text": [
            "Overall Mean Tuition: \t $12,067.69\n",
            "Sample Mean Tuition: \t $8,789.65\n",
            "Difference: \t \t -$3,278.04\n"
          ],
          "name": "stdout"
        }
      ]
    },
    {
      "cell_type": "markdown",
      "metadata": {
        "id": "MIVwz5PBOAtK"
      },
      "source": [
        "# 16 - Repeat Sampling and Mean Differences Calculation Several Times"
      ]
    },
    {
      "cell_type": "code",
      "metadata": {
        "id": "tfvEhO2xOvMR",
        "outputId": "4e2f7ab6-9c6c-4ef9-dc65-bb651e20a200",
        "colab": {
          "base_uri": "https://localhost:8080/"
        }
      },
      "source": [
        "# Repeat 13 to 15 several times and get the feel of the size of the difference in means \n",
        "for i in range(0,10):\n",
        "    samples = df.sample(20)\n",
        "    sample_mean_tuition = samples['TUITIONFEE_IN'].mean()\n",
        "    diff = sample_mean_tuition - mean_tuition\n",
        "    print('Sample Mean Tuition:', '\\t', num_to_currency(sample_mean_tuition), '\\t', 'Diff:', '\\t', num_to_currency(diff))"
      ],
      "execution_count": 24,
      "outputs": [
        {
          "output_type": "stream",
          "text": [
            "Sample Mean Tuition: \t $11,062.50 \t Diff: \t -$1,005.19\n",
            "Sample Mean Tuition: \t $9,474.80 \t Diff: \t -$2,592.89\n",
            "Sample Mean Tuition: \t $12,482.20 \t Diff: \t $414.51\n",
            "Sample Mean Tuition: \t $14,404.75 \t Diff: \t $2,337.06\n",
            "Sample Mean Tuition: \t $8,825.65 \t Diff: \t -$3,242.04\n",
            "Sample Mean Tuition: \t $10,929.15 \t Diff: \t -$1,138.54\n",
            "Sample Mean Tuition: \t $9,341.95 \t Diff: \t -$2,725.74\n",
            "Sample Mean Tuition: \t $9,797.30 \t Diff: \t -$2,270.39\n",
            "Sample Mean Tuition: \t $13,389.95 \t Diff: \t $1,322.26\n",
            "Sample Mean Tuition: \t $10,349.90 \t Diff: \t -$1,717.79\n"
          ],
          "name": "stdout"
        }
      ]
    },
    {
      "cell_type": "markdown",
      "metadata": {
        "id": "qKVHdUAXSKZ4"
      },
      "source": [
        "Compare these differences with the differences calculated earlier with just 1 observation.\n",
        "\n",
        "\n",
        "\n"
      ]
    },
    {
      "cell_type": "code",
      "metadata": {
        "id": "s2AQUh8tQKcb",
        "outputId": "55df17ce-fc3c-415e-d817-3d81dc3d6841",
        "colab": {
          "base_uri": "https://localhost:8080/",
          "height": 34
        }
      },
      "source": [
        "num_to_currency(single_sample_diff)"
      ],
      "execution_count": 25,
      "outputs": [
        {
          "output_type": "execute_result",
          "data": {
            "application/vnd.google.colaboratory.intrinsic+json": {
              "type": "string"
            },
            "text/plain": [
              "'$6,932.31'"
            ]
          },
          "metadata": {
            "tags": []
          },
          "execution_count": 25
        }
      ]
    },
    {
      "cell_type": "markdown",
      "metadata": {
        "id": "lPMFXTU0TlMM"
      },
      "source": [
        "\n",
        "***The single sample difference from the mean is greater than the differences observed from larger sample sets.***  "
      ]
    },
    {
      "cell_type": "markdown",
      "metadata": {
        "id": "3O9BGKVdSqGN"
      },
      "source": [
        "<u>Hunch/conclusion</u>\n",
        "\n",
        "***I would expect the difference between the two means to approach zero as the sample size increases.***"
      ]
    },
    {
      "cell_type": "markdown",
      "metadata": {
        "id": "Ln2zmbp5T19y"
      },
      "source": [
        "# 17 - Define Reusable Function"
      ]
    },
    {
      "cell_type": "markdown",
      "metadata": {
        "id": "0i4lLySc6oKK"
      },
      "source": [
        "Write a function that take two input parameters:\n",
        "- x (number of observations) \n",
        "- y (the name of the dataframe). \n",
        "\n",
        "The function will perform the following: \n",
        "- Randomly select x observations from y\n",
        "- Calculate the mean of these x observations \n",
        "- Calculate the mean of all observations\n",
        "- Calculate the difference between the two means \n",
        "- Return the difference"
      ]
    },
    {
      "cell_type": "code",
      "metadata": {
        "id": "ZblkuSq46oKL"
      },
      "source": [
        "def tuition_diff_for_sample_mean_from_population_mean(x, y):\n",
        "    \n",
        "    # Randomly select x observations from y\n",
        "    samples = y.sample(x)\n",
        "\n",
        "    # Calculate the mean of these x observations\n",
        "    sample_mean_tuition = samples['TUITIONFEE_IN'].mean()\n",
        "\n",
        "    # Calculate the mean of all observations\n",
        "    overall_mean_tuition = y['TUITIONFEE_IN'].mean()\n",
        "\n",
        "    # Calculate and return the difference between the two means\n",
        "    return sample_mean_tuition - overall_mean_tuition"
      ],
      "execution_count": 26,
      "outputs": []
    },
    {
      "cell_type": "markdown",
      "metadata": {
        "id": "LxzYHkRMVu4S"
      },
      "source": [
        "# 18 - Test Reusable Function"
      ]
    },
    {
      "cell_type": "code",
      "metadata": {
        "id": "rCtsaGCy6oKN",
        "outputId": "a45e2237-e5bf-4d0e-ed6a-a7ac954e9111",
        "colab": {
          "base_uri": "https://localhost:8080/",
          "height": 34
        }
      },
      "source": [
        "# Test the function by passing a sample size and the name of the dataframe\n",
        "diff = tuition_diff_for_sample_mean_from_population_mean(200, df)\n",
        "\n",
        "# Display the return of the function\n",
        "num_to_currency(diff)"
      ],
      "execution_count": 27,
      "outputs": [
        {
          "output_type": "execute_result",
          "data": {
            "application/vnd.google.colaboratory.intrinsic+json": {
              "type": "string"
            },
            "text/plain": [
              "'$7.32'"
            ]
          },
          "metadata": {
            "tags": []
          },
          "execution_count": 27
        }
      ]
    },
    {
      "cell_type": "markdown",
      "metadata": {
        "id": "pLL-EL3QWMrG"
      },
      "source": [
        "# 19 - Create Sample Sizes List"
      ]
    },
    {
      "cell_type": "code",
      "metadata": {
        "id": "0I58wyGH6oKP",
        "outputId": "021faf68-4020-4ce0-b721-e92dfde54ed1",
        "colab": {
          "base_uri": "https://localhost:8080/"
        }
      },
      "source": [
        "# Create a list of sequence numbers from 1 to 50, name it \"sample_sizes\"\n",
        "sequence_size = 50\n",
        "sample_sizes = [i for i in range(1, sequence_size + 1)]\n",
        "\n",
        "# Display it to make sure its members are from 1 to 50\n",
        "sample_sizes"
      ],
      "execution_count": 28,
      "outputs": [
        {
          "output_type": "execute_result",
          "data": {
            "text/plain": [
              "[1,\n",
              " 2,\n",
              " 3,\n",
              " 4,\n",
              " 5,\n",
              " 6,\n",
              " 7,\n",
              " 8,\n",
              " 9,\n",
              " 10,\n",
              " 11,\n",
              " 12,\n",
              " 13,\n",
              " 14,\n",
              " 15,\n",
              " 16,\n",
              " 17,\n",
              " 18,\n",
              " 19,\n",
              " 20,\n",
              " 21,\n",
              " 22,\n",
              " 23,\n",
              " 24,\n",
              " 25,\n",
              " 26,\n",
              " 27,\n",
              " 28,\n",
              " 29,\n",
              " 30,\n",
              " 31,\n",
              " 32,\n",
              " 33,\n",
              " 34,\n",
              " 35,\n",
              " 36,\n",
              " 37,\n",
              " 38,\n",
              " 39,\n",
              " 40,\n",
              " 41,\n",
              " 42,\n",
              " 43,\n",
              " 44,\n",
              " 45,\n",
              " 46,\n",
              " 47,\n",
              " 48,\n",
              " 49,\n",
              " 50]"
            ]
          },
          "metadata": {
            "tags": []
          },
          "execution_count": 28
        }
      ]
    },
    {
      "cell_type": "markdown",
      "metadata": {
        "id": "-sMWZRfEXkeT"
      },
      "source": [
        "# 20 - Create Means Diff List"
      ]
    },
    {
      "cell_type": "code",
      "metadata": {
        "id": "sBWwbejh6oKR"
      },
      "source": [
        "# Create an empty list and name it \"means_diff\" for differences of population mean and sample means\n",
        "means_diff = []"
      ],
      "execution_count": 29,
      "outputs": []
    },
    {
      "cell_type": "code",
      "metadata": {
        "id": "hDZPKF8fXsNC",
        "outputId": "6f2e107d-68bf-4a86-d77b-6b07e5219438",
        "colab": {
          "base_uri": "https://localhost:8080/"
        }
      },
      "source": [
        "# Loop through the list sample_sizes:\n",
        "for size in sample_sizes:\n",
        "\n",
        "    # Obtain a random sample of that size from the dataframe\n",
        "    # Calculate the sample mean \n",
        "    # Calculate the difference between the population mean and the sample mean\n",
        "    diff = tuition_diff_for_sample_mean_from_population_mean(size, df)\n",
        "\n",
        "    # Append the difference to the list \"means_diff\"\n",
        "    means_diff.append(diff)\n",
        "\n",
        "# Display the list \"means_diff\" after the loop is completed\n",
        "for diff in means_diff:\n",
        "    print(num_to_currency(diff))"
      ],
      "execution_count": 30,
      "outputs": [
        {
          "output_type": "stream",
          "text": [
            "$28,097.31\n",
            "$3,185.31\n",
            "-$415.69\n",
            "-$4,211.69\n",
            "$7,446.51\n",
            "-$2,188.52\n",
            "-$1,258.83\n",
            "-$3,555.44\n",
            "$1,257.42\n",
            "-$1,220.09\n",
            "$2,383.13\n",
            "-$2,447.94\n",
            "-$356.00\n",
            "$718.10\n",
            "-$3,366.56\n",
            "$1,012.87\n",
            "$187.96\n",
            "-$1,223.41\n",
            "-$110.74\n",
            "-$3,402.69\n",
            "-$1,345.02\n",
            "$2,201.22\n",
            "-$1,067.56\n",
            "-$1,934.15\n",
            "-$986.61\n",
            "$2,666.31\n",
            "-$851.32\n",
            "$1,800.60\n",
            "-$553.66\n",
            "$409.18\n",
            "$686.79\n",
            "$19.15\n",
            "$678.58\n",
            "-$659.51\n",
            "$2,020.74\n",
            "-$811.61\n",
            "-$1,128.20\n",
            "$148.86\n",
            "-$484.89\n",
            "-$244.16\n",
            "-$1,342.79\n",
            "$685.45\n",
            "$805.36\n",
            "-$2,985.96\n",
            "-$478.45\n",
            "-$1,445.34\n",
            "-$2,300.90\n",
            "$38.29\n",
            "-$156.75\n",
            "-$1,750.97\n"
          ],
          "name": "stdout"
        }
      ]
    },
    {
      "cell_type": "markdown",
      "metadata": {
        "id": "-Jz2KJf2ZSxW"
      },
      "source": [
        "# 21 - Scatter Plot: Sample Sizes vs. Mean Differences"
      ]
    },
    {
      "cell_type": "code",
      "metadata": {
        "id": "CZxUYK6b6oKU",
        "outputId": "f467f229-8653-43eb-dafe-dfefdb3c8da0",
        "colab": {
          "base_uri": "https://localhost:8080/",
          "height": 404
        }
      },
      "source": [
        "# Make a scatter plot with sample size on the x-axs and  mean difference on the y-axis\n",
        "# Observe as the sample size increases, the sample means converge to the population mean.\n",
        "# Make sure you make the plot large enough \n",
        "plt.figure(figsize=(12, 6))\n",
        "plt.scatter(sample_sizes, means_diff, color='r')\n",
        "plt.xlabel('Sample Size')\n",
        "plt.ylabel('Means Diff')\n",
        "plt.title('Sample Sizes vs. Tuition Mean Differences')\n",
        "plt.show()"
      ],
      "execution_count": 31,
      "outputs": [
        {
          "output_type": "display_data",
          "data": {
            "image/png": "[encoded data removed]",
            "text/plain": [
              "<Figure size 864x432 with 1 Axes>"
            ]
          },
          "metadata": {
            "tags": [],
            "needs_background": "light"
          }
        }
      ]
    },
    {
      "cell_type": "markdown",
      "metadata": {
        "id": "wLgk00ZlcsYO"
      },
      "source": [
        "# 22 - Repeat Sampling and Mean Differences Plotting Several Times\n",
        "\n",
        "Repeat 18 to 21 by replacing 50 with a larger number. For example, 300, or even 1000 and see how the plot looks."
      ]
    },
    {
      "cell_type": "code",
      "metadata": {
        "id": "tD8z_VyB6oKW",
        "outputId": "3eb781f4-832b-4fc5-f0b3-0e546962e9c5",
        "colab": {
          "base_uri": "https://localhost:8080/",
          "height": 404
        }
      },
      "source": [
        "# 300 sample sizes\n",
        "sequence_size = 300\n",
        "sample_sizes = [i for i in range(1, sequence_size + 1)]\n",
        "means_diff = []\n",
        "for size in sample_sizes:\n",
        "\n",
        "    # Obtain a random sample of that size from the dataframe\n",
        "    # Calculate the sample mean \n",
        "    # Calculate the difference between the population mean and the sample mean\n",
        "    diff = tuition_diff_for_sample_mean_from_population_mean(size, df)\n",
        "\n",
        "    # Append the difference to the list \"means_diff\"\n",
        "    means_diff.append(diff)\n",
        "\n",
        "# Display Scatter Plot    \n",
        "plt.figure(figsize=(12, 6))\n",
        "plt.scatter(sample_sizes, means_diff, color='r')\n",
        "plt.xlabel('Sample Size')\n",
        "plt.ylabel('Means Diff')\n",
        "plt.title('Sample Sizes vs. Tuition Mean Differences')\n",
        "plt.show()"
      ],
      "execution_count": 32,
      "outputs": [
        {
          "output_type": "display_data",
          "data": {
            "image/png": "[encoded data removed]",
            "text/plain": [
              "<Figure size 864x432 with 1 Axes>"
            ]
          },
          "metadata": {
            "tags": [],
            "needs_background": "light"
          }
        }
      ]
    },
    {
      "cell_type": "code",
      "metadata": {
        "id": "KqTU9FABeiAx",
        "outputId": "26162314-f72f-4561-ab74-5a167570e17a",
        "colab": {
          "base_uri": "https://localhost:8080/",
          "height": 404
        }
      },
      "source": [
        "# 1000 sample sizes\n",
        "sequence_size = 1000\n",
        "sample_sizes = [i for i in range(1, sequence_size + 1)]\n",
        "means_diff = []\n",
        "for size in sample_sizes:\n",
        "\n",
        "    # Obtain a random sample of that size from the dataframe\n",
        "    # Calculate the sample mean \n",
        "    # Calculate the difference between the population mean and the sample mean\n",
        "    diff = tuition_diff_for_sample_mean_from_population_mean(size, df)\n",
        "\n",
        "    # Append the difference to the list \"means_diff\"\n",
        "    means_diff.append(diff)\n",
        "\n",
        "# Display Scatter Plot    \n",
        "plt.figure(figsize=(12, 6))\n",
        "plt.scatter(sample_sizes, means_diff, color='r')\n",
        "plt.xlabel('Sample Size')\n",
        "plt.ylabel('Means Diff')\n",
        "plt.title('Sample Sizes vs. Tuition Mean Differences')\n",
        "plt.show()"
      ],
      "execution_count": 33,
      "outputs": [
        {
          "output_type": "display_data",
          "data": {
            "image/png": "[encoded data removed]",
            "text/plain": [
              "<Figure size 864x432 with 1 Axes>"
            ]
          },
          "metadata": {
            "tags": [],
            "needs_background": "light"
          }
        }
      ]
    },
    {
      "cell_type": "markdown",
      "metadata": {
        "id": "-8Y7IRJYeqWf"
      },
      "source": [
        "<u>Conclusion</u>\n",
        "\n",
        "***The difference between a sample sizes mean tuition and the population mean tuition does approach zero for larger sample sizes.***"
      ]
    },
    {
      "cell_type": "markdown",
      "metadata": {
        "id": "ddHgdhfwc3zb"
      },
      "source": [
        "# COMPLETE"
      ]
    }
  ]
}