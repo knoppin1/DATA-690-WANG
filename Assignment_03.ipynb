{
  "nbformat": 4,
  "nbformat_minor": 0,
  "metadata": {
    "colab": {
      "name": "Assignment_03.ipynb",
      "provenance": [],
      "authorship_tag": "ABX9TyNgvVT4a74mTiRpb8ZAszlC",
      "include_colab_link": true
    },
    "kernelspec": {
      "name": "python3",
      "display_name": "Python 3"
    }
  },
  "cells": [
    {
      "cell_type": "markdown",
      "metadata": {
        "id": "view-in-github",
        "colab_type": "text"
      },
      "source": [
        "<a href=\"https://colab.research.google.com/github/knoppin1/DATA-690-WANG/blob/master/Assignment_03.ipynb\" target=\"_parent\"><img src=\"https://colab.research.google.com/assets/colab-badge.svg\" alt=\"Open In Colab\"/></a>"
      ]
    },
    {
      "cell_type": "markdown",
      "metadata": {
        "id": "hJSf7R0WgAJz",
        "colab_type": "text"
      },
      "source": [
        "# DATA-609: Assignment 03\n",
        "\n",
        "### Ken Noppinger (knoppin1@umbc.edu)\n",
        "\n",
        "## The Problem:\n",
        "Write a program that generates 100 random integers between 0 and 9. \n",
        "\n",
        "1. Print them in a 10 by 10 matrix neatly arranged like the following (one space between each number):\n",
        "```\n",
        "5 1 5 6 2 7 8 6 4 2 \n",
        "2 3 7 0 6 9 2 4 2 8 \n",
        "0 0 8 6 4 1 7 2 7 6 \n",
        "0 1 9 0 0 8 5 8 6 8 \n",
        "4 1 0 5 5 7 4 6 4 4 \n",
        "6 0 2 0 1 9 8 2 3 9 \n",
        "4 0 4 8 1 7 6 6 2 1 \n",
        "1 7 6 8 5 4 1 9 6 7 \n",
        "6 4 7 9 9 3 8 2 6 1 \n",
        "9 0 6 4 0 1 0 6 9 9 \n",
        "```\n",
        "2. If the random number is an odd number, print \"@\" instead.  like the following:\n",
        "```\n",
        "@ @ 0 2 6 @ 8 8 0 0 \n",
        "@ 4 @ 4 4 @ 2 @ 2 2 \n",
        "@ 6 8 @ @ @ 0 @ 0 @ \n",
        "2 6 @ 0 @ 2 @ @ 0 @ \n",
        "8 4 @ @ @ 0 @ @ 6 @ \n",
        "@ @ 4 6 @ @ @ 2 @ 2 \n",
        "@ @ @ @ 4 @ @ 2 2 0 \n",
        "@ 6 @ 0 0 8 @ 2 0 @ \n",
        "8 8 @ @ @ 0 0 @ 4 6 \n",
        "@ 2 2 6 8 2 @ @ @ 6\n",
        "```\n",
        "3. Calculate and Print the total of each row like the following (use \"*\" to separate the total from the numbers):\n",
        "```\n",
        "7 6 5 8 8 0 7 6 0 1 * 48 \n",
        "8 5 7 9 8 0 9 3 0 1 * 50 \n",
        "4 0 3 5 3 9 0 8 3 9 * 44 \n",
        "3 5 5 3 8 3 4 3 2 2 * 38 \n",
        "7 7 4 1 2 7 2 3 0 8 * 41 \n",
        "3 9 7 7 0 9 4 0 6 5 * 50 \n",
        "1 9 7 1 3 0 0 1 4 5 * 31 \n",
        "4 4 0 6 7 4 5 6 9 3 * 48 \n",
        "2 1 1 4 2 0 1 2 9 2 * 24\n",
        "2 1 6 7 7 8 1 0 0 4 * 36\n",
        "```\n",
        "4. Optional: Surround the matrix with asterisks (*) like the following:\n",
        "\n",
        "```\n",
        "***********************\n",
        "* 5 1 5 6 2 7 8 6 4 2 *\n",
        "* 2 3 7 0 6 9 2 4 2 8 *\n",
        "* 0 0 8 6 4 1 7 2 7 6 *\n",
        "* 0 1 9 0 0 8 5 8 6 8 *\n",
        "* 4 1 0 5 5 7 4 6 4 4 *\n",
        "* 6 0 2 0 1 9 8 2 3 9 *\n",
        "* 4 0 4 8 1 7 6 6 2 1 *\n",
        "* 1 7 6 8 5 4 1 9 6 7 *\n",
        "* 6 4 7 9 9 3 8 2 6 1 *\n",
        "* 9 0 6 4 0 1 0 6 9 9 *\n",
        "***********************\n",
        "```\n",
        "\n",
        "## The Requirements\n",
        "- Program and test the solution in Jupyter notebook\n",
        "- Save/upload the notebook file in GitHub repository\n",
        "- Submit the link to the GitHub repo to BB.\n",
        "\n",
        "## Hints:\n",
        "- Use Python standard library random to generate one random number at a time \n",
        "- Alternatively, use NumPy random library to generate 10 numbers at a time or 100 random number altogether in one shot.\n",
        "- Use a nested loop to deal with the 10 x 10 matrix.\n",
        "- Use the modular operator (%) to determine if an integer is an odd number or an even number.\n",
        "- Use the \"end=\" option of the print() function to avoid a new line after the print and also to add additional spaces. \n",
        "    - Forfor example, print(9, end=\"   \") will print 9 followed by three spaces and not starting a new line.\n",
        "- Think through the logic. Try simple things first. Don't make it too complicated. Only a few lines of code are needed.\n"
      ]
    },
    {
      "cell_type": "markdown",
      "metadata": {
        "id": "l-OaDuWEzq80",
        "colab_type": "text"
      },
      "source": [
        "# START"
      ]
    },
    {
      "cell_type": "code",
      "metadata": {
        "id": "NWd40FPPh4KA",
        "colab_type": "code",
        "colab": {}
      },
      "source": [
        "import random"
      ],
      "execution_count": 1,
      "outputs": []
    },
    {
      "cell_type": "markdown",
      "metadata": {
        "id": "-5v4scQFzzjR",
        "colab_type": "text"
      },
      "source": [
        "## Set constants"
      ]
    },
    {
      "cell_type": "code",
      "metadata": {
        "id": "fFjOvgCpr47u",
        "colab_type": "code",
        "colab": {}
      },
      "source": [
        "# Matrix is 10 x 10\n",
        "ROW_COUNT = 10\n",
        "COLUMN_COUNT = 10\n",
        "\n",
        "# Range for integers is 0 through 9\n",
        "MIN_INTEGER = 0\n",
        "MAX_INTEGER = 9\n",
        "\n",
        "# Border character is an asterisk\n",
        "BORDER_CHAR = \"*\"\n",
        "\n",
        "# Odd number character is an \"at\" symbol\n",
        "ODD_NUMBER_CHAR = \"@\""
      ],
      "execution_count": 2,
      "outputs": []
    },
    {
      "cell_type": "markdown",
      "metadata": {
        "id": "V-yJq09ZnQoh",
        "colab_type": "text"
      },
      "source": [
        "## Get a random integer between the minimum and maximum integers"
      ]
    },
    {
      "cell_type": "code",
      "metadata": {
        "id": "FIMIk0yFiHVj",
        "colab_type": "code",
        "colab": {
          "base_uri": "https://localhost:8080/",
          "height": 34
        },
        "outputId": "dd0b1393-ba7f-4b4d-88a9-bb7f5dc9ce39"
      },
      "source": [
        "random.randint(MIN_INTEGER, MAX_INTEGER)"
      ],
      "execution_count": 3,
      "outputs": [
        {
          "output_type": "execute_result",
          "data": {
            "text/plain": [
              "2"
            ]
          },
          "metadata": {
            "tags": []
          },
          "execution_count": 3
        }
      ]
    },
    {
      "cell_type": "markdown",
      "metadata": {
        "id": "NiobEm1dnVlA",
        "colab_type": "text"
      },
      "source": [
        "## Create a random list of integers in the minimum and maximum integer range to represent the matrix"
      ]
    },
    {
      "cell_type": "code",
      "metadata": {
        "id": "AvZnFBRTkb5C",
        "colab_type": "code",
        "colab": {}
      },
      "source": [
        "random_integer_list = [random.randint(MIN_INTEGER, MAX_INTEGER) for i in range(0, ROW_COUNT * COLUMN_COUNT)]"
      ],
      "execution_count": 4,
      "outputs": []
    },
    {
      "cell_type": "code",
      "metadata": {
        "id": "xeOBXt36lc7d",
        "colab_type": "code",
        "colab": {
          "base_uri": "https://localhost:8080/",
          "height": 34
        },
        "outputId": "ddb06cdd-6d5b-4ed5-a012-fc933d4370c0"
      },
      "source": [
        "len(random_integer_list)"
      ],
      "execution_count": 5,
      "outputs": [
        {
          "output_type": "execute_result",
          "data": {
            "text/plain": [
              "100"
            ]
          },
          "metadata": {
            "tags": []
          },
          "execution_count": 5
        }
      ]
    },
    {
      "cell_type": "code",
      "metadata": {
        "id": "4CiB3HGdojyn",
        "colab_type": "code",
        "colab": {}
      },
      "source": [
        "def print_border_line():\n",
        "    \"\"\"print_border_line - prints a matrix border line\"\"\"\n",
        "    \n",
        "    # Prefix the border with two border characters\n",
        "    print(BORDER_CHAR + BORDER_CHAR, end = \"\")\n",
        "    \n",
        "    # Print a border line twice the length of the matrix\n",
        "    for i in range(0, COLUMN_COUNT * 2):\n",
        "        print(BORDER_CHAR, end = \"\")\n",
        "\n",
        "    # Suffix the border with a single border character\n",
        "    print(BORDER_CHAR, end = '\\n')"
      ],
      "execution_count": 6,
      "outputs": []
    },
    {
      "cell_type": "code",
      "metadata": {
        "id": "_YRwxf9qo6R7",
        "colab_type": "code",
        "colab": {
          "base_uri": "https://localhost:8080/",
          "height": 34
        },
        "outputId": "4d5baca4-435c-4324-8b9d-1466522151a8"
      },
      "source": [
        "print_border_line()"
      ],
      "execution_count": 7,
      "outputs": [
        {
          "output_type": "stream",
          "text": [
            "***********************\n"
          ],
          "name": "stdout"
        }
      ]
    },
    {
      "cell_type": "code",
      "metadata": {
        "id": "fqJYlpAuScST",
        "colab_type": "code",
        "colab": {}
      },
      "source": [
        "def print_matrix(matrix, border=False, row_totals=False):\n",
        "    \"\"\"print_matrix - prints a provided list as a matrix\"\"\"\n",
        "\n",
        "    if row_totals & (type(matrix[0])==str):\n",
        "        print(\"Matrix rows can only be totaled for number values.\")\n",
        "        return\n",
        "\n",
        "    elif border:\n",
        "\n",
        "        # Print a border line before the matrix\n",
        "        print_border_line()\n",
        "\n",
        "        # Print a matrix using a nested loop to iterate each row printing a value for each column in the row\n",
        "        for i in range (0, ROW_COUNT):\n",
        "\n",
        "            # Prefix the row with a leading border character\n",
        "            print(BORDER_CHAR, end = \" \")\n",
        "\n",
        "            # Print a value for each column in the row\n",
        "            for j in range(0, COLUMN_COUNT):\n",
        "                print(matrix[i * COLUMN_COUNT + j], end = \" \")\n",
        "            \n",
        "            # Suffix the row with a trailing border character\n",
        "            print(BORDER_CHAR, end = \"\\n\")\n",
        "\n",
        "        # Print a border line\n",
        "        print_border_line()\n",
        "\n",
        "    else:   # Print the matrix without a border\n",
        "\n",
        "        # Print a matrix using a nested loop to iterate each row printing a value for each column in the row\n",
        "        for i in range (0, ROW_COUNT):\n",
        "\n",
        "            # Initialize the row total\n",
        "            row_total = 0\n",
        "            \n",
        "            # Print a value for each column in the row\n",
        "            for j in range(0, COLUMN_COUNT):\n",
        "                print(matrix[i * COLUMN_COUNT + j], end = \" \")\n",
        "                if row_totals:\n",
        "                    row_total += matrix[i * COLUMN_COUNT + j]\n",
        "\n",
        "            if row_totals:\n",
        "                # Print a border character to separate the row values from the total\n",
        "                print(BORDER_CHAR, row_total, end = \"\\n\")\n",
        "            else:\n",
        "                # End the row with a new line\n",
        "                print(\"\", end='\\n')\n",
        " "
      ],
      "execution_count": 32,
      "outputs": []
    },
    {
      "cell_type": "markdown",
      "metadata": {
        "id": "7ri8AU9fyZ8_",
        "colab_type": "text"
      },
      "source": [
        "## Print the matrix of random integers without a border"
      ]
    },
    {
      "cell_type": "code",
      "metadata": {
        "id": "56mA5Yn4njZv",
        "colab_type": "code",
        "colab": {
          "base_uri": "https://localhost:8080/",
          "height": 187
        },
        "outputId": "2b10988f-ca27-4fed-9b4c-49a507787da8"
      },
      "source": [
        "print_matrix(random_integer_list)  "
      ],
      "execution_count": 33,
      "outputs": [
        {
          "output_type": "stream",
          "text": [
            "5 8 8 9 9 4 5 9 7 2 \n",
            "4 4 9 0 7 9 3 4 0 5 \n",
            "5 2 1 3 7 9 8 9 9 6 \n",
            "9 2 1 9 0 7 2 0 4 0 \n",
            "4 1 1 7 8 2 8 6 4 7 \n",
            "5 5 0 2 3 8 0 7 9 8 \n",
            "1 4 7 3 4 5 8 9 1 0 \n",
            "1 0 5 9 9 3 1 3 6 8 \n",
            "4 5 6 2 3 3 8 7 6 8 \n",
            "4 8 8 7 7 8 5 2 7 4 \n"
          ],
          "name": "stdout"
        }
      ]
    },
    {
      "cell_type": "code",
      "metadata": {
        "id": "qh1zxH5fxxSn",
        "colab_type": "code",
        "colab": {}
      },
      "source": [
        "def replace_odd_integer(num):\n",
        "    \"\"\"replace_odd_number - Returns the given number as a special character when odd or returns the given number as a string when even\"\"\"\n",
        "\n",
        "    return_char = ODD_NUMBER_CHAR\n",
        "\n",
        "    if num % 2 == 0:\n",
        "        return_char = str(num)\n",
        "\n",
        "    return return_char"
      ],
      "execution_count": 34,
      "outputs": []
    },
    {
      "cell_type": "markdown",
      "metadata": {
        "id": "Ue0Tfv4Tvsvr",
        "colab_type": "text"
      },
      "source": [
        "## Print the matrix of random integers after replacing odd numbers with a special character"
      ]
    },
    {
      "cell_type": "code",
      "metadata": {
        "id": "cNSTge3rvr-U",
        "colab_type": "code",
        "colab": {
          "base_uri": "https://localhost:8080/",
          "height": 187
        },
        "outputId": "80235530-eb18-479f-8dc5-0bf90d2de60d"
      },
      "source": [
        "print_matrix([replace_odd_integer(num) for num in random_integer_list])"
      ],
      "execution_count": 36,
      "outputs": [
        {
          "output_type": "stream",
          "text": [
            "@ 8 8 @ @ 4 @ @ @ 2 \n",
            "4 4 @ 0 @ @ @ 4 0 @ \n",
            "@ 2 @ @ @ @ 8 @ @ 6 \n",
            "@ 2 @ @ 0 @ 2 0 4 0 \n",
            "4 @ @ @ 8 2 8 6 4 @ \n",
            "@ @ 0 2 @ 8 0 @ @ 8 \n",
            "@ 4 @ @ 4 @ 8 @ @ 0 \n",
            "@ 0 @ @ @ @ @ @ 6 8 \n",
            "4 @ 6 2 @ @ 8 @ 6 8 \n",
            "4 8 8 @ @ 8 @ 2 @ 4 \n"
          ],
          "name": "stdout"
        }
      ]
    },
    {
      "cell_type": "markdown",
      "metadata": {
        "id": "F5KhC4860f9h",
        "colab_type": "text"
      },
      "source": [
        "## Print the matrix with totals for each row"
      ]
    },
    {
      "cell_type": "code",
      "metadata": {
        "id": "dTV4H3sn0of-",
        "colab_type": "code",
        "colab": {
          "base_uri": "https://localhost:8080/",
          "height": 187
        },
        "outputId": "ef99f230-e990-48d3-afcd-06af2127708b"
      },
      "source": [
        "print_matrix(random_integer_list, row_totals=True)"
      ],
      "execution_count": 37,
      "outputs": [
        {
          "output_type": "stream",
          "text": [
            "5 8 8 9 9 4 5 9 7 2 * 66\n",
            "4 4 9 0 7 9 3 4 0 5 * 45\n",
            "5 2 1 3 7 9 8 9 9 6 * 59\n",
            "9 2 1 9 0 7 2 0 4 0 * 34\n",
            "4 1 1 7 8 2 8 6 4 7 * 48\n",
            "5 5 0 2 3 8 0 7 9 8 * 47\n",
            "1 4 7 3 4 5 8 9 1 0 * 42\n",
            "1 0 5 9 9 3 1 3 6 8 * 45\n",
            "4 5 6 2 3 3 8 7 6 8 * 52\n",
            "4 8 8 7 7 8 5 2 7 4 * 60\n"
          ],
          "name": "stdout"
        }
      ]
    },
    {
      "cell_type": "markdown",
      "metadata": {
        "colab_type": "text",
        "id": "P9f5uMFMvtVp"
      },
      "source": [
        "## Print the matrix of random integers with a border"
      ]
    },
    {
      "cell_type": "code",
      "metadata": {
        "colab_type": "code",
        "id": "-T-t0rLqvtVr",
        "colab": {
          "base_uri": "https://localhost:8080/",
          "height": 221
        },
        "outputId": "0e6fd724-fb8d-444a-8c56-cf67b5a04120"
      },
      "source": [
        "print_matrix(random_integer_list, border=True)  "
      ],
      "execution_count": 38,
      "outputs": [
        {
          "output_type": "stream",
          "text": [
            "***********************\n",
            "* 5 8 8 9 9 4 5 9 7 2 *\n",
            "* 4 4 9 0 7 9 3 4 0 5 *\n",
            "* 5 2 1 3 7 9 8 9 9 6 *\n",
            "* 9 2 1 9 0 7 2 0 4 0 *\n",
            "* 4 1 1 7 8 2 8 6 4 7 *\n",
            "* 5 5 0 2 3 8 0 7 9 8 *\n",
            "* 1 4 7 3 4 5 8 9 1 0 *\n",
            "* 1 0 5 9 9 3 1 3 6 8 *\n",
            "* 4 5 6 2 3 3 8 7 6 8 *\n",
            "* 4 8 8 7 7 8 5 2 7 4 *\n",
            "***********************\n"
          ],
          "name": "stdout"
        }
      ]
    },
    {
      "cell_type": "markdown",
      "metadata": {
        "id": "oF1x7HFcxFF5",
        "colab_type": "text"
      },
      "source": [
        "# COMPLETE"
      ]
    },
    {
      "cell_type": "code",
      "metadata": {
        "id": "Em9j7wjhxGoD",
        "colab_type": "code",
        "colab": {}
      },
      "source": [
        ""
      ],
      "execution_count": 13,
      "outputs": []
    }
  ]
}