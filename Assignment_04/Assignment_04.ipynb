{
  "nbformat": 4,
  "nbformat_minor": 0,
  "metadata": {
    "colab": {
      "name": "Assignment_04.ipynb",
      "provenance": [],
      "toc_visible": true,
      "authorship_tag": "ABX9TyPXIBQM8GW7oSgky/SdWetP",
      "include_colab_link": true
    },
    "kernelspec": {
      "name": "python3",
      "display_name": "Python 3"
    }
  },
  "cells": [
    {
      "cell_type": "markdown",
      "metadata": {
        "id": "view-in-github",
        "colab_type": "text"
      },
      "source": [
        "<a href=\"https://colab.research.google.com/github/knoppin1/DATA-690-WANG/blob/master/Assignment_04/Assignment_04.ipynb\" target=\"_parent\"><img src=\"https://colab.research.google.com/assets/colab-badge.svg\" alt=\"Open In Colab\"/></a>"
      ]
    },
    {
      "cell_type": "code",
      "metadata": {
        "id": "Z8U5ljtTSW9z",
        "colab_type": "code",
        "colab": {}
      },
      "source": [
        ""
      ],
      "execution_count": null,
      "outputs": []
    },
    {
      "cell_type": "markdown",
      "metadata": {
        "id": "qnwPwzqTSoIr",
        "colab_type": "text"
      },
      "source": [
        "# Assignment 04\n",
        "### Ken Noppinger (knoppin1@umbc.edu)\n",
        "1. Write code to open the text file [census_cost.txt](census_cost.txt) and read all lines into a list named **\"line_list\"**. Print line_list.\n",
        "2. Extract the first two lines and put them in a different list named \"top2_list\". You will need to use them later. Print the top2_list.\n",
        "3. Put the rest of the lines (containing useful data elements) in a new list named \"data_list\". Print data_list.\n",
        "4. Extract the column **\"Census Year\"** from data_list and assign them to a list named **year_list**. Remove the \"*\" from the last element \"2010*\". Print the cleansed year_list.\n",
        "5. Extract the **\"Total Population\"** column from the data_list and assign them to a list named **\"pop_list\"**. Remove the \",\" from the numbers since Python doesn't recognize them. Print the cleansed \"pop_list\".\n",
        "6. Extract the **\"Census Cost\"** column from the data_list and assign them to a list named **\"cost_list\"**. Remove the \",\", and \"\\$\", and \"Billion\".\n",
        "Make sure to add the \"0\"s to the numbers from which you removed \"Billion\". Print the cleansed cost_list.  \n",
        "7. Extract the **\"Average Cost per Person\"** column from the data_list and assign them to a list named **\"avg_list\"**. Remove the \"cents\", and \"$\".\n",
        "Make sure to divide the numbers in cents by 100 so that all numbers are measured in dollar. Print the cleansed avg_list.\n",
        "8. Coalesce the cleansed data and save them to a text file named **\"census_cost.csv\"**. The new file should look similar to the original source file except that it is in comma-delimited format and the numbers have been cleansed. The top two lines from the original file should be retained in the new file.\n",
        "\n",
        "---"
      ]
    },
    {
      "cell_type": "markdown",
      "metadata": {
        "id": "zbbq_AWmVQbi",
        "colab_type": "text"
      },
      "source": [
        "**1 - Line List**\n",
        "- Write code to open the text file census_cost.txt and read all lines into a list named **line_list**. \n",
        "- Print line_list\n",
        "\n"
      ]
    },
    {
      "cell_type": "code",
      "metadata": {
        "id": "UEFFjCyjS0y9",
        "colab_type": "code",
        "colab": {}
      },
      "source": [
        "import io"
      ],
      "execution_count": 1,
      "outputs": []
    },
    {
      "cell_type": "code",
      "metadata": {
        "id": "I3bAZoFcUy-l",
        "colab_type": "code",
        "colab": {}
      },
      "source": [
        "with open(\"census_cost.txt\", \"rt\") as txt_file:\n",
        "    line_list = txt_file.readlines()"
      ],
      "execution_count": 2,
      "outputs": []
    },
    {
      "cell_type": "code",
      "metadata": {
        "id": "atze_6NvU-Sk",
        "colab_type": "code",
        "colab": {
          "base_uri": "https://localhost:8080/",
          "height": 34
        },
        "outputId": "1833f1ef-5247-4b56-ac44-324f14ba61de"
      },
      "source": [
        "type(line_list)"
      ],
      "execution_count": 3,
      "outputs": [
        {
          "output_type": "execute_result",
          "data": {
            "text/plain": [
              "list"
            ]
          },
          "metadata": {
            "tags": []
          },
          "execution_count": 3
        }
      ]
    },
    {
      "cell_type": "code",
      "metadata": {
        "id": "XnlmDf-VVCvn",
        "colab_type": "code",
        "colab": {
          "base_uri": "https://localhost:8080/",
          "height": 461
        },
        "outputId": "29e88eb8-4e1c-4f8a-d670-6a9b6a40e7bb"
      },
      "source": [
        "line_list"
      ],
      "execution_count": 4,
      "outputs": [
        {
          "output_type": "execute_result",
          "data": {
            "text/plain": [
              "['Source: https://www.genealogybranches.com/censuscosts.html\\n',\n",
              " 'Census Year\\tTotal Population\\tCensus Cost\\tAverage Cost Per Person\\n',\n",
              " '1790\\t3,929,214\\t$44,377\\t1.13 cents\\n',\n",
              " '1800\\t5,308,483\\t$66,109\\t1.24 cents\\n',\n",
              " '1810\\t7,239,881\\t$178,445\\t2.46 cents\\n',\n",
              " '1820\\t9,633,822\\t$208,526\\t2.16 cents\\n',\n",
              " '1830\\t12,866,020\\t$378,545\\t2.94 cents\\n',\n",
              " '1840\\t17,069,458\\t$833,371\\t4.88 cents\\n',\n",
              " '1850\\t23,191,876\\t$1,423,351\\t6.14 cents\\n',\n",
              " '1860\\t31,443,321\\t$1,969,377\\t6.26 cents\\n',\n",
              " '1870\\t38,558,371\\t$3,421,198\\t8.87 cents\\n',\n",
              " '1880\\t50,155,783\\t$5,790,678\\t11.54 cents\\n',\n",
              " '1890\\t62,979,766\\t$11,547,127\\t18.33 cents\\n',\n",
              " '1900\\t76,303,387\\t$11,854,000\\t15.54 cents\\n',\n",
              " '1910\\t91,972,266\\t$15,968,000\\t17.07 cents\\n',\n",
              " '1920\\t105,710,620\\t$25,117,000\\t23.76 cents\\n',\n",
              " '1930\\t122,775,046\\t$40,156,000\\t32.71 cents\\n',\n",
              " '1940\\t131,669,275\\t$67,527,000\\t51.29 cents\\n',\n",
              " '1950\\t151,325,798\\t$91,462,000\\t60.44 cents\\n',\n",
              " '1960\\t179,323,175\\t$127,934,000\\t71.34 cents\\n',\n",
              " '1970\\t203,302,031\\t$247,653,000\\t$1.22\\n',\n",
              " '1980\\t226,542,199\\t$1,078,488,000\\t$4.76\\n',\n",
              " '1990\\t248,718,301\\t$2,492,830,000\\t$10.02\\n',\n",
              " '2000\\t281,421,906\\t$4.5 Billion\\t$15.99\\n',\n",
              " '2010*\\t308,745,538\\t$13 Billion\\t$42.11']"
            ]
          },
          "metadata": {
            "tags": []
          },
          "execution_count": 4
        }
      ]
    },
    {
      "cell_type": "code",
      "metadata": {
        "id": "hBh6jaF2XQpO",
        "colab_type": "code",
        "colab": {
          "base_uri": "https://localhost:8080/",
          "height": 887
        },
        "outputId": "0140862f-8463-4d0f-d8fa-0a108125787d"
      },
      "source": [
        "for line in line_list:\n",
        "    print(line)"
      ],
      "execution_count": 5,
      "outputs": [
        {
          "output_type": "stream",
          "text": [
            "Source: https://www.genealogybranches.com/censuscosts.html\n",
            "\n",
            "Census Year\tTotal Population\tCensus Cost\tAverage Cost Per Person\n",
            "\n",
            "1790\t3,929,214\t$44,377\t1.13 cents\n",
            "\n",
            "1800\t5,308,483\t$66,109\t1.24 cents\n",
            "\n",
            "1810\t7,239,881\t$178,445\t2.46 cents\n",
            "\n",
            "1820\t9,633,822\t$208,526\t2.16 cents\n",
            "\n",
            "1830\t12,866,020\t$378,545\t2.94 cents\n",
            "\n",
            "1840\t17,069,458\t$833,371\t4.88 cents\n",
            "\n",
            "1850\t23,191,876\t$1,423,351\t6.14 cents\n",
            "\n",
            "1860\t31,443,321\t$1,969,377\t6.26 cents\n",
            "\n",
            "1870\t38,558,371\t$3,421,198\t8.87 cents\n",
            "\n",
            "1880\t50,155,783\t$5,790,678\t11.54 cents\n",
            "\n",
            "1890\t62,979,766\t$11,547,127\t18.33 cents\n",
            "\n",
            "1900\t76,303,387\t$11,854,000\t15.54 cents\n",
            "\n",
            "1910\t91,972,266\t$15,968,000\t17.07 cents\n",
            "\n",
            "1920\t105,710,620\t$25,117,000\t23.76 cents\n",
            "\n",
            "1930\t122,775,046\t$40,156,000\t32.71 cents\n",
            "\n",
            "1940\t131,669,275\t$67,527,000\t51.29 cents\n",
            "\n",
            "1950\t151,325,798\t$91,462,000\t60.44 cents\n",
            "\n",
            "1960\t179,323,175\t$127,934,000\t71.34 cents\n",
            "\n",
            "1970\t203,302,031\t$247,653,000\t$1.22\n",
            "\n",
            "1980\t226,542,199\t$1,078,488,000\t$4.76\n",
            "\n",
            "1990\t248,718,301\t$2,492,830,000\t$10.02\n",
            "\n",
            "2000\t281,421,906\t$4.5 Billion\t$15.99\n",
            "\n",
            "2010*\t308,745,538\t$13 Billion\t$42.11\n"
          ],
          "name": "stdout"
        }
      ]
    },
    {
      "cell_type": "markdown",
      "metadata": {
        "id": "xXh9KmnkVkBr",
        "colab_type": "text"
      },
      "source": [
        "---\n",
        "**2 - Top2 List**\n",
        "- Extract the first two lines and put them in a different list named **top2_list**. \n",
        "- Print the top2_list."
      ]
    },
    {
      "cell_type": "code",
      "metadata": {
        "id": "JI3HY-TaVE78",
        "colab_type": "code",
        "colab": {}
      },
      "source": [
        "top2_list = line_list[:2]"
      ],
      "execution_count": 6,
      "outputs": []
    },
    {
      "cell_type": "code",
      "metadata": {
        "id": "AofCUOmYVzV7",
        "colab_type": "code",
        "colab": {
          "base_uri": "https://localhost:8080/",
          "height": 87
        },
        "outputId": "258921c6-955d-4f49-a2ec-59cdd2a13a34"
      },
      "source": [
        "for line in top2_list:\n",
        "    print(line)"
      ],
      "execution_count": 7,
      "outputs": [
        {
          "output_type": "stream",
          "text": [
            "Source: https://www.genealogybranches.com/censuscosts.html\n",
            "\n",
            "Census Year\tTotal Population\tCensus Cost\tAverage Cost Per Person\n",
            "\n"
          ],
          "name": "stdout"
        }
      ]
    },
    {
      "cell_type": "markdown",
      "metadata": {
        "id": "y_omEIADWHAg",
        "colab_type": "text"
      },
      "source": [
        "---\n",
        "**3 - Data List**\n",
        "- Put the rest of the lines (containing useful data elements) in a new list named **data_list**. \n",
        "- Print data_list."
      ]
    },
    {
      "cell_type": "code",
      "metadata": {
        "id": "EkWGDiquV0uJ",
        "colab_type": "code",
        "colab": {}
      },
      "source": [
        "data_list = line_list[2:]"
      ],
      "execution_count": 8,
      "outputs": []
    },
    {
      "cell_type": "code",
      "metadata": {
        "id": "mJ0BSxOYWRi3",
        "colab_type": "code",
        "colab": {
          "base_uri": "https://localhost:8080/",
          "height": 816
        },
        "outputId": "1be9318d-f581-4894-a5be-299628e82652"
      },
      "source": [
        "for line in data_list:\n",
        "    print(line)"
      ],
      "execution_count": 9,
      "outputs": [
        {
          "output_type": "stream",
          "text": [
            "1790\t3,929,214\t$44,377\t1.13 cents\n",
            "\n",
            "1800\t5,308,483\t$66,109\t1.24 cents\n",
            "\n",
            "1810\t7,239,881\t$178,445\t2.46 cents\n",
            "\n",
            "1820\t9,633,822\t$208,526\t2.16 cents\n",
            "\n",
            "1830\t12,866,020\t$378,545\t2.94 cents\n",
            "\n",
            "1840\t17,069,458\t$833,371\t4.88 cents\n",
            "\n",
            "1850\t23,191,876\t$1,423,351\t6.14 cents\n",
            "\n",
            "1860\t31,443,321\t$1,969,377\t6.26 cents\n",
            "\n",
            "1870\t38,558,371\t$3,421,198\t8.87 cents\n",
            "\n",
            "1880\t50,155,783\t$5,790,678\t11.54 cents\n",
            "\n",
            "1890\t62,979,766\t$11,547,127\t18.33 cents\n",
            "\n",
            "1900\t76,303,387\t$11,854,000\t15.54 cents\n",
            "\n",
            "1910\t91,972,266\t$15,968,000\t17.07 cents\n",
            "\n",
            "1920\t105,710,620\t$25,117,000\t23.76 cents\n",
            "\n",
            "1930\t122,775,046\t$40,156,000\t32.71 cents\n",
            "\n",
            "1940\t131,669,275\t$67,527,000\t51.29 cents\n",
            "\n",
            "1950\t151,325,798\t$91,462,000\t60.44 cents\n",
            "\n",
            "1960\t179,323,175\t$127,934,000\t71.34 cents\n",
            "\n",
            "1970\t203,302,031\t$247,653,000\t$1.22\n",
            "\n",
            "1980\t226,542,199\t$1,078,488,000\t$4.76\n",
            "\n",
            "1990\t248,718,301\t$2,492,830,000\t$10.02\n",
            "\n",
            "2000\t281,421,906\t$4.5 Billion\t$15.99\n",
            "\n",
            "2010*\t308,745,538\t$13 Billion\t$42.11\n"
          ],
          "name": "stdout"
        }
      ]
    },
    {
      "cell_type": "markdown",
      "metadata": {
        "id": "Z2vHEDDjWcQo",
        "colab_type": "text"
      },
      "source": [
        "---\n",
        "**4 - Census Year**\n",
        "- Extract the column **\"Census Year\"** from data_list and assign them to a list named **year_list**. \n",
        "- Remove the \"*\" from the last element \"2010*\". \n",
        "- Print the cleansed year_list."
      ]
    },
    {
      "cell_type": "code",
      "metadata": {
        "id": "NGGrGlydWSOH",
        "colab_type": "code",
        "colab": {
          "base_uri": "https://localhost:8080/",
          "height": 425
        },
        "outputId": "2454bd2f-f356-45ed-cafe-28e6ee2eeea5"
      },
      "source": [
        "year_list = []\n",
        "for line in data_list:\n",
        "    # Census Year is the first field in each line\n",
        "    year_list.append(line.strip(\"\\n\").split('\\t')[0].strip('*'))\n",
        "year_list"
      ],
      "execution_count": 10,
      "outputs": [
        {
          "output_type": "execute_result",
          "data": {
            "text/plain": [
              "['1790',\n",
              " '1800',\n",
              " '1810',\n",
              " '1820',\n",
              " '1830',\n",
              " '1840',\n",
              " '1850',\n",
              " '1860',\n",
              " '1870',\n",
              " '1880',\n",
              " '1890',\n",
              " '1900',\n",
              " '1910',\n",
              " '1920',\n",
              " '1930',\n",
              " '1940',\n",
              " '1950',\n",
              " '1960',\n",
              " '1970',\n",
              " '1980',\n",
              " '1990',\n",
              " '2000',\n",
              " '2010']"
            ]
          },
          "metadata": {
            "tags": []
          },
          "execution_count": 10
        }
      ]
    },
    {
      "cell_type": "code",
      "metadata": {
        "id": "ro0GgprRewfa",
        "colab_type": "code",
        "colab": {
          "base_uri": "https://localhost:8080/",
          "height": 425
        },
        "outputId": "05fd74a9-cf77-4635-b745-26b33c686e1a"
      },
      "source": [
        "for year in year_list:\n",
        "    print(year)"
      ],
      "execution_count": 11,
      "outputs": [
        {
          "output_type": "stream",
          "text": [
            "1790\n",
            "1800\n",
            "1810\n",
            "1820\n",
            "1830\n",
            "1840\n",
            "1850\n",
            "1860\n",
            "1870\n",
            "1880\n",
            "1890\n",
            "1900\n",
            "1910\n",
            "1920\n",
            "1930\n",
            "1940\n",
            "1950\n",
            "1960\n",
            "1970\n",
            "1980\n",
            "1990\n",
            "2000\n",
            "2010\n"
          ],
          "name": "stdout"
        }
      ]
    },
    {
      "cell_type": "markdown",
      "metadata": {
        "id": "x3FvrmT3Z2n1",
        "colab_type": "text"
      },
      "source": [
        "---\n",
        "**5 - Total Population**\n",
        "- Extract the **\"Total Population\"** column from the data_list and assign them to a list named **pop_list**. \n",
        "- Remove the \",\" from the numbers since Python doesn't recognize them.\n",
        "- Print the cleansed \"pop_list\"."
      ]
    },
    {
      "cell_type": "code",
      "metadata": {
        "id": "EKKTgQOpYdZU",
        "colab_type": "code",
        "colab": {
          "base_uri": "https://localhost:8080/",
          "height": 425
        },
        "outputId": "726651de-99dc-4057-9c10-0fa37d06d126"
      },
      "source": [
        "pop_list = []\n",
        "for line in data_list:\n",
        "    # Total population is the second field in each line\n",
        "    pop_list.append(line.strip(\"\\n\").split('\\t')[1].replace(\",\",\"\"))\n",
        "pop_list"
      ],
      "execution_count": 12,
      "outputs": [
        {
          "output_type": "execute_result",
          "data": {
            "text/plain": [
              "['3929214',\n",
              " '5308483',\n",
              " '7239881',\n",
              " '9633822',\n",
              " '12866020',\n",
              " '17069458',\n",
              " '23191876',\n",
              " '31443321',\n",
              " '38558371',\n",
              " '50155783',\n",
              " '62979766',\n",
              " '76303387',\n",
              " '91972266',\n",
              " '105710620',\n",
              " '122775046',\n",
              " '131669275',\n",
              " '151325798',\n",
              " '179323175',\n",
              " '203302031',\n",
              " '226542199',\n",
              " '248718301',\n",
              " '281421906',\n",
              " '308745538']"
            ]
          },
          "metadata": {
            "tags": []
          },
          "execution_count": 12
        }
      ]
    },
    {
      "cell_type": "code",
      "metadata": {
        "id": "L8pzWLH6fvu7",
        "colab_type": "code",
        "colab": {
          "base_uri": "https://localhost:8080/",
          "height": 425
        },
        "outputId": "8af38587-cf3b-498b-c293-009598add134"
      },
      "source": [
        "for pop in pop_list:\n",
        "    print(pop)"
      ],
      "execution_count": 13,
      "outputs": [
        {
          "output_type": "stream",
          "text": [
            "3929214\n",
            "5308483\n",
            "7239881\n",
            "9633822\n",
            "12866020\n",
            "17069458\n",
            "23191876\n",
            "31443321\n",
            "38558371\n",
            "50155783\n",
            "62979766\n",
            "76303387\n",
            "91972266\n",
            "105710620\n",
            "122775046\n",
            "131669275\n",
            "151325798\n",
            "179323175\n",
            "203302031\n",
            "226542199\n",
            "248718301\n",
            "281421906\n",
            "308745538\n"
          ],
          "name": "stdout"
        }
      ]
    },
    {
      "cell_type": "markdown",
      "metadata": {
        "id": "tkeOiwcuf3a_",
        "colab_type": "text"
      },
      "source": [
        "---\n",
        "6 - Cost List\n",
        "- Extract the **\"Census Cost\"** column from the data_list and assign them to a list named **cost_list**. \n",
        "- Remove the \",\", \"\\$\", and \"Billion\".\n",
        "Make sure to add the \"0\"s to the numbers where \"Billion\" is removed.\n",
        "- Print the cleansed cost_list. "
      ]
    },
    {
      "cell_type": "code",
      "metadata": {
        "id": "_8i-F9LTi1Zh",
        "colab_type": "code",
        "colab": {}
      },
      "source": [
        "def replace_billion(cost_string):\n",
        "\n",
        "    # Remove blanks\n",
        "    clean_cost = cost_string.replace(\" \",\"\")\n",
        "\n",
        "    # Replace \"Billion\" with nine zeros\n",
        "    clean_cost = clean_cost.replace(\"Billion\",\"000000000\")\n",
        "\n",
        "    # Remove decimal point \".\"\n",
        "    clean_cost = clean_cost.replace(\".\",\"\")\n",
        "    return clean_cost"
      ],
      "execution_count": 14,
      "outputs": []
    },
    {
      "cell_type": "code",
      "metadata": {
        "id": "0ReR7oCGaa1C",
        "colab_type": "code",
        "colab": {
          "base_uri": "https://localhost:8080/",
          "height": 425
        },
        "outputId": "b7cfaa9e-b5f2-4297-b571-32c84e1af0e0"
      },
      "source": [
        "cost_list = []\n",
        "for line in data_list:\n",
        "\n",
        "    # Census Cost is the third field in each line\n",
        "    cost_list.append(line.strip(\"\\n\").split('\\t')[2].replace(\",\",\"\").replace(\"$\",\"\"))\n",
        "    \n",
        "# Replace cost values containing \"Billion\"\n",
        "cost_list = [replace_billion(cost) for cost in cost_list]\n",
        "cost_list"
      ],
      "execution_count": 15,
      "outputs": [
        {
          "output_type": "execute_result",
          "data": {
            "text/plain": [
              "['44377',\n",
              " '66109',\n",
              " '178445',\n",
              " '208526',\n",
              " '378545',\n",
              " '833371',\n",
              " '1423351',\n",
              " '1969377',\n",
              " '3421198',\n",
              " '5790678',\n",
              " '11547127',\n",
              " '11854000',\n",
              " '15968000',\n",
              " '25117000',\n",
              " '40156000',\n",
              " '67527000',\n",
              " '91462000',\n",
              " '127934000',\n",
              " '247653000',\n",
              " '1078488000',\n",
              " '2492830000',\n",
              " '45000000000',\n",
              " '13000000000']"
            ]
          },
          "metadata": {
            "tags": []
          },
          "execution_count": 15
        }
      ]
    },
    {
      "cell_type": "code",
      "metadata": {
        "id": "QBRsY33khY07",
        "colab_type": "code",
        "colab": {
          "base_uri": "https://localhost:8080/",
          "height": 425
        },
        "outputId": "64cf2fde-0255-40c3-fb80-10df6167c2e9"
      },
      "source": [
        "for cost in cost_list:\n",
        "    print(cost)"
      ],
      "execution_count": 16,
      "outputs": [
        {
          "output_type": "stream",
          "text": [
            "44377\n",
            "66109\n",
            "178445\n",
            "208526\n",
            "378545\n",
            "833371\n",
            "1423351\n",
            "1969377\n",
            "3421198\n",
            "5790678\n",
            "11547127\n",
            "11854000\n",
            "15968000\n",
            "25117000\n",
            "40156000\n",
            "67527000\n",
            "91462000\n",
            "127934000\n",
            "247653000\n",
            "1078488000\n",
            "2492830000\n",
            "45000000000\n",
            "13000000000\n"
          ],
          "name": "stdout"
        }
      ]
    },
    {
      "cell_type": "markdown",
      "metadata": {
        "id": "3KYzqmBllI2y",
        "colab_type": "text"
      },
      "source": [
        "---\n",
        "**7 - Avg List**\n",
        "- Extract the **\"Average Cost per Person\"** column from the data_list and assign them to a list named **avg_list**. \n",
        "- Remove the \"cents\", and \"$\". Make sure to divide the numbers in cents by 100 so that all numbers are measured in dollar. \n",
        "- Print the cleansed avg_list."
      ]
    },
    {
      "cell_type": "code",
      "metadata": {
        "id": "YRV_DpbimGV3",
        "colab_type": "code",
        "colab": {}
      },
      "source": [
        "def replace_cents(cost_string):\n",
        "\n",
        "    # Remove blanks\n",
        "    clean_cost = cost_string #.replace(\" \",\"\")\n",
        "\n",
        "    # Replace \"cents\" by removing the word and dividing cost by 100\n",
        "    if \"cents\" in clean_cost.split():\n",
        "        clean_cost = clean_cost.replace(\"cents\",\"\")\n",
        "        clean_cost = str(\"{:.4f}\".format(float(clean_cost)/100))\n",
        "\n",
        "    return clean_cost"
      ],
      "execution_count": 17,
      "outputs": []
    },
    {
      "cell_type": "code",
      "metadata": {
        "id": "s3C6l2R0hxMm",
        "colab_type": "code",
        "colab": {
          "base_uri": "https://localhost:8080/",
          "height": 425
        },
        "outputId": "5cfa2e1d-0945-45fe-9c96-730b16508216"
      },
      "source": [
        "avg_list = []\n",
        "for line in data_list:\n",
        "\n",
        "    # Census Cost is the third field in each line\n",
        "    avg_list.append(line.strip(\"\\n\").split('\\t')[3].replace(\"$\",\"\"))\n",
        "    \n",
        "# Replace cost values containing \"Billion\"\n",
        "avg_list = [replace_cents(cost) for cost in avg_list]\n",
        "avg_list"
      ],
      "execution_count": 18,
      "outputs": [
        {
          "output_type": "execute_result",
          "data": {
            "text/plain": [
              "['0.0113',\n",
              " '0.0124',\n",
              " '0.0246',\n",
              " '0.0216',\n",
              " '0.0294',\n",
              " '0.0488',\n",
              " '0.0614',\n",
              " '0.0626',\n",
              " '0.0887',\n",
              " '0.1154',\n",
              " '0.1833',\n",
              " '0.1554',\n",
              " '0.1707',\n",
              " '0.2376',\n",
              " '0.3271',\n",
              " '0.5129',\n",
              " '0.6044',\n",
              " '0.7134',\n",
              " '1.22',\n",
              " '4.76',\n",
              " '10.02',\n",
              " '15.99',\n",
              " '42.11']"
            ]
          },
          "metadata": {
            "tags": []
          },
          "execution_count": 18
        }
      ]
    },
    {
      "cell_type": "code",
      "metadata": {
        "id": "DL76gQAcm2Qo",
        "colab_type": "code",
        "colab": {
          "base_uri": "https://localhost:8080/",
          "height": 425
        },
        "outputId": "affeb54e-9f56-483d-d108-f9f0fd909cd9"
      },
      "source": [
        "for avg_cost in avg_list:\n",
        "    print(avg_cost)"
      ],
      "execution_count": 19,
      "outputs": [
        {
          "output_type": "stream",
          "text": [
            "0.0113\n",
            "0.0124\n",
            "0.0246\n",
            "0.0216\n",
            "0.0294\n",
            "0.0488\n",
            "0.0614\n",
            "0.0626\n",
            "0.0887\n",
            "0.1154\n",
            "0.1833\n",
            "0.1554\n",
            "0.1707\n",
            "0.2376\n",
            "0.3271\n",
            "0.5129\n",
            "0.6044\n",
            "0.7134\n",
            "1.22\n",
            "4.76\n",
            "10.02\n",
            "15.99\n",
            "42.11\n"
          ],
          "name": "stdout"
        }
      ]
    },
    {
      "cell_type": "markdown",
      "metadata": {
        "id": "h6y_dYwJq272",
        "colab_type": "text"
      },
      "source": [
        "---\n",
        "**8 - CSV File**\n",
        "- Coalesce the cleansed data and save them to a text file named **census_cost.csv**.\n",
        "- The new file should look similar to the original source file except that it is in comma-delimited format and the numbers have been cleansed. \n",
        "- The top two lines from the original file should be retained in the new file."
      ]
    },
    {
      "cell_type": "code",
      "metadata": {
        "id": "MTgYNaROqrv1",
        "colab_type": "code",
        "colab": {}
      },
      "source": [
        "# Write the cleansed data to a CSV file\n",
        "COMMA = ','\n",
        "with open(\"census_cost.csv\", \"w\") as csv_file:\n",
        "\n",
        "    # Print top 2 lines\n",
        "    for line in top2_list:\n",
        "\n",
        "        # Replace tabs with commas\n",
        "        csv_file.write(line.replace('\\t',COMMA))\n",
        "\n",
        "    # Print each line of the cleansed data list in CSV format\n",
        "    for i in range(0,len(data_list)):\n",
        "        csv_line = year_list[i] + COMMA+ pop_list[i] + COMMA + cost_list[i] + COMMA + avg_list[i] + '\\n'\n",
        "        csv_file.write(csv_line)"
      ],
      "execution_count": 20,
      "outputs": []
    },
    {
      "cell_type": "markdown",
      "metadata": {
        "id": "zbwFZy2GwDbe",
        "colab_type": "text"
      },
      "source": [
        "# COMPLETE"
      ]
    }
  ]
}