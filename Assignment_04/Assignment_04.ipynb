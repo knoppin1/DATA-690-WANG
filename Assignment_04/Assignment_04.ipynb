{
  "nbformat": 4,
  "nbformat_minor": 0,
  "metadata": {
    "colab": {
      "name": "Assignment_04",
      "provenance": [],
      "collapsed_sections": [],
      "authorship_tag": "ABX9TyMxZDgMU1xPN8lCfOS8U5+j",
      "include_colab_link": true
    },
    "kernelspec": {
      "name": "python3",
      "display_name": "Python 3"
    }
  },
  "cells": [
    {
      "cell_type": "markdown",
      "metadata": {
        "id": "view-in-github",
        "colab_type": "text"
      },
      "source": [
        "<a href=\"https://colab.research.google.com/github/knoppin1/DATA-690-WANG/blob/master/Assignment_04/Assignment_04.ipynb\" target=\"_parent\"><img src=\"https://colab.research.google.com/assets/colab-badge.svg\" alt=\"Open In Colab\"/></a>"
      ]
    },
    {
      "cell_type": "markdown",
      "metadata": {
        "id": "wv9XEhcL-Hyv",
        "colab_type": "text"
      },
      "source": [
        "# Assignment 4\n",
        "\n",
        "### Ken Noppinger (knoppin1@umbc.edu)\n",
        "\n",
        "- Explore College Scorecard website - https://collegescorecard.ed.gov/\n",
        "- Explore College Scorecard Data web page - https://collegescorecard.ed.gov/data/\n",
        "- Download and skim the documentation - https://collegescorecard.ed.gov/assets/FullDataDocumentation.pdf\n",
        "- Download the dataset - https://ed-public-download.app.cloud.gov/downloads/CollegeScorecard_Raw_Data.zip (265MB Zip File)\n",
        "- Unzip the file into a folder (there are many files, one for each school year)\n",
        "- Import the 2017-2018 school year file \"MERGED2017_18_PP.csv\" and explore:\n",
        "\n",
        "    - How many colleges or rows?\n",
        "    - How many variables or columns?\n",
        "    - Look at the first 20 rows\n",
        "    - Look at the last 20 rows\n",
        "    - Look at a random sample of 20 rows\n",
        "\n",
        " There are too many variables to explore, many of which are not interesting. \n",
        "\n",
        " So, modify your import statement to only import the following 9 variables:\n",
        "\n",
        "    - UNITID\n",
        "    - INSTNM\n",
        "    - CITY\n",
        "    - STABBR\n",
        "    - ZIP\n",
        "    - ADM_RATE\n",
        "    - UGDS\n",
        "    - TUITIONFEE_IN\n",
        "    - MN_EARN_WNE_P10\n",
        "\n",
        "- Download and read the data dictionary file - https://collegescorecard.ed.gov/assets/CollegeScorecardDataDictionary.xlsx\n",
        "\n",
        " Find out the definition of the above 9 variables and document the definitions in the Jupyter Notebook so that the readers will not need to repeat the research to know the meaning of these variables.\n",
        "\n",
        "---"
      ]
    },
    {
      "cell_type": "code",
      "metadata": {
        "id": "BMr_UGJj-FER",
        "colab_type": "code",
        "colab": {}
      },
      "source": [
        "# Import libraries"
      ],
      "execution_count": null,
      "outputs": []
    },
    {
      "cell_type": "code",
      "metadata": {
        "id": "An4tUhd4AZBL",
        "colab_type": "code",
        "colab": {}
      },
      "source": [
        "# load the 2017-2018 school year file \"MERGED2017_18_PP.csv\" "
      ],
      "execution_count": null,
      "outputs": []
    },
    {
      "cell_type": "code",
      "metadata": {
        "id": "qUMo0sZvAcHA",
        "colab_type": "code",
        "colab": {}
      },
      "source": [
        "# Find out how many colleges or rows?   \n",
        "# Find out how many variables or columns? "
      ],
      "execution_count": null,
      "outputs": []
    },
    {
      "cell_type": "code",
      "metadata": {
        "id": "VpIozh60AhUY",
        "colab_type": "code",
        "colab": {}
      },
      "source": [
        "# Look at the first 20 rows "
      ],
      "execution_count": null,
      "outputs": []
    },
    {
      "cell_type": "code",
      "metadata": {
        "id": "-JHYUCCXAk7Z",
        "colab_type": "code",
        "colab": {}
      },
      "source": [
        "# Look at the last 20 rows "
      ],
      "execution_count": null,
      "outputs": []
    },
    {
      "cell_type": "code",
      "metadata": {
        "id": "WudhnDjPApo-",
        "colab_type": "code",
        "colab": {}
      },
      "source": [
        "# Look at a random sample of 20 rows "
      ],
      "execution_count": null,
      "outputs": []
    },
    {
      "cell_type": "markdown",
      "metadata": {
        "id": "fsq7Qu9fA0UF",
        "colab_type": "text"
      },
      "source": [
        "Read (with naked eyes, not computer) the dictionary and find out the definitions of the following 12 columns and copy the text next to the column name.\n",
        "*   UNITID: (definition here)\n",
        "*   INSTNM:\n",
        "*   CITY:\n",
        "*   ZIP:\n",
        "*   STABBR:\n",
        "*   ADM_RATE:\n",
        "*   UGDS:\n",
        "*   TUITIONFEE_IN:\n",
        "*   MN_EARN_WNE_P10:\n",
        "\n"
      ]
    },
    {
      "cell_type": "code",
      "metadata": {
        "id": "6iURayW1AtX-",
        "colab_type": "code",
        "colab": {}
      },
      "source": [
        "# Re-import the data with above 9 columns (ignore all other variables)"
      ],
      "execution_count": null,
      "outputs": []
    },
    {
      "cell_type": "code",
      "metadata": {
        "id": "ZdDJDOghBp9k",
        "colab_type": "code",
        "colab": {}
      },
      "source": [
        "# Find out the 10 colleges that are hardest to get in (top 10)"
      ],
      "execution_count": null,
      "outputs": []
    },
    {
      "cell_type": "code",
      "metadata": {
        "id": "EYe-eJ9zCMhb",
        "colab_type": "code",
        "colab": {}
      },
      "source": [
        "# Find out the average in-state tuition of top 10"
      ],
      "execution_count": null,
      "outputs": []
    },
    {
      "cell_type": "code",
      "metadata": {
        "id": "pOQWw-8yCQ1v",
        "colab_type": "code",
        "colab": {}
      },
      "source": [
        "# Find out the average earnings of graduates from the top 10"
      ],
      "execution_count": null,
      "outputs": []
    },
    {
      "cell_type": "code",
      "metadata": {
        "id": "qNBMnvZ-CY9_",
        "colab_type": "code",
        "colab": {}
      },
      "source": [
        "# Find out the 10 colleges that are easiest to get in (bottom 10)"
      ],
      "execution_count": null,
      "outputs": []
    },
    {
      "cell_type": "code",
      "metadata": {
        "id": "8hjy4_1LCacR",
        "colab_type": "code",
        "colab": {}
      },
      "source": [
        "# Find out the average in-state tuition of the bottom 10"
      ],
      "execution_count": null,
      "outputs": []
    },
    {
      "cell_type": "code",
      "metadata": {
        "id": "5O5FnNnxCfGt",
        "colab_type": "code",
        "colab": {}
      },
      "source": [
        "# Find out the average earnings of graduates from the bottom 10"
      ],
      "execution_count": null,
      "outputs": []
    },
    {
      "cell_type": "code",
      "metadata": {
        "id": "c1UKhj3WCjsf",
        "colab_type": "code",
        "colab": {}
      },
      "source": [
        ""
      ],
      "execution_count": null,
      "outputs": []
    }
  ]
}