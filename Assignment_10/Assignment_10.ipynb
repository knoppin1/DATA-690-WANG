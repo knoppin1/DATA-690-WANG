{
  "nbformat": 4,
  "nbformat_minor": 0,
  "metadata": {
    "kernelspec": {
      "display_name": "Python 3",
      "language": "python",
      "name": "python3"
    },
    "language_info": {
      "codemirror_mode": {
        "name": "ipython",
        "version": 3
      },
      "file_extension": ".py",
      "mimetype": "text/x-python",
      "name": "python",
      "nbconvert_exporter": "python",
      "pygments_lexer": "ipython3",
      "version": "3.7.1"
    },
    "colab": {
      "name": "Assignment_10.ipynb",
      "provenance": [],
      "include_colab_link": true
    }
  },
  "cells": [
    {
      "cell_type": "markdown",
      "metadata": {
        "id": "view-in-github",
        "colab_type": "text"
      },
      "source": [
        "<a href=\"https://colab.research.google.com/github/knoppin1/DATA-690-WANG/blob/master/Assignment_10/Assignment_10.ipynb\" target=\"_parent\"><img src=\"https://colab.research.google.com/assets/colab-badge.svg\" alt=\"Open In Colab\"/></a>"
      ]
    },
    {
      "cell_type": "markdown",
      "metadata": {
        "id": "QO-ZnKTTvwjM"
      },
      "source": [
        "### Assignment # 10 - Point Estimate and Interval Estimate (Confidence Interval)\n",
        "\n",
        "A random survey of enrollment at **35** community colleges across the United States yielded the following figures: \n",
        "\n",
        "6,414; 1,550; 2,109; 9,350; 21,828; 4,300; 5,944; 5,722; 2,825; 2,044;\n",
        "\n",
        "5,481; 5,200; 5,853; 2,750; 10,012; 6,357; 27,000; 9,414; 7,681; 3,200; \n",
        "\n",
        "17,500; 9,200; 7,380; 18,314; 6,557; 13,713; 17,768; 7,493; 2,771; 2,861; \n",
        "\n",
        "1,263; 7,285; 28,165; 5,080; 11,622\n",
        "\n",
        "Perform point estimate and interval estimate with **95% confidence level** using **t-distribution**.\n",
        "\n",
        "Since we don't know the population variance, we use t-distribiution instead of normal distribution."
      ]
    },
    {
      "cell_type": "code",
      "metadata": {
        "id": "RQBJ3BvgvwjO"
      },
      "source": [
        "# Import Python packages\n",
        "\n",
        "import math\n",
        "import pandas as pd\n",
        "import numpy as np\n",
        "import matplotlib.pyplot as plt"
      ],
      "execution_count": 1,
      "outputs": []
    },
    {
      "cell_type": "markdown",
      "metadata": {
        "id": "yGj7WnubvwjP"
      },
      "source": [
        "### Step 0 - Data Preprocessing \n",
        "\n",
        "Process the raw data to make a list of integers. In order to calculate descriptive statistic, Python needs to work with a list of numbers."
      ]
    },
    {
      "cell_type": "code",
      "metadata": {
        "id": "FKeAFctVvwjP",
        "outputId": "3c679261-c8aa-4f4e-971c-9be016e1762c"
      },
      "source": [
        "# make each line of numbers a string object and then concatenate them together \n",
        "# The end result is one single string containing 35 numbers separated by \";\"\n",
        "\n",
        "data_1 = \"6,414; 1,550; 2,109; 9,350; 21,828; 4,300; 5,944; 5,722; 2,825; 2,044;\" \n",
        "data_2 = \"5,481; 5,200; 5,853; 2,750; 10,012; 6,357; 27,000; 9,414; 7,681; 3,200; \"\n",
        "data_3 = \"17,500; 9,200; 7,380; 18,314; 6,557; 13,713; 17,768; 7,493; 2,771; 2,861; \"\n",
        "data_4 = \"1,263; 7,285; 28,165; 5,080; 11,622\"\n",
        "data = data_1 + data_2 + data_3 + data_4\n",
        "print(data)"
      ],
      "execution_count": null,
      "outputs": [
        {
          "output_type": "stream",
          "text": [
            "6,414; 1,550; 2,109; 9,350; 21,828; 4,300; 5,944; 5,722; 2,825; 2,044;5,481; 5,200; 5,853; 2,750; 10,012; 6,357; 27,000; 9,414; 7,681; 3,200; 17,500; 9,200; 7,380; 18,314; 6,557; 13,713; 17,768; 7,493; 2,771; 2,861; 1,263; 7,285; 28,165; 5,080; 11,622\n"
          ],
          "name": "stdout"
        }
      ]
    },
    {
      "cell_type": "code",
      "metadata": {
        "id": "jY622A35vwjU",
        "outputId": "53e2322e-d338-417b-f788-79b205967f45"
      },
      "source": [
        "# Convert the single string to a list of strings using split() function\n",
        "# Make sure to specify a delimter or separator\n",
        "\n",
        "x = data.split(\";\")\n",
        "print(x)"
      ],
      "execution_count": null,
      "outputs": [
        {
          "output_type": "stream",
          "text": [
            "['6,414', ' 1,550', ' 2,109', ' 9,350', ' 21,828', ' 4,300', ' 5,944', ' 5,722', ' 2,825', ' 2,044', '5,481', ' 5,200', ' 5,853', ' 2,750', ' 10,012', ' 6,357', ' 27,000', ' 9,414', ' 7,681', ' 3,200', ' 17,500', ' 9,200', ' 7,380', ' 18,314', ' 6,557', ' 13,713', ' 17,768', ' 7,493', ' 2,771', ' 2,861', ' 1,263', ' 7,285', ' 28,165', ' 5,080', ' 11,622']\n"
          ],
          "name": "stdout"
        }
      ]
    },
    {
      "cell_type": "code",
      "metadata": {
        "id": "_b8yjF0hvwjV",
        "outputId": "f8c7fe27-f818-4866-8ed1-6ae18d537b0c"
      },
      "source": [
        "e = [int(i.replace(\",\", \"\")) for i in x]\n",
        "print(e)"
      ],
      "execution_count": null,
      "outputs": [
        {
          "output_type": "stream",
          "text": [
            "[6414, 1550, 2109, 9350, 21828, 4300, 5944, 5722, 2825, 2044, 5481, 5200, 5853, 2750, 10012, 6357, 27000, 9414, 7681, 3200, 17500, 9200, 7380, 18314, 6557, 13713, 17768, 7493, 2771, 2861, 1263, 7285, 28165, 5080, 11622]\n"
          ],
          "name": "stdout"
        }
      ]
    },
    {
      "cell_type": "code",
      "metadata": {
        "id": "zHvdPZomvwjW",
        "outputId": "05612f51-5feb-4b18-b80b-caad53078267"
      },
      "source": [
        "# Create a list of integers from the list of strings using List Comprehension or a function\n",
        "# Make sure to remove the \",\" first and then convert the strings to integers\n",
        "\n",
        "e = []\n",
        "for i in x:\n",
        "    y = i.replace(\",\", \"\")\n",
        "    y = int(y)\n",
        "    e.append(y)\n",
        "    \n",
        "print(e)\n",
        "    "
      ],
      "execution_count": null,
      "outputs": [
        {
          "output_type": "stream",
          "text": [
            "[6414, 1550, 2109, 9350, 21828, 4300, 5944, 5722, 2825, 2044, 5481, 5200, 5853, 2750, 10012, 6357, 27000, 9414, 7681, 3200, 17500, 9200, 7380, 18314, 6557, 13713, 17768, 7493, 2771, 2861, 1263, 7285, 28165, 5080, 11622]\n"
          ],
          "name": "stdout"
        }
      ]
    },
    {
      "cell_type": "markdown",
      "metadata": {
        "id": "rztZ5pJtvwjX"
      },
      "source": [
        "### Step 1 - Calculate and Display the Sample Size and Sample Mean"
      ]
    },
    {
      "cell_type": "code",
      "metadata": {
        "id": "MRjPNo1kvwjX",
        "outputId": "c7124f63-602e-4721-a1cc-3f9eb0e92ae5"
      },
      "source": [
        "# Calculate and display the sample size\n",
        "\n"
      ],
      "execution_count": null,
      "outputs": [
        {
          "output_type": "stream",
          "text": [
            "Sample size = 35\n"
          ],
          "name": "stdout"
        }
      ]
    },
    {
      "cell_type": "code",
      "metadata": {
        "id": "Sfe6XfmWvwjY",
        "outputId": "394a1758-4cc0-4ba8-9e50-c9217d18e0ee"
      },
      "source": [
        "# Calculate and display the sample mean\n",
        "\n"
      ],
      "execution_count": null,
      "outputs": [
        {
          "output_type": "stream",
          "text": [
            "Sample mean = 8629.0\n"
          ],
          "name": "stdout"
        }
      ]
    },
    {
      "cell_type": "markdown",
      "metadata": {
        "id": "uJl_KNgVvwjZ"
      },
      "source": [
        "The point estimate of the mean enrollment of US community colleges is **8629**."
      ]
    },
    {
      "cell_type": "markdown",
      "metadata": {
        "id": "FE43zdBnvwja"
      },
      "source": [
        "### Step 2 - Calculate and Display the Sample Standard Deviation & Sample Standard Error\n",
        "\n",
        "Sample Standard Deviation $S=\\sqrt{\\dfrac{1}{n-1}\\sum\\limits_{i=1}^n (X_i-\\bar{X})^2}$\n",
        "\n",
        "Sample Standard Error = $\\dfrac{S}{\\sqrt{n}}$\n",
        "\n",
        "Note: The default **Delta Degree of Freedom (DDOF)** for Numpy's std function is 0 which is applicable to populate data. For sample data, we need to specify **ddof=1**. \n",
        "\n",
        "For the enrollment data, we round up the statistics to be the full integers (no decimal points).\n"
      ]
    },
    {
      "cell_type": "code",
      "metadata": {
        "id": "Yy2-ewJSvwja",
        "outputId": "b77075fe-82ca-4841-fe21-2b959445a49d"
      },
      "source": [
        "# Calculate and display the sample standard deviation using Numpy's std function.\n",
        "\n"
      ],
      "execution_count": null,
      "outputs": [
        {
          "output_type": "stream",
          "text": [
            "Sample Standard Deviation = 6944.0\n"
          ],
          "name": "stdout"
        }
      ]
    },
    {
      "cell_type": "code",
      "metadata": {
        "id": "l_VyIgHTvwjc",
        "outputId": "cb52d37a-b80c-49d0-b827-07c7721eeca5"
      },
      "source": [
        "# Calculate and display the sample standard error\n",
        "\n"
      ],
      "execution_count": null,
      "outputs": [
        {
          "output_type": "stream",
          "text": [
            "Sample Standard Error is 1174.0\n"
          ],
          "name": "stdout"
        }
      ]
    },
    {
      "cell_type": "markdown",
      "metadata": {
        "id": "IynJoUaJvwjc"
      },
      "source": [
        "### Step 3 - Calculate t Critical Value using t-Distribution \n",
        "\n",
        "$\\alpha$ = 1 - Confidence Level = 1 - 95% = 0.05\n",
        "\n",
        "$\\dfrac{\\alpha}{2}$ = 0.025\n",
        "\n",
        "n (sample size) = 35\n",
        "\n",
        "df (degree of freedom) = n - 1 = 35 - 1 = 34\n",
        "\n",
        "We will use Python scipy.stats t-distribution's PPF (Percentage Point Function) to calculate t critical value $t_{0.025,34}$."
      ]
    },
    {
      "cell_type": "code",
      "metadata": {
        "id": "24_EeyVwvwjd",
        "outputId": "bf6624b3-84cb-4777-a612-c5684ff10d7e"
      },
      "source": [
        "# Calculate and display the t critical value using scipy.stats.t package ppf function\n",
        "\n"
      ],
      "execution_count": null,
      "outputs": [
        {
          "output_type": "stream",
          "text": [
            "t critical value =  2.03\n"
          ],
          "name": "stdout"
        }
      ]
    },
    {
      "cell_type": "markdown",
      "metadata": {
        "id": "qyyUKSjhvwje"
      },
      "source": [
        "### Step 4 - Calculate the Margin of Error\n",
        "\n",
        "Margin of Error = t-Statistics * Sample Standard Error = $t_{\\alpha/2,n-1}\\left(\\dfrac{s}{\\sqrt{n}}\\right)$"
      ]
    },
    {
      "cell_type": "code",
      "metadata": {
        "id": "13aQGtICvwje",
        "outputId": "ea88a69d-a70b-4b88-fa4a-03a3bb274d82"
      },
      "source": [
        "# Calculate and display the margin of error\n",
        "\n"
      ],
      "execution_count": null,
      "outputs": [
        {
          "output_type": "stream",
          "text": [
            "Margin of Error = 2383.0\n"
          ],
          "name": "stdout"
        }
      ]
    },
    {
      "cell_type": "markdown",
      "metadata": {
        "id": "W5C_lR0lvwje"
      },
      "source": [
        "### Step 5 - Calculate Lower and Upper Limit of the Confidence Interval\n",
        "\n",
        "Lower Limit = Sample Mean - Margin of Error\n",
        "\n",
        "Upper Limit = Sample Mean + Margin of Error"
      ]
    },
    {
      "cell_type": "code",
      "metadata": {
        "id": "-n9Vs8Kfvwje",
        "outputId": "3b9105ed-4fe2-4ec6-eca3-f1ea823f273d"
      },
      "source": [
        "# Calculate and display the lower limit\n",
        "\n"
      ],
      "execution_count": null,
      "outputs": [
        {
          "output_type": "stream",
          "text": [
            "Lower Limit =  6246.0\n"
          ],
          "name": "stdout"
        }
      ]
    },
    {
      "cell_type": "code",
      "metadata": {
        "id": "gyH6Ii_3vwje",
        "outputId": "5ebfba2e-5f8d-4cce-82c3-0a34a4a6ec78"
      },
      "source": [
        "# Calculate and display the upper limit\n",
        "\n"
      ],
      "execution_count": null,
      "outputs": [
        {
          "output_type": "stream",
          "text": [
            "Upper Limit =  11012.0\n"
          ],
          "name": "stdout"
        }
      ]
    },
    {
      "cell_type": "markdown",
      "metadata": {
        "id": "ZGeD7v16vwje"
      },
      "source": [
        "### Step 6 - Now We have the 95% Confidence Interval\n",
        "Confidence Interval ($\\sigma$ unknown) = $\\bar{x}\\space\\pm\\space t_{\\alpha/2}\\left(\\dfrac{S}{\\sqrt{n}}\\right)$ = Sample_Mean $\\pm$ Margin of Error"
      ]
    },
    {
      "cell_type": "code",
      "metadata": {
        "id": "lGOOdnOmvwje",
        "outputId": "a3c0ab12-a5ab-405a-9954-9e3d8895531e"
      },
      "source": [
        "# Print the 95% confidence interveral in the form (lower limit, upper limit)\n",
        "\n"
      ],
      "execution_count": null,
      "outputs": [
        {
          "output_type": "stream",
          "text": [
            "The 95% Confidence Interval = ( 6246.0 , 11012.0 )\n"
          ],
          "name": "stdout"
        }
      ]
    },
    {
      "cell_type": "markdown",
      "metadata": {
        "id": "ntrz7Ouevwjf"
      },
      "source": [
        "### The End"
      ]
    }
  ]
}