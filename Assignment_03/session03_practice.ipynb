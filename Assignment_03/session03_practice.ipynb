{
  "nbformat": 4,
  "nbformat_minor": 0,
  "metadata": {
    "colab": {
      "name": "session03_practice.ipynb",
      "provenance": [],
      "authorship_tag": "ABX9TyMLaiMPndTP6Cj8OpgEuhte",
      "include_colab_link": true
    },
    "kernelspec": {
      "name": "python3",
      "display_name": "Python 3"
    }
  },
  "cells": [
    {
      "cell_type": "markdown",
      "metadata": {
        "id": "view-in-github",
        "colab_type": "text"
      },
      "source": [
        "<a href=\"https://colab.research.google.com/github/knoppin1/DATA-690-WANG/blob/master/Assignment_03/session03_practice.ipynb\" target=\"_parent\"><img src=\"https://colab.research.google.com/assets/colab-badge.svg\" alt=\"Open In Colab\"/></a>"
      ]
    },
    {
      "cell_type": "markdown",
      "metadata": {
        "id": "JOV9I2uRbJOb",
        "colab_type": "text"
      },
      "source": [
        "**Requirements**:\n",
        "\n",
        "1.   To come up with a list of people's first name.\n",
        "2.   And find out how many people are in the class.\n",
        "\n",
        "Hints: \n",
        "- use split(), specify delimiter to separate people\n",
        "- use split, specify a different delimiter to separate first name and last name\n",
        "\n"
      ]
    },
    {
      "cell_type": "code",
      "metadata": {
        "id": "YaAKevQRaeAT",
        "colab_type": "code",
        "colab": {
          "base_uri": "https://localhost:8080/",
          "height": 86
        },
        "outputId": "e42f7078-6ba1-4bcb-9080-e184dd7f21a7"
      },
      "source": [
        "people = \"Wang, Chaojie; Seelam, Arjun Reddy; Rius, Jonathan; Liang, Jinqing; Chowdhury, Debanjan; Maszkiewicz, Lori; Negussie, Neftalem; Steinruck, Michaella; Phogat, Shreshta; Fatima, Misha; Hirabayashi, Scott; Soroush, Masoud; Bolz, Jessica; Mbu Nyamsi, Tchuissi; Dokuzoglu, Yuksel; Gogineni, Shailesh; Pabbisetty, Sai Vinay; Preis, Liam; Jyesta, Vishnu Priya; Narne, Yoshita; Boban, Shruthi; Oberoi, Ashreen Kaur; Cohens, Nashika; Noppinger, Ken; Kakani, Goutham; Hayo, Alyssa\"\n",
        "people"
      ],
      "execution_count": 6,
      "outputs": [
        {
          "output_type": "execute_result",
          "data": {
            "application/vnd.google.colaboratory.intrinsic+json": {
              "type": "string"
            },
            "text/plain": [
              "'Wang, Chaojie; Seelam, Arjun Reddy; Rius, Jonathan; Liang, Jinqing; Chowdhury, Debanjan; Maszkiewicz, Lori; Negussie, Neftalem; Steinruck, Michaella; Phogat, Shreshta; Fatima, Misha; Hirabayashi, Scott; Soroush, Masoud; Bolz, Jessica; Mbu Nyamsi, Tchuissi; Dokuzoglu, Yuksel; Gogineni, Shailesh; Pabbisetty, Sai Vinay; Preis, Liam; Jyesta, Vishnu Priya; Narne, Yoshita; Boban, Shruthi; Oberoi, Ashreen Kaur; Cohens, Nashika; Noppinger, Ken; Kakani, Goutham; Hayo, Alyssa'"
            ]
          },
          "metadata": {
            "tags": []
          },
          "execution_count": 6
        }
      ]
    },
    {
      "cell_type": "code",
      "metadata": {
        "id": "yvi0E6KRawZa",
        "colab_type": "code",
        "colab": {
          "base_uri": "https://localhost:8080/",
          "height": 459
        },
        "outputId": "f525e369-72f5-4461-a28e-5e8fcc92d48e"
      },
      "source": [
        "people_list = people.split(';')\n",
        "people_list"
      ],
      "execution_count": 9,
      "outputs": [
        {
          "output_type": "execute_result",
          "data": {
            "text/plain": [
              "['Wang, Chaojie',\n",
              " ' Seelam, Arjun Reddy',\n",
              " ' Rius, Jonathan',\n",
              " ' Liang, Jinqing',\n",
              " ' Chowdhury, Debanjan',\n",
              " ' Maszkiewicz, Lori',\n",
              " ' Negussie, Neftalem',\n",
              " ' Steinruck, Michaella',\n",
              " ' Phogat, Shreshta',\n",
              " ' Fatima, Misha',\n",
              " ' Hirabayashi, Scott',\n",
              " ' Soroush, Masoud',\n",
              " ' Bolz, Jessica',\n",
              " ' Mbu Nyamsi, Tchuissi',\n",
              " ' Dokuzoglu, Yuksel',\n",
              " ' Gogineni, Shailesh',\n",
              " ' Pabbisetty, Sai Vinay',\n",
              " ' Preis, Liam',\n",
              " ' Jyesta, Vishnu Priya',\n",
              " ' Narne, Yoshita',\n",
              " ' Boban, Shruthi',\n",
              " ' Oberoi, Ashreen Kaur',\n",
              " ' Cohens, Nashika',\n",
              " ' Noppinger, Ken',\n",
              " ' Kakani, Goutham',\n",
              " ' Hayo, Alyssa']"
            ]
          },
          "metadata": {
            "tags": []
          },
          "execution_count": 9
        }
      ]
    },
    {
      "cell_type": "code",
      "metadata": {
        "id": "twexNLCYazar",
        "colab_type": "code",
        "colab": {
          "base_uri": "https://localhost:8080/",
          "height": 459
        },
        "outputId": "ad30e4d0-6f2e-4217-b62b-53ea53e1db8c"
      },
      "source": [
        "first_names = [name.split(', ')[1] for name in people_list]\n",
        "first_names"
      ],
      "execution_count": 19,
      "outputs": [
        {
          "output_type": "execute_result",
          "data": {
            "text/plain": [
              "['Chaojie',\n",
              " 'Arjun Reddy',\n",
              " 'Jonathan',\n",
              " 'Jinqing',\n",
              " 'Debanjan',\n",
              " 'Lori',\n",
              " 'Neftalem',\n",
              " 'Michaella',\n",
              " 'Shreshta',\n",
              " 'Misha',\n",
              " 'Scott',\n",
              " 'Masoud',\n",
              " 'Jessica',\n",
              " 'Tchuissi',\n",
              " 'Yuksel',\n",
              " 'Shailesh',\n",
              " 'Sai Vinay',\n",
              " 'Liam',\n",
              " 'Vishnu Priya',\n",
              " 'Yoshita',\n",
              " 'Shruthi',\n",
              " 'Ashreen Kaur',\n",
              " 'Nashika',\n",
              " 'Ken',\n",
              " 'Goutham',\n",
              " 'Alyssa']"
            ]
          },
          "metadata": {
            "tags": []
          },
          "execution_count": 19
        }
      ]
    },
    {
      "cell_type": "code",
      "metadata": {
        "id": "wQo2nBUyc6G2",
        "colab_type": "code",
        "colab": {
          "base_uri": "https://localhost:8080/",
          "height": 34
        },
        "outputId": "89603e57-9fff-4053-bfe5-74f86dc48dab"
      },
      "source": [
        "len(people_list)"
      ],
      "execution_count": 18,
      "outputs": [
        {
          "output_type": "execute_result",
          "data": {
            "text/plain": [
              "26"
            ]
          },
          "metadata": {
            "tags": []
          },
          "execution_count": 18
        }
      ]
    },
    {
      "cell_type": "code",
      "metadata": {
        "id": "6CL0Si8ueQi3",
        "colab_type": "code",
        "colab": {}
      },
      "source": [
        ""
      ],
      "execution_count": null,
      "outputs": []
    }
  ]
}