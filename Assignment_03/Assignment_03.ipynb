{
  "nbformat": 4,
  "nbformat_minor": 0,
  "metadata": {
    "colab": {
      "name": "Assignment_03.ipynb",
      "provenance": [],
      "include_colab_link": true
    },
    "kernelspec": {
      "name": "python3",
      "display_name": "Python 3"
    }
  },
  "cells": [
    {
      "cell_type": "markdown",
      "metadata": {
        "id": "view-in-github",
        "colab_type": "text"
      },
      "source": [
        "<a href=\"https://colab.research.google.com/github/knoppin1/DATA-690-WANG/blob/master/Assignment_03/Assignment_03.ipynb\" target=\"_parent\"><img src=\"https://colab.research.google.com/assets/colab-badge.svg\" alt=\"Open In Colab\"/></a>"
      ]
    },
    {
      "cell_type": "markdown",
      "metadata": {
        "id": "hJSf7R0WgAJz",
        "colab_type": "text"
      },
      "source": [
        "# DATA-609: Assignment 03\n",
        "\n",
        "### Ken Noppinger (knoppin1@umbc.edu)\n",
        "\n",
        "## The Problem:\n",
        "Write a program that generates 100 random integers between 0 and 9. \n",
        "\n",
        "1.   Print them in a 10 by 10 matrix neatly arranged like the following (one space between each number):\n",
        "```\n",
        "5 1 5 6 2 7 8 6 4 2 \n",
        "2 3 7 0 6 9 2 4 2 8 \n",
        "0 0 8 6 4 1 7 2 7 6 \n",
        "0 1 9 0 0 8 5 8 6 8 \n",
        "4 1 0 5 5 7 4 6 4 4 \n",
        "6 0 2 0 1 9 8 2 3 9 \n",
        "4 0 4 8 1 7 6 6 2 1 \n",
        "1 7 6 8 5 4 1 9 6 7 \n",
        "6 4 7 9 9 3 8 2 6 1 \n",
        "9 0 6 4 0 1 0 6 9 9 \n",
        "```\n",
        "2.   If the random number is an odd number, print \"@\" instead.  like the following:\n",
        "```\n",
        "@ @ 0 2 6 @ 8 8 0 0 \n",
        "@ 4 @ 4 4 @ 2 @ 2 2 \n",
        "@ 6 8 @ @ @ 0 @ 0 @ \n",
        "2 6 @ 0 @ 2 @ @ 0 @ \n",
        "8 4 @ @ @ 0 @ @ 6 @ \n",
        "@ @ 4 6 @ @ @ 2 @ 2 \n",
        "@ @ @ @ 4 @ @ 2 2 0 \n",
        "@ 6 @ 0 0 8 @ 2 0 @ \n",
        "8 8 @ @ @ 0 0 @ 4 6 \n",
        "@ 2 2 6 8 2 @ @ @ 6\n",
        "```\n",
        "3.   Calculate and Print the total of each row like the following (use \"*\" to separate the total from the numbers):\n",
        "```\n",
        "7 6 5 8 8 0 7 6 0 1 * 48 \n",
        "8 5 7 9 8 0 9 3 0 1 * 50 \n",
        "4 0 3 5 3 9 0 8 3 9 * 44 \n",
        "3 5 5 3 8 3 4 3 2 2 * 38 \n",
        "7 7 4 1 2 7 2 3 0 8 * 41 \n",
        "3 9 7 7 0 9 4 0 6 5 * 50 \n",
        "1 9 7 1 3 0 0 1 4 5 * 31 \n",
        "4 4 0 6 7 4 5 6 9 3 * 48 \n",
        "2 1 1 4 2 0 1 2 9 2 * 24\n",
        "2 1 6 7 7 8 1 0 0 4 * 36\n",
        "```\n",
        "4.   Optional: Surround the matrix with asterisks (*) like the following:\n",
        "\n",
        "```\n",
        "***********************\n",
        "* 5 1 5 6 2 7 8 6 4 2 *\n",
        "* 2 3 7 0 6 9 2 4 2 8 *\n",
        "* 0 0 8 6 4 1 7 2 7 6 *\n",
        "* 0 1 9 0 0 8 5 8 6 8 *\n",
        "* 4 1 0 5 5 7 4 6 4 4 *\n",
        "* 6 0 2 0 1 9 8 2 3 9 *\n",
        "* 4 0 4 8 1 7 6 6 2 1 *\n",
        "* 1 7 6 8 5 4 1 9 6 7 *\n",
        "* 6 4 7 9 9 3 8 2 6 1 *\n",
        "* 9 0 6 4 0 1 0 6 9 9 *\n",
        "***********************\n",
        "```\n",
        "5.   Optional (challenging): Calculate and Print the total of each row and column like the following:\n",
        "\n",
        "```\n",
        "6  8  0  2  3  4  2  2  4  4  * 35 \n",
        "3  7  5  8  9  7  4  8  6  0  * 57 \n",
        "4  7  7  4  3  8  2  1  7  0  * 43 \n",
        "7  8  1  3  0  8  4  7  9  2  * 49 \n",
        "0  0  2  4  5  6  6  7  1  4  * 35 \n",
        "3  7  0  0  7  3  3  2  1  6  * 32 \n",
        "2  5  6  6  5  6  5  5  4  7  * 51 \n",
        "9  2  7  5  5  9  2  4  7  9  * 59 \n",
        "0  0  4  7  6  3  9  6  6  7  * 48 \n",
        "0  1  6  5  2  7  4  1  6  4  * 36 \n",
        "*  *  *  *  *  *  *  *  *  *  \n",
        "34 45 38 44 45 61 41 43 51 43 \n",
        "```\n",
        "\n",
        "## The Requirements\n",
        "- Program and test the solution in Jupyter notebook\n",
        "- Save/upload the notebook file in GitHub repository\n",
        "- Submit the link to the GitHub repo to BB.\n",
        "\n",
        "## Hints:\n",
        "- Use Python standard library random to generate one random number at a time \n",
        "- Alternatively, use NumPy random library to generate 10 numbers at a time or 100 random number altogether in one shot.\n",
        "- Use a nested loop to deal with the 10 x 10 matrix.\n",
        "- Use the modular operator (%) to determine if an integer is an odd number or an even number.\n",
        "- Use the \"end=\" option of the print() function to avoid a new line after the print and also to add additional spaces. \n",
        "    - For example, print(9, end=\"   \") will print 9 followed by three spaces and not starting a new line.\n",
        "- Think through the logic. Try simple things first. Don't make it too complicated. Only a few lines of code are needed.\n"
      ]
    },
    {
      "cell_type": "markdown",
      "metadata": {
        "id": "l-OaDuWEzq80",
        "colab_type": "text"
      },
      "source": [
        "# START"
      ]
    },
    {
      "cell_type": "code",
      "metadata": {
        "id": "NWd40FPPh4KA",
        "colab_type": "code",
        "colab": {}
      },
      "source": [
        "import random"
      ],
      "execution_count": 1,
      "outputs": []
    },
    {
      "cell_type": "markdown",
      "metadata": {
        "id": "-5v4scQFzzjR",
        "colab_type": "text"
      },
      "source": [
        "## Set constants"
      ]
    },
    {
      "cell_type": "code",
      "metadata": {
        "id": "fFjOvgCpr47u",
        "colab_type": "code",
        "colab": {}
      },
      "source": [
        "# Matrix is 10 x 10\n",
        "ROW_COUNT = 10\n",
        "COLUMN_COUNT = 10\n",
        "\n",
        "# Range for integers is 0 through 9\n",
        "MIN_INTEGER = 0\n",
        "MAX_INTEGER = 9\n",
        "\n",
        "# Border character is an asterisk\n",
        "BORDER_CHAR = \"*\"\n",
        "\n",
        "# Odd number character is an \"at\" symbol\n",
        "ODD_NUMBER_CHAR = \"@\""
      ],
      "execution_count": 2,
      "outputs": []
    },
    {
      "cell_type": "markdown",
      "metadata": {
        "id": "V-yJq09ZnQoh",
        "colab_type": "text"
      },
      "source": [
        "## Get a random integer between the minimum and maximum integers"
      ]
    },
    {
      "cell_type": "code",
      "metadata": {
        "id": "FIMIk0yFiHVj",
        "colab_type": "code",
        "colab": {
          "base_uri": "https://localhost:8080/",
          "height": 34
        },
        "outputId": "42d686c4-0a67-433a-bb80-b99d60f68c54"
      },
      "source": [
        "random.randint(MIN_INTEGER, MAX_INTEGER)"
      ],
      "execution_count": 3,
      "outputs": [
        {
          "output_type": "execute_result",
          "data": {
            "text/plain": [
              "6"
            ]
          },
          "metadata": {
            "tags": []
          },
          "execution_count": 3
        }
      ]
    },
    {
      "cell_type": "markdown",
      "metadata": {
        "id": "NiobEm1dnVlA",
        "colab_type": "text"
      },
      "source": [
        "## Create a random list of integers in the minimum and maximum integer range to represent the matrix"
      ]
    },
    {
      "cell_type": "code",
      "metadata": {
        "id": "AvZnFBRTkb5C",
        "colab_type": "code",
        "colab": {}
      },
      "source": [
        "random_integer_list = [random.randint(MIN_INTEGER, MAX_INTEGER) for i in range(0, ROW_COUNT * COLUMN_COUNT)]"
      ],
      "execution_count": 4,
      "outputs": []
    },
    {
      "cell_type": "code",
      "metadata": {
        "id": "xeOBXt36lc7d",
        "colab_type": "code",
        "colab": {
          "base_uri": "https://localhost:8080/",
          "height": 34
        },
        "outputId": "83bbccf8-847b-4bb9-ba1b-1fec82eea310"
      },
      "source": [
        "len(random_integer_list)"
      ],
      "execution_count": 5,
      "outputs": [
        {
          "output_type": "execute_result",
          "data": {
            "text/plain": [
              "100"
            ]
          },
          "metadata": {
            "tags": []
          },
          "execution_count": 5
        }
      ]
    },
    {
      "cell_type": "code",
      "metadata": {
        "id": "4CiB3HGdojyn",
        "colab_type": "code",
        "colab": {}
      },
      "source": [
        "def print_border_line():\n",
        "    \"\"\"print_border_line - prints a matrix border line\"\"\"\n",
        "    \n",
        "    # Prefix the border with two border characters\n",
        "    print(BORDER_CHAR + BORDER_CHAR, end = \"\")\n",
        "    \n",
        "    # Print a border line twice the length of the matrix\n",
        "    for i in range(0, COLUMN_COUNT * 2):\n",
        "        print(BORDER_CHAR, end = \"\")\n",
        "\n",
        "    # Suffix the border with a single border character\n",
        "    print(BORDER_CHAR, end = '\\n')"
      ],
      "execution_count": 6,
      "outputs": []
    },
    {
      "cell_type": "code",
      "metadata": {
        "id": "_YRwxf9qo6R7",
        "colab_type": "code",
        "colab": {
          "base_uri": "https://localhost:8080/",
          "height": 34
        },
        "outputId": "a40f1ebf-a942-4c64-e3e7-45297f867787"
      },
      "source": [
        "print_border_line()"
      ],
      "execution_count": 7,
      "outputs": [
        {
          "output_type": "stream",
          "text": [
            "***********************\n"
          ],
          "name": "stdout"
        }
      ]
    },
    {
      "cell_type": "code",
      "metadata": {
        "id": "fqJYlpAuScST",
        "colab_type": "code",
        "colab": {}
      },
      "source": [
        "def print_matrix(matrix, border=False, row_totals=False, pad=\" \"):\n",
        "    \"\"\"print_matrix - prints a provided list as a matrix\"\"\"\n",
        "\n",
        "    if row_totals & (type(matrix[0])==str):\n",
        "        print(\"Matrix rows can only be totaled for number values.\")\n",
        "        return\n",
        "\n",
        "    elif border:\n",
        "\n",
        "        # Print a border line before the matrix\n",
        "        print_border_line()\n",
        "\n",
        "        # Print a matrix using a nested loop to iterate each row printing a value for each column in the row\n",
        "        for i in range (0, ROW_COUNT):\n",
        "\n",
        "            # Prefix the row with a leading border character\n",
        "            print(BORDER_CHAR, end = pad)\n",
        "\n",
        "            # Print a value for each column in the row\n",
        "            for j in range(0, COLUMN_COUNT):\n",
        "                print(matrix[i * COLUMN_COUNT + j], end = pad)\n",
        "            \n",
        "            # Suffix the row with a trailing border character\n",
        "            print(BORDER_CHAR, end = \"\\n\")\n",
        "\n",
        "        # Print a border line\n",
        "        print_border_line()\n",
        "\n",
        "    else:   # Print the matrix without a border\n",
        "\n",
        "        # Print a matrix using a nested loop to iterate each row printing a value for each column in the row\n",
        "        for i in range (0, ROW_COUNT):\n",
        "\n",
        "            # Initialize the row total\n",
        "            row_total = 0\n",
        "            \n",
        "            # Print a value for each column in the row\n",
        "            for j in range(0, COLUMN_COUNT):\n",
        "                print(matrix[i * COLUMN_COUNT + j], end = pad)\n",
        "                if row_totals:\n",
        "                    row_total += matrix[i * COLUMN_COUNT + j]\n",
        "\n",
        "            if row_totals:\n",
        "                # Print a border character to separate the row values from the total\n",
        "                print(BORDER_CHAR, row_total, end = \"\\n\")\n",
        "            else:\n",
        "                # End the row with a new line\n",
        "                print(\"\", end='\\n')\n",
        " "
      ],
      "execution_count": 8,
      "outputs": []
    },
    {
      "cell_type": "markdown",
      "metadata": {
        "id": "7ri8AU9fyZ8_",
        "colab_type": "text"
      },
      "source": [
        "## Print the matrix of random integers without a border"
      ]
    },
    {
      "cell_type": "code",
      "metadata": {
        "id": "56mA5Yn4njZv",
        "colab_type": "code",
        "colab": {
          "base_uri": "https://localhost:8080/",
          "height": 187
        },
        "outputId": "03c0b50f-f3ef-40b4-c506-639dd94e5acd"
      },
      "source": [
        "print_matrix(random_integer_list)  "
      ],
      "execution_count": 9,
      "outputs": [
        {
          "output_type": "stream",
          "text": [
            "0 0 6 3 3 1 9 8 9 4 \n",
            "3 5 5 8 2 8 3 3 0 1 \n",
            "8 1 4 4 4 5 7 9 6 3 \n",
            "3 0 3 0 3 2 4 9 8 3 \n",
            "5 1 5 8 3 2 1 9 9 1 \n",
            "9 9 1 8 4 5 4 7 7 2 \n",
            "7 3 5 1 2 8 8 4 3 4 \n",
            "9 5 3 3 0 4 5 4 0 0 \n",
            "3 8 8 6 8 5 7 6 8 9 \n",
            "3 8 5 6 3 5 9 2 9 3 \n"
          ],
          "name": "stdout"
        }
      ]
    },
    {
      "cell_type": "code",
      "metadata": {
        "id": "qh1zxH5fxxSn",
        "colab_type": "code",
        "colab": {}
      },
      "source": [
        "def replace_odd_integer(num):\n",
        "    \"\"\"replace_odd_integer - Returns the given number as a special character when odd or returns the given number as a string when even\"\"\"\n",
        "\n",
        "    return_char = ODD_NUMBER_CHAR\n",
        "\n",
        "    if num % 2 == 0:\n",
        "        return_char = str(num)\n",
        "\n",
        "    return return_char"
      ],
      "execution_count": 10,
      "outputs": []
    },
    {
      "cell_type": "markdown",
      "metadata": {
        "id": "Ue0Tfv4Tvsvr",
        "colab_type": "text"
      },
      "source": [
        "## Print the matrix of random integers after replacing odd numbers with a special character"
      ]
    },
    {
      "cell_type": "code",
      "metadata": {
        "id": "cNSTge3rvr-U",
        "colab_type": "code",
        "colab": {
          "base_uri": "https://localhost:8080/",
          "height": 187
        },
        "outputId": "d633fcb9-7ecc-4f54-ee23-415a3152e88f"
      },
      "source": [
        "print_matrix([replace_odd_integer(num) for num in random_integer_list])"
      ],
      "execution_count": 11,
      "outputs": [
        {
          "output_type": "stream",
          "text": [
            "0 0 6 @ @ @ @ 8 @ 4 \n",
            "@ @ @ 8 2 8 @ @ 0 @ \n",
            "8 @ 4 4 4 @ @ @ 6 @ \n",
            "@ 0 @ 0 @ 2 4 @ 8 @ \n",
            "@ @ @ 8 @ 2 @ @ @ @ \n",
            "@ @ @ 8 4 @ 4 @ @ 2 \n",
            "@ @ @ @ 2 8 8 4 @ 4 \n",
            "@ @ @ @ 0 4 @ 4 0 0 \n",
            "@ 8 8 6 8 @ @ 6 8 @ \n",
            "@ 8 @ 6 @ @ @ 2 @ @ \n"
          ],
          "name": "stdout"
        }
      ]
    },
    {
      "cell_type": "markdown",
      "metadata": {
        "id": "F5KhC4860f9h",
        "colab_type": "text"
      },
      "source": [
        "## Print the matrix with totals for each row"
      ]
    },
    {
      "cell_type": "code",
      "metadata": {
        "id": "dTV4H3sn0of-",
        "colab_type": "code",
        "colab": {
          "base_uri": "https://localhost:8080/",
          "height": 187
        },
        "outputId": "41849d9e-7a1c-4709-f067-41a26a9b66e5"
      },
      "source": [
        "print_matrix(random_integer_list, row_totals=True)"
      ],
      "execution_count": 12,
      "outputs": [
        {
          "output_type": "stream",
          "text": [
            "0 0 6 3 3 1 9 8 9 4 * 43\n",
            "3 5 5 8 2 8 3 3 0 1 * 38\n",
            "8 1 4 4 4 5 7 9 6 3 * 51\n",
            "3 0 3 0 3 2 4 9 8 3 * 35\n",
            "5 1 5 8 3 2 1 9 9 1 * 44\n",
            "9 9 1 8 4 5 4 7 7 2 * 56\n",
            "7 3 5 1 2 8 8 4 3 4 * 45\n",
            "9 5 3 3 0 4 5 4 0 0 * 33\n",
            "3 8 8 6 8 5 7 6 8 9 * 68\n",
            "3 8 5 6 3 5 9 2 9 3 * 53\n"
          ],
          "name": "stdout"
        }
      ]
    },
    {
      "cell_type": "markdown",
      "metadata": {
        "colab_type": "text",
        "id": "P9f5uMFMvtVp"
      },
      "source": [
        "## Print the matrix of random integers with a border"
      ]
    },
    {
      "cell_type": "code",
      "metadata": {
        "colab_type": "code",
        "id": "-T-t0rLqvtVr",
        "colab": {
          "base_uri": "https://localhost:8080/",
          "height": 221
        },
        "outputId": "ffb1a73a-26b3-4e14-99d0-c83c245b7de4"
      },
      "source": [
        "print_matrix(random_integer_list, border=True)  "
      ],
      "execution_count": 13,
      "outputs": [
        {
          "output_type": "stream",
          "text": [
            "***********************\n",
            "* 0 0 6 3 3 1 9 8 9 4 *\n",
            "* 3 5 5 8 2 8 3 3 0 1 *\n",
            "* 8 1 4 4 4 5 7 9 6 3 *\n",
            "* 3 0 3 0 3 2 4 9 8 3 *\n",
            "* 5 1 5 8 3 2 1 9 9 1 *\n",
            "* 9 9 1 8 4 5 4 7 7 2 *\n",
            "* 7 3 5 1 2 8 8 4 3 4 *\n",
            "* 9 5 3 3 0 4 5 4 0 0 *\n",
            "* 3 8 8 6 8 5 7 6 8 9 *\n",
            "* 3 8 5 6 3 5 9 2 9 3 *\n",
            "***********************\n"
          ],
          "name": "stdout"
        }
      ]
    },
    {
      "cell_type": "markdown",
      "metadata": {
        "id": "b0t8do4oxEBu",
        "colab_type": "text"
      },
      "source": [
        "## Calculate and Print the total of each row and column"
      ]
    },
    {
      "cell_type": "code",
      "metadata": {
        "id": "-hfichKlxL2D",
        "colab_type": "code",
        "colab": {
          "base_uri": "https://localhost:8080/",
          "height": 221
        },
        "outputId": "5517b743-6ddc-43dd-d95c-afc19be78fe1"
      },
      "source": [
        "# Print matrix with row totals\n",
        "print_matrix(random_integer_list, row_totals=True, pad=\"  \")\n",
        "\n",
        "# Print border\n",
        "for i in range(0,COLUMN_COUNT):\n",
        "    print(BORDER_CHAR, end = \"  \")\n",
        "print(\"\", end = '\\n')\n",
        "\n",
        "# Print column totals\n",
        "for i in range(0, COLUMN_COUNT):\n",
        "    column_total = 0\n",
        "    for j in range(0, ROW_COUNT):\n",
        "        column_total += random_integer_list[i * COLUMN_COUNT + j]\n",
        "    print(column_total, end = ' ')"
      ],
      "execution_count": 14,
      "outputs": [
        {
          "output_type": "stream",
          "text": [
            "0  0  6  3  3  1  9  8  9  4  * 43\n",
            "3  5  5  8  2  8  3  3  0  1  * 38\n",
            "8  1  4  4  4  5  7  9  6  3  * 51\n",
            "3  0  3  0  3  2  4  9  8  3  * 35\n",
            "5  1  5  8  3  2  1  9  9  1  * 44\n",
            "9  9  1  8  4  5  4  7  7  2  * 56\n",
            "7  3  5  1  2  8  8  4  3  4  * 45\n",
            "9  5  3  3  0  4  5  4  0  0  * 33\n",
            "3  8  8  6  8  5  7  6  8  9  * 68\n",
            "3  8  5  6  3  5  9  2  9  3  * 53\n",
            "*  *  *  *  *  *  *  *  *  *  \n",
            "43 38 51 35 44 56 45 33 68 53 "
          ],
          "name": "stdout"
        }
      ]
    },
    {
      "cell_type": "markdown",
      "metadata": {
        "id": "oF1x7HFcxFF5",
        "colab_type": "text"
      },
      "source": [
        "# COMPLETE"
      ]
    }
  ]
}