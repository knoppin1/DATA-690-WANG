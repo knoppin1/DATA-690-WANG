{
  "nbformat": 4,
  "nbformat_minor": 0,
  "metadata": {
    "colab": {
      "name": "Assignment_03.ipynb",
      "provenance": [],
      "authorship_tag": "ABX9TyPBxir1H2eFPw0PueHnN+he",
      "include_colab_link": true
    },
    "kernelspec": {
      "name": "python3",
      "display_name": "Python 3"
    }
  },
  "cells": [
    {
      "cell_type": "markdown",
      "metadata": {
        "id": "view-in-github",
        "colab_type": "text"
      },
      "source": [
        "<a href=\"https://colab.research.google.com/github/knoppin1/DATA-690-WANG/blob/master/Assignment_03/Assignment_03.ipynb\" target=\"_parent\"><img src=\"https://colab.research.google.com/assets/colab-badge.svg\" alt=\"Open In Colab\"/></a>"
      ]
    },
    {
      "cell_type": "markdown",
      "metadata": {
        "id": "hJSf7R0WgAJz",
        "colab_type": "text"
      },
      "source": [
        "# DATA-609: Assignment 03\n",
        "\n",
        "### Ken Noppinger (knoppin1@umbc.edu)\n",
        "\n",
        "#### **The Problem**:\n",
        "\n",
        "Write a program that generates 100 random integers between 0 and 9. \n",
        "\n",
        "Print them in a 10 by 10 matrix neatly arranged with surrounding asterisks (*):\n",
        "\n",
        "```\n",
        "***********************\n",
        "* 5 1 5 6 2 7 8 6 4 2 *\n",
        "* 2 3 7 0 6 9 2 4 2 8 *\n",
        "* 0 0 8 6 4 1 7 2 7 6 *\n",
        "* 0 1 9 0 0 8 5 8 6 8 *\n",
        "* 4 1 0 5 5 7 4 6 4 4 *\n",
        "* 6 0 2 0 1 9 8 2 3 9 *\n",
        "* 4 0 4 8 1 7 6 6 2 1 *\n",
        "* 1 7 6 8 5 4 1 9 6 7 *\n",
        "* 6 4 7 9 9 3 8 2 6 1 *\n",
        "* 9 0 6 4 0 1 0 6 9 9 *\n",
        "***********************\n",
        "```\n",
        "#### **The Requirements**:\n",
        "\n",
        "- Program and test the solution in both:\n",
        "  - Jupyter notebook file\n",
        "  - Python script (.py)\n",
        "- Upload both files to your GitHub repository\n",
        "- Submit the link of your GitHub repo to BB.\n",
        "\n",
        "**Hints**:\n",
        "- Use Python standard library random to generate one random number at a time \n",
        "or use NumPy random library to generate 100 random number altogether in one shot.\n",
        "- Probably should use nested loop - a loop within in another loop since you are dealing with a 10 x 10 matrix.\n",
        "\n",
        "-------------"
      ]
    },
    {
      "cell_type": "markdown",
      "metadata": {
        "id": "l-OaDuWEzq80",
        "colab_type": "text"
      },
      "source": [
        "# START"
      ]
    },
    {
      "cell_type": "code",
      "metadata": {
        "id": "NWd40FPPh4KA",
        "colab_type": "code",
        "colab": {}
      },
      "source": [
        "import random"
      ],
      "execution_count": 1,
      "outputs": []
    },
    {
      "cell_type": "markdown",
      "metadata": {
        "id": "-5v4scQFzzjR",
        "colab_type": "text"
      },
      "source": [
        "## Set constants"
      ]
    },
    {
      "cell_type": "code",
      "metadata": {
        "id": "fFjOvgCpr47u",
        "colab_type": "code",
        "colab": {}
      },
      "source": [
        "# Matrix is 10 x 10\n",
        "INTEGERS_PER_LINE = 10\n",
        "INTEGER_LINES = 10\n",
        "\n",
        "# Range for integers is 0 through 9\n",
        "MIN_INTEGER = 0\n",
        "MAX_INTEGER = 9"
      ],
      "execution_count": 2,
      "outputs": []
    },
    {
      "cell_type": "markdown",
      "metadata": {
        "id": "V-yJq09ZnQoh",
        "colab_type": "text"
      },
      "source": [
        "## Get a random integer between the minimum and maximum integers"
      ]
    },
    {
      "cell_type": "code",
      "metadata": {
        "id": "FIMIk0yFiHVj",
        "colab_type": "code",
        "colab": {
          "base_uri": "https://localhost:8080/",
          "height": 33
        },
        "outputId": "6dbe2d9d-c94f-438c-a351-d1b5c3af6031"
      },
      "source": [
        "random.randint(MIN_INTEGER, MAX_INTEGER)"
      ],
      "execution_count": 3,
      "outputs": [
        {
          "output_type": "execute_result",
          "data": {
            "text/plain": [
              "2"
            ]
          },
          "metadata": {
            "tags": []
          },
          "execution_count": 3
        }
      ]
    },
    {
      "cell_type": "markdown",
      "metadata": {
        "id": "NiobEm1dnVlA",
        "colab_type": "text"
      },
      "source": [
        "## Create a random list of integers in the minimum and maximum integer range to represent the matrix"
      ]
    },
    {
      "cell_type": "code",
      "metadata": {
        "id": "AvZnFBRTkb5C",
        "colab_type": "code",
        "colab": {}
      },
      "source": [
        "random_integer_list = [random.randint(MIN_INTEGER, MAX_INTEGER) for i in range(0,INTEGERS_PER_LINE*INTEGER_LINES)]"
      ],
      "execution_count": 4,
      "outputs": []
    },
    {
      "cell_type": "code",
      "metadata": {
        "id": "xeOBXt36lc7d",
        "colab_type": "code",
        "colab": {
          "base_uri": "https://localhost:8080/",
          "height": 33
        },
        "outputId": "e624955c-1219-453d-d30a-7ea9c7700c3b"
      },
      "source": [
        "len(random_integer_list)"
      ],
      "execution_count": 5,
      "outputs": [
        {
          "output_type": "execute_result",
          "data": {
            "text/plain": [
              "100"
            ]
          },
          "metadata": {
            "tags": []
          },
          "execution_count": 5
        }
      ]
    },
    {
      "cell_type": "markdown",
      "metadata": {
        "id": "DAsRhK_rxnw_",
        "colab_type": "text"
      },
      "source": [
        "## Function: print_border_line \n",
        "\n",
        "Used to frame the matrix of integers"
      ]
    },
    {
      "cell_type": "code",
      "metadata": {
        "id": "4CiB3HGdojyn",
        "colab_type": "code",
        "colab": {}
      },
      "source": [
        "DOUBLE_ASTERISK = \"**\"\n",
        "ASTERISK = \"*\"\n",
        "def print_border_line():\n",
        "    print(DOUBLE_ASTERISK, end = \"\")\n",
        "    for i in range(0, INTEGERS_PER_LINE * 2):\n",
        "        print(ASTERISK, end = \"\")\n",
        "    print(ASTERISK, end = '\\n')"
      ],
      "execution_count": 6,
      "outputs": []
    },
    {
      "cell_type": "code",
      "metadata": {
        "id": "_YRwxf9qo6R7",
        "colab_type": "code",
        "colab": {
          "base_uri": "https://localhost:8080/",
          "height": 33
        },
        "outputId": "bc165a8a-007c-4548-f827-787a1015fc1f"
      },
      "source": [
        "print_border_line()"
      ],
      "execution_count": 7,
      "outputs": [
        {
          "output_type": "stream",
          "text": [
            "***********************\n"
          ],
          "name": "stdout"
        }
      ]
    },
    {
      "cell_type": "markdown",
      "metadata": {
        "id": "7ri8AU9fyZ8_",
        "colab_type": "text"
      },
      "source": [
        "## Print a bordered matrix of the random integers"
      ]
    },
    {
      "cell_type": "code",
      "metadata": {
        "id": "56mA5Yn4njZv",
        "colab_type": "code",
        "colab": {
          "base_uri": "https://localhost:8080/",
          "height": 212
        },
        "outputId": "3f61ecde-83a8-48e1-823a-ee842a0949f5"
      },
      "source": [
        "print_border_line()\n",
        "for i in range(0, INTEGER_LINES):\n",
        "    print(ASTERISK, end = \" \")\n",
        "    for j in range(0, INTEGERS_PER_LINE):\n",
        "        print(random_integer_list[i * INTEGERS_PER_LINE + j], end = \" \")\n",
        "    print(ASTERISK, end = \"\\n\")\n",
        "print_border_line()    "
      ],
      "execution_count": 8,
      "outputs": [
        {
          "output_type": "stream",
          "text": [
            "***********************\n",
            "* 5 7 6 5 6 2 7 2 9 7 *\n",
            "* 2 6 1 2 8 9 1 5 3 6 *\n",
            "* 1 3 7 0 7 5 1 7 6 2 *\n",
            "* 9 1 0 1 5 6 0 0 8 2 *\n",
            "* 2 9 2 5 4 1 8 2 0 0 *\n",
            "* 4 6 4 2 4 8 3 7 9 6 *\n",
            "* 5 8 5 3 3 0 3 2 7 9 *\n",
            "* 4 7 4 0 0 4 6 1 3 3 *\n",
            "* 1 9 3 2 1 5 7 1 6 7 *\n",
            "* 8 6 3 7 7 0 0 4 3 6 *\n",
            "***********************\n"
          ],
          "name": "stdout"
        }
      ]
    },
    {
      "cell_type": "markdown",
      "metadata": {
        "id": "oF1x7HFcxFF5",
        "colab_type": "text"
      },
      "source": [
        "# COMPLETE"
      ]
    },
    {
      "cell_type": "code",
      "metadata": {
        "id": "Em9j7wjhxGoD",
        "colab_type": "code",
        "colab": {}
      },
      "source": [
        ""
      ],
      "execution_count": 8,
      "outputs": []
    }
  ]
}