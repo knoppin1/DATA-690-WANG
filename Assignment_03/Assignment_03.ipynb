{
  "nbformat": 4,
  "nbformat_minor": 0,
  "metadata": {
    "colab": {
      "name": "Assignment_03.ipynb",
      "provenance": [],
      "authorship_tag": "ABX9TyMF7aEx1ngilOAOJFvLpgJ5",
      "include_colab_link": true
    },
    "kernelspec": {
      "name": "python3",
      "display_name": "Python 3"
    }
  },
  "cells": [
    {
      "cell_type": "markdown",
      "metadata": {
        "id": "view-in-github",
        "colab_type": "text"
      },
      "source": [
        "<a href=\"https://colab.research.google.com/github/knoppin1/DATA-690-WANG/blob/master/Assignment_03/Assignment_03.ipynb\" target=\"_parent\"><img src=\"https://colab.research.google.com/assets/colab-badge.svg\" alt=\"Open In Colab\"/></a>"
      ]
    },
    {
      "cell_type": "markdown",
      "metadata": {
        "id": "hJSf7R0WgAJz",
        "colab_type": "text"
      },
      "source": [
        "# DATA-609: Assignment 03\n",
        "\n",
        "### Ken Noppinger (knoppin1@umbc.edu)\n",
        "\n",
        "#### **The Problem**:\n",
        "\n",
        "Write a program that generates 100 random integers between 0 and 9. \n",
        "\n",
        "Print them in a 10 by 10 matrix neatly arranged with surrounding asterisks (*):\n",
        "\n",
        "```\n",
        "***********************\n",
        "* 5 1 5 6 2 7 8 6 4 2 *\n",
        "* 2 3 7 0 6 9 2 4 2 8 *\n",
        "* 0 0 8 6 4 1 7 2 7 6 *\n",
        "* 0 1 9 0 0 8 5 8 6 8 *\n",
        "* 4 1 0 5 5 7 4 6 4 4 *\n",
        "* 6 0 2 0 1 9 8 2 3 9 *\n",
        "* 4 0 4 8 1 7 6 6 2 1 *\n",
        "* 1 7 6 8 5 4 1 9 6 7 *\n",
        "* 6 4 7 9 9 3 8 2 6 1 *\n",
        "* 9 0 6 4 0 1 0 6 9 9 *\n",
        "***********************\n",
        "```\n",
        "#### **The Requirements**:\n",
        "\n",
        "- Program and test the solution in both:\n",
        "  - Jupyter notebook file\n",
        "  - Python script (.py)\n",
        "- Upload both files to your GitHub repository\n",
        "- Submit the link of your GitHub repo to BB.\n",
        "\n",
        "**Hints**:\n",
        "- Use Python standard library random to generate one random number at a time \n",
        "or use NumPy random library to generate 100 random number altogether in one shot.\n",
        "- Probably should use nested loop - a loop within in another loop since you are dealing with a 10 x 10 matrix.\n",
        "\n",
        "-------------"
      ]
    },
    {
      "cell_type": "markdown",
      "metadata": {
        "id": "l-OaDuWEzq80",
        "colab_type": "text"
      },
      "source": [
        "# START"
      ]
    },
    {
      "cell_type": "code",
      "metadata": {
        "id": "NWd40FPPh4KA",
        "colab_type": "code",
        "colab": {}
      },
      "source": [
        "import random"
      ],
      "execution_count": 1,
      "outputs": []
    },
    {
      "cell_type": "markdown",
      "metadata": {
        "id": "-5v4scQFzzjR",
        "colab_type": "text"
      },
      "source": [
        "## Set constants"
      ]
    },
    {
      "cell_type": "code",
      "metadata": {
        "id": "fFjOvgCpr47u",
        "colab_type": "code",
        "colab": {}
      },
      "source": [
        "# Matrix is 10 x 10\n",
        "INTEGERS_PER_LINE = 10\n",
        "INTEGER_LINES = 10\n",
        "\n",
        "# Range for integers is 0 through 9\n",
        "MIN_INTEGER = 0\n",
        "MAX_INTEGER = 9"
      ],
      "execution_count": 2,
      "outputs": []
    },
    {
      "cell_type": "markdown",
      "metadata": {
        "id": "V-yJq09ZnQoh",
        "colab_type": "text"
      },
      "source": [
        "## Get a random integer between the minimum and maximum integers"
      ]
    },
    {
      "cell_type": "code",
      "metadata": {
        "id": "FIMIk0yFiHVj",
        "colab_type": "code",
        "colab": {
          "base_uri": "https://localhost:8080/",
          "height": 33
        },
        "outputId": "b164a1c4-9eed-4f69-ee5b-b89e44b0ad66"
      },
      "source": [
        "random.randint(MIN_INTEGER, MAX_INTEGER)"
      ],
      "execution_count": 3,
      "outputs": [
        {
          "output_type": "execute_result",
          "data": {
            "text/plain": [
              "9"
            ]
          },
          "metadata": {
            "tags": []
          },
          "execution_count": 3
        }
      ]
    },
    {
      "cell_type": "markdown",
      "metadata": {
        "id": "NiobEm1dnVlA",
        "colab_type": "text"
      },
      "source": [
        "## Create a random list of integers in the minimum and maximum integer range to represent the matrix"
      ]
    },
    {
      "cell_type": "code",
      "metadata": {
        "id": "AvZnFBRTkb5C",
        "colab_type": "code",
        "colab": {}
      },
      "source": [
        "random_integer_list = [random.randint(MIN_INTEGER, MAX_INTEGER) for i in range(0,INTEGERS_PER_LINE*INTEGER_LINES)]"
      ],
      "execution_count": 4,
      "outputs": []
    },
    {
      "cell_type": "code",
      "metadata": {
        "id": "xeOBXt36lc7d",
        "colab_type": "code",
        "colab": {
          "base_uri": "https://localhost:8080/",
          "height": 33
        },
        "outputId": "a75e56d3-ce6b-4d77-c999-ee38ae2f8119"
      },
      "source": [
        "len(random_integer_list)"
      ],
      "execution_count": 5,
      "outputs": [
        {
          "output_type": "execute_result",
          "data": {
            "text/plain": [
              "100"
            ]
          },
          "metadata": {
            "tags": []
          },
          "execution_count": 5
        }
      ]
    },
    {
      "cell_type": "markdown",
      "metadata": {
        "id": "DAsRhK_rxnw_",
        "colab_type": "text"
      },
      "source": [
        "## Function: print_border_line \n",
        "\n",
        "Used to frame the matrix of integers"
      ]
    },
    {
      "cell_type": "code",
      "metadata": {
        "id": "4CiB3HGdojyn",
        "colab_type": "code",
        "colab": {}
      },
      "source": [
        "BORDER_PREFIX = \"**\"\n",
        "BORDER_SUFFIX = \"*\"\n",
        "def print_border_line():\n",
        "    print(BORDER_PREFIX, end = \"\")\n",
        "    for i in range(0, INTEGERS_PER_LINE * 2):\n",
        "        print('*', end = \"\")\n",
        "    print(BORDER_SUFFIX, end = '\\n')"
      ],
      "execution_count": 6,
      "outputs": []
    },
    {
      "cell_type": "code",
      "metadata": {
        "id": "_YRwxf9qo6R7",
        "colab_type": "code",
        "colab": {
          "base_uri": "https://localhost:8080/",
          "height": 33
        },
        "outputId": "2556422e-19bf-4f77-82f4-9e8edd97f479"
      },
      "source": [
        "print_border_line()"
      ],
      "execution_count": 7,
      "outputs": [
        {
          "output_type": "stream",
          "text": [
            "***********************\n"
          ],
          "name": "stdout"
        }
      ]
    },
    {
      "cell_type": "markdown",
      "metadata": {
        "id": "7ri8AU9fyZ8_",
        "colab_type": "text"
      },
      "source": [
        "## Print a bordered matrix of the random integers"
      ]
    },
    {
      "cell_type": "code",
      "metadata": {
        "id": "56mA5Yn4njZv",
        "colab_type": "code",
        "colab": {
          "base_uri": "https://localhost:8080/",
          "height": 212
        },
        "outputId": "57d222c7-e5eb-4047-80fd-2ed6fdf0ecf3"
      },
      "source": [
        "print_border_line()\n",
        "for i in range(0, INTEGERS_PER_LINE):\n",
        "    print('*', end = \" \")\n",
        "    for j in range(0, INTEGER_LINES):\n",
        "        print(random_integer_list[i * INTEGERS_PER_LINE + j], end = \" \")\n",
        "    print('*', end = \"\\n\")\n",
        "print_border_line()    "
      ],
      "execution_count": 8,
      "outputs": [
        {
          "output_type": "stream",
          "text": [
            "***********************\n",
            "* 8 2 2 7 2 2 3 8 5 3 *\n",
            "* 7 7 5 2 0 2 6 7 6 3 *\n",
            "* 0 1 2 2 3 3 9 9 3 1 *\n",
            "* 2 3 2 6 8 7 6 6 8 9 *\n",
            "* 4 8 0 6 7 1 8 0 0 3 *\n",
            "* 0 9 2 1 6 8 1 1 7 5 *\n",
            "* 5 7 7 7 6 0 7 4 3 7 *\n",
            "* 5 7 6 4 6 7 0 3 3 4 *\n",
            "* 7 6 6 2 5 3 1 7 2 4 *\n",
            "* 1 6 0 6 4 4 9 8 2 4 *\n",
            "***********************\n"
          ],
          "name": "stdout"
        }
      ]
    },
    {
      "cell_type": "markdown",
      "metadata": {
        "id": "oF1x7HFcxFF5",
        "colab_type": "text"
      },
      "source": [
        "# COMPLETE"
      ]
    },
    {
      "cell_type": "code",
      "metadata": {
        "id": "Em9j7wjhxGoD",
        "colab_type": "code",
        "colab": {}
      },
      "source": [
        ""
      ],
      "execution_count": 8,
      "outputs": []
    }
  ]
}
