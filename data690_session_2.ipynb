{
  "nbformat": 4,
  "nbformat_minor": 0,
  "metadata": {
    "colab": {
      "name": "data690_session_2.ipynb",
      "provenance": [],
      "authorship_tag": "ABX9TyOI52BAk6ZYGd7TqZUBkAWV",
      "include_colab_link": true
    },
    "kernelspec": {
      "name": "python3",
      "display_name": "Python 3"
    }
  },
  "cells": [
    {
      "cell_type": "markdown",
      "metadata": {
        "id": "view-in-github",
        "colab_type": "text"
      },
      "source": [
        "<a href=\"https://colab.research.google.com/github/knoppin1/DATA-690-WANG/blob/master/data690_session_2.ipynb\" target=\"_parent\"><img src=\"https://colab.research.google.com/assets/colab-badge.svg\" alt=\"Open In Colab\"/></a>"
      ]
    },
    {
      "cell_type": "markdown",
      "metadata": {
        "id": "j3s8y5ulYrjZ",
        "colab_type": "text"
      },
      "source": [
        "# This is a test notebook"
      ]
    },
    {
      "cell_type": "code",
      "metadata": {
        "id": "3lnGZBcBYKXA",
        "colab_type": "code",
        "colab": {
          "base_uri": "https://localhost:8080/",
          "height": 52
        },
        "outputId": "8f1ed503-d825-44b4-a4dd-5e84199124a8"
      },
      "source": [
        "age = input(\"your age? \")\n",
        "print(\"hello world\", age)"
      ],
      "execution_count": 4,
      "outputs": [
        {
          "output_type": "stream",
          "text": [
            "your age? 54\n",
            "hello world 54\n"
          ],
          "name": "stdout"
        }
      ]
    },
    {
      "cell_type": "markdown",
      "metadata": {
        "id": "JV8p5i9ra6CU",
        "colab_type": "text"
      },
      "source": [
        "# Learn Python Data Types"
      ]
    },
    {
      "cell_type": "code",
      "metadata": {
        "id": "jpOG8KByYcNX",
        "colab_type": "code",
        "colab": {}
      },
      "source": [
        ""
      ],
      "execution_count": null,
      "outputs": []
    }
  ]
}