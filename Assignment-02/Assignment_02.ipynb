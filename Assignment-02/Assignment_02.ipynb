{
 "cells": [
  {
   "cell_type": "markdown",
   "metadata": {},
   "source": [
    "# DATA-609: Assignment 02\n",
    "\n",
    "### Ken Noppinger (knoppin1@umbc.edu)\n",
    "\n",
    "## Requirements\n",
    "\n",
    "Prompt a user to enter 10 integers. If the user enters anything other than integers, remind her that only integers are allowed and let her retry. Don't allow the user to enter more than 10 or less than 10 integers. Display the 10 integers back to the user at the end. Calculate the following statistics from the 10 integers entered:\n",
    "\n",
    "- Minimum\n",
    "- Maximum\n",
    "- Range\n",
    "- Mean\n",
    "- Variance\n",
    "- Standard Deviation\n",
    "\n",
    "Note:\n",
    "\n",
    "Use the basic Python concepts and methods. Special Python libraries such as statistics, scipy, or numpy are not allowed. You may need to use:\n",
    "\n",
    "- loops (finite and/or infinite loop)\n",
    "- break/continue\n",
    "- try/except\n",
    "- input() function\n",
    "- int() function\n",
    "\n",
    "Implement the solution in the following two different formats:\n",
    "\n",
    "- A Jupyter Notebook (.ipynb)\n",
    "- A Python script (.py)\n",
    "\n",
    "Your source code should be well formatted and easy to read and understand.\n",
    "\n",
    "Provide good comments/documentations:\n",
    "\n",
    "Use both Markdown and comments in the Jupyter Notebook.\n",
    "Use comments in the Python script.\n",
    "Your user prompts, use inputs and output displays should be nicely formatted when users run your program.\n",
    "\n",
    "Create a subfolder named \"Assignment-02\" in your GitHub repository (WANG-690-FALL-2020) and upload the two files to the subfolder.\n",
    "\n",
    "Copy your GitHub repository URL to your assignment submission in Blackboard. No files should be uploaded to the BB.\n",
    "\n",
    "-------"
   ]
  },
  {
   "cell_type": "markdown",
   "metadata": {},
   "source": [
    "### Reference Used\n",
    "\n",
    "https://stackabuse.com/calculating-variance-and-standard-deviation-in-python/"
   ]
  },
  {
   "cell_type": "markdown",
   "metadata": {},
   "source": [
    "## Function: get_input_list\n",
    "\n",
    "Prompts user for a list of integers\n",
    "- Inputs: Number of integers to specify in the input\n",
    "- Returns: Raw unvalidated list of inputs"
   ]
  },
  {
   "cell_type": "code",
   "execution_count": 1,
   "metadata": {},
   "outputs": [],
   "source": [
    "def get_input_list(num_elements=10):\n",
    "    input_string = input(f\"Enter {num_elements} integers:\")\n",
    "    return input_string.split()"
   ]
  },
  {
   "cell_type": "markdown",
   "metadata": {},
   "source": [
    "## Function: validate_integers\n",
    "Verifies if all inputs are integers\n",
    "- Inputs: List of raw unvalidated user inputs\n",
    "- Returns: True if all use inputs are integers; False, otherwise"
   ]
  },
  {
   "cell_type": "code",
   "execution_count": 2,
   "metadata": {},
   "outputs": [],
   "source": [
    "def validate_integers(input_list):\n",
    "    valid_status = False\n",
    "    try:\n",
    "        for item in input_list:\n",
    "            item_int = int(item)\n",
    "        valid_status = True\n",
    "    except:\n",
    "        print(\"Invalid input: Only integers are allowed in the list\\n\")\n",
    "    return valid_status    "
   ]
  },
  {
   "cell_type": "markdown",
   "metadata": {},
   "source": [
    "## Function: validate_list_length\n",
    "Verifies the length of input list\n",
    "- Inputs: List of raw unvalidated user inputs and expected length of the list\n",
    "- Returns: True if length of list matches expectation; False, otherwise"
   ]
  },
  {
   "cell_type": "code",
   "execution_count": 3,
   "metadata": {},
   "outputs": [],
   "source": [
    "def validate_list_length(input_list, target_length):\n",
    "    valid_status = False\n",
    "    if len(input_list)==target_length:\n",
    "        valid_status = True\n",
    "    else:\n",
    "        print(f\"Invalid input: {target_length} integers are required in the list\\n\")\n",
    "    return valid_status"
   ]
  },
  {
   "cell_type": "markdown",
   "metadata": {},
   "source": [
    "## Collect and validate inputs"
   ]
  },
  {
   "cell_type": "code",
   "execution_count": 4,
   "metadata": {},
   "outputs": [
    {
     "name": "stdin",
     "output_type": "stream",
     "text": [
      "Enter 10 integers: The cow jumped over the moon\n"
     ]
    },
    {
     "name": "stdout",
     "output_type": "stream",
     "text": [
      "Invalid input: Only integers are allowed in the list\n",
      "\n"
     ]
    },
    {
     "name": "stdin",
     "output_type": "stream",
     "text": [
      "Enter 10 integers: 1 2 3 four\n"
     ]
    },
    {
     "name": "stdout",
     "output_type": "stream",
     "text": [
      "Invalid input: Only integers are allowed in the list\n",
      "\n"
     ]
    },
    {
     "name": "stdin",
     "output_type": "stream",
     "text": [
      "Enter 10 integers: 1 2 3 4 5 6 7 8 9 0\n"
     ]
    },
    {
     "name": "stdout",
     "output_type": "stream",
     "text": [
      "Input validation check successful\n"
     ]
    }
   ],
   "source": [
    "valid_inputs = False\n",
    "num_integers = 10\n",
    "while not valid_inputs:\n",
    "    inputs = get_input_list(num_integers)\n",
    "    if validate_integers(inputs) and validate_list_length(inputs,num_integers):\n",
    "        print(\"Input validation check successful\")\n",
    "        valid_inputs = True\n",
    "validated_inputs = inputs"
   ]
  },
  {
   "cell_type": "markdown",
   "metadata": {},
   "source": [
    "## Function: convert_to_integers\n",
    "\n",
    "Converts a list of raw inputs to integer list.\n",
    "- Inputs: A validated list of inputs\n",
    "- Returns: A list of the inputs converted to integers"
   ]
  },
  {
   "cell_type": "code",
   "execution_count": 5,
   "metadata": {},
   "outputs": [],
   "source": [
    "def convert_to_integers(valid_list):\n",
    "    int_list = []\n",
    "    for num in valid_list:\n",
    "        int_list.append(int(num))\n",
    "    return int_list"
   ]
  },
  {
   "cell_type": "code",
   "execution_count": 6,
   "metadata": {},
   "outputs": [
    {
     "data": {
      "text/plain": [
       "[1, 2, 3, 4, 5, 6, 7, 8, 9, 0]"
      ]
     },
     "execution_count": 6,
     "metadata": {},
     "output_type": "execute_result"
    }
   ],
   "source": [
    "valid_integers_list = convert_to_integers(validated_inputs)\n",
    "valid_integers_list"
   ]
  },
  {
   "cell_type": "code",
   "execution_count": 7,
   "metadata": {},
   "outputs": [
    {
     "data": {
      "text/plain": [
       "list"
      ]
     },
     "execution_count": 7,
     "metadata": {},
     "output_type": "execute_result"
    }
   ],
   "source": [
    "type(valid_integers_list)"
   ]
  },
  {
   "cell_type": "markdown",
   "metadata": {},
   "source": [
    "## Determine minimum, maximum, and range of integers."
   ]
  },
  {
   "cell_type": "code",
   "execution_count": 8,
   "metadata": {},
   "outputs": [
    {
     "name": "stdout",
     "output_type": "stream",
     "text": [
      "Minimum: 0\n",
      "Maximum: 9\n",
      "Range: 0 to 9\n"
     ]
    }
   ],
   "source": [
    "print(f\"Minimum: {min(valid_integers_list)}\") \n",
    "print(f\"Maximum: {max(valid_integers_list)}\") \n",
    "print(f\"Range: {min(valid_integers_list)} to {max(valid_integers_list)}\") "
   ]
  },
  {
   "cell_type": "markdown",
   "metadata": {},
   "source": [
    "## Determine mean of integers."
   ]
  },
  {
   "cell_type": "code",
   "execution_count": 9,
   "metadata": {},
   "outputs": [],
   "source": [
    "def mean(data):\n",
    "    mean = sum(data) / len(data)\n",
    "    return mean"
   ]
  },
  {
   "cell_type": "code",
   "execution_count": 10,
   "metadata": {},
   "outputs": [
    {
     "name": "stdout",
     "output_type": "stream",
     "text": [
      "Mean: 4.5\n"
     ]
    }
   ],
   "source": [
    "print(f\"Mean: {mean(valid_integers_list)}\") "
   ]
  },
  {
   "cell_type": "markdown",
   "metadata": {},
   "source": [
    "## Determine variance of integers."
   ]
  },
  {
   "cell_type": "code",
   "execution_count": 11,
   "metadata": {},
   "outputs": [],
   "source": [
    "def variance(data):\n",
    "    \n",
    "    # Number of elements\n",
    "    n = len(data)\n",
    "    \n",
    "    # Mean of the data\n",
    "    m = mean(data)\n",
    "\n",
    "    # Square deviations\n",
    "    deviations = [(x - m) ** 2 for x in data]\n",
    "    \n",
    "    # Variance - sum the deviations and divid by number of elements in the list\n",
    "    variance = sum(deviations) / n\n",
    "    \n",
    "    return variance"
   ]
  },
  {
   "cell_type": "code",
   "execution_count": 12,
   "metadata": {},
   "outputs": [
    {
     "name": "stdout",
     "output_type": "stream",
     "text": [
      "Variance: 8.25\n"
     ]
    }
   ],
   "source": [
    "print(f\"Variance: {variance(valid_integers_list)}\")"
   ]
  },
  {
   "cell_type": "markdown",
   "metadata": {},
   "source": [
    "## Determine standard deviation of integers."
   ]
  },
  {
   "cell_type": "code",
   "execution_count": 13,
   "metadata": {},
   "outputs": [],
   "source": [
    "def std_deviation(data):\n",
    "    \n",
    "    # Square root of variance\n",
    "    std_dev = variance(data) ** .5\n",
    "    \n",
    "    return std_dev"
   ]
  },
  {
   "cell_type": "code",
   "execution_count": 14,
   "metadata": {},
   "outputs": [
    {
     "name": "stdout",
     "output_type": "stream",
     "text": [
      "Standard Deviation: 2.8722813232690143\n"
     ]
    }
   ],
   "source": [
    "print(f\"Standard Deviation: {std_deviation(valid_integers_list)}\") "
   ]
  },
  {
   "cell_type": "markdown",
   "metadata": {},
   "source": [
    "## Report\n",
    "\n",
    "Print the minimum, maximum, range, mean, variance, standard deviation, and the input list of integers."
   ]
  },
  {
   "cell_type": "code",
   "execution_count": 15,
   "metadata": {},
   "outputs": [
    {
     "name": "stdout",
     "output_type": "stream",
     "text": [
      "Minimum\t\t: 0\n",
      "Maximum\t\t: 9\n",
      "Range\t\t: 0 to 9\n",
      "Mean\t\t: 4.5\n",
      "Variance\t: 8.25\n",
      "Std Deviation\t: 2.8722813232690143\n",
      "Integer List\t: [1, 2, 3, 4, 5, 6, 7, 8, 9, 0]\n"
     ]
    }
   ],
   "source": [
    "print(f\"Minimum\\t\\t: {min(valid_integers_list)}\") \n",
    "print(f\"Maximum\\t\\t: {max(valid_integers_list)}\") \n",
    "print(f\"Range\\t\\t: {min(valid_integers_list)} to {max(valid_integers_list)}\") \n",
    "print(f\"Mean\\t\\t: {mean(valid_integers_list)}\") \n",
    "print(f\"Variance\\t: {variance(valid_integers_list)}\")\n",
    "print(f\"Std Deviation\\t: {std_deviation(valid_integers_list)}\") \n",
    "print(f\"Integer List\\t: {valid_integers_list}\")"
   ]
  },
  {
   "cell_type": "markdown",
   "metadata": {},
   "source": [
    "# Complete"
   ]
  }
 ],
 "metadata": {
  "kernelspec": {
   "display_name": "Python 3",
   "language": "python",
   "name": "python3"
  },
  "language_info": {
   "codemirror_mode": {
    "name": "ipython",
    "version": 3
   },
   "file_extension": ".py",
   "mimetype": "text/x-python",
   "name": "python",
   "nbconvert_exporter": "python",
   "pygments_lexer": "ipython3",
   "version": "3.8.1"
  }
 },
 "nbformat": 4,
 "nbformat_minor": 4
}
