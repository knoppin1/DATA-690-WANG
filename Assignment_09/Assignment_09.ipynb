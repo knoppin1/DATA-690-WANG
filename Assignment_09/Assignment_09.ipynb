{
  "nbformat": 4,
  "nbformat_minor": 0,
  "metadata": {
    "colab": {
      "name": "Assignment_09.ipynb",
      "provenance": [],
      "toc_visible": true,
      "authorship_tag": "ABX9TyMxuYewTZWDenuRJregarF0",
      "include_colab_link": true
    },
    "kernelspec": {
      "name": "python3",
      "display_name": "Python 3"
    }
  },
  "cells": [
    {
      "cell_type": "markdown",
      "metadata": {
        "id": "view-in-github",
        "colab_type": "text"
      },
      "source": [
        "<a href=\"https://colab.research.google.com/github/knoppin1/DATA-690-WANG/blob/master/Assignment_09/Assignment_09.ipynb\" target=\"_parent\"><img src=\"https://colab.research.google.com/assets/colab-badge.svg\" alt=\"Open In Colab\"/></a>"
      ]
    },
    {
      "cell_type": "markdown",
      "metadata": {
        "id": "6pnJkUsGNsq3"
      },
      "source": [
        "# 1 - Import Necessary Files"
      ]
    },
    {
      "cell_type": "code",
      "metadata": {
        "id": "cMcx-VnL7hH_"
      },
      "source": [
        "import os\n",
        "from random import *\n",
        "import pandas as pd\n",
        "import matplotlib.pyplot as plt\n",
        "import plotly\n",
        "\n",
        "# Libraries below are used in retrieving the zip file\n",
        "from io import BytesIO\n",
        "from urllib.request import urlopen\n",
        "from zipfile import ZipFile"
      ],
      "execution_count": null,
      "outputs": []
    },
    {
      "cell_type": "markdown",
      "metadata": {
        "id": "sblzbtEURVdy"
      },
      "source": [
        "# 2 - Read Election Data \n",
        "\n",
        "2020 Presidential Candidate County Level Data \n",
        "\n",
        "- File is available from Kaggle  \n",
        "- https://www.kaggle.com/unanimad/us-election-2020?select=president_county_candidate.csv"
      ]
    },
    {
      "cell_type": "markdown",
      "metadata": {
        "id": "EVLv2Dg49VwE"
      },
      "source": [
        "This attempt below to automatically download the file didn't work...\n",
        "````\n",
        "!pip install wget\n",
        "import wget\n",
        "url = 'https://www.kaggle.com/unanimad/us-election-2020/president_county_candidate.csv'\n",
        "filename = wget.download(url)\n",
        "````"
      ]
    },
    {
      "cell_type": "markdown",
      "metadata": {
        "id": "az0gPG4eQKbt"
      },
      "source": [
        "So, manually download \"*president_county_candidate.csv*\" file from Kaggle and load it into Jupyter session."
      ]
    },
    {
      "cell_type": "code",
      "metadata": {
        "id": "g0BDsIqM97PL"
      },
      "source": [
        "filename = 'president_county_candidate.csv'"
      ],
      "execution_count": null,
      "outputs": []
    },
    {
      "cell_type": "markdown",
      "metadata": {
        "id": "t5hOX5xjSeet"
      },
      "source": [
        "Read the CSV file"
      ]
    },
    {
      "cell_type": "code",
      "metadata": {
        "id": "LU-MwuPiRTEm",
        "colab": {
          "base_uri": "https://localhost:8080/"
        },
        "outputId": "155709d9-bac9-493e-b00a-9c9cf065f050"
      },
      "source": [
        "df = pd.read_csv(filename, header=0, sep=',', error_bad_lines=False) \n",
        "df.shape"
      ],
      "execution_count": null,
      "outputs": [
        {
          "output_type": "execute_result",
          "data": {
            "text/plain": [
              "(31407, 6)"
            ]
          },
          "metadata": {
            "tags": []
          },
          "execution_count": 3
        }
      ]
    },
    {
      "cell_type": "code",
      "metadata": {
        "colab": {
          "base_uri": "https://localhost:8080/",
          "height": 197
        },
        "id": "gDZr1Ecs-Ay5",
        "outputId": "2b5ebc97-cdbb-49f1-ac03-d73bc4bde86c"
      },
      "source": [
        "df.head()"
      ],
      "execution_count": null,
      "outputs": [
        {
          "output_type": "execute_result",
          "data": {
            "text/html": [
              "<div>\n",
              "<style scoped>\n",
              "    .dataframe tbody tr th:only-of-type {\n",
              "        vertical-align: middle;\n",
              "    }\n",
              "\n",
              "    .dataframe tbody tr th {\n",
              "        vertical-align: top;\n",
              "    }\n",
              "\n",
              "    .dataframe thead th {\n",
              "        text-align: right;\n",
              "    }\n",
              "</style>\n",
              "<table border=\"1\" class=\"dataframe\">\n",
              "  <thead>\n",
              "    <tr style=\"text-align: right;\">\n",
              "      <th></th>\n",
              "      <th>state</th>\n",
              "      <th>county</th>\n",
              "      <th>candidate</th>\n",
              "      <th>party</th>\n",
              "      <th>total_votes</th>\n",
              "      <th>won</th>\n",
              "    </tr>\n",
              "  </thead>\n",
              "  <tbody>\n",
              "    <tr>\n",
              "      <th>0</th>\n",
              "      <td>Delaware</td>\n",
              "      <td>Kent County</td>\n",
              "      <td>Joe Biden</td>\n",
              "      <td>DEM</td>\n",
              "      <td>44552</td>\n",
              "      <td>True</td>\n",
              "    </tr>\n",
              "    <tr>\n",
              "      <th>1</th>\n",
              "      <td>Delaware</td>\n",
              "      <td>Kent County</td>\n",
              "      <td>Donald Trump</td>\n",
              "      <td>REP</td>\n",
              "      <td>41009</td>\n",
              "      <td>False</td>\n",
              "    </tr>\n",
              "    <tr>\n",
              "      <th>2</th>\n",
              "      <td>Delaware</td>\n",
              "      <td>Kent County</td>\n",
              "      <td>Jo Jorgensen</td>\n",
              "      <td>LIB</td>\n",
              "      <td>1044</td>\n",
              "      <td>False</td>\n",
              "    </tr>\n",
              "    <tr>\n",
              "      <th>3</th>\n",
              "      <td>Delaware</td>\n",
              "      <td>Kent County</td>\n",
              "      <td>Howie Hawkins</td>\n",
              "      <td>GRN</td>\n",
              "      <td>420</td>\n",
              "      <td>False</td>\n",
              "    </tr>\n",
              "    <tr>\n",
              "      <th>4</th>\n",
              "      <td>Delaware</td>\n",
              "      <td>New Castle County</td>\n",
              "      <td>Joe Biden</td>\n",
              "      <td>DEM</td>\n",
              "      <td>195034</td>\n",
              "      <td>True</td>\n",
              "    </tr>\n",
              "  </tbody>\n",
              "</table>\n",
              "</div>"
            ],
            "text/plain": [
              "      state             county      candidate party  total_votes    won\n",
              "0  Delaware        Kent County      Joe Biden   DEM        44552   True\n",
              "1  Delaware        Kent County   Donald Trump   REP        41009  False\n",
              "2  Delaware        Kent County   Jo Jorgensen   LIB         1044  False\n",
              "3  Delaware        Kent County  Howie Hawkins   GRN          420  False\n",
              "4  Delaware  New Castle County      Joe Biden   DEM       195034   True"
            ]
          },
          "metadata": {
            "tags": []
          },
          "execution_count": 4
        }
      ]
    },
    {
      "cell_type": "code",
      "metadata": {
        "id": "xEiWivtCS5T-",
        "colab": {
          "base_uri": "https://localhost:8080/",
          "height": 197
        },
        "outputId": "8cf0b5f1-a46a-41fe-8a8e-1ce386622ddc"
      },
      "source": [
        "df.tail()"
      ],
      "execution_count": null,
      "outputs": [
        {
          "output_type": "execute_result",
          "data": {
            "text/html": [
              "<div>\n",
              "<style scoped>\n",
              "    .dataframe tbody tr th:only-of-type {\n",
              "        vertical-align: middle;\n",
              "    }\n",
              "\n",
              "    .dataframe tbody tr th {\n",
              "        vertical-align: top;\n",
              "    }\n",
              "\n",
              "    .dataframe thead th {\n",
              "        text-align: right;\n",
              "    }\n",
              "</style>\n",
              "<table border=\"1\" class=\"dataframe\">\n",
              "  <thead>\n",
              "    <tr style=\"text-align: right;\">\n",
              "      <th></th>\n",
              "      <th>state</th>\n",
              "      <th>county</th>\n",
              "      <th>candidate</th>\n",
              "      <th>party</th>\n",
              "      <th>total_votes</th>\n",
              "      <th>won</th>\n",
              "    </tr>\n",
              "  </thead>\n",
              "  <tbody>\n",
              "    <tr>\n",
              "      <th>31402</th>\n",
              "      <td>Arizona</td>\n",
              "      <td>Maricopa County</td>\n",
              "      <td>Donald Trump</td>\n",
              "      <td>REP</td>\n",
              "      <td>995665</td>\n",
              "      <td>False</td>\n",
              "    </tr>\n",
              "    <tr>\n",
              "      <th>31403</th>\n",
              "      <td>Arizona</td>\n",
              "      <td>Maricopa County</td>\n",
              "      <td>Jo Jorgensen</td>\n",
              "      <td>LIB</td>\n",
              "      <td>31705</td>\n",
              "      <td>False</td>\n",
              "    </tr>\n",
              "    <tr>\n",
              "      <th>31404</th>\n",
              "      <td>Arizona</td>\n",
              "      <td>Mohave County</td>\n",
              "      <td>Donald Trump</td>\n",
              "      <td>REP</td>\n",
              "      <td>78535</td>\n",
              "      <td>True</td>\n",
              "    </tr>\n",
              "    <tr>\n",
              "      <th>31405</th>\n",
              "      <td>Arizona</td>\n",
              "      <td>Mohave County</td>\n",
              "      <td>Joe Biden</td>\n",
              "      <td>DEM</td>\n",
              "      <td>24831</td>\n",
              "      <td>False</td>\n",
              "    </tr>\n",
              "    <tr>\n",
              "      <th>31406</th>\n",
              "      <td>Arizona</td>\n",
              "      <td>Mohave County</td>\n",
              "      <td>Jo Jorgensen</td>\n",
              "      <td>LIB</td>\n",
              "      <td>1302</td>\n",
              "      <td>False</td>\n",
              "    </tr>\n",
              "  </tbody>\n",
              "</table>\n",
              "</div>"
            ],
            "text/plain": [
              "         state           county     candidate party  total_votes    won\n",
              "31402  Arizona  Maricopa County  Donald Trump   REP       995665  False\n",
              "31403  Arizona  Maricopa County  Jo Jorgensen   LIB        31705  False\n",
              "31404  Arizona    Mohave County  Donald Trump   REP        78535   True\n",
              "31405  Arizona    Mohave County     Joe Biden   DEM        24831  False\n",
              "31406  Arizona    Mohave County  Jo Jorgensen   LIB         1302  False"
            ]
          },
          "metadata": {
            "tags": []
          },
          "execution_count": 5
        }
      ]
    },
    {
      "cell_type": "markdown",
      "metadata": {
        "id": "KWIx1C2-Td57"
      },
      "source": [
        "# 3 - Clean Election Data\n"
      ]
    },
    {
      "cell_type": "markdown",
      "metadata": {
        "id": "6BF4fbxDTCZs"
      },
      "source": [
        "## 3.1 - Display summary information\n",
        "\n"
      ]
    },
    {
      "cell_type": "code",
      "metadata": {
        "id": "D9G1HlAXS73u",
        "colab": {
          "base_uri": "https://localhost:8080/"
        },
        "outputId": "32771cce-037f-48bd-c328-02d7568ac759"
      },
      "source": [
        "df.info()"
      ],
      "execution_count": null,
      "outputs": [
        {
          "output_type": "stream",
          "text": [
            "<class 'pandas.core.frame.DataFrame'>\n",
            "RangeIndex: 31407 entries, 0 to 31406\n",
            "Data columns (total 6 columns):\n",
            " #   Column       Non-Null Count  Dtype \n",
            "---  ------       --------------  ----- \n",
            " 0   state        31407 non-null  object\n",
            " 1   county       31407 non-null  object\n",
            " 2   candidate    31407 non-null  object\n",
            " 3   party        31407 non-null  object\n",
            " 4   total_votes  31407 non-null  int64 \n",
            " 5   won          31407 non-null  bool  \n",
            "dtypes: bool(1), int64(1), object(4)\n",
            "memory usage: 1.2+ MB\n"
          ],
          "name": "stdout"
        }
      ]
    },
    {
      "cell_type": "markdown",
      "metadata": {
        "id": "MA2r-YJzVD1f"
      },
      "source": [
        "All columns have correct data types."
      ]
    },
    {
      "cell_type": "code",
      "metadata": {
        "id": "2SQmthGkU2f_",
        "colab": {
          "base_uri": "https://localhost:8080/",
          "height": 377
        },
        "outputId": "654793ca-8050-47d2-f527-3dc19f52b271"
      },
      "source": [
        "df.describe(include =  'all')"
      ],
      "execution_count": null,
      "outputs": [
        {
          "output_type": "execute_result",
          "data": {
            "text/html": [
              "<div>\n",
              "<style scoped>\n",
              "    .dataframe tbody tr th:only-of-type {\n",
              "        vertical-align: middle;\n",
              "    }\n",
              "\n",
              "    .dataframe tbody tr th {\n",
              "        vertical-align: top;\n",
              "    }\n",
              "\n",
              "    .dataframe thead th {\n",
              "        text-align: right;\n",
              "    }\n",
              "</style>\n",
              "<table border=\"1\" class=\"dataframe\">\n",
              "  <thead>\n",
              "    <tr style=\"text-align: right;\">\n",
              "      <th></th>\n",
              "      <th>state</th>\n",
              "      <th>county</th>\n",
              "      <th>candidate</th>\n",
              "      <th>party</th>\n",
              "      <th>total_votes</th>\n",
              "      <th>won</th>\n",
              "    </tr>\n",
              "  </thead>\n",
              "  <tbody>\n",
              "    <tr>\n",
              "      <th>count</th>\n",
              "      <td>31407</td>\n",
              "      <td>31407</td>\n",
              "      <td>31407</td>\n",
              "      <td>31407</td>\n",
              "      <td>3.140700e+04</td>\n",
              "      <td>31407</td>\n",
              "    </tr>\n",
              "    <tr>\n",
              "      <th>unique</th>\n",
              "      <td>51</td>\n",
              "      <td>3007</td>\n",
              "      <td>38</td>\n",
              "      <td>26</td>\n",
              "      <td>NaN</td>\n",
              "      <td>2</td>\n",
              "    </tr>\n",
              "    <tr>\n",
              "      <th>top</th>\n",
              "      <td>Vermont</td>\n",
              "      <td>Washington County</td>\n",
              "      <td>Donald Trump</td>\n",
              "      <td>DEM</td>\n",
              "      <td>NaN</td>\n",
              "      <td>False</td>\n",
              "    </tr>\n",
              "    <tr>\n",
              "      <th>freq</th>\n",
              "      <td>5412</td>\n",
              "      <td>180</td>\n",
              "      <td>4633</td>\n",
              "      <td>4633</td>\n",
              "      <td>NaN</td>\n",
              "      <td>26774</td>\n",
              "    </tr>\n",
              "    <tr>\n",
              "      <th>mean</th>\n",
              "      <td>NaN</td>\n",
              "      <td>NaN</td>\n",
              "      <td>NaN</td>\n",
              "      <td>NaN</td>\n",
              "      <td>5.016970e+03</td>\n",
              "      <td>NaN</td>\n",
              "    </tr>\n",
              "    <tr>\n",
              "      <th>std</th>\n",
              "      <td>NaN</td>\n",
              "      <td>NaN</td>\n",
              "      <td>NaN</td>\n",
              "      <td>NaN</td>\n",
              "      <td>3.574530e+04</td>\n",
              "      <td>NaN</td>\n",
              "    </tr>\n",
              "    <tr>\n",
              "      <th>min</th>\n",
              "      <td>NaN</td>\n",
              "      <td>NaN</td>\n",
              "      <td>NaN</td>\n",
              "      <td>NaN</td>\n",
              "      <td>0.000000e+00</td>\n",
              "      <td>NaN</td>\n",
              "    </tr>\n",
              "    <tr>\n",
              "      <th>25%</th>\n",
              "      <td>NaN</td>\n",
              "      <td>NaN</td>\n",
              "      <td>NaN</td>\n",
              "      <td>NaN</td>\n",
              "      <td>3.000000e+00</td>\n",
              "      <td>NaN</td>\n",
              "    </tr>\n",
              "    <tr>\n",
              "      <th>50%</th>\n",
              "      <td>NaN</td>\n",
              "      <td>NaN</td>\n",
              "      <td>NaN</td>\n",
              "      <td>NaN</td>\n",
              "      <td>3.500000e+01</td>\n",
              "      <td>NaN</td>\n",
              "    </tr>\n",
              "    <tr>\n",
              "      <th>75%</th>\n",
              "      <td>NaN</td>\n",
              "      <td>NaN</td>\n",
              "      <td>NaN</td>\n",
              "      <td>NaN</td>\n",
              "      <td>8.090000e+02</td>\n",
              "      <td>NaN</td>\n",
              "    </tr>\n",
              "    <tr>\n",
              "      <th>max</th>\n",
              "      <td>NaN</td>\n",
              "      <td>NaN</td>\n",
              "      <td>NaN</td>\n",
              "      <td>NaN</td>\n",
              "      <td>3.020546e+06</td>\n",
              "      <td>NaN</td>\n",
              "    </tr>\n",
              "  </tbody>\n",
              "</table>\n",
              "</div>"
            ],
            "text/plain": [
              "          state             county     candidate  party   total_votes    won\n",
              "count     31407              31407         31407  31407  3.140700e+04  31407\n",
              "unique       51               3007            38     26           NaN      2\n",
              "top     Vermont  Washington County  Donald Trump    DEM           NaN  False\n",
              "freq       5412                180          4633   4633           NaN  26774\n",
              "mean        NaN                NaN           NaN    NaN  5.016970e+03    NaN\n",
              "std         NaN                NaN           NaN    NaN  3.574530e+04    NaN\n",
              "min         NaN                NaN           NaN    NaN  0.000000e+00    NaN\n",
              "25%         NaN                NaN           NaN    NaN  3.000000e+00    NaN\n",
              "50%         NaN                NaN           NaN    NaN  3.500000e+01    NaN\n",
              "75%         NaN                NaN           NaN    NaN  8.090000e+02    NaN\n",
              "max         NaN                NaN           NaN    NaN  3.020546e+06    NaN"
            ]
          },
          "metadata": {
            "tags": []
          },
          "execution_count": 7
        }
      ]
    },
    {
      "cell_type": "markdown",
      "metadata": {
        "id": "2WEdGlTLVSFl"
      },
      "source": [
        "Notes:\n",
        "- There are 31,407 records each representing voting results by candidate for each state/county.  \n",
        "- There were 38 total candidates, but not all candidates were on each ballot. Only Donald Trump and Joe Biden are relevant to this study.\n",
        "- There are 51 states (DC is counted as a state in the data set because it has electoral votes)\n",
        "- 3007 counties are represented (DC has wards included as counties in the data)\n",
        "- All counties have declared a winner"
      ]
    },
    {
      "cell_type": "markdown",
      "metadata": {
        "id": "L4_6CqysUWpZ"
      },
      "source": [
        "## 3.2 - Check for Missing Data"
      ]
    },
    {
      "cell_type": "code",
      "metadata": {
        "id": "ciLRi3ZOT3wi",
        "colab": {
          "base_uri": "https://localhost:8080/"
        },
        "outputId": "d39f789f-b8b4-49b5-97b7-dc011116a371"
      },
      "source": [
        "df.isnull().sum()"
      ],
      "execution_count": null,
      "outputs": [
        {
          "output_type": "execute_result",
          "data": {
            "text/plain": [
              "state          0\n",
              "county         0\n",
              "candidate      0\n",
              "party          0\n",
              "total_votes    0\n",
              "won            0\n",
              "dtype: int64"
            ]
          },
          "metadata": {
            "tags": []
          },
          "execution_count": 8
        }
      ]
    },
    {
      "cell_type": "markdown",
      "metadata": {
        "id": "_RgnBaWQTJsE"
      },
      "source": [
        "There are no missing records."
      ]
    },
    {
      "cell_type": "markdown",
      "metadata": {
        "id": "c986PPCjTWPk"
      },
      "source": [
        "## 3.3 - Remove Duplicate Rows"
      ]
    },
    {
      "cell_type": "markdown",
      "metadata": {
        "id": "bPMh75_bYssU"
      },
      "source": [
        "Find duplicates\n"
      ]
    },
    {
      "cell_type": "code",
      "metadata": {
        "id": "AJAU8LeBY87U",
        "colab": {
          "base_uri": "https://localhost:8080/"
        },
        "outputId": "e1cc216c-09da-4fb9-dc6f-34bc188ccea0"
      },
      "source": [
        "dups = df.duplicated(keep=False)\n",
        "dups"
      ],
      "execution_count": null,
      "outputs": [
        {
          "output_type": "execute_result",
          "data": {
            "text/plain": [
              "0        False\n",
              "1        False\n",
              "2        False\n",
              "3        False\n",
              "4        False\n",
              "         ...  \n",
              "31402    False\n",
              "31403    False\n",
              "31404    False\n",
              "31405    False\n",
              "31406    False\n",
              "Length: 31407, dtype: bool"
            ]
          },
          "metadata": {
            "tags": []
          },
          "execution_count": 9
        }
      ]
    },
    {
      "cell_type": "markdown",
      "metadata": {
        "id": "4bE0i9q5dTm0"
      },
      "source": [
        "Get index of any duplicates\n",
        "\n",
        "Ref: https://stackoverflow.com/questions/52173161/getting-a-list-of-indices-where-pandas-boolean-series-is-true"
      ]
    },
    {
      "cell_type": "code",
      "metadata": {
        "id": "tgtti-_idSZt",
        "colab": {
          "base_uri": "https://localhost:8080/"
        },
        "outputId": "12e9b309-0d01-4729-af1c-6639d3ab855c"
      },
      "source": [
        "[i for i in dups.index if dups[i]]"
      ],
      "execution_count": null,
      "outputs": [
        {
          "output_type": "execute_result",
          "data": {
            "text/plain": [
              "[]"
            ]
          },
          "metadata": {
            "tags": []
          },
          "execution_count": 10
        }
      ]
    },
    {
      "cell_type": "markdown",
      "metadata": {
        "id": "9xd_WzM0aUbG"
      },
      "source": [
        "No duplicates exist.  "
      ]
    },
    {
      "cell_type": "code",
      "metadata": {
        "id": "TjBpZfs-TtmT",
        "colab": {
          "base_uri": "https://localhost:8080/"
        },
        "outputId": "04fee458-bb31-43e1-de9b-bcacc0297726"
      },
      "source": [
        "df.drop_duplicates(inplace=True)\n",
        "df.shape"
      ],
      "execution_count": null,
      "outputs": [
        {
          "output_type": "execute_result",
          "data": {
            "text/plain": [
              "(31407, 6)"
            ]
          },
          "metadata": {
            "tags": []
          },
          "execution_count": 11
        }
      ]
    },
    {
      "cell_type": "markdown",
      "metadata": {
        "id": "Ho3MMpYpeqTK"
      },
      "source": [
        "Check specifically for candidate duplicate entries in any state/county "
      ]
    },
    {
      "cell_type": "code",
      "metadata": {
        "id": "8o27tU63e_-f",
        "colab": {
          "base_uri": "https://localhost:8080/"
        },
        "outputId": "41a24555-009c-4e48-9ea2-97b0543af3e1"
      },
      "source": [
        "dups = df.duplicated(['state','county','candidate'],keep=False)\n",
        "dups"
      ],
      "execution_count": null,
      "outputs": [
        {
          "output_type": "execute_result",
          "data": {
            "text/plain": [
              "0        False\n",
              "1        False\n",
              "2        False\n",
              "3        False\n",
              "4        False\n",
              "         ...  \n",
              "31402    False\n",
              "31403    False\n",
              "31404    False\n",
              "31405    False\n",
              "31406    False\n",
              "Length: 31407, dtype: bool"
            ]
          },
          "metadata": {
            "tags": []
          },
          "execution_count": 12
        }
      ]
    },
    {
      "cell_type": "code",
      "metadata": {
        "id": "943qYxoffYs-",
        "colab": {
          "base_uri": "https://localhost:8080/"
        },
        "outputId": "90d466e9-5be8-46a0-e3fe-609c6d05dc4d"
      },
      "source": [
        "[i for i in dups.index if dups[i]]"
      ],
      "execution_count": null,
      "outputs": [
        {
          "output_type": "execute_result",
          "data": {
            "text/plain": [
              "[]"
            ]
          },
          "metadata": {
            "tags": []
          },
          "execution_count": 13
        }
      ]
    },
    {
      "cell_type": "markdown",
      "metadata": {
        "id": "NKnnlCv8fhqf"
      },
      "source": [
        "No duplicate entries for a candidate in any state/county"
      ]
    },
    {
      "cell_type": "markdown",
      "metadata": {
        "id": "oFvWQhzG_YVL"
      },
      "source": [
        "## 3.4 - Remove State/County Records Without Votes"
      ]
    },
    {
      "cell_type": "code",
      "metadata": {
        "id": "snc0PC4jzbiq",
        "colab": {
          "base_uri": "https://localhost:8080/",
          "height": 406
        },
        "outputId": "c237cacf-7c03-42a4-f5d5-2ddaaaa181d0"
      },
      "source": [
        "state_county_totals = df.groupby(by=['state','county']).sum('total_votes').sort_values('total_votes')\n",
        "state_county_totals.reset_index(level=['state','county'], inplace=True)\n",
        "state_county_totals"
      ],
      "execution_count": null,
      "outputs": [
        {
          "output_type": "execute_result",
          "data": {
            "text/html": [
              "<div>\n",
              "<style scoped>\n",
              "    .dataframe tbody tr th:only-of-type {\n",
              "        vertical-align: middle;\n",
              "    }\n",
              "\n",
              "    .dataframe tbody tr th {\n",
              "        vertical-align: top;\n",
              "    }\n",
              "\n",
              "    .dataframe thead th {\n",
              "        text-align: right;\n",
              "    }\n",
              "</style>\n",
              "<table border=\"1\" class=\"dataframe\">\n",
              "  <thead>\n",
              "    <tr style=\"text-align: right;\">\n",
              "      <th></th>\n",
              "      <th>state</th>\n",
              "      <th>county</th>\n",
              "      <th>total_votes</th>\n",
              "      <th>won</th>\n",
              "    </tr>\n",
              "  </thead>\n",
              "  <tbody>\n",
              "    <tr>\n",
              "      <th>0</th>\n",
              "      <td>Maine</td>\n",
              "      <td>Sandy River Plt.</td>\n",
              "      <td>0</td>\n",
              "      <td>1</td>\n",
              "    </tr>\n",
              "    <tr>\n",
              "      <th>1</th>\n",
              "      <td>Maine</td>\n",
              "      <td>Blaine</td>\n",
              "      <td>0</td>\n",
              "      <td>1</td>\n",
              "    </tr>\n",
              "    <tr>\n",
              "      <th>2</th>\n",
              "      <td>Illinois</td>\n",
              "      <td>Hardin County</td>\n",
              "      <td>0</td>\n",
              "      <td>1</td>\n",
              "    </tr>\n",
              "    <tr>\n",
              "      <th>3</th>\n",
              "      <td>Maine</td>\n",
              "      <td>Oxford Cty Townships</td>\n",
              "      <td>0</td>\n",
              "      <td>1</td>\n",
              "    </tr>\n",
              "    <tr>\n",
              "      <th>4</th>\n",
              "      <td>Massachusetts</td>\n",
              "      <td>Clarksburg</td>\n",
              "      <td>0</td>\n",
              "      <td>1</td>\n",
              "    </tr>\n",
              "    <tr>\n",
              "      <th>...</th>\n",
              "      <td>...</td>\n",
              "      <td>...</td>\n",
              "      <td>...</td>\n",
              "      <td>...</td>\n",
              "    </tr>\n",
              "    <tr>\n",
              "      <th>4628</th>\n",
              "      <td>California</td>\n",
              "      <td>San Diego County</td>\n",
              "      <td>1600272</td>\n",
              "      <td>1</td>\n",
              "    </tr>\n",
              "    <tr>\n",
              "      <th>4629</th>\n",
              "      <td>Texas</td>\n",
              "      <td>Harris County</td>\n",
              "      <td>1640818</td>\n",
              "      <td>1</td>\n",
              "    </tr>\n",
              "    <tr>\n",
              "      <th>4630</th>\n",
              "      <td>Arizona</td>\n",
              "      <td>Maricopa County</td>\n",
              "      <td>2068144</td>\n",
              "      <td>1</td>\n",
              "    </tr>\n",
              "    <tr>\n",
              "      <th>4631</th>\n",
              "      <td>Illinois</td>\n",
              "      <td>Cook County</td>\n",
              "      <td>2306675</td>\n",
              "      <td>1</td>\n",
              "    </tr>\n",
              "    <tr>\n",
              "      <th>4632</th>\n",
              "      <td>California</td>\n",
              "      <td>Los Angeles County</td>\n",
              "      <td>4251487</td>\n",
              "      <td>1</td>\n",
              "    </tr>\n",
              "  </tbody>\n",
              "</table>\n",
              "<p>4633 rows × 4 columns</p>\n",
              "</div>"
            ],
            "text/plain": [
              "              state                county  total_votes  won\n",
              "0             Maine      Sandy River Plt.            0    1\n",
              "1             Maine                Blaine            0    1\n",
              "2          Illinois         Hardin County            0    1\n",
              "3             Maine  Oxford Cty Townships            0    1\n",
              "4     Massachusetts            Clarksburg            0    1\n",
              "...             ...                   ...          ...  ...\n",
              "4628     California      San Diego County      1600272    1\n",
              "4629          Texas         Harris County      1640818    1\n",
              "4630        Arizona       Maricopa County      2068144    1\n",
              "4631       Illinois           Cook County      2306675    1\n",
              "4632     California    Los Angeles County      4251487    1\n",
              "\n",
              "[4633 rows x 4 columns]"
            ]
          },
          "metadata": {
            "tags": []
          },
          "execution_count": 14
        }
      ]
    },
    {
      "cell_type": "markdown",
      "metadata": {
        "id": "yFwBS7iZCL-i"
      },
      "source": [
        "Get state/counties that didn't submit votes"
      ]
    },
    {
      "cell_type": "code",
      "metadata": {
        "id": "j5U5ZjkszrMI",
        "colab": {
          "base_uri": "https://localhost:8080/",
          "height": 406
        },
        "outputId": "d47f939d-2bf9-4e70-a41d-71f476086ec3"
      },
      "source": [
        "no_votes = state_county_totals.query('total_votes == 0')\n",
        "no_votes"
      ],
      "execution_count": null,
      "outputs": [
        {
          "output_type": "execute_result",
          "data": {
            "text/html": [
              "<div>\n",
              "<style scoped>\n",
              "    .dataframe tbody tr th:only-of-type {\n",
              "        vertical-align: middle;\n",
              "    }\n",
              "\n",
              "    .dataframe tbody tr th {\n",
              "        vertical-align: top;\n",
              "    }\n",
              "\n",
              "    .dataframe thead th {\n",
              "        text-align: right;\n",
              "    }\n",
              "</style>\n",
              "<table border=\"1\" class=\"dataframe\">\n",
              "  <thead>\n",
              "    <tr style=\"text-align: right;\">\n",
              "      <th></th>\n",
              "      <th>state</th>\n",
              "      <th>county</th>\n",
              "      <th>total_votes</th>\n",
              "      <th>won</th>\n",
              "    </tr>\n",
              "  </thead>\n",
              "  <tbody>\n",
              "    <tr>\n",
              "      <th>0</th>\n",
              "      <td>Maine</td>\n",
              "      <td>Sandy River Plt.</td>\n",
              "      <td>0</td>\n",
              "      <td>1</td>\n",
              "    </tr>\n",
              "    <tr>\n",
              "      <th>1</th>\n",
              "      <td>Maine</td>\n",
              "      <td>Blaine</td>\n",
              "      <td>0</td>\n",
              "      <td>1</td>\n",
              "    </tr>\n",
              "    <tr>\n",
              "      <th>2</th>\n",
              "      <td>Illinois</td>\n",
              "      <td>Hardin County</td>\n",
              "      <td>0</td>\n",
              "      <td>1</td>\n",
              "    </tr>\n",
              "    <tr>\n",
              "      <th>3</th>\n",
              "      <td>Maine</td>\n",
              "      <td>Oxford Cty Townships</td>\n",
              "      <td>0</td>\n",
              "      <td>1</td>\n",
              "    </tr>\n",
              "    <tr>\n",
              "      <th>4</th>\n",
              "      <td>Massachusetts</td>\n",
              "      <td>Clarksburg</td>\n",
              "      <td>0</td>\n",
              "      <td>1</td>\n",
              "    </tr>\n",
              "    <tr>\n",
              "      <th>...</th>\n",
              "      <td>...</td>\n",
              "      <td>...</td>\n",
              "      <td>...</td>\n",
              "      <td>...</td>\n",
              "    </tr>\n",
              "    <tr>\n",
              "      <th>127</th>\n",
              "      <td>Maine</td>\n",
              "      <td>Wellington</td>\n",
              "      <td>0</td>\n",
              "      <td>1</td>\n",
              "    </tr>\n",
              "    <tr>\n",
              "      <th>128</th>\n",
              "      <td>Maine</td>\n",
              "      <td>Washington Cty Townships</td>\n",
              "      <td>0</td>\n",
              "      <td>1</td>\n",
              "    </tr>\n",
              "    <tr>\n",
              "      <th>129</th>\n",
              "      <td>Maine</td>\n",
              "      <td>Carthage</td>\n",
              "      <td>0</td>\n",
              "      <td>1</td>\n",
              "    </tr>\n",
              "    <tr>\n",
              "      <th>130</th>\n",
              "      <td>Maine</td>\n",
              "      <td>Cary Plt.</td>\n",
              "      <td>0</td>\n",
              "      <td>1</td>\n",
              "    </tr>\n",
              "    <tr>\n",
              "      <th>131</th>\n",
              "      <td>Maine</td>\n",
              "      <td>Webster Plt.</td>\n",
              "      <td>0</td>\n",
              "      <td>1</td>\n",
              "    </tr>\n",
              "  </tbody>\n",
              "</table>\n",
              "<p>132 rows × 4 columns</p>\n",
              "</div>"
            ],
            "text/plain": [
              "             state                    county  total_votes  won\n",
              "0            Maine          Sandy River Plt.            0    1\n",
              "1            Maine                    Blaine            0    1\n",
              "2         Illinois             Hardin County            0    1\n",
              "3            Maine      Oxford Cty Townships            0    1\n",
              "4    Massachusetts                Clarksburg            0    1\n",
              "..             ...                       ...          ...  ...\n",
              "127          Maine                Wellington            0    1\n",
              "128          Maine  Washington Cty Townships            0    1\n",
              "129          Maine                  Carthage            0    1\n",
              "130          Maine                 Cary Plt.            0    1\n",
              "131          Maine              Webster Plt.            0    1\n",
              "\n",
              "[132 rows x 4 columns]"
            ]
          },
          "metadata": {
            "tags": []
          },
          "execution_count": 15
        }
      ]
    },
    {
      "cell_type": "markdown",
      "metadata": {
        "id": "3coyuBEe2ROo"
      },
      "source": [
        "Delete all rows from the master dataframe where the state and county are in the list without votes.\n",
        "\n",
        "Ref: https://thispointer.com/python-pandas-how-to-drop-rows-in-dataframe-by-conditions-on-column-values/"
      ]
    },
    {
      "cell_type": "code",
      "metadata": {
        "id": "w6m_5A1h3bK9",
        "colab": {
          "base_uri": "https://localhost:8080/"
        },
        "outputId": "e4de5382-a30b-4fd0-84ba-6bd21abb25df"
      },
      "source": [
        "bad_states = list(no_votes.state.unique())\n",
        "bad_states"
      ],
      "execution_count": null,
      "outputs": [
        {
          "output_type": "execute_result",
          "data": {
            "text/plain": [
              "['Maine', 'Illinois', 'Massachusetts']"
            ]
          },
          "metadata": {
            "tags": []
          },
          "execution_count": 16
        }
      ]
    },
    {
      "cell_type": "code",
      "metadata": {
        "id": "P4IN8SbN8Otd",
        "colab": {
          "base_uri": "https://localhost:8080/"
        },
        "outputId": "8f0a9bce-3a2b-4495-ae72-0c8dbe34fc07"
      },
      "source": [
        "bad_counties = list(no_votes.county.unique())\n",
        "len(bad_counties)"
      ],
      "execution_count": null,
      "outputs": [
        {
          "output_type": "execute_result",
          "data": {
            "text/plain": [
              "132"
            ]
          },
          "metadata": {
            "tags": []
          },
          "execution_count": 17
        }
      ]
    },
    {
      "cell_type": "code",
      "metadata": {
        "id": "WGiPQh_JymE7",
        "colab": {
          "base_uri": "https://localhost:8080/"
        },
        "outputId": "a4aa01ef-7a28-46a3-fdae-baaa75a2d24a"
      },
      "source": [
        "indexNames = df[df['state'].isin(bad_states) & df['county'].isin(bad_counties)].index \n",
        "len(indexNames)"
      ],
      "execution_count": null,
      "outputs": [
        {
          "output_type": "execute_result",
          "data": {
            "text/plain": [
              "860"
            ]
          },
          "metadata": {
            "tags": []
          },
          "execution_count": 18
        }
      ]
    },
    {
      "cell_type": "markdown",
      "metadata": {
        "id": "D79ogFApCVLx"
      },
      "source": [
        "Drop the records in indexNames list"
      ]
    },
    {
      "cell_type": "code",
      "metadata": {
        "id": "P7P7CX95xlnf",
        "colab": {
          "base_uri": "https://localhost:8080/"
        },
        "outputId": "44763c0d-fb03-4945-cd2c-fc5505e4362c"
      },
      "source": [
        "df.drop(indexNames , inplace=True)\n",
        "df.shape"
      ],
      "execution_count": null,
      "outputs": [
        {
          "output_type": "execute_result",
          "data": {
            "text/plain": [
              "(30547, 6)"
            ]
          },
          "metadata": {
            "tags": []
          },
          "execution_count": 19
        }
      ]
    },
    {
      "cell_type": "markdown",
      "metadata": {
        "id": "9KOhdu-P-UII"
      },
      "source": [
        "Dropped 860 records representing state/counties that did not submit candidate vote totals."
      ]
    },
    {
      "cell_type": "markdown",
      "metadata": {
        "id": "Qz4eUVqeByLc"
      },
      "source": [
        "## 3.5 - Retain Only Biden & Trump Observations"
      ]
    },
    {
      "cell_type": "code",
      "metadata": {
        "id": "f7hVIE1eCCpb",
        "colab": {
          "base_uri": "https://localhost:8080/"
        },
        "outputId": "043dab68-38d6-48a7-de8d-c599fb72deea"
      },
      "source": [
        "candidates_to_keep = ['Joe Biden','Donald Trump']\n",
        "df = df[df.candidate.isin(candidates_to_keep)]\n",
        "df.shape"
      ],
      "execution_count": null,
      "outputs": [
        {
          "output_type": "execute_result",
          "data": {
            "text/plain": [
              "(8972, 6)"
            ]
          },
          "metadata": {
            "tags": []
          },
          "execution_count": 20
        }
      ]
    },
    {
      "cell_type": "code",
      "metadata": {
        "id": "E3BfpqSCDvkG",
        "colab": {
          "base_uri": "https://localhost:8080/",
          "height": 377
        },
        "outputId": "aa692129-a907-41fe-9f09-78229eca0247"
      },
      "source": [
        "df.describe(include = 'all')"
      ],
      "execution_count": null,
      "outputs": [
        {
          "output_type": "execute_result",
          "data": {
            "text/html": [
              "<div>\n",
              "<style scoped>\n",
              "    .dataframe tbody tr th:only-of-type {\n",
              "        vertical-align: middle;\n",
              "    }\n",
              "\n",
              "    .dataframe tbody tr th {\n",
              "        vertical-align: top;\n",
              "    }\n",
              "\n",
              "    .dataframe thead th {\n",
              "        text-align: right;\n",
              "    }\n",
              "</style>\n",
              "<table border=\"1\" class=\"dataframe\">\n",
              "  <thead>\n",
              "    <tr style=\"text-align: right;\">\n",
              "      <th></th>\n",
              "      <th>state</th>\n",
              "      <th>county</th>\n",
              "      <th>candidate</th>\n",
              "      <th>party</th>\n",
              "      <th>total_votes</th>\n",
              "      <th>won</th>\n",
              "    </tr>\n",
              "  </thead>\n",
              "  <tbody>\n",
              "    <tr>\n",
              "      <th>count</th>\n",
              "      <td>8972</td>\n",
              "      <td>8972</td>\n",
              "      <td>8972</td>\n",
              "      <td>8972</td>\n",
              "      <td>8.972000e+03</td>\n",
              "      <td>8972</td>\n",
              "    </tr>\n",
              "    <tr>\n",
              "      <th>unique</th>\n",
              "      <td>51</td>\n",
              "      <td>2895</td>\n",
              "      <td>2</td>\n",
              "      <td>2</td>\n",
              "      <td>NaN</td>\n",
              "      <td>2</td>\n",
              "    </tr>\n",
              "    <tr>\n",
              "      <th>top</th>\n",
              "      <td>Maine</td>\n",
              "      <td>Washington County</td>\n",
              "      <td>Donald Trump</td>\n",
              "      <td>REP</td>\n",
              "      <td>NaN</td>\n",
              "      <td>True</td>\n",
              "    </tr>\n",
              "    <tr>\n",
              "      <th>freq</th>\n",
              "      <td>750</td>\n",
              "      <td>54</td>\n",
              "      <td>4486</td>\n",
              "      <td>4486</td>\n",
              "      <td>NaN</td>\n",
              "      <td>4486</td>\n",
              "    </tr>\n",
              "    <tr>\n",
              "      <th>mean</th>\n",
              "      <td>NaN</td>\n",
              "      <td>NaN</td>\n",
              "      <td>NaN</td>\n",
              "      <td>NaN</td>\n",
              "      <td>1.721894e+04</td>\n",
              "      <td>NaN</td>\n",
              "    </tr>\n",
              "    <tr>\n",
              "      <th>std</th>\n",
              "      <td>NaN</td>\n",
              "      <td>NaN</td>\n",
              "      <td>NaN</td>\n",
              "      <td>NaN</td>\n",
              "      <td>6.529119e+04</td>\n",
              "      <td>NaN</td>\n",
              "    </tr>\n",
              "    <tr>\n",
              "      <th>min</th>\n",
              "      <td>NaN</td>\n",
              "      <td>NaN</td>\n",
              "      <td>NaN</td>\n",
              "      <td>NaN</td>\n",
              "      <td>0.000000e+00</td>\n",
              "      <td>NaN</td>\n",
              "    </tr>\n",
              "    <tr>\n",
              "      <th>25%</th>\n",
              "      <td>NaN</td>\n",
              "      <td>NaN</td>\n",
              "      <td>NaN</td>\n",
              "      <td>NaN</td>\n",
              "      <td>1.042750e+03</td>\n",
              "      <td>NaN</td>\n",
              "    </tr>\n",
              "    <tr>\n",
              "      <th>50%</th>\n",
              "      <td>NaN</td>\n",
              "      <td>NaN</td>\n",
              "      <td>NaN</td>\n",
              "      <td>NaN</td>\n",
              "      <td>3.541000e+03</td>\n",
              "      <td>NaN</td>\n",
              "    </tr>\n",
              "    <tr>\n",
              "      <th>75%</th>\n",
              "      <td>NaN</td>\n",
              "      <td>NaN</td>\n",
              "      <td>NaN</td>\n",
              "      <td>NaN</td>\n",
              "      <td>1.030625e+04</td>\n",
              "      <td>NaN</td>\n",
              "    </tr>\n",
              "    <tr>\n",
              "      <th>max</th>\n",
              "      <td>NaN</td>\n",
              "      <td>NaN</td>\n",
              "      <td>NaN</td>\n",
              "      <td>NaN</td>\n",
              "      <td>3.020546e+06</td>\n",
              "      <td>NaN</td>\n",
              "    </tr>\n",
              "  </tbody>\n",
              "</table>\n",
              "</div>"
            ],
            "text/plain": [
              "        state             county     candidate party   total_votes   won\n",
              "count    8972               8972          8972  8972  8.972000e+03  8972\n",
              "unique     51               2895             2     2           NaN     2\n",
              "top     Maine  Washington County  Donald Trump   REP           NaN  True\n",
              "freq      750                 54          4486  4486           NaN  4486\n",
              "mean      NaN                NaN           NaN   NaN  1.721894e+04   NaN\n",
              "std       NaN                NaN           NaN   NaN  6.529119e+04   NaN\n",
              "min       NaN                NaN           NaN   NaN  0.000000e+00   NaN\n",
              "25%       NaN                NaN           NaN   NaN  1.042750e+03   NaN\n",
              "50%       NaN                NaN           NaN   NaN  3.541000e+03   NaN\n",
              "75%       NaN                NaN           NaN   NaN  1.030625e+04   NaN\n",
              "max       NaN                NaN           NaN   NaN  3.020546e+06   NaN"
            ]
          },
          "metadata": {
            "tags": []
          },
          "execution_count": 34
        }
      ]
    },
    {
      "cell_type": "markdown",
      "metadata": {
        "id": "JIBmwDQMgfJk"
      },
      "source": [
        "# 4 - Review Wins at County Level"
      ]
    },
    {
      "cell_type": "code",
      "metadata": {
        "id": "OM-RsRCODGAa",
        "colab": {
          "base_uri": "https://localhost:8080/"
        },
        "outputId": "9c19216f-0dd8-4406-a7f9-2d86fb2ac36c"
      },
      "source": [
        "state_county_grp = df.groupby(by=['state','county'])\n",
        "state_county_grp.groups"
      ],
      "execution_count": null,
      "outputs": [
        {
          "output_type": "execute_result",
          "data": {
            "text/plain": [
              "{('Alabama', 'Autauga County'): [27334, 27335], ('Alabama', 'Baldwin County'): [27378, 27379], ('Alabama', 'Barbour County'): [27422, 27423], ('Alabama', 'Bibb County'): [27466, 27467], ('Alabama', 'Blount County'): [27510, 27511], ('Alabama', 'Bullock County'): [27546, 27547], ('Alabama', 'Butler County'): [27550, 27551], ('Alabama', 'Calhoun County'): [27554, 27555], ('Alabama', 'Chambers County'): [27558, 27559], ('Alabama', 'Cherokee County'): [27294, 27295], ('Alabama', 'Chilton County'): [27298, 27299], ('Alabama', 'Choctaw County'): [27302, 27303], ('Alabama', 'Clarke County'): [27306, 27307], ('Alabama', 'Clay County'): [27310, 27311], ('Alabama', 'Cleburne County'): [27314, 27315], ('Alabama', 'Coffee County'): [27318, 27319], ('Alabama', 'Colbert County'): [27322, 27323], ('Alabama', 'Conecuh County'): [27326, 27327], ('Alabama', 'Coosa County'): [27330, 27331], ('Alabama', 'Covington County'): [27338, 27339], ('Alabama', 'Crenshaw County'): [27342, 27343], ('Alabama', 'Cullman County'): [27346, 27347], ('Alabama', 'Dale County'): [27350, 27351], ('Alabama', 'Dallas County'): [27354, 27355], ('Alabama', 'DeKalb County'): [27358, 27359], ('Alabama', 'Elmore County'): [27362, 27363], ('Alabama', 'Escambia County'): [27366, 27367], ('Alabama', 'Etowah County'): [27370, 27371], ('Alabama', 'Fayette County'): [27374, 27375], ('Alabama', 'Franklin County'): [27382, 27383], ('Alabama', 'Geneva County'): [27386, 27387], ('Alabama', 'Greene County'): [27390, 27391], ('Alabama', 'Hale County'): [27394, 27395], ('Alabama', 'Henry County'): [27398, 27399], ('Alabama', 'Houston County'): [27402, 27403], ('Alabama', 'Jackson County'): [27406, 27407], ('Alabama', 'Jefferson County'): [27410, 27411], ('Alabama', 'Lamar County'): [27414, 27415], ('Alabama', 'Lauderdale County'): [27418, 27419], ('Alabama', 'Lawrence County'): [27426, 27427], ('Alabama', 'Lee County'): [27430, 27431], ('Alabama', 'Limestone County'): [27434, 27435], ('Alabama', 'Lowndes County'): [27438, 27439], ('Alabama', 'Macon County'): [27442, 27443], ('Alabama', 'Madison County'): [27446, 27447], ('Alabama', 'Marengo County'): [27450, 27451], ('Alabama', 'Marion County'): [27454, 27455], ('Alabama', 'Marshall County'): [27458, 27459], ('Alabama', 'Mobile County'): [27462, 27463], ('Alabama', 'Monroe County'): [27470, 27471], ('Alabama', 'Montgomery County'): [27474, 27475], ('Alabama', 'Morgan County'): [27478, 27479], ('Alabama', 'Perry County'): [27482, 27483], ('Alabama', 'Pickens County'): [27486, 27487], ('Alabama', 'Pike County'): [27490, 27491], ('Alabama', 'Randolph County'): [27494, 27495], ('Alabama', 'Russell County'): [27498, 27499], ('Alabama', 'Shelby County'): [27506, 27507], ('Alabama', 'St. Clair County'): [27502, 27503], ('Alabama', 'Sumter County'): [27514, 27515], ('Alabama', 'Talladega County'): [27518, 27519], ('Alabama', 'Tallapoosa County'): [27522, 27523], ('Alabama', 'Tuscaloosa County'): [27526, 27527], ('Alabama', 'Walker County'): [27530, 27531], ('Alabama', 'Washington County'): [27534, 27535], ('Alabama', 'Wilcox County'): [27538, 27539], ('Alabama', 'Winston County'): [27542, 27543], ('Alaska', 'ED 1'): [27632, 27633], ('Alaska', 'ED 10'): [27562, 27563], ('Alaska', 'ED 11'): [27569, 27570], ('Alaska', 'ED 12'): [27576, 27577], ('Alaska', 'ED 13'): [27583, 27584], ('Alaska', 'ED 14'): [27590, 27591], ('Alaska', 'ED 15'): [27597, 27598], ('Alaska', 'ED 16'): [27604, 27605], ('Alaska', 'ED 17'): [27611, 27612], ('Alaska', 'ED 18'): [27618, 27619], ('Alaska', 'ED 19'): [27625, 27626], ('Alaska', 'ED 2'): [27709, 27710], ('Alaska', 'ED 20'): [27639, 27640], ('Alaska', 'ED 21'): [27646, 27647], ('Alaska', 'ED 22'): [27653, 27654], ('Alaska', 'ED 23'): [27660, 27661], ('Alaska', 'ED 24'): [27667, 27668], ('Alaska', 'ED 25'): [27674, 27675], ('Alaska', 'ED 26'): [27681, 27682], ('Alaska', 'ED 27'): [27688, 27689], ('Alaska', 'ED 28'): [27695, 27696], ('Alaska', 'ED 29'): [27702, 27703], ('Alaska', 'ED 3'): [27786, 27787], ('Alaska', 'ED 30'): [27716, 27717], ('Alaska', 'ED 31'): [27723, 27724], ('Alaska', 'ED 32'): [27730, 27731], ('Alaska', 'ED 33'): [27737, 27738], ('Alaska', 'ED 34'): [27744, 27745], ('Alaska', 'ED 35'): [27751, 27752], ('Alaska', 'ED 36'): [27758, 27759], ('Alaska', 'ED 37'): [27765, 27766], ('Alaska', 'ED 38'): [27772, 27773], ('Alaska', 'ED 39'): [27779, 27780], ...}"
            ]
          },
          "metadata": {
            "tags": []
          },
          "execution_count": 28
        }
      ]
    },
    {
      "cell_type": "markdown",
      "metadata": {
        "id": "5tMe2q6ChkeP"
      },
      "source": [
        "Display winner for each county in each state."
      ]
    },
    {
      "cell_type": "code",
      "metadata": {
        "id": "grY9neGKgjLC",
        "colab": {
          "base_uri": "https://localhost:8080/",
          "height": 406
        },
        "outputId": "a0d7f794-81d2-4105-b90d-5188bcc184b8"
      },
      "source": [
        "county_winners = state_county_grp.first().sort_values('won',ascending=False)\n",
        "county_winners.reset_index(level=['state','county'], inplace=True)\n",
        "county_winners"
      ],
      "execution_count": null,
      "outputs": [
        {
          "output_type": "execute_result",
          "data": {
            "text/html": [
              "<div>\n",
              "<style scoped>\n",
              "    .dataframe tbody tr th:only-of-type {\n",
              "        vertical-align: middle;\n",
              "    }\n",
              "\n",
              "    .dataframe tbody tr th {\n",
              "        vertical-align: top;\n",
              "    }\n",
              "\n",
              "    .dataframe thead th {\n",
              "        text-align: right;\n",
              "    }\n",
              "</style>\n",
              "<table border=\"1\" class=\"dataframe\">\n",
              "  <thead>\n",
              "    <tr style=\"text-align: right;\">\n",
              "      <th></th>\n",
              "      <th>state</th>\n",
              "      <th>county</th>\n",
              "      <th>candidate</th>\n",
              "      <th>party</th>\n",
              "      <th>total_votes</th>\n",
              "      <th>won</th>\n",
              "    </tr>\n",
              "  </thead>\n",
              "  <tbody>\n",
              "    <tr>\n",
              "      <th>0</th>\n",
              "      <td>Alabama</td>\n",
              "      <td>Autauga County</td>\n",
              "      <td>Donald Trump</td>\n",
              "      <td>REP</td>\n",
              "      <td>19764</td>\n",
              "      <td>True</td>\n",
              "    </tr>\n",
              "    <tr>\n",
              "      <th>1</th>\n",
              "      <td>North Carolina</td>\n",
              "      <td>Chowan County</td>\n",
              "      <td>Donald Trump</td>\n",
              "      <td>REP</td>\n",
              "      <td>4471</td>\n",
              "      <td>True</td>\n",
              "    </tr>\n",
              "    <tr>\n",
              "      <th>2</th>\n",
              "      <td>North Carolina</td>\n",
              "      <td>Currituck County</td>\n",
              "      <td>Donald Trump</td>\n",
              "      <td>REP</td>\n",
              "      <td>11657</td>\n",
              "      <td>True</td>\n",
              "    </tr>\n",
              "    <tr>\n",
              "      <th>3</th>\n",
              "      <td>North Carolina</td>\n",
              "      <td>Cumberland County</td>\n",
              "      <td>Joe Biden</td>\n",
              "      <td>DEM</td>\n",
              "      <td>84469</td>\n",
              "      <td>True</td>\n",
              "    </tr>\n",
              "    <tr>\n",
              "      <th>4</th>\n",
              "      <td>North Carolina</td>\n",
              "      <td>Craven County</td>\n",
              "      <td>Donald Trump</td>\n",
              "      <td>REP</td>\n",
              "      <td>31032</td>\n",
              "      <td>True</td>\n",
              "    </tr>\n",
              "    <tr>\n",
              "      <th>...</th>\n",
              "      <td>...</td>\n",
              "      <td>...</td>\n",
              "      <td>...</td>\n",
              "      <td>...</td>\n",
              "      <td>...</td>\n",
              "      <td>...</td>\n",
              "    </tr>\n",
              "    <tr>\n",
              "      <th>4481</th>\n",
              "      <td>Maine</td>\n",
              "      <td>Hartford</td>\n",
              "      <td>Donald Trump</td>\n",
              "      <td>REP</td>\n",
              "      <td>428</td>\n",
              "      <td>True</td>\n",
              "    </tr>\n",
              "    <tr>\n",
              "      <th>4482</th>\n",
              "      <td>Maine</td>\n",
              "      <td>Hartland</td>\n",
              "      <td>Donald Trump</td>\n",
              "      <td>REP</td>\n",
              "      <td>610</td>\n",
              "      <td>True</td>\n",
              "    </tr>\n",
              "    <tr>\n",
              "      <th>4483</th>\n",
              "      <td>Maine</td>\n",
              "      <td>Hebron</td>\n",
              "      <td>Donald Trump</td>\n",
              "      <td>REP</td>\n",
              "      <td>427</td>\n",
              "      <td>True</td>\n",
              "    </tr>\n",
              "    <tr>\n",
              "      <th>4484</th>\n",
              "      <td>Maine</td>\n",
              "      <td>Hermon</td>\n",
              "      <td>Donald Trump</td>\n",
              "      <td>REP</td>\n",
              "      <td>2427</td>\n",
              "      <td>True</td>\n",
              "    </tr>\n",
              "    <tr>\n",
              "      <th>4485</th>\n",
              "      <td>Wyoming</td>\n",
              "      <td>Weston County</td>\n",
              "      <td>Donald Trump</td>\n",
              "      <td>REP</td>\n",
              "      <td>3107</td>\n",
              "      <td>True</td>\n",
              "    </tr>\n",
              "  </tbody>\n",
              "</table>\n",
              "<p>4486 rows × 6 columns</p>\n",
              "</div>"
            ],
            "text/plain": [
              "               state             county     candidate party  total_votes   won\n",
              "0            Alabama     Autauga County  Donald Trump   REP        19764  True\n",
              "1     North Carolina      Chowan County  Donald Trump   REP         4471  True\n",
              "2     North Carolina   Currituck County  Donald Trump   REP        11657  True\n",
              "3     North Carolina  Cumberland County     Joe Biden   DEM        84469  True\n",
              "4     North Carolina      Craven County  Donald Trump   REP        31032  True\n",
              "...              ...                ...           ...   ...          ...   ...\n",
              "4481           Maine           Hartford  Donald Trump   REP          428  True\n",
              "4482           Maine           Hartland  Donald Trump   REP          610  True\n",
              "4483           Maine             Hebron  Donald Trump   REP          427  True\n",
              "4484           Maine             Hermon  Donald Trump   REP         2427  True\n",
              "4485         Wyoming      Weston County  Donald Trump   REP         3107  True\n",
              "\n",
              "[4486 rows x 6 columns]"
            ]
          },
          "metadata": {
            "tags": []
          },
          "execution_count": 29
        }
      ]
    },
    {
      "cell_type": "markdown",
      "metadata": {
        "id": "m9RS90x9SLer"
      },
      "source": [
        "Display number of county wins for each candidate."
      ]
    },
    {
      "cell_type": "code",
      "metadata": {
        "id": "5ovlVtqDSLAA",
        "colab": {
          "base_uri": "https://localhost:8080/"
        },
        "outputId": "6668c035-e36a-4fd6-fabf-97aa8a771336"
      },
      "source": [
        "wins = county_winners.groupby(by='candidate').count()\n",
        "wins['won']"
      ],
      "execution_count": null,
      "outputs": [
        {
          "output_type": "execute_result",
          "data": {
            "text/plain": [
              "candidate\n",
              "Donald Trump    3122\n",
              "Joe Biden       1364\n",
              "Name: won, dtype: int64"
            ]
          },
          "metadata": {
            "tags": []
          },
          "execution_count": 36
        }
      ]
    },
    {
      "cell_type": "code",
      "metadata": {
        "id": "7BvzQLvmTk50",
        "colab": {
          "base_uri": "https://localhost:8080/",
          "height": 294
        },
        "outputId": "588e1c08-bc33-4b37-bcde-8b74aa8cd3ac"
      },
      "source": [
        "ax = wins['won'].plot.bar(x='candidate', rot=0, xlabel='Candidate', ylabel='wins', title='County Wins')"
      ],
      "execution_count": null,
      "outputs": [
        {
          "output_type": "display_data",
          "data": {
            "image/png": "[encoded data removed]",
            "text/plain": [
              "<Figure size 432x288 with 1 Axes>"
            ]
          },
          "metadata": {
            "tags": [],
            "needs_background": "light"
          }
        }
      ]
    },
    {
      "cell_type": "code",
      "metadata": {
        "id": "iqiYHG3eRbbs",
        "colab": {
          "base_uri": "https://localhost:8080/",
          "height": 406
        },
        "outputId": "29e2d1ab-c865-4a92-e045-ce4ebe41000c"
      },
      "source": [
        "df.sort_values('total_votes', ascending=False)"
      ],
      "execution_count": null,
      "outputs": [
        {
          "output_type": "execute_result",
          "data": {
            "text/html": [
              "<div>\n",
              "<style scoped>\n",
              "    .dataframe tbody tr th:only-of-type {\n",
              "        vertical-align: middle;\n",
              "    }\n",
              "\n",
              "    .dataframe tbody tr th {\n",
              "        vertical-align: top;\n",
              "    }\n",
              "\n",
              "    .dataframe thead th {\n",
              "        text-align: right;\n",
              "    }\n",
              "</style>\n",
              "<table border=\"1\" class=\"dataframe\">\n",
              "  <thead>\n",
              "    <tr style=\"text-align: right;\">\n",
              "      <th></th>\n",
              "      <th>state</th>\n",
              "      <th>county</th>\n",
              "      <th>candidate</th>\n",
              "      <th>party</th>\n",
              "      <th>total_votes</th>\n",
              "      <th>won</th>\n",
              "    </tr>\n",
              "  </thead>\n",
              "  <tbody>\n",
              "    <tr>\n",
              "      <th>28871</th>\n",
              "      <td>California</td>\n",
              "      <td>Los Angeles County</td>\n",
              "      <td>Joe Biden</td>\n",
              "      <td>DEM</td>\n",
              "      <td>3020546</td>\n",
              "      <td>True</td>\n",
              "    </tr>\n",
              "    <tr>\n",
              "      <th>1664</th>\n",
              "      <td>Illinois</td>\n",
              "      <td>Cook County</td>\n",
              "      <td>Joe Biden</td>\n",
              "      <td>DEM</td>\n",
              "      <td>1714792</td>\n",
              "      <td>True</td>\n",
              "    </tr>\n",
              "    <tr>\n",
              "      <th>28872</th>\n",
              "      <td>California</td>\n",
              "      <td>Los Angeles County</td>\n",
              "      <td>Donald Trump</td>\n",
              "      <td>REP</td>\n",
              "      <td>1142225</td>\n",
              "      <td>False</td>\n",
              "    </tr>\n",
              "    <tr>\n",
              "      <th>31401</th>\n",
              "      <td>Arizona</td>\n",
              "      <td>Maricopa County</td>\n",
              "      <td>Joe Biden</td>\n",
              "      <td>DEM</td>\n",
              "      <td>1040774</td>\n",
              "      <td>True</td>\n",
              "    </tr>\n",
              "    <tr>\n",
              "      <th>31402</th>\n",
              "      <td>Arizona</td>\n",
              "      <td>Maricopa County</td>\n",
              "      <td>Donald Trump</td>\n",
              "      <td>REP</td>\n",
              "      <td>995665</td>\n",
              "      <td>False</td>\n",
              "    </tr>\n",
              "    <tr>\n",
              "      <th>...</th>\n",
              "      <td>...</td>\n",
              "      <td>...</td>\n",
              "      <td>...</td>\n",
              "      <td>...</td>\n",
              "      <td>...</td>\n",
              "      <td>...</td>\n",
              "    </tr>\n",
              "    <tr>\n",
              "      <th>13976</th>\n",
              "      <td>New Hampshire</td>\n",
              "      <td>Millsfield</td>\n",
              "      <td>Joe Biden</td>\n",
              "      <td>DEM</td>\n",
              "      <td>5</td>\n",
              "      <td>False</td>\n",
              "    </tr>\n",
              "    <tr>\n",
              "      <th>13947</th>\n",
              "      <td>New Hampshire</td>\n",
              "      <td>Dixville</td>\n",
              "      <td>Joe Biden</td>\n",
              "      <td>DEM</td>\n",
              "      <td>5</td>\n",
              "      <td>True</td>\n",
              "    </tr>\n",
              "    <tr>\n",
              "      <th>14008</th>\n",
              "      <td>New Hampshire</td>\n",
              "      <td>Wentworth's Location</td>\n",
              "      <td>Joe Biden</td>\n",
              "      <td>DEM</td>\n",
              "      <td>4</td>\n",
              "      <td>False</td>\n",
              "    </tr>\n",
              "    <tr>\n",
              "      <th>19699</th>\n",
              "      <td>Texas</td>\n",
              "      <td>Loving County</td>\n",
              "      <td>Joe Biden</td>\n",
              "      <td>DEM</td>\n",
              "      <td>4</td>\n",
              "      <td>False</td>\n",
              "    </tr>\n",
              "    <tr>\n",
              "      <th>13948</th>\n",
              "      <td>New Hampshire</td>\n",
              "      <td>Dixville</td>\n",
              "      <td>Donald Trump</td>\n",
              "      <td>REP</td>\n",
              "      <td>0</td>\n",
              "      <td>False</td>\n",
              "    </tr>\n",
              "  </tbody>\n",
              "</table>\n",
              "<p>8972 rows × 6 columns</p>\n",
              "</div>"
            ],
            "text/plain": [
              "               state                county  ... total_votes    won\n",
              "28871     California    Los Angeles County  ...     3020546   True\n",
              "1664        Illinois           Cook County  ...     1714792   True\n",
              "28872     California    Los Angeles County  ...     1142225  False\n",
              "31401        Arizona       Maricopa County  ...     1040774   True\n",
              "31402        Arizona       Maricopa County  ...      995665  False\n",
              "...              ...                   ...  ...         ...    ...\n",
              "13976  New Hampshire            Millsfield  ...           5  False\n",
              "13947  New Hampshire              Dixville  ...           5   True\n",
              "14008  New Hampshire  Wentworth's Location  ...           4  False\n",
              "19699          Texas         Loving County  ...           4  False\n",
              "13948  New Hampshire              Dixville  ...           0  False\n",
              "\n",
              "[8972 rows x 6 columns]"
            ]
          },
          "metadata": {
            "tags": []
          },
          "execution_count": 43
        }
      ]
    },
    {
      "cell_type": "markdown",
      "metadata": {
        "id": "g-gZhuXDW3bL"
      },
      "source": [
        "Create Biden and Trump datarames"
      ]
    },
    {
      "cell_type": "code",
      "metadata": {
        "id": "pDZ_gF47WHYE",
        "colab": {
          "base_uri": "https://localhost:8080/"
        },
        "outputId": "32cdef32-aa91-4bb7-b41a-01891a107509"
      },
      "source": [
        "biden = df[(df.candidate == 'Joe Biden')]\n",
        "biden.shape"
      ],
      "execution_count": null,
      "outputs": [
        {
          "output_type": "execute_result",
          "data": {
            "text/plain": [
              "(4486, 6)"
            ]
          },
          "metadata": {
            "tags": []
          },
          "execution_count": 51
        }
      ]
    },
    {
      "cell_type": "code",
      "metadata": {
        "id": "qTUFjX0gXNdB",
        "colab": {
          "base_uri": "https://localhost:8080/",
          "height": 197
        },
        "outputId": "08f014f1-d28d-47cf-edee-165a5a929271"
      },
      "source": [
        "biden.sample(5)"
      ],
      "execution_count": null,
      "outputs": [
        {
          "output_type": "execute_result",
          "data": {
            "text/html": [
              "<div>\n",
              "<style scoped>\n",
              "    .dataframe tbody tr th:only-of-type {\n",
              "        vertical-align: middle;\n",
              "    }\n",
              "\n",
              "    .dataframe tbody tr th {\n",
              "        vertical-align: top;\n",
              "    }\n",
              "\n",
              "    .dataframe thead th {\n",
              "        text-align: right;\n",
              "    }\n",
              "</style>\n",
              "<table border=\"1\" class=\"dataframe\">\n",
              "  <thead>\n",
              "    <tr style=\"text-align: right;\">\n",
              "      <th></th>\n",
              "      <th>state</th>\n",
              "      <th>county</th>\n",
              "      <th>candidate</th>\n",
              "      <th>party</th>\n",
              "      <th>total_votes</th>\n",
              "      <th>won</th>\n",
              "    </tr>\n",
              "  </thead>\n",
              "  <tbody>\n",
              "    <tr>\n",
              "      <th>26164</th>\n",
              "      <td>Virginia</td>\n",
              "      <td>Wise County</td>\n",
              "      <td>Joe Biden</td>\n",
              "      <td>DEM</td>\n",
              "      <td>3110</td>\n",
              "      <td>False</td>\n",
              "    </tr>\n",
              "    <tr>\n",
              "      <th>13130</th>\n",
              "      <td>Montana</td>\n",
              "      <td>Blaine County</td>\n",
              "      <td>Joe Biden</td>\n",
              "      <td>DEM</td>\n",
              "      <td>1589</td>\n",
              "      <td>True</td>\n",
              "    </tr>\n",
              "    <tr>\n",
              "      <th>2357</th>\n",
              "      <td>Indiana</td>\n",
              "      <td>Floyd County</td>\n",
              "      <td>Joe Biden</td>\n",
              "      <td>DEM</td>\n",
              "      <td>17511</td>\n",
              "      <td>False</td>\n",
              "    </tr>\n",
              "    <tr>\n",
              "      <th>28854</th>\n",
              "      <td>California</td>\n",
              "      <td>Kings County</td>\n",
              "      <td>Joe Biden</td>\n",
              "      <td>DEM</td>\n",
              "      <td>17729</td>\n",
              "      <td>False</td>\n",
              "    </tr>\n",
              "    <tr>\n",
              "      <th>19496</th>\n",
              "      <td>Texas</td>\n",
              "      <td>Harrison County</td>\n",
              "      <td>Joe Biden</td>\n",
              "      <td>DEM</td>\n",
              "      <td>7908</td>\n",
              "      <td>False</td>\n",
              "    </tr>\n",
              "  </tbody>\n",
              "</table>\n",
              "</div>"
            ],
            "text/plain": [
              "            state           county  candidate party  total_votes    won\n",
              "26164    Virginia      Wise County  Joe Biden   DEM         3110  False\n",
              "13130     Montana    Blaine County  Joe Biden   DEM         1589   True\n",
              "2357      Indiana     Floyd County  Joe Biden   DEM        17511  False\n",
              "28854  California     Kings County  Joe Biden   DEM        17729  False\n",
              "19496       Texas  Harrison County  Joe Biden   DEM         7908  False"
            ]
          },
          "metadata": {
            "tags": []
          },
          "execution_count": 53
        }
      ]
    },
    {
      "cell_type": "code",
      "metadata": {
        "id": "7tI9PHfUW94R",
        "colab": {
          "base_uri": "https://localhost:8080/"
        },
        "outputId": "530f7eab-68e4-4dfb-a9bb-19f05799d6be"
      },
      "source": [
        "trump = df[(df.candidate == 'Donald Trump')]\n",
        "trump.shape"
      ],
      "execution_count": null,
      "outputs": [
        {
          "output_type": "execute_result",
          "data": {
            "text/plain": [
              "(4486, 6)"
            ]
          },
          "metadata": {
            "tags": []
          },
          "execution_count": 52
        }
      ]
    },
    {
      "cell_type": "code",
      "metadata": {
        "id": "XK-0iTx_XPrR",
        "colab": {
          "base_uri": "https://localhost:8080/",
          "height": 197
        },
        "outputId": "82075ba9-ecc5-43ad-fab8-16205350923f"
      },
      "source": [
        "trump.sample(5)"
      ],
      "execution_count": null,
      "outputs": [
        {
          "output_type": "execute_result",
          "data": {
            "text/html": [
              "<div>\n",
              "<style scoped>\n",
              "    .dataframe tbody tr th:only-of-type {\n",
              "        vertical-align: middle;\n",
              "    }\n",
              "\n",
              "    .dataframe tbody tr th {\n",
              "        vertical-align: top;\n",
              "    }\n",
              "\n",
              "    .dataframe thead th {\n",
              "        text-align: right;\n",
              "    }\n",
              "</style>\n",
              "<table border=\"1\" class=\"dataframe\">\n",
              "  <thead>\n",
              "    <tr style=\"text-align: right;\">\n",
              "      <th></th>\n",
              "      <th>state</th>\n",
              "      <th>county</th>\n",
              "      <th>candidate</th>\n",
              "      <th>party</th>\n",
              "      <th>total_votes</th>\n",
              "      <th>won</th>\n",
              "    </tr>\n",
              "  </thead>\n",
              "  <tbody>\n",
              "    <tr>\n",
              "      <th>19788</th>\n",
              "      <td>Texas</td>\n",
              "      <td>Motley County</td>\n",
              "      <td>Donald Trump</td>\n",
              "      <td>REP</td>\n",
              "      <td>604</td>\n",
              "      <td>True</td>\n",
              "    </tr>\n",
              "    <tr>\n",
              "      <th>31082</th>\n",
              "      <td>Connecticut</td>\n",
              "      <td>Avon</td>\n",
              "      <td>Donald Trump</td>\n",
              "      <td>REP</td>\n",
              "      <td>4469</td>\n",
              "      <td>False</td>\n",
              "    </tr>\n",
              "    <tr>\n",
              "      <th>884</th>\n",
              "      <td>Georgia</td>\n",
              "      <td>Irwin County</td>\n",
              "      <td>Donald Trump</td>\n",
              "      <td>REP</td>\n",
              "      <td>3134</td>\n",
              "      <td>True</td>\n",
              "    </tr>\n",
              "    <tr>\n",
              "      <th>17784</th>\n",
              "      <td>South Carolina</td>\n",
              "      <td>Anderson County</td>\n",
              "      <td>Donald Trump</td>\n",
              "      <td>REP</td>\n",
              "      <td>67565</td>\n",
              "      <td>True</td>\n",
              "    </tr>\n",
              "    <tr>\n",
              "      <th>13503</th>\n",
              "      <td>Nebraska</td>\n",
              "      <td>Kimball County</td>\n",
              "      <td>Donald Trump</td>\n",
              "      <td>REP</td>\n",
              "      <td>1563</td>\n",
              "      <td>True</td>\n",
              "    </tr>\n",
              "  </tbody>\n",
              "</table>\n",
              "</div>"
            ],
            "text/plain": [
              "                state           county     candidate party  total_votes    won\n",
              "19788           Texas    Motley County  Donald Trump   REP          604   True\n",
              "31082     Connecticut             Avon  Donald Trump   REP         4469  False\n",
              "884           Georgia     Irwin County  Donald Trump   REP         3134   True\n",
              "17784  South Carolina  Anderson County  Donald Trump   REP        67565   True\n",
              "13503        Nebraska   Kimball County  Donald Trump   REP         1563   True"
            ]
          },
          "metadata": {
            "tags": []
          },
          "execution_count": 54
        }
      ]
    },
    {
      "cell_type": "markdown",
      "metadata": {
        "id": "IzmKL2y_XWG4"
      },
      "source": [
        "Show scatter plots"
      ]
    },
    {
      "cell_type": "code",
      "metadata": {
        "id": "Zrx1PvP3XX4Q",
        "colab": {
          "base_uri": "https://localhost:8080/",
          "height": 431
        },
        "outputId": "4f76da70-4b5f-48c2-cb04-30c7455b2438"
      },
      "source": [
        "plt.figure(figsize=(12, 6))\n",
        "plt.scatter(trump.total_votes, trump.won, color='r')\n",
        "plt.xlabel('Total Votes')\n",
        "plt.ylabel('won')\n",
        "plt.suptitle('Donald Trump')\n",
        "plt.title('Total Votes vs. Won')\n",
        "plt.show()"
      ],
      "execution_count": null,
      "outputs": [
        {
          "output_type": "display_data",
          "data": {
            "image/png": "[encoded data removed]",
            "text/plain": [
              "<Figure size 864x432 with 1 Axes>"
            ]
          },
          "metadata": {
            "tags": [],
            "needs_background": "light"
          }
        }
      ]
    },
    {
      "cell_type": "code",
      "metadata": {
        "id": "zT5Wj0DIajuP",
        "colab": {
          "base_uri": "https://localhost:8080/",
          "height": 431
        },
        "outputId": "b8c201b4-a0da-4ce8-d850-21c705811b32"
      },
      "source": [
        "plt.figure(figsize=(12, 6))\n",
        "plt.scatter(biden.total_votes, biden.won, color='b')\n",
        "plt.xlabel('Total Votes')\n",
        "plt.ylabel('won')\n",
        "plt.suptitle('Biden')\n",
        "plt.title('Total Votes vs. Won')\n",
        "plt.show()"
      ],
      "execution_count": null,
      "outputs": [
        {
          "output_type": "display_data",
          "data": {
            "image/png": "[encoded data removed]",
            "text/plain": [
              "<Figure size 864x432 with 1 Axes>"
            ]
          },
          "metadata": {
            "tags": [],
            "needs_background": "light"
          }
        }
      ]
    },
    {
      "cell_type": "markdown",
      "metadata": {
        "id": "fHGfW1qoVjHl"
      },
      "source": [
        "Show histogram"
      ]
    },
    {
      "cell_type": "code",
      "metadata": {
        "id": "Sb12pwXGVgpP"
      },
      "source": [
        "x = biden.total_votes\n",
        "y = trump.total_votes"
      ],
      "execution_count": null,
      "outputs": []
    },
    {
      "cell_type": "code",
      "metadata": {
        "id": "SD5FgYghXt54",
        "colab": {
          "base_uri": "https://localhost:8080/",
          "height": 277
        },
        "outputId": "f9f8eecb-b139-48e1-b663-d09c6938ed9e"
      },
      "source": [
        "bins = 20\n",
        "plt.hist(x, bins, alpha=0.5, color='blue', label='Biden')\n",
        "plt.hist(y, bins, alpha=0.5, color='red', label='Trump')\n",
        "plt.legend(loc='upper right')\n",
        "plt.show()"
      ],
      "execution_count": null,
      "outputs": [
        {
          "output_type": "display_data",
          "data": {
            "image/png": "[encoded data removed]",
            "text/plain": [
              "<Figure size 432x288 with 1 Axes>"
            ]
          },
          "metadata": {
            "tags": [],
            "needs_background": "light"
          }
        }
      ]
    },
    {
      "cell_type": "markdown",
      "metadata": {
        "id": "UNkYbag4fupc"
      },
      "source": [
        "# 4 - Calculate and Display Mean Votes"
      ]
    },
    {
      "cell_type": "markdown",
      "metadata": {
        "id": "qoe0Q3TxkMxo"
      },
      "source": [
        "Show the mean number of votes across counties for each candidate "
      ]
    },
    {
      "cell_type": "code",
      "metadata": {
        "id": "U1xRBPBEjefC",
        "colab": {
          "base_uri": "https://localhost:8080/",
          "height": 137
        },
        "outputId": "5419b9e2-0dc9-47b0-8119-c7b879a76296"
      },
      "source": [
        "grp_by = df.groupby('candidate').mean().sort_values('total_votes',ascending=False).rename(columns={'total_votes':'Mean_County_Votes','won':'Win Rate'})\n",
        "grp_by"
      ],
      "execution_count": null,
      "outputs": [
        {
          "output_type": "execute_result",
          "data": {
            "text/html": [
              "<div>\n",
              "<style scoped>\n",
              "    .dataframe tbody tr th:only-of-type {\n",
              "        vertical-align: middle;\n",
              "    }\n",
              "\n",
              "    .dataframe tbody tr th {\n",
              "        vertical-align: top;\n",
              "    }\n",
              "\n",
              "    .dataframe thead th {\n",
              "        text-align: right;\n",
              "    }\n",
              "</style>\n",
              "<table border=\"1\" class=\"dataframe\">\n",
              "  <thead>\n",
              "    <tr style=\"text-align: right;\">\n",
              "      <th></th>\n",
              "      <th>Mean_County_Votes</th>\n",
              "      <th>Win Rate</th>\n",
              "    </tr>\n",
              "    <tr>\n",
              "      <th>candidate</th>\n",
              "      <th></th>\n",
              "      <th></th>\n",
              "    </tr>\n",
              "  </thead>\n",
              "  <tbody>\n",
              "    <tr>\n",
              "      <th>Joe Biden</th>\n",
              "      <td>17923.47325</td>\n",
              "      <td>0.304057</td>\n",
              "    </tr>\n",
              "    <tr>\n",
              "      <th>Donald Trump</th>\n",
              "      <td>16514.39679</td>\n",
              "      <td>0.695943</td>\n",
              "    </tr>\n",
              "  </tbody>\n",
              "</table>\n",
              "</div>"
            ],
            "text/plain": [
              "              Mean_County_Votes  Win Rate\n",
              "candidate                                \n",
              "Joe Biden           17923.47325  0.304057\n",
              "Donald Trump        16514.39679  0.695943"
            ]
          },
          "metadata": {
            "tags": []
          },
          "execution_count": 24
        }
      ]
    },
    {
      "cell_type": "code",
      "metadata": {
        "id": "vrMb_q2XHo24"
      },
      "source": [
        "grp_by = df.groupby('candidate') \n",
        "trump = grp_by.get_group('Donald Trump')\n",
        "biden = grp_by.get_group('Joe Biden')"
      ],
      "execution_count": null,
      "outputs": []
    },
    {
      "cell_type": "code",
      "metadata": {
        "colab": {
          "base_uri": "https://localhost:8080/"
        },
        "id": "IndA8nR9PhjX",
        "outputId": "b4f1d0f8-fe77-4a53-82dc-f8fb6ea081a1"
      },
      "source": [
        "trump.shape"
      ],
      "execution_count": null,
      "outputs": [
        {
          "output_type": "execute_result",
          "data": {
            "text/plain": [
              "(4486, 6)"
            ]
          },
          "metadata": {
            "tags": []
          },
          "execution_count": 26
        }
      ]
    },
    {
      "cell_type": "code",
      "metadata": {
        "colab": {
          "base_uri": "https://localhost:8080/",
          "height": 406
        },
        "id": "aW1z_X-6OxIb",
        "outputId": "82e8374f-92d0-405e-bc5c-44a262078260"
      },
      "source": [
        "trump"
      ],
      "execution_count": null,
      "outputs": [
        {
          "output_type": "execute_result",
          "data": {
            "text/html": [
              "<div>\n",
              "<style scoped>\n",
              "    .dataframe tbody tr th:only-of-type {\n",
              "        vertical-align: middle;\n",
              "    }\n",
              "\n",
              "    .dataframe tbody tr th {\n",
              "        vertical-align: top;\n",
              "    }\n",
              "\n",
              "    .dataframe thead th {\n",
              "        text-align: right;\n",
              "    }\n",
              "</style>\n",
              "<table border=\"1\" class=\"dataframe\">\n",
              "  <thead>\n",
              "    <tr style=\"text-align: right;\">\n",
              "      <th></th>\n",
              "      <th>state</th>\n",
              "      <th>county</th>\n",
              "      <th>candidate</th>\n",
              "      <th>party</th>\n",
              "      <th>total_votes</th>\n",
              "      <th>won</th>\n",
              "    </tr>\n",
              "  </thead>\n",
              "  <tbody>\n",
              "    <tr>\n",
              "      <th>1</th>\n",
              "      <td>Delaware</td>\n",
              "      <td>Kent County</td>\n",
              "      <td>Donald Trump</td>\n",
              "      <td>REP</td>\n",
              "      <td>41009</td>\n",
              "      <td>False</td>\n",
              "    </tr>\n",
              "    <tr>\n",
              "      <th>5</th>\n",
              "      <td>Delaware</td>\n",
              "      <td>New Castle County</td>\n",
              "      <td>Donald Trump</td>\n",
              "      <td>REP</td>\n",
              "      <td>88364</td>\n",
              "      <td>False</td>\n",
              "    </tr>\n",
              "    <tr>\n",
              "      <th>8</th>\n",
              "      <td>Delaware</td>\n",
              "      <td>Sussex County</td>\n",
              "      <td>Donald Trump</td>\n",
              "      <td>REP</td>\n",
              "      <td>71230</td>\n",
              "      <td>True</td>\n",
              "    </tr>\n",
              "    <tr>\n",
              "      <th>13</th>\n",
              "      <td>District of Columbia</td>\n",
              "      <td>District of Columbia</td>\n",
              "      <td>Donald Trump</td>\n",
              "      <td>REP</td>\n",
              "      <td>1703</td>\n",
              "      <td>False</td>\n",
              "    </tr>\n",
              "    <tr>\n",
              "      <th>20</th>\n",
              "      <td>District of Columbia</td>\n",
              "      <td>Ward 2</td>\n",
              "      <td>Donald Trump</td>\n",
              "      <td>REP</td>\n",
              "      <td>2874</td>\n",
              "      <td>False</td>\n",
              "    </tr>\n",
              "    <tr>\n",
              "      <th>...</th>\n",
              "      <td>...</td>\n",
              "      <td>...</td>\n",
              "      <td>...</td>\n",
              "      <td>...</td>\n",
              "      <td>...</td>\n",
              "      <td>...</td>\n",
              "    </tr>\n",
              "    <tr>\n",
              "      <th>31392</th>\n",
              "      <td>Arizona</td>\n",
              "      <td>Graham County</td>\n",
              "      <td>Donald Trump</td>\n",
              "      <td>REP</td>\n",
              "      <td>10749</td>\n",
              "      <td>True</td>\n",
              "    </tr>\n",
              "    <tr>\n",
              "      <th>31395</th>\n",
              "      <td>Arizona</td>\n",
              "      <td>Greenlee County</td>\n",
              "      <td>Donald Trump</td>\n",
              "      <td>REP</td>\n",
              "      <td>2433</td>\n",
              "      <td>True</td>\n",
              "    </tr>\n",
              "    <tr>\n",
              "      <th>31398</th>\n",
              "      <td>Arizona</td>\n",
              "      <td>La Paz County</td>\n",
              "      <td>Donald Trump</td>\n",
              "      <td>REP</td>\n",
              "      <td>5129</td>\n",
              "      <td>True</td>\n",
              "    </tr>\n",
              "    <tr>\n",
              "      <th>31402</th>\n",
              "      <td>Arizona</td>\n",
              "      <td>Maricopa County</td>\n",
              "      <td>Donald Trump</td>\n",
              "      <td>REP</td>\n",
              "      <td>995665</td>\n",
              "      <td>False</td>\n",
              "    </tr>\n",
              "    <tr>\n",
              "      <th>31404</th>\n",
              "      <td>Arizona</td>\n",
              "      <td>Mohave County</td>\n",
              "      <td>Donald Trump</td>\n",
              "      <td>REP</td>\n",
              "      <td>78535</td>\n",
              "      <td>True</td>\n",
              "    </tr>\n",
              "  </tbody>\n",
              "</table>\n",
              "<p>4486 rows × 6 columns</p>\n",
              "</div>"
            ],
            "text/plain": [
              "                      state                county  ... total_votes    won\n",
              "1                  Delaware           Kent County  ...       41009  False\n",
              "5                  Delaware     New Castle County  ...       88364  False\n",
              "8                  Delaware         Sussex County  ...       71230   True\n",
              "13     District of Columbia  District of Columbia  ...        1703  False\n",
              "20     District of Columbia                Ward 2  ...        2874  False\n",
              "...                     ...                   ...  ...         ...    ...\n",
              "31392               Arizona         Graham County  ...       10749   True\n",
              "31395               Arizona       Greenlee County  ...        2433   True\n",
              "31398               Arizona         La Paz County  ...        5129   True\n",
              "31402               Arizona       Maricopa County  ...      995665  False\n",
              "31404               Arizona         Mohave County  ...       78535   True\n",
              "\n",
              "[4486 rows x 6 columns]"
            ]
          },
          "metadata": {
            "tags": []
          },
          "execution_count": 27
        }
      ]
    },
    {
      "cell_type": "code",
      "metadata": {
        "colab": {
          "base_uri": "https://localhost:8080/"
        },
        "id": "5z9uwr6NOQd8",
        "outputId": "6d948e6f-e5dc-4b43-bef6-a7557c91b500"
      },
      "source": [
        "trump_avg_votes, trump_win_pct = trump.mean()\n",
        "print(\"Trump Average Votes\",'\\t',int(trump_avg_votes))\n",
        "print(\"Trump Win Percentage\",'\\t',round(trump_win_pct,3))"
      ],
      "execution_count": null,
      "outputs": [
        {
          "output_type": "stream",
          "text": [
            "Trump Average Votes \t 16514\n",
            "Trump Win Percentage \t 0.696\n"
          ],
          "name": "stdout"
        }
      ]
    },
    {
      "cell_type": "code",
      "metadata": {
        "colab": {
          "base_uri": "https://localhost:8080/",
          "height": 406
        },
        "id": "1C-U1rqXJg51",
        "outputId": "dba018af-0943-45d2-c423-1ee3466df22a"
      },
      "source": [
        "biden"
      ],
      "execution_count": null,
      "outputs": [
        {
          "output_type": "execute_result",
          "data": {
            "text/html": [
              "<div>\n",
              "<style scoped>\n",
              "    .dataframe tbody tr th:only-of-type {\n",
              "        vertical-align: middle;\n",
              "    }\n",
              "\n",
              "    .dataframe tbody tr th {\n",
              "        vertical-align: top;\n",
              "    }\n",
              "\n",
              "    .dataframe thead th {\n",
              "        text-align: right;\n",
              "    }\n",
              "</style>\n",
              "<table border=\"1\" class=\"dataframe\">\n",
              "  <thead>\n",
              "    <tr style=\"text-align: right;\">\n",
              "      <th></th>\n",
              "      <th>state</th>\n",
              "      <th>county</th>\n",
              "      <th>candidate</th>\n",
              "      <th>party</th>\n",
              "      <th>total_votes</th>\n",
              "      <th>won</th>\n",
              "    </tr>\n",
              "  </thead>\n",
              "  <tbody>\n",
              "    <tr>\n",
              "      <th>0</th>\n",
              "      <td>Delaware</td>\n",
              "      <td>Kent County</td>\n",
              "      <td>Joe Biden</td>\n",
              "      <td>DEM</td>\n",
              "      <td>44552</td>\n",
              "      <td>True</td>\n",
              "    </tr>\n",
              "    <tr>\n",
              "      <th>4</th>\n",
              "      <td>Delaware</td>\n",
              "      <td>New Castle County</td>\n",
              "      <td>Joe Biden</td>\n",
              "      <td>DEM</td>\n",
              "      <td>195034</td>\n",
              "      <td>True</td>\n",
              "    </tr>\n",
              "    <tr>\n",
              "      <th>9</th>\n",
              "      <td>Delaware</td>\n",
              "      <td>Sussex County</td>\n",
              "      <td>Joe Biden</td>\n",
              "      <td>DEM</td>\n",
              "      <td>56682</td>\n",
              "      <td>False</td>\n",
              "    </tr>\n",
              "    <tr>\n",
              "      <th>12</th>\n",
              "      <td>District of Columbia</td>\n",
              "      <td>District of Columbia</td>\n",
              "      <td>Joe Biden</td>\n",
              "      <td>DEM</td>\n",
              "      <td>38037</td>\n",
              "      <td>True</td>\n",
              "    </tr>\n",
              "    <tr>\n",
              "      <th>19</th>\n",
              "      <td>District of Columbia</td>\n",
              "      <td>Ward 2</td>\n",
              "      <td>Joe Biden</td>\n",
              "      <td>DEM</td>\n",
              "      <td>28185</td>\n",
              "      <td>True</td>\n",
              "    </tr>\n",
              "    <tr>\n",
              "      <th>...</th>\n",
              "      <td>...</td>\n",
              "      <td>...</td>\n",
              "      <td>...</td>\n",
              "      <td>...</td>\n",
              "      <td>...</td>\n",
              "      <td>...</td>\n",
              "    </tr>\n",
              "    <tr>\n",
              "      <th>31393</th>\n",
              "      <td>Arizona</td>\n",
              "      <td>Graham County</td>\n",
              "      <td>Joe Biden</td>\n",
              "      <td>DEM</td>\n",
              "      <td>4034</td>\n",
              "      <td>False</td>\n",
              "    </tr>\n",
              "    <tr>\n",
              "      <th>31396</th>\n",
              "      <td>Arizona</td>\n",
              "      <td>Greenlee County</td>\n",
              "      <td>Joe Biden</td>\n",
              "      <td>DEM</td>\n",
              "      <td>1182</td>\n",
              "      <td>False</td>\n",
              "    </tr>\n",
              "    <tr>\n",
              "      <th>31399</th>\n",
              "      <td>Arizona</td>\n",
              "      <td>La Paz County</td>\n",
              "      <td>Joe Biden</td>\n",
              "      <td>DEM</td>\n",
              "      <td>2236</td>\n",
              "      <td>False</td>\n",
              "    </tr>\n",
              "    <tr>\n",
              "      <th>31401</th>\n",
              "      <td>Arizona</td>\n",
              "      <td>Maricopa County</td>\n",
              "      <td>Joe Biden</td>\n",
              "      <td>DEM</td>\n",
              "      <td>1040774</td>\n",
              "      <td>True</td>\n",
              "    </tr>\n",
              "    <tr>\n",
              "      <th>31405</th>\n",
              "      <td>Arizona</td>\n",
              "      <td>Mohave County</td>\n",
              "      <td>Joe Biden</td>\n",
              "      <td>DEM</td>\n",
              "      <td>24831</td>\n",
              "      <td>False</td>\n",
              "    </tr>\n",
              "  </tbody>\n",
              "</table>\n",
              "<p>4486 rows × 6 columns</p>\n",
              "</div>"
            ],
            "text/plain": [
              "                      state                county  ... total_votes    won\n",
              "0                  Delaware           Kent County  ...       44552   True\n",
              "4                  Delaware     New Castle County  ...      195034   True\n",
              "9                  Delaware         Sussex County  ...       56682  False\n",
              "12     District of Columbia  District of Columbia  ...       38037   True\n",
              "19     District of Columbia                Ward 2  ...       28185   True\n",
              "...                     ...                   ...  ...         ...    ...\n",
              "31393               Arizona         Graham County  ...        4034  False\n",
              "31396               Arizona       Greenlee County  ...        1182  False\n",
              "31399               Arizona         La Paz County  ...        2236  False\n",
              "31401               Arizona       Maricopa County  ...     1040774   True\n",
              "31405               Arizona         Mohave County  ...       24831  False\n",
              "\n",
              "[4486 rows x 6 columns]"
            ]
          },
          "metadata": {
            "tags": []
          },
          "execution_count": 29
        }
      ]
    },
    {
      "cell_type": "code",
      "metadata": {
        "colab": {
          "base_uri": "https://localhost:8080/"
        },
        "id": "C9jd9Sz6M75-",
        "outputId": "3f48c4d7-e2c6-4d80-cd97-9f4e2b77f274"
      },
      "source": [
        "biden_avg_votes, biden_win_pct = biden.mean()\n",
        "print(\"Biden Average Votes\",'\\t',int(biden_avg_votes))\n",
        "print(\"Biden Win Percentage\",'\\t',round(biden_win_pct,3))"
      ],
      "execution_count": null,
      "outputs": [
        {
          "output_type": "stream",
          "text": [
            "Biden Average Votes \t 17923\n",
            "Biden Win Percentage \t 0.304\n"
          ],
          "name": "stdout"
        }
      ]
    },
    {
      "cell_type": "code",
      "metadata": {
        "colab": {
          "base_uri": "https://localhost:8080/"
        },
        "id": "B7dtm7g1O59Z",
        "outputId": "629e9db2-d882-48c6-ba9c-82ce9d7bb457"
      },
      "source": [
        "biden.shape"
      ],
      "execution_count": null,
      "outputs": [
        {
          "output_type": "execute_result",
          "data": {
            "text/plain": [
              "(4486, 6)"
            ]
          },
          "metadata": {
            "tags": []
          },
          "execution_count": 31
        }
      ]
    },
    {
      "cell_type": "code",
      "metadata": {
        "colab": {
          "base_uri": "https://localhost:8080/",
          "height": 406
        },
        "id": "2ZiitXmKPTUC",
        "outputId": "1832f14b-2558-4319-91e3-c3bc6a1eafe0"
      },
      "source": [
        "df.query('state==\"California\"')"
      ],
      "execution_count": null,
      "outputs": [
        {
          "output_type": "execute_result",
          "data": {
            "text/html": [
              "<div>\n",
              "<style scoped>\n",
              "    .dataframe tbody tr th:only-of-type {\n",
              "        vertical-align: middle;\n",
              "    }\n",
              "\n",
              "    .dataframe tbody tr th {\n",
              "        vertical-align: top;\n",
              "    }\n",
              "\n",
              "    .dataframe thead th {\n",
              "        text-align: right;\n",
              "    }\n",
              "</style>\n",
              "<table border=\"1\" class=\"dataframe\">\n",
              "  <thead>\n",
              "    <tr style=\"text-align: right;\">\n",
              "      <th></th>\n",
              "      <th>state</th>\n",
              "      <th>county</th>\n",
              "      <th>candidate</th>\n",
              "      <th>party</th>\n",
              "      <th>total_votes</th>\n",
              "      <th>won</th>\n",
              "    </tr>\n",
              "  </thead>\n",
              "  <tbody>\n",
              "    <tr>\n",
              "      <th>28817</th>\n",
              "      <td>California</td>\n",
              "      <td>Fresno County</td>\n",
              "      <td>Joe Biden</td>\n",
              "      <td>DEM</td>\n",
              "      <td>192118</td>\n",
              "      <td>True</td>\n",
              "    </tr>\n",
              "    <tr>\n",
              "      <th>28818</th>\n",
              "      <td>California</td>\n",
              "      <td>Fresno County</td>\n",
              "      <td>Donald Trump</td>\n",
              "      <td>REP</td>\n",
              "      <td>163880</td>\n",
              "      <td>False</td>\n",
              "    </tr>\n",
              "    <tr>\n",
              "      <th>28823</th>\n",
              "      <td>California</td>\n",
              "      <td>Glenn County</td>\n",
              "      <td>Donald Trump</td>\n",
              "      <td>REP</td>\n",
              "      <td>7000</td>\n",
              "      <td>True</td>\n",
              "    </tr>\n",
              "    <tr>\n",
              "      <th>28824</th>\n",
              "      <td>California</td>\n",
              "      <td>Glenn County</td>\n",
              "      <td>Joe Biden</td>\n",
              "      <td>DEM</td>\n",
              "      <td>3939</td>\n",
              "      <td>False</td>\n",
              "    </tr>\n",
              "    <tr>\n",
              "      <th>28829</th>\n",
              "      <td>California</td>\n",
              "      <td>Humboldt County</td>\n",
              "      <td>Joe Biden</td>\n",
              "      <td>DEM</td>\n",
              "      <td>43633</td>\n",
              "      <td>True</td>\n",
              "    </tr>\n",
              "    <tr>\n",
              "      <th>...</th>\n",
              "      <td>...</td>\n",
              "      <td>...</td>\n",
              "      <td>...</td>\n",
              "      <td>...</td>\n",
              "      <td>...</td>\n",
              "      <td>...</td>\n",
              "    </tr>\n",
              "    <tr>\n",
              "      <th>29151</th>\n",
              "      <td>California</td>\n",
              "      <td>Contra Costa County</td>\n",
              "      <td>Donald Trump</td>\n",
              "      <td>REP</td>\n",
              "      <td>152497</td>\n",
              "      <td>False</td>\n",
              "    </tr>\n",
              "    <tr>\n",
              "      <th>29156</th>\n",
              "      <td>California</td>\n",
              "      <td>Del Norte County</td>\n",
              "      <td>Donald Trump</td>\n",
              "      <td>REP</td>\n",
              "      <td>6444</td>\n",
              "      <td>True</td>\n",
              "    </tr>\n",
              "    <tr>\n",
              "      <th>29157</th>\n",
              "      <td>California</td>\n",
              "      <td>Del Norte County</td>\n",
              "      <td>Joe Biden</td>\n",
              "      <td>DEM</td>\n",
              "      <td>4659</td>\n",
              "      <td>False</td>\n",
              "    </tr>\n",
              "    <tr>\n",
              "      <th>29162</th>\n",
              "      <td>California</td>\n",
              "      <td>El Dorado County</td>\n",
              "      <td>Donald Trump</td>\n",
              "      <td>REP</td>\n",
              "      <td>61820</td>\n",
              "      <td>True</td>\n",
              "    </tr>\n",
              "    <tr>\n",
              "      <th>29163</th>\n",
              "      <td>California</td>\n",
              "      <td>El Dorado County</td>\n",
              "      <td>Joe Biden</td>\n",
              "      <td>DEM</td>\n",
              "      <td>51606</td>\n",
              "      <td>False</td>\n",
              "    </tr>\n",
              "  </tbody>\n",
              "</table>\n",
              "<p>116 rows × 6 columns</p>\n",
              "</div>"
            ],
            "text/plain": [
              "            state               county     candidate party  total_votes    won\n",
              "28817  California        Fresno County     Joe Biden   DEM       192118   True\n",
              "28818  California        Fresno County  Donald Trump   REP       163880  False\n",
              "28823  California         Glenn County  Donald Trump   REP         7000   True\n",
              "28824  California         Glenn County     Joe Biden   DEM         3939  False\n",
              "28829  California      Humboldt County     Joe Biden   DEM        43633   True\n",
              "...           ...                  ...           ...   ...          ...    ...\n",
              "29151  California  Contra Costa County  Donald Trump   REP       152497  False\n",
              "29156  California     Del Norte County  Donald Trump   REP         6444   True\n",
              "29157  California     Del Norte County     Joe Biden   DEM         4659  False\n",
              "29162  California     El Dorado County  Donald Trump   REP        61820   True\n",
              "29163  California     El Dorado County     Joe Biden   DEM        51606  False\n",
              "\n",
              "[116 rows x 6 columns]"
            ]
          },
          "metadata": {
            "tags": []
          },
          "execution_count": 32
        }
      ]
    },
    {
      "cell_type": "code",
      "metadata": {
        "colab": {
          "base_uri": "https://localhost:8080/"
        },
        "id": "qxZ814vnSsps",
        "outputId": "c0a5415a-f582-454b-9de7-de0d24394be5"
      },
      "source": [
        "df.info()"
      ],
      "execution_count": null,
      "outputs": [
        {
          "output_type": "stream",
          "text": [
            "<class 'pandas.core.frame.DataFrame'>\n",
            "Int64Index: 8972 entries, 0 to 31405\n",
            "Data columns (total 6 columns):\n",
            " #   Column       Non-Null Count  Dtype \n",
            "---  ------       --------------  ----- \n",
            " 0   state        8972 non-null   object\n",
            " 1   county       8972 non-null   object\n",
            " 2   candidate    8972 non-null   object\n",
            " 3   party        8972 non-null   object\n",
            " 4   total_votes  8972 non-null   int64 \n",
            " 5   won          8972 non-null   bool  \n",
            "dtypes: bool(1), int64(1), object(4)\n",
            "memory usage: 429.3+ KB\n"
          ],
          "name": "stdout"
        }
      ]
    },
    {
      "cell_type": "code",
      "metadata": {
        "id": "kmIraMQSTnD6"
      },
      "source": [
        ""
      ],
      "execution_count": null,
      "outputs": []
    }
  ]
}