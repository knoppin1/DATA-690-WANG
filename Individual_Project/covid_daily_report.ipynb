{
  "nbformat": 4,
  "nbformat_minor": 0,
  "metadata": {
    "colab": {
      "name": "covid-daily-report.ipynb",
      "provenance": [],
      "toc_visible": true,
      "include_colab_link": true
    },
    "kernelspec": {
      "name": "python3",
      "display_name": "Python 3"
    }
  },
  "cells": [
    {
      "cell_type": "markdown",
      "metadata": {
        "id": "view-in-github",
        "colab_type": "text"
      },
      "source": [
        "<a href=\"https://colab.research.google.com/github/knoppin1/DATA-690-WANG/blob/master/Individual_Project/covid_daily_report.ipynb\" target=\"_parent\"><img src=\"https://colab.research.google.com/assets/colab-badge.svg\" alt=\"Open In Colab\"/></a>"
      ]
    },
    {
      "cell_type": "markdown",
      "metadata": {
        "id": "_-QoCNXkhryC"
      },
      "source": [
        "## COVID-19 Daily Report\n",
        "### Ken Noppinger\n",
        "\n",
        "Source from Gitbhub for Johns Hopkins Resource Center: \n",
        "\n",
        "https://raw.githubusercontent.com/CSSEGISandData/COVID-19/master/csse_covid_19_data/csse_covid_19_daily_reports/10-17-2020.csv"
      ]
    },
    {
      "cell_type": "code",
      "metadata": {
        "id": "3Vv8IF2zUzji",
        "outputId": "e79a1168-3a0f-464f-cafa-813cdebc9f1c",
        "colab": {
          "base_uri": "https://localhost:8080/",
          "height": 208
        }
      },
      "source": [
        "!wget https://raw.githubusercontent.com/CSSEGISandData/COVID-19/master/csse_covid_19_data/csse_covid_19_daily_reports/10-17-2020.csv"
      ],
      "execution_count": 1,
      "outputs": [
        {
          "output_type": "stream",
          "text": [
            "--2020-10-18 16:48:45--  https://raw.githubusercontent.com/CSSEGISandData/COVID-19/master/csse_covid_19_data/csse_covid_19_daily_reports/10-17-2020.csv\n",
            "Resolving raw.githubusercontent.com (raw.githubusercontent.com)... 151.101.0.133, 151.101.64.133, 151.101.128.133, ...\n",
            "Connecting to raw.githubusercontent.com (raw.githubusercontent.com)|151.101.0.133|:443... connected.\n",
            "HTTP request sent, awaiting response... 200 OK\n",
            "Length: 554635 (542K) [text/plain]\n",
            "Saving to: ‘10-17-2020.csv.9’\n",
            "\n",
            "\r10-17-2020.csv.9      0%[                    ]       0  --.-KB/s               \r10-17-2020.csv.9    100%[===================>] 541.64K  --.-KB/s    in 0.08s   \n",
            "\n",
            "2020-10-18 16:48:45 (6.92 MB/s) - ‘10-17-2020.csv.9’ saved [554635/554635]\n",
            "\n"
          ],
          "name": "stdout"
        }
      ]
    },
    {
      "cell_type": "code",
      "metadata": {
        "id": "Nr_8g7yBXU_y",
        "outputId": "31be9084-aafd-451c-f9b9-fcedcb2bb415",
        "colab": {
          "base_uri": "https://localhost:8080/",
          "height": 1000
        }
      },
      "source": [
        "# Issue with pandas profiling\n",
        "# Upgrade both packages solve the problem\n",
        "\n",
        "!pip install  pandas pandas_profiling --upgrade"
      ],
      "execution_count": 2,
      "outputs": [
        {
          "output_type": "stream",
          "text": [
            "Requirement already up-to-date: pandas in /usr/local/lib/python3.6/dist-packages (1.1.3)\n",
            "Requirement already up-to-date: pandas_profiling in /usr/local/lib/python3.6/dist-packages (2.9.0)\n",
            "Requirement already satisfied, skipping upgrade: numpy>=1.15.4 in /usr/local/lib/python3.6/dist-packages (from pandas) (1.18.5)\n",
            "Requirement already satisfied, skipping upgrade: python-dateutil>=2.7.3 in /usr/local/lib/python3.6/dist-packages (from pandas) (2.8.1)\n",
            "Requirement already satisfied, skipping upgrade: pytz>=2017.2 in /usr/local/lib/python3.6/dist-packages (from pandas) (2018.9)\n",
            "Requirement already satisfied, skipping upgrade: scipy>=1.4.1 in /usr/local/lib/python3.6/dist-packages (from pandas_profiling) (1.4.1)\n",
            "Requirement already satisfied, skipping upgrade: htmlmin>=0.1.12 in /usr/local/lib/python3.6/dist-packages (from pandas_profiling) (0.1.12)\n",
            "Requirement already satisfied, skipping upgrade: requests>=2.23.0 in /usr/local/lib/python3.6/dist-packages (from pandas_profiling) (2.23.0)\n",
            "Requirement already satisfied, skipping upgrade: ipywidgets>=7.5.1 in /usr/local/lib/python3.6/dist-packages (from pandas_profiling) (7.5.1)\n",
            "Requirement already satisfied, skipping upgrade: tqdm>=4.43.0 in /usr/local/lib/python3.6/dist-packages (from pandas_profiling) (4.50.2)\n",
            "Requirement already satisfied, skipping upgrade: seaborn>=0.10.1 in /usr/local/lib/python3.6/dist-packages (from pandas_profiling) (0.11.0)\n",
            "Requirement already satisfied, skipping upgrade: tangled-up-in-unicode>=0.0.6 in /usr/local/lib/python3.6/dist-packages (from pandas_profiling) (0.0.6)\n",
            "Requirement already satisfied, skipping upgrade: matplotlib>=3.2.0 in /usr/local/lib/python3.6/dist-packages (from pandas_profiling) (3.2.2)\n",
            "Requirement already satisfied, skipping upgrade: attrs>=19.3.0 in /usr/local/lib/python3.6/dist-packages (from pandas_profiling) (20.2.0)\n",
            "Requirement already satisfied, skipping upgrade: joblib in /usr/local/lib/python3.6/dist-packages (from pandas_profiling) (0.16.0)\n",
            "Requirement already satisfied, skipping upgrade: phik>=0.9.10 in /usr/local/lib/python3.6/dist-packages (from pandas_profiling) (0.10.0)\n",
            "Requirement already satisfied, skipping upgrade: visions[type_image_path]==0.5.0 in /usr/local/lib/python3.6/dist-packages (from pandas_profiling) (0.5.0)\n",
            "Requirement already satisfied, skipping upgrade: confuse>=1.0.0 in /usr/local/lib/python3.6/dist-packages (from pandas_profiling) (1.3.0)\n",
            "Requirement already satisfied, skipping upgrade: missingno>=0.4.2 in /usr/local/lib/python3.6/dist-packages (from pandas_profiling) (0.4.2)\n",
            "Requirement already satisfied, skipping upgrade: jinja2>=2.11.1 in /usr/local/lib/python3.6/dist-packages (from pandas_profiling) (2.11.2)\n",
            "Requirement already satisfied, skipping upgrade: six>=1.5 in /usr/local/lib/python3.6/dist-packages (from python-dateutil>=2.7.3->pandas) (1.15.0)\n",
            "Requirement already satisfied, skipping upgrade: chardet<4,>=3.0.2 in /usr/local/lib/python3.6/dist-packages (from requests>=2.23.0->pandas_profiling) (3.0.4)\n",
            "Requirement already satisfied, skipping upgrade: certifi>=2017.4.17 in /usr/local/lib/python3.6/dist-packages (from requests>=2.23.0->pandas_profiling) (2020.6.20)\n",
            "Requirement already satisfied, skipping upgrade: urllib3!=1.25.0,!=1.25.1,<1.26,>=1.21.1 in /usr/local/lib/python3.6/dist-packages (from requests>=2.23.0->pandas_profiling) (1.24.3)\n",
            "Requirement already satisfied, skipping upgrade: idna<3,>=2.5 in /usr/local/lib/python3.6/dist-packages (from requests>=2.23.0->pandas_profiling) (2.10)\n",
            "Requirement already satisfied, skipping upgrade: nbformat>=4.2.0 in /usr/local/lib/python3.6/dist-packages (from ipywidgets>=7.5.1->pandas_profiling) (5.0.7)\n",
            "Requirement already satisfied, skipping upgrade: ipython>=4.0.0; python_version >= \"3.3\" in /usr/local/lib/python3.6/dist-packages (from ipywidgets>=7.5.1->pandas_profiling) (5.5.0)\n",
            "Requirement already satisfied, skipping upgrade: traitlets>=4.3.1 in /usr/local/lib/python3.6/dist-packages (from ipywidgets>=7.5.1->pandas_profiling) (4.3.3)\n",
            "Requirement already satisfied, skipping upgrade: ipykernel>=4.5.1 in /usr/local/lib/python3.6/dist-packages (from ipywidgets>=7.5.1->pandas_profiling) (4.10.1)\n",
            "Requirement already satisfied, skipping upgrade: widgetsnbextension~=3.5.0 in /usr/local/lib/python3.6/dist-packages (from ipywidgets>=7.5.1->pandas_profiling) (3.5.1)\n",
            "Requirement already satisfied, skipping upgrade: cycler>=0.10 in /usr/local/lib/python3.6/dist-packages (from matplotlib>=3.2.0->pandas_profiling) (0.10.0)\n",
            "Requirement already satisfied, skipping upgrade: kiwisolver>=1.0.1 in /usr/local/lib/python3.6/dist-packages (from matplotlib>=3.2.0->pandas_profiling) (1.2.0)\n",
            "Requirement already satisfied, skipping upgrade: pyparsing!=2.0.4,!=2.1.2,!=2.1.6,>=2.0.1 in /usr/local/lib/python3.6/dist-packages (from matplotlib>=3.2.0->pandas_profiling) (2.4.7)\n",
            "Requirement already satisfied, skipping upgrade: numba>=0.38.1 in /usr/local/lib/python3.6/dist-packages (from phik>=0.9.10->pandas_profiling) (0.48.0)\n",
            "Requirement already satisfied, skipping upgrade: networkx>=2.4 in /usr/local/lib/python3.6/dist-packages (from visions[type_image_path]==0.5.0->pandas_profiling) (2.5)\n",
            "Requirement already satisfied, skipping upgrade: imagehash; extra == \"type_image_path\" in /usr/local/lib/python3.6/dist-packages (from visions[type_image_path]==0.5.0->pandas_profiling) (4.1.0)\n",
            "Requirement already satisfied, skipping upgrade: Pillow; extra == \"type_image_path\" in /usr/local/lib/python3.6/dist-packages (from visions[type_image_path]==0.5.0->pandas_profiling) (7.0.0)\n",
            "Requirement already satisfied, skipping upgrade: pyyaml in /usr/local/lib/python3.6/dist-packages (from confuse>=1.0.0->pandas_profiling) (3.13)\n",
            "Requirement already satisfied, skipping upgrade: MarkupSafe>=0.23 in /usr/local/lib/python3.6/dist-packages (from jinja2>=2.11.1->pandas_profiling) (1.1.1)\n",
            "Requirement already satisfied, skipping upgrade: jupyter-core in /usr/local/lib/python3.6/dist-packages (from nbformat>=4.2.0->ipywidgets>=7.5.1->pandas_profiling) (4.6.3)\n",
            "Requirement already satisfied, skipping upgrade: jsonschema!=2.5.0,>=2.4 in /usr/local/lib/python3.6/dist-packages (from nbformat>=4.2.0->ipywidgets>=7.5.1->pandas_profiling) (2.6.0)\n",
            "Requirement already satisfied, skipping upgrade: ipython-genutils in /usr/local/lib/python3.6/dist-packages (from nbformat>=4.2.0->ipywidgets>=7.5.1->pandas_profiling) (0.2.0)\n",
            "Requirement already satisfied, skipping upgrade: prompt-toolkit<2.0.0,>=1.0.4 in /usr/local/lib/python3.6/dist-packages (from ipython>=4.0.0; python_version >= \"3.3\"->ipywidgets>=7.5.1->pandas_profiling) (1.0.18)\n",
            "Requirement already satisfied, skipping upgrade: pygments in /usr/local/lib/python3.6/dist-packages (from ipython>=4.0.0; python_version >= \"3.3\"->ipywidgets>=7.5.1->pandas_profiling) (2.6.1)\n",
            "Requirement already satisfied, skipping upgrade: pexpect; sys_platform != \"win32\" in /usr/local/lib/python3.6/dist-packages (from ipython>=4.0.0; python_version >= \"3.3\"->ipywidgets>=7.5.1->pandas_profiling) (4.8.0)\n",
            "Requirement already satisfied, skipping upgrade: simplegeneric>0.8 in /usr/local/lib/python3.6/dist-packages (from ipython>=4.0.0; python_version >= \"3.3\"->ipywidgets>=7.5.1->pandas_profiling) (0.8.1)\n",
            "Requirement already satisfied, skipping upgrade: pickleshare in /usr/local/lib/python3.6/dist-packages (from ipython>=4.0.0; python_version >= \"3.3\"->ipywidgets>=7.5.1->pandas_profiling) (0.7.5)\n",
            "Requirement already satisfied, skipping upgrade: setuptools>=18.5 in /usr/local/lib/python3.6/dist-packages (from ipython>=4.0.0; python_version >= \"3.3\"->ipywidgets>=7.5.1->pandas_profiling) (50.3.0)\n",
            "Requirement already satisfied, skipping upgrade: decorator in /usr/local/lib/python3.6/dist-packages (from ipython>=4.0.0; python_version >= \"3.3\"->ipywidgets>=7.5.1->pandas_profiling) (4.4.2)\n",
            "Requirement already satisfied, skipping upgrade: tornado>=4.0 in /usr/local/lib/python3.6/dist-packages (from ipykernel>=4.5.1->ipywidgets>=7.5.1->pandas_profiling) (5.1.1)\n",
            "Requirement already satisfied, skipping upgrade: jupyter-client in /usr/local/lib/python3.6/dist-packages (from ipykernel>=4.5.1->ipywidgets>=7.5.1->pandas_profiling) (5.3.5)\n",
            "Requirement already satisfied, skipping upgrade: notebook>=4.4.1 in /usr/local/lib/python3.6/dist-packages (from widgetsnbextension~=3.5.0->ipywidgets>=7.5.1->pandas_profiling) (5.3.1)\n",
            "Requirement already satisfied, skipping upgrade: llvmlite<0.32.0,>=0.31.0dev0 in /usr/local/lib/python3.6/dist-packages (from numba>=0.38.1->phik>=0.9.10->pandas_profiling) (0.31.0)\n",
            "Requirement already satisfied, skipping upgrade: PyWavelets in /usr/local/lib/python3.6/dist-packages (from imagehash; extra == \"type_image_path\"->visions[type_image_path]==0.5.0->pandas_profiling) (1.1.1)\n",
            "Requirement already satisfied, skipping upgrade: wcwidth in /usr/local/lib/python3.6/dist-packages (from prompt-toolkit<2.0.0,>=1.0.4->ipython>=4.0.0; python_version >= \"3.3\"->ipywidgets>=7.5.1->pandas_profiling) (0.2.5)\n",
            "Requirement already satisfied, skipping upgrade: ptyprocess>=0.5 in /usr/local/lib/python3.6/dist-packages (from pexpect; sys_platform != \"win32\"->ipython>=4.0.0; python_version >= \"3.3\"->ipywidgets>=7.5.1->pandas_profiling) (0.6.0)\n",
            "Requirement already satisfied, skipping upgrade: pyzmq>=13 in /usr/local/lib/python3.6/dist-packages (from jupyter-client->ipykernel>=4.5.1->ipywidgets>=7.5.1->pandas_profiling) (19.0.2)\n",
            "Requirement already satisfied, skipping upgrade: Send2Trash in /usr/local/lib/python3.6/dist-packages (from notebook>=4.4.1->widgetsnbextension~=3.5.0->ipywidgets>=7.5.1->pandas_profiling) (1.5.0)\n",
            "Requirement already satisfied, skipping upgrade: terminado>=0.8.1 in /usr/local/lib/python3.6/dist-packages (from notebook>=4.4.1->widgetsnbextension~=3.5.0->ipywidgets>=7.5.1->pandas_profiling) (0.9.1)\n",
            "Requirement already satisfied, skipping upgrade: nbconvert in /usr/local/lib/python3.6/dist-packages (from notebook>=4.4.1->widgetsnbextension~=3.5.0->ipywidgets>=7.5.1->pandas_profiling) (5.6.1)\n",
            "Requirement already satisfied, skipping upgrade: mistune<2,>=0.8.1 in /usr/local/lib/python3.6/dist-packages (from nbconvert->notebook>=4.4.1->widgetsnbextension~=3.5.0->ipywidgets>=7.5.1->pandas_profiling) (0.8.4)\n",
            "Requirement already satisfied, skipping upgrade: defusedxml in /usr/local/lib/python3.6/dist-packages (from nbconvert->notebook>=4.4.1->widgetsnbextension~=3.5.0->ipywidgets>=7.5.1->pandas_profiling) (0.6.0)\n",
            "Requirement already satisfied, skipping upgrade: entrypoints>=0.2.2 in /usr/local/lib/python3.6/dist-packages (from nbconvert->notebook>=4.4.1->widgetsnbextension~=3.5.0->ipywidgets>=7.5.1->pandas_profiling) (0.3)\n",
            "Requirement already satisfied, skipping upgrade: bleach in /usr/local/lib/python3.6/dist-packages (from nbconvert->notebook>=4.4.1->widgetsnbextension~=3.5.0->ipywidgets>=7.5.1->pandas_profiling) (3.2.1)\n",
            "Requirement already satisfied, skipping upgrade: testpath in /usr/local/lib/python3.6/dist-packages (from nbconvert->notebook>=4.4.1->widgetsnbextension~=3.5.0->ipywidgets>=7.5.1->pandas_profiling) (0.4.4)\n",
            "Requirement already satisfied, skipping upgrade: pandocfilters>=1.4.1 in /usr/local/lib/python3.6/dist-packages (from nbconvert->notebook>=4.4.1->widgetsnbextension~=3.5.0->ipywidgets>=7.5.1->pandas_profiling) (1.4.2)\n",
            "Requirement already satisfied, skipping upgrade: webencodings in /usr/local/lib/python3.6/dist-packages (from bleach->nbconvert->notebook>=4.4.1->widgetsnbextension~=3.5.0->ipywidgets>=7.5.1->pandas_profiling) (0.5.1)\n",
            "Requirement already satisfied, skipping upgrade: packaging in /usr/local/lib/python3.6/dist-packages (from bleach->nbconvert->notebook>=4.4.1->widgetsnbextension~=3.5.0->ipywidgets>=7.5.1->pandas_profiling) (20.4)\n"
          ],
          "name": "stdout"
        }
      ]
    },
    {
      "cell_type": "code",
      "metadata": {
        "id": "2cWs3QVuVNYW"
      },
      "source": [
        "import pandas as pd\n",
        "from pandas_profiling import ProfileReport"
      ],
      "execution_count": 3,
      "outputs": []
    },
    {
      "cell_type": "code",
      "metadata": {
        "id": "hg9p5oGCXcgZ",
        "outputId": "27e0c78e-8f2f-46ee-9dd2-618d64b73781",
        "colab": {
          "base_uri": "https://localhost:8080/",
          "height": 34
        }
      },
      "source": [
        "print(\"pandas version:\\t\", pd.__version__)"
      ],
      "execution_count": 4,
      "outputs": [
        {
          "output_type": "stream",
          "text": [
            "pandas version:\t 1.1.3\n"
          ],
          "name": "stdout"
        }
      ]
    },
    {
      "cell_type": "markdown",
      "metadata": {
        "id": "2lYbokF6G7Cd"
      },
      "source": [
        "## Read COVID-19 Daily Report"
      ]
    },
    {
      "cell_type": "code",
      "metadata": {
        "id": "UXsicLfmVQs6",
        "outputId": "c3bb015b-083a-4d95-c0ee-c2e4897df787",
        "colab": {
          "base_uri": "https://localhost:8080/",
          "height": 306
        }
      },
      "source": [
        "covid_df = pd.read_csv(\"10-17-2020.csv\")\n",
        "covid_df.head()"
      ],
      "execution_count": 5,
      "outputs": [
        {
          "output_type": "execute_result",
          "data": {
            "text/html": [
              "<div>\n",
              "<style scoped>\n",
              "    .dataframe tbody tr th:only-of-type {\n",
              "        vertical-align: middle;\n",
              "    }\n",
              "\n",
              "    .dataframe tbody tr th {\n",
              "        vertical-align: top;\n",
              "    }\n",
              "\n",
              "    .dataframe thead th {\n",
              "        text-align: right;\n",
              "    }\n",
              "</style>\n",
              "<table border=\"1\" class=\"dataframe\">\n",
              "  <thead>\n",
              "    <tr style=\"text-align: right;\">\n",
              "      <th></th>\n",
              "      <th>FIPS</th>\n",
              "      <th>Admin2</th>\n",
              "      <th>Province_State</th>\n",
              "      <th>Country_Region</th>\n",
              "      <th>Last_Update</th>\n",
              "      <th>Lat</th>\n",
              "      <th>Long_</th>\n",
              "      <th>Confirmed</th>\n",
              "      <th>Deaths</th>\n",
              "      <th>Recovered</th>\n",
              "      <th>Active</th>\n",
              "      <th>Combined_Key</th>\n",
              "      <th>Incidence_Rate</th>\n",
              "      <th>Case-Fatality_Ratio</th>\n",
              "    </tr>\n",
              "  </thead>\n",
              "  <tbody>\n",
              "    <tr>\n",
              "      <th>0</th>\n",
              "      <td>NaN</td>\n",
              "      <td>NaN</td>\n",
              "      <td>NaN</td>\n",
              "      <td>Afghanistan</td>\n",
              "      <td>2020-10-18 04:24:25</td>\n",
              "      <td>33.93911</td>\n",
              "      <td>67.709953</td>\n",
              "      <td>40141</td>\n",
              "      <td>1488</td>\n",
              "      <td>33561</td>\n",
              "      <td>5092.0</td>\n",
              "      <td>Afghanistan</td>\n",
              "      <td>103.115106</td>\n",
              "      <td>3.706933</td>\n",
              "    </tr>\n",
              "    <tr>\n",
              "      <th>1</th>\n",
              "      <td>NaN</td>\n",
              "      <td>NaN</td>\n",
              "      <td>NaN</td>\n",
              "      <td>Albania</td>\n",
              "      <td>2020-10-18 04:24:25</td>\n",
              "      <td>41.15330</td>\n",
              "      <td>20.168300</td>\n",
              "      <td>16774</td>\n",
              "      <td>448</td>\n",
              "      <td>10001</td>\n",
              "      <td>6325.0</td>\n",
              "      <td>Albania</td>\n",
              "      <td>582.875808</td>\n",
              "      <td>2.670800</td>\n",
              "    </tr>\n",
              "    <tr>\n",
              "      <th>2</th>\n",
              "      <td>NaN</td>\n",
              "      <td>NaN</td>\n",
              "      <td>NaN</td>\n",
              "      <td>Algeria</td>\n",
              "      <td>2020-10-18 04:24:25</td>\n",
              "      <td>28.03390</td>\n",
              "      <td>1.659600</td>\n",
              "      <td>54203</td>\n",
              "      <td>1846</td>\n",
              "      <td>37971</td>\n",
              "      <td>14386.0</td>\n",
              "      <td>Algeria</td>\n",
              "      <td>123.607094</td>\n",
              "      <td>3.405716</td>\n",
              "    </tr>\n",
              "    <tr>\n",
              "      <th>3</th>\n",
              "      <td>NaN</td>\n",
              "      <td>NaN</td>\n",
              "      <td>NaN</td>\n",
              "      <td>Andorra</td>\n",
              "      <td>2020-10-18 04:24:25</td>\n",
              "      <td>42.50630</td>\n",
              "      <td>1.521800</td>\n",
              "      <td>3377</td>\n",
              "      <td>59</td>\n",
              "      <td>2057</td>\n",
              "      <td>1261.0</td>\n",
              "      <td>Andorra</td>\n",
              "      <td>4370.672361</td>\n",
              "      <td>1.747113</td>\n",
              "    </tr>\n",
              "    <tr>\n",
              "      <th>4</th>\n",
              "      <td>NaN</td>\n",
              "      <td>NaN</td>\n",
              "      <td>NaN</td>\n",
              "      <td>Angola</td>\n",
              "      <td>2020-10-18 04:24:25</td>\n",
              "      <td>-11.20270</td>\n",
              "      <td>17.873900</td>\n",
              "      <td>7462</td>\n",
              "      <td>241</td>\n",
              "      <td>3022</td>\n",
              "      <td>4199.0</td>\n",
              "      <td>Angola</td>\n",
              "      <td>22.704129</td>\n",
              "      <td>3.229697</td>\n",
              "    </tr>\n",
              "  </tbody>\n",
              "</table>\n",
              "</div>"
            ],
            "text/plain": [
              "   FIPS Admin2 Province_State  ... Combined_Key Incidence_Rate  Case-Fatality_Ratio\n",
              "0   NaN    NaN            NaN  ...  Afghanistan     103.115106             3.706933\n",
              "1   NaN    NaN            NaN  ...      Albania     582.875808             2.670800\n",
              "2   NaN    NaN            NaN  ...      Algeria     123.607094             3.405716\n",
              "3   NaN    NaN            NaN  ...      Andorra    4370.672361             1.747113\n",
              "4   NaN    NaN            NaN  ...       Angola      22.704129             3.229697\n",
              "\n",
              "[5 rows x 14 columns]"
            ]
          },
          "metadata": {
            "tags": []
          },
          "execution_count": 5
        }
      ]
    },
    {
      "cell_type": "code",
      "metadata": {
        "id": "0KU9hUTGVg09",
        "outputId": "9772d595-27a1-40bc-8d39-8490acd10cfb",
        "colab": {
          "base_uri": "https://localhost:8080/",
          "height": 34
        }
      },
      "source": [
        "covid_df.shape"
      ],
      "execution_count": 6,
      "outputs": [
        {
          "output_type": "execute_result",
          "data": {
            "text/plain": [
              "(3957, 14)"
            ]
          },
          "metadata": {
            "tags": []
          },
          "execution_count": 6
        }
      ]
    },
    {
      "cell_type": "markdown",
      "metadata": {
        "id": "dyt6Sl1PeIWk"
      },
      "source": [
        "### Cleanup Columns"
      ]
    },
    {
      "cell_type": "code",
      "metadata": {
        "id": "-3rY-eKHxwUP",
        "outputId": "c478fc2a-45b5-4cb7-c9d4-0b99edf52f9a",
        "colab": {
          "base_uri": "https://localhost:8080/",
          "height": 86
        }
      },
      "source": [
        "covid_df.columns"
      ],
      "execution_count": 7,
      "outputs": [
        {
          "output_type": "execute_result",
          "data": {
            "text/plain": [
              "Index(['FIPS', 'Admin2', 'Province_State', 'Country_Region', 'Last_Update',\n",
              "       'Lat', 'Long_', 'Confirmed', 'Deaths', 'Recovered', 'Active',\n",
              "       'Combined_Key', 'Incidence_Rate', 'Case-Fatality_Ratio'],\n",
              "      dtype='object')"
            ]
          },
          "metadata": {
            "tags": []
          },
          "execution_count": 7
        }
      ]
    },
    {
      "cell_type": "markdown",
      "metadata": {
        "id": "xU3IAYTMU7rL"
      },
      "source": [
        "Rename the following columns: Admin2 and Combined_Key"
      ]
    },
    {
      "cell_type": "code",
      "metadata": {
        "id": "A4QirmMXVBz4"
      },
      "source": [
        "covid_df.rename(columns = {'Admin2':'County', 'Combined_Key':'Place'}, inplace = True)"
      ],
      "execution_count": 8,
      "outputs": []
    },
    {
      "cell_type": "markdown",
      "metadata": {
        "id": "PccJVU9hcPcU"
      },
      "source": [
        "Remove columns that irrelevant to the study"
      ]
    },
    {
      "cell_type": "code",
      "metadata": {
        "id": "vHz9hJqVd5IT",
        "outputId": "09b6fd50-cc75-4235-a945-9865e44b65ba",
        "colab": {
          "base_uri": "https://localhost:8080/",
          "height": 141
        }
      },
      "source": [
        "irrelevant_columns = ['Last_Update', 'Lat', 'Long_', 'Recovered', 'Active']\n",
        "covid_df = covid_df.drop(irrelevant_columns, axis=1)\n",
        "covid_df.head(3)"
      ],
      "execution_count": 9,
      "outputs": [
        {
          "output_type": "execute_result",
          "data": {
            "text/html": [
              "<div>\n",
              "<style scoped>\n",
              "    .dataframe tbody tr th:only-of-type {\n",
              "        vertical-align: middle;\n",
              "    }\n",
              "\n",
              "    .dataframe tbody tr th {\n",
              "        vertical-align: top;\n",
              "    }\n",
              "\n",
              "    .dataframe thead th {\n",
              "        text-align: right;\n",
              "    }\n",
              "</style>\n",
              "<table border=\"1\" class=\"dataframe\">\n",
              "  <thead>\n",
              "    <tr style=\"text-align: right;\">\n",
              "      <th></th>\n",
              "      <th>FIPS</th>\n",
              "      <th>County</th>\n",
              "      <th>Province_State</th>\n",
              "      <th>Country_Region</th>\n",
              "      <th>Confirmed</th>\n",
              "      <th>Deaths</th>\n",
              "      <th>Place</th>\n",
              "      <th>Incidence_Rate</th>\n",
              "      <th>Case-Fatality_Ratio</th>\n",
              "    </tr>\n",
              "  </thead>\n",
              "  <tbody>\n",
              "    <tr>\n",
              "      <th>0</th>\n",
              "      <td>NaN</td>\n",
              "      <td>NaN</td>\n",
              "      <td>NaN</td>\n",
              "      <td>Afghanistan</td>\n",
              "      <td>40141</td>\n",
              "      <td>1488</td>\n",
              "      <td>Afghanistan</td>\n",
              "      <td>103.115106</td>\n",
              "      <td>3.706933</td>\n",
              "    </tr>\n",
              "    <tr>\n",
              "      <th>1</th>\n",
              "      <td>NaN</td>\n",
              "      <td>NaN</td>\n",
              "      <td>NaN</td>\n",
              "      <td>Albania</td>\n",
              "      <td>16774</td>\n",
              "      <td>448</td>\n",
              "      <td>Albania</td>\n",
              "      <td>582.875808</td>\n",
              "      <td>2.670800</td>\n",
              "    </tr>\n",
              "    <tr>\n",
              "      <th>2</th>\n",
              "      <td>NaN</td>\n",
              "      <td>NaN</td>\n",
              "      <td>NaN</td>\n",
              "      <td>Algeria</td>\n",
              "      <td>54203</td>\n",
              "      <td>1846</td>\n",
              "      <td>Algeria</td>\n",
              "      <td>123.607094</td>\n",
              "      <td>3.405716</td>\n",
              "    </tr>\n",
              "  </tbody>\n",
              "</table>\n",
              "</div>"
            ],
            "text/plain": [
              "   FIPS County Province_State  ...        Place  Incidence_Rate  Case-Fatality_Ratio\n",
              "0   NaN    NaN            NaN  ...  Afghanistan      103.115106             3.706933\n",
              "1   NaN    NaN            NaN  ...      Albania      582.875808             2.670800\n",
              "2   NaN    NaN            NaN  ...      Algeria      123.607094             3.405716\n",
              "\n",
              "[3 rows x 9 columns]"
            ]
          },
          "metadata": {
            "tags": []
          },
          "execution_count": 9
        }
      ]
    },
    {
      "cell_type": "markdown",
      "metadata": {
        "id": "_JRf0Vj3iJgo"
      },
      "source": [
        "Reorder columns"
      ]
    },
    {
      "cell_type": "code",
      "metadata": {
        "id": "jELZ4lw4iNeK",
        "outputId": "6911974c-956a-4225-b957-453164b86085",
        "colab": {
          "base_uri": "https://localhost:8080/",
          "height": 141
        }
      },
      "source": [
        "column_order = ['FIPS','County','Province_State','Country_Region','Place','Confirmed','Deaths','Incidence_Rate','Case-Fatality_Ratio'] \n",
        "covid_df = covid_df[column_order] \n",
        "covid_df.head(3) "
      ],
      "execution_count": 10,
      "outputs": [
        {
          "output_type": "execute_result",
          "data": {
            "text/html": [
              "<div>\n",
              "<style scoped>\n",
              "    .dataframe tbody tr th:only-of-type {\n",
              "        vertical-align: middle;\n",
              "    }\n",
              "\n",
              "    .dataframe tbody tr th {\n",
              "        vertical-align: top;\n",
              "    }\n",
              "\n",
              "    .dataframe thead th {\n",
              "        text-align: right;\n",
              "    }\n",
              "</style>\n",
              "<table border=\"1\" class=\"dataframe\">\n",
              "  <thead>\n",
              "    <tr style=\"text-align: right;\">\n",
              "      <th></th>\n",
              "      <th>FIPS</th>\n",
              "      <th>County</th>\n",
              "      <th>Province_State</th>\n",
              "      <th>Country_Region</th>\n",
              "      <th>Place</th>\n",
              "      <th>Confirmed</th>\n",
              "      <th>Deaths</th>\n",
              "      <th>Incidence_Rate</th>\n",
              "      <th>Case-Fatality_Ratio</th>\n",
              "    </tr>\n",
              "  </thead>\n",
              "  <tbody>\n",
              "    <tr>\n",
              "      <th>0</th>\n",
              "      <td>NaN</td>\n",
              "      <td>NaN</td>\n",
              "      <td>NaN</td>\n",
              "      <td>Afghanistan</td>\n",
              "      <td>Afghanistan</td>\n",
              "      <td>40141</td>\n",
              "      <td>1488</td>\n",
              "      <td>103.115106</td>\n",
              "      <td>3.706933</td>\n",
              "    </tr>\n",
              "    <tr>\n",
              "      <th>1</th>\n",
              "      <td>NaN</td>\n",
              "      <td>NaN</td>\n",
              "      <td>NaN</td>\n",
              "      <td>Albania</td>\n",
              "      <td>Albania</td>\n",
              "      <td>16774</td>\n",
              "      <td>448</td>\n",
              "      <td>582.875808</td>\n",
              "      <td>2.670800</td>\n",
              "    </tr>\n",
              "    <tr>\n",
              "      <th>2</th>\n",
              "      <td>NaN</td>\n",
              "      <td>NaN</td>\n",
              "      <td>NaN</td>\n",
              "      <td>Algeria</td>\n",
              "      <td>Algeria</td>\n",
              "      <td>54203</td>\n",
              "      <td>1846</td>\n",
              "      <td>123.607094</td>\n",
              "      <td>3.405716</td>\n",
              "    </tr>\n",
              "  </tbody>\n",
              "</table>\n",
              "</div>"
            ],
            "text/plain": [
              "   FIPS County Province_State  ... Deaths Incidence_Rate  Case-Fatality_Ratio\n",
              "0   NaN    NaN            NaN  ...   1488     103.115106             3.706933\n",
              "1   NaN    NaN            NaN  ...    448     582.875808             2.670800\n",
              "2   NaN    NaN            NaN  ...   1846     123.607094             3.405716\n",
              "\n",
              "[3 rows x 9 columns]"
            ]
          },
          "metadata": {
            "tags": []
          },
          "execution_count": 10
        }
      ]
    },
    {
      "cell_type": "markdown",
      "metadata": {
        "id": "7kgPKFp2DOk4"
      },
      "source": [
        "### Remove Irrelevant Data"
      ]
    },
    {
      "cell_type": "markdown",
      "metadata": {
        "id": "xYo7bRBkKmlt"
      },
      "source": [
        "Note: Only counties in the US are useful for the study.\n",
        "\n",
        "Determine how much of the dataframe is useful for the study."
      ]
    },
    {
      "cell_type": "code",
      "metadata": {
        "id": "rmhl5eb4I0TY",
        "outputId": "fe5e14fb-bcb8-4104-ce60-342139531361",
        "colab": {
          "base_uri": "https://localhost:8080/",
          "height": 208
        }
      },
      "source": [
        "covid_df[\"Country_Region\"].value_counts().head(10)"
      ],
      "execution_count": 11,
      "outputs": [
        {
          "output_type": "execute_result",
          "data": {
            "text/plain": [
              "US          3271\n",
              "Russia        83\n",
              "Japan         49\n",
              "India         37\n",
              "Colombia      34\n",
              "China         33\n",
              "Mexico        32\n",
              "Brazil        27\n",
              "Ukraine       27\n",
              "Peru          26\n",
              "Name: Country_Region, dtype: int64"
            ]
          },
          "metadata": {
            "tags": []
          },
          "execution_count": 11
        }
      ]
    },
    {
      "cell_type": "markdown",
      "metadata": {
        "id": "yL5Lgrq2LKjR"
      },
      "source": [
        "The non-US data is irrelvant since only US counties are being studied.\n",
        "\n",
        "Only keep the records representing US data."
      ]
    },
    {
      "cell_type": "code",
      "metadata": {
        "id": "p-m3QPh3XMHn",
        "outputId": "be79594b-f107-4cce-a2b1-1694a24c68dd",
        "colab": {
          "base_uri": "https://localhost:8080/",
          "height": 34
        }
      },
      "source": [
        "covid_us_df = covid_df[covid_df.Country_Region == \"US\"]\n",
        "covid_us_df.shape"
      ],
      "execution_count": 12,
      "outputs": [
        {
          "output_type": "execute_result",
          "data": {
            "text/plain": [
              "(3271, 9)"
            ]
          },
          "metadata": {
            "tags": []
          },
          "execution_count": 12
        }
      ]
    },
    {
      "cell_type": "markdown",
      "metadata": {
        "id": "ezq7W_EmLyvJ"
      },
      "source": [
        "Check Data Types and Counts"
      ]
    },
    {
      "cell_type": "code",
      "metadata": {
        "id": "SAeJHt2DHZke",
        "outputId": "3da8b95e-72e0-47a4-d8c6-d863e4fe523f",
        "colab": {
          "base_uri": "https://localhost:8080/",
          "height": 294
        }
      },
      "source": [
        "covid_df.info()"
      ],
      "execution_count": 13,
      "outputs": [
        {
          "output_type": "stream",
          "text": [
            "<class 'pandas.core.frame.DataFrame'>\n",
            "RangeIndex: 3957 entries, 0 to 3956\n",
            "Data columns (total 9 columns):\n",
            " #   Column               Non-Null Count  Dtype  \n",
            "---  ------               --------------  -----  \n",
            " 0   FIPS                 3260 non-null   float64\n",
            " 1   County               3265 non-null   object \n",
            " 2   Province_State       3788 non-null   object \n",
            " 3   Country_Region       3957 non-null   object \n",
            " 4   Place                3957 non-null   object \n",
            " 5   Confirmed            3957 non-null   int64  \n",
            " 6   Deaths               3957 non-null   int64  \n",
            " 7   Incidence_Rate       3876 non-null   float64\n",
            " 8   Case-Fatality_Ratio  3914 non-null   float64\n",
            "dtypes: float64(3), int64(2), object(4)\n",
            "memory usage: 278.4+ KB\n"
          ],
          "name": "stdout"
        }
      ]
    },
    {
      "cell_type": "markdown",
      "metadata": {
        "id": "jNC7IuwlH1wI"
      },
      "source": [
        "The Non-Null counts are not the same, so cleanup missing data before moving forward."
      ]
    },
    {
      "cell_type": "markdown",
      "metadata": {
        "id": "ILnzYwLUIYzc"
      },
      "source": [
        "### Missing Data Cleanup"
      ]
    },
    {
      "cell_type": "markdown",
      "metadata": {
        "id": "MMb_2DUuhiUL"
      },
      "source": [
        "Visualize the dataframe to identify missing data"
      ]
    },
    {
      "cell_type": "code",
      "metadata": {
        "id": "gbyGkLGCkNlh",
        "outputId": "e23b353c-2e73-4a87-a806-d7a5198d879d",
        "colab": {
          "base_uri": "https://localhost:8080/",
          "height": 0
        }
      },
      "source": [
        "# Reference: https://analyticsindiamag.com/tutorial-on-missingno-python-tool-to-visualize-missing-values/\n",
        "import missingno as msno\n",
        "msno.matrix(covid_us_df)"
      ],
      "execution_count": 14,
      "outputs": [
        {
          "output_type": "execute_result",
          "data": {
            "text/plain": [
              "<matplotlib.axes._subplots.AxesSubplot at 0x7f934a7efda0>"
            ]
          },
          "metadata": {
            "tags": []
          },
          "execution_count": 14
        },
        {
          "output_type": "display_data",
          "data": {
            "image/png": "[encoded data removed]",
            "text/plain": [
              "<Figure size 1800x720 with 2 Axes>"
            ]
          },
          "metadata": {
            "tags": [],
            "needs_background": "light"
          }
        }
      ]
    },
    {
      "cell_type": "markdown",
      "metadata": {
        "id": "MQa_7a62DDVe"
      },
      "source": [
        "Investigate records without a FIPS code"
      ]
    },
    {
      "cell_type": "code",
      "metadata": {
        "id": "--QqnJ6TYFNc",
        "outputId": "bc7b95b2-45f3-4840-a248-97c00ca321ce",
        "colab": {
          "base_uri": "https://localhost:8080/",
          "height": 0
        }
      },
      "source": [
        "covid_nofips_us_df = covid_us_df[covid_us_df.FIPS.isna()]\n",
        "covid_nofips_us_df.shape"
      ],
      "execution_count": 15,
      "outputs": [
        {
          "output_type": "execute_result",
          "data": {
            "text/plain": [
              "(11, 9)"
            ]
          },
          "metadata": {
            "tags": []
          },
          "execution_count": 15
        }
      ]
    },
    {
      "cell_type": "code",
      "metadata": {
        "id": "HmyP4MpUYnE1",
        "outputId": "84086368-7ef4-47c5-cde0-3cb4c4f70163",
        "colab": {
          "base_uri": "https://localhost:8080/",
          "height": 0
        }
      },
      "source": [
        "covid_nofips_us_df"
      ],
      "execution_count": 16,
      "outputs": [
        {
          "output_type": "execute_result",
          "data": {
            "text/html": [
              "<div>\n",
              "<style scoped>\n",
              "    .dataframe tbody tr th:only-of-type {\n",
              "        vertical-align: middle;\n",
              "    }\n",
              "\n",
              "    .dataframe tbody tr th {\n",
              "        vertical-align: top;\n",
              "    }\n",
              "\n",
              "    .dataframe thead th {\n",
              "        text-align: right;\n",
              "    }\n",
              "</style>\n",
              "<table border=\"1\" class=\"dataframe\">\n",
              "  <thead>\n",
              "    <tr style=\"text-align: right;\">\n",
              "      <th></th>\n",
              "      <th>FIPS</th>\n",
              "      <th>County</th>\n",
              "      <th>Province_State</th>\n",
              "      <th>Country_Region</th>\n",
              "      <th>Place</th>\n",
              "      <th>Confirmed</th>\n",
              "      <th>Deaths</th>\n",
              "      <th>Incidence_Rate</th>\n",
              "      <th>Case-Fatality_Ratio</th>\n",
              "    </tr>\n",
              "  </thead>\n",
              "  <tbody>\n",
              "    <tr>\n",
              "      <th>1880</th>\n",
              "      <td>NaN</td>\n",
              "      <td>Dukes and Nantucket</td>\n",
              "      <td>Massachusetts</td>\n",
              "      <td>US</td>\n",
              "      <td>Dukes and Nantucket, Massachusetts, US</td>\n",
              "      <td>204</td>\n",
              "      <td>2</td>\n",
              "      <td>710.034458</td>\n",
              "      <td>0.980392</td>\n",
              "    </tr>\n",
              "    <tr>\n",
              "      <th>1915</th>\n",
              "      <td>NaN</td>\n",
              "      <td>Federal Correctional Institution (FCI)</td>\n",
              "      <td>Michigan</td>\n",
              "      <td>US</td>\n",
              "      <td>Federal Correctional Institution (FCI), Michig...</td>\n",
              "      <td>195</td>\n",
              "      <td>5</td>\n",
              "      <td>NaN</td>\n",
              "      <td>2.564103</td>\n",
              "    </tr>\n",
              "    <tr>\n",
              "      <th>1947</th>\n",
              "      <td>NaN</td>\n",
              "      <td>Michigan Department of Corrections (MDOC)</td>\n",
              "      <td>Michigan</td>\n",
              "      <td>US</td>\n",
              "      <td>Michigan Department of Corrections (MDOC), Mic...</td>\n",
              "      <td>5846</td>\n",
              "      <td>75</td>\n",
              "      <td>NaN</td>\n",
              "      <td>1.282928</td>\n",
              "    </tr>\n",
              "    <tr>\n",
              "      <th>2200</th>\n",
              "      <td>NaN</td>\n",
              "      <td>Kansas City</td>\n",
              "      <td>Missouri</td>\n",
              "      <td>US</td>\n",
              "      <td>Kansas City, Missouri, US</td>\n",
              "      <td>13499</td>\n",
              "      <td>162</td>\n",
              "      <td>2760.853515</td>\n",
              "      <td>1.200089</td>\n",
              "    </tr>\n",
              "    <tr>\n",
              "      <th>3074</th>\n",
              "      <td>NaN</td>\n",
              "      <td>NaN</td>\n",
              "      <td>Recovered</td>\n",
              "      <td>US</td>\n",
              "      <td>Recovered, US</td>\n",
              "      <td>0</td>\n",
              "      <td>0</td>\n",
              "      <td>NaN</td>\n",
              "      <td>NaN</td>\n",
              "    </tr>\n",
              "    <tr>\n",
              "      <th>3547</th>\n",
              "      <td>NaN</td>\n",
              "      <td>Bear River</td>\n",
              "      <td>Utah</td>\n",
              "      <td>US</td>\n",
              "      <td>Bear River, Utah, US</td>\n",
              "      <td>4436</td>\n",
              "      <td>14</td>\n",
              "      <td>2374.503527</td>\n",
              "      <td>0.315600</td>\n",
              "    </tr>\n",
              "    <tr>\n",
              "      <th>3548</th>\n",
              "      <td>NaN</td>\n",
              "      <td>Central Utah</td>\n",
              "      <td>Utah</td>\n",
              "      <td>US</td>\n",
              "      <td>Central Utah, Utah, US</td>\n",
              "      <td>1038</td>\n",
              "      <td>6</td>\n",
              "      <td>1266.564170</td>\n",
              "      <td>0.578035</td>\n",
              "    </tr>\n",
              "    <tr>\n",
              "      <th>3552</th>\n",
              "      <td>NaN</td>\n",
              "      <td>Southeast Utah</td>\n",
              "      <td>Utah</td>\n",
              "      <td>US</td>\n",
              "      <td>Southeast Utah, Utah, US</td>\n",
              "      <td>357</td>\n",
              "      <td>3</td>\n",
              "      <td>887.419523</td>\n",
              "      <td>0.840336</td>\n",
              "    </tr>\n",
              "    <tr>\n",
              "      <th>3553</th>\n",
              "      <td>NaN</td>\n",
              "      <td>Southwest Utah</td>\n",
              "      <td>Utah</td>\n",
              "      <td>US</td>\n",
              "      <td>Southwest Utah, Utah, US</td>\n",
              "      <td>5252</td>\n",
              "      <td>45</td>\n",
              "      <td>2083.779688</td>\n",
              "      <td>0.856816</td>\n",
              "    </tr>\n",
              "    <tr>\n",
              "      <th>3556</th>\n",
              "      <td>NaN</td>\n",
              "      <td>TriCounty</td>\n",
              "      <td>Utah</td>\n",
              "      <td>US</td>\n",
              "      <td>TriCounty, Utah, US</td>\n",
              "      <td>309</td>\n",
              "      <td>2</td>\n",
              "      <td>545.724277</td>\n",
              "      <td>0.647249</td>\n",
              "    </tr>\n",
              "    <tr>\n",
              "      <th>3560</th>\n",
              "      <td>NaN</td>\n",
              "      <td>Weber-Morgan</td>\n",
              "      <td>Utah</td>\n",
              "      <td>US</td>\n",
              "      <td>Weber-Morgan, Utah, US</td>\n",
              "      <td>5538</td>\n",
              "      <td>32</td>\n",
              "      <td>2033.509953</td>\n",
              "      <td>0.577826</td>\n",
              "    </tr>\n",
              "  </tbody>\n",
              "</table>\n",
              "</div>"
            ],
            "text/plain": [
              "      FIPS  ... Case-Fatality_Ratio\n",
              "1880   NaN  ...            0.980392\n",
              "1915   NaN  ...            2.564103\n",
              "1947   NaN  ...            1.282928\n",
              "2200   NaN  ...            1.200089\n",
              "3074   NaN  ...                 NaN\n",
              "3547   NaN  ...            0.315600\n",
              "3548   NaN  ...            0.578035\n",
              "3552   NaN  ...            0.840336\n",
              "3553   NaN  ...            0.856816\n",
              "3556   NaN  ...            0.647249\n",
              "3560   NaN  ...            0.577826\n",
              "\n",
              "[11 rows x 9 columns]"
            ]
          },
          "metadata": {
            "tags": []
          },
          "execution_count": 16
        }
      ]
    },
    {
      "cell_type": "markdown",
      "metadata": {
        "id": "PeZxpZQtEWb3"
      },
      "source": [
        "Records lacking a FIPS code cannot be used in the study because the field will be joined with land area data needed to determine population density for each county.\n",
        "\n",
        "Remove the records without a FIPS code."
      ]
    },
    {
      "cell_type": "code",
      "metadata": {
        "id": "Z6dUaDb8bfCO",
        "outputId": "a5d574c4-e949-4c95-b740-bb68c7ef800a",
        "colab": {
          "base_uri": "https://localhost:8080/",
          "height": 0
        }
      },
      "source": [
        "covid_us_df = covid_us_df[covid_us_df.FIPS.notna()]\n",
        "covid_us_df.shape"
      ],
      "execution_count": 17,
      "outputs": [
        {
          "output_type": "execute_result",
          "data": {
            "text/plain": [
              "(3260, 9)"
            ]
          },
          "metadata": {
            "tags": []
          },
          "execution_count": 17
        }
      ]
    },
    {
      "cell_type": "markdown",
      "metadata": {
        "id": "IV2FtOtORgdU"
      },
      "source": [
        "Investigate records without a County"
      ]
    },
    {
      "cell_type": "code",
      "metadata": {
        "id": "NeYtoq2ZRUyZ",
        "outputId": "5aea84a6-ff9d-43f9-e295-d15203c4736e",
        "colab": {
          "base_uri": "https://localhost:8080/",
          "height": 0
        }
      },
      "source": [
        "covid_no_county_us_df = covid_us_df[covid_us_df.County.isna()]\n",
        "covid_no_county_us_df.shape"
      ],
      "execution_count": 18,
      "outputs": [
        {
          "output_type": "execute_result",
          "data": {
            "text/plain": [
              "(5, 9)"
            ]
          },
          "metadata": {
            "tags": []
          },
          "execution_count": 18
        }
      ]
    },
    {
      "cell_type": "code",
      "metadata": {
        "id": "M6ux2vsqR5nK",
        "outputId": "36cbb79a-e67f-48de-bbef-cc1e2c991dd2",
        "colab": {
          "base_uri": "https://localhost:8080/",
          "height": 0
        }
      },
      "source": [
        "covid_no_county_us_df"
      ],
      "execution_count": 19,
      "outputs": [
        {
          "output_type": "execute_result",
          "data": {
            "text/html": [
              "<div>\n",
              "<style scoped>\n",
              "    .dataframe tbody tr th:only-of-type {\n",
              "        vertical-align: middle;\n",
              "    }\n",
              "\n",
              "    .dataframe tbody tr th {\n",
              "        vertical-align: top;\n",
              "    }\n",
              "\n",
              "    .dataframe thead th {\n",
              "        text-align: right;\n",
              "    }\n",
              "</style>\n",
              "<table border=\"1\" class=\"dataframe\">\n",
              "  <thead>\n",
              "    <tr style=\"text-align: right;\">\n",
              "      <th></th>\n",
              "      <th>FIPS</th>\n",
              "      <th>County</th>\n",
              "      <th>Province_State</th>\n",
              "      <th>Country_Region</th>\n",
              "      <th>Place</th>\n",
              "      <th>Confirmed</th>\n",
              "      <th>Deaths</th>\n",
              "      <th>Incidence_Rate</th>\n",
              "      <th>Case-Fatality_Ratio</th>\n",
              "    </tr>\n",
              "  </thead>\n",
              "  <tbody>\n",
              "    <tr>\n",
              "      <th>960</th>\n",
              "      <td>88888.0</td>\n",
              "      <td>NaN</td>\n",
              "      <td>Diamond Princess</td>\n",
              "      <td>US</td>\n",
              "      <td>Diamond Princess, US</td>\n",
              "      <td>49</td>\n",
              "      <td>0</td>\n",
              "      <td>NaN</td>\n",
              "      <td>0.000000</td>\n",
              "    </tr>\n",
              "    <tr>\n",
              "      <th>1191</th>\n",
              "      <td>99999.0</td>\n",
              "      <td>NaN</td>\n",
              "      <td>Grand Princess</td>\n",
              "      <td>US</td>\n",
              "      <td>Grand Princess, US</td>\n",
              "      <td>103</td>\n",
              "      <td>3</td>\n",
              "      <td>NaN</td>\n",
              "      <td>2.912621</td>\n",
              "    </tr>\n",
              "    <tr>\n",
              "      <th>1192</th>\n",
              "      <td>66.0</td>\n",
              "      <td>NaN</td>\n",
              "      <td>Guam</td>\n",
              "      <td>US</td>\n",
              "      <td>Guam, US</td>\n",
              "      <td>3538</td>\n",
              "      <td>63</td>\n",
              "      <td>2154.308922</td>\n",
              "      <td>1.780667</td>\n",
              "    </tr>\n",
              "    <tr>\n",
              "      <th>2720</th>\n",
              "      <td>69.0</td>\n",
              "      <td>NaN</td>\n",
              "      <td>Northern Mariana Islands</td>\n",
              "      <td>US</td>\n",
              "      <td>Northern Mariana Islands, US</td>\n",
              "      <td>86</td>\n",
              "      <td>2</td>\n",
              "      <td>155.955317</td>\n",
              "      <td>2.325581</td>\n",
              "    </tr>\n",
              "    <tr>\n",
              "      <th>3576</th>\n",
              "      <td>78.0</td>\n",
              "      <td>NaN</td>\n",
              "      <td>Virgin Islands</td>\n",
              "      <td>US</td>\n",
              "      <td>Virgin Islands, US</td>\n",
              "      <td>1335</td>\n",
              "      <td>21</td>\n",
              "      <td>1244.546370</td>\n",
              "      <td>1.573034</td>\n",
              "    </tr>\n",
              "  </tbody>\n",
              "</table>\n",
              "</div>"
            ],
            "text/plain": [
              "         FIPS County  ... Incidence_Rate Case-Fatality_Ratio\n",
              "960   88888.0    NaN  ...            NaN            0.000000\n",
              "1191  99999.0    NaN  ...            NaN            2.912621\n",
              "1192     66.0    NaN  ...    2154.308922            1.780667\n",
              "2720     69.0    NaN  ...     155.955317            2.325581\n",
              "3576     78.0    NaN  ...    1244.546370            1.573034\n",
              "\n",
              "[5 rows x 9 columns]"
            ]
          },
          "metadata": {
            "tags": []
          },
          "execution_count": 19
        }
      ]
    },
    {
      "cell_type": "markdown",
      "metadata": {
        "id": "JdKofZn7RT6X"
      },
      "source": [
        "These records represent provinces or special COVID groupings irrelevant to the study and can be removed."
      ]
    },
    {
      "cell_type": "code",
      "metadata": {
        "id": "K_QUtwYoSovY",
        "outputId": "e2bd91d4-4aa5-4d97-bb3d-2703e137c665",
        "colab": {
          "base_uri": "https://localhost:8080/",
          "height": 0
        }
      },
      "source": [
        "covid_us_df = covid_us_df[covid_us_df.County.notna()]\n",
        "covid_us_df.shape"
      ],
      "execution_count": 20,
      "outputs": [
        {
          "output_type": "execute_result",
          "data": {
            "text/plain": [
              "(3255, 9)"
            ]
          },
          "metadata": {
            "tags": []
          },
          "execution_count": 20
        }
      ]
    },
    {
      "cell_type": "code",
      "metadata": {
        "id": "hBLYaT-XWszH",
        "outputId": "228652ac-1888-4fc5-af31-2dcebe9d2008",
        "colab": {
          "base_uri": "https://localhost:8080/",
          "height": 0
        }
      },
      "source": [
        "covid_us_df.info()"
      ],
      "execution_count": 21,
      "outputs": [
        {
          "output_type": "stream",
          "text": [
            "<class 'pandas.core.frame.DataFrame'>\n",
            "Int64Index: 3255 entries, 633 to 3903\n",
            "Data columns (total 9 columns):\n",
            " #   Column               Non-Null Count  Dtype  \n",
            "---  ------               --------------  -----  \n",
            " 0   FIPS                 3255 non-null   float64\n",
            " 1   County               3255 non-null   object \n",
            " 2   Province_State       3255 non-null   object \n",
            " 3   Country_Region       3255 non-null   object \n",
            " 4   Place                3255 non-null   object \n",
            " 5   Confirmed            3255 non-null   int64  \n",
            " 6   Deaths               3255 non-null   int64  \n",
            " 7   Incidence_Rate       3193 non-null   float64\n",
            " 8   Case-Fatality_Ratio  3220 non-null   float64\n",
            "dtypes: float64(3), int64(2), object(4)\n",
            "memory usage: 254.3+ KB\n"
          ],
          "name": "stdout"
        }
      ]
    },
    {
      "cell_type": "markdown",
      "metadata": {
        "id": "zs4GPZ2zW3PT"
      },
      "source": [
        "There are still NaNs in the following filed not critical to the study: Lat, Long_, Active, Incidence_Rate, Case-Fatality_Ratio.\n",
        "\n",
        "Set these NaNs to a value of zero."
      ]
    },
    {
      "cell_type": "code",
      "metadata": {
        "id": "Rqwm9Ut-Y_EF",
        "outputId": "bd2778c6-ae72-4b19-dd06-de0ac05788c0",
        "colab": {
          "base_uri": "https://localhost:8080/",
          "height": 0
        }
      },
      "source": [
        "covid_us_df = covid_us_df.fillna({'Lat':0, 'Long_':0, 'Active':0, 'Incidence_Rate':0, 'Case-Fatality_Ratio':0})\n",
        "covid_us_df.info()"
      ],
      "execution_count": 22,
      "outputs": [
        {
          "output_type": "stream",
          "text": [
            "<class 'pandas.core.frame.DataFrame'>\n",
            "Int64Index: 3255 entries, 633 to 3903\n",
            "Data columns (total 9 columns):\n",
            " #   Column               Non-Null Count  Dtype  \n",
            "---  ------               --------------  -----  \n",
            " 0   FIPS                 3255 non-null   float64\n",
            " 1   County               3255 non-null   object \n",
            " 2   Province_State       3255 non-null   object \n",
            " 3   Country_Region       3255 non-null   object \n",
            " 4   Place                3255 non-null   object \n",
            " 5   Confirmed            3255 non-null   int64  \n",
            " 6   Deaths               3255 non-null   int64  \n",
            " 7   Incidence_Rate       3255 non-null   float64\n",
            " 8   Case-Fatality_Ratio  3255 non-null   float64\n",
            "dtypes: float64(3), int64(2), object(4)\n",
            "memory usage: 254.3+ KB\n"
          ],
          "name": "stdout"
        }
      ]
    },
    {
      "cell_type": "markdown",
      "metadata": {
        "id": "68ViEKPRZkcs"
      },
      "source": [
        "All NaNs addressed.  Check column statistics to identify any other missing data"
      ]
    },
    {
      "cell_type": "code",
      "metadata": {
        "id": "yd-9h6aBPUO1",
        "outputId": "f61b7644-802b-458f-c014-80b378085b98",
        "colab": {
          "base_uri": "https://localhost:8080/",
          "height": 0
        }
      },
      "source": [
        "covid_us_df.describe(include='all')"
      ],
      "execution_count": 23,
      "outputs": [
        {
          "output_type": "execute_result",
          "data": {
            "text/html": [
              "<div>\n",
              "<style scoped>\n",
              "    .dataframe tbody tr th:only-of-type {\n",
              "        vertical-align: middle;\n",
              "    }\n",
              "\n",
              "    .dataframe tbody tr th {\n",
              "        vertical-align: top;\n",
              "    }\n",
              "\n",
              "    .dataframe thead th {\n",
              "        text-align: right;\n",
              "    }\n",
              "</style>\n",
              "<table border=\"1\" class=\"dataframe\">\n",
              "  <thead>\n",
              "    <tr style=\"text-align: right;\">\n",
              "      <th></th>\n",
              "      <th>FIPS</th>\n",
              "      <th>County</th>\n",
              "      <th>Province_State</th>\n",
              "      <th>Country_Region</th>\n",
              "      <th>Place</th>\n",
              "      <th>Confirmed</th>\n",
              "      <th>Deaths</th>\n",
              "      <th>Incidence_Rate</th>\n",
              "      <th>Case-Fatality_Ratio</th>\n",
              "    </tr>\n",
              "  </thead>\n",
              "  <tbody>\n",
              "    <tr>\n",
              "      <th>count</th>\n",
              "      <td>3255.000000</td>\n",
              "      <td>3255</td>\n",
              "      <td>3255</td>\n",
              "      <td>3255</td>\n",
              "      <td>3255</td>\n",
              "      <td>3255.000000</td>\n",
              "      <td>3255.000000</td>\n",
              "      <td>3255.000000</td>\n",
              "      <td>3255.000000</td>\n",
              "    </tr>\n",
              "    <tr>\n",
              "      <th>unique</th>\n",
              "      <td>NaN</td>\n",
              "      <td>1910</td>\n",
              "      <td>52</td>\n",
              "      <td>1</td>\n",
              "      <td>3255</td>\n",
              "      <td>NaN</td>\n",
              "      <td>NaN</td>\n",
              "      <td>NaN</td>\n",
              "      <td>NaN</td>\n",
              "    </tr>\n",
              "    <tr>\n",
              "      <th>top</th>\n",
              "      <td>NaN</td>\n",
              "      <td>Unassigned</td>\n",
              "      <td>Texas</td>\n",
              "      <td>US</td>\n",
              "      <td>Spencer, Indiana, US</td>\n",
              "      <td>NaN</td>\n",
              "      <td>NaN</td>\n",
              "      <td>NaN</td>\n",
              "      <td>NaN</td>\n",
              "    </tr>\n",
              "    <tr>\n",
              "      <th>freq</th>\n",
              "      <td>NaN</td>\n",
              "      <td>51</td>\n",
              "      <td>255</td>\n",
              "      <td>3255</td>\n",
              "      <td>1</td>\n",
              "      <td>NaN</td>\n",
              "      <td>NaN</td>\n",
              "      <td>NaN</td>\n",
              "      <td>NaN</td>\n",
              "    </tr>\n",
              "    <tr>\n",
              "      <th>mean</th>\n",
              "      <td>32376.990476</td>\n",
              "      <td>NaN</td>\n",
              "      <td>NaN</td>\n",
              "      <td>NaN</td>\n",
              "      <td>NaN</td>\n",
              "      <td>2477.603379</td>\n",
              "      <td>67.235330</td>\n",
              "      <td>2282.013221</td>\n",
              "      <td>2.073816</td>\n",
              "    </tr>\n",
              "    <tr>\n",
              "      <th>std</th>\n",
              "      <td>17889.419665</td>\n",
              "      <td>NaN</td>\n",
              "      <td>NaN</td>\n",
              "      <td>NaN</td>\n",
              "      <td>NaN</td>\n",
              "      <td>9649.688318</td>\n",
              "      <td>329.042006</td>\n",
              "      <td>1581.940143</td>\n",
              "      <td>2.958482</td>\n",
              "    </tr>\n",
              "    <tr>\n",
              "      <th>min</th>\n",
              "      <td>1001.000000</td>\n",
              "      <td>NaN</td>\n",
              "      <td>NaN</td>\n",
              "      <td>NaN</td>\n",
              "      <td>NaN</td>\n",
              "      <td>0.000000</td>\n",
              "      <td>0.000000</td>\n",
              "      <td>0.000000</td>\n",
              "      <td>0.000000</td>\n",
              "    </tr>\n",
              "    <tr>\n",
              "      <th>25%</th>\n",
              "      <td>19056.000000</td>\n",
              "      <td>NaN</td>\n",
              "      <td>NaN</td>\n",
              "      <td>NaN</td>\n",
              "      <td>NaN</td>\n",
              "      <td>179.000000</td>\n",
              "      <td>2.000000</td>\n",
              "      <td>1192.244787</td>\n",
              "      <td>0.666667</td>\n",
              "    </tr>\n",
              "    <tr>\n",
              "      <th>50%</th>\n",
              "      <td>30069.000000</td>\n",
              "      <td>NaN</td>\n",
              "      <td>NaN</td>\n",
              "      <td>NaN</td>\n",
              "      <td>NaN</td>\n",
              "      <td>520.000000</td>\n",
              "      <td>8.000000</td>\n",
              "      <td>1982.596658</td>\n",
              "      <td>1.515450</td>\n",
              "    </tr>\n",
              "    <tr>\n",
              "      <th>75%</th>\n",
              "      <td>47036.000000</td>\n",
              "      <td>NaN</td>\n",
              "      <td>NaN</td>\n",
              "      <td>NaN</td>\n",
              "      <td>NaN</td>\n",
              "      <td>1513.000000</td>\n",
              "      <td>31.000000</td>\n",
              "      <td>3060.658905</td>\n",
              "      <td>2.752712</td>\n",
              "    </tr>\n",
              "    <tr>\n",
              "      <th>max</th>\n",
              "      <td>90056.000000</td>\n",
              "      <td>NaN</td>\n",
              "      <td>NaN</td>\n",
              "      <td>NaN</td>\n",
              "      <td>NaN</td>\n",
              "      <td>288136.000000</td>\n",
              "      <td>7366.000000</td>\n",
              "      <td>16976.351351</td>\n",
              "      <td>89.846517</td>\n",
              "    </tr>\n",
              "  </tbody>\n",
              "</table>\n",
              "</div>"
            ],
            "text/plain": [
              "                FIPS      County  ... Incidence_Rate Case-Fatality_Ratio\n",
              "count    3255.000000        3255  ...    3255.000000         3255.000000\n",
              "unique           NaN        1910  ...            NaN                 NaN\n",
              "top              NaN  Unassigned  ...            NaN                 NaN\n",
              "freq             NaN          51  ...            NaN                 NaN\n",
              "mean    32376.990476         NaN  ...    2282.013221            2.073816\n",
              "std     17889.419665         NaN  ...    1581.940143            2.958482\n",
              "min      1001.000000         NaN  ...       0.000000            0.000000\n",
              "25%     19056.000000         NaN  ...    1192.244787            0.666667\n",
              "50%     30069.000000         NaN  ...    1982.596658            1.515450\n",
              "75%     47036.000000         NaN  ...    3060.658905            2.752712\n",
              "max     90056.000000         NaN  ...   16976.351351           89.846517\n",
              "\n",
              "[11 rows x 9 columns]"
            ]
          },
          "metadata": {
            "tags": []
          },
          "execution_count": 23
        }
      ]
    },
    {
      "cell_type": "markdown",
      "metadata": {
        "id": "unnr7B7fPyV4"
      },
      "source": [
        "Note \"Unassigned\" is the most frequent value in the \"admin2\" column, which represents a county.  \n",
        "\n",
        "This field should not be unassigned and needs to be investigated."
      ]
    },
    {
      "cell_type": "code",
      "metadata": {
        "id": "NhmQuxFaZMHC",
        "outputId": "81492aad-66d4-43dd-bf25-13648f0c4dd0",
        "colab": {
          "base_uri": "https://localhost:8080/",
          "height": 0
        }
      },
      "source": [
        "unassigned_df = covid_us_df[covid_us_df.County == \"Unassigned\"] \n",
        "unassigned_df.shape"
      ],
      "execution_count": 24,
      "outputs": [
        {
          "output_type": "execute_result",
          "data": {
            "text/plain": [
              "(51, 9)"
            ]
          },
          "metadata": {
            "tags": []
          },
          "execution_count": 24
        }
      ]
    },
    {
      "cell_type": "code",
      "metadata": {
        "id": "BeuPnFjdGaiZ",
        "outputId": "5492f1fb-2f05-4a36-cc01-1ab83a589d53",
        "colab": {
          "base_uri": "https://localhost:8080/",
          "height": 0
        }
      },
      "source": [
        "unassigned_df.sample(10)"
      ],
      "execution_count": 25,
      "outputs": [
        {
          "output_type": "execute_result",
          "data": {
            "text/html": [
              "<div>\n",
              "<style scoped>\n",
              "    .dataframe tbody tr th:only-of-type {\n",
              "        vertical-align: middle;\n",
              "    }\n",
              "\n",
              "    .dataframe tbody tr th {\n",
              "        vertical-align: top;\n",
              "    }\n",
              "\n",
              "    .dataframe thead th {\n",
              "        text-align: right;\n",
              "    }\n",
              "</style>\n",
              "<table border=\"1\" class=\"dataframe\">\n",
              "  <thead>\n",
              "    <tr style=\"text-align: right;\">\n",
              "      <th></th>\n",
              "      <th>FIPS</th>\n",
              "      <th>County</th>\n",
              "      <th>Province_State</th>\n",
              "      <th>Country_Region</th>\n",
              "      <th>Place</th>\n",
              "      <th>Confirmed</th>\n",
              "      <th>Deaths</th>\n",
              "      <th>Incidence_Rate</th>\n",
              "      <th>Case-Fatality_Ratio</th>\n",
              "    </tr>\n",
              "  </thead>\n",
              "  <tbody>\n",
              "    <tr>\n",
              "      <th>3190</th>\n",
              "      <td>90046.0</td>\n",
              "      <td>Unassigned</td>\n",
              "      <td>South Dakota</td>\n",
              "      <td>US</td>\n",
              "      <td>Unassigned, South Dakota, US</td>\n",
              "      <td>0</td>\n",
              "      <td>0</td>\n",
              "      <td>0.0</td>\n",
              "      <td>0.000000</td>\n",
              "    </tr>\n",
              "    <tr>\n",
              "      <th>2410</th>\n",
              "      <td>90031.0</td>\n",
              "      <td>Unassigned</td>\n",
              "      <td>Nebraska</td>\n",
              "      <td>US</td>\n",
              "      <td>Unassigned, Nebraska, US</td>\n",
              "      <td>405</td>\n",
              "      <td>1</td>\n",
              "      <td>0.0</td>\n",
              "      <td>0.246914</td>\n",
              "    </tr>\n",
              "    <tr>\n",
              "      <th>2499</th>\n",
              "      <td>90035.0</td>\n",
              "      <td>Unassigned</td>\n",
              "      <td>New Mexico</td>\n",
              "      <td>US</td>\n",
              "      <td>Unassigned, New Mexico, US</td>\n",
              "      <td>1532</td>\n",
              "      <td>0</td>\n",
              "      <td>0.0</td>\n",
              "      <td>0.000000</td>\n",
              "    </tr>\n",
              "    <tr>\n",
              "      <th>1639</th>\n",
              "      <td>90020.0</td>\n",
              "      <td>Unassigned</td>\n",
              "      <td>Kansas</td>\n",
              "      <td>US</td>\n",
              "      <td>Unassigned, Kansas, US</td>\n",
              "      <td>0</td>\n",
              "      <td>0</td>\n",
              "      <td>0.0</td>\n",
              "      <td>0.000000</td>\n",
              "    </tr>\n",
              "    <tr>\n",
              "      <th>2558</th>\n",
              "      <td>90036.0</td>\n",
              "      <td>Unassigned</td>\n",
              "      <td>New York</td>\n",
              "      <td>US</td>\n",
              "      <td>Unassigned, New York, US</td>\n",
              "      <td>0</td>\n",
              "      <td>22</td>\n",
              "      <td>0.0</td>\n",
              "      <td>0.000000</td>\n",
              "    </tr>\n",
              "    <tr>\n",
              "      <th>2465</th>\n",
              "      <td>90034.0</td>\n",
              "      <td>Unassigned</td>\n",
              "      <td>New Jersey</td>\n",
              "      <td>US</td>\n",
              "      <td>Unassigned, New Jersey, US</td>\n",
              "      <td>368</td>\n",
              "      <td>0</td>\n",
              "      <td>0.0</td>\n",
              "      <td>0.000000</td>\n",
              "    </tr>\n",
              "    <tr>\n",
              "      <th>1973</th>\n",
              "      <td>90026.0</td>\n",
              "      <td>Unassigned</td>\n",
              "      <td>Michigan</td>\n",
              "      <td>US</td>\n",
              "      <td>Unassigned, Michigan, US</td>\n",
              "      <td>10</td>\n",
              "      <td>0</td>\n",
              "      <td>0.0</td>\n",
              "      <td>0.000000</td>\n",
              "    </tr>\n",
              "    <tr>\n",
              "      <th>1024</th>\n",
              "      <td>90012.0</td>\n",
              "      <td>Unassigned</td>\n",
              "      <td>Florida</td>\n",
              "      <td>US</td>\n",
              "      <td>Unassigned, Florida, US</td>\n",
              "      <td>1961</td>\n",
              "      <td>0</td>\n",
              "      <td>0.0</td>\n",
              "      <td>0.000000</td>\n",
              "    </tr>\n",
              "    <tr>\n",
              "      <th>3079</th>\n",
              "      <td>90044.0</td>\n",
              "      <td>Unassigned</td>\n",
              "      <td>Rhode Island</td>\n",
              "      <td>US</td>\n",
              "      <td>Unassigned, Rhode Island, US</td>\n",
              "      <td>2945</td>\n",
              "      <td>23</td>\n",
              "      <td>0.0</td>\n",
              "      <td>0.780985</td>\n",
              "    </tr>\n",
              "    <tr>\n",
              "      <th>877</th>\n",
              "      <td>90006.0</td>\n",
              "      <td>Unassigned</td>\n",
              "      <td>California</td>\n",
              "      <td>US</td>\n",
              "      <td>Unassigned, California, US</td>\n",
              "      <td>0</td>\n",
              "      <td>0</td>\n",
              "      <td>0.0</td>\n",
              "      <td>0.000000</td>\n",
              "    </tr>\n",
              "  </tbody>\n",
              "</table>\n",
              "</div>"
            ],
            "text/plain": [
              "         FIPS      County  ... Incidence_Rate Case-Fatality_Ratio\n",
              "3190  90046.0  Unassigned  ...            0.0            0.000000\n",
              "2410  90031.0  Unassigned  ...            0.0            0.246914\n",
              "2499  90035.0  Unassigned  ...            0.0            0.000000\n",
              "1639  90020.0  Unassigned  ...            0.0            0.000000\n",
              "2558  90036.0  Unassigned  ...            0.0            0.000000\n",
              "2465  90034.0  Unassigned  ...            0.0            0.000000\n",
              "1973  90026.0  Unassigned  ...            0.0            0.000000\n",
              "1024  90012.0  Unassigned  ...            0.0            0.000000\n",
              "3079  90044.0  Unassigned  ...            0.0            0.780985\n",
              "877   90006.0  Unassigned  ...            0.0            0.000000\n",
              "\n",
              "[10 rows x 9 columns]"
            ]
          },
          "metadata": {
            "tags": []
          },
          "execution_count": 25
        }
      ]
    },
    {
      "cell_type": "markdown",
      "metadata": {
        "id": "WrtMcFieGk-l"
      },
      "source": [
        "Records with county field value of \"Unassigned\" represent states.\n",
        "\n",
        "The study is looking at county-level population denisty, so state records are irrelevant and can be removed.\n",
        "\n",
        "Remove the records with the county \"Unassigned\"."
      ]
    },
    {
      "cell_type": "code",
      "metadata": {
        "id": "aagtYCexfDpP",
        "outputId": "a9d1324c-564f-4afc-d609-79e69ac8adc0",
        "colab": {
          "base_uri": "https://localhost:8080/",
          "height": 0
        }
      },
      "source": [
        "covid_counties_df = covid_us_df[covid_us_df.County != \"Unassigned\"]\n",
        "covid_counties_df.shape"
      ],
      "execution_count": 26,
      "outputs": [
        {
          "output_type": "execute_result",
          "data": {
            "text/plain": [
              "(3204, 9)"
            ]
          },
          "metadata": {
            "tags": []
          },
          "execution_count": 26
        }
      ]
    },
    {
      "cell_type": "markdown",
      "metadata": {
        "id": "5y1FCP10nEE3"
      },
      "source": [
        "### Verify Data Types"
      ]
    },
    {
      "cell_type": "code",
      "metadata": {
        "id": "0AGH90WGgfwp",
        "outputId": "5f756050-c3e8-48c1-a515-306aa5e55065",
        "colab": {
          "base_uri": "https://localhost:8080/",
          "height": 190
        }
      },
      "source": [
        "covid_counties_df.dtypes"
      ],
      "execution_count": 27,
      "outputs": [
        {
          "output_type": "execute_result",
          "data": {
            "text/plain": [
              "FIPS                   float64\n",
              "County                  object\n",
              "Province_State          object\n",
              "Country_Region          object\n",
              "Place                   object\n",
              "Confirmed                int64\n",
              "Deaths                   int64\n",
              "Incidence_Rate         float64\n",
              "Case-Fatality_Ratio    float64\n",
              "dtype: object"
            ]
          },
          "metadata": {
            "tags": []
          },
          "execution_count": 27
        }
      ]
    },
    {
      "cell_type": "markdown",
      "metadata": {
        "id": "EI1EelUkg6bL"
      },
      "source": [
        "FIPS code was read in as float because there were NaNs and that is a float type.\n",
        "\n",
        "FIPS should be integer, so recast the column from float64 to int"
      ]
    },
    {
      "cell_type": "code",
      "metadata": {
        "id": "RFv8ZceagxVb",
        "outputId": "25943134-e292-47f3-aa1d-203398e6b9c1",
        "colab": {
          "base_uri": "https://localhost:8080/",
          "height": 138
        }
      },
      "source": [
        "covid_counties_df.FIPS = pd.to_numeric(covid_counties_df.FIPS).astype(int)\n",
        "covid_counties_df.FIPS.dtypes"
      ],
      "execution_count": 29,
      "outputs": [
        {
          "output_type": "stream",
          "text": [
            "/usr/local/lib/python3.6/dist-packages/pandas/core/generic.py:5168: SettingWithCopyWarning: \n",
            "A value is trying to be set on a copy of a slice from a DataFrame.\n",
            "Try using .loc[row_indexer,col_indexer] = value instead\n",
            "\n",
            "See the caveats in the documentation: https://pandas.pydata.org/pandas-docs/stable/user_guide/indexing.html#returning-a-view-versus-a-copy\n",
            "  self[name] = value\n"
          ],
          "name": "stderr"
        },
        {
          "output_type": "execute_result",
          "data": {
            "text/plain": [
              "dtype('int64')"
            ]
          },
          "metadata": {
            "tags": []
          },
          "execution_count": 29
        }
      ]
    },
    {
      "cell_type": "code",
      "metadata": {
        "id": "N_Mxw4fF3Sca"
      },
      "source": [
        "covid_counties_df.sample(5)"
      ],
      "execution_count": null,
      "outputs": []
    },
    {
      "cell_type": "code",
      "metadata": {
        "id": "-VJ31vEXiha9"
      },
      "source": [
        "covid_counties_df.Province_State.unique()"
      ],
      "execution_count": null,
      "outputs": []
    },
    {
      "cell_type": "code",
      "metadata": {
        "id": "aMv9-nNgi4NZ"
      },
      "source": [
        "# of  Provinces/States in study\n",
        "num_provinces_states = len(covid_counties_df.Province_State.unique())\n",
        "num_provinces_states"
      ],
      "execution_count": null,
      "outputs": []
    },
    {
      "cell_type": "code",
      "metadata": {
        "id": "his4l4xSjfq6"
      },
      "source": [
        "# Reference: https://analyticsindiamag.com/tutorial-on-missingno-python-tool-to-visualize-missing-values/\n",
        "import missingno as msno\n",
        "msno.matrix(covid_counties_df)"
      ],
      "execution_count": null,
      "outputs": []
    },
    {
      "cell_type": "markdown",
      "metadata": {
        "id": "elyza89kRyOr"
      },
      "source": [
        "## Pandas Profile Report"
      ]
    },
    {
      "cell_type": "code",
      "metadata": {
        "id": "ahojpJcV6f_O"
      },
      "source": [
        "type(covid_counties_df)"
      ],
      "execution_count": null,
      "outputs": []
    },
    {
      "cell_type": "code",
      "metadata": {
        "id": "zae_hjJmWN0j"
      },
      "source": [
        "prof = ProfileReport(covid_counties_df, minimal=True)\n",
        "prof.to_file(output_file=\"covid19_daily_report.html\")\n",
        "prof"
      ],
      "execution_count": null,
      "outputs": []
    },
    {
      "cell_type": "markdown",
      "metadata": {
        "id": "ITZARVlQnQKM"
      },
      "source": [
        "## Read Population Data"
      ]
    },
    {
      "cell_type": "code",
      "metadata": {
        "id": "craghP2ThdLJ"
      },
      "source": [
        "!wget https://www.ers.usda.gov/webdocs/DataFiles/48747/PopulationEstimates.xls"
      ],
      "execution_count": null,
      "outputs": []
    },
    {
      "cell_type": "code",
      "metadata": {
        "id": "dERz3kcx7xK2"
      },
      "source": [
        "pop_df = pd.read_excel(\"PopulationEstimates.xls\")\n",
        "pop_df.head()"
      ],
      "execution_count": null,
      "outputs": []
    },
    {
      "cell_type": "markdown",
      "metadata": {
        "id": "2TdQozO6tmm7"
      },
      "source": [
        "Reread the excel file skipping the first two lines."
      ]
    },
    {
      "cell_type": "code",
      "metadata": {
        "id": "B5S8CvTisw6a"
      },
      "source": [
        "columns_of_interest = ['FIPStxt','State','Area_Name','POP_ESTIMATE_2019']\n",
        "pop_df = pd.read_excel(\"PopulationEstimates.xls\", usecols=columns_of_interest, skiprows=2)\n",
        "pop_df.head()"
      ],
      "execution_count": null,
      "outputs": []
    },
    {
      "cell_type": "code",
      "metadata": {
        "id": "m2EeIasBt12j"
      },
      "source": [
        "msno.matrix(pop_df)"
      ],
      "execution_count": null,
      "outputs": []
    },
    {
      "cell_type": "code",
      "metadata": {
        "id": "oEH5xtBvv8yT"
      },
      "source": [
        "pop_df.info()"
      ],
      "execution_count": null,
      "outputs": []
    },
    {
      "cell_type": "markdown",
      "metadata": {
        "id": "c5DD8KlL0tCm"
      },
      "source": [
        "## Merge datasets"
      ]
    },
    {
      "cell_type": "code",
      "metadata": {
        "id": "7dqouoYJ0k_E"
      },
      "source": [
        "county_df = covid_counties_df.merge(pop_df, how=\"inner\", left_on='FIPS', right_on='FIPStxt').drop(['FIPStxt', 'Area_Name'], axis=1)\n",
        "county_df"
      ],
      "execution_count": null,
      "outputs": []
    },
    {
      "cell_type": "code",
      "metadata": {
        "id": "0OADPmD_1vMv"
      },
      "source": [
        "msno.matrix(county_df)"
      ],
      "execution_count": null,
      "outputs": []
    },
    {
      "cell_type": "code",
      "metadata": {
        "id": "8gAmTq-cFjsC"
      },
      "source": [
        "prof = ProfileReport(county_df, minimal=True)\n",
        "prof.to_file(output_file=\"counties.html\")\n",
        "prof"
      ],
      "execution_count": null,
      "outputs": []
    },
    {
      "cell_type": "code",
      "metadata": {
        "id": "iI_AYbqlEmiW"
      },
      "source": [
        "county_df.sample(20)"
      ],
      "execution_count": null,
      "outputs": []
    },
    {
      "cell_type": "code",
      "metadata": {
        "id": "d3U3T4qxGsTn"
      },
      "source": [
        "county_df = county_df.sort_values(by='POP_ESTIMATE_2019', ascending=False)\n",
        "county_df.head(10)"
      ],
      "execution_count": null,
      "outputs": []
    },
    {
      "cell_type": "code",
      "metadata": {
        "id": "gSHxWC6VI43m"
      },
      "source": [
        "ny_df = county_df[county_df.State=='NY']\n",
        "ny_df.head(10)"
      ],
      "execution_count": null,
      "outputs": []
    },
    {
      "cell_type": "markdown",
      "metadata": {
        "id": "ClZnMrsmK5jb"
      },
      "source": [
        "---\n",
        "## Read Land Area Data"
      ]
    },
    {
      "cell_type": "code",
      "metadata": {
        "id": "16aLhIcpJOTh"
      },
      "source": [
        "!wget https://www2.census.gov/library/publications/2011/compendia/usa-counties/excel/LND01.xls"
      ],
      "execution_count": null,
      "outputs": []
    },
    {
      "cell_type": "code",
      "metadata": {
        "id": "k_6Gdd9SLe8U"
      },
      "source": [
        "# STCOU - FIPS code for state or county\n",
        "# Areaname - County and State\n",
        "# LND110210D - Land area in square miles, 2010 SQM\n",
        "columns_of_interest = ['Areaname','STCOU','LND110210D']\n",
        "land_area_df = pd.read_excel(\"LND01.xls\", usecols=columns_of_interest, skiprows=0)\n",
        "land_area_df.head()"
      ],
      "execution_count": null,
      "outputs": []
    },
    {
      "cell_type": "code",
      "metadata": {
        "id": "vGymuaRWN-9u"
      },
      "source": [
        "land_area_df[land_area_df.Areaname == 'Howard, MD']"
      ],
      "execution_count": null,
      "outputs": []
    },
    {
      "cell_type": "code",
      "metadata": {
        "id": "SMjY3gBtPu0R"
      },
      "source": [
        "land_area_df.shape"
      ],
      "execution_count": null,
      "outputs": []
    },
    {
      "cell_type": "markdown",
      "metadata": {
        "id": "yutg9SIfPGY0"
      },
      "source": [
        "---\n",
        "## Merge with county data"
      ]
    },
    {
      "cell_type": "code",
      "metadata": {
        "id": "n7D4MiUCOmk7"
      },
      "source": [
        "county_df = county_df.merge(land_area_df, how=\"inner\", left_on='FIPS', right_on='STCOU').drop(['STCOU', 'Areaname'], axis=1)\n",
        "county_df"
      ],
      "execution_count": null,
      "outputs": []
    },
    {
      "cell_type": "code",
      "metadata": {
        "id": "1VLUALjhYuTi"
      },
      "source": [
        "county_df.rename(columns = {'POP_ESTIMATE_2019':'Population_2019', 'LND110210D':'Land_Area','Combined_Key':'Place'}, inplace = True)"
      ],
      "execution_count": null,
      "outputs": []
    },
    {
      "cell_type": "code",
      "metadata": {
        "id": "FgE7LqDNRZZn"
      },
      "source": [
        "def ratio(x, y):\n",
        "    return int(x / y)"
      ],
      "execution_count": null,
      "outputs": []
    },
    {
      "cell_type": "code",
      "metadata": {
        "id": "ng4o9Nz3RsZr"
      },
      "source": [
        "# pop_square_mile test\n",
        "ratio(10039107, 4057.88)"
      ],
      "execution_count": null,
      "outputs": []
    },
    {
      "cell_type": "code",
      "metadata": {
        "id": "FMqng2_RR7DL"
      },
      "source": [
        "# pop_square_mile test\n",
        "ratio(169, 668.93) "
      ],
      "execution_count": null,
      "outputs": []
    },
    {
      "cell_type": "code",
      "metadata": {
        "id": "M8GzGCGFPl5l"
      },
      "source": [
        "county_df[\"Pop_Sq_Mile\"] = county_df[[\"Population_2019\", \"Land_Area\"]].apply(lambda x: ratio(*x), axis=1)\n",
        "county_df[\"Confirmed_Sq_Mile\"] = county_df[[\"Confirmed\", \"Land_Area\"]].apply(lambda x: ratio(*x), axis=1)\n",
        "county_df[\"Deaths_Sq_Mile\"] = county_df[[\"Deaths\", \"Land_Area\"]].apply(lambda x: ratio(*x), axis=1)\n",
        "county_df.head(10)"
      ],
      "execution_count": null,
      "outputs": []
    },
    {
      "cell_type": "markdown",
      "metadata": {
        "id": "riXjqYsAZsL2"
      },
      "source": [
        "# Reorder columns\n"
      ]
    },
    {
      "cell_type": "code",
      "metadata": {
        "id": "npU3PnzYcDwQ"
      },
      "source": [
        "column_order = ['FIPS','County','Province_State','State','Place','Population_2019','Land_Area','Pop_Sq_Mile', 'Confirmed','Confirmed_Sq_Mile','Deaths','Deaths_Sq_Mile','Incidence_Rate','Case-Fatality_Ratio'] \n",
        "county_df = county_df[column_order] \n",
        "county_df.head() "
      ],
      "execution_count": null,
      "outputs": []
    },
    {
      "cell_type": "code",
      "metadata": {
        "id": "rjmpC07Be61v"
      },
      "source": [
        "most_densely_populated_df = county_df.sort_values(by='Pop_Sq_Mile',ascending=False).head(15) \n",
        "most_densely_populated_df"
      ],
      "execution_count": null,
      "outputs": []
    },
    {
      "cell_type": "code",
      "metadata": {
        "id": "huyFZWklfBdE"
      },
      "source": [
        "highest_case_rate_by_density_df = county_df.sort_values(by='Confirmed_Sq_Mile',ascending=False).head(15)\n",
        "highest_case_rate_by_density_df"
      ],
      "execution_count": null,
      "outputs": []
    },
    {
      "cell_type": "code",
      "metadata": {
        "id": "MzhYrMSwU2Hy"
      },
      "source": [
        "import matplotlib.pyplot as plt"
      ],
      "execution_count": null,
      "outputs": []
    },
    {
      "cell_type": "code",
      "metadata": {
        "id": "JsVYLDJW2aWu"
      },
      "source": [
        "# Create plot\n",
        "fig = plt.figure(figsize=(14,6))\n",
        "#ax = plt.gca()\n",
        "plt.scatter(county_df.Pop_Sq_Mile, county_df.Confirmed_Sq_Mile , alpha=0.3, c=\"blue\", edgecolors='none')\n",
        "#ax.set_yscale('log')\n",
        "#ax.set_xscale('log')\n",
        "plt.xlabel('Population Per Square Mile',fontsize=16)\n",
        "plt.ylabel('Confirmed COVID-19 Cases Per Square Mile',fontsize=16)\n",
        "plt.title('Confirmed Cases Per Square Mile vs. Population Per Square Mile',fontsize=18)\n",
        "plt.suptitle('US Counties',fontsize=20)\n",
        "#plt.legend(loc=2)#\n",
        "plt.show()"
      ],
      "execution_count": null,
      "outputs": []
    },
    {
      "cell_type": "code",
      "metadata": {
        "id": "O6xpBCYp9D0A"
      },
      "source": [
        "\n",
        "county_df.hist(figsize=(14,10))"
      ],
      "execution_count": null,
      "outputs": []
    },
    {
      "cell_type": "code",
      "metadata": {
        "id": "OLx_ZNDW_O_Q"
      },
      "source": [
        "county_df['Land_Area'].hist()"
      ],
      "execution_count": null,
      "outputs": []
    },
    {
      "cell_type": "code",
      "metadata": {
        "id": "nk9CYdcLASTN"
      },
      "source": [
        ""
      ],
      "execution_count": null,
      "outputs": []
    }
  ]
}