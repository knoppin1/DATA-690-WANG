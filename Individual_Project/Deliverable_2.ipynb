{
  "nbformat": 4,
  "nbformat_minor": 0,
  "metadata": {
    "colab": {
      "name": "Deliverable_2.ipynb",
      "provenance": [],
      "toc_visible": true,
      "include_colab_link": true
    },
    "kernelspec": {
      "name": "python3",
      "display_name": "Python 3"
    }
  },
  "cells": [
    {
      "cell_type": "markdown",
      "metadata": {
        "id": "view-in-github",
        "colab_type": "text"
      },
      "source": [
        "<a href=\"https://colab.research.google.com/github/knoppin1/DATA-690-WANG/blob/master/Individual_Project/Deliverable_2.ipynb\" target=\"_parent\"><img src=\"https://colab.research.google.com/assets/colab-badge.svg\" alt=\"Open In Colab\"/></a>"
      ]
    },
    {
      "cell_type": "markdown",
      "metadata": {
        "id": "_-QoCNXkhryC"
      },
      "source": [
        "# Individual Project - Deliverable #2\n",
        "## Ken Noppinger\n",
        "\n",
        "Source from Gitbhub for Johns Hopkins Resource Center: \n",
        "\n",
        "https://raw.githubusercontent.com/CSSEGISandData/COVID-19/master/csse_covid_19_data/csse_covid_19_daily_reports/10-23-2020.csv"
      ]
    },
    {
      "cell_type": "code",
      "metadata": {
        "id": "2cWs3QVuVNYW"
      },
      "source": [
        "import pandas as pd\n",
        "from pandas_profiling import ProfileReport\n",
        "import matplotlib.pyplot as plt\n",
        "import plotly"
      ],
      "execution_count": 1,
      "outputs": []
    },
    {
      "cell_type": "markdown",
      "metadata": {
        "id": "KGytT7mneIem"
      },
      "source": [
        "#### Fix '''pandas''' and '''pandas_profiling''' versions"
      ]
    },
    {
      "cell_type": "code",
      "metadata": {
        "id": "hg9p5oGCXcgZ",
        "outputId": "912923d8-26e7-4072-a27f-0d3b7a5078ea",
        "colab": {
          "base_uri": "https://localhost:8080/",
          "height": 33
        }
      },
      "source": [
        "print(\"pandas version:\\t\", pd.__version__)"
      ],
      "execution_count": 2,
      "outputs": [
        {
          "output_type": "stream",
          "text": [
            "pandas version:\t 1.1.2\n"
          ],
          "name": "stdout"
        }
      ]
    },
    {
      "cell_type": "code",
      "metadata": {
        "id": "Nr_8g7yBXU_y",
        "outputId": "6ebe9fc8-4c00-4d41-8fe3-397f6649b3c8",
        "colab": {
          "base_uri": "https://localhost:8080/",
          "height": 1000
        }
      },
      "source": [
        "# Issue with pandas profiling\n",
        "# Upgrade both pandas and pandas_profiling packages solve the problem\n",
        "\n",
        "!pip install pandas pandas_profiling --upgrade"
      ],
      "execution_count": 3,
      "outputs": [
        {
          "output_type": "stream",
          "text": [
            "Collecting pandas\n",
            "\u001b[?25l  Downloading https://files.pythonhosted.org/packages/a2/21/e10d65222d19a2537e3eb0df306686a9eabd08b3c98dd120e43720bf802d/pandas-1.1.3-cp36-cp36m-manylinux1_x86_64.whl (9.5MB)\n",
            "\u001b[K     |████████████████████████████████| 9.5MB 2.6MB/s \n",
            "\u001b[?25hCollecting pandas_profiling\n",
            "\u001b[?25l  Downloading https://files.pythonhosted.org/packages/32/79/5d03ed1172e3e67a997a6a795bcdd2ab58f84851969d01a91455383795b6/pandas_profiling-2.9.0-py2.py3-none-any.whl (258kB)\n",
            "\u001b[K     |████████████████████████████████| 266kB 38.9MB/s \n",
            "\u001b[?25hRequirement already satisfied, skipping upgrade: pytz>=2017.2 in /usr/local/lib/python3.6/dist-packages (from pandas) (2018.9)\n",
            "Requirement already satisfied, skipping upgrade: numpy>=1.15.4 in /usr/local/lib/python3.6/dist-packages (from pandas) (1.18.5)\n",
            "Requirement already satisfied, skipping upgrade: python-dateutil>=2.7.3 in /usr/local/lib/python3.6/dist-packages (from pandas) (2.8.1)\n",
            "Requirement already satisfied, skipping upgrade: attrs>=19.3.0 in /usr/local/lib/python3.6/dist-packages (from pandas_profiling) (20.2.0)\n",
            "Requirement already satisfied, skipping upgrade: missingno>=0.4.2 in /usr/local/lib/python3.6/dist-packages (from pandas_profiling) (0.4.2)\n",
            "Requirement already satisfied, skipping upgrade: ipywidgets>=7.5.1 in /usr/local/lib/python3.6/dist-packages (from pandas_profiling) (7.5.1)\n",
            "Requirement already satisfied, skipping upgrade: scipy>=1.4.1 in /usr/local/lib/python3.6/dist-packages (from pandas_profiling) (1.4.1)\n",
            "Requirement already satisfied, skipping upgrade: joblib in /usr/local/lib/python3.6/dist-packages (from pandas_profiling) (0.16.0)\n",
            "Requirement already satisfied, skipping upgrade: requests>=2.23.0 in /usr/local/lib/python3.6/dist-packages (from pandas_profiling) (2.23.0)\n",
            "Requirement already satisfied, skipping upgrade: jinja2>=2.11.1 in /usr/local/lib/python3.6/dist-packages (from pandas_profiling) (2.11.2)\n",
            "Collecting tangled-up-in-unicode>=0.0.6\n",
            "\u001b[?25l  Downloading https://files.pythonhosted.org/packages/4a/e2/e588ab9298d4989ce7fdb2b97d18aac878d99dbdc379a4476a09d9271b68/tangled_up_in_unicode-0.0.6-py3-none-any.whl (3.1MB)\n",
            "\u001b[K     |████████████████████████████████| 3.1MB 40.4MB/s \n",
            "\u001b[?25hRequirement already satisfied, skipping upgrade: seaborn>=0.10.1 in /usr/local/lib/python3.6/dist-packages (from pandas_profiling) (0.11.0)\n",
            "Collecting tqdm>=4.43.0\n",
            "\u001b[?25l  Downloading https://files.pythonhosted.org/packages/bd/cf/f91813073e4135c1183cadf968256764a6fe4e35c351d596d527c0540461/tqdm-4.50.2-py2.py3-none-any.whl (70kB)\n",
            "\u001b[K     |████████████████████████████████| 71kB 8.3MB/s \n",
            "\u001b[?25hRequirement already satisfied, skipping upgrade: matplotlib>=3.2.0 in /usr/local/lib/python3.6/dist-packages (from pandas_profiling) (3.2.2)\n",
            "Collecting visions[type_image_path]==0.5.0\n",
            "\u001b[?25l  Downloading https://files.pythonhosted.org/packages/26/e3/9416e94e767d59a86edcbcb8e1c8f42874d272c3b343676074879e9db0e0/visions-0.5.0-py3-none-any.whl (64kB)\n",
            "\u001b[K     |████████████████████████████████| 71kB 9.1MB/s \n",
            "\u001b[?25hCollecting htmlmin>=0.1.12\n",
            "  Downloading https://files.pythonhosted.org/packages/b3/e7/fcd59e12169de19f0131ff2812077f964c6b960e7c09804d30a7bf2ab461/htmlmin-0.1.12.tar.gz\n",
            "Collecting confuse>=1.0.0\n",
            "\u001b[?25l  Downloading https://files.pythonhosted.org/packages/b5/6d/bedc0d1068bd244cee05843313cbec6cebb9f01f925538269bababc6d887/confuse-1.3.0-py2.py3-none-any.whl (64kB)\n",
            "\u001b[K     |████████████████████████████████| 71kB 8.6MB/s \n",
            "\u001b[?25hCollecting phik>=0.9.10\n",
            "\u001b[?25l  Downloading https://files.pythonhosted.org/packages/01/5a/7ef1c04ce62cd72f900c06298dc2385840550d5c653a0dbc19109a5477e6/phik-0.10.0-py3-none-any.whl (599kB)\n",
            "\u001b[K     |████████████████████████████████| 604kB 50.6MB/s \n",
            "\u001b[?25hRequirement already satisfied, skipping upgrade: six>=1.5 in /usr/local/lib/python3.6/dist-packages (from python-dateutil>=2.7.3->pandas) (1.15.0)\n",
            "Requirement already satisfied, skipping upgrade: widgetsnbextension~=3.5.0 in /usr/local/lib/python3.6/dist-packages (from ipywidgets>=7.5.1->pandas_profiling) (3.5.1)\n",
            "Requirement already satisfied, skipping upgrade: ipykernel>=4.5.1 in /usr/local/lib/python3.6/dist-packages (from ipywidgets>=7.5.1->pandas_profiling) (4.10.1)\n",
            "Requirement already satisfied, skipping upgrade: nbformat>=4.2.0 in /usr/local/lib/python3.6/dist-packages (from ipywidgets>=7.5.1->pandas_profiling) (5.0.7)\n",
            "Requirement already satisfied, skipping upgrade: traitlets>=4.3.1 in /usr/local/lib/python3.6/dist-packages (from ipywidgets>=7.5.1->pandas_profiling) (4.3.3)\n",
            "Requirement already satisfied, skipping upgrade: ipython>=4.0.0; python_version >= \"3.3\" in /usr/local/lib/python3.6/dist-packages (from ipywidgets>=7.5.1->pandas_profiling) (5.5.0)\n",
            "Requirement already satisfied, skipping upgrade: idna<3,>=2.5 in /usr/local/lib/python3.6/dist-packages (from requests>=2.23.0->pandas_profiling) (2.10)\n",
            "Requirement already satisfied, skipping upgrade: certifi>=2017.4.17 in /usr/local/lib/python3.6/dist-packages (from requests>=2.23.0->pandas_profiling) (2020.6.20)\n",
            "Requirement already satisfied, skipping upgrade: chardet<4,>=3.0.2 in /usr/local/lib/python3.6/dist-packages (from requests>=2.23.0->pandas_profiling) (3.0.4)\n",
            "Requirement already satisfied, skipping upgrade: urllib3!=1.25.0,!=1.25.1,<1.26,>=1.21.1 in /usr/local/lib/python3.6/dist-packages (from requests>=2.23.0->pandas_profiling) (1.24.3)\n",
            "Requirement already satisfied, skipping upgrade: MarkupSafe>=0.23 in /usr/local/lib/python3.6/dist-packages (from jinja2>=2.11.1->pandas_profiling) (1.1.1)\n",
            "Requirement already satisfied, skipping upgrade: cycler>=0.10 in /usr/local/lib/python3.6/dist-packages (from matplotlib>=3.2.0->pandas_profiling) (0.10.0)\n",
            "Requirement already satisfied, skipping upgrade: kiwisolver>=1.0.1 in /usr/local/lib/python3.6/dist-packages (from matplotlib>=3.2.0->pandas_profiling) (1.2.0)\n",
            "Requirement already satisfied, skipping upgrade: pyparsing!=2.0.4,!=2.1.2,!=2.1.6,>=2.0.1 in /usr/local/lib/python3.6/dist-packages (from matplotlib>=3.2.0->pandas_profiling) (2.4.7)\n",
            "Requirement already satisfied, skipping upgrade: networkx>=2.4 in /usr/local/lib/python3.6/dist-packages (from visions[type_image_path]==0.5.0->pandas_profiling) (2.5)\n",
            "Requirement already satisfied, skipping upgrade: Pillow; extra == \"type_image_path\" in /usr/local/lib/python3.6/dist-packages (from visions[type_image_path]==0.5.0->pandas_profiling) (7.0.0)\n",
            "Collecting imagehash; extra == \"type_image_path\"\n",
            "\u001b[?25l  Downloading https://files.pythonhosted.org/packages/1a/5d/cc81830be3c4705a46cdbca74439b67f1017881383ba0127c41c4cecb7b3/ImageHash-4.1.0.tar.gz (291kB)\n",
            "\u001b[K     |████████████████████████████████| 296kB 47.3MB/s \n",
            "\u001b[?25hRequirement already satisfied, skipping upgrade: pyyaml in /usr/local/lib/python3.6/dist-packages (from confuse>=1.0.0->pandas_profiling) (3.13)\n",
            "Requirement already satisfied, skipping upgrade: numba>=0.38.1 in /usr/local/lib/python3.6/dist-packages (from phik>=0.9.10->pandas_profiling) (0.48.0)\n",
            "Requirement already satisfied, skipping upgrade: notebook>=4.4.1 in /usr/local/lib/python3.6/dist-packages (from widgetsnbextension~=3.5.0->ipywidgets>=7.5.1->pandas_profiling) (5.3.1)\n",
            "Requirement already satisfied, skipping upgrade: jupyter-client in /usr/local/lib/python3.6/dist-packages (from ipykernel>=4.5.1->ipywidgets>=7.5.1->pandas_profiling) (5.3.5)\n",
            "Requirement already satisfied, skipping upgrade: tornado>=4.0 in /usr/local/lib/python3.6/dist-packages (from ipykernel>=4.5.1->ipywidgets>=7.5.1->pandas_profiling) (5.1.1)\n",
            "Requirement already satisfied, skipping upgrade: jsonschema!=2.5.0,>=2.4 in /usr/local/lib/python3.6/dist-packages (from nbformat>=4.2.0->ipywidgets>=7.5.1->pandas_profiling) (2.6.0)\n",
            "Requirement already satisfied, skipping upgrade: jupyter-core in /usr/local/lib/python3.6/dist-packages (from nbformat>=4.2.0->ipywidgets>=7.5.1->pandas_profiling) (4.6.3)\n",
            "Requirement already satisfied, skipping upgrade: ipython-genutils in /usr/local/lib/python3.6/dist-packages (from nbformat>=4.2.0->ipywidgets>=7.5.1->pandas_profiling) (0.2.0)\n",
            "Requirement already satisfied, skipping upgrade: decorator in /usr/local/lib/python3.6/dist-packages (from traitlets>=4.3.1->ipywidgets>=7.5.1->pandas_profiling) (4.4.2)\n",
            "Requirement already satisfied, skipping upgrade: setuptools>=18.5 in /usr/local/lib/python3.6/dist-packages (from ipython>=4.0.0; python_version >= \"3.3\"->ipywidgets>=7.5.1->pandas_profiling) (50.3.0)\n",
            "Requirement already satisfied, skipping upgrade: simplegeneric>0.8 in /usr/local/lib/python3.6/dist-packages (from ipython>=4.0.0; python_version >= \"3.3\"->ipywidgets>=7.5.1->pandas_profiling) (0.8.1)\n",
            "Requirement already satisfied, skipping upgrade: pickleshare in /usr/local/lib/python3.6/dist-packages (from ipython>=4.0.0; python_version >= \"3.3\"->ipywidgets>=7.5.1->pandas_profiling) (0.7.5)\n",
            "Requirement already satisfied, skipping upgrade: prompt-toolkit<2.0.0,>=1.0.4 in /usr/local/lib/python3.6/dist-packages (from ipython>=4.0.0; python_version >= \"3.3\"->ipywidgets>=7.5.1->pandas_profiling) (1.0.18)\n",
            "Requirement already satisfied, skipping upgrade: pygments in /usr/local/lib/python3.6/dist-packages (from ipython>=4.0.0; python_version >= \"3.3\"->ipywidgets>=7.5.1->pandas_profiling) (2.6.1)\n",
            "Requirement already satisfied, skipping upgrade: pexpect; sys_platform != \"win32\" in /usr/local/lib/python3.6/dist-packages (from ipython>=4.0.0; python_version >= \"3.3\"->ipywidgets>=7.5.1->pandas_profiling) (4.8.0)\n",
            "Requirement already satisfied, skipping upgrade: PyWavelets in /usr/local/lib/python3.6/dist-packages (from imagehash; extra == \"type_image_path\"->visions[type_image_path]==0.5.0->pandas_profiling) (1.1.1)\n",
            "Requirement already satisfied, skipping upgrade: llvmlite<0.32.0,>=0.31.0dev0 in /usr/local/lib/python3.6/dist-packages (from numba>=0.38.1->phik>=0.9.10->pandas_profiling) (0.31.0)\n",
            "Requirement already satisfied, skipping upgrade: terminado>=0.8.1 in /usr/local/lib/python3.6/dist-packages (from notebook>=4.4.1->widgetsnbextension~=3.5.0->ipywidgets>=7.5.1->pandas_profiling) (0.9.1)\n",
            "Requirement already satisfied, skipping upgrade: Send2Trash in /usr/local/lib/python3.6/dist-packages (from notebook>=4.4.1->widgetsnbextension~=3.5.0->ipywidgets>=7.5.1->pandas_profiling) (1.5.0)\n",
            "Requirement already satisfied, skipping upgrade: nbconvert in /usr/local/lib/python3.6/dist-packages (from notebook>=4.4.1->widgetsnbextension~=3.5.0->ipywidgets>=7.5.1->pandas_profiling) (5.6.1)\n",
            "Requirement already satisfied, skipping upgrade: pyzmq>=13 in /usr/local/lib/python3.6/dist-packages (from jupyter-client->ipykernel>=4.5.1->ipywidgets>=7.5.1->pandas_profiling) (19.0.2)\n",
            "Requirement already satisfied, skipping upgrade: wcwidth in /usr/local/lib/python3.6/dist-packages (from prompt-toolkit<2.0.0,>=1.0.4->ipython>=4.0.0; python_version >= \"3.3\"->ipywidgets>=7.5.1->pandas_profiling) (0.2.5)\n",
            "Requirement already satisfied, skipping upgrade: ptyprocess>=0.5 in /usr/local/lib/python3.6/dist-packages (from pexpect; sys_platform != \"win32\"->ipython>=4.0.0; python_version >= \"3.3\"->ipywidgets>=7.5.1->pandas_profiling) (0.6.0)\n",
            "Requirement already satisfied, skipping upgrade: mistune<2,>=0.8.1 in /usr/local/lib/python3.6/dist-packages (from nbconvert->notebook>=4.4.1->widgetsnbextension~=3.5.0->ipywidgets>=7.5.1->pandas_profiling) (0.8.4)\n",
            "Requirement already satisfied, skipping upgrade: entrypoints>=0.2.2 in /usr/local/lib/python3.6/dist-packages (from nbconvert->notebook>=4.4.1->widgetsnbextension~=3.5.0->ipywidgets>=7.5.1->pandas_profiling) (0.3)\n",
            "Requirement already satisfied, skipping upgrade: pandocfilters>=1.4.1 in /usr/local/lib/python3.6/dist-packages (from nbconvert->notebook>=4.4.1->widgetsnbextension~=3.5.0->ipywidgets>=7.5.1->pandas_profiling) (1.4.2)\n",
            "Requirement already satisfied, skipping upgrade: bleach in /usr/local/lib/python3.6/dist-packages (from nbconvert->notebook>=4.4.1->widgetsnbextension~=3.5.0->ipywidgets>=7.5.1->pandas_profiling) (3.2.1)\n",
            "Requirement already satisfied, skipping upgrade: defusedxml in /usr/local/lib/python3.6/dist-packages (from nbconvert->notebook>=4.4.1->widgetsnbextension~=3.5.0->ipywidgets>=7.5.1->pandas_profiling) (0.6.0)\n",
            "Requirement already satisfied, skipping upgrade: testpath in /usr/local/lib/python3.6/dist-packages (from nbconvert->notebook>=4.4.1->widgetsnbextension~=3.5.0->ipywidgets>=7.5.1->pandas_profiling) (0.4.4)\n",
            "Requirement already satisfied, skipping upgrade: packaging in /usr/local/lib/python3.6/dist-packages (from bleach->nbconvert->notebook>=4.4.1->widgetsnbextension~=3.5.0->ipywidgets>=7.5.1->pandas_profiling) (20.4)\n",
            "Requirement already satisfied, skipping upgrade: webencodings in /usr/local/lib/python3.6/dist-packages (from bleach->nbconvert->notebook>=4.4.1->widgetsnbextension~=3.5.0->ipywidgets>=7.5.1->pandas_profiling) (0.5.1)\n",
            "Building wheels for collected packages: htmlmin, imagehash\n",
            "  Building wheel for htmlmin (setup.py) ... \u001b[?25l\u001b[?25hdone\n",
            "  Created wheel for htmlmin: filename=htmlmin-0.1.12-cp36-none-any.whl size=27085 sha256=8b9f3db6d93e64a8ce2bb9ee8ecaa19f31300c0ac8b8acefc1e825e927dfad52\n",
            "  Stored in directory: /root/.cache/pip/wheels/43/07/ac/7c5a9d708d65247ac1f94066cf1db075540b85716c30255459\n",
            "  Building wheel for imagehash (setup.py) ... \u001b[?25l\u001b[?25hdone\n",
            "  Created wheel for imagehash: filename=ImageHash-4.1.0-py2.py3-none-any.whl size=291991 sha256=37f1196720bb15008d97874474e1df2380c33f4c092b42d9e7d0d0c48d11a959\n",
            "  Stored in directory: /root/.cache/pip/wheels/07/1c/dc/6831446f09feb8cc199ec73a0f2f0703253f6ae013a22f4be9\n",
            "Successfully built htmlmin imagehash\n",
            "Installing collected packages: pandas, tangled-up-in-unicode, tqdm, imagehash, visions, htmlmin, confuse, phik, pandas-profiling\n",
            "  Found existing installation: pandas 1.1.2\n",
            "    Uninstalling pandas-1.1.2:\n",
            "      Successfully uninstalled pandas-1.1.2\n",
            "  Found existing installation: tqdm 4.41.1\n",
            "    Uninstalling tqdm-4.41.1:\n",
            "      Successfully uninstalled tqdm-4.41.1\n",
            "  Found existing installation: pandas-profiling 1.4.1\n",
            "    Uninstalling pandas-profiling-1.4.1:\n",
            "      Successfully uninstalled pandas-profiling-1.4.1\n",
            "Successfully installed confuse-1.3.0 htmlmin-0.1.12 imagehash-4.1.0 pandas-1.1.3 pandas-profiling-2.9.0 phik-0.10.0 tangled-up-in-unicode-0.0.6 tqdm-4.50.2 visions-0.5.0\n"
          ],
          "name": "stdout"
        },
        {
          "output_type": "display_data",
          "data": {
            "application/vnd.colab-display-data+json": {
              "pip_warning": {
                "packages": [
                  "pandas",
                  "pandas_profiling"
                ]
              }
            }
          },
          "metadata": {
            "tags": []
          }
        }
      ]
    },
    {
      "cell_type": "code",
      "metadata": {
        "id": "KTVIvzyC-oRP"
      },
      "source": [
        "import pandas as pd\n",
        "from pandas_profiling import ProfileReport"
      ],
      "execution_count": 4,
      "outputs": []
    },
    {
      "cell_type": "markdown",
      "metadata": {
        "id": "st94JK78eW0T"
      },
      "source": [
        "#### Install ```plotly``` package"
      ]
    },
    {
      "cell_type": "code",
      "metadata": {
        "id": "lAV4hA55efjf",
        "outputId": "989df6d6-c32f-45d0-d762-c6f9b0b963a9",
        "colab": {
          "base_uri": "https://localhost:8080/",
          "height": 282
        }
      },
      "source": [
        "!pip install -U plotly"
      ],
      "execution_count": 5,
      "outputs": [
        {
          "output_type": "stream",
          "text": [
            "Collecting plotly\n",
            "\u001b[?25l  Downloading https://files.pythonhosted.org/packages/a6/66/af86e9d9bf1a3e4f2dabebeabd02a32e8ddf671a5d072b3af2b011efea99/plotly-4.12.0-py2.py3-none-any.whl (13.1MB)\n",
            "\u001b[K     |████████████████████████████████| 13.1MB 2.7MB/s \n",
            "\u001b[?25hRequirement already satisfied, skipping upgrade: six in /usr/local/lib/python3.6/dist-packages (from plotly) (1.15.0)\n",
            "Requirement already satisfied, skipping upgrade: retrying>=1.3.3 in /usr/local/lib/python3.6/dist-packages (from plotly) (1.3.3)\n",
            "Installing collected packages: plotly\n",
            "  Found existing installation: plotly 4.4.1\n",
            "    Uninstalling plotly-4.4.1:\n",
            "      Successfully uninstalled plotly-4.4.1\n",
            "Successfully installed plotly-4.12.0\n"
          ],
          "name": "stdout"
        },
        {
          "output_type": "display_data",
          "data": {
            "application/vnd.colab-display-data+json": {
              "pip_warning": {
                "packages": [
                  "_plotly_utils",
                  "plotly"
                ]
              }
            }
          },
          "metadata": {
            "tags": []
          }
        }
      ]
    },
    {
      "cell_type": "code",
      "metadata": {
        "id": "xgC_DLIU-_Y_"
      },
      "source": [
        "import plotly"
      ],
      "execution_count": 38,
      "outputs": []
    },
    {
      "cell_type": "markdown",
      "metadata": {
        "id": "v_yqixYYKtrx"
      },
      "source": [
        "# Part I - Data Loading, Cleaning, and Merging "
      ]
    },
    {
      "cell_type": "markdown",
      "metadata": {
        "id": "2lYbokF6G7Cd"
      },
      "source": [
        "## 1 - Read COVID-19 Daily Report"
      ]
    },
    {
      "cell_type": "code",
      "metadata": {
        "id": "3Vv8IF2zUzji",
        "outputId": "fb0e9f89-9ec1-4a0d-b284-40ff7b522d65",
        "colab": {
          "base_uri": "https://localhost:8080/",
          "height": 196
        }
      },
      "source": [
        "!wget https://raw.githubusercontent.com/CSSEGISandData/COVID-19/master/csse_covid_19_data/csse_covid_19_daily_reports/10-23-2020.csv"
      ],
      "execution_count": 6,
      "outputs": [
        {
          "output_type": "stream",
          "text": [
            "--2020-10-25 04:19:22--  https://raw.githubusercontent.com/CSSEGISandData/COVID-19/master/csse_covid_19_data/csse_covid_19_daily_reports/10-23-2020.csv\n",
            "Resolving raw.githubusercontent.com (raw.githubusercontent.com)... 151.101.0.133, 151.101.64.133, 151.101.128.133, ...\n",
            "Connecting to raw.githubusercontent.com (raw.githubusercontent.com)|151.101.0.133|:443... connected.\n",
            "HTTP request sent, awaiting response... 200 OK\n",
            "Length: 555600 (543K) [text/plain]\n",
            "Saving to: ‘10-23-2020.csv’\n",
            "\n",
            "10-23-2020.csv      100%[===================>] 542.58K  --.-KB/s    in 0.07s   \n",
            "\n",
            "2020-10-25 04:19:23 (7.66 MB/s) - ‘10-23-2020.csv’ saved [555600/555600]\n",
            "\n"
          ],
          "name": "stdout"
        }
      ]
    },
    {
      "cell_type": "code",
      "metadata": {
        "id": "UXsicLfmVQs6",
        "outputId": "42e4d3bd-45db-446e-a5f9-f891258cdd99",
        "colab": {
          "base_uri": "https://localhost:8080/",
          "height": 308
        }
      },
      "source": [
        "covid_df = pd.read_csv(\"10-23-2020.csv\")\n",
        "covid_df.head()"
      ],
      "execution_count": 7,
      "outputs": [
        {
          "output_type": "execute_result",
          "data": {
            "text/html": [
              "<div>\n",
              "<style scoped>\n",
              "    .dataframe tbody tr th:only-of-type {\n",
              "        vertical-align: middle;\n",
              "    }\n",
              "\n",
              "    .dataframe tbody tr th {\n",
              "        vertical-align: top;\n",
              "    }\n",
              "\n",
              "    .dataframe thead th {\n",
              "        text-align: right;\n",
              "    }\n",
              "</style>\n",
              "<table border=\"1\" class=\"dataframe\">\n",
              "  <thead>\n",
              "    <tr style=\"text-align: right;\">\n",
              "      <th></th>\n",
              "      <th>FIPS</th>\n",
              "      <th>Admin2</th>\n",
              "      <th>Province_State</th>\n",
              "      <th>Country_Region</th>\n",
              "      <th>Last_Update</th>\n",
              "      <th>Lat</th>\n",
              "      <th>Long_</th>\n",
              "      <th>Confirmed</th>\n",
              "      <th>Deaths</th>\n",
              "      <th>Recovered</th>\n",
              "      <th>Active</th>\n",
              "      <th>Combined_Key</th>\n",
              "      <th>Incidence_Rate</th>\n",
              "      <th>Case-Fatality_Ratio</th>\n",
              "    </tr>\n",
              "  </thead>\n",
              "  <tbody>\n",
              "    <tr>\n",
              "      <th>0</th>\n",
              "      <td>NaN</td>\n",
              "      <td>NaN</td>\n",
              "      <td>NaN</td>\n",
              "      <td>Afghanistan</td>\n",
              "      <td>2020-10-24 04:24:46</td>\n",
              "      <td>33.93911</td>\n",
              "      <td>67.709953</td>\n",
              "      <td>40687</td>\n",
              "      <td>1507</td>\n",
              "      <td>34010</td>\n",
              "      <td>5170.0</td>\n",
              "      <td>Afghanistan</td>\n",
              "      <td>104.517683</td>\n",
              "      <td>3.703886</td>\n",
              "    </tr>\n",
              "    <tr>\n",
              "      <th>1</th>\n",
              "      <td>NaN</td>\n",
              "      <td>NaN</td>\n",
              "      <td>NaN</td>\n",
              "      <td>Albania</td>\n",
              "      <td>2020-10-24 04:24:46</td>\n",
              "      <td>41.15330</td>\n",
              "      <td>20.168300</td>\n",
              "      <td>18556</td>\n",
              "      <td>469</td>\n",
              "      <td>10466</td>\n",
              "      <td>7621.0</td>\n",
              "      <td>Albania</td>\n",
              "      <td>644.798110</td>\n",
              "      <td>2.527484</td>\n",
              "    </tr>\n",
              "    <tr>\n",
              "      <th>2</th>\n",
              "      <td>NaN</td>\n",
              "      <td>NaN</td>\n",
              "      <td>NaN</td>\n",
              "      <td>Algeria</td>\n",
              "      <td>2020-10-24 04:24:46</td>\n",
              "      <td>28.03390</td>\n",
              "      <td>1.659600</td>\n",
              "      <td>55630</td>\n",
              "      <td>1897</td>\n",
              "      <td>38788</td>\n",
              "      <td>14945.0</td>\n",
              "      <td>Algeria</td>\n",
              "      <td>126.861293</td>\n",
              "      <td>3.410031</td>\n",
              "    </tr>\n",
              "    <tr>\n",
              "      <th>3</th>\n",
              "      <td>NaN</td>\n",
              "      <td>NaN</td>\n",
              "      <td>NaN</td>\n",
              "      <td>Andorra</td>\n",
              "      <td>2020-10-24 04:24:46</td>\n",
              "      <td>42.50630</td>\n",
              "      <td>1.521800</td>\n",
              "      <td>4038</td>\n",
              "      <td>69</td>\n",
              "      <td>2729</td>\n",
              "      <td>1240.0</td>\n",
              "      <td>Andorra</td>\n",
              "      <td>5226.169676</td>\n",
              "      <td>1.708767</td>\n",
              "    </tr>\n",
              "    <tr>\n",
              "      <th>4</th>\n",
              "      <td>NaN</td>\n",
              "      <td>NaN</td>\n",
              "      <td>NaN</td>\n",
              "      <td>Angola</td>\n",
              "      <td>2020-10-24 04:24:46</td>\n",
              "      <td>-11.20270</td>\n",
              "      <td>17.873900</td>\n",
              "      <td>8829</td>\n",
              "      <td>265</td>\n",
              "      <td>3384</td>\n",
              "      <td>5180.0</td>\n",
              "      <td>Angola</td>\n",
              "      <td>26.863409</td>\n",
              "      <td>3.001472</td>\n",
              "    </tr>\n",
              "  </tbody>\n",
              "</table>\n",
              "</div>"
            ],
            "text/plain": [
              "   FIPS Admin2 Province_State  ... Combined_Key Incidence_Rate  Case-Fatality_Ratio\n",
              "0   NaN    NaN            NaN  ...  Afghanistan     104.517683             3.703886\n",
              "1   NaN    NaN            NaN  ...      Albania     644.798110             2.527484\n",
              "2   NaN    NaN            NaN  ...      Algeria     126.861293             3.410031\n",
              "3   NaN    NaN            NaN  ...      Andorra    5226.169676             1.708767\n",
              "4   NaN    NaN            NaN  ...       Angola      26.863409             3.001472\n",
              "\n",
              "[5 rows x 14 columns]"
            ]
          },
          "metadata": {
            "tags": []
          },
          "execution_count": 7
        }
      ]
    },
    {
      "cell_type": "code",
      "metadata": {
        "id": "0KU9hUTGVg09",
        "outputId": "54f971c9-6ea4-437c-bcbf-a58eba946c0b",
        "colab": {
          "base_uri": "https://localhost:8080/",
          "height": 33
        }
      },
      "source": [
        "covid_df.shape"
      ],
      "execution_count": 8,
      "outputs": [
        {
          "output_type": "execute_result",
          "data": {
            "text/plain": [
              "(3958, 14)"
            ]
          },
          "metadata": {
            "tags": []
          },
          "execution_count": 8
        }
      ]
    },
    {
      "cell_type": "markdown",
      "metadata": {
        "id": "dyt6Sl1PeIWk"
      },
      "source": [
        "### 1.1 - Cleanup Columns"
      ]
    },
    {
      "cell_type": "code",
      "metadata": {
        "id": "-3rY-eKHxwUP",
        "outputId": "3d986b62-c8f8-4486-ae56-eaf24833b6f9",
        "colab": {
          "base_uri": "https://localhost:8080/",
          "height": 82
        }
      },
      "source": [
        "covid_df.columns"
      ],
      "execution_count": 9,
      "outputs": [
        {
          "output_type": "execute_result",
          "data": {
            "text/plain": [
              "Index(['FIPS', 'Admin2', 'Province_State', 'Country_Region', 'Last_Update',\n",
              "       'Lat', 'Long_', 'Confirmed', 'Deaths', 'Recovered', 'Active',\n",
              "       'Combined_Key', 'Incidence_Rate', 'Case-Fatality_Ratio'],\n",
              "      dtype='object')"
            ]
          },
          "metadata": {
            "tags": []
          },
          "execution_count": 9
        }
      ]
    },
    {
      "cell_type": "markdown",
      "metadata": {
        "id": "xU3IAYTMU7rL"
      },
      "source": [
        "Rename the following columns: Admin2 and Combined_Key"
      ]
    },
    {
      "cell_type": "code",
      "metadata": {
        "id": "A4QirmMXVBz4"
      },
      "source": [
        "covid_df.rename(columns = {'Admin2':'County', 'Combined_Key':'Place'}, inplace = True)"
      ],
      "execution_count": 10,
      "outputs": []
    },
    {
      "cell_type": "markdown",
      "metadata": {
        "id": "PccJVU9hcPcU"
      },
      "source": [
        "Remove columns that irrelevant to the study"
      ]
    },
    {
      "cell_type": "code",
      "metadata": {
        "id": "vHz9hJqVd5IT",
        "outputId": "eee49d5b-669b-4aa9-d328-fdbd03a016e9",
        "colab": {
          "base_uri": "https://localhost:8080/",
          "height": 133
        }
      },
      "source": [
        "irrelevant_columns = ['Last_Update', 'Lat', 'Long_', 'Recovered', 'Active']\n",
        "covid_df = covid_df.drop(irrelevant_columns, axis=1)\n",
        "covid_df.head(3)"
      ],
      "execution_count": 11,
      "outputs": [
        {
          "output_type": "execute_result",
          "data": {
            "text/html": [
              "<div>\n",
              "<style scoped>\n",
              "    .dataframe tbody tr th:only-of-type {\n",
              "        vertical-align: middle;\n",
              "    }\n",
              "\n",
              "    .dataframe tbody tr th {\n",
              "        vertical-align: top;\n",
              "    }\n",
              "\n",
              "    .dataframe thead th {\n",
              "        text-align: right;\n",
              "    }\n",
              "</style>\n",
              "<table border=\"1\" class=\"dataframe\">\n",
              "  <thead>\n",
              "    <tr style=\"text-align: right;\">\n",
              "      <th></th>\n",
              "      <th>FIPS</th>\n",
              "      <th>County</th>\n",
              "      <th>Province_State</th>\n",
              "      <th>Country_Region</th>\n",
              "      <th>Confirmed</th>\n",
              "      <th>Deaths</th>\n",
              "      <th>Place</th>\n",
              "      <th>Incidence_Rate</th>\n",
              "      <th>Case-Fatality_Ratio</th>\n",
              "    </tr>\n",
              "  </thead>\n",
              "  <tbody>\n",
              "    <tr>\n",
              "      <th>0</th>\n",
              "      <td>NaN</td>\n",
              "      <td>NaN</td>\n",
              "      <td>NaN</td>\n",
              "      <td>Afghanistan</td>\n",
              "      <td>40687</td>\n",
              "      <td>1507</td>\n",
              "      <td>Afghanistan</td>\n",
              "      <td>104.517683</td>\n",
              "      <td>3.703886</td>\n",
              "    </tr>\n",
              "    <tr>\n",
              "      <th>1</th>\n",
              "      <td>NaN</td>\n",
              "      <td>NaN</td>\n",
              "      <td>NaN</td>\n",
              "      <td>Albania</td>\n",
              "      <td>18556</td>\n",
              "      <td>469</td>\n",
              "      <td>Albania</td>\n",
              "      <td>644.798110</td>\n",
              "      <td>2.527484</td>\n",
              "    </tr>\n",
              "    <tr>\n",
              "      <th>2</th>\n",
              "      <td>NaN</td>\n",
              "      <td>NaN</td>\n",
              "      <td>NaN</td>\n",
              "      <td>Algeria</td>\n",
              "      <td>55630</td>\n",
              "      <td>1897</td>\n",
              "      <td>Algeria</td>\n",
              "      <td>126.861293</td>\n",
              "      <td>3.410031</td>\n",
              "    </tr>\n",
              "  </tbody>\n",
              "</table>\n",
              "</div>"
            ],
            "text/plain": [
              "   FIPS County Province_State  ...        Place  Incidence_Rate  Case-Fatality_Ratio\n",
              "0   NaN    NaN            NaN  ...  Afghanistan      104.517683             3.703886\n",
              "1   NaN    NaN            NaN  ...      Albania      644.798110             2.527484\n",
              "2   NaN    NaN            NaN  ...      Algeria      126.861293             3.410031\n",
              "\n",
              "[3 rows x 9 columns]"
            ]
          },
          "metadata": {
            "tags": []
          },
          "execution_count": 11
        }
      ]
    },
    {
      "cell_type": "markdown",
      "metadata": {
        "id": "_JRf0Vj3iJgo"
      },
      "source": [
        "Reorder columns"
      ]
    },
    {
      "cell_type": "code",
      "metadata": {
        "id": "jELZ4lw4iNeK",
        "outputId": "46c5d9ad-383d-4b6a-b8ca-835f920c0d50",
        "colab": {
          "base_uri": "https://localhost:8080/",
          "height": 133
        }
      },
      "source": [
        "column_order = ['FIPS','County','Province_State','Country_Region','Place','Confirmed','Deaths','Incidence_Rate','Case-Fatality_Ratio'] \n",
        "covid_df = covid_df[column_order] \n",
        "covid_df.head(3) "
      ],
      "execution_count": 12,
      "outputs": [
        {
          "output_type": "execute_result",
          "data": {
            "text/html": [
              "<div>\n",
              "<style scoped>\n",
              "    .dataframe tbody tr th:only-of-type {\n",
              "        vertical-align: middle;\n",
              "    }\n",
              "\n",
              "    .dataframe tbody tr th {\n",
              "        vertical-align: top;\n",
              "    }\n",
              "\n",
              "    .dataframe thead th {\n",
              "        text-align: right;\n",
              "    }\n",
              "</style>\n",
              "<table border=\"1\" class=\"dataframe\">\n",
              "  <thead>\n",
              "    <tr style=\"text-align: right;\">\n",
              "      <th></th>\n",
              "      <th>FIPS</th>\n",
              "      <th>County</th>\n",
              "      <th>Province_State</th>\n",
              "      <th>Country_Region</th>\n",
              "      <th>Place</th>\n",
              "      <th>Confirmed</th>\n",
              "      <th>Deaths</th>\n",
              "      <th>Incidence_Rate</th>\n",
              "      <th>Case-Fatality_Ratio</th>\n",
              "    </tr>\n",
              "  </thead>\n",
              "  <tbody>\n",
              "    <tr>\n",
              "      <th>0</th>\n",
              "      <td>NaN</td>\n",
              "      <td>NaN</td>\n",
              "      <td>NaN</td>\n",
              "      <td>Afghanistan</td>\n",
              "      <td>Afghanistan</td>\n",
              "      <td>40687</td>\n",
              "      <td>1507</td>\n",
              "      <td>104.517683</td>\n",
              "      <td>3.703886</td>\n",
              "    </tr>\n",
              "    <tr>\n",
              "      <th>1</th>\n",
              "      <td>NaN</td>\n",
              "      <td>NaN</td>\n",
              "      <td>NaN</td>\n",
              "      <td>Albania</td>\n",
              "      <td>Albania</td>\n",
              "      <td>18556</td>\n",
              "      <td>469</td>\n",
              "      <td>644.798110</td>\n",
              "      <td>2.527484</td>\n",
              "    </tr>\n",
              "    <tr>\n",
              "      <th>2</th>\n",
              "      <td>NaN</td>\n",
              "      <td>NaN</td>\n",
              "      <td>NaN</td>\n",
              "      <td>Algeria</td>\n",
              "      <td>Algeria</td>\n",
              "      <td>55630</td>\n",
              "      <td>1897</td>\n",
              "      <td>126.861293</td>\n",
              "      <td>3.410031</td>\n",
              "    </tr>\n",
              "  </tbody>\n",
              "</table>\n",
              "</div>"
            ],
            "text/plain": [
              "   FIPS County Province_State  ... Deaths Incidence_Rate  Case-Fatality_Ratio\n",
              "0   NaN    NaN            NaN  ...   1507     104.517683             3.703886\n",
              "1   NaN    NaN            NaN  ...    469     644.798110             2.527484\n",
              "2   NaN    NaN            NaN  ...   1897     126.861293             3.410031\n",
              "\n",
              "[3 rows x 9 columns]"
            ]
          },
          "metadata": {
            "tags": []
          },
          "execution_count": 12
        }
      ]
    },
    {
      "cell_type": "code",
      "metadata": {
        "id": "T_MinmmBAvCI",
        "outputId": "db154efb-04bd-4082-8424-58a76b97daa0",
        "colab": {
          "base_uri": "https://localhost:8080/",
          "height": 33
        }
      },
      "source": [
        "covid_df.shape"
      ],
      "execution_count": 13,
      "outputs": [
        {
          "output_type": "execute_result",
          "data": {
            "text/plain": [
              "(3958, 9)"
            ]
          },
          "metadata": {
            "tags": []
          },
          "execution_count": 13
        }
      ]
    },
    {
      "cell_type": "markdown",
      "metadata": {
        "id": "7kgPKFp2DOk4"
      },
      "source": [
        "### 1.2 - Remove Irrelevant Data"
      ]
    },
    {
      "cell_type": "markdown",
      "metadata": {
        "id": "o4uGx80pAmQI"
      },
      "source": [
        "Drop any duplicate rows."
      ]
    },
    {
      "cell_type": "code",
      "metadata": {
        "id": "XhhE9Pm8ApWv",
        "outputId": "5cd21074-02ea-4050-adab-c4970b33bc30",
        "colab": {
          "base_uri": "https://localhost:8080/",
          "height": 0
        }
      },
      "source": [
        "covid_df = covid_df.drop_duplicates()\n",
        "covid_df.shape"
      ],
      "execution_count": 14,
      "outputs": [
        {
          "output_type": "execute_result",
          "data": {
            "text/plain": [
              "(3958, 9)"
            ]
          },
          "metadata": {
            "tags": []
          },
          "execution_count": 14
        }
      ]
    },
    {
      "cell_type": "markdown",
      "metadata": {
        "id": "xYo7bRBkKmlt"
      },
      "source": [
        "Determine how much of the dataframe is useful for the study."
      ]
    },
    {
      "cell_type": "code",
      "metadata": {
        "id": "rmhl5eb4I0TY",
        "outputId": "01088042-49a7-4b66-b385-327d2e2f7a8a",
        "colab": {
          "base_uri": "https://localhost:8080/",
          "height": 0
        }
      },
      "source": [
        "covid_df[\"Country_Region\"].value_counts().head(10)"
      ],
      "execution_count": 15,
      "outputs": [
        {
          "output_type": "execute_result",
          "data": {
            "text/plain": [
              "US          3272\n",
              "Russia        83\n",
              "Japan         49\n",
              "India         37\n",
              "Colombia      34\n",
              "China         33\n",
              "Mexico        32\n",
              "Ukraine       27\n",
              "Brazil        27\n",
              "Peru          26\n",
              "Name: Country_Region, dtype: int64"
            ]
          },
          "metadata": {
            "tags": []
          },
          "execution_count": 15
        }
      ]
    },
    {
      "cell_type": "markdown",
      "metadata": {
        "id": "yL5Lgrq2LKjR"
      },
      "source": [
        "Note: Non-US data is irrelvant since only US counties are being studied.\n",
        "\n",
        "Only keep the records representing US data."
      ]
    },
    {
      "cell_type": "code",
      "metadata": {
        "id": "p-m3QPh3XMHn",
        "outputId": "c6962947-1a58-4a9f-af00-819a855391ca",
        "colab": {
          "base_uri": "https://localhost:8080/",
          "height": 0
        }
      },
      "source": [
        "covid_us_df = covid_df[covid_df.Country_Region == \"US\"]\n",
        "covid_us_df.shape"
      ],
      "execution_count": 16,
      "outputs": [
        {
          "output_type": "execute_result",
          "data": {
            "text/plain": [
              "(3272, 9)"
            ]
          },
          "metadata": {
            "tags": []
          },
          "execution_count": 16
        }
      ]
    },
    {
      "cell_type": "markdown",
      "metadata": {
        "id": "ezq7W_EmLyvJ"
      },
      "source": [
        "Check Data Types and Counts"
      ]
    },
    {
      "cell_type": "code",
      "metadata": {
        "id": "SAeJHt2DHZke",
        "outputId": "6e1de873-014a-4e26-88a5-bfe438613cec",
        "colab": {
          "base_uri": "https://localhost:8080/",
          "height": 0
        }
      },
      "source": [
        "covid_df.info()"
      ],
      "execution_count": 17,
      "outputs": [
        {
          "output_type": "stream",
          "text": [
            "<class 'pandas.core.frame.DataFrame'>\n",
            "Int64Index: 3958 entries, 0 to 3957\n",
            "Data columns (total 9 columns):\n",
            " #   Column               Non-Null Count  Dtype  \n",
            "---  ------               --------------  -----  \n",
            " 0   FIPS                 3261 non-null   float64\n",
            " 1   County               3266 non-null   object \n",
            " 2   Province_State       3789 non-null   object \n",
            " 3   Country_Region       3958 non-null   object \n",
            " 4   Place                3958 non-null   object \n",
            " 5   Confirmed            3958 non-null   int64  \n",
            " 6   Deaths               3958 non-null   int64  \n",
            " 7   Incidence_Rate       3877 non-null   float64\n",
            " 8   Case-Fatality_Ratio  3916 non-null   float64\n",
            "dtypes: float64(3), int64(2), object(4)\n",
            "memory usage: 309.2+ KB\n"
          ],
          "name": "stdout"
        }
      ]
    },
    {
      "cell_type": "markdown",
      "metadata": {
        "id": "jNC7IuwlH1wI"
      },
      "source": [
        "The Non-Null counts are not the same, so cleanup missing data before moving forward."
      ]
    },
    {
      "cell_type": "markdown",
      "metadata": {
        "id": "ILnzYwLUIYzc"
      },
      "source": [
        "### 1.3 - Missing Data Cleanup"
      ]
    },
    {
      "cell_type": "markdown",
      "metadata": {
        "id": "MMb_2DUuhiUL"
      },
      "source": [
        "Visualize the dataframe to identify missing data"
      ]
    },
    {
      "cell_type": "code",
      "metadata": {
        "id": "gbyGkLGCkNlh",
        "outputId": "138cf4cc-37b1-4ba1-9344-32aaeea2a923",
        "colab": {
          "base_uri": "https://localhost:8080/",
          "height": 0
        }
      },
      "source": [
        "# Reference: https://analyticsindiamag.com/tutorial-on-missingno-python-tool-to-visualize-missing-values/\n",
        "import missingno as msno\n",
        "msno.matrix(covid_us_df)"
      ],
      "execution_count": 18,
      "outputs": [
        {
          "output_type": "execute_result",
          "data": {
            "text/plain": [
              "<matplotlib.axes._subplots.AxesSubplot at 0x7f8f58c082b0>"
            ]
          },
          "metadata": {
            "tags": []
          },
          "execution_count": 18
        },
        {
          "output_type": "display_data",
          "data": {
            "image/png": "[encoded data removed]",
            "text/plain": [
              "<Figure size 1800x720 with 2 Axes>"
            ]
          },
          "metadata": {
            "tags": [],
            "needs_background": "light"
          }
        }
      ]
    },
    {
      "cell_type": "markdown",
      "metadata": {
        "id": "MQa_7a62DDVe"
      },
      "source": [
        "Investigate records without a FIPS code"
      ]
    },
    {
      "cell_type": "code",
      "metadata": {
        "id": "--QqnJ6TYFNc",
        "outputId": "13dedfc7-abd6-4bcd-b494-3c9bf739b564",
        "colab": {
          "base_uri": "https://localhost:8080/",
          "height": 0
        }
      },
      "source": [
        "covid_nofips_us_df = covid_us_df[covid_us_df.FIPS.isna()]\n",
        "covid_nofips_us_df.shape"
      ],
      "execution_count": 19,
      "outputs": [
        {
          "output_type": "execute_result",
          "data": {
            "text/plain": [
              "(11, 9)"
            ]
          },
          "metadata": {
            "tags": []
          },
          "execution_count": 19
        }
      ]
    },
    {
      "cell_type": "code",
      "metadata": {
        "id": "HmyP4MpUYnE1",
        "outputId": "7b25d06d-29e1-4594-c510-59d0acd32d18",
        "colab": {
          "base_uri": "https://localhost:8080/",
          "height": 0
        }
      },
      "source": [
        "covid_nofips_us_df"
      ],
      "execution_count": 20,
      "outputs": [
        {
          "output_type": "execute_result",
          "data": {
            "text/html": [
              "<div>\n",
              "<style scoped>\n",
              "    .dataframe tbody tr th:only-of-type {\n",
              "        vertical-align: middle;\n",
              "    }\n",
              "\n",
              "    .dataframe tbody tr th {\n",
              "        vertical-align: top;\n",
              "    }\n",
              "\n",
              "    .dataframe thead th {\n",
              "        text-align: right;\n",
              "    }\n",
              "</style>\n",
              "<table border=\"1\" class=\"dataframe\">\n",
              "  <thead>\n",
              "    <tr style=\"text-align: right;\">\n",
              "      <th></th>\n",
              "      <th>FIPS</th>\n",
              "      <th>County</th>\n",
              "      <th>Province_State</th>\n",
              "      <th>Country_Region</th>\n",
              "      <th>Place</th>\n",
              "      <th>Confirmed</th>\n",
              "      <th>Deaths</th>\n",
              "      <th>Incidence_Rate</th>\n",
              "      <th>Case-Fatality_Ratio</th>\n",
              "    </tr>\n",
              "  </thead>\n",
              "  <tbody>\n",
              "    <tr>\n",
              "      <th>1881</th>\n",
              "      <td>NaN</td>\n",
              "      <td>Dukes and Nantucket</td>\n",
              "      <td>Massachusetts</td>\n",
              "      <td>US</td>\n",
              "      <td>Dukes and Nantucket, Massachusetts, US</td>\n",
              "      <td>213</td>\n",
              "      <td>2</td>\n",
              "      <td>741.359507</td>\n",
              "      <td>0.938967</td>\n",
              "    </tr>\n",
              "    <tr>\n",
              "      <th>1916</th>\n",
              "      <td>NaN</td>\n",
              "      <td>Federal Correctional Institution (FCI)</td>\n",
              "      <td>Michigan</td>\n",
              "      <td>US</td>\n",
              "      <td>Federal Correctional Institution (FCI), Michig...</td>\n",
              "      <td>197</td>\n",
              "      <td>5</td>\n",
              "      <td>NaN</td>\n",
              "      <td>2.538071</td>\n",
              "    </tr>\n",
              "    <tr>\n",
              "      <th>1948</th>\n",
              "      <td>NaN</td>\n",
              "      <td>Michigan Department of Corrections (MDOC)</td>\n",
              "      <td>Michigan</td>\n",
              "      <td>US</td>\n",
              "      <td>Michigan Department of Corrections (MDOC), Mic...</td>\n",
              "      <td>6459</td>\n",
              "      <td>75</td>\n",
              "      <td>NaN</td>\n",
              "      <td>1.161170</td>\n",
              "    </tr>\n",
              "    <tr>\n",
              "      <th>2201</th>\n",
              "      <td>NaN</td>\n",
              "      <td>Kansas City</td>\n",
              "      <td>Missouri</td>\n",
              "      <td>US</td>\n",
              "      <td>Kansas City, Missouri, US</td>\n",
              "      <td>13989</td>\n",
              "      <td>184</td>\n",
              "      <td>2861.069695</td>\n",
              "      <td>1.315319</td>\n",
              "    </tr>\n",
              "    <tr>\n",
              "      <th>3075</th>\n",
              "      <td>NaN</td>\n",
              "      <td>NaN</td>\n",
              "      <td>Recovered</td>\n",
              "      <td>US</td>\n",
              "      <td>Recovered, US</td>\n",
              "      <td>0</td>\n",
              "      <td>0</td>\n",
              "      <td>NaN</td>\n",
              "      <td>NaN</td>\n",
              "    </tr>\n",
              "    <tr>\n",
              "      <th>3548</th>\n",
              "      <td>NaN</td>\n",
              "      <td>Bear River</td>\n",
              "      <td>Utah</td>\n",
              "      <td>US</td>\n",
              "      <td>Bear River, Utah, US</td>\n",
              "      <td>4867</td>\n",
              "      <td>15</td>\n",
              "      <td>2605.209348</td>\n",
              "      <td>0.308198</td>\n",
              "    </tr>\n",
              "    <tr>\n",
              "      <th>3549</th>\n",
              "      <td>NaN</td>\n",
              "      <td>Central Utah</td>\n",
              "      <td>Utah</td>\n",
              "      <td>US</td>\n",
              "      <td>Central Utah, Utah, US</td>\n",
              "      <td>1176</td>\n",
              "      <td>7</td>\n",
              "      <td>1434.951314</td>\n",
              "      <td>0.595238</td>\n",
              "    </tr>\n",
              "    <tr>\n",
              "      <th>3553</th>\n",
              "      <td>NaN</td>\n",
              "      <td>Southeast Utah</td>\n",
              "      <td>Utah</td>\n",
              "      <td>US</td>\n",
              "      <td>Southeast Utah, Utah, US</td>\n",
              "      <td>422</td>\n",
              "      <td>3</td>\n",
              "      <td>1048.994506</td>\n",
              "      <td>0.710900</td>\n",
              "    </tr>\n",
              "    <tr>\n",
              "      <th>3554</th>\n",
              "      <td>NaN</td>\n",
              "      <td>Southwest Utah</td>\n",
              "      <td>Utah</td>\n",
              "      <td>US</td>\n",
              "      <td>Southwest Utah, Utah, US</td>\n",
              "      <td>5705</td>\n",
              "      <td>49</td>\n",
              "      <td>2263.511637</td>\n",
              "      <td>0.858896</td>\n",
              "    </tr>\n",
              "    <tr>\n",
              "      <th>3557</th>\n",
              "      <td>NaN</td>\n",
              "      <td>TriCounty</td>\n",
              "      <td>Utah</td>\n",
              "      <td>US</td>\n",
              "      <td>TriCounty, Utah, US</td>\n",
              "      <td>384</td>\n",
              "      <td>2</td>\n",
              "      <td>678.181626</td>\n",
              "      <td>0.520833</td>\n",
              "    </tr>\n",
              "    <tr>\n",
              "      <th>3561</th>\n",
              "      <td>NaN</td>\n",
              "      <td>Weber-Morgan</td>\n",
              "      <td>Utah</td>\n",
              "      <td>US</td>\n",
              "      <td>Weber-Morgan, Utah, US</td>\n",
              "      <td>6141</td>\n",
              "      <td>33</td>\n",
              "      <td>2254.926800</td>\n",
              "      <td>0.537372</td>\n",
              "    </tr>\n",
              "  </tbody>\n",
              "</table>\n",
              "</div>"
            ],
            "text/plain": [
              "      FIPS  ... Case-Fatality_Ratio\n",
              "1881   NaN  ...            0.938967\n",
              "1916   NaN  ...            2.538071\n",
              "1948   NaN  ...            1.161170\n",
              "2201   NaN  ...            1.315319\n",
              "3075   NaN  ...                 NaN\n",
              "3548   NaN  ...            0.308198\n",
              "3549   NaN  ...            0.595238\n",
              "3553   NaN  ...            0.710900\n",
              "3554   NaN  ...            0.858896\n",
              "3557   NaN  ...            0.520833\n",
              "3561   NaN  ...            0.537372\n",
              "\n",
              "[11 rows x 9 columns]"
            ]
          },
          "metadata": {
            "tags": []
          },
          "execution_count": 20
        }
      ]
    },
    {
      "cell_type": "markdown",
      "metadata": {
        "id": "PeZxpZQtEWb3"
      },
      "source": [
        "Records lacking a FIPS code cannot be used in the study because the field will be joined with land area data needed to determine population density for each county.\n",
        "\n",
        "Remove the records without a FIPS code."
      ]
    },
    {
      "cell_type": "code",
      "metadata": {
        "id": "Z6dUaDb8bfCO",
        "outputId": "da1da5d2-17fd-4c43-f182-40c9652d88a8",
        "colab": {
          "base_uri": "https://localhost:8080/",
          "height": 0
        }
      },
      "source": [
        "covid_us_df = covid_us_df[covid_us_df.FIPS.notna()]\n",
        "covid_us_df.shape"
      ],
      "execution_count": 21,
      "outputs": [
        {
          "output_type": "execute_result",
          "data": {
            "text/plain": [
              "(3261, 9)"
            ]
          },
          "metadata": {
            "tags": []
          },
          "execution_count": 21
        }
      ]
    },
    {
      "cell_type": "markdown",
      "metadata": {
        "id": "IV2FtOtORgdU"
      },
      "source": [
        "Investigate records without a County"
      ]
    },
    {
      "cell_type": "code",
      "metadata": {
        "id": "NeYtoq2ZRUyZ",
        "outputId": "6c5c377f-1085-46f4-b384-4c1185fbd2ce",
        "colab": {
          "base_uri": "https://localhost:8080/",
          "height": 0
        }
      },
      "source": [
        "covid_no_county_us_df = covid_us_df[covid_us_df.County.isna()]\n",
        "covid_no_county_us_df.shape"
      ],
      "execution_count": 22,
      "outputs": [
        {
          "output_type": "execute_result",
          "data": {
            "text/plain": [
              "(5, 9)"
            ]
          },
          "metadata": {
            "tags": []
          },
          "execution_count": 22
        }
      ]
    },
    {
      "cell_type": "code",
      "metadata": {
        "id": "M6ux2vsqR5nK",
        "outputId": "526460a4-f847-4413-8211-82ff89411cb6",
        "colab": {
          "base_uri": "https://localhost:8080/",
          "height": 0
        }
      },
      "source": [
        "covid_no_county_us_df"
      ],
      "execution_count": 23,
      "outputs": [
        {
          "output_type": "execute_result",
          "data": {
            "text/html": [
              "<div>\n",
              "<style scoped>\n",
              "    .dataframe tbody tr th:only-of-type {\n",
              "        vertical-align: middle;\n",
              "    }\n",
              "\n",
              "    .dataframe tbody tr th {\n",
              "        vertical-align: top;\n",
              "    }\n",
              "\n",
              "    .dataframe thead th {\n",
              "        text-align: right;\n",
              "    }\n",
              "</style>\n",
              "<table border=\"1\" class=\"dataframe\">\n",
              "  <thead>\n",
              "    <tr style=\"text-align: right;\">\n",
              "      <th></th>\n",
              "      <th>FIPS</th>\n",
              "      <th>County</th>\n",
              "      <th>Province_State</th>\n",
              "      <th>Country_Region</th>\n",
              "      <th>Place</th>\n",
              "      <th>Confirmed</th>\n",
              "      <th>Deaths</th>\n",
              "      <th>Incidence_Rate</th>\n",
              "      <th>Case-Fatality_Ratio</th>\n",
              "    </tr>\n",
              "  </thead>\n",
              "  <tbody>\n",
              "    <tr>\n",
              "      <th>961</th>\n",
              "      <td>88888.0</td>\n",
              "      <td>NaN</td>\n",
              "      <td>Diamond Princess</td>\n",
              "      <td>US</td>\n",
              "      <td>Diamond Princess, US</td>\n",
              "      <td>49</td>\n",
              "      <td>0</td>\n",
              "      <td>NaN</td>\n",
              "      <td>0.000000</td>\n",
              "    </tr>\n",
              "    <tr>\n",
              "      <th>1192</th>\n",
              "      <td>99999.0</td>\n",
              "      <td>NaN</td>\n",
              "      <td>Grand Princess</td>\n",
              "      <td>US</td>\n",
              "      <td>Grand Princess, US</td>\n",
              "      <td>103</td>\n",
              "      <td>3</td>\n",
              "      <td>NaN</td>\n",
              "      <td>2.912621</td>\n",
              "    </tr>\n",
              "    <tr>\n",
              "      <th>1193</th>\n",
              "      <td>66.0</td>\n",
              "      <td>NaN</td>\n",
              "      <td>Guam</td>\n",
              "      <td>US</td>\n",
              "      <td>Guam, US</td>\n",
              "      <td>4141</td>\n",
              "      <td>69</td>\n",
              "      <td>2521.479154</td>\n",
              "      <td>1.666264</td>\n",
              "    </tr>\n",
              "    <tr>\n",
              "      <th>2721</th>\n",
              "      <td>69.0</td>\n",
              "      <td>NaN</td>\n",
              "      <td>Northern Mariana Islands</td>\n",
              "      <td>US</td>\n",
              "      <td>Northern Mariana Islands, US</td>\n",
              "      <td>88</td>\n",
              "      <td>2</td>\n",
              "      <td>159.582185</td>\n",
              "      <td>2.272727</td>\n",
              "    </tr>\n",
              "    <tr>\n",
              "      <th>3577</th>\n",
              "      <td>78.0</td>\n",
              "      <td>NaN</td>\n",
              "      <td>Virgin Islands</td>\n",
              "      <td>US</td>\n",
              "      <td>Virgin Islands, US</td>\n",
              "      <td>1346</td>\n",
              "      <td>21</td>\n",
              "      <td>1254.801059</td>\n",
              "      <td>1.560178</td>\n",
              "    </tr>\n",
              "  </tbody>\n",
              "</table>\n",
              "</div>"
            ],
            "text/plain": [
              "         FIPS County  ... Incidence_Rate Case-Fatality_Ratio\n",
              "961   88888.0    NaN  ...            NaN            0.000000\n",
              "1192  99999.0    NaN  ...            NaN            2.912621\n",
              "1193     66.0    NaN  ...    2521.479154            1.666264\n",
              "2721     69.0    NaN  ...     159.582185            2.272727\n",
              "3577     78.0    NaN  ...    1254.801059            1.560178\n",
              "\n",
              "[5 rows x 9 columns]"
            ]
          },
          "metadata": {
            "tags": []
          },
          "execution_count": 23
        }
      ]
    },
    {
      "cell_type": "markdown",
      "metadata": {
        "id": "JdKofZn7RT6X"
      },
      "source": [
        "These records represent provinces or special COVID groupings irrelevant to the study and can be removed."
      ]
    },
    {
      "cell_type": "code",
      "metadata": {
        "id": "K_QUtwYoSovY",
        "outputId": "11c982d1-aa23-489b-a72e-3e0c96c8681f",
        "colab": {
          "base_uri": "https://localhost:8080/",
          "height": 0
        }
      },
      "source": [
        "covid_us_df = covid_us_df[covid_us_df.County.notna()]\n",
        "covid_us_df.shape"
      ],
      "execution_count": 24,
      "outputs": [
        {
          "output_type": "execute_result",
          "data": {
            "text/plain": [
              "(3256, 9)"
            ]
          },
          "metadata": {
            "tags": []
          },
          "execution_count": 24
        }
      ]
    },
    {
      "cell_type": "code",
      "metadata": {
        "id": "hBLYaT-XWszH",
        "outputId": "40336979-7c87-4fad-ef51-facbddf453a1",
        "colab": {
          "base_uri": "https://localhost:8080/",
          "height": 0
        }
      },
      "source": [
        "covid_us_df.info()"
      ],
      "execution_count": 25,
      "outputs": [
        {
          "output_type": "stream",
          "text": [
            "<class 'pandas.core.frame.DataFrame'>\n",
            "Int64Index: 3256 entries, 633 to 3904\n",
            "Data columns (total 9 columns):\n",
            " #   Column               Non-Null Count  Dtype  \n",
            "---  ------               --------------  -----  \n",
            " 0   FIPS                 3256 non-null   float64\n",
            " 1   County               3256 non-null   object \n",
            " 2   Province_State       3256 non-null   object \n",
            " 3   Country_Region       3256 non-null   object \n",
            " 4   Place                3256 non-null   object \n",
            " 5   Confirmed            3256 non-null   int64  \n",
            " 6   Deaths               3256 non-null   int64  \n",
            " 7   Incidence_Rate       3194 non-null   float64\n",
            " 8   Case-Fatality_Ratio  3222 non-null   float64\n",
            "dtypes: float64(3), int64(2), object(4)\n",
            "memory usage: 254.4+ KB\n"
          ],
          "name": "stdout"
        }
      ]
    },
    {
      "cell_type": "markdown",
      "metadata": {
        "id": "zs4GPZ2zW3PT"
      },
      "source": [
        "There are still NaNs in the following filed not critical to the study: Lat, Long_, Active, Incidence_Rate, Case-Fatality_Ratio.\n",
        "\n",
        "Set these NaNs to a value of zero."
      ]
    },
    {
      "cell_type": "code",
      "metadata": {
        "id": "Rqwm9Ut-Y_EF",
        "outputId": "45b7c426-1383-47d8-f999-29caa1a18bb4",
        "colab": {
          "base_uri": "https://localhost:8080/",
          "height": 0
        }
      },
      "source": [
        "covid_us_df = covid_us_df.fillna({'Lat':0, 'Long_':0, 'Active':0, 'Incidence_Rate':0, 'Case-Fatality_Ratio':0})\n",
        "covid_us_df.info()"
      ],
      "execution_count": 26,
      "outputs": [
        {
          "output_type": "stream",
          "text": [
            "<class 'pandas.core.frame.DataFrame'>\n",
            "Int64Index: 3256 entries, 633 to 3904\n",
            "Data columns (total 9 columns):\n",
            " #   Column               Non-Null Count  Dtype  \n",
            "---  ------               --------------  -----  \n",
            " 0   FIPS                 3256 non-null   float64\n",
            " 1   County               3256 non-null   object \n",
            " 2   Province_State       3256 non-null   object \n",
            " 3   Country_Region       3256 non-null   object \n",
            " 4   Place                3256 non-null   object \n",
            " 5   Confirmed            3256 non-null   int64  \n",
            " 6   Deaths               3256 non-null   int64  \n",
            " 7   Incidence_Rate       3256 non-null   float64\n",
            " 8   Case-Fatality_Ratio  3256 non-null   float64\n",
            "dtypes: float64(3), int64(2), object(4)\n",
            "memory usage: 254.4+ KB\n"
          ],
          "name": "stdout"
        }
      ]
    },
    {
      "cell_type": "markdown",
      "metadata": {
        "id": "68ViEKPRZkcs"
      },
      "source": [
        "All NaNs addressed.  Check column statistics to identify any other missing data"
      ]
    },
    {
      "cell_type": "code",
      "metadata": {
        "id": "yd-9h6aBPUO1",
        "outputId": "661ea139-6e18-4ac6-a940-09d33b685a0c",
        "colab": {
          "base_uri": "https://localhost:8080/",
          "height": 0
        }
      },
      "source": [
        "covid_us_df.describe(include='all')"
      ],
      "execution_count": 27,
      "outputs": [
        {
          "output_type": "execute_result",
          "data": {
            "text/html": [
              "<div>\n",
              "<style scoped>\n",
              "    .dataframe tbody tr th:only-of-type {\n",
              "        vertical-align: middle;\n",
              "    }\n",
              "\n",
              "    .dataframe tbody tr th {\n",
              "        vertical-align: top;\n",
              "    }\n",
              "\n",
              "    .dataframe thead th {\n",
              "        text-align: right;\n",
              "    }\n",
              "</style>\n",
              "<table border=\"1\" class=\"dataframe\">\n",
              "  <thead>\n",
              "    <tr style=\"text-align: right;\">\n",
              "      <th></th>\n",
              "      <th>FIPS</th>\n",
              "      <th>County</th>\n",
              "      <th>Province_State</th>\n",
              "      <th>Country_Region</th>\n",
              "      <th>Place</th>\n",
              "      <th>Confirmed</th>\n",
              "      <th>Deaths</th>\n",
              "      <th>Incidence_Rate</th>\n",
              "      <th>Case-Fatality_Ratio</th>\n",
              "    </tr>\n",
              "  </thead>\n",
              "  <tbody>\n",
              "    <tr>\n",
              "      <th>count</th>\n",
              "      <td>3256.000000</td>\n",
              "      <td>3256</td>\n",
              "      <td>3256</td>\n",
              "      <td>3256</td>\n",
              "      <td>3256</td>\n",
              "      <td>3256.000000</td>\n",
              "      <td>3256.000000</td>\n",
              "      <td>3256.000000</td>\n",
              "      <td>3256.000000</td>\n",
              "    </tr>\n",
              "    <tr>\n",
              "      <th>unique</th>\n",
              "      <td>NaN</td>\n",
              "      <td>1911</td>\n",
              "      <td>52</td>\n",
              "      <td>1</td>\n",
              "      <td>3256</td>\n",
              "      <td>NaN</td>\n",
              "      <td>NaN</td>\n",
              "      <td>NaN</td>\n",
              "      <td>NaN</td>\n",
              "    </tr>\n",
              "    <tr>\n",
              "      <th>top</th>\n",
              "      <td>NaN</td>\n",
              "      <td>Unassigned</td>\n",
              "      <td>Texas</td>\n",
              "      <td>US</td>\n",
              "      <td>Noxubee, Mississippi, US</td>\n",
              "      <td>NaN</td>\n",
              "      <td>NaN</td>\n",
              "      <td>NaN</td>\n",
              "      <td>NaN</td>\n",
              "    </tr>\n",
              "    <tr>\n",
              "      <th>freq</th>\n",
              "      <td>NaN</td>\n",
              "      <td>51</td>\n",
              "      <td>255</td>\n",
              "      <td>3256</td>\n",
              "      <td>1</td>\n",
              "      <td>NaN</td>\n",
              "      <td>NaN</td>\n",
              "      <td>NaN</td>\n",
              "      <td>NaN</td>\n",
              "    </tr>\n",
              "    <tr>\n",
              "      <th>mean</th>\n",
              "      <td>32367.711302</td>\n",
              "      <td>NaN</td>\n",
              "      <td>NaN</td>\n",
              "      <td>NaN</td>\n",
              "      <td>NaN</td>\n",
              "      <td>2594.035319</td>\n",
              "      <td>68.644042</td>\n",
              "      <td>2453.996859</td>\n",
              "      <td>2.078430</td>\n",
              "    </tr>\n",
              "    <tr>\n",
              "      <th>std</th>\n",
              "      <td>17894.506633</td>\n",
              "      <td>NaN</td>\n",
              "      <td>NaN</td>\n",
              "      <td>NaN</td>\n",
              "      <td>NaN</td>\n",
              "      <td>9952.812883</td>\n",
              "      <td>331.431406</td>\n",
              "      <td>1650.282530</td>\n",
              "      <td>3.274205</td>\n",
              "    </tr>\n",
              "    <tr>\n",
              "      <th>min</th>\n",
              "      <td>1001.000000</td>\n",
              "      <td>NaN</td>\n",
              "      <td>NaN</td>\n",
              "      <td>NaN</td>\n",
              "      <td>NaN</td>\n",
              "      <td>0.000000</td>\n",
              "      <td>0.000000</td>\n",
              "      <td>0.000000</td>\n",
              "      <td>0.000000</td>\n",
              "    </tr>\n",
              "    <tr>\n",
              "      <th>25%</th>\n",
              "      <td>19054.500000</td>\n",
              "      <td>NaN</td>\n",
              "      <td>NaN</td>\n",
              "      <td>NaN</td>\n",
              "      <td>NaN</td>\n",
              "      <td>199.000000</td>\n",
              "      <td>2.000000</td>\n",
              "      <td>1308.989333</td>\n",
              "      <td>0.702929</td>\n",
              "    </tr>\n",
              "    <tr>\n",
              "      <th>50%</th>\n",
              "      <td>30068.000000</td>\n",
              "      <td>NaN</td>\n",
              "      <td>NaN</td>\n",
              "      <td>NaN</td>\n",
              "      <td>NaN</td>\n",
              "      <td>562.000000</td>\n",
              "      <td>9.000000</td>\n",
              "      <td>2169.107812</td>\n",
              "      <td>1.531170</td>\n",
              "    </tr>\n",
              "    <tr>\n",
              "      <th>75%</th>\n",
              "      <td>47035.500000</td>\n",
              "      <td>NaN</td>\n",
              "      <td>NaN</td>\n",
              "      <td>NaN</td>\n",
              "      <td>NaN</td>\n",
              "      <td>1596.500000</td>\n",
              "      <td>32.000000</td>\n",
              "      <td>3263.993947</td>\n",
              "      <td>2.708753</td>\n",
              "    </tr>\n",
              "    <tr>\n",
              "      <th>max</th>\n",
              "      <td>90056.000000</td>\n",
              "      <td>NaN</td>\n",
              "      <td>NaN</td>\n",
              "      <td>NaN</td>\n",
              "      <td>NaN</td>\n",
              "      <td>296821.000000</td>\n",
              "      <td>7381.000000</td>\n",
              "      <td>17659.705160</td>\n",
              "      <td>100.000000</td>\n",
              "    </tr>\n",
              "  </tbody>\n",
              "</table>\n",
              "</div>"
            ],
            "text/plain": [
              "                FIPS      County  ... Incidence_Rate Case-Fatality_Ratio\n",
              "count    3256.000000        3256  ...    3256.000000         3256.000000\n",
              "unique           NaN        1911  ...            NaN                 NaN\n",
              "top              NaN  Unassigned  ...            NaN                 NaN\n",
              "freq             NaN          51  ...            NaN                 NaN\n",
              "mean    32367.711302         NaN  ...    2453.996859            2.078430\n",
              "std     17894.506633         NaN  ...    1650.282530            3.274205\n",
              "min      1001.000000         NaN  ...       0.000000            0.000000\n",
              "25%     19054.500000         NaN  ...    1308.989333            0.702929\n",
              "50%     30068.000000         NaN  ...    2169.107812            1.531170\n",
              "75%     47035.500000         NaN  ...    3263.993947            2.708753\n",
              "max     90056.000000         NaN  ...   17659.705160          100.000000\n",
              "\n",
              "[11 rows x 9 columns]"
            ]
          },
          "metadata": {
            "tags": []
          },
          "execution_count": 27
        }
      ]
    },
    {
      "cell_type": "markdown",
      "metadata": {
        "id": "unnr7B7fPyV4"
      },
      "source": [
        "Note \"Unassigned\" is the most frequent value in the \"admin2\" column, which represents a county.  \n",
        "\n",
        "This field should not be unassigned and needs to be investigated."
      ]
    },
    {
      "cell_type": "code",
      "metadata": {
        "id": "NhmQuxFaZMHC",
        "outputId": "94724549-f38d-4f89-ca08-ff5b31603e4d",
        "colab": {
          "base_uri": "https://localhost:8080/",
          "height": 0
        }
      },
      "source": [
        "unassigned_df = covid_us_df[covid_us_df.County == \"Unassigned\"] \n",
        "unassigned_df.shape"
      ],
      "execution_count": 28,
      "outputs": [
        {
          "output_type": "execute_result",
          "data": {
            "text/plain": [
              "(51, 9)"
            ]
          },
          "metadata": {
            "tags": []
          },
          "execution_count": 28
        }
      ]
    },
    {
      "cell_type": "code",
      "metadata": {
        "id": "BeuPnFjdGaiZ",
        "outputId": "fc4b97b0-cef6-4db8-fec7-4f92ea202875",
        "colab": {
          "base_uri": "https://localhost:8080/",
          "height": 0
        }
      },
      "source": [
        "unassigned_df.sample(10)"
      ],
      "execution_count": 29,
      "outputs": [
        {
          "output_type": "execute_result",
          "data": {
            "text/html": [
              "<div>\n",
              "<style scoped>\n",
              "    .dataframe tbody tr th:only-of-type {\n",
              "        vertical-align: middle;\n",
              "    }\n",
              "\n",
              "    .dataframe tbody tr th {\n",
              "        vertical-align: top;\n",
              "    }\n",
              "\n",
              "    .dataframe thead th {\n",
              "        text-align: right;\n",
              "    }\n",
              "</style>\n",
              "<table border=\"1\" class=\"dataframe\">\n",
              "  <thead>\n",
              "    <tr style=\"text-align: right;\">\n",
              "      <th></th>\n",
              "      <th>FIPS</th>\n",
              "      <th>County</th>\n",
              "      <th>Province_State</th>\n",
              "      <th>Country_Region</th>\n",
              "      <th>Place</th>\n",
              "      <th>Confirmed</th>\n",
              "      <th>Deaths</th>\n",
              "      <th>Incidence_Rate</th>\n",
              "      <th>Case-Fatality_Ratio</th>\n",
              "    </tr>\n",
              "  </thead>\n",
              "  <tbody>\n",
              "    <tr>\n",
              "      <th>2466</th>\n",
              "      <td>90034.0</td>\n",
              "      <td>Unassigned</td>\n",
              "      <td>New Jersey</td>\n",
              "      <td>US</td>\n",
              "      <td>Unassigned, New Jersey, US</td>\n",
              "      <td>432</td>\n",
              "      <td>0</td>\n",
              "      <td>0.0</td>\n",
              "      <td>0.000000</td>\n",
              "    </tr>\n",
              "    <tr>\n",
              "      <th>1890</th>\n",
              "      <td>90025.0</td>\n",
              "      <td>Unassigned</td>\n",
              "      <td>Massachusetts</td>\n",
              "      <td>US</td>\n",
              "      <td>Unassigned, Massachusetts, US</td>\n",
              "      <td>3693</td>\n",
              "      <td>5</td>\n",
              "      <td>0.0</td>\n",
              "      <td>0.135391</td>\n",
              "    </tr>\n",
              "    <tr>\n",
              "      <th>2259</th>\n",
              "      <td>90029.0</td>\n",
              "      <td>Unassigned</td>\n",
              "      <td>Missouri</td>\n",
              "      <td>US</td>\n",
              "      <td>Unassigned, Missouri, US</td>\n",
              "      <td>0</td>\n",
              "      <td>0</td>\n",
              "      <td>0.0</td>\n",
              "      <td>0.000000</td>\n",
              "    </tr>\n",
              "    <tr>\n",
              "      <th>816</th>\n",
              "      <td>90005.0</td>\n",
              "      <td>Unassigned</td>\n",
              "      <td>Arkansas</td>\n",
              "      <td>US</td>\n",
              "      <td>Unassigned, Arkansas, US</td>\n",
              "      <td>2142</td>\n",
              "      <td>0</td>\n",
              "      <td>0.0</td>\n",
              "      <td>0.000000</td>\n",
              "    </tr>\n",
              "    <tr>\n",
              "      <th>1429</th>\n",
              "      <td>90018.0</td>\n",
              "      <td>Unassigned</td>\n",
              "      <td>Indiana</td>\n",
              "      <td>US</td>\n",
              "      <td>Unassigned, Indiana, US</td>\n",
              "      <td>0</td>\n",
              "      <td>234</td>\n",
              "      <td>0.0</td>\n",
              "      <td>0.000000</td>\n",
              "    </tr>\n",
              "    <tr>\n",
              "      <th>2920</th>\n",
              "      <td>90041.0</td>\n",
              "      <td>Unassigned</td>\n",
              "      <td>Oregon</td>\n",
              "      <td>US</td>\n",
              "      <td>Unassigned, Oregon, US</td>\n",
              "      <td>0</td>\n",
              "      <td>0</td>\n",
              "      <td>0.0</td>\n",
              "      <td>0.000000</td>\n",
              "    </tr>\n",
              "    <tr>\n",
              "      <th>2319</th>\n",
              "      <td>90030.0</td>\n",
              "      <td>Unassigned</td>\n",
              "      <td>Montana</td>\n",
              "      <td>US</td>\n",
              "      <td>Unassigned, Montana, US</td>\n",
              "      <td>0</td>\n",
              "      <td>0</td>\n",
              "      <td>0.0</td>\n",
              "      <td>0.000000</td>\n",
              "    </tr>\n",
              "    <tr>\n",
              "      <th>3902</th>\n",
              "      <td>90056.0</td>\n",
              "      <td>Unassigned</td>\n",
              "      <td>Wyoming</td>\n",
              "      <td>US</td>\n",
              "      <td>Unassigned, Wyoming, US</td>\n",
              "      <td>0</td>\n",
              "      <td>0</td>\n",
              "      <td>0.0</td>\n",
              "      <td>0.000000</td>\n",
              "    </tr>\n",
              "    <tr>\n",
              "      <th>1529</th>\n",
              "      <td>90019.0</td>\n",
              "      <td>Unassigned</td>\n",
              "      <td>Iowa</td>\n",
              "      <td>US</td>\n",
              "      <td>Unassigned, Iowa, US</td>\n",
              "      <td>8</td>\n",
              "      <td>0</td>\n",
              "      <td>0.0</td>\n",
              "      <td>0.000000</td>\n",
              "    </tr>\n",
              "    <tr>\n",
              "      <th>697</th>\n",
              "      <td>90001.0</td>\n",
              "      <td>Unassigned</td>\n",
              "      <td>Alabama</td>\n",
              "      <td>US</td>\n",
              "      <td>Unassigned, Alabama, US</td>\n",
              "      <td>0</td>\n",
              "      <td>0</td>\n",
              "      <td>0.0</td>\n",
              "      <td>0.000000</td>\n",
              "    </tr>\n",
              "  </tbody>\n",
              "</table>\n",
              "</div>"
            ],
            "text/plain": [
              "         FIPS      County  ... Incidence_Rate Case-Fatality_Ratio\n",
              "2466  90034.0  Unassigned  ...            0.0            0.000000\n",
              "1890  90025.0  Unassigned  ...            0.0            0.135391\n",
              "2259  90029.0  Unassigned  ...            0.0            0.000000\n",
              "816   90005.0  Unassigned  ...            0.0            0.000000\n",
              "1429  90018.0  Unassigned  ...            0.0            0.000000\n",
              "2920  90041.0  Unassigned  ...            0.0            0.000000\n",
              "2319  90030.0  Unassigned  ...            0.0            0.000000\n",
              "3902  90056.0  Unassigned  ...            0.0            0.000000\n",
              "1529  90019.0  Unassigned  ...            0.0            0.000000\n",
              "697   90001.0  Unassigned  ...            0.0            0.000000\n",
              "\n",
              "[10 rows x 9 columns]"
            ]
          },
          "metadata": {
            "tags": []
          },
          "execution_count": 29
        }
      ]
    },
    {
      "cell_type": "markdown",
      "metadata": {
        "id": "WrtMcFieGk-l"
      },
      "source": [
        "Records with county field value of \"Unassigned\" represent states.\n",
        "\n",
        "The study is looking at county-level population denisty, so state records are irrelevant and can be removed.\n",
        "\n",
        "Remove the records with the county \"Unassigned\"."
      ]
    },
    {
      "cell_type": "code",
      "metadata": {
        "id": "aagtYCexfDpP",
        "outputId": "606e0f59-8158-45e7-961a-1fda81ca023e",
        "colab": {
          "base_uri": "https://localhost:8080/",
          "height": 0
        }
      },
      "source": [
        "covid_counties_df = covid_us_df[covid_us_df.County != \"Unassigned\"]\n",
        "covid_counties_df.shape"
      ],
      "execution_count": 30,
      "outputs": [
        {
          "output_type": "execute_result",
          "data": {
            "text/plain": [
              "(3205, 9)"
            ]
          },
          "metadata": {
            "tags": []
          },
          "execution_count": 30
        }
      ]
    },
    {
      "cell_type": "markdown",
      "metadata": {
        "id": "5y1FCP10nEE3"
      },
      "source": [
        "### 1.4 - Verify Data Types"
      ]
    },
    {
      "cell_type": "code",
      "metadata": {
        "id": "0AGH90WGgfwp",
        "outputId": "90026893-4a0a-4cc9-b2cc-51ac5b6cd084",
        "colab": {
          "base_uri": "https://localhost:8080/",
          "height": 0
        }
      },
      "source": [
        "covid_counties_df.dtypes"
      ],
      "execution_count": 31,
      "outputs": [
        {
          "output_type": "execute_result",
          "data": {
            "text/plain": [
              "FIPS                   float64\n",
              "County                  object\n",
              "Province_State          object\n",
              "Country_Region          object\n",
              "Place                   object\n",
              "Confirmed                int64\n",
              "Deaths                   int64\n",
              "Incidence_Rate         float64\n",
              "Case-Fatality_Ratio    float64\n",
              "dtype: object"
            ]
          },
          "metadata": {
            "tags": []
          },
          "execution_count": 31
        }
      ]
    },
    {
      "cell_type": "markdown",
      "metadata": {
        "id": "EI1EelUkg6bL"
      },
      "source": [
        "FIPS code was read in as float because there were NaNs and that is a float type.\n",
        "\n",
        "FIPS should be integer, so recast the column from float64 to int\n",
        "\n",
        "Reference: https://stackoverflow.com/questions/49728421/pandas-dataframe-settingwithcopywarning-a-value-is-trying-to-be-set-on-a-copy"
      ]
    },
    {
      "cell_type": "code",
      "metadata": {
        "id": "-rmne126rD7O"
      },
      "source": [
        "covid_counties_df = covid_counties_df.assign(FIPS=lambda x: x['FIPS'].astype(int))"
      ],
      "execution_count": 32,
      "outputs": []
    },
    {
      "cell_type": "code",
      "metadata": {
        "id": "N_Mxw4fF3Sca",
        "outputId": "8d280716-65fe-4a19-95e8-f1faf20f534a",
        "colab": {
          "base_uri": "https://localhost:8080/",
          "height": 0
        }
      },
      "source": [
        "covid_counties_df.sample(5)"
      ],
      "execution_count": 33,
      "outputs": [
        {
          "output_type": "execute_result",
          "data": {
            "text/html": [
              "<div>\n",
              "<style scoped>\n",
              "    .dataframe tbody tr th:only-of-type {\n",
              "        vertical-align: middle;\n",
              "    }\n",
              "\n",
              "    .dataframe tbody tr th {\n",
              "        vertical-align: top;\n",
              "    }\n",
              "\n",
              "    .dataframe thead th {\n",
              "        text-align: right;\n",
              "    }\n",
              "</style>\n",
              "<table border=\"1\" class=\"dataframe\">\n",
              "  <thead>\n",
              "    <tr style=\"text-align: right;\">\n",
              "      <th></th>\n",
              "      <th>FIPS</th>\n",
              "      <th>County</th>\n",
              "      <th>Province_State</th>\n",
              "      <th>Country_Region</th>\n",
              "      <th>Place</th>\n",
              "      <th>Confirmed</th>\n",
              "      <th>Deaths</th>\n",
              "      <th>Incidence_Rate</th>\n",
              "      <th>Case-Fatality_Ratio</th>\n",
              "    </tr>\n",
              "  </thead>\n",
              "  <tbody>\n",
              "    <tr>\n",
              "      <th>3221</th>\n",
              "      <td>47051</td>\n",
              "      <td>Franklin</td>\n",
              "      <td>Tennessee</td>\n",
              "      <td>US</td>\n",
              "      <td>Franklin, Tennessee, US</td>\n",
              "      <td>1263</td>\n",
              "      <td>17</td>\n",
              "      <td>2992.323730</td>\n",
              "      <td>1.346002</td>\n",
              "    </tr>\n",
              "    <tr>\n",
              "      <th>2443</th>\n",
              "      <td>33015</td>\n",
              "      <td>Rockingham</td>\n",
              "      <td>New Hampshire</td>\n",
              "      <td>US</td>\n",
              "      <td>Rockingham, New Hampshire, US</td>\n",
              "      <td>2484</td>\n",
              "      <td>105</td>\n",
              "      <td>801.887858</td>\n",
              "      <td>4.227053</td>\n",
              "    </tr>\n",
              "    <tr>\n",
              "      <th>3888</th>\n",
              "      <td>56015</td>\n",
              "      <td>Goshen</td>\n",
              "      <td>Wyoming</td>\n",
              "      <td>US</td>\n",
              "      <td>Goshen, Wyoming, US</td>\n",
              "      <td>148</td>\n",
              "      <td>3</td>\n",
              "      <td>1120.278556</td>\n",
              "      <td>2.027027</td>\n",
              "    </tr>\n",
              "    <tr>\n",
              "      <th>2013</th>\n",
              "      <td>27069</td>\n",
              "      <td>Kittson</td>\n",
              "      <td>Minnesota</td>\n",
              "      <td>US</td>\n",
              "      <td>Kittson, Minnesota, US</td>\n",
              "      <td>38</td>\n",
              "      <td>0</td>\n",
              "      <td>884.132154</td>\n",
              "      <td>0.000000</td>\n",
              "    </tr>\n",
              "    <tr>\n",
              "      <th>3368</th>\n",
              "      <td>48151</td>\n",
              "      <td>Fisher</td>\n",
              "      <td>Texas</td>\n",
              "      <td>US</td>\n",
              "      <td>Fisher, Texas, US</td>\n",
              "      <td>96</td>\n",
              "      <td>3</td>\n",
              "      <td>2506.527415</td>\n",
              "      <td>3.125000</td>\n",
              "    </tr>\n",
              "  </tbody>\n",
              "</table>\n",
              "</div>"
            ],
            "text/plain": [
              "       FIPS      County  ... Incidence_Rate Case-Fatality_Ratio\n",
              "3221  47051    Franklin  ...    2992.323730            1.346002\n",
              "2443  33015  Rockingham  ...     801.887858            4.227053\n",
              "3888  56015      Goshen  ...    1120.278556            2.027027\n",
              "2013  27069     Kittson  ...     884.132154            0.000000\n",
              "3368  48151      Fisher  ...    2506.527415            3.125000\n",
              "\n",
              "[5 rows x 9 columns]"
            ]
          },
          "metadata": {
            "tags": []
          },
          "execution_count": 33
        }
      ]
    },
    {
      "cell_type": "markdown",
      "metadata": {
        "id": "BmmHKz07r8EL"
      },
      "source": [
        "Number of Provinces/States"
      ]
    },
    {
      "cell_type": "code",
      "metadata": {
        "id": "-VJ31vEXiha9",
        "outputId": "561bd155-5b28-42a6-f144-e8d33a8a559f",
        "colab": {
          "base_uri": "https://localhost:8080/",
          "height": 0
        }
      },
      "source": [
        "covid_counties_df.Province_State.unique()"
      ],
      "execution_count": 34,
      "outputs": [
        {
          "output_type": "execute_result",
          "data": {
            "text/plain": [
              "array(['Alabama', 'Alaska', 'Arizona', 'Arkansas', 'California',\n",
              "       'Colorado', 'Connecticut', 'Delaware', 'District of Columbia',\n",
              "       'Florida', 'Georgia', 'Hawaii', 'Idaho', 'Illinois', 'Indiana',\n",
              "       'Iowa', 'Kansas', 'Kentucky', 'Louisiana', 'Maine', 'Maryland',\n",
              "       'Massachusetts', 'Michigan', 'Minnesota', 'Mississippi',\n",
              "       'Missouri', 'Montana', 'Nebraska', 'Nevada', 'New Hampshire',\n",
              "       'New Jersey', 'New Mexico', 'New York', 'North Carolina',\n",
              "       'North Dakota', 'Ohio', 'Oklahoma', 'Oregon', 'Pennsylvania',\n",
              "       'Puerto Rico', 'Rhode Island', 'South Carolina', 'South Dakota',\n",
              "       'Tennessee', 'Texas', 'Utah', 'Vermont', 'Virginia', 'Washington',\n",
              "       'West Virginia', 'Wisconsin', 'Wyoming'], dtype=object)"
            ]
          },
          "metadata": {
            "tags": []
          },
          "execution_count": 34
        }
      ]
    },
    {
      "cell_type": "code",
      "metadata": {
        "id": "aMv9-nNgi4NZ",
        "outputId": "8651d510-ee7e-48a8-cdc0-1f735b3b7cdf",
        "colab": {
          "base_uri": "https://localhost:8080/",
          "height": 0
        }
      },
      "source": [
        "num_provinces_states = len(covid_counties_df.Province_State.unique())\n",
        "num_provinces_states"
      ],
      "execution_count": 35,
      "outputs": [
        {
          "output_type": "execute_result",
          "data": {
            "text/plain": [
              "52"
            ]
          },
          "metadata": {
            "tags": []
          },
          "execution_count": 35
        }
      ]
    },
    {
      "cell_type": "markdown",
      "metadata": {
        "id": "tKhU8UtDtRO-"
      },
      "source": [
        "Note that Puerto Rico and Washington, DC are included in the study."
      ]
    },
    {
      "cell_type": "markdown",
      "metadata": {
        "id": "elyza89kRyOr"
      },
      "source": [
        "### 1.5 - Pandas Profile Report"
      ]
    },
    {
      "cell_type": "code",
      "metadata": {
        "id": "ahojpJcV6f_O",
        "outputId": "f79cf0fd-49e0-42f1-8ff7-ab45829bf9a0",
        "colab": {
          "base_uri": "https://localhost:8080/",
          "height": 33
        }
      },
      "source": [
        "type(covid_counties_df)"
      ],
      "execution_count": 36,
      "outputs": [
        {
          "output_type": "execute_result",
          "data": {
            "text/plain": [
              "pandas.core.frame.DataFrame"
            ]
          },
          "metadata": {
            "tags": []
          },
          "execution_count": 36
        }
      ]
    },
    {
      "cell_type": "code",
      "metadata": {
        "id": "zae_hjJmWN0j",
        "outputId": "08f381c7-80d3-4ff7-db9f-83a083793d45",
        "colab": {
          "base_uri": "https://localhost:8080/",
          "height": 426
        }
      },
      "source": [
        "prof = ProfileReport(covid_counties_df, minimal=True)\n",
        "prof.to_file(output_file=\"covid19_daily_report.html\")\n",
        "prof"
      ],
      "execution_count": 37,
      "outputs": [
        {
          "output_type": "error",
          "ename": "OSError",
          "evalue": "ignored",
          "traceback": [
            "\u001b[0;31m---------------------------------------------------------------------------\u001b[0m",
            "\u001b[0;31mFileNotFoundError\u001b[0m                         Traceback (most recent call last)",
            "\u001b[0;32m/usr/local/lib/python3.6/dist-packages/matplotlib/style/core.py\u001b[0m in \u001b[0;36muse\u001b[0;34m(style)\u001b[0m\n\u001b[1;32m    113\u001b[0m             \u001b[0;32mtry\u001b[0m\u001b[0;34m:\u001b[0m\u001b[0;34m\u001b[0m\u001b[0;34m\u001b[0m\u001b[0m\n\u001b[0;32m--> 114\u001b[0;31m                 \u001b[0mrc\u001b[0m \u001b[0;34m=\u001b[0m \u001b[0mrc_params_from_file\u001b[0m\u001b[0;34m(\u001b[0m\u001b[0mstyle\u001b[0m\u001b[0;34m,\u001b[0m \u001b[0muse_default_template\u001b[0m\u001b[0;34m=\u001b[0m\u001b[0;32mFalse\u001b[0m\u001b[0;34m)\u001b[0m\u001b[0;34m\u001b[0m\u001b[0;34m\u001b[0m\u001b[0m\n\u001b[0m\u001b[1;32m    115\u001b[0m                 \u001b[0m_apply_style\u001b[0m\u001b[0;34m(\u001b[0m\u001b[0mrc\u001b[0m\u001b[0;34m)\u001b[0m\u001b[0;34m\u001b[0m\u001b[0;34m\u001b[0m\u001b[0m\n",
            "\u001b[0;32m/usr/local/lib/python3.6/dist-packages/matplotlib/__init__.py\u001b[0m in \u001b[0;36mrc_params_from_file\u001b[0;34m(fname, fail_on_error, use_default_template)\u001b[0m\n\u001b[1;32m    983\u001b[0m     \"\"\"\n\u001b[0;32m--> 984\u001b[0;31m     \u001b[0mconfig_from_file\u001b[0m \u001b[0;34m=\u001b[0m \u001b[0m_rc_params_in_file\u001b[0m\u001b[0;34m(\u001b[0m\u001b[0mfname\u001b[0m\u001b[0;34m,\u001b[0m \u001b[0mfail_on_error\u001b[0m\u001b[0;34m)\u001b[0m\u001b[0;34m\u001b[0m\u001b[0;34m\u001b[0m\u001b[0m\n\u001b[0m\u001b[1;32m    985\u001b[0m \u001b[0;34m\u001b[0m\u001b[0m\n",
            "\u001b[0;32m/usr/local/lib/python3.6/dist-packages/matplotlib/__init__.py\u001b[0m in \u001b[0;36m_rc_params_in_file\u001b[0;34m(fname, fail_on_error)\u001b[0m\n\u001b[1;32m    913\u001b[0m     \u001b[0mrc_temp\u001b[0m \u001b[0;34m=\u001b[0m \u001b[0;34m{\u001b[0m\u001b[0;34m}\u001b[0m\u001b[0;34m\u001b[0m\u001b[0;34m\u001b[0m\u001b[0m\n\u001b[0;32m--> 914\u001b[0;31m     \u001b[0;32mwith\u001b[0m \u001b[0m_open_file_or_url\u001b[0m\u001b[0;34m(\u001b[0m\u001b[0mfname\u001b[0m\u001b[0;34m)\u001b[0m \u001b[0;32mas\u001b[0m \u001b[0mfd\u001b[0m\u001b[0;34m:\u001b[0m\u001b[0;34m\u001b[0m\u001b[0;34m\u001b[0m\u001b[0m\n\u001b[0m\u001b[1;32m    915\u001b[0m         \u001b[0;32mtry\u001b[0m\u001b[0;34m:\u001b[0m\u001b[0;34m\u001b[0m\u001b[0;34m\u001b[0m\u001b[0m\n",
            "\u001b[0;32m/usr/lib/python3.6/contextlib.py\u001b[0m in \u001b[0;36m__enter__\u001b[0;34m(self)\u001b[0m\n\u001b[1;32m     80\u001b[0m         \u001b[0;32mtry\u001b[0m\u001b[0;34m:\u001b[0m\u001b[0;34m\u001b[0m\u001b[0;34m\u001b[0m\u001b[0m\n\u001b[0;32m---> 81\u001b[0;31m             \u001b[0;32mreturn\u001b[0m \u001b[0mnext\u001b[0m\u001b[0;34m(\u001b[0m\u001b[0mself\u001b[0m\u001b[0;34m.\u001b[0m\u001b[0mgen\u001b[0m\u001b[0;34m)\u001b[0m\u001b[0;34m\u001b[0m\u001b[0;34m\u001b[0m\u001b[0m\n\u001b[0m\u001b[1;32m     82\u001b[0m         \u001b[0;32mexcept\u001b[0m \u001b[0mStopIteration\u001b[0m\u001b[0;34m:\u001b[0m\u001b[0;34m\u001b[0m\u001b[0;34m\u001b[0m\u001b[0m\n",
            "\u001b[0;32m/usr/local/lib/python3.6/dist-packages/matplotlib/__init__.py\u001b[0m in \u001b[0;36m_open_file_or_url\u001b[0;34m(fname)\u001b[0m\n\u001b[1;32m    899\u001b[0m             \u001b[0mencoding\u001b[0m \u001b[0;34m=\u001b[0m \u001b[0;34m\"utf-8\"\u001b[0m\u001b[0;34m\u001b[0m\u001b[0;34m\u001b[0m\u001b[0m\n\u001b[0;32m--> 900\u001b[0;31m         \u001b[0;32mwith\u001b[0m \u001b[0mopen\u001b[0m\u001b[0;34m(\u001b[0m\u001b[0mfname\u001b[0m\u001b[0;34m,\u001b[0m \u001b[0mencoding\u001b[0m\u001b[0;34m=\u001b[0m\u001b[0mencoding\u001b[0m\u001b[0;34m)\u001b[0m \u001b[0;32mas\u001b[0m \u001b[0mf\u001b[0m\u001b[0;34m:\u001b[0m\u001b[0;34m\u001b[0m\u001b[0;34m\u001b[0m\u001b[0m\n\u001b[0m\u001b[1;32m    901\u001b[0m             \u001b[0;32myield\u001b[0m \u001b[0mf\u001b[0m\u001b[0;34m\u001b[0m\u001b[0;34m\u001b[0m\u001b[0m\n",
            "\u001b[0;31mFileNotFoundError\u001b[0m: [Errno 2] No such file or directory: '/usr/local/lib/python3.6/dist-packages/pandas_profiling/pandas_profiling.mplstyle'",
            "\nDuring handling of the above exception, another exception occurred:\n",
            "\u001b[0;31mOSError\u001b[0m                                   Traceback (most recent call last)",
            "\u001b[0;32m<ipython-input-37-1a6315615fe2>\u001b[0m in \u001b[0;36m<module>\u001b[0;34m()\u001b[0m\n\u001b[0;32m----> 1\u001b[0;31m \u001b[0mprof\u001b[0m \u001b[0;34m=\u001b[0m \u001b[0mProfileReport\u001b[0m\u001b[0;34m(\u001b[0m\u001b[0mcovid_counties_df\u001b[0m\u001b[0;34m,\u001b[0m \u001b[0mminimal\u001b[0m\u001b[0;34m=\u001b[0m\u001b[0;32mTrue\u001b[0m\u001b[0;34m)\u001b[0m\u001b[0;34m\u001b[0m\u001b[0;34m\u001b[0m\u001b[0m\n\u001b[0m\u001b[1;32m      2\u001b[0m \u001b[0mprof\u001b[0m\u001b[0;34m.\u001b[0m\u001b[0mto_file\u001b[0m\u001b[0;34m(\u001b[0m\u001b[0moutput_file\u001b[0m\u001b[0;34m=\u001b[0m\u001b[0;34m\"covid19_daily_report.html\"\u001b[0m\u001b[0;34m)\u001b[0m\u001b[0;34m\u001b[0m\u001b[0;34m\u001b[0m\u001b[0m\n\u001b[1;32m      3\u001b[0m \u001b[0mprof\u001b[0m\u001b[0;34m\u001b[0m\u001b[0;34m\u001b[0m\u001b[0m\n",
            "\u001b[0;32m/usr/local/lib/python3.6/dist-packages/pandas_profiling/__init__.py\u001b[0m in \u001b[0;36m__init__\u001b[0;34m(self, df, **kwargs)\u001b[0m\n",
            "\u001b[0;32m/usr/local/lib/python3.6/dist-packages/pandas_profiling/describe.py\u001b[0m in \u001b[0;36mdescribe\u001b[0;34m(df, bins, check_correlation, correlation_threshold, correlation_overrides, check_recoded, pool_size, **kwargs)\u001b[0m\n",
            "\u001b[0;32m/usr/local/lib/python3.6/dist-packages/matplotlib/style/core.py\u001b[0m in \u001b[0;36muse\u001b[0;34m(style)\u001b[0m\n\u001b[1;32m    118\u001b[0m                     \u001b[0;34m\"{!r} not found in the style library and input is not a \"\u001b[0m\u001b[0;34m\u001b[0m\u001b[0;34m\u001b[0m\u001b[0m\n\u001b[1;32m    119\u001b[0m                     \u001b[0;34m\"valid URL or path; see `style.available` for list of \"\u001b[0m\u001b[0;34m\u001b[0m\u001b[0;34m\u001b[0m\u001b[0m\n\u001b[0;32m--> 120\u001b[0;31m                     \"available styles\".format(style))\n\u001b[0m\u001b[1;32m    121\u001b[0m \u001b[0;34m\u001b[0m\u001b[0m\n\u001b[1;32m    122\u001b[0m \u001b[0;34m\u001b[0m\u001b[0m\n",
            "\u001b[0;31mOSError\u001b[0m: '/usr/local/lib/python3.6/dist-packages/pandas_profiling/pandas_profiling.mplstyle' not found in the style library and input is not a valid URL or path; see `style.available` for list of available styles"
          ]
        }
      ]
    },
    {
      "cell_type": "markdown",
      "metadata": {
        "id": "ITZARVlQnQKM"
      },
      "source": [
        "## 2 - Read Population Data"
      ]
    },
    {
      "cell_type": "code",
      "metadata": {
        "id": "craghP2ThdLJ"
      },
      "source": [
        "!wget https://www.ers.usda.gov/webdocs/DataFiles/48747/PopulationEstimates.xls"
      ],
      "execution_count": null,
      "outputs": []
    },
    {
      "cell_type": "code",
      "metadata": {
        "id": "dERz3kcx7xK2"
      },
      "source": [
        "pop_df = pd.read_excel(\"PopulationEstimates.xls\")\n",
        "pop_df.head()"
      ],
      "execution_count": null,
      "outputs": []
    },
    {
      "cell_type": "markdown",
      "metadata": {
        "id": "GItFxS25HhzV"
      },
      "source": [
        "### 2.1 - Cleanup Columns"
      ]
    },
    {
      "cell_type": "markdown",
      "metadata": {
        "id": "2TdQozO6tmm7"
      },
      "source": [
        "Reread the excel file skipping the first two lines."
      ]
    },
    {
      "cell_type": "code",
      "metadata": {
        "id": "B5S8CvTisw6a"
      },
      "source": [
        "columns_of_interest = ['FIPStxt','State','Area_Name','POP_ESTIMATE_2019']\n",
        "pop_df = pd.read_excel(\"PopulationEstimates.xls\", usecols=columns_of_interest, skiprows=2)\n",
        "pop_df.head()"
      ],
      "execution_count": null,
      "outputs": []
    },
    {
      "cell_type": "code",
      "metadata": {
        "id": "YdJ35rNe_FhV"
      },
      "source": [
        "pop_df.shape"
      ],
      "execution_count": null,
      "outputs": []
    },
    {
      "cell_type": "markdown",
      "metadata": {
        "id": "7syoKlNY-d__"
      },
      "source": [
        "### 2.2 - Remove Irrelevant Data"
      ]
    },
    {
      "cell_type": "code",
      "metadata": {
        "id": "A3WsEcvM-ke3"
      },
      "source": [
        "# Look for any \"bad\" States\n",
        "print(pop_df[\"State\"].value_counts())"
      ],
      "execution_count": null,
      "outputs": []
    },
    {
      "cell_type": "markdown",
      "metadata": {
        "id": "FkCBZtp7KO6m"
      },
      "source": [
        "Only the US record is extraneous.  Remove this record since it doesn't represent a state."
      ]
    },
    {
      "cell_type": "code",
      "metadata": {
        "id": "3_5K-vwg_pHD"
      },
      "source": [
        "pop_df = pop_df[pop_df.State != \"US\"]\n",
        "pop_df.shape"
      ],
      "execution_count": null,
      "outputs": []
    },
    {
      "cell_type": "markdown",
      "metadata": {
        "id": "9yekQrWiAT2B"
      },
      "source": [
        "Drop any duplicate rows.\n"
      ]
    },
    {
      "cell_type": "code",
      "metadata": {
        "id": "34qG00GeAXRS"
      },
      "source": [
        "pop_df = pop_df.drop_duplicates()\n",
        "pop_df.shape"
      ],
      "execution_count": null,
      "outputs": []
    },
    {
      "cell_type": "markdown",
      "metadata": {
        "id": "ZKCmwGdaS-vC"
      },
      "source": [
        "No duplicates"
      ]
    },
    {
      "cell_type": "markdown",
      "metadata": {
        "id": "KMnU1Zqm-M2O"
      },
      "source": [
        "### 2.3 - Missing Data Cleanup"
      ]
    },
    {
      "cell_type": "markdown",
      "metadata": {
        "id": "FWU5d3fzKV4D"
      },
      "source": [
        "Visualize the population dataframe to identify any missing data"
      ]
    },
    {
      "cell_type": "code",
      "metadata": {
        "id": "m2EeIasBt12j"
      },
      "source": [
        "msno.matrix(pop_df)"
      ],
      "execution_count": null,
      "outputs": []
    },
    {
      "cell_type": "markdown",
      "metadata": {
        "id": "1tUhijSfhNpu"
      },
      "source": [
        "No Missing Data"
      ]
    },
    {
      "cell_type": "markdown",
      "metadata": {
        "id": "Zz1xfgJK-TLO"
      },
      "source": [
        "### 2.4 - Verify Data Types"
      ]
    },
    {
      "cell_type": "code",
      "metadata": {
        "id": "oEH5xtBvv8yT"
      },
      "source": [
        "pop_df.info()"
      ],
      "execution_count": null,
      "outputs": []
    },
    {
      "cell_type": "code",
      "metadata": {
        "id": "bc0UeaZq-ExI"
      },
      "source": [
        "pop_df.State.unique()"
      ],
      "execution_count": null,
      "outputs": []
    },
    {
      "cell_type": "code",
      "metadata": {
        "id": "S6kRwX7L93rc"
      },
      "source": [
        "num_states = len(pop_df.State.unique())\n",
        "num_states"
      ],
      "execution_count": null,
      "outputs": []
    },
    {
      "cell_type": "markdown",
      "metadata": {
        "id": "_C3uVU5ITIba"
      },
      "source": [
        "The expected 50 states plus Puerto Rico and Washington, DC are included in the study."
      ]
    },
    {
      "cell_type": "markdown",
      "metadata": {
        "id": "c5DD8KlL0tCm"
      },
      "source": [
        "## 3 - Merge County COVID and Population Data"
      ]
    },
    {
      "cell_type": "markdown",
      "metadata": {
        "id": "SzdtDT1GaZ32"
      },
      "source": [
        "### 3.1 - Cleanup FIPS Codes \n",
        "Compare FIPS codes before joining the dataframes to determine any anamoly."
      ]
    },
    {
      "cell_type": "code",
      "metadata": {
        "id": "ifbefhRIOFaB"
      },
      "source": [
        "# Unique FIPS codes in the Covid data for counties.\n",
        "len(covid_counties_df.FIPS.unique())"
      ],
      "execution_count": null,
      "outputs": []
    },
    {
      "cell_type": "code",
      "metadata": {
        "id": "45dcZRgrMbXj"
      },
      "source": [
        "# Unique FIPS codes in the population data for counties.\n",
        "len(pop_df.FIPStxt.unique())"
      ],
      "execution_count": null,
      "outputs": []
    },
    {
      "cell_type": "markdown",
      "metadata": {
        "id": "Vc8RkoenaSZ0"
      },
      "source": [
        "Inspect the different codes to determine if rows can be removed."
      ]
    },
    {
      "cell_type": "code",
      "metadata": {
        "id": "Q8Y_pFAPYpEI"
      },
      "source": [
        "# FIPS codes in the Covid data but not in the population data.\n",
        "no_pop_df = covid_counties_df[~covid_counties_df.FIPS.isin(pop_df.FIPStxt.values)]\n",
        "no_pop_df"
      ],
      "execution_count": null,
      "outputs": []
    },
    {
      "cell_type": "markdown",
      "metadata": {
        "id": "Pq4BT-wca3kl"
      },
      "source": [
        "These records represent non-county level Covid data and can be dropped."
      ]
    },
    {
      "cell_type": "code",
      "metadata": {
        "id": "xnjSaZKYZqi5"
      },
      "source": [
        "# FIPS codes in the population data but not in the Covid data.\n",
        "no_covid_df = pop_df[~pop_df.FIPStxt.isin(covid_counties_df.FIPS.values)]\n",
        "no_covid_df"
      ],
      "execution_count": null,
      "outputs": []
    },
    {
      "cell_type": "markdown",
      "metadata": {
        "id": "wYAblCQhbAEl"
      },
      "source": [
        "These records represent non-county level population data and can be dropped."
      ]
    },
    {
      "cell_type": "markdown",
      "metadata": {
        "id": "37rqcKfDbJAs"
      },
      "source": [
        "### 3.2 - Merge Dataframes\n",
        "Perform inner join to combine the two datafrmes eliminating both extraneous sets of data above."
      ]
    },
    {
      "cell_type": "code",
      "metadata": {
        "id": "7dqouoYJ0k_E"
      },
      "source": [
        "county_df = covid_counties_df.merge(pop_df, how=\"inner\", left_on='FIPS', right_on='FIPStxt').drop(['FIPStxt', 'Area_Name'], axis=1)\n",
        "county_df"
      ],
      "execution_count": null,
      "outputs": []
    },
    {
      "cell_type": "markdown",
      "metadata": {
        "id": "I9UEHD-Ocd8r"
      },
      "source": [
        "Rename and Reorder Columns\n"
      ]
    },
    {
      "cell_type": "code",
      "metadata": {
        "id": "lLKoyGd-cnjf"
      },
      "source": [
        "county_df.rename(columns = {'Country_Region':'Country', 'POP_ESTIMATE_2019':'Population_2019'}, inplace = True)\n",
        "column_order = ['FIPS','County','Province_State','State','Country','Place','Population_2019','Confirmed','Deaths','Incidence_Rate','Case-Fatality_Ratio'] \n",
        "county_df = county_df[column_order] \n",
        "county_df.head(3) "
      ],
      "execution_count": null,
      "outputs": []
    },
    {
      "cell_type": "markdown",
      "metadata": {
        "id": "qJjitvz_sgjo"
      },
      "source": [
        "### 3.3 - Missing Data Cleanup"
      ]
    },
    {
      "cell_type": "code",
      "metadata": {
        "id": "0OADPmD_1vMv"
      },
      "source": [
        "msno.matrix(county_df)"
      ],
      "execution_count": null,
      "outputs": []
    },
    {
      "cell_type": "markdown",
      "metadata": {
        "id": "m0Ogfvwjt6zd"
      },
      "source": [
        "No missing data."
      ]
    },
    {
      "cell_type": "markdown",
      "metadata": {
        "id": "0BU878MUsa2I"
      },
      "source": [
        "### 3.4 - Pandas Profiling Report"
      ]
    },
    {
      "cell_type": "code",
      "metadata": {
        "id": "8gAmTq-cFjsC"
      },
      "source": [
        "prof = ProfileReport(county_df, minimal=True)\n",
        "prof.to_file(output_file=\"counties.html\")\n",
        "prof"
      ],
      "execution_count": null,
      "outputs": []
    },
    {
      "cell_type": "markdown",
      "metadata": {
        "id": "y0PHcIfzf86l"
      },
      "source": [
        "Sample the county data."
      ]
    },
    {
      "cell_type": "code",
      "metadata": {
        "id": "iI_AYbqlEmiW"
      },
      "source": [
        "county_df.sample(10)"
      ],
      "execution_count": null,
      "outputs": []
    },
    {
      "cell_type": "markdown",
      "metadata": {
        "id": "6wHVXSxRfyd7"
      },
      "source": [
        "Sort the county data by population"
      ]
    },
    {
      "cell_type": "code",
      "metadata": {
        "id": "d3U3T4qxGsTn"
      },
      "source": [
        "county_df = county_df.sort_values(by='Population_2019', ascending=False)\n",
        "county_df.head(10)"
      ],
      "execution_count": null,
      "outputs": []
    },
    {
      "cell_type": "markdown",
      "metadata": {
        "id": "ClZnMrsmK5jb"
      },
      "source": [
        "---\n",
        "## 4 - Read Land Area Data"
      ]
    },
    {
      "cell_type": "code",
      "metadata": {
        "id": "16aLhIcpJOTh"
      },
      "source": [
        "!wget https://www2.census.gov/library/publications/2011/compendia/usa-counties/excel/LND01.xls"
      ],
      "execution_count": null,
      "outputs": []
    },
    {
      "cell_type": "markdown",
      "metadata": {
        "id": "GOVnwRhqI9Cd"
      },
      "source": [
        "### 4.1 - Cleanup Columns"
      ]
    },
    {
      "cell_type": "code",
      "metadata": {
        "id": "k_6Gdd9SLe8U"
      },
      "source": [
        "# STCOU - FIPS code for state or county\n",
        "# Areaname - County and State\n",
        "# LND110210D - Land area in square miles, 2010 SQM\n",
        "columns_of_interest = ['Areaname','STCOU','LND110210D']\n",
        "land_area_df = pd.read_excel(\"LND01.xls\", usecols=columns_of_interest, skiprows=0)\n",
        "land_area_df.head()"
      ],
      "execution_count": null,
      "outputs": []
    },
    {
      "cell_type": "code",
      "metadata": {
        "id": "vGymuaRWN-9u"
      },
      "source": [
        "# Perform a test lookup\n",
        "land_area_df[land_area_df.Areaname == 'Howard, MD']"
      ],
      "execution_count": null,
      "outputs": []
    },
    {
      "cell_type": "code",
      "metadata": {
        "id": "SMjY3gBtPu0R"
      },
      "source": [
        "land_area_df.shape"
      ],
      "execution_count": null,
      "outputs": []
    },
    {
      "cell_type": "code",
      "metadata": {
        "id": "_vtNGJ2Qbg5M"
      },
      "source": [
        "land_area_df.info()"
      ],
      "execution_count": null,
      "outputs": []
    },
    {
      "cell_type": "markdown",
      "metadata": {
        "id": "yutg9SIfPGY0"
      },
      "source": [
        "---\n",
        "## 5 -  Merge Land Area and County COVID Data"
      ]
    },
    {
      "cell_type": "markdown",
      "metadata": {
        "id": "ne4ixbMzubRJ"
      },
      "source": [
        "### 5.1 - Cleanup FIPS Codes\n",
        "Compare FIPS codes before joining the dataframes to determine any anamoly."
      ]
    },
    {
      "cell_type": "code",
      "metadata": {
        "id": "MkBj4LJLuixV"
      },
      "source": [
        "# Unique FIPS codes in the county data.\n",
        "len(county_df.FIPS.unique())"
      ],
      "execution_count": null,
      "outputs": []
    },
    {
      "cell_type": "code",
      "metadata": {
        "id": "JyLtJRmpuvZ1"
      },
      "source": [
        "# Unique FIPS codes in the land area data for counties.\n",
        "len(land_area_df.STCOU.unique())"
      ],
      "execution_count": null,
      "outputs": []
    },
    {
      "cell_type": "markdown",
      "metadata": {
        "id": "clEhfT5bvBi-"
      },
      "source": [
        "Inspect the different codes to determine if rows can be removed."
      ]
    },
    {
      "cell_type": "code",
      "metadata": {
        "id": "J1sEzs1PvHCs"
      },
      "source": [
        "# FIPS codes in the County data but not in the Land Area data.\n",
        "no_land_area_df = county_df[~county_df.FIPS.isin(land_area_df.STCOU.values)]\n",
        "no_land_area_df.shape"
      ],
      "execution_count": null,
      "outputs": []
    },
    {
      "cell_type": "code",
      "metadata": {
        "id": "jDWwSAs1vpsv"
      },
      "source": [
        "# FIPS codes in the land area data but not in the Covid data.\n",
        "no_covid_df = land_area_df[~land_area_df.STCOU.isin(county_df.FIPS.values)]\n",
        "no_covid_df.shape"
      ],
      "execution_count": null,
      "outputs": []
    },
    {
      "cell_type": "code",
      "metadata": {
        "id": "5fXgaz56UuZZ"
      },
      "source": [
        "no_covid_df.sample(5)"
      ],
      "execution_count": null,
      "outputs": []
    },
    {
      "cell_type": "markdown",
      "metadata": {
        "id": "hd5DS1Wqv55F"
      },
      "source": [
        "These records represent non-county or incomplete county, covid, population, or land area level data and can be dropped."
      ]
    },
    {
      "cell_type": "markdown",
      "metadata": {
        "id": "p7VVCjAewFHX"
      },
      "source": [
        "### 5.2 - Merge Dataframes\n",
        "Perform inner join to combine the two datafrmes eliminating both extraneous sets of data above."
      ]
    },
    {
      "cell_type": "code",
      "metadata": {
        "id": "n7D4MiUCOmk7"
      },
      "source": [
        "county_df = county_df.merge(land_area_df, how=\"inner\", left_on='FIPS', right_on='STCOU').drop(['STCOU', 'Areaname'], axis=1)\n",
        "county_df.shape"
      ],
      "execution_count": null,
      "outputs": []
    },
    {
      "cell_type": "markdown",
      "metadata": {
        "id": "Yh_CNG_KxPJA"
      },
      "source": [
        "Rename Columns"
      ]
    },
    {
      "cell_type": "code",
      "metadata": {
        "id": "1VLUALjhYuTi"
      },
      "source": [
        "county_df.rename(columns = {'LND110210D':'Land_Area'}, inplace = True)"
      ],
      "execution_count": null,
      "outputs": []
    },
    {
      "cell_type": "code",
      "metadata": {
        "id": "zYj3tEWMVDnQ"
      },
      "source": [
        "county_df.sample(10)"
      ],
      "execution_count": null,
      "outputs": []
    },
    {
      "cell_type": "markdown",
      "metadata": {
        "id": "WtTp4SKuxNcV"
      },
      "source": [
        "### 5.3 - Missing Data Cleanup"
      ]
    },
    {
      "cell_type": "code",
      "metadata": {
        "id": "Qi7z2VmpxNcY"
      },
      "source": [
        "msno.matrix(county_df)"
      ],
      "execution_count": null,
      "outputs": []
    },
    {
      "cell_type": "markdown",
      "metadata": {
        "id": "_bjwY68ZxNcc"
      },
      "source": [
        "No missing data."
      ]
    },
    {
      "cell_type": "markdown",
      "metadata": {
        "id": "4Wj-jiA_b0Hi"
      },
      "source": [
        "### 5.4 - Function: ratio\n",
        "Used to calculate ratios for the study such as:\n",
        "- Population per square mile \n",
        "- Confirmed COVID cases per square mile\n",
        "- COVID deaths per square mile"
      ]
    },
    {
      "cell_type": "code",
      "metadata": {
        "id": "FgE7LqDNRZZn"
      },
      "source": [
        "def ratio(x, y):\n",
        "\n",
        "    # Return ratio as an integer.\n",
        "    return int(x / y)"
      ],
      "execution_count": null,
      "outputs": []
    },
    {
      "cell_type": "markdown",
      "metadata": {
        "id": "PweYjhohfUqs"
      },
      "source": [
        "Test the ```ratio``` function"
      ]
    },
    {
      "cell_type": "code",
      "metadata": {
        "id": "ng4o9Nz3RsZr"
      },
      "source": [
        "# pop_square_mile test (example - more population than square mileage)\n",
        "ratio(10039107, 4057.88)"
      ],
      "execution_count": null,
      "outputs": []
    },
    {
      "cell_type": "code",
      "metadata": {
        "id": "FMqng2_RR7DL"
      },
      "source": [
        "# pop_square_mile test (example - more square mileage than population)\n",
        "ratio(169, 668.93) "
      ],
      "execution_count": null,
      "outputs": []
    },
    {
      "cell_type": "markdown",
      "metadata": {
        "id": "Xo28pNm0dsXp"
      },
      "source": [
        "### 5.5 - Add Square Mileage Ratio Columns\n",
        "Apply the ```ratio``` function to add the following columns to each county record:\n",
        "- Population per Square Mile\n",
        "- Confirmed COVID Cases per Square Mile\n",
        "- COVID Deaths per Square Mile"
      ]
    },
    {
      "cell_type": "code",
      "metadata": {
        "id": "M8GzGCGFPl5l"
      },
      "source": [
        "county_df[\"Pop_Sq_Mile\"] = county_df[[\"Population_2019\", \"Land_Area\"]].apply(lambda x: ratio(*x), axis=1)\n",
        "county_df[\"Confirmed_Sq_Mile\"] = county_df[[\"Confirmed\", \"Land_Area\"]].apply(lambda x: ratio(*x), axis=1)\n",
        "county_df[\"Deaths_Sq_Mile\"] = county_df[[\"Deaths\", \"Land_Area\"]].apply(lambda x: ratio(*x), axis=1)\n",
        "county_df.head()"
      ],
      "execution_count": null,
      "outputs": []
    },
    {
      "cell_type": "markdown",
      "metadata": {
        "id": "4mqfAxvAWk-M"
      },
      "source": [
        "Create a \"Display Name\" field representing the county and state abreviaiton to use in charting labels"
      ]
    },
    {
      "cell_type": "code",
      "metadata": {
        "id": "xV51WOg8x0xm"
      },
      "source": [
        "def place(county, state):\n",
        "    return county + ', ' + state"
      ],
      "execution_count": null,
      "outputs": []
    },
    {
      "cell_type": "code",
      "metadata": {
        "id": "ECZjz-sQzSQ0"
      },
      "source": [
        "county_df[\"Display_Name\"] = county_df[[\"County\", \"State\"]].apply(lambda x: place(*x), axis=1)"
      ],
      "execution_count": null,
      "outputs": []
    },
    {
      "cell_type": "code",
      "metadata": {
        "id": "VT8tToQaWUz0"
      },
      "source": [
        "county_df.head(3)"
      ],
      "execution_count": null,
      "outputs": []
    },
    {
      "cell_type": "markdown",
      "metadata": {
        "id": "riXjqYsAZsL2"
      },
      "source": [
        "Reorder columns\n"
      ]
    },
    {
      "cell_type": "code",
      "metadata": {
        "id": "v0DGolElWCvn"
      },
      "source": [
        "county_df = county_df[['FIPS','County','State','Display_Name','Land_Area',\n",
        "                       'Population_2019','Pop_Sq_Mile',\n",
        "                       'Confirmed','Confirmed_Sq_Mile',\n",
        "                       'Deaths','Deaths_Sq_Mile',\n",
        "                       'Incidence_Rate','Case-Fatality_Ratio']]\n",
        "county_df.sample(5)"
      ],
      "execution_count": null,
      "outputs": []
    },
    {
      "cell_type": "markdown",
      "metadata": {
        "id": "vROeu1AfqeBv"
      },
      "source": [
        "---\n",
        "## 6 - Charting Functions"
      ]
    },
    {
      "cell_type": "markdown",
      "metadata": {
        "id": "5vVtjJ3vPjqv"
      },
      "source": [
        "### 6.1 - Function: scatter_plot"
      ]
    },
    {
      "cell_type": "code",
      "metadata": {
        "id": "hX0ySmnEPDjE"
      },
      "source": [
        "def scatter_plot(x_list, y_list, x_label, y_label, suptitle, title):\n",
        "\n",
        "    assert len(x_list) == len(y_list) # verify lists are of eaual length\n",
        "\n",
        "    plt.figure(figsize=(14, 8))  # in inches   \n",
        "    plt.xlabel('\\n'+ x_label, fontsize=16)\n",
        "    plt.ylabel(y_label + '\\n', fontsize=16)\n",
        "    plt.suptitle(suptitle, fontsize=20, va='bottom')\n",
        "    plt.title(title  + '\\n', fontsize=18, va='center')\n",
        "    plt.ticklabel_format(style='plain')\n",
        "\n",
        "    plt.scatter(x_list, y_list, alpha=1., c=\"blue\", edgecolors='none')\n",
        "\n",
        "    plt.show()"
      ],
      "execution_count": null,
      "outputs": []
    },
    {
      "cell_type": "markdown",
      "metadata": {
        "id": "50ayzY7bsgR-"
      },
      "source": [
        "### 6.2 - Function: scatter_plot_with_labels\n",
        "\n",
        "- Ref: https://www.tutorialexample.com/python-matplotlib-implement-a-scatter-plot-with-labels-a-completed-guide-matplotlib-tutorial/"
      ]
    },
    {
      "cell_type": "code",
      "metadata": {
        "id": "6Nlw_jAjijTB"
      },
      "source": [
        "def scatter_plot_with_labels(x_list, y_list, annotaton_labels, x_label, y_label, suptitle, title):\n",
        "\n",
        "    assert len(x_list) == len(y_list) == len(annotation_labels) # verify all lists are of eaual length\n",
        "\n",
        "    plt.figure(figsize=(14, 8))  # in inches   \n",
        "    plt.xlabel('\\n'+ x_label, fontsize=16)\n",
        "    plt.ylabel(y_label + '\\n', fontsize=16)\n",
        "    plt.suptitle(suptitle, fontsize=20, va='bottom')\n",
        "    plt.title(title  + '\\n', fontsize=18, va='center')\n",
        "    plt.ticklabel_format(style='plain')\n",
        "\n",
        "    for i, label in enumerate(annotation_labels): # get (0, label)\n",
        "        x = x_list[i]\n",
        "        y = y_list[i] \n",
        "        plt.scatter(x, y, c='blue')         \n",
        "        plt.annotate(label,\n",
        "                     xy=(x, y), # show point \n",
        "                     xytext=(0, 4), # show annotate\n",
        "                     textcoords='offset points',\n",
        "                     ha='center',\n",
        "                     va='bottom',\n",
        "                     fontsize=10)\n",
        "\n",
        "    plt.show()"
      ],
      "execution_count": null,
      "outputs": []
    },
    {
      "cell_type": "markdown",
      "metadata": {
        "id": "rORMroW2jsKW"
      },
      "source": [
        "# **Part II - Questions**"
      ]
    },
    {
      "cell_type": "markdown",
      "metadata": {
        "id": "H-U05dX8j6GG"
      },
      "source": [
        "---\n",
        "## Q1 - What counties in the US are the most populated?"
      ]
    },
    {
      "cell_type": "markdown",
      "metadata": {
        "id": "zbFjdqs7ic5a"
      },
      "source": [
        "### Q1.1 - Identify Top 10 Most Populated Counties"
      ]
    },
    {
      "cell_type": "code",
      "metadata": {
        "id": "J3So-ZNOiu7k"
      },
      "source": [
        "most_populated_df = county_df.sort_values(by='Population_2019',ascending=False).head(15) \n",
        "most_pop_df = most_populated_df[['Display_Name','Population_2019']]\n",
        "most_pop_df"
      ],
      "execution_count": null,
      "outputs": []
    },
    {
      "cell_type": "markdown",
      "metadata": {
        "id": "0eZLPFkgpT24"
      },
      "source": [
        "Show the top 15 Most Populated Counties in a bar chart."
      ]
    },
    {
      "cell_type": "code",
      "metadata": {
        "id": "p9MvDdrWmNUM"
      },
      "source": [
        "plt.figure(figsize=(10, 6))\n",
        "plt.ticklabel_format(style='plain')\n",
        "plt.xlabel('\\n'+'Population', fontsize=16)\n",
        "plt.ylabel('County' + '\\n', fontsize=16)\n",
        "plt.title('15 Most Populated Counties', fontsize=20, va='bottom')\n",
        "plt.barh(most_pop_df['Display_Name'], most_pop_df['Population_2019'])\n",
        "plt.show()"
      ],
      "execution_count": null,
      "outputs": []
    },
    {
      "cell_type": "markdown",
      "metadata": {
        "id": "mJzuCVDptE-d"
      },
      "source": [
        "### 1.3 - Histograms of County Populations"
      ]
    },
    {
      "cell_type": "markdown",
      "metadata": {
        "id": "aumiNp79trhi"
      },
      "source": [
        "Show histogram of all county populations"
      ]
    },
    {
      "cell_type": "code",
      "metadata": {
        "id": "DA22J3ZeUhMB"
      },
      "source": [
        "plt.figure(figsize=(14, 6))\n",
        "plt.hist(list(county_df.Population_2019), bins=10)\n",
        "plt.ticklabel_format(style='plain')\n",
        "plt.title('Histogram of All County Populations', fontsize=16)\n",
        "plt.xlabel('County Populations')\n",
        "plt.show()"
      ],
      "execution_count": null,
      "outputs": []
    },
    {
      "cell_type": "markdown",
      "metadata": {
        "id": "pdNceCiLn25w"
      },
      "source": [
        "This chart isn't useful because the majority of counties have populations below 1 million people.  \n",
        "So, rechart two histograms dividing the data at the 1 million population mark."
      ]
    },
    {
      "cell_type": "markdown",
      "metadata": {
        "id": "2oeSvyj1Ya1v"
      },
      "source": [
        "Show histogram for County Populations of 1 Million or more people"
      ]
    },
    {
      "cell_type": "code",
      "metadata": {
        "id": "i5zySnKXrI--"
      },
      "source": [
        "pop_over_1M = county_df[county_df['Population_2019'] >= 1000000]\n",
        "plt.figure(figsize=(16, 6))\n",
        "plt.hist(list(pop_over_1M.Population_2019), bins=9)\n",
        "plt.title('Histogram for County Populations of 1 Million or More People', fontsize=16)\n",
        "plt.ticklabel_format(style='plain')\n",
        "plt.show()"
      ],
      "execution_count": null,
      "outputs": []
    },
    {
      "cell_type": "markdown",
      "metadata": {
        "id": "NgD0AXQqZTE6"
      },
      "source": [
        "This chart shows that 30 counties have between 1 million and 2 million people and about half that many have more thn 2 million people."
      ]
    },
    {
      "cell_type": "markdown",
      "metadata": {
        "id": "8nptV01lrYHm"
      },
      "source": [
        "Now, show histogram bins for counties with population under 1 Million"
      ]
    },
    {
      "cell_type": "code",
      "metadata": {
        "id": "ewXauJDorZdy"
      },
      "source": [
        "pop_under_1M = county_df[county_df['Population_2019'] < 1000000]\n",
        "plt.figure(figsize=(16, 6))\n",
        "plt.hist(list(pop_under_1M.Population_2019), bins=6)\n",
        "plt.title('Histogram for County Populations Under 1 Million People', fontsize=16)\n",
        "plt.ticklabel_format(style='plain')\n",
        "plt.show()"
      ],
      "execution_count": null,
      "outputs": []
    },
    {
      "cell_type": "markdown",
      "metadata": {
        "id": "GWEt2sGmZzR8"
      },
      "source": [
        "This chart shows over 2500 of the counties in the study have less than 200K people.  "
      ]
    },
    {
      "cell_type": "markdown",
      "metadata": {
        "id": "ZS0Nhiz1r4kC"
      },
      "source": [
        "Now, show histogram bins for counties with population under 200 Thousand People"
      ]
    },
    {
      "cell_type": "code",
      "metadata": {
        "id": "NbCLt5-Or7Ep"
      },
      "source": [
        "pop_under_200K = county_df[county_df['Population_2019'] < 200000]\n",
        "plt.figure(figsize=(16, 6))\n",
        "plt.hist(list(pop_under_200K.Population_2019), bins=10)\n",
        "plt.title('Histogram for County Populations Under 200 Thousand People', fontsize=16)\n",
        "plt.ticklabel_format(style='plain')\n",
        "plt.show()"
      ],
      "execution_count": null,
      "outputs": []
    },
    {
      "cell_type": "markdown",
      "metadata": {
        "id": "O9T9_NBCaTYA"
      },
      "source": [
        "So, this chart shows a good distribution of the less populated counties.  Given there are slightly over 3100 counties in the study, this chart shows that more than a third of them have population with less than 25K people.\n",
        "\n",
        "Some of these counties may surface later in the analysis based on their population density."
      ]
    },
    {
      "cell_type": "markdown",
      "metadata": {
        "id": "IjcVqRDEkD2d"
      },
      "source": [
        "---\n",
        "## Q2 - What counties in the US are the most densely populated?"
      ]
    },
    {
      "cell_type": "markdown",
      "metadata": {
        "id": "_JsDFrrHwin1"
      },
      "source": [
        "### Q2.1 - Identify Most Densely Populated Counties\n",
        "Determined by sorting the county dataframe by population per square mile in descending order and saving the top 15 county records. "
      ]
    },
    {
      "cell_type": "code",
      "metadata": {
        "id": "rjmpC07Be61v"
      },
      "source": [
        "most_densely_populated_df = county_df.sort_values(by='Pop_Sq_Mile',ascending=False).head(15) \n",
        "most_dense_df = most_densely_populated_df[['Display_Name','Pop_Sq_Mile']]\n",
        "most_dense_df"
      ],
      "execution_count": null,
      "outputs": []
    },
    {
      "cell_type": "markdown",
      "metadata": {
        "id": "hHMj835FpJtw"
      },
      "source": [
        "Show the top 15 Most Densely Populated Counties in a bar chart."
      ]
    },
    {
      "cell_type": "code",
      "metadata": {
        "id": "qJgxjhaOpIkb"
      },
      "source": [
        "plt.figure(figsize=(10, 6))\n",
        "#plt.ticklabel_format(style='plain')\n",
        "plt.xlabel('\\n'+'Population Per Square Mile', fontsize=16)\n",
        "plt.ylabel('County' + '\\n', fontsize=16)\n",
        "plt.title('15 Most Densely Populated Counties', fontsize=20, va='bottom')\n",
        "plt.barh(most_dense_df['Display_Name'], most_dense_df['Pop_Sq_Mile'])\n",
        "plt.show()"
      ],
      "execution_count": null,
      "outputs": []
    },
    {
      "cell_type": "markdown",
      "metadata": {
        "id": "mHWKrYdnv2qY"
      },
      "source": [
        "### Q2.2 - Histograms of Population Density"
      ]
    },
    {
      "cell_type": "code",
      "metadata": {
        "id": "rlQAJSahv1Qe"
      },
      "source": [
        "plt.figure(figsize=(14, 6))\n",
        "plt.hist(list(county_df.Pop_Sq_Mile), bins=10)\n",
        "plt.ticklabel_format(style='plain')\n",
        "plt.title('Histogram of All County Population Per Square Mile', fontsize=16)\n",
        "plt.xlabel('County Population Per Square Mile')\n",
        "plt.show()"
      ],
      "execution_count": null,
      "outputs": []
    },
    {
      "cell_type": "markdown",
      "metadata": {
        "id": "mSnUpbT6w_Pg"
      },
      "source": [
        "Again, this chart is not very useful since the majority of counties have less than 10K persons per square mile."
      ]
    },
    {
      "cell_type": "markdown",
      "metadata": {
        "id": "U2c6J8cvw3NR"
      },
      "source": [
        "Show histogram for counties with over 10K Persons per square mile since these will map to the counties in the bar chart above."
      ]
    },
    {
      "cell_type": "code",
      "metadata": {
        "id": "2lUaB7giwTsy"
      },
      "source": [
        "pop_density_over_10K = county_df[county_df['Pop_Sq_Mile'] >= 10000]\n",
        "plt.figure(figsize=(16, 6))\n",
        "plt.hist(list(pop_density_over_10K.Pop_Sq_Mile), bins=9)\n",
        "plt.title('Histogram for County Population Densities of 10K Persons Per Square Mile', fontsize=16)\n",
        "plt.ticklabel_format(style='plain')\n",
        "plt.show()"
      ],
      "execution_count": null,
      "outputs": []
    },
    {
      "cell_type": "markdown",
      "metadata": {
        "id": "M_S8rpTtkJLB"
      },
      "source": [
        "---\n",
        "## Q3 - What counties in the US have the most confirmed cases of COVID-19?"
      ]
    },
    {
      "cell_type": "markdown",
      "metadata": {
        "id": "3Ve9q22k0SQW"
      },
      "source": [
        "### Q3.1 - Identify Counties with Highest Confirmed COVID Cases\n"
      ]
    },
    {
      "cell_type": "markdown",
      "metadata": {
        "id": "9mkTZE5k2SRZ"
      },
      "source": [
        "By Confirmed Cases (regardless of population or density)\n",
        "\n",
        "Determined by sorting the county dataframe by confirmed cases in descending order and saving the top 15 county records. "
      ]
    },
    {
      "cell_type": "code",
      "metadata": {
        "id": "zJOkbXmi2-6m"
      },
      "source": [
        "highest_cases_df = county_df.sort_values(by='Confirmed',ascending=False).head(15)\n",
        "most_cases_df = highest_cases_df[['Display_Name','Confirmed','Confirmed_Sq_Mile','Pop_Sq_Mile']]\n",
        "most_cases_df"
      ],
      "execution_count": null,
      "outputs": []
    },
    {
      "cell_type": "markdown",
      "metadata": {
        "id": "EjlAuqmX4Tc4"
      },
      "source": [
        "Show the top 15 counties with the most Confirmed COVID-19 Cases"
      ]
    },
    {
      "cell_type": "code",
      "metadata": {
        "id": "yYy3imG54OF2"
      },
      "source": [
        "plt.figure(figsize=(10, 6))\n",
        "#plt.ticklabel_format(style='plain')\n",
        "plt.xlabel('\\n'+'Confirmed COVID-19 Cases', fontsize=16)\n",
        "plt.ylabel('County' + '\\n', fontsize=16)\n",
        "plt.title('15 Counties with Most COVID-19 Cases', fontsize=20, va='bottom')\n",
        "plt.barh(most_cases_df['Display_Name'], most_cases_df['Confirmed'])\n",
        "plt.show()"
      ],
      "execution_count": null,
      "outputs": []
    },
    {
      "cell_type": "markdown",
      "metadata": {
        "id": "j8Lyd36x2ZjY"
      },
      "source": [
        "#### Q3.1.2 - Determined by sorting the county dataframe by confirmed cases per square mile in descending order and saving the top 15 county records. "
      ]
    },
    {
      "cell_type": "code",
      "metadata": {
        "id": "faArbAzE02oV"
      },
      "source": [
        "highest_case_rate_by_density_df = county_df.sort_values(by='Confirmed_Sq_Mile',ascending=False).head(15)\n",
        "highest_case_density_df = highest_case_rate_by_density_df[['Display_Name','Confirmed','Confirmed_Sq_Mile']]\n",
        "highest_case_density_df\n"
      ],
      "execution_count": null,
      "outputs": []
    },
    {
      "cell_type": "markdown",
      "metadata": {
        "id": "j0FaxAiqpQTs"
      },
      "source": [
        "### Q3.2 - Scatter plot of Confirmed Cases vs. County Popluations"
      ]
    },
    {
      "cell_type": "code",
      "metadata": {
        "id": "tRyRiaVPPu51"
      },
      "source": [
        "top_n = county_df.shape[0]\n",
        "\n",
        "# Set titles\n",
        "suptitle = 'US Counties'\n",
        "title = 'Confirmed Cases vs. Population'\n",
        "\n",
        "# Set list of Populations in millions\n",
        "x_list = [x / 1000000 for x in list(county_df.Population_2019.head(top_n))]\n",
        "x_label = '2019 Population' + '\\n' + '(in millions)'\n",
        "\n",
        "# Set list of Confirmed Cases in thousands\n",
        "y_list = [y / 1000 for y in list(county_df.Confirmed.head(top_n))]\n",
        "y_label = 'Confirmed COVID-19 Cases' + '\\n' + '(in thousands)'\n",
        "\n",
        "# Show the scatter plot\n",
        "scatter_plot(x_list, y_list, x_label, y_label, suptitle, title)"
      ],
      "execution_count": null,
      "outputs": []
    },
    {
      "cell_type": "markdown",
      "metadata": {
        "id": "avfEDjHepaa6"
      },
      "source": [
        "Data is bunched in lower left corner, so see if histogram charts give a better characterization of the data."
      ]
    },
    {
      "cell_type": "markdown",
      "metadata": {
        "id": "u1Rtm1pjK5aX"
      },
      "source": [
        "Show a scatter plot of confirmed cases for the top 10 most populated US counties"
      ]
    },
    {
      "cell_type": "code",
      "metadata": {
        "id": "KOvRUAxBolor"
      },
      "source": [
        "top_n = 10\n",
        "\n",
        "# Set titles\n",
        "suptitle = 'Top 10 Most Populated US Counties'\n",
        "title = 'Confirmed Cases vs. Population'\n",
        "\n",
        "# Set list of Populations in millions\n",
        "x_list = [x / 1000000 for x in list(county_df.Population_2019.head(top_n))]\n",
        "x_label = '2019 Population' + '\\n' + '(in millions)'\n",
        "\n",
        "# Set list of Confirmed Cases in thousands\n",
        "# y_list = list(ny_top10_df.Confirmed)\n",
        "y_list = [y / 1000 for y in list(county_df.Confirmed.head(top_n))]\n",
        "y_label = 'Confirmed COVID-19 Cases' + '\\n' + '(in thousands)'\n",
        "\n",
        "# Set annotations\n",
        "annotation_labels = county_df.County.head(top_n)\n",
        "\n",
        "# Show the scatter plot\n",
        "scatter_plot_with_labels(x_list, y_list, annotation_labels, x_label, y_label, suptitle, title)"
      ],
      "execution_count": null,
      "outputs": []
    },
    {
      "cell_type": "markdown",
      "metadata": {
        "id": "BFYYQB6NSbTo"
      },
      "source": [
        "Repeat without Outlier (Los Angeles) since its population skews the chart"
      ]
    },
    {
      "cell_type": "code",
      "metadata": {
        "id": "DDeVUS-tcI1h"
      },
      "source": [
        "top_n = 10\n",
        "\n",
        "# Set titles\n",
        "suptitle = 'Top 10 Most Populated US Counties (minus LA)'\n",
        "title = 'Confirmed Cases vs. Population'\n",
        "\n",
        "# Set list of Populations in millions\n",
        "x_list = [x / 1000000 for x in list(county_df.Population_2019[1:top_n+1])]\n",
        "x_label = '2019 Population' + '\\n' + '(in millions)'\n",
        "\n",
        "# Set list of Confirmed Cases in thousands\n",
        "# y_list = list(ny_top10_df.Confirmed)\n",
        "y_list = [y / 1000 for y in list(county_df.Confirmed[1:top_n+1])]\n",
        "y_label = 'Confirmed COVID-19 Cases' + '\\n' + '(in thousands)'\n",
        "\n",
        "# Set annotations\n",
        "annotation_labels = county_df.County[1:top_n+1]\n",
        "\n",
        "# Show the scatter plot\n",
        "scatter_plot_with_labels(x_list, y_list, annotation_labels, x_label, y_label, suptitle, title)"
      ],
      "execution_count": null,
      "outputs": []
    },
    {
      "cell_type": "markdown",
      "metadata": {
        "id": "yyG50HvDb9i6"
      },
      "source": [
        "Show this chart again using the '''plotyly''' package to show dynamic labels."
      ]
    },
    {
      "cell_type": "code",
      "metadata": {
        "id": "RR78JKlTSlne"
      },
      "source": [
        "top_n = 10\n",
        "\n",
        "# Set titles\n",
        "suptitle = 'Top 10 Most Populated US Counties (minus LA)'\n",
        "title = 'Confirmed Cases vs. Population'\n",
        "\n",
        "# Set list of Populations in millions\n",
        "x_list = [x / 1000000 for x in list(county_df.Population_2019[1:top_n+1])]\n",
        "\n",
        "# Set list of Confirmed Cases in thousands\n",
        "y_list = [y / 1000 for y in list(county_df.Confirmed[1:top_n+1])]\n",
        "\n",
        "pd.options.plotting.backend = \"plotly\"\n",
        "\n",
        "plt.figure(figsize=(14, 8))  # in inches   \n",
        "plt.xlabel('\\n'+ '2019 Population' + '\\n' + '(in millions)', fontsize=16)\n",
        "plt.ylabel('Confirmed COVID-19 Cases' + '\\n' + '(in thousands)' + '\\n', fontsize=16)\n",
        "plt.suptitle(suptitle, fontsize=20, va='bottom')\n",
        "plt.title(title  + '\\n', fontsize=18, va='center')\n",
        "plt.ticklabel_format(style='plain')\n",
        "\n",
        "plt.scatter(x_list, y_list, alpha=1., c=\"blue\", edgecolors='none')\n",
        "\n",
        "plt.show()"
      ],
      "execution_count": null,
      "outputs": []
    },
    {
      "cell_type": "markdown",
      "metadata": {
        "id": "-8imW2k8fwfo"
      },
      "source": [
        "***NOTE: ```plotly``` dynamic behavior doesn't seem to be working in Google Colab environment.***\n",
        "\n",
        "Reset default to ```matplotlib```"
      ]
    },
    {
      "cell_type": "markdown",
      "metadata": {
        "id": "JhyRQNKbqiJL"
      },
      "source": [
        "### Q3.3 - Scatter plot of Confirmed Cases vs. County Population Densities"
      ]
    },
    {
      "cell_type": "code",
      "metadata": {
        "id": "pFFdEie8qiJO"
      },
      "source": [
        "top_n = county_df.shape[0]\n",
        "\n",
        "# Set titles\n",
        "suptitle = 'US Counties'\n",
        "title = 'Confirmed Cases vs. Population Density'\n",
        "\n",
        "# Set list of Population Densities\n",
        "#x_list = [x for x in list(county_df.Pop_Sq_Mile.head(top_n))]\n",
        "x_list = list(county_df.Pop_Sq_Mile.head(top_n))\n",
        "x_label = 'Population per Square Mile' + '\\n'\n",
        "\n",
        "# Set list of Confirmed Cases in thousands\n",
        "# y_list = list(ny_top10_df.Confirmed)\n",
        "y_list = [y / 1000 for y in list(county_df.Confirmed.head(top_n))]\n",
        "y_label = 'Confirmed COVID-19 Cases' + '\\n' + '(in thousands)'\n",
        "\n",
        "# Show the scatter plot\n",
        "scatter_plot(x_list, y_list, x_label, y_label, suptitle, title)"
      ],
      "execution_count": null,
      "outputs": []
    },
    {
      "cell_type": "markdown",
      "metadata": {
        "id": "oFPmNJb1qiJR"
      },
      "source": [
        "Data is bunched in lower left corner, so see if histogram charts give a better characterization of the data."
      ]
    },
    {
      "cell_type": "code",
      "metadata": {
        "id": "huyFZWklfBdE"
      },
      "source": [
        "highest_case_rate_by_density_df = county_df.sort_values(by='Confirmed_Sq_Mile',ascending=False).head(15)\n",
        "highest_case_rate_by_density_df.head(10)"
      ],
      "execution_count": null,
      "outputs": []
    },
    {
      "cell_type": "markdown",
      "metadata": {
        "id": "pMzDZdD6snGC"
      },
      "source": [
        "### Q3.3 - Confirmed Cases Per Square Mile Versus Population Per Square Mile"
      ]
    },
    {
      "cell_type": "code",
      "metadata": {
        "id": "JsVYLDJW2aWu"
      },
      "source": [
        "# Create plot\n",
        "fig = plt.figure(figsize=(14,6))\n",
        "#ax = plt.gca()\n",
        "plt.scatter(county_df.Pop_Sq_Mile, county_df.Confirmed_Sq_Mile , alpha=0.3, c=\"blue\", edgecolors='none')\n",
        "#ax.set_yscale('log')\n",
        "#ax.set_xscale('log')\n",
        "plt.xlabel('Population Per Square Mile',fontsize=16)\n",
        "plt.ylabel('Confirmed COVID-19 Cases Per Square Mile',fontsize=16)\n",
        "plt.title('Confirmed Cases Per Square Mile vs. Population Per Square Mile',fontsize=18)\n",
        "plt.suptitle('US Counties',fontsize=20)\n",
        "#plt.legend(loc=2)#\n",
        "plt.show()"
      ],
      "execution_count": null,
      "outputs": []
    },
    {
      "cell_type": "code",
      "metadata": {
        "id": "O6xpBCYp9D0A"
      },
      "source": [
        "#county_df.hist(figsize=(14,10))"
      ],
      "execution_count": null,
      "outputs": []
    },
    {
      "cell_type": "code",
      "metadata": {
        "id": "OLx_ZNDW_O_Q"
      },
      "source": [
        "#county_df['Land_Area'].hist()"
      ],
      "execution_count": null,
      "outputs": []
    },
    {
      "cell_type": "markdown",
      "metadata": {
        "id": "vNZr0c2ekRdh"
      },
      "source": [
        "---\n",
        "## Q4 - Are the most densely populated counties the ones with the highest case counts? If not, which ones?"
      ]
    },
    {
      "cell_type": "markdown",
      "metadata": {
        "id": "Q0q-kuyTkbER"
      },
      "source": [
        "---\n",
        "## Q5 - How do case counts in densely populated counties compare to counts in counties with the highest rates of cases per million people? Is there a correlation?"
      ]
    },
    {
      "cell_type": "markdown",
      "metadata": {
        "id": "Q-gtG0vXgbM8"
      },
      "source": [
        "---\n",
        "## Special Look: New York\n",
        "New York is known to have had the worst outbreak early on in the OVID-19 crisis, so take a look at its most populated counties."
      ]
    },
    {
      "cell_type": "code",
      "metadata": {
        "id": "gSHxWC6VI43m"
      },
      "source": [
        "ny_top10_df = county_df[county_df.State=='NY'].head(10)\n",
        "ny_top10_df"
      ],
      "execution_count": null,
      "outputs": []
    },
    {
      "cell_type": "markdown",
      "metadata": {
        "id": "_gaYnBiOsG4b"
      },
      "source": [
        "#### Show a scatter plot of confirmed cases for the top 10 most populated NY counties "
      ]
    },
    {
      "cell_type": "code",
      "metadata": {
        "id": "LaRb-TbFLEOl"
      },
      "source": [
        "# Set titles\n",
        "suptitle = 'NY Counties'\n",
        "title = 'Confirmed Cases vs. Population'\n",
        "\n",
        "# Set list of Populations in millions\n",
        "x_list = [x / 1000000 for x in list(ny_top10_df.Population_2019)]\n",
        "x_label = '2019 Population' + '\\n' + '(in millions)'\n",
        "\n",
        "# Set list of Confirmed Cases in thousands\n",
        "# y_list = list(ny_top10_df.Confirmed)\n",
        "y_list = [y / 1000 for y in list(ny_top10_df.Confirmed)]\n",
        "y_label = 'Confirmed COVID-19 Cases' + '\\n' + '(in thousands)'\n",
        "\n",
        "# Set annotations\n",
        "annotation_labels = ny_top10_df.County\n",
        "\n",
        "# Show the scatter plot\n",
        "scatter_plot_with_labels(x_list, y_list, annotation_labels, x_label, y_label, suptitle, title)"
      ],
      "execution_count": null,
      "outputs": []
    },
    {
      "cell_type": "code",
      "metadata": {
        "id": "VtvrWBHahMn2"
      },
      "source": [
        "pd.options.plotting.backend = \"matplotlib\""
      ],
      "execution_count": null,
      "outputs": []
    },
    {
      "cell_type": "markdown",
      "metadata": {
        "id": "CJbTaRBjKvsI"
      },
      "source": [
        "# COMPLETE"
      ]
    },
    {
      "cell_type": "code",
      "metadata": {
        "id": "YJP6voy5g6yV"
      },
      "source": [
        "# Create plot\n",
        "fig = plt.figure(figsize=(14,6))\n",
        "#ax = plt.gca()\n",
        "plt.scatter(ny_top10_df.Population_2019, ny_top10_df.Confirmed, alpha=1.0, c=\"blue\", edgecolors='none')\n",
        "#ax.set_yscale('log')\n",
        "#ax.set_xscale('log')\n",
        "plt.xlabel('2019 Population',fontsize=16)\n",
        "plt.ylabel('Confirmed COVID-19 Cases',fontsize=16)\n",
        "plt.suptitle('NY Counties',fontsize=20)\n",
        "plt.title('Confirmed Cases vs. Population',fontsize=18)\n",
        "plt.show()"
      ],
      "execution_count": null,
      "outputs": []
    }
  ]
}