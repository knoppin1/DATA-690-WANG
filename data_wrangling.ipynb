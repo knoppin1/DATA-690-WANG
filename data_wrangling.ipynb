{
  "nbformat": 4,
  "nbformat_minor": 0,
  "metadata": {
    "colab": {
      "name": "data wrangling.ipynb",
      "provenance": [],
      "authorship_tag": "ABX9TyO4RWzQqn1IaZ2VPfITOKVf",
      "include_colab_link": true
    },
    "kernelspec": {
      "name": "python3",
      "display_name": "Python 3"
    }
  },
  "cells": [
    {
      "cell_type": "markdown",
      "metadata": {
        "id": "view-in-github",
        "colab_type": "text"
      },
      "source": [
        "<a href=\"https://colab.research.google.com/github/knoppin1/DATA-690-WANG/blob/master/data_wrangling.ipynb\" target=\"_parent\"><img src=\"https://colab.research.google.com/assets/colab-badge.svg\" alt=\"Open In Colab\"/></a>"
      ]
    },
    {
      "cell_type": "code",
      "metadata": {
        "id": "zVnWfDEFLqPW"
      },
      "source": [
        "line = \"|NumericFocus  3|PrePasses  8|Presolve  1|Threads  8|TuneTimeLimit  60|TuneResults  1|TuneCriterion  0|Original Runtime:0.06244611740112305New Runtime:0.09337711334228516\""
      ],
      "execution_count": 1,
      "outputs": []
    },
    {
      "cell_type": "code",
      "metadata": {
        "colab": {
          "base_uri": "https://localhost:8080/",
          "height": 53
        },
        "id": "7cBDHBsOLs4c",
        "outputId": "de36f9c5-8d99-4fa2-fbd6-6c5c7e78ee79"
      },
      "source": [
        "line"
      ],
      "execution_count": 2,
      "outputs": [
        {
          "output_type": "execute_result",
          "data": {
            "application/vnd.google.colaboratory.intrinsic+json": {
              "type": "string"
            },
            "text/plain": [
              "'|NumericFocus  3|PrePasses  8|Presolve  1|Threads  8|TuneTimeLimit  60|TuneResults  1|TuneCriterion  0|Original Runtime:0.06244611740112305New Runtime:0.09337711334228516'"
            ]
          },
          "metadata": {
            "tags": []
          },
          "execution_count": 2
        }
      ]
    },
    {
      "cell_type": "code",
      "metadata": {
        "colab": {
          "base_uri": "https://localhost:8080/"
        },
        "id": "OVoygsi5LvNT",
        "outputId": "a5ff68f9-a20a-4e27-d45e-eb2b4e999899"
      },
      "source": [
        "type(line)"
      ],
      "execution_count": 3,
      "outputs": [
        {
          "output_type": "execute_result",
          "data": {
            "text/plain": [
              "str"
            ]
          },
          "metadata": {
            "tags": []
          },
          "execution_count": 3
        }
      ]
    },
    {
      "cell_type": "code",
      "metadata": {
        "id": "iKcmZ3DnMIfs"
      },
      "source": [
        "items = line.split('|')"
      ],
      "execution_count": 6,
      "outputs": []
    },
    {
      "cell_type": "code",
      "metadata": {
        "colab": {
          "base_uri": "https://localhost:8080/"
        },
        "id": "kEXUicdFMXh7",
        "outputId": "a9e42a98-a228-4b98-8111-eae0dd459cda"
      },
      "source": [
        "items"
      ],
      "execution_count": 7,
      "outputs": [
        {
          "output_type": "execute_result",
          "data": {
            "text/plain": [
              "['',\n",
              " 'NumericFocus  3',\n",
              " 'PrePasses  8',\n",
              " 'Presolve  1',\n",
              " 'Threads  8',\n",
              " 'TuneTimeLimit  60',\n",
              " 'TuneResults  1',\n",
              " 'TuneCriterion  0',\n",
              " 'Original Runtime:0.06244611740112305New Runtime:0.09337711334228516']"
            ]
          },
          "metadata": {
            "tags": []
          },
          "execution_count": 7
        }
      ]
    },
    {
      "cell_type": "code",
      "metadata": {
        "colab": {
          "base_uri": "https://localhost:8080/"
        },
        "id": "aEOQVSMCMyuO",
        "outputId": "8689a05b-b731-49fa-bdf3-56ef71208970"
      },
      "source": [
        "len(items)"
      ],
      "execution_count": 9,
      "outputs": [
        {
          "output_type": "execute_result",
          "data": {
            "text/plain": [
              "9"
            ]
          },
          "metadata": {
            "tags": []
          },
          "execution_count": 9
        }
      ]
    },
    {
      "cell_type": "code",
      "metadata": {
        "colab": {
          "base_uri": "https://localhost:8080/",
          "height": 35
        },
        "id": "1zn0F32rNFQY",
        "outputId": "6c7120d7-2d75-4719-eacf-5e9148b7a53f"
      },
      "source": [
        "last_item = items[len(items)-1]\n",
        "last_item"
      ],
      "execution_count": 14,
      "outputs": [
        {
          "output_type": "execute_result",
          "data": {
            "application/vnd.google.colaboratory.intrinsic+json": {
              "type": "string"
            },
            "text/plain": [
              "'Original Runtime:0.06244611740112305New Runtime:0.09337711334228516'"
            ]
          },
          "metadata": {
            "tags": []
          },
          "execution_count": 14
        }
      ]
    },
    {
      "cell_type": "code",
      "metadata": {
        "colab": {
          "base_uri": "https://localhost:8080/"
        },
        "id": "PjpCzy3ONSBY",
        "outputId": "de859468-ad4a-4ffc-9e53-10abf35c2261"
      },
      "source": [
        "last_item.find(\"New\")"
      ],
      "execution_count": 15,
      "outputs": [
        {
          "output_type": "execute_result",
          "data": {
            "text/plain": [
              "36"
            ]
          },
          "metadata": {
            "tags": []
          },
          "execution_count": 15
        }
      ]
    },
    {
      "cell_type": "code",
      "metadata": {
        "colab": {
          "base_uri": "https://localhost:8080/",
          "height": 35
        },
        "id": "mKpMwWNRNyxY",
        "outputId": "69acedd7-88bf-4bc0-eeb7-50a85865e9cb"
      },
      "source": [
        "part_1 = last_item[:36]\n",
        "part_1"
      ],
      "execution_count": 18,
      "outputs": [
        {
          "output_type": "execute_result",
          "data": {
            "application/vnd.google.colaboratory.intrinsic+json": {
              "type": "string"
            },
            "text/plain": [
              "'Original Runtime:0.06244611740112305'"
            ]
          },
          "metadata": {
            "tags": []
          },
          "execution_count": 18
        }
      ]
    },
    {
      "cell_type": "code",
      "metadata": {
        "colab": {
          "base_uri": "https://localhost:8080/",
          "height": 35
        },
        "id": "_OajQWGNOJoY",
        "outputId": "e9b1b550-0155-458d-f262-404247e56c56"
      },
      "source": [
        "part_2 = last_item[36:]\n",
        "part_2"
      ],
      "execution_count": 20,
      "outputs": [
        {
          "output_type": "execute_result",
          "data": {
            "application/vnd.google.colaboratory.intrinsic+json": {
              "type": "string"
            },
            "text/plain": [
              "'New Runtime:0.09337711334228516'"
            ]
          },
          "metadata": {
            "tags": []
          },
          "execution_count": 20
        }
      ]
    },
    {
      "cell_type": "code",
      "metadata": {
        "colab": {
          "base_uri": "https://localhost:8080/",
          "height": 35
        },
        "id": "dn6mYzogO6bO",
        "outputId": "613008ac-7f7d-4981-a711-ddacbfddca8b"
      },
      "source": [
        "part_1 + '|' + part_2"
      ],
      "execution_count": 21,
      "outputs": [
        {
          "output_type": "execute_result",
          "data": {
            "application/vnd.google.colaboratory.intrinsic+json": {
              "type": "string"
            },
            "text/plain": [
              "'Original Runtime:0.06244611740112305|New Runtime:0.09337711334228516'"
            ]
          },
          "metadata": {
            "tags": []
          },
          "execution_count": 21
        }
      ]
    },
    {
      "cell_type": "code",
      "metadata": {
        "colab": {
          "base_uri": "https://localhost:8080/",
          "height": 35
        },
        "id": "j2g8OXr9PGYL",
        "outputId": "24e46cf1-fdbc-4a21-9307-c08e317253e7"
      },
      "source": [
        "orig_time = part_1.split(\":\")[1]\n",
        "orig_time"
      ],
      "execution_count": 27,
      "outputs": [
        {
          "output_type": "execute_result",
          "data": {
            "application/vnd.google.colaboratory.intrinsic+json": {
              "type": "string"
            },
            "text/plain": [
              "'0.06244611740112305'"
            ]
          },
          "metadata": {
            "tags": []
          },
          "execution_count": 27
        }
      ]
    },
    {
      "cell_type": "code",
      "metadata": {
        "colab": {
          "base_uri": "https://localhost:8080/",
          "height": 35
        },
        "id": "Y0X87YFtPvYO",
        "outputId": "a255633e-d734-4950-ae81-da51daae85ba"
      },
      "source": [
        "new_time = part_2.split(\":\")[1]\n",
        "new_time"
      ],
      "execution_count": 28,
      "outputs": [
        {
          "output_type": "execute_result",
          "data": {
            "application/vnd.google.colaboratory.intrinsic+json": {
              "type": "string"
            },
            "text/plain": [
              "'0.09337711334228516'"
            ]
          },
          "metadata": {
            "tags": []
          },
          "execution_count": 28
        }
      ]
    },
    {
      "cell_type": "code",
      "metadata": {
        "colab": {
          "base_uri": "https://localhost:8080/"
        },
        "id": "pzUGXpaCP1Re",
        "outputId": "7d2098af-0e6e-40f5-f942-7e3607999cdd"
      },
      "source": [
        "diff = float(orig_time) - float(new_time)\n",
        "diff"
      ],
      "execution_count": 29,
      "outputs": [
        {
          "output_type": "execute_result",
          "data": {
            "text/plain": [
              "-0.03093099594116211"
            ]
          },
          "metadata": {
            "tags": []
          },
          "execution_count": 29
        }
      ]
    },
    {
      "cell_type": "code",
      "metadata": {
        "id": "rAhugyUJP8J6"
      },
      "source": [
        ""
      ],
      "execution_count": null,
      "outputs": []
    }
  ]
}