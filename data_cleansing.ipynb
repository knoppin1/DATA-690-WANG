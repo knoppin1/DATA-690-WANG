{
  "nbformat": 4,
  "nbformat_minor": 0,
  "metadata": {
    "colab": {
      "name": "data_cleansing.ipynb",
      "provenance": [],
      "authorship_tag": "ABX9TyMHiwyDpdPiQWmyDGcAXPOC",
      "include_colab_link": true
    },
    "kernelspec": {
      "name": "python3",
      "display_name": "Python 3"
    }
  },
  "cells": [
    {
      "cell_type": "markdown",
      "metadata": {
        "id": "view-in-github",
        "colab_type": "text"
      },
      "source": [
        "<a href=\"https://colab.research.google.com/github/knoppin1/DATA-690-WANG/blob/master/data_cleansing.ipynb\" target=\"_parent\"><img src=\"https://colab.research.google.com/assets/colab-badge.svg\" alt=\"Open In Colab\"/></a>"
      ]
    },
    {
      "cell_type": "markdown",
      "metadata": {
        "id": "lLcsx0YoK4cu"
      },
      "source": [
        "# Ken Noppinger\n",
        "\n",
        "In-class Exercise\n",
        "\n",
        "Nov. 19, 2020"
      ]
    },
    {
      "cell_type": "code",
      "metadata": {
        "id": "ztbI9SMDEZQy"
      },
      "source": [
        "text = \"12XY#$weare&!-\""
      ],
      "execution_count": 2,
      "outputs": []
    },
    {
      "cell_type": "code",
      "metadata": {
        "colab": {
          "base_uri": "https://localhost:8080/"
        },
        "id": "d58x-gjiEbDG",
        "outputId": "d19b466c-e264-4715-c23c-9697215faada"
      },
      "source": [
        "char_list = []\n",
        "numbers = ['1','2','3', '4', '5', '6', '7', '8', '9', '0']\n",
        "upper_chars = ['A', 'B', 'C', 'D', 'E', 'F', 'G', 'H', 'I', 'J', 'K', 'L', 'M', 'N', 'O', 'P', 'Q', 'R', 'S', 'T', 'U', 'V', 'W', 'X', 'Y', 'Z']\n",
        "lower_chars = ['a', 'b', 'c', 'd', 'e', 'f', 'g', 'h', 'i', 'j', 'k', 'l', 'm', 'n', 'o', 'p', 'q', 'r', 's', 't', 'u', 'v', 'w', 'x', 'y', 'z']\n",
        "for c in text:\n",
        "    if c in numbers or c in upper_chars or c in lower_chars:\n",
        "        char_list.append(c)\n",
        "clean_text"
      ],
      "execution_count": 8,
      "outputs": [
        {
          "output_type": "execute_result",
          "data": {
            "text/plain": [
              "['1', '2', 'X', 'Y', 'w', 'e', 'a', 'r', 'e']"
            ]
          },
          "metadata": {
            "tags": []
          },
          "execution_count": 8
        }
      ]
    },
    {
      "cell_type": "code",
      "metadata": {
        "colab": {
          "base_uri": "https://localhost:8080/",
          "height": 34
        },
        "id": "QcWE_SAjE92X",
        "outputId": "8e0b6d20-2233-4a4f-e74c-71e4ff2067fd"
      },
      "source": [
        "new_text = \"\".join(char_list)\n",
        "new_text"
      ],
      "execution_count": 10,
      "outputs": [
        {
          "output_type": "execute_result",
          "data": {
            "application/vnd.google.colaboratory.intrinsic+json": {
              "type": "string"
            },
            "text/plain": [
              "'12XYweare'"
            ]
          },
          "metadata": {
            "tags": []
          },
          "execution_count": 10
        }
      ]
    },
    {
      "cell_type": "code",
      "metadata": {
        "colab": {
          "base_uri": "https://localhost:8080/",
          "height": 34
        },
        "id": "cuz2SSZoFlJd",
        "outputId": "72c88c77-5589-4db2-ee99-e2d160ca9b84"
      },
      "source": [
        "numbers = ['1','2','3', '4', '5', '6', '7', '8', '9', '0']\n",
        "upper_chars = ['A', 'B', 'C', 'D', 'E', 'F', 'G', 'H', 'I', 'J', 'K', 'L', 'M', 'N', 'O', 'P', 'Q', 'R', 'S', 'T', 'U', 'V', 'W', 'X', 'Y', 'Z']\n",
        "lower_chars = ['a', 'b', 'c', 'd', 'e', 'f', 'g', 'h', 'i', 'j', 'k', 'l', 'm', 'n', 'o', 'p', 'q', 'r', 's', 't', 'u', 'v', 'w', 'x', 'y', 'z']\n",
        "char_list = [c for c in text if  c in numbers or c in upper_chars or c in lower_chars]\n",
        "new_text = \"\".join(char_list)\n",
        "new_text"
      ],
      "execution_count": 12,
      "outputs": [
        {
          "output_type": "execute_result",
          "data": {
            "application/vnd.google.colaboratory.intrinsic+json": {
              "type": "string"
            },
            "text/plain": [
              "'12XYweare'"
            ]
          },
          "metadata": {
            "tags": []
          },
          "execution_count": 12
        }
      ]
    },
    {
      "cell_type": "code",
      "metadata": {
        "colab": {
          "base_uri": "https://localhost:8080/",
          "height": 34
        },
        "id": "iMJ_e6rhF2xa",
        "outputId": "caa6f2b6-1e26-447f-86f1-4f7b520d3d4d"
      },
      "source": [
        "text = \"12XY#$weare&!-\"\n",
        "new_text = \"\"\n",
        "char_list = []\n",
        "for c in text:\n",
        "    if c.isalnum():\n",
        "        new_text += c\n",
        "new_text"
      ],
      "execution_count": 26,
      "outputs": [
        {
          "output_type": "execute_result",
          "data": {
            "application/vnd.google.colaboratory.intrinsic+json": {
              "type": "string"
            },
            "text/plain": [
              "'12XYweare'"
            ]
          },
          "metadata": {
            "tags": []
          },
          "execution_count": 26
        }
      ]
    },
    {
      "cell_type": "code",
      "metadata": {
        "colab": {
          "base_uri": "https://localhost:8080/",
          "height": 34
        },
        "id": "i55HalDQGX02",
        "outputId": "478e87d2-bf6a-4258-d17e-5ae5828cc5a9"
      },
      "source": [
        "import string\n",
        "numbers = ['1','2','3', '4', '5', '6', '7', '8', '9', '0']\n",
        "numbers = [str(i) for i in range(10)]\n",
        "upper_chars = string.ascii_uppercase\n",
        "lower_chars = string.ascii_lowercase\n",
        "char_list = [c for c in text if  c in numbers or c in upper_chars or c in lower_chars]\n",
        "new_text = \"\".join(char_list)\n",
        "new_text"
      ],
      "execution_count": 19,
      "outputs": [
        {
          "output_type": "execute_result",
          "data": {
            "application/vnd.google.colaboratory.intrinsic+json": {
              "type": "string"
            },
            "text/plain": [
              "'12XYweare'"
            ]
          },
          "metadata": {
            "tags": []
          },
          "execution_count": 19
        }
      ]
    },
    {
      "cell_type": "code",
      "metadata": {
        "colab": {
          "base_uri": "https://localhost:8080/",
          "height": 34
        },
        "id": "WDDHl-T0I2iL",
        "outputId": "43008483-af74-4fa1-fb9b-1e13acc60cdd"
      },
      "source": [
        "new_text = [x for x in text if x.isalpha() or x.isdigit()]\n",
        "new_text = \"\".join(new_text)\n",
        "new_text"
      ],
      "execution_count": 24,
      "outputs": [
        {
          "output_type": "execute_result",
          "data": {
            "application/vnd.google.colaboratory.intrinsic+json": {
              "type": "string"
            },
            "text/plain": [
              "'12XYweare'"
            ]
          },
          "metadata": {
            "tags": []
          },
          "execution_count": 24
        }
      ]
    },
    {
      "cell_type": "code",
      "metadata": {
        "id": "JhcYxj6IJ_Jv"
      },
      "source": [
        "def alpha_fil(a_string):\n",
        "    if a_string == None:\n",
        "        ret_string = a_string\n",
        "    else:\n",
        "        alphanumeric_filter = filter(str.isalnum, a_string)\n",
        "        ret_string = \"\".join(alphanumeric_filter)\n",
        "        print(ret_string)\n",
        "    return ret_string"
      ],
      "execution_count": 37,
      "outputs": []
    },
    {
      "cell_type": "code",
      "metadata": {
        "colab": {
          "base_uri": "https://localhost:8080/",
          "height": 52
        },
        "id": "l6_6lmyWKN9O",
        "outputId": "9fdf4258-cef2-4fcf-f559-79b6605fd1ac"
      },
      "source": [
        "alpha_fil(text)"
      ],
      "execution_count": 38,
      "outputs": [
        {
          "output_type": "stream",
          "text": [
            "12XYweare\n"
          ],
          "name": "stdout"
        },
        {
          "output_type": "execute_result",
          "data": {
            "application/vnd.google.colaboratory.intrinsic+json": {
              "type": "string"
            },
            "text/plain": [
              "'12XYweare'"
            ]
          },
          "metadata": {
            "tags": []
          },
          "execution_count": 38
        }
      ]
    },
    {
      "cell_type": "code",
      "metadata": {
        "colab": {
          "base_uri": "https://localhost:8080/",
          "height": 202
        },
        "id": "NaBdptJQIE7G",
        "outputId": "fc94626c-4880-4bba-bbf9-ce89b59f503c"
      },
      "source": [
        "import pandas as pd\n",
        "data = {\"sample_text\": [\"123DVE%$-\", None, \"werwrewr132324##$rtet^^\",None, \"greg*I&(^1236%^^%&32r4f3e2\"]}\n",
        "df = pd.DataFrame(data)\n",
        "df"
      ],
      "execution_count": 39,
      "outputs": [
        {
          "output_type": "execute_result",
          "data": {
            "text/html": [
              "<div>\n",
              "<style scoped>\n",
              "    .dataframe tbody tr th:only-of-type {\n",
              "        vertical-align: middle;\n",
              "    }\n",
              "\n",
              "    .dataframe tbody tr th {\n",
              "        vertical-align: top;\n",
              "    }\n",
              "\n",
              "    .dataframe thead th {\n",
              "        text-align: right;\n",
              "    }\n",
              "</style>\n",
              "<table border=\"1\" class=\"dataframe\">\n",
              "  <thead>\n",
              "    <tr style=\"text-align: right;\">\n",
              "      <th></th>\n",
              "      <th>sample_text</th>\n",
              "    </tr>\n",
              "  </thead>\n",
              "  <tbody>\n",
              "    <tr>\n",
              "      <th>0</th>\n",
              "      <td>123DVE%$-</td>\n",
              "    </tr>\n",
              "    <tr>\n",
              "      <th>1</th>\n",
              "      <td>None</td>\n",
              "    </tr>\n",
              "    <tr>\n",
              "      <th>2</th>\n",
              "      <td>werwrewr132324##$rtet^^</td>\n",
              "    </tr>\n",
              "    <tr>\n",
              "      <th>3</th>\n",
              "      <td>None</td>\n",
              "    </tr>\n",
              "    <tr>\n",
              "      <th>4</th>\n",
              "      <td>greg*I&amp;(^1236%^^%&amp;32r4f3e2</td>\n",
              "    </tr>\n",
              "  </tbody>\n",
              "</table>\n",
              "</div>"
            ],
            "text/plain": [
              "                  sample_text\n",
              "0                   123DVE%$-\n",
              "1                        None\n",
              "2     werwrewr132324##$rtet^^\n",
              "3                        None\n",
              "4  greg*I&(^1236%^^%&32r4f3e2"
            ]
          },
          "metadata": {
            "tags": []
          },
          "execution_count": 39
        }
      ]
    },
    {
      "cell_type": "code",
      "metadata": {
        "colab": {
          "base_uri": "https://localhost:8080/"
        },
        "id": "33RRzbIeJztH",
        "outputId": "2ca63d3b-e29b-4366-f7da-c76ccade149f"
      },
      "source": [
        "df[\"transformed\"] = df[\"sample_text\"].apply(alpha_fil)"
      ],
      "execution_count": 40,
      "outputs": [
        {
          "output_type": "stream",
          "text": [
            "123DVE\n",
            "werwrewr132324rtet\n",
            "gregI123632r4f3e2\n"
          ],
          "name": "stdout"
        }
      ]
    },
    {
      "cell_type": "code",
      "metadata": {
        "colab": {
          "base_uri": "https://localhost:8080/",
          "height": 202
        },
        "id": "B6tJb9cMKjAH",
        "outputId": "ce0530c1-bdf3-402c-9452-f802e294ea8f"
      },
      "source": [
        "df"
      ],
      "execution_count": 41,
      "outputs": [
        {
          "output_type": "execute_result",
          "data": {
            "text/html": [
              "<div>\n",
              "<style scoped>\n",
              "    .dataframe tbody tr th:only-of-type {\n",
              "        vertical-align: middle;\n",
              "    }\n",
              "\n",
              "    .dataframe tbody tr th {\n",
              "        vertical-align: top;\n",
              "    }\n",
              "\n",
              "    .dataframe thead th {\n",
              "        text-align: right;\n",
              "    }\n",
              "</style>\n",
              "<table border=\"1\" class=\"dataframe\">\n",
              "  <thead>\n",
              "    <tr style=\"text-align: right;\">\n",
              "      <th></th>\n",
              "      <th>sample_text</th>\n",
              "      <th>transformed</th>\n",
              "    </tr>\n",
              "  </thead>\n",
              "  <tbody>\n",
              "    <tr>\n",
              "      <th>0</th>\n",
              "      <td>123DVE%$-</td>\n",
              "      <td>123DVE</td>\n",
              "    </tr>\n",
              "    <tr>\n",
              "      <th>1</th>\n",
              "      <td>None</td>\n",
              "      <td>None</td>\n",
              "    </tr>\n",
              "    <tr>\n",
              "      <th>2</th>\n",
              "      <td>werwrewr132324##$rtet^^</td>\n",
              "      <td>werwrewr132324rtet</td>\n",
              "    </tr>\n",
              "    <tr>\n",
              "      <th>3</th>\n",
              "      <td>None</td>\n",
              "      <td>None</td>\n",
              "    </tr>\n",
              "    <tr>\n",
              "      <th>4</th>\n",
              "      <td>greg*I&amp;(^1236%^^%&amp;32r4f3e2</td>\n",
              "      <td>gregI123632r4f3e2</td>\n",
              "    </tr>\n",
              "  </tbody>\n",
              "</table>\n",
              "</div>"
            ],
            "text/plain": [
              "                  sample_text         transformed\n",
              "0                   123DVE%$-              123DVE\n",
              "1                        None                None\n",
              "2     werwrewr132324##$rtet^^  werwrewr132324rtet\n",
              "3                        None                None\n",
              "4  greg*I&(^1236%^^%&32r4f3e2   gregI123632r4f3e2"
            ]
          },
          "metadata": {
            "tags": []
          },
          "execution_count": 41
        }
      ]
    },
    {
      "cell_type": "code",
      "metadata": {
        "id": "6fPwgYaEKta0"
      },
      "source": [
        ""
      ],
      "execution_count": null,
      "outputs": []
    }
  ]
}